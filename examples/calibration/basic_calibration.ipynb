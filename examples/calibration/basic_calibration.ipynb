{
 "cells": [
  {
   "cell_type": "markdown",
   "metadata": {},
   "source": [
    "### Introduction\n",
    "\n",
    "The objective of this example is to run the basic calibration steps on raw frames.\n",
    "By the end of this example, we will know how to:\n",
    "\n",
    "- Pre-process raw frames to remove the overscan section and extract the science section\n",
    "- Remove cosmic rays from individual frames using the L.A. algorithm (Van Dokkum+2005)\n",
    "- Produce calibrated bias, dark and pixelflat frames\n",
    "\n",
    "Let's start with some imports and function definitions"
   ]
  },
  {
   "cell_type": "code",
   "execution_count": 1,
   "metadata": {
    "tags": []
   },
   "outputs": [
    {
     "name": "stderr",
     "output_type": "stream",
     "text": [
      "/home/mejia/Downloads/home/mejia/.local/bin/miniconda3/envs/lvmdrp/lib/python3.8/site-packages/rascal/calibrator.py:9: TqdmExperimentalWarning: Using `tqdm.autonotebook.tqdm` in notebook mode. Use `tqdm.tqdm` instead to force console mode (e.g. in jupyter console)\n",
      "  from tqdm.autonotebook import tqdm\n"
     ]
    }
   ],
   "source": [
    "import os\n",
    "\n",
    "from lvmdrp.core.constants import LVM_UNAM_URL\n",
    "from lvmdrp.utils.examples import GAINS, RDNOISES\n",
    "from lvmdrp.utils.examples import fetch_example_data, get_frames_metadata\n",
    "\n",
    "from lvmdrp.functions import imageMethod"
   ]
  },
  {
   "cell_type": "markdown",
   "metadata": {
    "tags": []
   },
   "source": [
    "### Downloading 2D simulations\n",
    "\n",
    "Before we begin, we need to:\n",
    "- Define paths to input and output data\n",
    "- Download some data to run through the pipeline\n",
    "\n",
    "In this case, we'll download 2D simulated data."
   ]
  },
  {
   "cell_type": "code",
   "execution_count": 2,
   "metadata": {
    "tags": []
   },
   "outputs": [
    {
     "name": "stdout",
     "output_type": "stream",
     "text": [
      "\u001b[0;34m[INFO]: \u001b[0mexample data already exists\n"
     ]
    }
   ],
   "source": [
    "# define input data directory\n",
    "data_path = os.path.abspath(os.path.join(\"..\", \"data\"))\n",
    "\n",
    "# let's create the output directory\n",
    "output_path = \"./data\"\n",
    "os.makedirs(output_path, exist_ok=True)\n",
    "\n",
    "# create processed frames path template\n",
    "out_path = os.path.join(output_path, \"lvm-{kind}-{camera}-{expnum}.{ext}\")\n",
    "mpixelfiber_path = os.path.join(output_path, \"lvm-mpixelflat-{camera}.{ext}\")\n",
    "\n",
    "# now we download the example data\n",
    "fetch_example_data(url=LVM_UNAM_URL, name=\"sim_2d\", dest_path=data_path)"
   ]
  },
  {
   "cell_type": "markdown",
   "metadata": {},
   "source": [
    "In order to organize our simulated data and target specific type of frames better,\n",
    "we extract relevant metadata from the frames and group them by image type, camera\n",
    "and exposure time."
   ]
  },
  {
   "cell_type": "code",
   "execution_count": 3,
   "metadata": {
    "tags": []
   },
   "outputs": [
    {
     "name": "stdout",
     "output_type": "stream",
     "text": [
      "\u001b[0;34m[INFO]: \u001b[0mloading cached metadata from '/home/mejia/Research/UNAM/lvm-drp/lvmdrp/examples/data/sim_2d/frames_table.pkl'\n"
     ]
    }
   ],
   "source": [
    "# extract metadata\n",
    "frames_table = get_frames_metadata(path=os.path.join(data_path, \"sim_2d\"))\n",
    "# group by imagetyp, camera and exptime\n",
    "frames_table = frames_table.group_by([\"imagetyp\", \"spec\", \"camera\", \"expnum\", \"exptime\"])\n",
    "# define groups and unique categories in those groups\n",
    "frames_groups = frames_table.groups\n",
    "unique_groups = frames_groups.keys"
   ]
  },
  {
   "cell_type": "markdown",
   "metadata": {},
   "source": [
    "We will start by processing calibration frames: bias, dark and pixelflats\n",
    "\n",
    "Let's start with the biases for the blue channel of spectrograph #1..."
   ]
  },
  {
   "cell_type": "code",
   "execution_count": 4,
   "metadata": {
    "tags": []
   },
   "outputs": [
    {
     "name": "stdout",
     "output_type": "stream",
     "text": [
      "imagetyp spec camera  expnum  exptime                                          path                                        \n",
      "-------- ---- ------ -------- ------- -------------------------------------------------------------------------------------\n",
      "    bias  sp1     b1 00000101    0.14 /home/mejia/Research/UNAM/lvm-drp/lvmdrp/examples/data/sim_2d/sdR-b1-00000101.fits.gz\n",
      "    bias  sp1     b1 00000102    0.14 /home/mejia/Research/UNAM/lvm-drp/lvmdrp/examples/data/sim_2d/sdR-b1-00000102.fits.gz\n",
      "    bias  sp1     b1 00000103    0.14 /home/mejia/Research/UNAM/lvm-drp/lvmdrp/examples/data/sim_2d/sdR-b1-00000103.fits.gz\n",
      "    bias  sp1     b1 00000104    0.14 /home/mejia/Research/UNAM/lvm-drp/lvmdrp/examples/data/sim_2d/sdR-b1-00000104.fits.gz\n",
      "    bias  sp1     b1 00000105    0.14 /home/mejia/Research/UNAM/lvm-drp/lvmdrp/examples/data/sim_2d/sdR-b1-00000105.fits.gz\n",
      "    bias  sp1     b1 00000106    0.14 /home/mejia/Research/UNAM/lvm-drp/lvmdrp/examples/data/sim_2d/sdR-b1-00000106.fits.gz\n",
      "    bias  sp1     b1 00000107    0.14 /home/mejia/Research/UNAM/lvm-drp/lvmdrp/examples/data/sim_2d/sdR-b1-00000107.fits.gz\n",
      "    bias  sp1     b1 00000108    0.14 /home/mejia/Research/UNAM/lvm-drp/lvmdrp/examples/data/sim_2d/sdR-b1-00000108.fits.gz\n",
      "    bias  sp1     b1 00000109    0.14 /home/mejia/Research/UNAM/lvm-drp/lvmdrp/examples/data/sim_2d/sdR-b1-00000109.fits.gz\n",
      "    bias  sp1     b1 00000110    0.14 /home/mejia/Research/UNAM/lvm-drp/lvmdrp/examples/data/sim_2d/sdR-b1-00000110.fits.gz\n",
      "imagetyp spec camera  expnum  exptime                                          path                                        \n",
      "-------- ---- ------ -------- ------- -------------------------------------------------------------------------------------\n",
      "    bias  sp1     r1 00000101    0.14 /home/mejia/Research/UNAM/lvm-drp/lvmdrp/examples/data/sim_2d/sdR-r1-00000101.fits.gz\n",
      "    bias  sp1     r1 00000102    0.14 /home/mejia/Research/UNAM/lvm-drp/lvmdrp/examples/data/sim_2d/sdR-r1-00000102.fits.gz\n",
      "    bias  sp1     r1 00000103    0.14 /home/mejia/Research/UNAM/lvm-drp/lvmdrp/examples/data/sim_2d/sdR-r1-00000103.fits.gz\n",
      "    bias  sp1     r1 00000104    0.14 /home/mejia/Research/UNAM/lvm-drp/lvmdrp/examples/data/sim_2d/sdR-r1-00000104.fits.gz\n",
      "    bias  sp1     r1 00000105    0.14 /home/mejia/Research/UNAM/lvm-drp/lvmdrp/examples/data/sim_2d/sdR-r1-00000105.fits.gz\n",
      "    bias  sp1     r1 00000106    0.14 /home/mejia/Research/UNAM/lvm-drp/lvmdrp/examples/data/sim_2d/sdR-r1-00000106.fits.gz\n",
      "    bias  sp1     r1 00000107    0.14 /home/mejia/Research/UNAM/lvm-drp/lvmdrp/examples/data/sim_2d/sdR-r1-00000107.fits.gz\n",
      "    bias  sp1     r1 00000108    0.14 /home/mejia/Research/UNAM/lvm-drp/lvmdrp/examples/data/sim_2d/sdR-r1-00000108.fits.gz\n",
      "    bias  sp1     r1 00000109    0.14 /home/mejia/Research/UNAM/lvm-drp/lvmdrp/examples/data/sim_2d/sdR-r1-00000109.fits.gz\n",
      "    bias  sp1     r1 00000110    0.14 /home/mejia/Research/UNAM/lvm-drp/lvmdrp/examples/data/sim_2d/sdR-r1-00000110.fits.gz\n",
      "\u001b[1;33m[WARNING]: \u001b[0m\u001b[0;39minvalid value encountered in divide\u001b[0m \u001b[0;36m(RuntimeWarning)\u001b[0m\n",
      "imagetyp spec camera  expnum  exptime                                          path                                        \n",
      "-------- ---- ------ -------- ------- -------------------------------------------------------------------------------------\n",
      "    bias  sp1     z1 00000101    0.14 /home/mejia/Research/UNAM/lvm-drp/lvmdrp/examples/data/sim_2d/sdR-z1-00000101.fits.gz\n",
      "    bias  sp1     z1 00000102    0.14 /home/mejia/Research/UNAM/lvm-drp/lvmdrp/examples/data/sim_2d/sdR-z1-00000102.fits.gz\n",
      "    bias  sp1     z1 00000103    0.14 /home/mejia/Research/UNAM/lvm-drp/lvmdrp/examples/data/sim_2d/sdR-z1-00000103.fits.gz\n",
      "    bias  sp1     z1 00000104    0.14 /home/mejia/Research/UNAM/lvm-drp/lvmdrp/examples/data/sim_2d/sdR-z1-00000104.fits.gz\n",
      "    bias  sp1     z1 00000105    0.14 /home/mejia/Research/UNAM/lvm-drp/lvmdrp/examples/data/sim_2d/sdR-z1-00000105.fits.gz\n",
      "    bias  sp1     z1 00000106    0.14 /home/mejia/Research/UNAM/lvm-drp/lvmdrp/examples/data/sim_2d/sdR-z1-00000106.fits.gz\n",
      "    bias  sp1     z1 00000107    0.14 /home/mejia/Research/UNAM/lvm-drp/lvmdrp/examples/data/sim_2d/sdR-z1-00000107.fits.gz\n",
      "    bias  sp1     z1 00000108    0.14 /home/mejia/Research/UNAM/lvm-drp/lvmdrp/examples/data/sim_2d/sdR-z1-00000108.fits.gz\n",
      "    bias  sp1     z1 00000109    0.14 /home/mejia/Research/UNAM/lvm-drp/lvmdrp/examples/data/sim_2d/sdR-z1-00000109.fits.gz\n",
      "    bias  sp1     z1 00000110    0.14 /home/mejia/Research/UNAM/lvm-drp/lvmdrp/examples/data/sim_2d/sdR-z1-00000110.fits.gz\n"
     ]
    }
   ],
   "source": [
    "# OK, biases have exptime != 0 for some reason...\n",
    "cameras = [\"b\", \"r\", \"z\"]\n",
    "spec = 1\n",
    "for camera in cameras:\n",
    "    biases = frames_groups[(unique_groups[\"imagetyp\"]==\"bias\")&(unique_groups[\"spec\"]==f\"sp{spec}\")&(unique_groups[\"camera\"]==f\"{camera}{spec}\")]\n",
    "    print(biases)\n",
    "\n",
    "    # let's pre-process the all bias frames\n",
    "    pbias_paths = []\n",
    "    for bias_frame in biases:\n",
    "        bias_path = bias_frame[\"path\"]\n",
    "        bias_camera, bias_expnum = bias_frame[\"camera\"], bias_frame[\"expnum\"]\n",
    "\n",
    "        pbias_path = out_path.format(kind=\"pbias\", camera=bias_camera, expnum=bias_expnum, ext=\"fits\")\n",
    "\n",
    "        gains = \",\".join(map(str, GAINS[camera]))\n",
    "        rdnoises = \",\".join(map(str, RDNOISES[camera]))\n",
    "        imageMethod.preprocRawFrame_drp(\n",
    "            in_image=bias_path,\n",
    "            out_image=pbias_path,\n",
    "            subtract_overscan=False, unit=\"e-\", compute_error=True,\n",
    "            assume_imagetyp=\"flatfield\", assume_gain=gains, assume_rdnoise=rdnoises\n",
    "        )\n",
    "        pbias_paths.append(pbias_path)\n",
    "\n",
    "    mpixelflat_path = os.path.join(output_path, f\"lvm-mpixelflat-{bias_camera}.fits\")\n",
    "    imageMethod.createMasterFrame_drp(\n",
    "        in_images=pbias_paths,\n",
    "        out_image=mpixelflat_path.format(camera=bias_camera, ext=\"fits\"),\n",
    "    )\n",
    "    imageMethod.basicCalibration_drp(\n",
    "        in_image=mpixelflat_path.format(camera=bias_camera, ext=\"fits\"),\n",
    "        out_image=mpixelflat_path.format(camera=bias_camera, ext=\"fits\")\n",
    "    )"
   ]
  },
  {
   "cell_type": "code",
   "execution_count": 5,
   "metadata": {
    "tags": []
   },
   "outputs": [
    {
     "name": "stdout",
     "output_type": "stream",
     "text": [
      "imagetyp spec camera  expnum  exptime                                          path                                        \n",
      "-------- ---- ------ -------- ------- -------------------------------------------------------------------------------------\n",
      "    flat  sp1     b1 00001002   10.14 /home/mejia/Research/UNAM/lvm-drp/lvmdrp/examples/data/sim_2d/sdR-b1-00001002.fits.gz\n",
      "    flat  sp1     r1 00001002   10.14 /home/mejia/Research/UNAM/lvm-drp/lvmdrp/examples/data/sim_2d/sdR-r1-00001002.fits.gz\n",
      "    flat  sp1     z1 00001002   10.14 /home/mejia/Research/UNAM/lvm-drp/lvmdrp/examples/data/sim_2d/sdR-z1-00001002.fits.gz\n",
      "\u001b[1;33m[WARNING]: \u001b[0m\u001b[0;39mdivide by zero encountered in divide\u001b[0m \u001b[0;36m(RuntimeWarning)\u001b[0m\n"
     ]
    }
   ],
   "source": [
    "fiberflats = frames_groups[(unique_groups[\"imagetyp\"]==\"flat\")&(unique_groups[\"spec\"]==\"sp1\")&(unique_groups[\"expnum\"]==\"00001002\")]\n",
    "print(fiberflats)\n",
    "\n",
    "# Now that we have calibration frames, let's calibrate a fiberflat and an arc\n",
    "for fiberflat_frame in fiberflats:\n",
    "    fiberflat_path = fiberflat_frame[\"path\"]\n",
    "    fiberflat_camera, fiberflat_expnum = fiberflat_frame[\"camera\"], fiberflat_frame[\"expnum\"]\n",
    "    \n",
    "    gains = \",\".join(map(str, GAINS[camera]))\n",
    "    rdnoises = \",\".join(map(str, RDNOISES[camera]))\n",
    "    imageMethod.preprocRawFrame_drp(\n",
    "        in_image=fiberflat_path,\n",
    "        out_image=out_path.format(kind=\"pfiberflat\", camera=fiberflat_camera, expnum=fiberflat_expnum, ext=\"fits\"),\n",
    "        subtract_overscan=False, unit=\"e-\", compute_error=True,\n",
    "        assume_imagetyp=\"fiberflat\", assume_gain=gains, assume_rdnoise=rdnoises\n",
    "    )\n",
    "    # imageMethod.LACosmic_drp(\n",
    "    #     in_image=out_path.format(kind=\"pfiberflat\", camera=fiberflat_camera, expnum=fiberflat_expnum, ext=\"fits\"),\n",
    "    #     out_image=out_path.format(kind=\"rfiberflat\", camera=fiberflat_camera, expnum=fiberflat_expnum, ext=\"fits\"),\n",
    "    #     iter=1, increase_radius=1, flim=1.3, parallel=\"auto\"\n",
    "    # )\n",
    "    imageMethod.basicCalibration_drp(\n",
    "        in_image=out_path.format(kind=\"pfiberflat\", camera=fiberflat_camera, expnum=fiberflat_expnum, ext=\"fits\"),\n",
    "        out_image=out_path.format(kind=\"cfiberflat\", camera=fiberflat_camera, expnum=fiberflat_expnum, ext=\"fits\"),\n",
    "        in_bias=out_path.format(kind=\"pbias\", camera=fiberflat_camera, expnum=fiberflat_expnum, ext=\"fits\"),\n",
    "        in_pixelflat=mpixelflat_path.format(camera=fiberflat_camera, ext=\"fits\")\n",
    "    )"
   ]
  },
  {
   "cell_type": "code",
   "execution_count": 6,
   "metadata": {
    "tags": []
   },
   "outputs": [
    {
     "name": "stdout",
     "output_type": "stream",
     "text": [
      "imagetyp spec camera  expnum  exptime                                          path                                        \n",
      "-------- ---- ------ -------- ------- -------------------------------------------------------------------------------------\n",
      "     arc  sp1     b1 00010001   10.14 /home/mejia/Research/UNAM/lvm-drp/lvmdrp/examples/data/sim_2d/sdR-b1-00010001.fits.gz\n",
      "     arc  sp1     r1 00010001   10.14 /home/mejia/Research/UNAM/lvm-drp/lvmdrp/examples/data/sim_2d/sdR-r1-00010001.fits.gz\n",
      "     arc  sp1     z1 00010001   10.14 /home/mejia/Research/UNAM/lvm-drp/lvmdrp/examples/data/sim_2d/sdR-z1-00010001.fits.gz\n"
     ]
    }
   ],
   "source": [
    "arcs = frames_groups[(unique_groups[\"imagetyp\"]==\"arc\")&(unique_groups[\"spec\"]==\"sp1\")&(unique_groups[\"expnum\"]==\"00010001\")]\n",
    "print(arcs)\n",
    "\n",
    "for arc_frame in arcs:\n",
    "    arc_path = arc_frame[\"path\"]\n",
    "    arc_camera, arc_expnum = arc_frame[\"camera\"], arc_frame[\"expnum\"]\n",
    "    \n",
    "    gains = \",\".join(map(str, GAINS[camera]))\n",
    "    rdnoises = \",\".join(map(str, RDNOISES[camera]))\n",
    "    imageMethod.preprocRawFrame_drp(\n",
    "        in_image=arc_path,\n",
    "        out_image=out_path.format(kind=\"parc\", camera=arc_camera, expnum=arc_expnum, ext=\"fits\"),\n",
    "        subtract_overscan=False, unit=\"e-\", compute_error=True,\n",
    "        assume_imagetyp=\"arc\", assume_gain=gains, assume_rdnoise=rdnoises\n",
    "    )\n",
    "    # imageMethod.LACosmic_drp(\n",
    "    #     in_image=out_path.format(kind=\"parc\", camera=arc_camera, expnum=arc_expnum, ext=\"fits\"),\n",
    "    #     out_image=out_path.format(kind=\"rarc\", camera=arc_camera, expnum=arc_expnum, ext=\"fits\"),\n",
    "    #     iter=3, increase_radius=1, flim=1.3, parallel=\"auto\"\n",
    "    # )\n",
    "    imageMethod.basicCalibration_drp(\n",
    "        in_image=out_path.format(kind=\"parc\", camera=arc_camera, expnum=arc_expnum, ext=\"fits\"),\n",
    "        out_image=out_path.format(kind=\"carc\", camera=arc_camera, expnum=arc_expnum, ext=\"fits\"),\n",
    "        in_bias=out_path.format(kind=\"pbias\", camera=arc_camera, expnum=arc_expnum, ext=\"fits\"),\n",
    "        in_pixelflat=mpixelflat_path.format(camera=arc_camera, ext=\"fits\")\n",
    "    )"
   ]
  }
 ],
 "metadata": {
  "kernelspec": {
   "display_name": "Python 3 (ipykernel)",
   "language": "python",
   "name": "python3"
  },
  "language_info": {
   "codemirror_mode": {
    "name": "ipython",
    "version": 3
   },
   "file_extension": ".py",
   "mimetype": "text/x-python",
   "name": "python",
   "nbconvert_exporter": "python",
   "pygments_lexer": "ipython3",
   "version": "3.8.16"
  },
  "vscode": {
   "interpreter": {
    "hash": "75b7dc73e2cd5987d39e44d45f1d2594b18b07dc05e2cece7d250df00c95241b"
   }
  }
 },
 "nbformat": 4,
 "nbformat_minor": 4
}
