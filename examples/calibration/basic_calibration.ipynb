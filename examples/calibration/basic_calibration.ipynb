{
 "cells": [
  {
   "cell_type": "markdown",
   "metadata": {},
   "source": [
    "### Introduction\n",
    "\n",
    "The objective of this example is to run the basic calibration steps on raw frames.\n",
    "By the end of this example, we will know how to:\n",
    "\n",
    "- Pre-process raw frames to remove the overscan section and extract the science section\n",
    "- Remove cosmic rays from individual frames using the L.A. algorithm (Van Dokkum+2005)\n",
    "- Produce calibrated bias, dark and pixelflat frames\n",
    "\n",
    "Let's start with some imports and function definitions"
   ]
  },
  {
   "cell_type": "code",
   "execution_count": 5,
   "metadata": {
    "tags": []
   },
   "outputs": [],
   "source": [
    "import os\n",
    "\n",
    "from lvmdrp.core.constants import LVM_UNAM_URL\n",
    "from lvmdrp.utils.examples import GAINS, RDNOISES\n",
    "from lvmdrp.utils.examples import fetch_example_data, get_frames_metadata\n",
    "\n",
    "from lvmdrp.functions import imageMethod"
   ]
  },
  {
   "cell_type": "code",
   "execution_count": 6,
   "metadata": {},
   "outputs": [
    {
     "name": "stdout",
     "output_type": "stream",
     "text": [
      "http://ifs.astroscu.unam.mx/LVM\n"
     ]
    }
   ],
   "source": [
    "print(LVM_UNAM_URL)"
   ]
  },
  {
   "cell_type": "markdown",
   "metadata": {
    "tags": []
   },
   "source": [
    "### Downloading 2D simulations\n",
    "\n",
    "Before we begin, we need to:\n",
    "- Define paths to input and output data\n",
    "- Download some data to run through the pipeline\n",
    "\n",
    "In this case, we'll download 2D simulated data."
   ]
  },
  {
   "cell_type": "code",
   "execution_count": 1,
   "metadata": {},
   "outputs": [],
   "source": [
    "from tree import Tree\n",
    "tree = Tree('sdss5')"
   ]
  },
  {
   "cell_type": "code",
   "execution_count": 5,
   "metadata": {},
   "outputs": [
    {
     "data": {
      "text/plain": [
       "'/Users/Brian/Work/sdss/sas/sdsswork/data/lvm/lab/59580/sdR-s-b1-00000001.fits.gz'"
      ]
     },
     "execution_count": 5,
     "metadata": {},
     "output_type": "execute_result"
    }
   ],
   "source": [
    "from sdss_access.path import Path\n",
    "path = Path(release='sdss5')\n",
    "path.full('lvm_lab', hemi='s', camspec='b1', mjd='59580', expnum='1')"
   ]
  },
  {
   "cell_type": "code",
   "execution_count": 10,
   "metadata": {
    "tags": []
   },
   "outputs": [
    {
     "name": "stdout",
     "output_type": "stream",
     "text": [
      "/Users/Brian/Work/sdss/sas/sdsswork/data/lvm/lco\n",
      "/Users/Brian/Work/sdss/sas/sdsswork/lvm/spectro/redux\n",
      "/Users/Brian/Work/sdss/sas/sdsswork/lvm/spectro/redux/lvm-{kind}-{camera}-{expnum}.{ext}\n",
      "/Users/Brian/Work/sdss/sas/sdsswork/lvm/spectro/redux/lvm-mpixelflat-{camera}.{ext}\n"
     ]
    }
   ],
   "source": [
    "# define input data directory\n",
    "#data_path = os.path.abspath(os.path.join(\"..\", \"data\"))\n",
    "data_path = os.getenv(\"LVM_DATA_S\")\n",
    "os.makedirs(data_path, exist_ok=True)\n",
    "print(data_path)\n",
    "\n",
    "# let's create the output directory\n",
    "#output_path = \"./data\"\n",
    "output_path = os.getenv(\"LVM_SPECTRO_REDUX\")\n",
    "os.makedirs(output_path, exist_ok=True)\n",
    "print(output_path)\n",
    "\n",
    "# create processed frames path template\n",
    "out_path = os.path.join(output_path, \"lvm-{kind}-{camera}-{expnum}.{ext}\")\n",
    "mpixelfiber_path = os.path.join(output_path, \"lvm-mpixelflat-{camera}.{ext}\")\n",
    "\n",
    "print(out_path)\n",
    "print(mpixelfiber_path)\n",
    "\n",
    "# now we download the example data\n",
    "#fetch_example_data(url=LVM_UNAM_URL, name=\"sim_2d\", dest_path=data_path)"
   ]
  },
  {
   "cell_type": "markdown",
   "metadata": {},
   "source": [
    "In order to organize our simulated data and target specific type of frames better,\n",
    "we extract relevant metadata from the frames and group them by image type, camera\n",
    "and exposure time."
   ]
  },
  {
   "cell_type": "code",
   "execution_count": 11,
   "metadata": {
    "tags": []
   },
   "outputs": [
    {
     "name": "stdout",
     "output_type": "stream",
     "text": [
      "\u001b[0;34m[INFO]: \u001b[0mextracting metadata from 0 frames\n"
     ]
    },
    {
     "name": "stderr",
     "output_type": "stream",
     "text": [
      "0it [00:00, ?it/s]"
     ]
    },
    {
     "name": "stdout",
     "output_type": "stream",
     "text": [
      "\u001b[0;34m[INFO]: \u001b[0msuccessfully extracted metadata\n"
     ]
    },
    {
     "name": "stderr",
     "output_type": "stream",
     "text": [
      "\n"
     ]
    },
    {
     "ename": "IndexError",
     "evalue": "index 0 is out of bounds for axis 0 with size 0",
     "output_type": "error",
     "traceback": [
      "\u001b[0;31m---------------------------------------------------------------------------\u001b[0m",
      "\u001b[0;31mIndexError\u001b[0m                                Traceback (most recent call last)",
      "Cell \u001b[0;32mIn[11], line 4\u001b[0m\n\u001b[1;32m      2\u001b[0m frames_table \u001b[38;5;241m=\u001b[39m get_frames_metadata(path\u001b[38;5;241m=\u001b[39mos\u001b[38;5;241m.\u001b[39mpath\u001b[38;5;241m.\u001b[39mjoin(data_path, \u001b[38;5;124m\"\u001b[39m\u001b[38;5;124msim_2d\u001b[39m\u001b[38;5;124m\"\u001b[39m), ignore_cache\u001b[38;5;241m=\u001b[39m\u001b[38;5;28;01mTrue\u001b[39;00m)\n\u001b[1;32m      3\u001b[0m \u001b[38;5;66;03m# group by imagetyp, camera and exptime\u001b[39;00m\n\u001b[0;32m----> 4\u001b[0m frames_table \u001b[38;5;241m=\u001b[39m \u001b[43mframes_table\u001b[49m\u001b[38;5;241;43m.\u001b[39;49m\u001b[43mgroup_by\u001b[49m\u001b[43m(\u001b[49m\u001b[43m[\u001b[49m\u001b[38;5;124;43m\"\u001b[39;49m\u001b[38;5;124;43mimagetyp\u001b[39;49m\u001b[38;5;124;43m\"\u001b[39;49m\u001b[43m,\u001b[49m\u001b[43m \u001b[49m\u001b[38;5;124;43m\"\u001b[39;49m\u001b[38;5;124;43mspec\u001b[39;49m\u001b[38;5;124;43m\"\u001b[39;49m\u001b[43m,\u001b[49m\u001b[43m \u001b[49m\u001b[38;5;124;43m\"\u001b[39;49m\u001b[38;5;124;43mcamera\u001b[39;49m\u001b[38;5;124;43m\"\u001b[39;49m\u001b[43m,\u001b[49m\u001b[43m \u001b[49m\u001b[38;5;124;43m\"\u001b[39;49m\u001b[38;5;124;43mexpnum\u001b[39;49m\u001b[38;5;124;43m\"\u001b[39;49m\u001b[43m,\u001b[49m\u001b[43m \u001b[49m\u001b[38;5;124;43m\"\u001b[39;49m\u001b[38;5;124;43mexptime\u001b[39;49m\u001b[38;5;124;43m\"\u001b[39;49m\u001b[43m]\u001b[49m\u001b[43m)\u001b[49m\n\u001b[1;32m      5\u001b[0m \u001b[38;5;66;03m# define groups and unique categories in those groups\u001b[39;00m\n\u001b[1;32m      6\u001b[0m frames_groups \u001b[38;5;241m=\u001b[39m frames_table\u001b[38;5;241m.\u001b[39mgroups\n",
      "File \u001b[0;32m~/anaconda3/envs/lvmdrp/lib/python3.9/site-packages/astropy/table/table.py:3852\u001b[0m, in \u001b[0;36mTable.group_by\u001b[0;34m(self, keys)\u001b[0m\n\u001b[1;32m   3827\u001b[0m \u001b[38;5;28;01mdef\u001b[39;00m \u001b[38;5;21mgroup_by\u001b[39m(\u001b[38;5;28mself\u001b[39m, keys):\n\u001b[1;32m   3828\u001b[0m \u001b[38;5;250m    \u001b[39m\u001b[38;5;124;03m\"\"\"\u001b[39;00m\n\u001b[1;32m   3829\u001b[0m \u001b[38;5;124;03m    Group this table by the specified ``keys``\u001b[39;00m\n\u001b[1;32m   3830\u001b[0m \n\u001b[0;32m   (...)\u001b[0m\n\u001b[1;32m   3850\u001b[0m \u001b[38;5;124;03m        New table with groups set\u001b[39;00m\n\u001b[1;32m   3851\u001b[0m \u001b[38;5;124;03m    \"\"\"\u001b[39;00m\n\u001b[0;32m-> 3852\u001b[0m     \u001b[38;5;28;01mreturn\u001b[39;00m \u001b[43mgroups\u001b[49m\u001b[38;5;241;43m.\u001b[39;49m\u001b[43mtable_group_by\u001b[49m\u001b[43m(\u001b[49m\u001b[38;5;28;43mself\u001b[39;49m\u001b[43m,\u001b[49m\u001b[43m \u001b[49m\u001b[43mkeys\u001b[49m\u001b[43m)\u001b[49m\n",
      "File \u001b[0;32m~/anaconda3/envs/lvmdrp/lib/python3.9/site-packages/astropy/table/groups.py:18\u001b[0m, in \u001b[0;36mtable_group_by\u001b[0;34m(table, keys)\u001b[0m\n\u001b[1;32m     15\u001b[0m \u001b[38;5;28;01mdef\u001b[39;00m \u001b[38;5;21mtable_group_by\u001b[39m(table, keys):\n\u001b[1;32m     16\u001b[0m     \u001b[38;5;66;03m# index copies are unnecessary and slow down _table_group_by\u001b[39;00m\n\u001b[1;32m     17\u001b[0m     \u001b[38;5;28;01mwith\u001b[39;00m table\u001b[38;5;241m.\u001b[39mindex_mode(\u001b[38;5;124m\"\u001b[39m\u001b[38;5;124mdiscard_on_copy\u001b[39m\u001b[38;5;124m\"\u001b[39m):\n\u001b[0;32m---> 18\u001b[0m         \u001b[38;5;28;01mreturn\u001b[39;00m \u001b[43m_table_group_by\u001b[49m\u001b[43m(\u001b[49m\u001b[43mtable\u001b[49m\u001b[43m,\u001b[49m\u001b[43m \u001b[49m\u001b[43mkeys\u001b[49m\u001b[43m)\u001b[49m\n",
      "File \u001b[0;32m~/anaconda3/envs/lvmdrp/lib/python3.9/site-packages/astropy/table/groups.py:113\u001b[0m, in \u001b[0;36m_table_group_by\u001b[0;34m(table, keys)\u001b[0m\n\u001b[1;32m    110\u001b[0m \u001b[38;5;66;03m# Make a new table and set the _groups to the appropriate TableGroups object.\u001b[39;00m\n\u001b[1;32m    111\u001b[0m \u001b[38;5;66;03m# Take the subset of the original keys at the indices values (group boundaries).\u001b[39;00m\n\u001b[1;32m    112\u001b[0m out \u001b[38;5;241m=\u001b[39m table\u001b[38;5;241m.\u001b[39m\u001b[38;5;18m__class__\u001b[39m(table[idx_sort])\n\u001b[0;32m--> 113\u001b[0m out_keys \u001b[38;5;241m=\u001b[39m \u001b[43mtable_keys\u001b[49m\u001b[43m[\u001b[49m\u001b[43mindices\u001b[49m\u001b[43m[\u001b[49m\u001b[43m:\u001b[49m\u001b[38;5;241;43m-\u001b[39;49m\u001b[38;5;241;43m1\u001b[39;49m\u001b[43m]\u001b[49m\u001b[43m]\u001b[49m\n\u001b[1;32m    114\u001b[0m \u001b[38;5;28;01mif\u001b[39;00m \u001b[38;5;28misinstance\u001b[39m(out_keys, Table):\n\u001b[1;32m    115\u001b[0m     out_keys\u001b[38;5;241m.\u001b[39mmeta[\u001b[38;5;124m\"\u001b[39m\u001b[38;5;124mgrouped_by_table_cols\u001b[39m\u001b[38;5;124m\"\u001b[39m] \u001b[38;5;241m=\u001b[39m grouped_by_table_cols\n",
      "File \u001b[0;32m~/anaconda3/envs/lvmdrp/lib/python3.9/site-packages/astropy/table/table.py:2101\u001b[0m, in \u001b[0;36mTable.__getitem__\u001b[0;34m(self, item)\u001b[0m\n\u001b[1;32m   2090\u001b[0m     \u001b[38;5;28;01mreturn\u001b[39;00m \u001b[38;5;28mself\u001b[39m\u001b[38;5;241m.\u001b[39m_new_from_slice([])\n\u001b[1;32m   2091\u001b[0m \u001b[38;5;28;01melif\u001b[39;00m (\n\u001b[1;32m   2092\u001b[0m     \u001b[38;5;28misinstance\u001b[39m(item, \u001b[38;5;28mslice\u001b[39m)\n\u001b[1;32m   2093\u001b[0m     \u001b[38;5;129;01mor\u001b[39;00m \u001b[38;5;28misinstance\u001b[39m(item, np\u001b[38;5;241m.\u001b[39mndarray)\n\u001b[0;32m   (...)\u001b[0m\n\u001b[1;32m   2099\u001b[0m     \u001b[38;5;66;03m# is produced by np.where, as in t[np.where(t['a'] > 2)]\u001b[39;00m\n\u001b[1;32m   2100\u001b[0m     \u001b[38;5;66;03m# For all, a new table is constructed with slice of all columns\u001b[39;00m\n\u001b[0;32m-> 2101\u001b[0m     \u001b[38;5;28;01mreturn\u001b[39;00m \u001b[38;5;28;43mself\u001b[39;49m\u001b[38;5;241;43m.\u001b[39;49m\u001b[43m_new_from_slice\u001b[49m\u001b[43m(\u001b[49m\u001b[43mitem\u001b[49m\u001b[43m)\u001b[49m\n\u001b[1;32m   2102\u001b[0m \u001b[38;5;28;01melse\u001b[39;00m:\n\u001b[1;32m   2103\u001b[0m     \u001b[38;5;28;01mraise\u001b[39;00m \u001b[38;5;167;01mValueError\u001b[39;00m(\u001b[38;5;124mf\u001b[39m\u001b[38;5;124m\"\u001b[39m\u001b[38;5;124mIllegal type \u001b[39m\u001b[38;5;132;01m{\u001b[39;00m\u001b[38;5;28mtype\u001b[39m(item)\u001b[38;5;132;01m}\u001b[39;00m\u001b[38;5;124m for table item access\u001b[39m\u001b[38;5;124m\"\u001b[39m)\n",
      "File \u001b[0;32m~/anaconda3/envs/lvmdrp/lib/python3.9/site-packages/astropy/table/table.py:1497\u001b[0m, in \u001b[0;36mTable._new_from_slice\u001b[0;34m(self, slice_)\u001b[0m\n\u001b[1;32m   1495\u001b[0m newcols \u001b[38;5;241m=\u001b[39m []\n\u001b[1;32m   1496\u001b[0m \u001b[38;5;28;01mfor\u001b[39;00m col \u001b[38;5;129;01min\u001b[39;00m \u001b[38;5;28mself\u001b[39m\u001b[38;5;241m.\u001b[39mcolumns\u001b[38;5;241m.\u001b[39mvalues():\n\u001b[0;32m-> 1497\u001b[0m     newcol \u001b[38;5;241m=\u001b[39m \u001b[43mcol\u001b[49m\u001b[43m[\u001b[49m\u001b[43mslice_\u001b[49m\u001b[43m]\u001b[49m\n\u001b[1;32m   1499\u001b[0m     \u001b[38;5;66;03m# Note in line below, use direct attribute access to col.indices for Column\u001b[39;00m\n\u001b[1;32m   1500\u001b[0m     \u001b[38;5;66;03m# instances instead of the generic col.info.indices.  This saves about 4 usec\u001b[39;00m\n\u001b[1;32m   1501\u001b[0m     \u001b[38;5;66;03m# per column.\u001b[39;00m\n\u001b[1;32m   1502\u001b[0m     \u001b[38;5;28;01mif\u001b[39;00m (col \u001b[38;5;28;01mif\u001b[39;00m \u001b[38;5;28misinstance\u001b[39m(col, Column) \u001b[38;5;28;01melse\u001b[39;00m col\u001b[38;5;241m.\u001b[39minfo)\u001b[38;5;241m.\u001b[39mindices:\n\u001b[1;32m   1503\u001b[0m         \u001b[38;5;66;03m# TODO : as far as I can tell the only purpose of setting _copy_indices\u001b[39;00m\n\u001b[1;32m   1504\u001b[0m         \u001b[38;5;66;03m# here is to communicate that to the initial test in `slice_indices`.\u001b[39;00m\n\u001b[1;32m   1505\u001b[0m         \u001b[38;5;66;03m# Why isn't that just sent as an arg to the function?\u001b[39;00m\n",
      "File \u001b[0;32mastropy/table/_column_mixins.pyx:81\u001b[0m, in \u001b[0;36mastropy.table._column_mixins._ColumnGetitemShim.__getitem__\u001b[0;34m()\u001b[0m\n",
      "File \u001b[0;32mastropy/table/_column_mixins.pyx:64\u001b[0m, in \u001b[0;36mastropy.table._column_mixins.base_getitem\u001b[0;34m()\u001b[0m\n",
      "File \u001b[0;32mastropy/table/_column_mixins.pyx:76\u001b[0m, in \u001b[0;36mastropy.table._column_mixins.column_getitem\u001b[0;34m()\u001b[0m\n",
      "\u001b[0;31mIndexError\u001b[0m: index 0 is out of bounds for axis 0 with size 0"
     ]
    }
   ],
   "source": [
    "# extract metadata\n",
    "frames_table = get_frames_metadata(path=os.path.join(data_path, \"sim_2d\"), ignore_cache=True)\n",
    "# group by imagetyp, camera and exptime\n",
    "frames_table = frames_table.group_by([\"imagetyp\", \"spec\", \"camera\", \"expnum\", \"exptime\"])\n",
    "# define groups and unique categories in those groups\n",
    "frames_groups = frames_table.groups\n",
    "unique_groups = frames_groups.keys"
   ]
  },
  {
   "cell_type": "markdown",
   "metadata": {},
   "source": [
    "We will start by processing calibration frames: bias, dark and pixelflats\n",
    "\n",
    "Let's start with the biases for the blue channel of spectrograph #1..."
   ]
  },
  {
   "cell_type": "code",
   "execution_count": 4,
   "metadata": {
    "tags": []
   },
   "outputs": [
    {
     "name": "stdout",
     "output_type": "stream",
     "text": [
      "imagetyp spec camera  expnum  exptime                                          path                                        \n",
      "-------- ---- ------ -------- ------- -------------------------------------------------------------------------------------\n",
      "    bias  sp1     b1 00000101     0.0 /home/mejia/Research/UNAM/lvm-drp/lvmdrp/examples/data/sim_2d/sdR-b1-00000101.fits.gz\n",
      "    bias  sp1     b1 00000102     0.0 /home/mejia/Research/UNAM/lvm-drp/lvmdrp/examples/data/sim_2d/sdR-b1-00000102.fits.gz\n",
      "    bias  sp1     b1 00000103     0.0 /home/mejia/Research/UNAM/lvm-drp/lvmdrp/examples/data/sim_2d/sdR-b1-00000103.fits.gz\n",
      "    bias  sp1     b1 00000104     0.0 /home/mejia/Research/UNAM/lvm-drp/lvmdrp/examples/data/sim_2d/sdR-b1-00000104.fits.gz\n",
      "    bias  sp1     b1 00000105     0.0 /home/mejia/Research/UNAM/lvm-drp/lvmdrp/examples/data/sim_2d/sdR-b1-00000105.fits.gz\n",
      "    bias  sp1     b1 00000106     0.0 /home/mejia/Research/UNAM/lvm-drp/lvmdrp/examples/data/sim_2d/sdR-b1-00000106.fits.gz\n",
      "    bias  sp1     b1 00000107     0.0 /home/mejia/Research/UNAM/lvm-drp/lvmdrp/examples/data/sim_2d/sdR-b1-00000107.fits.gz\n",
      "    bias  sp1     b1 00000108     0.0 /home/mejia/Research/UNAM/lvm-drp/lvmdrp/examples/data/sim_2d/sdR-b1-00000108.fits.gz\n",
      "    bias  sp1     b1 00000109     0.0 /home/mejia/Research/UNAM/lvm-drp/lvmdrp/examples/data/sim_2d/sdR-b1-00000109.fits.gz\n",
      "    bias  sp1     b1 00000110     0.0 /home/mejia/Research/UNAM/lvm-drp/lvmdrp/examples/data/sim_2d/sdR-b1-00000110.fits.gz\n",
      "imagetyp spec camera  expnum  exptime                                          path                                        \n",
      "-------- ---- ------ -------- ------- -------------------------------------------------------------------------------------\n",
      "    bias  sp1     r1 00000101     0.0 /home/mejia/Research/UNAM/lvm-drp/lvmdrp/examples/data/sim_2d/sdR-r1-00000101.fits.gz\n",
      "    bias  sp1     r1 00000102     0.0 /home/mejia/Research/UNAM/lvm-drp/lvmdrp/examples/data/sim_2d/sdR-r1-00000102.fits.gz\n",
      "    bias  sp1     r1 00000103     0.0 /home/mejia/Research/UNAM/lvm-drp/lvmdrp/examples/data/sim_2d/sdR-r1-00000103.fits.gz\n",
      "    bias  sp1     r1 00000104     0.0 /home/mejia/Research/UNAM/lvm-drp/lvmdrp/examples/data/sim_2d/sdR-r1-00000104.fits.gz\n",
      "    bias  sp1     r1 00000105     0.0 /home/mejia/Research/UNAM/lvm-drp/lvmdrp/examples/data/sim_2d/sdR-r1-00000105.fits.gz\n",
      "    bias  sp1     r1 00000106     0.0 /home/mejia/Research/UNAM/lvm-drp/lvmdrp/examples/data/sim_2d/sdR-r1-00000106.fits.gz\n",
      "    bias  sp1     r1 00000107     0.0 /home/mejia/Research/UNAM/lvm-drp/lvmdrp/examples/data/sim_2d/sdR-r1-00000107.fits.gz\n",
      "    bias  sp1     r1 00000108     0.0 /home/mejia/Research/UNAM/lvm-drp/lvmdrp/examples/data/sim_2d/sdR-r1-00000108.fits.gz\n",
      "    bias  sp1     r1 00000109     0.0 /home/mejia/Research/UNAM/lvm-drp/lvmdrp/examples/data/sim_2d/sdR-r1-00000109.fits.gz\n",
      "    bias  sp1     r1 00000110     0.0 /home/mejia/Research/UNAM/lvm-drp/lvmdrp/examples/data/sim_2d/sdR-r1-00000110.fits.gz\n",
      "imagetyp spec camera  expnum  exptime                                          path                                        \n",
      "-------- ---- ------ -------- ------- -------------------------------------------------------------------------------------\n",
      "    bias  sp1     z1 00000101     0.0 /home/mejia/Research/UNAM/lvm-drp/lvmdrp/examples/data/sim_2d/sdR-z1-00000101.fits.gz\n",
      "    bias  sp1     z1 00000102     0.0 /home/mejia/Research/UNAM/lvm-drp/lvmdrp/examples/data/sim_2d/sdR-z1-00000102.fits.gz\n",
      "    bias  sp1     z1 00000103     0.0 /home/mejia/Research/UNAM/lvm-drp/lvmdrp/examples/data/sim_2d/sdR-z1-00000103.fits.gz\n",
      "    bias  sp1     z1 00000104     0.0 /home/mejia/Research/UNAM/lvm-drp/lvmdrp/examples/data/sim_2d/sdR-z1-00000104.fits.gz\n",
      "    bias  sp1     z1 00000105     0.0 /home/mejia/Research/UNAM/lvm-drp/lvmdrp/examples/data/sim_2d/sdR-z1-00000105.fits.gz\n",
      "    bias  sp1     z1 00000106     0.0 /home/mejia/Research/UNAM/lvm-drp/lvmdrp/examples/data/sim_2d/sdR-z1-00000106.fits.gz\n",
      "    bias  sp1     z1 00000107     0.0 /home/mejia/Research/UNAM/lvm-drp/lvmdrp/examples/data/sim_2d/sdR-z1-00000107.fits.gz\n",
      "    bias  sp1     z1 00000108     0.0 /home/mejia/Research/UNAM/lvm-drp/lvmdrp/examples/data/sim_2d/sdR-z1-00000108.fits.gz\n",
      "    bias  sp1     z1 00000109     0.0 /home/mejia/Research/UNAM/lvm-drp/lvmdrp/examples/data/sim_2d/sdR-z1-00000109.fits.gz\n",
      "    bias  sp1     z1 00000110     0.0 /home/mejia/Research/UNAM/lvm-drp/lvmdrp/examples/data/sim_2d/sdR-z1-00000110.fits.gz\n",
      "\u001b[1;33m[WARNING]: \u001b[0m\u001b[0;39minvalid value encountered in divide\u001b[0m \u001b[0;36m(RuntimeWarning)\u001b[0m\n"
     ]
    }
   ],
   "source": [
    "# OK, biases have exptime != 0 for some reason...\n",
    "cameras = [\"b\", \"r\", \"z\"]\n",
    "spec = 1\n",
    "for camera in cameras:\n",
    "    biases = frames_groups[(unique_groups[\"imagetyp\"]==\"bias\")&(unique_groups[\"spec\"]==f\"sp{spec}\")&(unique_groups[\"camera\"]==f\"{camera}{spec}\")]\n",
    "    print(biases)\n",
    "\n",
    "    # let's pre-process the all bias frames\n",
    "    pbias_paths = []\n",
    "    for bias_frame in biases:\n",
    "        bias_path = bias_frame[\"path\"]\n",
    "        bias_camera, bias_expnum = bias_frame[\"camera\"], bias_frame[\"expnum\"]\n",
    "\n",
    "        pbias_path = out_path.format(kind=\"pbias\", camera=bias_camera, expnum=bias_expnum, ext=\"fits\")\n",
    "\n",
    "        gains = \",\".join(map(str, GAINS[camera]))\n",
    "        rdnoises = \",\".join(map(str, RDNOISES[camera]))\n",
    "        imageMethod.preprocRawFrame_drp(\n",
    "            in_image=bias_path,\n",
    "            out_image=pbias_path,\n",
    "            subtract_overscan=False, unit=\"e-\", compute_error=True,\n",
    "            assume_imagetyp=\"flatfield\", assume_gain=gains, assume_rdnoise=rdnoises\n",
    "        )\n",
    "        pbias_paths.append(pbias_path)\n",
    "\n",
    "    mpixelflat_path = os.path.join(output_path, f\"lvm-mpixelflat-{bias_camera}.fits\")\n",
    "    imageMethod.createMasterFrame_drp(\n",
    "        in_images=pbias_paths,\n",
    "        out_image=mpixelflat_path.format(camera=bias_camera, ext=\"fits\"),\n",
    "    )\n",
    "    imageMethod.basicCalibration_drp(\n",
    "        in_image=mpixelflat_path.format(camera=bias_camera, ext=\"fits\"),\n",
    "        out_image=mpixelflat_path.format(camera=bias_camera, ext=\"fits\")\n",
    "    )"
   ]
  },
  {
   "cell_type": "code",
   "execution_count": 5,
   "metadata": {
    "tags": []
   },
   "outputs": [
    {
     "name": "stdout",
     "output_type": "stream",
     "text": [
      "imagetyp spec camera  expnum  exptime                                          path                                        \n",
      "-------- ---- ------ -------- ------- -------------------------------------------------------------------------------------\n",
      "    flat  sp1     b1 00001002    10.0 /home/mejia/Research/UNAM/lvm-drp/lvmdrp/examples/data/sim_2d/sdR-b1-00001002.fits.gz\n",
      "    flat  sp1     r1 00001002    10.0 /home/mejia/Research/UNAM/lvm-drp/lvmdrp/examples/data/sim_2d/sdR-r1-00001002.fits.gz\n",
      "    flat  sp1     z1 00001002    10.0 /home/mejia/Research/UNAM/lvm-drp/lvmdrp/examples/data/sim_2d/sdR-z1-00001002.fits.gz\n",
      "\u001b[1;33m[WARNING]: \u001b[0m\u001b[0;39mdivide by zero encountered in divide\u001b[0m \u001b[0;36m(RuntimeWarning)\u001b[0m\n"
     ]
    }
   ],
   "source": [
    "fiberflats = frames_groups[(unique_groups[\"imagetyp\"]==\"flat\")&(unique_groups[\"spec\"]==\"sp1\")&(unique_groups[\"expnum\"]==\"00001002\")]\n",
    "print(fiberflats)\n",
    "\n",
    "# Now that we have calibration frames, let's calibrate a fiberflat and an arc\n",
    "for fiberflat_frame in fiberflats:\n",
    "    fiberflat_path = fiberflat_frame[\"path\"]\n",
    "    fiberflat_camera, fiberflat_expnum = fiberflat_frame[\"camera\"], fiberflat_frame[\"expnum\"]\n",
    "    \n",
    "    gains = \",\".join(map(str, GAINS[camera]))\n",
    "    rdnoises = \",\".join(map(str, RDNOISES[camera]))\n",
    "    imageMethod.preprocRawFrame_drp(\n",
    "        in_image=fiberflat_path,\n",
    "        out_image=out_path.format(kind=\"pfiberflat\", camera=fiberflat_camera, expnum=fiberflat_expnum, ext=\"fits\"),\n",
    "        subtract_overscan=False, unit=\"e-\", compute_error=True,\n",
    "        assume_imagetyp=\"fiberflat\", assume_gain=gains, assume_rdnoise=rdnoises\n",
    "    )\n",
    "    # imageMethod.LACosmic_drp(\n",
    "    #     in_image=out_path.format(kind=\"pfiberflat\", camera=fiberflat_camera, expnum=fiberflat_expnum, ext=\"fits\"),\n",
    "    #     out_image=out_path.format(kind=\"rfiberflat\", camera=fiberflat_camera, expnum=fiberflat_expnum, ext=\"fits\"),\n",
    "    #     iter=1, increase_radius=1, flim=1.3, parallel=\"auto\"\n",
    "    # )\n",
    "    imageMethod.basicCalibration_drp(\n",
    "        in_image=out_path.format(kind=\"pfiberflat\", camera=fiberflat_camera, expnum=fiberflat_expnum, ext=\"fits\"),\n",
    "        out_image=out_path.format(kind=\"cfiberflat\", camera=fiberflat_camera, expnum=fiberflat_expnum, ext=\"fits\"),\n",
    "        in_bias=out_path.format(kind=\"pbias\", camera=fiberflat_camera, expnum=fiberflat_expnum, ext=\"fits\"),\n",
    "        in_pixelflat=mpixelflat_path.format(camera=fiberflat_camera, ext=\"fits\")\n",
    "    )"
   ]
  },
  {
   "cell_type": "code",
   "execution_count": 6,
   "metadata": {
    "tags": []
   },
   "outputs": [
    {
     "name": "stdout",
     "output_type": "stream",
     "text": [
      "imagetyp spec camera  expnum  exptime                                          path                                        \n",
      "-------- ---- ------ -------- ------- -------------------------------------------------------------------------------------\n",
      "     arc  sp1     b1 00010001    10.0 /home/mejia/Research/UNAM/lvm-drp/lvmdrp/examples/data/sim_2d/sdR-b1-00010001.fits.gz\n",
      "     arc  sp1     r1 00010001    10.0 /home/mejia/Research/UNAM/lvm-drp/lvmdrp/examples/data/sim_2d/sdR-r1-00010001.fits.gz\n",
      "     arc  sp1     z1 00010001    10.0 /home/mejia/Research/UNAM/lvm-drp/lvmdrp/examples/data/sim_2d/sdR-z1-00010001.fits.gz\n"
     ]
    }
   ],
   "source": [
    "arcs = frames_groups[(unique_groups[\"imagetyp\"]==\"arc\")&(unique_groups[\"spec\"]==\"sp1\")&(unique_groups[\"expnum\"]==\"00010001\")]\n",
    "print(arcs)\n",
    "\n",
    "for arc_frame in arcs:\n",
    "    arc_path = arc_frame[\"path\"]\n",
    "    arc_camera, arc_expnum = arc_frame[\"camera\"], arc_frame[\"expnum\"]\n",
    "    \n",
    "    gains = \",\".join(map(str, GAINS[camera]))\n",
    "    rdnoises = \",\".join(map(str, RDNOISES[camera]))\n",
    "    imageMethod.preprocRawFrame_drp(\n",
    "        in_image=arc_path,\n",
    "        out_image=out_path.format(kind=\"parc\", camera=arc_camera, expnum=arc_expnum, ext=\"fits\"),\n",
    "        subtract_overscan=False, unit=\"e-\", compute_error=True,\n",
    "        assume_imagetyp=\"arc\", assume_gain=gains, assume_rdnoise=rdnoises\n",
    "    )\n",
    "    # imageMethod.LACosmic_drp(\n",
    "    #     in_image=out_path.format(kind=\"parc\", camera=arc_camera, expnum=arc_expnum, ext=\"fits\"),\n",
    "    #     out_image=out_path.format(kind=\"rarc\", camera=arc_camera, expnum=arc_expnum, ext=\"fits\"),\n",
    "    #     iter=3, increase_radius=1, flim=1.3, parallel=\"auto\"\n",
    "    # )\n",
    "    imageMethod.basicCalibration_drp(\n",
    "        in_image=out_path.format(kind=\"parc\", camera=arc_camera, expnum=arc_expnum, ext=\"fits\"),\n",
    "        out_image=out_path.format(kind=\"carc\", camera=arc_camera, expnum=arc_expnum, ext=\"fits\"),\n",
    "        in_bias=out_path.format(kind=\"pbias\", camera=arc_camera, expnum=arc_expnum, ext=\"fits\"),\n",
    "        in_pixelflat=mpixelflat_path.format(camera=arc_camera, ext=\"fits\")\n",
    "    )"
   ]
  }
 ],
 "metadata": {
  "kernelspec": {
   "display_name": "Python 3 (ipykernel)",
   "language": "python",
   "name": "python3"
  },
  "language_info": {
   "codemirror_mode": {
    "name": "ipython",
    "version": 3
   },
   "file_extension": ".py",
   "mimetype": "text/x-python",
   "name": "python",
   "nbconvert_exporter": "python",
   "pygments_lexer": "ipython3",
   "version": "3.9.16"
  },
  "vscode": {
   "interpreter": {
    "hash": "75b7dc73e2cd5987d39e44d45f1d2594b18b07dc05e2cece7d250df00c95241b"
   }
  }
 },
 "nbformat": 4,
 "nbformat_minor": 4
}
