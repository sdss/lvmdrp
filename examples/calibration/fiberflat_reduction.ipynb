{
 "cells": [
  {
   "cell_type": "code",
   "execution_count": 3,
   "metadata": {
    "tags": []
   },
   "outputs": [],
   "source": [
    "import os\n",
    "import matplotlib.pyplot as plt\n",
    "\n",
    "from lvmdrp.utils.examples import get_frames_metadata\n",
    "\n",
    "from lvmdrp.functions import imageMethod\n",
    "from lvmdrp.functions import rssMethod\n",
    "\n",
    "plt.style.use(\"seaborn-v0_8-talk\")"
   ]
  },
  {
   "cell_type": "code",
   "execution_count": 4,
   "metadata": {
    "tags": []
   },
   "outputs": [
    {
     "name": "stderr",
     "output_type": "stream",
     "text": [
      "\u001b[0;34m[INFO]: \u001b[0mloading cached metadata from '/home/sanchez/sas/sdsswork/lvm/sandbox/lvm_metadata_None.pkl'\n"
     ]
    },
    {
     "ename": "IndexError",
     "evalue": "index 0 is out of bounds for axis 0 with size 0",
     "output_type": "error",
     "traceback": [
      "\u001b[0;31m---------------------------------------------------------------------------\u001b[0m",
      "\u001b[0;31mIndexError\u001b[0m                                Traceback (most recent call last)",
      "Cell \u001b[0;32mIn[4], line 15\u001b[0m\n\u001b[1;32m     13\u001b[0m frames_table \u001b[38;5;241m=\u001b[39m get_frames_metadata(path\u001b[38;5;241m=\u001b[39mos\u001b[38;5;241m.\u001b[39mpath\u001b[38;5;241m.\u001b[39mjoin(data_path, \u001b[38;5;124m\"\u001b[39m\u001b[38;5;124msim_2d\u001b[39m\u001b[38;5;124m\"\u001b[39m))\n\u001b[1;32m     14\u001b[0m \u001b[38;5;66;03m# group by imagetyp, camera and exptime\u001b[39;00m\n\u001b[0;32m---> 15\u001b[0m frames_table \u001b[38;5;241m=\u001b[39m \u001b[43mframes_table\u001b[49m\u001b[38;5;241;43m.\u001b[39;49m\u001b[43mgroup_by\u001b[49m\u001b[43m(\u001b[49m\u001b[43m[\u001b[49m\u001b[38;5;124;43m\"\u001b[39;49m\u001b[38;5;124;43mimagetyp\u001b[39;49m\u001b[38;5;124;43m\"\u001b[39;49m\u001b[43m,\u001b[49m\u001b[43m \u001b[49m\u001b[38;5;124;43m\"\u001b[39;49m\u001b[38;5;124;43mspec\u001b[39;49m\u001b[38;5;124;43m\"\u001b[39;49m\u001b[43m,\u001b[49m\u001b[43m \u001b[49m\u001b[38;5;124;43m\"\u001b[39;49m\u001b[38;5;124;43mcamera\u001b[39;49m\u001b[38;5;124;43m\"\u001b[39;49m\u001b[43m,\u001b[49m\u001b[43m \u001b[49m\u001b[38;5;124;43m\"\u001b[39;49m\u001b[38;5;124;43mexpnum\u001b[39;49m\u001b[38;5;124;43m\"\u001b[39;49m\u001b[43m,\u001b[49m\u001b[43m \u001b[49m\u001b[38;5;124;43m\"\u001b[39;49m\u001b[38;5;124;43mexptime\u001b[39;49m\u001b[38;5;124;43m\"\u001b[39;49m\u001b[43m]\u001b[49m\u001b[43m)\u001b[49m\n\u001b[1;32m     16\u001b[0m \u001b[38;5;66;03m# define groups and unique categories in those groups\u001b[39;00m\n\u001b[1;32m     17\u001b[0m frames_groups \u001b[38;5;241m=\u001b[39m frames_table\u001b[38;5;241m.\u001b[39mgroups\n",
      "File \u001b[0;32m~/anaconda3/envs/lvmdrp/lib/python3.8/site-packages/astropy/table/table.py:3852\u001b[0m, in \u001b[0;36mTable.group_by\u001b[0;34m(self, keys)\u001b[0m\n\u001b[1;32m   3827\u001b[0m \u001b[38;5;28;01mdef\u001b[39;00m \u001b[38;5;21mgroup_by\u001b[39m(\u001b[38;5;28mself\u001b[39m, keys):\n\u001b[1;32m   3828\u001b[0m \u001b[38;5;250m    \u001b[39m\u001b[38;5;124;03m\"\"\"\u001b[39;00m\n\u001b[1;32m   3829\u001b[0m \u001b[38;5;124;03m    Group this table by the specified ``keys``\u001b[39;00m\n\u001b[1;32m   3830\u001b[0m \n\u001b[0;32m   (...)\u001b[0m\n\u001b[1;32m   3850\u001b[0m \u001b[38;5;124;03m        New table with groups set\u001b[39;00m\n\u001b[1;32m   3851\u001b[0m \u001b[38;5;124;03m    \"\"\"\u001b[39;00m\n\u001b[0;32m-> 3852\u001b[0m     \u001b[38;5;28;01mreturn\u001b[39;00m \u001b[43mgroups\u001b[49m\u001b[38;5;241;43m.\u001b[39;49m\u001b[43mtable_group_by\u001b[49m\u001b[43m(\u001b[49m\u001b[38;5;28;43mself\u001b[39;49m\u001b[43m,\u001b[49m\u001b[43m \u001b[49m\u001b[43mkeys\u001b[49m\u001b[43m)\u001b[49m\n",
      "File \u001b[0;32m~/anaconda3/envs/lvmdrp/lib/python3.8/site-packages/astropy/table/groups.py:18\u001b[0m, in \u001b[0;36mtable_group_by\u001b[0;34m(table, keys)\u001b[0m\n\u001b[1;32m     15\u001b[0m \u001b[38;5;28;01mdef\u001b[39;00m \u001b[38;5;21mtable_group_by\u001b[39m(table, keys):\n\u001b[1;32m     16\u001b[0m     \u001b[38;5;66;03m# index copies are unnecessary and slow down _table_group_by\u001b[39;00m\n\u001b[1;32m     17\u001b[0m     \u001b[38;5;28;01mwith\u001b[39;00m table\u001b[38;5;241m.\u001b[39mindex_mode(\u001b[38;5;124m\"\u001b[39m\u001b[38;5;124mdiscard_on_copy\u001b[39m\u001b[38;5;124m\"\u001b[39m):\n\u001b[0;32m---> 18\u001b[0m         \u001b[38;5;28;01mreturn\u001b[39;00m \u001b[43m_table_group_by\u001b[49m\u001b[43m(\u001b[49m\u001b[43mtable\u001b[49m\u001b[43m,\u001b[49m\u001b[43m \u001b[49m\u001b[43mkeys\u001b[49m\u001b[43m)\u001b[49m\n",
      "File \u001b[0;32m~/anaconda3/envs/lvmdrp/lib/python3.8/site-packages/astropy/table/groups.py:113\u001b[0m, in \u001b[0;36m_table_group_by\u001b[0;34m(table, keys)\u001b[0m\n\u001b[1;32m    110\u001b[0m \u001b[38;5;66;03m# Make a new table and set the _groups to the appropriate TableGroups object.\u001b[39;00m\n\u001b[1;32m    111\u001b[0m \u001b[38;5;66;03m# Take the subset of the original keys at the indices values (group boundaries).\u001b[39;00m\n\u001b[1;32m    112\u001b[0m out \u001b[38;5;241m=\u001b[39m table\u001b[38;5;241m.\u001b[39m\u001b[38;5;18m__class__\u001b[39m(table[idx_sort])\n\u001b[0;32m--> 113\u001b[0m out_keys \u001b[38;5;241m=\u001b[39m \u001b[43mtable_keys\u001b[49m\u001b[43m[\u001b[49m\u001b[43mindices\u001b[49m\u001b[43m[\u001b[49m\u001b[43m:\u001b[49m\u001b[38;5;241;43m-\u001b[39;49m\u001b[38;5;241;43m1\u001b[39;49m\u001b[43m]\u001b[49m\u001b[43m]\u001b[49m\n\u001b[1;32m    114\u001b[0m \u001b[38;5;28;01mif\u001b[39;00m \u001b[38;5;28misinstance\u001b[39m(out_keys, Table):\n\u001b[1;32m    115\u001b[0m     out_keys\u001b[38;5;241m.\u001b[39mmeta[\u001b[38;5;124m\"\u001b[39m\u001b[38;5;124mgrouped_by_table_cols\u001b[39m\u001b[38;5;124m\"\u001b[39m] \u001b[38;5;241m=\u001b[39m grouped_by_table_cols\n",
      "File \u001b[0;32m~/anaconda3/envs/lvmdrp/lib/python3.8/site-packages/astropy/table/table.py:2101\u001b[0m, in \u001b[0;36mTable.__getitem__\u001b[0;34m(self, item)\u001b[0m\n\u001b[1;32m   2090\u001b[0m     \u001b[38;5;28;01mreturn\u001b[39;00m \u001b[38;5;28mself\u001b[39m\u001b[38;5;241m.\u001b[39m_new_from_slice([])\n\u001b[1;32m   2091\u001b[0m \u001b[38;5;28;01melif\u001b[39;00m (\n\u001b[1;32m   2092\u001b[0m     \u001b[38;5;28misinstance\u001b[39m(item, \u001b[38;5;28mslice\u001b[39m)\n\u001b[1;32m   2093\u001b[0m     \u001b[38;5;129;01mor\u001b[39;00m \u001b[38;5;28misinstance\u001b[39m(item, np\u001b[38;5;241m.\u001b[39mndarray)\n\u001b[0;32m   (...)\u001b[0m\n\u001b[1;32m   2099\u001b[0m     \u001b[38;5;66;03m# is produced by np.where, as in t[np.where(t['a'] > 2)]\u001b[39;00m\n\u001b[1;32m   2100\u001b[0m     \u001b[38;5;66;03m# For all, a new table is constructed with slice of all columns\u001b[39;00m\n\u001b[0;32m-> 2101\u001b[0m     \u001b[38;5;28;01mreturn\u001b[39;00m \u001b[38;5;28;43mself\u001b[39;49m\u001b[38;5;241;43m.\u001b[39;49m\u001b[43m_new_from_slice\u001b[49m\u001b[43m(\u001b[49m\u001b[43mitem\u001b[49m\u001b[43m)\u001b[49m\n\u001b[1;32m   2102\u001b[0m \u001b[38;5;28;01melse\u001b[39;00m:\n\u001b[1;32m   2103\u001b[0m     \u001b[38;5;28;01mraise\u001b[39;00m \u001b[38;5;167;01mValueError\u001b[39;00m(\u001b[38;5;124mf\u001b[39m\u001b[38;5;124m\"\u001b[39m\u001b[38;5;124mIllegal type \u001b[39m\u001b[38;5;132;01m{\u001b[39;00m\u001b[38;5;28mtype\u001b[39m(item)\u001b[38;5;132;01m}\u001b[39;00m\u001b[38;5;124m for table item access\u001b[39m\u001b[38;5;124m\"\u001b[39m)\n",
      "File \u001b[0;32m~/anaconda3/envs/lvmdrp/lib/python3.8/site-packages/astropy/table/table.py:1497\u001b[0m, in \u001b[0;36mTable._new_from_slice\u001b[0;34m(self, slice_)\u001b[0m\n\u001b[1;32m   1495\u001b[0m newcols \u001b[38;5;241m=\u001b[39m []\n\u001b[1;32m   1496\u001b[0m \u001b[38;5;28;01mfor\u001b[39;00m col \u001b[38;5;129;01min\u001b[39;00m \u001b[38;5;28mself\u001b[39m\u001b[38;5;241m.\u001b[39mcolumns\u001b[38;5;241m.\u001b[39mvalues():\n\u001b[0;32m-> 1497\u001b[0m     newcol \u001b[38;5;241m=\u001b[39m \u001b[43mcol\u001b[49m\u001b[43m[\u001b[49m\u001b[43mslice_\u001b[49m\u001b[43m]\u001b[49m\n\u001b[1;32m   1499\u001b[0m     \u001b[38;5;66;03m# Note in line below, use direct attribute access to col.indices for Column\u001b[39;00m\n\u001b[1;32m   1500\u001b[0m     \u001b[38;5;66;03m# instances instead of the generic col.info.indices.  This saves about 4 usec\u001b[39;00m\n\u001b[1;32m   1501\u001b[0m     \u001b[38;5;66;03m# per column.\u001b[39;00m\n\u001b[1;32m   1502\u001b[0m     \u001b[38;5;28;01mif\u001b[39;00m (col \u001b[38;5;28;01mif\u001b[39;00m \u001b[38;5;28misinstance\u001b[39m(col, Column) \u001b[38;5;28;01melse\u001b[39;00m col\u001b[38;5;241m.\u001b[39minfo)\u001b[38;5;241m.\u001b[39mindices:\n\u001b[1;32m   1503\u001b[0m         \u001b[38;5;66;03m# TODO : as far as I can tell the only purpose of setting _copy_indices\u001b[39;00m\n\u001b[1;32m   1504\u001b[0m         \u001b[38;5;66;03m# here is to communicate that to the initial test in `slice_indices`.\u001b[39;00m\n\u001b[1;32m   1505\u001b[0m         \u001b[38;5;66;03m# Why isn't that just sent as an arg to the function?\u001b[39;00m\n",
      "File \u001b[0;32mastropy/table/_column_mixins.pyx:81\u001b[0m, in \u001b[0;36mastropy.table._column_mixins._ColumnGetitemShim.__getitem__\u001b[0;34m()\u001b[0m\n",
      "File \u001b[0;32mastropy/table/_column_mixins.pyx:64\u001b[0m, in \u001b[0;36mastropy.table._column_mixins.base_getitem\u001b[0;34m()\u001b[0m\n",
      "File \u001b[0;32mastropy/table/_column_mixins.pyx:76\u001b[0m, in \u001b[0;36mastropy.table._column_mixins.column_getitem\u001b[0;34m()\u001b[0m\n",
      "\u001b[0;31mIndexError\u001b[0m: index 0 is out of bounds for axis 0 with size 0"
     ]
    }
   ],
   "source": [
    "# define input data directory\n",
    "data_path = os.path.abspath(os.path.join(\"..\", \"data\"))\n",
    "\n",
    "# let's create the output directory\n",
    "output_path = os.path.join(\"data\")\n",
    "os.makedirs(output_path, exist_ok=True)\n",
    "\n",
    "# create processed frames path template\n",
    "out_main_path = os.path.join(output_path, \"lvm-{kind}-{camera}-{expnum}.{ext}\")\n",
    "out_calib_path = os.path.join(output_path, \"lvm-{mjd}-{kind}-{camera}-{exptime}.{ext}\")\n",
    "\n",
    "# extract metadata\n",
    "frames_table = get_frames_metadata(path=os.path.join(data_path, \"sim_2d\"))\n",
    "# group by imagetyp, camera and exptime\n",
    "frames_table = frames_table.group_by([\"imagetyp\", \"spec\", \"camera\", \"expnum\", \"exptime\"])\n",
    "# define groups and unique categories in those groups\n",
    "frames_groups = frames_table.groups\n",
    "unique_groups = frames_groups.keys"
   ]
  },
  {
   "cell_type": "code",
   "execution_count": null,
   "metadata": {},
   "outputs": [],
   "source": []
  },
  {
   "cell_type": "code",
   "execution_count": 5,
   "metadata": {
    "tags": []
   },
   "outputs": [
    {
     "ename": "NameError",
     "evalue": "name 'frames_groups' is not defined",
     "output_type": "error",
     "traceback": [
      "\u001b[0;31m---------------------------------------------------------------------------\u001b[0m",
      "\u001b[0;31mNameError\u001b[0m                                 Traceback (most recent call last)",
      "Cell \u001b[0;32mIn[5], line 3\u001b[0m\n\u001b[1;32m      1\u001b[0m \u001b[38;5;66;03m# expected number of fibers per spec 648\u001b[39;00m\n\u001b[0;32m----> 3\u001b[0m fiberflats \u001b[38;5;241m=\u001b[39m \u001b[43mframes_groups\u001b[49m[(unique_groups[\u001b[38;5;124m\"\u001b[39m\u001b[38;5;124mimagetyp\u001b[39m\u001b[38;5;124m\"\u001b[39m]\u001b[38;5;241m==\u001b[39m\u001b[38;5;124m\"\u001b[39m\u001b[38;5;124mflat\u001b[39m\u001b[38;5;124m\"\u001b[39m)\u001b[38;5;241m&\u001b[39m(unique_groups[\u001b[38;5;124m\"\u001b[39m\u001b[38;5;124mspec\u001b[39m\u001b[38;5;124m\"\u001b[39m]\u001b[38;5;241m==\u001b[39m\u001b[38;5;124m\"\u001b[39m\u001b[38;5;124msp1\u001b[39m\u001b[38;5;124m\"\u001b[39m)\u001b[38;5;241m&\u001b[39m(unique_groups[\u001b[38;5;124m\"\u001b[39m\u001b[38;5;124mexpnum\u001b[39m\u001b[38;5;124m\"\u001b[39m]\u001b[38;5;241m==\u001b[39m\u001b[38;5;124m\"\u001b[39m\u001b[38;5;124m00001002\u001b[39m\u001b[38;5;124m\"\u001b[39m)]\n\u001b[1;32m      4\u001b[0m fiberflats\u001b[38;5;241m.\u001b[39mpprint()\n\u001b[1;32m      6\u001b[0m \u001b[38;5;28;01mfor\u001b[39;00m fiberflat_frame \u001b[38;5;129;01min\u001b[39;00m fiberflats:\n",
      "\u001b[0;31mNameError\u001b[0m: name 'frames_groups' is not defined"
     ]
    }
   ],
   "source": [
    "# expected number of fibers per spec 648\n",
    "\n",
    "fiberflats = frames_groups[(unique_groups[\"imagetyp\"]==\"flat\")&(unique_groups[\"spec\"]==\"sp1\")&(unique_groups[\"expnum\"]==\"00001002\")]\n",
    "fiberflats.pprint()\n",
    "\n",
    "for fiberflat_frame in fiberflats:\n",
    "    fiberflat_path = fiberflat_frame[\"path\"]\n",
    "    fiberflat_camera, fiberflat_expnum = fiberflat_frame[\"camera\"], fiberflat_frame[\"expnum\"]\n",
    "\n",
    "    imageMethod.findPeaksAuto_drp(\n",
    "        in_image=out_main_path.format(kind=\"cfiberflat\", camera=fiberflat_camera, expnum=fiberflat_expnum, ext=\"fits\"),\n",
    "        out_peaks=out_main_path.format(kind=\"peaks\", camera=fiberflat_camera, expnum=fiberflat_expnum, ext=\"txt\"),\n",
    "        nfibers=648, slice=1870, threshold=1, method=\"hyperbolic\", median_box=5, median_cross=1, plot=1\n",
    "    )\n",
    "\n",
    "    imageMethod.tracePeaks_drp(\n",
    "        in_image=out_main_path.format(kind=\"cfiberflat\", camera=fiberflat_camera, expnum=fiberflat_expnum, ext=\"fits\"),\n",
    "        out_trace=out_main_path.format(kind=\"trace\", camera=fiberflat_camera, expnum=fiberflat_expnum, ext=\"fits\"),\n",
    "        in_peaks=out_main_path.format(kind=\"peaks\", camera=fiberflat_camera, expnum=fiberflat_expnum, ext=\"txt\"),\n",
    "        steps=30, coadd=30, threshold_peak=1, max_diff=2, method=\"hyperbolic\", median_box=5, median_cross=1,\n",
    "        poly_disp=2, plot=1\n",
    "    )\n",
    "\n",
    "    imageMethod.extractSpec_drp(\n",
    "        in_image=out_main_path.format(kind=\"cfiberflat\", camera=fiberflat_camera, expnum=fiberflat_expnum, ext=\"fits\"),\n",
    "        out_rss=out_main_path.format(kind=\"xfiberflat\", camera=fiberflat_camera, expnum=fiberflat_expnum, ext=\"fits\"),\n",
    "        in_trace=out_main_path.format(kind=\"trace\", camera=fiberflat_camera, expnum=fiberflat_expnum, ext=\"fits\"),\n",
    "        method=\"aperture\", aperture=5, plot=1, parallel=\"auto\"\n",
    "    )"
   ]
  },
  {
   "cell_type": "code",
   "execution_count": null,
   "metadata": {},
   "outputs": [],
   "source": []
  },
  {
   "cell_type": "code",
   "execution_count": null,
   "metadata": {},
   "outputs": [],
   "source": []
  }
 ],
 "metadata": {
  "kernelspec": {
   "display_name": "Python 3 (ipykernel)",
   "language": "python",
   "name": "python3"
  },
  "language_info": {
   "codemirror_mode": {
    "name": "ipython",
    "version": 3
   },
   "file_extension": ".py",
   "mimetype": "text/x-python",
   "name": "python",
   "nbconvert_exporter": "python",
   "pygments_lexer": "ipython3",
   "version": "3.8.16"
  },
  "vscode": {
   "interpreter": {
    "hash": "75b7dc73e2cd5987d39e44d45f1d2594b18b07dc05e2cece7d250df00c95241b"
   }
  }
 },
 "nbformat": 4,
 "nbformat_minor": 4
}
