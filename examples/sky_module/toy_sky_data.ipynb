{
 "cells": [
  {
   "cell_type": "code",
   "execution_count": 1,
   "metadata": {
    "tags": []
   },
   "outputs": [],
   "source": [
    "import os\n",
    "import pickle\n",
    "import numpy as np\n",
    "import matplotlib.pyplot as plt\n",
    "from astropy.io import fits\n",
    "from astropy.table import Table\n",
    "\n",
    "from lvmdrp.core.constants import LVM_UNAM_URL\n",
    "from lvmdrp.utils.examples import fetch_example_data\n",
    "from lvmdrp.core import rss, image, sky\n",
    "from lvmdrp.functions import skyMethod\n",
    "from multiprocessing import Pool, cpu_count\n",
    "\n",
    "\n",
    "def matchRes(in_rss, new_wave=None, new_lsf=None, resample_method=\"linear\", err_sim=500, replace_error=1e10, parallel=\"auto\"):\n",
    "\n",
    "    if new_wave is None and new_lsf is None:\n",
    "        return in_rss\n",
    "    \n",
    "    if parallel=='auto':\n",
    "        cpus = cpu_count()\n",
    "    else:\n",
    "        cpus = int(parallel)\n",
    "        \n",
    "    # resample RSS to reference wavelength sampling\n",
    "    spectra_list = [in_rss[i] for i in range(in_rss._fibers)]\n",
    "    if new_wave is not None:\n",
    "        if cpus > 1:\n",
    "            pool = Pool(cpus)\n",
    "            threads = []\n",
    "            for i in range(in_rss._fibers):\n",
    "                threads.append(pool.apply_async(spectra_list[i].resampleSpec, (new_wave, resample_method, err_sim, replace_error)))\n",
    "\n",
    "            for i in range(in_rss._fibers):\n",
    "                spectra_list[i] = threads[i].get()\n",
    "            pool.close()\n",
    "            pool.join()\n",
    "        else:\n",
    "            for i in range(in_rss._fibers):\n",
    "                spectra_list[i] = spectra_list[i].resampleSpec(new_wave)\n",
    "    \n",
    "    # convolve RSS to reference LSF\n",
    "    if new_lsf is not None:\n",
    "        if cpus > 1:\n",
    "            pool = Pool(cpus)\n",
    "            threads = []\n",
    "            for i in range(in_rss._fibers):\n",
    "                threads.append(pool.apply_async(spectra_list[i].smoothGaussVariable, (new_lsf,)))\n",
    "\n",
    "            for i in range(in_rss._fibers):\n",
    "                spectra_list[i] = threads[i].get()\n",
    "            pool.close()\n",
    "            pool.join()\n",
    "        else:\n",
    "            for i in range(in_rss._fibers):\n",
    "                spectra_list[i] = spectra_list[i].smoothGaussVariable(new_lsf)\n",
    "    \n",
    "    # build RSS\n",
    "    out_rss = rss.RSS.from_spectra1d(spectra_list=spectra_list)\n",
    "    \n",
    "    return out_rss"
   ]
  },
  {
   "cell_type": "code",
   "execution_count": 2,
   "metadata": {
    "tags": []
   },
   "outputs": [],
   "source": [
    "# get data from lvmdatasimulator\n",
    "#   * read simulated data in flux units (*_flux.fits)\n",
    "#   * read simulated data in electrons (*_realization.fits)\n",
    "#   * read simulated data in electrons without noise (*_no_noise.fits)\n",
    "#   * calculate flux calibration vector\n",
    "# write FITS files with:\n",
    "#   * simulated flux+sky (with noise)\n",
    "#   * simulated flux (without noise)\n",
    "#   * simulated sky (without noise)\n",
    "#   * flux calibration vectors"
   ]
  },
  {
   "cell_type": "code",
   "execution_count": 3,
   "metadata": {
    "tags": []
   },
   "outputs": [
    {
     "name": "stdout",
     "output_type": "stream",
     "text": [
      "\u001b[0;34m[INFO]: \u001b[0mexample data already exists\n"
     ]
    }
   ],
   "source": [
    "# define input data directory\n",
    "data_path = os.path.abspath(os.path.join(\"..\", \"data\"))\n",
    "\n",
    "# let's create the output directory\n",
    "output_path = \"./data\"\n",
    "os.makedirs(output_path, exist_ok=True)\n",
    "\n",
    "RSS_INS_PATH = os.path.join(output_path, \"rss_ins.pkl\")\n",
    "\n",
    "fetch_example_data(url=LVM_UNAM_URL, name=\"sim_1d\", dest_path=data_path)"
   ]
  },
  {
   "cell_type": "code",
   "execution_count": 4,
   "metadata": {
    "tags": []
   },
   "outputs": [],
   "source": [
    "sim_name = \"DIG_bright_linear_full_900_{}.fits\"\n",
    "\n",
    "# extract observed flux with and without sky\n",
    "wave = fits.getdata(os.path.join(data_path, \"sim_1d\", sim_name.format(\"flux\")), extname=\"WAVE\")\n",
    "error_flx = fits.getdata(os.path.join(data_path, \"sim_1d\", sim_name.format(\"flux\")), extname=\"ERR\")\n",
    "sci_tot_flx = fits.getdata(os.path.join(data_path, \"sim_1d\", sim_name.format(\"flux\")), extname=\"TOTAL\")\n",
    "sci_obj_flx = fits.getdata(os.path.join(data_path, \"sim_1d\", sim_name.format(\"flux\")), extname=\"TARGET\")\n",
    "sky_mod_flx = fits.getdata(os.path.join(data_path, \"sim_1d\", sim_name.format(\"flux\")), extname=\"SKY\")\n",
    "# extract instrumental flux with and without sky\n",
    "wave = fits.getdata(os.path.join(data_path, \"sim_1d\", sim_name.format(\"realization\")), extname=\"WAVE\")\n",
    "error_cnt = fits.getdata(os.path.join(data_path, \"sim_1d\", sim_name.format(\"realization\")), extname=\"ERR\")\n",
    "sci_tot_cnt = fits.getdata(os.path.join(data_path, \"sim_1d\", sim_name.format(\"realization\")), extname=\"TOTAL\")\n",
    "sci_obj_cnt = fits.getdata(os.path.join(data_path, \"sim_1d\", sim_name.format(\"realization\")), extname=\"TARGET\")\n",
    "sky_mod_cnt = fits.getdata(os.path.join(data_path, \"sim_1d\", sim_name.format(\"realization\")), extname=\"SKY\")"
   ]
  },
  {
   "cell_type": "code",
   "execution_count": 5,
   "metadata": {
    "tags": []
   },
   "outputs": [],
   "source": [
    "# create science RSS\n",
    "sci_flx_rss = rss.RSS(data=sci_tot_flx, wave=wave, inst_fwhm=np.ones_like(wave)*0.5, error=error_flx)\n",
    "sci_cnt_rss = rss.RSS(data=sci_tot_cnt, wave=wave, inst_fwhm=np.ones_like(wave)*0.5, error=error_cnt)\n",
    "\n",
    "# create skies RSSs\n",
    "NSKY_W, NSKY_E = 59, 60\n",
    "idx = np.random.choice(np.arange(sci_flx_rss._fibers, dtype=int), NSKY_W+NSKY_E, replace=False)\n",
    "idx_w, idx_e = idx[:NSKY_W], idx[NSKY_W:]\n",
    "\n",
    "skyw_flx_rss = rss.RSS(data=sky_mod_flx[idx_w], wave=wave, inst_fwhm=np.ones_like(wave)*0.5)\n",
    "skyw_cnt_rss = rss.RSS(data=sky_mod_cnt[idx_w], wave=wave, inst_fwhm=np.ones_like(wave)*0.5, error=error_cnt[idx_w])\n",
    "\n",
    "skye_flx_rss = rss.RSS(data=sky_mod_flx[idx_e], wave=wave, inst_fwhm=np.ones_like(wave)*0.5)\n",
    "skye_cnt_rss = rss.RSS(data=sky_mod_cnt[idx_e], wave=wave, inst_fwhm=np.ones_like(wave)*0.5, error=error_cnt[idx_e])\n",
    "\n",
    "# calculate flux calibration vector\n",
    "flux_cal = skyw_flx_rss.create1DSpec() / skyw_cnt_rss.create1DSpec()"
   ]
  },
  {
   "cell_type": "code",
   "execution_count": 8,
   "metadata": {
    "tags": []
   },
   "outputs": [],
   "source": [
    "# define new wavelength\n",
    "dif_wav = 1.0\n",
    "new_wav = np.arange(wave[0], wave[-1]+dif_wav, dif_wav)\n",
    "# define differential resolution\n",
    "res = 4000\n",
    "new_lsf = new_wav / res\n",
    "dif_lsf = np.sqrt(new_lsf**2 - 0.5**2)\n",
    "\n",
    "# downgrade in resolution and resample\n",
    "if not os.path.isfile(RSS_INS_PATH):\n",
    "    sci_ins_rss = matchRes(sci_cnt_rss, new_wave=new_wav, new_lsf=dif_lsf, err_sim=10, parallel=\"auto\")\n",
    "    skyw_ins_rss = matchRes(skyw_cnt_rss, new_wave=new_wav, new_lsf=dif_lsf, err_sim=10, parallel=\"auto\")\n",
    "    skye_ins_rss = matchRes(skye_cnt_rss, new_wave=new_wav, new_lsf=dif_lsf, err_sim=10, parallel=\"auto\")\n",
    "\n",
    "    pikle.dump((sci_ins_rss, skyw_ins_rss, skye_ins_rss), open(RSS_INS_PATH, \"wb\"))\n",
    "else:\n",
    "    sci_ins_rss, skyw_ins_rss, skye_ins_rss = pickle.load(open(RSS_INS_PATH, \"rb\"))"
   ]
  },
  {
   "cell_type": "code",
   "execution_count": 9,
   "metadata": {},
   "outputs": [],
   "source": [
    "# add noise to resampled spectra to compensate the smoothing effect\n",
    "noise_sci = np.random.randn(*sci_ins_rss._error.shape) * sci_ins_rss._error\n",
    "noise_skyw = np.random.randn(*skyw_ins_rss._error.shape) * skyw_ins_rss._error\n",
    "noise_skye = np.random.randn(*skye_ins_rss._error.shape) * skye_ins_rss._error\n",
    "\n",
    "sci_ins_rss._data = sci_ins_rss._data + noise_sci\n",
    "skyw_ins_rss._data = skyw_ins_rss._data + noise_skyw\n",
    "skye_ins_rss._data = skye_ins_rss._data + noise_skye"
   ]
  },
  {
   "cell_type": "code",
   "execution_count": 10,
   "metadata": {},
   "outputs": [],
   "source": [
    "sci_ins_rss.writeFitsData(os.path.join(output_path, sim_name.format(\"sci\")))\n",
    "skyw_ins_rss.writeFitsData(os.path.join(output_path, sim_name.format(\"skyw\")))\n",
    "skye_ins_rss.writeFitsData(os.path.join(output_path, sim_name.format(\"skye\")))"
   ]
  }
 ],
 "metadata": {
  "kernelspec": {
   "display_name": "Python 3 (ipykernel)",
   "language": "python",
   "name": "python3"
  },
  "language_info": {
   "codemirror_mode": {
    "name": "ipython",
    "version": 3
   },
   "file_extension": ".py",
   "mimetype": "text/x-python",
   "name": "python",
   "nbconvert_exporter": "python",
   "pygments_lexer": "ipython3",
   "version": "3.8.16"
  },
  "vscode": {
   "interpreter": {
    "hash": "75b7dc73e2cd5987d39e44d45f1d2594b18b07dc05e2cece7d250df00c95241b"
   }
  }
 },
 "nbformat": 4,
 "nbformat_minor": 4
}
