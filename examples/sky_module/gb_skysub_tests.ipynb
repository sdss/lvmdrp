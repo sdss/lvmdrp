{
 "cells": [
  {
   "cell_type": "code",
   "execution_count": 4,
   "metadata": {},
   "outputs": [
    {
     "name": "stdout",
     "output_type": "stream",
     "text": [
      "The autoreload extension is already loaded. To reload it, use:\n",
      "  %reload_ext autoreload\n"
     ]
    }
   ],
   "source": [
    "%load_ext autoreload\n",
    "%autoreload 2\n",
    "from lvmdrp.functions.skyMethod import quick_sky_subtraction"
   ]
  },
  {
   "cell_type": "code",
   "execution_count": 5,
   "metadata": {},
   "outputs": [],
   "source": [
    "in_cframe='/Users/gblancm/work/LVM/data/sas/sdsswork/lvm/spectro/redux/0.1.2dev/1028XX/1028892/60255/lvmCFrame-00007333.fits'\n",
    "out_sframe='/Users/gblancm/work/LVM/data/sas/sdsswork/lvm/spectro/redux/0.1.2dev/1028XX/1028892/60255/lvmSFrame-00007333.fits'\n",
    "#sky_method='cont'\n",
    "#sky_method='kls_nearest_poly'\n",
    "sky_method='gb_test'"
   ]
  },
  {
   "cell_type": "code",
   "execution_count": 6,
   "metadata": {},
   "outputs": [
    {
     "name": "stderr",
     "output_type": "stream",
     "text": [
      "WARNING: FITSFixedWarning: CD1_1 = / Log10 dispersion per pixel \n",
      "a floating-point value was expected. [astropy.wcs.wcs]\n",
      "WARNING: FITSFixedWarning: The WCS transformation has more axes (2) than the image it is associated with (0) [astropy.wcs.wcs]\n",
      "WARNING: FITSFixedWarning: CD1_1 = / Log10 dispersion per pixel \n",
      "a floating-point value was expected. [astropy.wcs.wcs]\n",
      "WARNING: FITSFixedWarning: The WCS transformation has more axes (2) than the image it is associated with (0) [astropy.wcs.wcs]\n",
      "\u001b[0;34m[INFO]: \u001b[0m[0.5, 0.75, 1.0, 1.25, 1.5]\n",
      "\u001b[0;34m[INFO]: \u001b[0m[0.6085078564136532, 0.3524851941357361, 0.12313219806123221, 0.3371148619983857, 0.5668940354621587]\n",
      "\u001b[0;34m[INFO]: \u001b[0m2\n",
      "\u001b[0;34m[INFO]: \u001b[0m0.75, 1.25\n",
      "\u001b[0;34m[INFO]: \u001b[0m[0.75, 0.875, 1.0, 1.125, 1.25]\n",
      "\u001b[0;34m[INFO]: \u001b[0m[0.3524851941357361, 0.22447386299677746, 0.12313219806123221, 0.22668131882819498, 0.3371148619983857]\n",
      "\u001b[0;34m[INFO]: \u001b[0m2\n",
      "\u001b[0;34m[INFO]: \u001b[0m0.875, 1.125\n",
      "\u001b[0;34m[INFO]: \u001b[0m[0.875, 0.9375, 1.0, 1.0625, 1.125]\n",
      "\u001b[0;34m[INFO]: \u001b[0m[0.22447386299677746, 0.16046819742729818, 0.12313219806123221, 0.17258394232738028, 0.22668131882819498]\n",
      "\u001b[0;34m[INFO]: \u001b[0m2\n",
      "\u001b[0;34m[INFO]: \u001b[0m0.9375, 1.0625\n",
      "\u001b[0;34m[INFO]: \u001b[0m[0.9375, 0.96875, 1.0, 1.03125, 1.0625]\n",
      "\u001b[0;34m[INFO]: \u001b[0m[0.16046819742729818, 0.12849393530873632, 0.12313219806123221, 0.14646667711590297, 0.17258394232738028]\n",
      "\u001b[0;34m[INFO]: \u001b[0m2\n",
      "\u001b[0;34m[INFO]: \u001b[0m0.96875, 1.03125\n",
      "\u001b[0;34m[INFO]: \u001b[0m[0.96875, 0.984375, 1.0, 1.015625, 1.03125]\n",
      "\u001b[0;34m[INFO]: \u001b[0m[0.12849393530873632, 0.1165039704146812, 0.12313219806123221, 0.13398523722501188, 0.14646667711590297]\n",
      "\u001b[0;34m[INFO]: \u001b[0m1\n",
      "\u001b[0;34m[INFO]: \u001b[0m0.96875, 1.0\n",
      "\u001b[0;34m[INFO]: \u001b[0m[0.96875, 0.9765625, 0.984375, 0.9921875, 1.0]\n",
      "\u001b[0;34m[INFO]: \u001b[0m[0.12849393530873632, 0.12096733597095721, 0.1165039704146812, 0.11879114398673929, 0.12313219806123221]\n",
      "\u001b[0;34m[INFO]: \u001b[0m2\n",
      "\u001b[0;34m[INFO]: \u001b[0m0.9765625, 0.9921875\n",
      "\u001b[0;34m[INFO]: \u001b[0m[0.9765625, 0.98046875, 0.984375, 0.98828125, 0.9921875]\n",
      "\u001b[0;34m[INFO]: \u001b[0m[0.12096733597095721, 0.1181129752158042, 0.1165039704146812, 0.11718901895896627, 0.11879114398673929]\n",
      "\u001b[0;34m[INFO]: \u001b[0m2\n",
      "\u001b[0;34m[INFO]: \u001b[0m0.98046875, 0.98828125\n",
      "\u001b[0;34m[INFO]: \u001b[0m[0.98046875, 0.982421875, 0.984375, 0.986328125, 0.98828125]\n",
      "\u001b[0;34m[INFO]: \u001b[0m[0.1181129752158042, 0.11722324703085413, 0.1165039704146812, 0.11658527192427456, 0.11718901895896627]\n",
      "\u001b[0;34m[INFO]: \u001b[0m2\n",
      "\u001b[0;34m[INFO]: \u001b[0m0.982421875, 0.986328125\n",
      "\u001b[0;34m[INFO]: \u001b[0mResults 0.984375 with wmin 3600 and wmax 9000.\n",
      "\u001b[0;34m[INFO]: \u001b[0m[0.5, 0.75, 1.0, 1.25, 1.5]\n",
      "\u001b[0;34m[INFO]: \u001b[0m[0.4999999999999999, 0.24999999999999994, 0.0, 0.24999999999999994, 0.4999999999999999]\n",
      "\u001b[0;34m[INFO]: \u001b[0m2\n",
      "\u001b[0;34m[INFO]: \u001b[0m0.75, 1.25\n",
      "\u001b[0;34m[INFO]: \u001b[0m[0.75, 0.875, 1.0, 1.125, 1.25]\n",
      "\u001b[0;34m[INFO]: \u001b[0m[0.24999999999999994, 0.12499999999999997, 0.0, 0.12499999999999997, 0.24999999999999994]\n",
      "\u001b[0;34m[INFO]: \u001b[0m2\n",
      "\u001b[0;34m[INFO]: \u001b[0m0.875, 1.125\n",
      "\u001b[0;34m[INFO]: \u001b[0m[0.875, 0.9375, 1.0, 1.0625, 1.125]\n",
      "\u001b[0;34m[INFO]: \u001b[0m[0.12499999999999997, 0.06249999999999999, 0.0, 0.06249999999999999, 0.12499999999999997]\n",
      "\u001b[0;34m[INFO]: \u001b[0m2\n",
      "\u001b[0;34m[INFO]: \u001b[0m0.9375, 1.0625\n",
      "\u001b[0;34m[INFO]: \u001b[0m[0.9375, 0.96875, 1.0, 1.03125, 1.0625]\n",
      "\u001b[0;34m[INFO]: \u001b[0m[0.06249999999999999, 0.031249999999999997, 0.0, 0.031249999999999997, 0.06249999999999999]\n",
      "\u001b[0;34m[INFO]: \u001b[0m2\n",
      "\u001b[0;34m[INFO]: \u001b[0m0.96875, 1.03125\n",
      "\u001b[0;34m[INFO]: \u001b[0m[0.96875, 0.984375, 1.0, 1.015625, 1.03125]\n",
      "\u001b[0;34m[INFO]: \u001b[0m[0.031249999999999997, 0.015625000000000003, 0.0, 0.015625000000000003, 0.031249999999999997]\n",
      "\u001b[0;34m[INFO]: \u001b[0m2\n",
      "\u001b[0;34m[INFO]: \u001b[0m0.984375, 1.015625\n",
      "\u001b[0;34m[INFO]: \u001b[0m[0.984375, 0.9921875, 1.0, 1.0078125, 1.015625]\n",
      "\u001b[0;34m[INFO]: \u001b[0m[0.015625000000000003, 0.0078124999999999965, 0.0, 0.007812499999999997, 0.015625000000000003]\n",
      "\u001b[0;34m[INFO]: \u001b[0m2\n",
      "\u001b[0;34m[INFO]: \u001b[0m0.9921875, 1.0078125\n",
      "\u001b[0;34m[INFO]: \u001b[0m[0.9921875, 0.99609375, 1.0, 1.00390625, 1.0078125]\n",
      "\u001b[0;34m[INFO]: \u001b[0m[0.0078124999999999965, 0.003906249999999993, 0.0, 0.0039062499999999913, 0.007812499999999997]\n",
      "\u001b[0;34m[INFO]: \u001b[0m2\n",
      "\u001b[0;34m[INFO]: \u001b[0m0.99609375, 1.00390625\n",
      "\u001b[0;34m[INFO]: \u001b[0m[0.99609375, 0.998046875, 1.0, 1.001953125, 1.00390625]\n",
      "\u001b[0;34m[INFO]: \u001b[0m[0.003906249999999993, 0.0019531249999999933, 0.0, 0.0019531249999999933, 0.0039062499999999913]\n",
      "\u001b[0;34m[INFO]: \u001b[0m2\n",
      "\u001b[0;34m[INFO]: \u001b[0m0.998046875, 1.001953125\n",
      "\u001b[0;34m[INFO]: \u001b[0mResults 1.0 with wmin 3600 and wmax 9000.\n",
      "\u001b[0;34m[INFO]: \u001b[0m[0.5, 0.75, 1.0, 1.25, 1.5]\n",
      "\u001b[0;34m[INFO]: \u001b[0m[0.5, 0.25, 0.0, 0.25, 0.49999999999999994]\n",
      "\u001b[0;34m[INFO]: \u001b[0m2\n",
      "\u001b[0;34m[INFO]: \u001b[0m0.75, 1.25\n",
      "\u001b[0;34m[INFO]: \u001b[0m[0.75, 0.875, 1.0, 1.125, 1.25]\n",
      "\u001b[0;34m[INFO]: \u001b[0m[0.25, 0.12499999999999999, 0.0, 0.12499999999999999, 0.25]\n",
      "\u001b[0;34m[INFO]: \u001b[0m2\n",
      "\u001b[0;34m[INFO]: \u001b[0m0.875, 1.125\n",
      "\u001b[0;34m[INFO]: \u001b[0m[0.875, 0.9375, 1.0, 1.0625, 1.125]\n",
      "\u001b[0;34m[INFO]: \u001b[0m[0.12499999999999999, 0.06249999999999999, 0.0, 0.06249999999999999, 0.12499999999999999]\n",
      "\u001b[0;34m[INFO]: \u001b[0m2\n",
      "\u001b[0;34m[INFO]: \u001b[0m0.9375, 1.0625\n",
      "\u001b[0;34m[INFO]: \u001b[0m[0.9375, 0.96875, 1.0, 1.03125, 1.0625]\n",
      "\u001b[0;34m[INFO]: \u001b[0m[0.06249999999999999, 0.03125000000000001, 0.0, 0.03125000000000001, 0.06249999999999999]\n",
      "\u001b[0;34m[INFO]: \u001b[0m2\n",
      "\u001b[0;34m[INFO]: \u001b[0m0.96875, 1.03125\n",
      "\u001b[0;34m[INFO]: \u001b[0m[0.96875, 0.984375, 1.0, 1.015625, 1.03125]\n",
      "\u001b[0;34m[INFO]: \u001b[0m[0.03125000000000001, 0.015624999999999993, 0.0, 0.015624999999999993, 0.03125000000000001]\n",
      "\u001b[0;34m[INFO]: \u001b[0m2\n",
      "\u001b[0;34m[INFO]: \u001b[0m0.984375, 1.015625\n",
      "\u001b[0;34m[INFO]: \u001b[0m[0.984375, 0.9921875, 1.0, 1.0078125, 1.015625]\n",
      "\u001b[0;34m[INFO]: \u001b[0m[0.015624999999999993, 0.00781249999999999, 0.0, 0.00781249999999999, 0.015624999999999993]\n",
      "\u001b[0;34m[INFO]: \u001b[0m2\n",
      "\u001b[0;34m[INFO]: \u001b[0m0.9921875, 1.0078125\n",
      "\u001b[0;34m[INFO]: \u001b[0m[0.9921875, 0.99609375, 1.0, 1.00390625, 1.0078125]\n",
      "\u001b[0;34m[INFO]: \u001b[0m[0.00781249999999999, 0.00390625000000001, 0.0, 0.00390625000000001, 0.00781249999999999]\n",
      "\u001b[0;34m[INFO]: \u001b[0m2\n",
      "\u001b[0;34m[INFO]: \u001b[0m0.99609375, 1.00390625\n",
      "\u001b[0;34m[INFO]: \u001b[0m[0.99609375, 0.998046875, 1.0, 1.001953125, 1.00390625]\n",
      "\u001b[0;34m[INFO]: \u001b[0m[0.00390625000000001, 0.0019531249999999983, 0.0, 0.0019531249999999983, 0.00390625000000001]\n",
      "\u001b[0;34m[INFO]: \u001b[0m2\n",
      "\u001b[0;34m[INFO]: \u001b[0m0.998046875, 1.001953125\n",
      "\u001b[0;34m[INFO]: \u001b[0mResults 1.0 with wmin 3600 and wmax 9000.\n",
      "WARNING: FITSFixedWarning: CD1_1 = / Log10 dispersion per pixel \n",
      "a floating-point value was expected. [astropy.wcs.wcs]\n",
      "WARNING: FITSFixedWarning: The WCS transformation has more axes (2) than the image it is associated with (0) [astropy.wcs.wcs]\n",
      "WARNING: FITSFixedWarning: CD1_1 = / Log10 dispersion per pixel \n",
      "a floating-point value was expected. [astropy.wcs.wcs]\n",
      "WARNING: FITSFixedWarning: The WCS transformation has more axes (2) than the image it is associated with (0) [astropy.wcs.wcs]\n"
     ]
    }
   ],
   "source": [
    "quick_sky_subtraction(in_cframe, out_sframe, skip_subtraction=False, skymethod=sky_method)"
   ]
  },
  {
   "cell_type": "code",
   "execution_count": null,
   "metadata": {},
   "outputs": [],
   "source": []
  }
 ],
 "metadata": {
  "kernelspec": {
   "display_name": "base",
   "language": "python",
   "name": "python3"
  },
  "language_info": {
   "codemirror_mode": {
    "name": "ipython",
    "version": 3
   },
   "file_extension": ".py",
   "mimetype": "text/x-python",
   "name": "python",
   "nbconvert_exporter": "python",
   "pygments_lexer": "ipython3",
   "version": "3.12.2"
  }
 },
 "nbformat": 4,
 "nbformat_minor": 2
}
