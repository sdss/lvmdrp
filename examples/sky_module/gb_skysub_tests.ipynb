{
 "cells": [
  {
   "cell_type": "code",
   "execution_count": 14,
   "metadata": {},
   "outputs": [
    {
     "name": "stdout",
     "output_type": "stream",
     "text": [
      "The autoreload extension is already loaded. To reload it, use:\n",
      "  %reload_ext autoreload\n"
     ]
    }
   ],
   "source": [
    "%load_ext autoreload\n",
    "%autoreload 2\n",
    "from lvmdrp.functions.skyMethod import quick_sky_subtraction"
   ]
  },
  {
   "cell_type": "code",
   "execution_count": 15,
   "metadata": {},
   "outputs": [],
   "source": [
    "in_cframe='/Users/gblancm/work/LVM/data/sas/sdsswork/lvm/spectro/redux/0.1.2dev/1028XX/1028892/60255/lvmCFrame-00007333.fits'\n",
    "out_sframe='/Users/gblancm/work/LVM/data/sas/sdsswork/lvm/spectro/redux/0.1.2dev/1028XX/1028892/60255/lvmSFrame-00007333.fits'\n",
    "#sky_method='cont'\n",
    "sky_method='kls_nearest_poly'"
   ]
  },
  {
   "cell_type": "code",
   "execution_count": 16,
   "metadata": {},
   "outputs": [
    {
     "name": "stdout",
     "output_type": "stream",
     "text": [
      "************************************\n",
      "********* SUBTRACTING SKY **********\n",
      "************************************\n"
     ]
    },
    {
     "name": "stderr",
     "output_type": "stream",
     "text": [
      "WARNING: FITSFixedWarning: CD1_1 = / Log10 dispersion per pixel \n",
      "a floating-point value was expected. [astropy.wcs.wcs]\n",
      "WARNING: FITSFixedWarning: The WCS transformation has more axes (2) than the image it is associated with (0) [astropy.wcs.wcs]\n",
      "WARNING: FITSFixedWarning: CD1_1 = / Log10 dispersion per pixel \n",
      "a floating-point value was expected. [astropy.wcs.wcs]\n",
      "WARNING: FITSFixedWarning: The WCS transformation has more axes (2) than the image it is associated with (0) [astropy.wcs.wcs]\n",
      "\u001b[0;34m[INFO]: \u001b[0m[0.5, 0.75, 1.0, 1.25, 1.5]\n",
      "\u001b[0;34m[INFO]: \u001b[0m[0.570361871493576, 0.3170763985464514, 0.09055416621169443, 0.3132729607691642, 0.5482123753915713]\n",
      "\u001b[0;34m[INFO]: \u001b[0m2\n",
      "\u001b[0;34m[INFO]: \u001b[0m0.75, 1.25\n",
      "\u001b[0;34m[INFO]: \u001b[0m[0.75, 0.875, 1.0, 1.125, 1.25]\n"
     ]
    },
    {
     "name": "stdout",
     "output_type": "stream",
     "text": [
      "Using method: kls_nearest_poly\n"
     ]
    },
    {
     "name": "stderr",
     "output_type": "stream",
     "text": [
      "\u001b[0;34m[INFO]: \u001b[0m[0.3170763985464514, 0.1904336620728891, 0.09055416621169443, 0.199039332511346, 0.3132729607691642]\n",
      "\u001b[0;34m[INFO]: \u001b[0m2\n",
      "\u001b[0;34m[INFO]: \u001b[0m0.875, 1.125\n",
      "\u001b[0;34m[INFO]: \u001b[0m[0.875, 0.9375, 1.0, 1.0625, 1.125]\n",
      "\u001b[0;34m[INFO]: \u001b[0m[0.1904336620728891, 0.12711229383610795, 0.09055416621169443, 0.14286020602922894, 0.199039332511346]\n",
      "\u001b[0;34m[INFO]: \u001b[0m2\n",
      "\u001b[0;34m[INFO]: \u001b[0m0.9375, 1.0625\n",
      "\u001b[0;34m[INFO]: \u001b[0m[0.9375, 0.96875, 1.0, 1.03125, 1.0625]\n",
      "\u001b[0;34m[INFO]: \u001b[0m[0.12711229383610795, 0.0955802881923574, 0.09055416621169443, 0.11553054318044315, 0.14286020602922894]\n",
      "\u001b[0;34m[INFO]: \u001b[0m2\n",
      "\u001b[0;34m[INFO]: \u001b[0m0.96875, 1.03125\n",
      "\u001b[0;34m[INFO]: \u001b[0m[0.96875, 0.984375, 1.0, 1.015625, 1.03125]\n",
      "\u001b[0;34m[INFO]: \u001b[0m[0.0955802881923574, 0.08330929391710154, 0.09055416621169443, 0.10237346929148443, 0.11553054318044315]\n",
      "\u001b[0;34m[INFO]: \u001b[0m1\n",
      "\u001b[0;34m[INFO]: \u001b[0m0.96875, 1.0\n",
      "\u001b[0;34m[INFO]: \u001b[0m[0.96875, 0.9765625, 0.984375, 0.9921875, 1.0]\n",
      "\u001b[0;34m[INFO]: \u001b[0m[0.0955802881923574, 0.08822046744849263, 0.08330929391710154, 0.08561387542002712, 0.09055416621169443]\n",
      "\u001b[0;34m[INFO]: \u001b[0m2\n",
      "\u001b[0;34m[INFO]: \u001b[0m0.9765625, 0.9921875\n",
      "\u001b[0;34m[INFO]: \u001b[0m[0.9765625, 0.98046875, 0.984375, 0.98828125, 0.9921875]\n",
      "\u001b[0;34m[INFO]: \u001b[0m[0.08822046744849263, 0.08522175119781035, 0.08330929391710154, 0.08385251933631421, 0.08561387542002712]\n",
      "\u001b[0;34m[INFO]: \u001b[0m2\n",
      "\u001b[0;34m[INFO]: \u001b[0m0.98046875, 0.98828125\n",
      "\u001b[0;34m[INFO]: \u001b[0m[0.98046875, 0.982421875, 0.984375, 0.986328125, 0.98828125]\n",
      "\u001b[0;34m[INFO]: \u001b[0m[0.08522175119781035, 0.08414701159286293, 0.08330929391710154, 0.08330093746812571, 0.08385251933631421]\n",
      "\u001b[0;34m[INFO]: \u001b[0m3\n",
      "\u001b[0;34m[INFO]: \u001b[0m0.984375, 0.98828125\n",
      "\u001b[0;34m[INFO]: \u001b[0mResults 0.986328125 with wmin 3600 and wmax 9800.\n",
      "\u001b[0;34m[INFO]: \u001b[0m[0.5, 0.75, 1.0, 1.25, 1.5]\n",
      "\u001b[0;34m[INFO]: \u001b[0m[0.5000000000000001, 0.24999999999999997, 0.0, 0.24999999999999997, 0.5000000000000001]\n",
      "\u001b[0;34m[INFO]: \u001b[0m2\n",
      "\u001b[0;34m[INFO]: \u001b[0m0.75, 1.25\n",
      "\u001b[0;34m[INFO]: \u001b[0m[0.75, 0.875, 1.0, 1.125, 1.25]\n",
      "\u001b[0;34m[INFO]: \u001b[0m[0.24999999999999997, 0.12499999999999999, 0.0, 0.12499999999999999, 0.24999999999999997]\n",
      "\u001b[0;34m[INFO]: \u001b[0m2\n",
      "\u001b[0;34m[INFO]: \u001b[0m0.875, 1.125\n",
      "\u001b[0;34m[INFO]: \u001b[0m[0.875, 0.9375, 1.0, 1.0625, 1.125]\n",
      "\u001b[0;34m[INFO]: \u001b[0m[0.12499999999999999, 0.06250000000000001, 0.0, 0.06250000000000001, 0.12499999999999999]\n",
      "\u001b[0;34m[INFO]: \u001b[0m2\n",
      "\u001b[0;34m[INFO]: \u001b[0m0.9375, 1.0625\n",
      "\u001b[0;34m[INFO]: \u001b[0m[0.9375, 0.96875, 1.0, 1.03125, 1.0625]\n",
      "\u001b[0;34m[INFO]: \u001b[0m[0.06250000000000001, 0.031249999999999997, 0.0, 0.031249999999999997, 0.06250000000000001]\n",
      "\u001b[0;34m[INFO]: \u001b[0m2\n",
      "\u001b[0;34m[INFO]: \u001b[0m0.96875, 1.03125\n",
      "\u001b[0;34m[INFO]: \u001b[0m[0.96875, 0.984375, 1.0, 1.015625, 1.03125]\n",
      "\u001b[0;34m[INFO]: \u001b[0m[0.031249999999999997, 0.015625000000000007, 0.0, 0.015625000000000007, 0.031249999999999997]\n",
      "\u001b[0;34m[INFO]: \u001b[0m2\n",
      "\u001b[0;34m[INFO]: \u001b[0m0.984375, 1.015625\n",
      "\u001b[0;34m[INFO]: \u001b[0m[0.984375, 0.9921875, 1.0, 1.0078125, 1.015625]\n",
      "\u001b[0;34m[INFO]: \u001b[0m[0.015625000000000007, 0.007812499999999997, 0.0, 0.007812499999999997, 0.015625000000000007]\n",
      "\u001b[0;34m[INFO]: \u001b[0m2\n",
      "\u001b[0;34m[INFO]: \u001b[0m0.9921875, 1.0078125\n",
      "\u001b[0;34m[INFO]: \u001b[0m[0.9921875, 0.99609375, 1.0, 1.00390625, 1.0078125]\n",
      "\u001b[0;34m[INFO]: \u001b[0m[0.007812499999999997, 0.0039062499999999983, 0.0, 0.0039062499999999974, 0.007812499999999997]\n",
      "\u001b[0;34m[INFO]: \u001b[0m2\n",
      "\u001b[0;34m[INFO]: \u001b[0m0.99609375, 1.00390625\n",
      "\u001b[0;34m[INFO]: \u001b[0m[0.99609375, 0.998046875, 1.0, 1.001953125, 1.00390625]\n",
      "\u001b[0;34m[INFO]: \u001b[0m[0.0039062499999999983, 0.001953125000000002, 0.0, 0.001953125000000002, 0.0039062499999999974]\n",
      "\u001b[0;34m[INFO]: \u001b[0m2\n",
      "\u001b[0;34m[INFO]: \u001b[0m0.998046875, 1.001953125\n",
      "\u001b[0;34m[INFO]: \u001b[0mResults 1.0 with wmin 3600 and wmax 9800.\n"
     ]
    },
    {
     "name": "stdout",
     "output_type": "stream",
     "text": [
      "Using method: kls_nearest_poly\n",
      "Using method: kls_nearest_poly\n"
     ]
    },
    {
     "name": "stderr",
     "output_type": "stream",
     "text": [
      "\u001b[0;34m[INFO]: \u001b[0m[0.5, 0.75, 1.0, 1.25, 1.5]\n",
      "\u001b[0;34m[INFO]: \u001b[0m[0.5000000000000001, 0.25000000000000006, 0.0, 0.25000000000000006, 0.5000000000000001]\n",
      "\u001b[0;34m[INFO]: \u001b[0m2\n",
      "\u001b[0;34m[INFO]: \u001b[0m0.75, 1.25\n",
      "\u001b[0;34m[INFO]: \u001b[0m[0.75, 0.875, 1.0, 1.125, 1.25]\n",
      "\u001b[0;34m[INFO]: \u001b[0m[0.25000000000000006, 0.12500000000000003, 0.0, 0.12500000000000003, 0.25000000000000006]\n",
      "\u001b[0;34m[INFO]: \u001b[0m2\n",
      "\u001b[0;34m[INFO]: \u001b[0m0.875, 1.125\n",
      "\u001b[0;34m[INFO]: \u001b[0m[0.875, 0.9375, 1.0, 1.0625, 1.125]\n",
      "\u001b[0;34m[INFO]: \u001b[0m[0.12500000000000003, 0.06250000000000001, 0.0, 0.06250000000000001, 0.12500000000000003]\n",
      "\u001b[0;34m[INFO]: \u001b[0m2\n",
      "\u001b[0;34m[INFO]: \u001b[0m0.9375, 1.0625\n",
      "\u001b[0;34m[INFO]: \u001b[0m[0.9375, 0.96875, 1.0, 1.03125, 1.0625]\n",
      "\u001b[0;34m[INFO]: \u001b[0m[0.06250000000000001, 0.031250000000000014, 0.0, 0.03125000000000001, 0.06250000000000001]\n",
      "\u001b[0;34m[INFO]: \u001b[0m2\n",
      "\u001b[0;34m[INFO]: \u001b[0m0.96875, 1.03125\n",
      "\u001b[0;34m[INFO]: \u001b[0m[0.96875, 0.984375, 1.0, 1.015625, 1.03125]\n",
      "\u001b[0;34m[INFO]: \u001b[0m[0.031250000000000014, 0.015624999999999997, 0.0, 0.015624999999999997, 0.03125000000000001]\n",
      "\u001b[0;34m[INFO]: \u001b[0m2\n",
      "\u001b[0;34m[INFO]: \u001b[0m0.984375, 1.015625\n",
      "\u001b[0;34m[INFO]: \u001b[0m[0.984375, 0.9921875, 1.0, 1.0078125, 1.015625]\n",
      "\u001b[0;34m[INFO]: \u001b[0m[0.015624999999999997, 0.007812499999999993, 0.0, 0.007812499999999993, 0.015624999999999997]\n",
      "\u001b[0;34m[INFO]: \u001b[0m2\n",
      "\u001b[0;34m[INFO]: \u001b[0m0.9921875, 1.0078125\n",
      "\u001b[0;34m[INFO]: \u001b[0m[0.9921875, 0.99609375, 1.0, 1.00390625, 1.0078125]\n",
      "\u001b[0;34m[INFO]: \u001b[0m[0.007812499999999993, 0.003906250000000002, 0.0, 0.003906250000000002, 0.007812499999999993]\n",
      "\u001b[0;34m[INFO]: \u001b[0m2\n",
      "\u001b[0;34m[INFO]: \u001b[0m0.99609375, 1.00390625\n",
      "\u001b[0;34m[INFO]: \u001b[0m[0.99609375, 0.998046875, 1.0, 1.001953125, 1.00390625]\n",
      "\u001b[0;34m[INFO]: \u001b[0m[0.003906250000000002, 0.001953125000000005, 0.0, 0.001953125000000005, 0.003906250000000002]\n",
      "\u001b[0;34m[INFO]: \u001b[0m2\n",
      "\u001b[0;34m[INFO]: \u001b[0m0.998046875, 1.001953125\n",
      "\u001b[0;34m[INFO]: \u001b[0mResults 1.0 with wmin 3600 and wmax 9800.\n",
      "WARNING: FITSFixedWarning: CD1_1 = / Log10 dispersion per pixel \n",
      "a floating-point value was expected. [astropy.wcs.wcs]\n",
      "WARNING: FITSFixedWarning: The WCS transformation has more axes (2) than the image it is associated with (0) [astropy.wcs.wcs]\n",
      "WARNING: FITSFixedWarning: CD1_1 = / Log10 dispersion per pixel \n",
      "a floating-point value was expected. [astropy.wcs.wcs]\n",
      "WARNING: FITSFixedWarning: The WCS transformation has more axes (2) than the image it is associated with (0) [astropy.wcs.wcs]\n"
     ]
    },
    {
     "name": "stdout",
     "output_type": "stream",
     "text": [
      "****** TEST *******\n",
      "writing lvmSFrame\n"
     ]
    }
   ],
   "source": [
    "quick_sky_subtraction(in_cframe, out_sframe, skip_subtraction=False, skymethod=sky_method)"
   ]
  },
  {
   "cell_type": "code",
   "execution_count": null,
   "metadata": {},
   "outputs": [],
   "source": []
  }
 ],
 "metadata": {
  "kernelspec": {
   "display_name": "base",
   "language": "python",
   "name": "python3"
  },
  "language_info": {
   "codemirror_mode": {
    "name": "ipython",
    "version": 3
   },
   "file_extension": ".py",
   "mimetype": "text/x-python",
   "name": "python",
   "nbconvert_exporter": "python",
   "pygments_lexer": "ipython3",
   "version": "3.12.2"
  }
 },
 "nbformat": 4,
 "nbformat_minor": 2
}
