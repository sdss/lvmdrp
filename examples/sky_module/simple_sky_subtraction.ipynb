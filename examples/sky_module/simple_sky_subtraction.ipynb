{
 "cells": [
  {
   "cell_type": "code",
   "execution_count": 1,
   "metadata": {
    "tags": []
   },
   "outputs": [],
   "source": [
    "import os\n",
    "import pickle\n",
    "import numpy as np\n",
    "import matplotlib.pyplot as plt\n",
    "from astropy.io import fits\n",
    "from astropy.table import Table\n",
    "\n",
    "from lvmdrp.core.constants import LVM_UNAM_URL\n",
    "from lvmdrp.utils.examples import fetch_example_data\n",
    "from lvmdrp.core import rss, image, sky, spectrum1d\n",
    "from lvmdrp.functions import skyMethod\n",
    "from multiprocessing import Pool, cpu_count"
   ]
  },
  {
   "cell_type": "code",
   "execution_count": 2,
   "metadata": {
    "tags": []
   },
   "outputs": [
    {
     "name": "stdout",
     "output_type": "stream",
     "text": [
      "\u001b[0;34m[INFO]: \u001b[0mexample data already exists\n"
     ]
    }
   ],
   "source": [
    "# define input data directory\n",
    "data_path = os.path.abspath(os.path.join(\"..\", \"data\"))\n",
    "\n",
    "# let's create the output directory\n",
    "output_path = \"./data\"\n",
    "os.makedirs(output_path, exist_ok=True)\n",
    "\n",
    "fetch_example_data(url=LVM_UNAM_URL, name=\"sim_1d\", dest_path=data_path)\n",
    "\n",
    "# define the target simulation\n",
    "SIM_NAME = \"DIG_bright_linear_full_900_{}.fits\"\n",
    "in_path = os.path.join(data_path, SIM_NAME)\n",
    "out_path = os.path.join(output_path, SIM_NAME)"
   ]
  },
  {
   "cell_type": "code",
   "execution_count": 3,
   "metadata": {
    "tags": []
   },
   "outputs": [
    {
     "name": "stdout",
     "output_type": "stream",
     "text": [
      "\u001b[0;34m[INFO]: \u001b[0mpreparing to create master 'sky' from './data/DIG_bright_linear_full_900_sci.fits'\n",
      "\u001b[0;34m[INFO]: \u001b[0mcalculating median value for each fiber\n",
      "\u001b[0;34m[INFO]: \u001b[0mcalculating sigma clipping with sigma = 3.0 within 1801 fibers\n",
      "\u001b[0;34m[INFO]: \u001b[0mcreating master (averaged) sky out of 1797\n",
      "\u001b[0;34m[INFO]: \u001b[0mstoring master sky in './data/DIG_bright_linear_full_900_msci.fits'\n",
      "\u001b[0;34m[INFO]: \u001b[0mpreparing to create master 'sky' from './data/DIG_bright_linear_full_900_skyw.fits'\n",
      "\u001b[0;34m[INFO]: \u001b[0mcalculating median value for each fiber\n",
      "\u001b[0;34m[INFO]: \u001b[0mcalculating sigma clipping with sigma = 3.0 within 59 fibers\n",
      "\u001b[0;34m[INFO]: \u001b[0mcreating master (averaged) sky out of 49\n",
      "\u001b[0;34m[INFO]: \u001b[0mstoring master sky in './data/DIG_bright_linear_full_900_mskyw.fits'\n",
      "\u001b[0;34m[INFO]: \u001b[0mpreparing to create master 'sky' from './data/DIG_bright_linear_full_900_skye.fits'\n",
      "\u001b[0;34m[INFO]: \u001b[0mcalculating median value for each fiber\n",
      "\u001b[0;34m[INFO]: \u001b[0mcalculating sigma clipping with sigma = 3.0 within 60 fibers\n",
      "\u001b[0;34m[INFO]: \u001b[0mcreating master (averaged) sky out of 59\n",
      "\u001b[0;34m[INFO]: \u001b[0mstoring master sky in './data/DIG_bright_linear_full_900_mskye.fits'\n"
     ]
    }
   ],
   "source": [
    "skyMethod.createMasterSky_drp(\n",
    "    in_rss=out_path.format(\"sci\"),\n",
    "    out_sky=out_path.format(\"msci\")\n",
    ")\n",
    "skyMethod.createMasterSky_drp(\n",
    "    in_rss=out_path.format(\"skyw\"),\n",
    "    out_sky=out_path.format(\"mskyw\")\n",
    ")\n",
    "skyMethod.createMasterSky_drp(\n",
    "    in_rss=out_path.format(\"skye\"),\n",
    "    out_sky=out_path.format(\"mskye\")\n",
    ")"
   ]
  },
  {
   "cell_type": "code",
   "execution_count": 4,
   "metadata": {
    "tags": []
   },
   "outputs": [
    {
     "name": "stdout",
     "output_type": "stream",
     "text": [
      "\u001b[1;33m[WARNING]: \u001b[0m\u001b[0;39mKeyword name 'ESO TEL ALT' is greater than 8 characters or contains characters not allowed by the FITS standard; a HIERARCH card will be created.\u001b[0m \u001b[0;36m(VerifyWarning)\u001b[0m\n",
      "[ INFO  ] Skycorr 1.1.2\n",
      "[ INFO  ] Using parameter file: /home/mejia/Research/UNAM/lvm-drp/lvmdrp/examples/sky_module/data/OBJ_DIG_bright_linear_full_900_skye_cl.skycorr.par\n",
      "[ INFO  ] Input science data file: /home/mejia/Research/UNAM/lvm-drp/lvmdrp/examples/sky_module/data/OBJ_DIG_bright_linear_full_900_skye_cl.fits\n",
      "[ INFO  ] Convert input science data file into /home/mejia/Research/UNAM/lvm-drp/lvmdrp/examples/sky_module/data/OBJ_DIG_bright_linear_full_900_skye_cl_out_sci.fits\n",
      "[ INFO  ] Read /home/mejia/Research/UNAM/lvm-drp/lvmdrp/examples/sky_module/data/OBJ_DIG_bright_linear_full_900_skye_cl_out_sci.fits\n",
      "[ INFO  ] Input sky data file: /home/mejia/Research/UNAM/lvm-drp/lvmdrp/examples/sky_module/data/SKY_DIG_bright_linear_full_900_skye_cl.fits\n",
      "[ INFO  ] Convert input sky data file into /home/mejia/Research/UNAM/lvm-drp/lvmdrp/examples/sky_module/data/OBJ_DIG_bright_linear_full_900_skye_cl_out_sky.fits\n",
      "[ INFO  ] Read /home/mejia/Research/UNAM/lvm-drp/lvmdrp/examples/sky_module/data/OBJ_DIG_bright_linear_full_900_skye_cl_out_sky.fits\n",
      "[ INFO  ] Take keywords from FITS extension 1\n",
      "[ INFO  ] Read keyword MJD-OBS\n",
      "[ INFO  ] Read keyword TM-START\n",
      "[ INFO  ] Read keyword ESO TEL ALT\n",
      "[ INFO  ] Read line list /home/mejia/Downloads/home/mejia/.local/bin/miniconda3/envs/lvmdrp/lib/skycorr/sysdata/airglow_groups.dat\n",
      "[ INFO  ] Get solar radio flux for 1/2022 from /home/mejia/Downloads/home/mejia/.local/bin/miniconda3/envs/lvmdrp/lib/skycorr/sysdata/solflux_monthly_average.txt\n",
      "[ INFO  ] Download solar radio flux data from web server\n",
      "[ INFO  ] Get solar radio flux for 1/2022 from /home/mejia/Downloads/home/mejia/.local/bin/miniconda3/envs/lvmdrp/lib/skycorr/sysdata/solflux_monthly_average.txt\n",
      "[WARNING] Solar radio fluxes until 4/2013 only\n",
      "[ INFO  ] SOLFLUX = 125 sfu\n",
      "[ INFO  ] Read line variability model file /home/mejia/Downloads/home/mejia/.local/bin/miniconda3/envs/lvmdrp/lib/skycorr/sysdata/airglow_var.dat\n",
      "[ INFO  ] Adapt line list\n",
      "[ INFO  ] Science spectrum:\n",
      "[ INFO  ] Identify lines, estimate FWHM, and subtract continuum\n"
     ]
    },
    {
     "name": "stderr",
     "output_type": "stream",
     "text": [
      "mv: cannot stat '/home/mejia/Downloads/home/mejia/.local/bin/miniconda3/envs/lvmdrp/lib/skycorr/sysdata/solflux_monthly_average.txt.1': No such file or directory\n"
     ]
    },
    {
     "name": "stdout",
     "output_type": "stream",
     "text": [
      "[ INFO  ] Search for line threshold: FLUXLIM = 0.005\n",
      "[ INFO  ] Sky spectrum:\n",
      "[ INFO  ] Identify lines, estimate FWHM, and subtract continuum\n",
      "[ INFO  ] Search for line threshold: FLUXLIM = 0.005\n",
      "[ INFO  ] Derive line group weights for each pixel of the sky spectrum\n",
      "[ INFO  ] Fitting ...\n",
      "[ INFO  ] Input wavelength grid (no fit)\n",
      "[ INFO  ] bestnorm: 1.631e+03\n",
      "[ INFO  ] Chebyshev polynomial of degree 1\n",
      "[ INFO  ] bestnorm: 1.633e+03\n",
      "[ INFO  ] Chebyshev polynomial of degree 2\n",
      "[ INFO  ] bestnorm: 1.633e+03\n",
      "[ INFO  ] Chebyshev polynomial of degree 3\n",
      "[ INFO  ] bestnorm: 1.633e+03\n",
      "[ INFO  ] STOP -> No wavegrid correction\n",
      "[ INFO  ] FIT RESULTS:\n",
      "[ INFO  ] status: 3\n",
      "[ INFO  ] npar: 79\n",
      "[ INFO  ] npix: 6151\n",
      "[ INFO  ] niter: 19\n",
      "[ INFO  ] nfev: 106\n",
      "[ INFO  ] fittime: 1.97 s\n",
      "[ INFO  ] orignorm: 1.361e+04\n",
      "[ INFO  ] bestnorm: 1.631e+03\n",
      "[ INFO  ] Write fit results into output folder /home/mejia/Research/UNAM/lvm-drp/lvmdrp/examples/sky_module/data/\n",
      "[ INFO  ] Corrected input science data file: /home/mejia/Research/UNAM/lvm-drp/lvmdrp/examples/sky_module/data/OBJ_DIG_bright_linear_full_900_skye_cl_SC.fits\n",
      "[ INFO  ] Code run time: 3.25561 s\n",
      "[ INFO  ] No errors occurred\n"
     ]
    }
   ],
   "source": [
    "skyMethod.sepContinuumLine_drp(\n",
    "    sky_ref=out_path.format(\"mskye\"),\n",
    "    out_cont_line=out_path.format(\"skye_cl\"),\n",
    "    method=\"skycorr\",\n",
    "    sky_sci=out_path.format(\"msci\")\n",
    ")"
   ]
  },
  {
   "cell_type": "code",
   "execution_count": 15,
   "metadata": {
    "tags": []
   },
   "outputs": [
    {
     "data": {
      "text/plain": [
       "[<matplotlib.lines.Line2D at 0x7f8eceef6760>]"
      ]
     },
     "execution_count": 15,
     "metadata": {},
     "output_type": "execute_result"
    },
    {
     "data": {
      "image/png": "[encoded data removed]",
      "text/plain": [
       "<Figure size 640x480 with 1 Axes>"
      ]
     },
     "metadata": {},
     "output_type": "display_data"
    }
   ],
   "source": [
    "x = rss.RSS()\n",
    "x.loadFitsData(out_path.format(\"skye_cl\"))\n",
    "plt.step(x._wave, x._data[0])"
   ]
  }
 ],
 "metadata": {
  "kernelspec": {
   "display_name": "Python 3 (ipykernel)",
   "language": "python",
   "name": "python3"
  },
  "language_info": {
   "codemirror_mode": {
    "name": "ipython",
    "version": 3
   },
   "file_extension": ".py",
   "mimetype": "text/x-python",
   "name": "python",
   "nbconvert_exporter": "python",
   "pygments_lexer": "ipython3",
   "version": "3.8.16"
  },
  "vscode": {
   "interpreter": {
    "hash": "75b7dc73e2cd5987d39e44d45f1d2594b18b07dc05e2cece7d250df00c95241b"
   }
  }
 },
 "nbformat": 4,
 "nbformat_minor": 4
}
