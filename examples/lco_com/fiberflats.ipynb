{
 "cells": [
  {
   "cell_type": "code",
   "execution_count": null,
   "id": "7a804ca5-536c-4131-a5d2-ed0fc1143127",
   "metadata": {
    "tags": []
   },
   "outputs": [],
   "source": [
    "import os\n",
    "import numpy as np\n",
    "import pandas as pd\n",
    "from astropy.table import Table\n",
    "\n",
    "from lvmdrp import path, __version__ as drpver\n",
    "from lvmdrp.utils import metadata as md\n",
    "from lvmdrp.functions import run_drp as drp\n",
    "\n",
    "from lvmdrp.functions import imageMethod, rssMethod\n",
    "\n",
    "ORIG_MASTER_DIR = os.getenv(\"LVM_MASTER_DIR\")\n",
    "MASTER_CON_LAMPS = {\"b\": \"ldls\", \"r\": \"ldls\", \"z\": \"quartz\"}\n",
    "MASTER_ARC_LAMPS = {\"b\": \"hgne\", \"r\": \"neon\", \"z\": \"neon\"}"
   ]
  },
  {
   "cell_type": "code",
   "execution_count": null,
   "id": "3d8a5599-fe94-4c5c-85b7-c5fd31bf2313",
   "metadata": {
    "tags": []
   },
   "outputs": [],
   "source": [
    "frames_table = md.get_metadata(tileid=\"*\", mjd=60177)\n",
    "frames_table.query(\"imagetyp == 'bias' | imagetyp == 'dark' | imagetyp == 'flat' | imagetyp == 'arc'\", inplace=True)"
   ]
  },
  {
   "cell_type": "code",
   "execution_count": null,
   "id": "85198965-5f94-4aa8-b522-705331add1b4",
   "metadata": {
    "tags": []
   },
   "outputs": [],
   "source": [
    "masters_mjd = frames_table.mjd.min()\n",
    "masters_path = os.path.join(ORIG_MASTER_DIR, f\"{masters_mjd}\")"
   ]
  },
  {
   "cell_type": "code",
   "execution_count": null,
   "id": "b02a2aa0-02e8-4d38-8bdd-4f7861f94d30",
   "metadata": {
    "tags": []
   },
   "outputs": [],
   "source": [
    "masters_flat = md.get_metadata(kind=\"master\", imagetyp=\"flat\").query(\"mjd == @masters_mjd\").sort_values(\"camera\")\n",
    "masters_flat"
   ]
  },
  {
   "cell_type": "code",
   "execution_count": null,
   "id": "94faff74-f34b-435b-a57a-036950325069",
   "metadata": {
    "tags": []
   },
   "outputs": [],
   "source": [
    "mtrace_paths = []\n",
    "for flat in masters_flat.to_dict(\"records\"):\n",
    "    camera = flat[\"camera\"]\n",
    "    # define lamps for flats and arcs\n",
    "    con_lamp = MASTER_CON_LAMPS[camera[0]]\n",
    "    arc_lamp = MASTER_ARC_LAMPS[camera[0]]\n",
    "    \n",
    "    # define masters paths\n",
    "    mflat_path = path.full(\"lvm_master\", drpver=drpver, tileid=flat[\"tileid\"], mjd=masters_mjd, kind=f\"mflat_{con_lamp}\", camera=camera)\n",
    "    mtrace_path = os.path.join(masters_path, f\"lvm-mtrace-{camera}.fits\")\n",
    "    mwidth_path = os.path.join(masters_path, f\"lvm-mwidth-{camera}.fits\")\n",
    "    mwave_path = os.path.join(masters_path, f\"lvm-mwave_{arc_lamp}-{camera}.fits\")\n",
    "    mlsf_path = os.path.join(masters_path, f\"lvm-mwave_{arc_lamp}-{camera}.fits\")\n",
    "    # define master fiberflat path\n",
    "    wflat_path = path.full(\"lvm_master\", drpver=drpver, tileid=flat[\"tileid\"], mjd=masters_mjd, kind=f\"wmflat_{con_lamp}\", camera=camera)\n",
    "\n",
    "    if os.path.exists(wflat_path):\n",
    "        print(f\"skipping {wflat_path}, file already exist\")\n",
    "        continue\n",
    "        \n",
    "    print(f\"Processing {mflat_path} -> {wflat_path}\")\n",
    "\n",
    "    # TODO: run the fiber fitting extraction to remove the aperture extraction features\n",
    "    imageMethod.extract_spectra(in_image=mflat_path, out_rss=wflat_path, in_trace=mtrace_path, fwhm=mwidth_path, method=\"optimal\", parallel=4)\n",
    "    # imageMethod.extract_spectra(in_image=mflat_path, out_rss=wflat_path, in_trace=mtrace_path, method=\"aperture\", aperture=3)\n",
    "    rssMethod.create_pixel_table(in_rss=wflat_path, out_rss=wflat_path, arc_wave=mwave_path, arc_fwhm=mlsf_path)"
   ]
  },
  {
   "cell_type": "code",
   "execution_count": null,
   "id": "2670cc13",
   "metadata": {},
   "outputs": [],
   "source": [
    "# wflat_paths = []\n",
    "# mfiberflat_paths = []\n",
    "# for flat in masters_flat.to_dict(\"records\"):\n",
    "#     camera = flat[\"camera\"]\n",
    "#     # define lamps for flats and arcs\n",
    "#     con_lamp = MASTER_CON_LAMPS[camera[0]]\n",
    "#     arc_lamp = MASTER_ARC_LAMPS[camera[0]]\n",
    "    \n",
    "#     # define master fiberflat path\n",
    "#     wflat_path = path.full(\"lvm_master\", drpver=drpver, tileid=flat[\"tileid\"], mjd=masters_mjd, kind=f\"wmflat_{con_lamp}\", camera=camera)\n",
    "#     # wflat_path = wflat_path.replace(\"lvm-\", \"lvm_fitting-\")\n",
    "#     wflat_paths.append(wflat_path)\n",
    "    \n",
    "#     mfiberflat_path = os.path.join(masters_path, f\"lvm-mfiberflat-{camera}.fits\")\n",
    "#     mfiberflat_paths.append(mfiberflat_path)\n",
    "\n",
    "# rssMethod.create_fiberflat(in_rsss=wflat_paths, out_rsss=mfiberflat_paths, median_box=200, gaussian_kernel=10, display_plots=True)"
   ]
  },
  {
   "cell_type": "code",
   "execution_count": null,
   "id": "ce9b44b8-d902-4f48-8acd-3e0ed8ab93a0",
   "metadata": {
    "tags": []
   },
   "outputs": [],
   "source": [
    "for channel in \"brz\":\n",
    "    wflat_paths, mfiberflat_paths = [], []\n",
    "    for flat in masters_flat.to_dict(\"records\"):\n",
    "        camera = flat[\"camera\"]\n",
    "        if camera[0] != channel: continue\n",
    "        con_lamp = MASTER_CON_LAMPS[camera[0]]\n",
    "        wflat_path = path.full(\"lvm_master\", drpver=drpver, tileid=flat[\"tileid\"], mjd=masters_mjd, kind=f\"wmflat_{con_lamp}\", camera=camera)\n",
    "        mfiberflat_path = os.path.join(masters_path, f\"lvm-mfiberflat-{camera}.fits\")\n",
    "        mfiberflat_paths.append(mfiberflat_path)\n",
    "        wflat_paths.append(wflat_path)\n",
    "\n",
    "    # TODO: smooth extracted spectra before computing the median spectrum\n",
    "    # rssMethod.create_fiberflat(in_rsss=wflat_paths, out_rsss=mfiberflat_paths, median_box=200, gaussian_kernel=10, display_plots=True)\n",
    "    rssMethod.create_fiberflat(in_rsss=wflat_paths, out_rsss=mfiberflat_paths, median_box=0, gaussian_kernel=10, display_plots=True)\n",
    "\n",
    "# cache new masters metadata into HDF5 files\n",
    "new_masters = md.extract_metadata(frames_paths=mfiberflat_paths)\n",
    "md.add_masters(new_masters)"
   ]
  },
  {
   "cell_type": "code",
   "execution_count": null,
   "id": "dafd0f6d",
   "metadata": {},
   "outputs": [],
   "source": [
    "# fibers = [2, 106, 37]\n",
    "# select = np.isin(fibermap[\"fiberid\"]-1, fibers)\n",
    "# skw1_fibers = fibermap[~select][fibermap[~select][\"ifulabel\"] == \"SkyW1\"][\"fiberid\"]-1\n",
    "# ske1_fibers = fibermap[~select][fibermap[~select][\"ifulabel\"] == \"SkyE1\"][\"fiberid\"]-1\n",
    "# sci1_fibers = fibermap[~select][fibermap[~select][\"ifulabel\"] == \"Sci1\"][\"fiberid\"]-1\n",
    "\n",
    "# factors = {}\n",
    "# for spec in \"123\":\n",
    "#     for cam in [\"b\", \"r\", \"z\"]:\n",
    "#         cam = cam + spec\n",
    "#         fflat = RSS()\n",
    "#         fflat.loadFitsData(f\"/home/mejia/Research/lvm/lvmdata/calib/60177/lvm-mfiberflat-{cam}.fits\")\n",
    "#         fflat._data[(fflat._mask)|(fflat._data <= 0)] = np.nan\n",
    "#         sci_factor = np.nanmedian(fflat._data[sci1_fibers][:, 1000:3000])\n",
    "#         print(cam, np.nanmedian(fflat._data[skw1_fibers][:, 1000:3000])/sci_factor, np.nanmedian(fflat._data[ske1_fibers][:, 1000:3000])/sci_factor)\n",
    "#         factors[(\"SkyW\", cam)] = np.nanmedian(fflat._data[skw1_fibers][:, 1000:3000])/sci_factor\n",
    "#         factors[(\"SkyE\", cam)] = np.nanmedian(fflat._data[ske1_fibers][:, 1000:3000])/sci_factor"
   ]
  }
 ],
 "metadata": {
  "kernelspec": {
   "display_name": "Python 3 (ipykernel)",
   "language": "python",
   "name": "python3"
  },
  "language_info": {
   "codemirror_mode": {
    "name": "ipython",
    "version": 3
   },
   "file_extension": ".py",
   "mimetype": "text/x-python",
   "name": "python",
   "nbconvert_exporter": "python",
   "pygments_lexer": "ipython3",
   "version": "3.10.12"
  }
 },
 "nbformat": 4,
 "nbformat_minor": 5
}
