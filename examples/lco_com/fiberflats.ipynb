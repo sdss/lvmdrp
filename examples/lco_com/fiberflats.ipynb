{
 "cells": [
  {
   "cell_type": "code",
   "execution_count": null,
   "id": "7a804ca5-536c-4131-a5d2-ed0fc1143127",
   "metadata": {
    "tags": []
   },
   "outputs": [],
   "source": [
    "import os\n",
    "import numpy as np\n",
    "import pandas as pd\n",
    "import matplotlib.pyplot as plt\n",
    "from sbpy.calib import Sun\n",
    "from astropy.io import fits\n",
    "\n",
    "from lvmdrp.core.constants import CON_LAMPS, SPEC_CHANNELS\n",
    "from lvmdrp.utils import metadata as md\n",
    "from lvmdrp import config, log, path, __version__ as drpver\n",
    "from lvmdrp.functions import imageMethod, rssMethod\n",
    "from lvmdrp.core import tracemask, rss\n",
    "\n",
    "plt.style.use(\"seaborn-v0_8-talk\")"
   ]
  },
  {
   "cell_type": "code",
   "execution_count": null,
   "id": "16a80614",
   "metadata": {
    "tags": []
   },
   "outputs": [],
   "source": [
    "flats = md.get_metadata(kind=\"master\", imagetyp=\"flat\")\n",
    "flats = flats.loc[flats.name.str.contains(\"ldls\") | flats.name.str.contains(\"quartz\")]\n",
    "flats.sort_values(by=\"camera\", inplace=True)\n",
    "flats"
   ]
  },
  {
   "cell_type": "code",
   "execution_count": null,
   "id": "6cfc4fce-8a17-4629-9274-b23fe3c24f0a",
   "metadata": {
    "tags": []
   },
   "outputs": [],
   "source": [
    "# extract fiber flats using traces\n",
    "lamps = [lamp.lower() for lamp in CON_LAMPS]\n",
    "cameras = sorted(set(flats.camera))\n",
    "mfiberflats = []\n",
    "for _, flat in flats.iterrows():\n",
    "    # get lamp used\n",
    "    lamp = flat[lamps].astype(int).idxmax()\n",
    "    \n",
    "    # define paths\n",
    "    mflat = path.full(\"lvm_master\", drpver=drpver, kind=f\"mflat_{lamp}\", **flat.to_dict())\n",
    "    xflat = path.full(\"lvm_master\", drpver=drpver, kind=f\"xmflat_{lamp}\", **flat.to_dict())\n",
    "    wflat = path.full(\"lvm_master\", drpver=drpver, kind=f\"wmflat_{lamp}\", **flat.to_dict())\n",
    "    mfiberflat = path.full(\"lvm_master\", drpver=drpver, kind=f\"mfiberflat\", **flat.to_dict())\n",
    "    # define traces path\n",
    "    mtrace = os.path.join(\"data_calib\", f\"lvm-mtrace-{flat.camera}.fits\")\n",
    "    mwave = os.path.join(\"data_calib\", f\"lvm-mwave_{'hgne' if flat.camera[0] == 'b' else 'neon'}-{flat.camera}.fits\")\n",
    "    mlsf = os.path.join(\"data_calib\", f\"lvm-mlsf_{'hgne' if flat.camera[0] == 'b' else 'neon'}-{flat.camera}.fits\")\n",
    "    iwave, fwave = SPEC_CHANNELS[flat.camera[0]]\n",
    "\n",
    "    # extract fiberflat\n",
    "    imageMethod.extract_spectra(in_image=mflat, out_rss=xflat, in_trace=mtrace, method=\"aperture\", aperture=3)\n",
    "    rssMethod.create_pixel_table(in_rss=xflat, out_rss=wflat, arc_wave=mwave, arc_fwhm=mlsf)\n",
    "    rssMethod.resample_wavelength(in_rss=wflat, out_rss=wflat, start_wave=iwave, end_wave=fwave, disp_pix=0.5, method=\"linear\", err_sim=10, parallel=0, extrapolate=False)\n",
    "    \n",
    "    # compute fiberflats\n",
    "    rssMethod.create_fiberflat(in_rss=wflat, out_rss=mfiberflat, median_box=0, gaussian_kernel=2.5, display_plots=True)\n",
    "    mfiberflats.append(mfiberflat)"
   ]
  },
  {
   "cell_type": "code",
   "execution_count": null,
   "id": "16d66841-d931-4248-8e42-e41226c26072",
   "metadata": {
    "tags": []
   },
   "outputs": [],
   "source": [
    "new_masters = md.extract_metadata(frames_paths=mfiberflats)\n",
    "md.add_masters(new_masters)"
   ]
  }
 ],
 "metadata": {
  "kernelspec": {
   "display_name": "Python 3 (ipykernel)",
   "language": "python",
   "name": "python3"
  },
  "language_info": {
   "codemirror_mode": {
    "name": "ipython",
    "version": 3
   },
   "file_extension": ".py",
   "mimetype": "text/x-python",
   "name": "python",
   "nbconvert_exporter": "python",
   "pygments_lexer": "ipython3",
   "version": "3.8.16"
  }
 },
 "nbformat": 4,
 "nbformat_minor": 5
}
