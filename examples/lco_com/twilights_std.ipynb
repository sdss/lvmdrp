{
 "cells": [
  {
   "cell_type": "code",
   "execution_count": 1,
   "id": "710af0d0-9ae2-42ca-a2ff-71c101f90e42",
   "metadata": {},
   "outputs": [],
   "source": [
    "# %matplotlib widget\n",
    "\n",
    "import os\n",
    "from copy import deepcopy as copy\n",
    "import numpy as np\n",
    "from astropy.table import Table\n",
    "import matplotlib.pyplot as plt\n",
    "from scipy.ndimage import median_filter\n",
    "from astropy.stats import biweight_location, biweight_midvariance\n",
    "\n",
    "from lvmdrp import path, __version__ as drpver\n",
    "from lvmdrp.utils import metadata as md\n",
    "from lvmdrp.core.constants import SPEC_CHANNELS\n",
    "from lvmdrp.core.fiberrows import FiberRows\n",
    "from lvmdrp.core.spectrum1d import Spectrum1D\n",
    "from lvmdrp.core.rss import RSS\n",
    "from lvmdrp.functions import run_drp as drp\n",
    "from lvmdrp.functions import run_quickdrp as qdrp\n",
    "\n",
    "from lvmdrp.functions import imageMethod, rssMethod\n",
    "\n",
    "\n",
    "ORIG_MASTER_DIR = os.getenv(\"LVM_MASTER_DIR\")\n",
    "MASTER_CON_LAMPS = {\"b\": \"ldls\", \"r\": \"ldls\", \"z\": \"quartz\"}\n",
    "# MASTER_ARC_LAMPS = {\"b\": \"hgne\", \"r\": \"neon\", \"z\": \"neon\"}\n",
    "MASTER_ARC_LAMPS = {\"b\": \"neon_hgne_argon_xenon\", \"r\": \"neon_hgne_argon_xenon\", \"z\": \"neon_hgne_argon_xenon\"}\n",
    "SLITMAP = Table(drp.fibermap.data)\n",
    "\n",
    "\n",
    "def fit_continuum(spec, median_box=30, thresh=1.2, niter=5, poly_deg=10, wave_range=None, wave_masks=None, reset_mask=True):\n",
    "    \n",
    "    # mask bad pixels\n",
    "    # spec._data[spec._mask] = np.nan\n",
    "    spec._mask[:] = False\n",
    "\n",
    "    # mask wavelength regions\n",
    "    if wave_range is not None:\n",
    "        iwave, fwave = wave_range\n",
    "        spec._mask = ~((iwave <= spec._wave) & (spec._wave <= fwave))\n",
    "        spec._data[spec._mask] = np.nan\n",
    "    \n",
    "    # mask wavelength regions\n",
    "    if wave_masks is not None:\n",
    "        for iwave, fwave in wave_masks:\n",
    "            spec._mask |= (iwave <= spec._wave) & (spec._wave <= fwave)\n",
    "            spec._data[spec._mask] = np.nan\n",
    "\n",
    "    # copy original spectrum object\n",
    "    spec_s = copy(spec)\n",
    "\n",
    "    # replace bad pixels with NaNs\n",
    "    spec_s._data[spec_s._mask] = np.nan\n",
    "    spec_s._data = median_filter(spec_s._data, size=median_box)\n",
    "\n",
    "    for i in range(niter):\n",
    "        mask = np.divide(spec._data, spec_s._data, where=spec_s._data != 0, out=np.zeros_like(spec_s._data)) > thresh\n",
    "\n",
    "        spec_s = Spectrum1D(data=np.interp(spec._pixels, spec._pixels[mask], spec._data[mask]))\n",
    "        spec_s._data = median_filter(spec_s._data, median_box)\n",
    "\n",
    "\n",
    "    # define continuum with last iteration's mask\n",
    "    mask = np.divide(spec._data, spec_s._data, where=spec_s._data != 0, out=np.zeros_like(spec_s._data)) > thresh\n",
    "    \n",
    "    # create continuum spectrum and update mask\n",
    "    out_con = copy(spec)\n",
    "    out_con._mask |= ~mask\n",
    "\n",
    "    # fit polynomial function\n",
    "    coeffs = out_con.smoothSpec(size=poly_deg, method=\"BSpline\")\n",
    "    # coeffs = out_con.smoothPoly(deg=poly_deg)\n",
    "\n",
    "    # reset mask\n",
    "    if reset_mask:\n",
    "        out_con._mask[:] = False\n",
    "    \n",
    "    return coeffs, out_con"
   ]
  },
  {
   "cell_type": "code",
   "execution_count": 2,
   "id": "7745d7a5-1e78-4173-ac56-fee4ecf0edd3",
   "metadata": {},
   "outputs": [
    {
     "name": "stderr",
     "output_type": "stream",
     "text": [
      "\u001b[0;34m[INFO]: \u001b[0mloading metadata store at /home/mejia/Research/lvm/lvmdata/sas/sdsswork/lvm/spectro/redux/0.1.2dev/1028055/60264/raw_metadata.hdf5\n",
      "\u001b[0;34m[INFO]: \u001b[0mloading metadata store at /home/mejia/Research/lvm/lvmdata/sas/sdsswork/lvm/spectro/redux/0.1.2dev/1028007/60264/raw_metadata.hdf5\n",
      "\u001b[0;34m[INFO]: \u001b[0mloading metadata store at /home/mejia/Research/lvm/lvmdata/sas/sdsswork/lvm/spectro/redux/0.1.2dev/1027986/60264/raw_metadata.hdf5\n",
      "\u001b[0;34m[INFO]: \u001b[0mloading metadata store at /home/mejia/Research/lvm/lvmdata/sas/sdsswork/lvm/spectro/redux/0.1.2dev/1111/60264/raw_metadata.hdf5\n",
      "\u001b[0;34m[INFO]: \u001b[0mfound 7 frames in store '/home/mejia/Research/lvm/lvmdata/sas/sdsswork/lvm/spectro/redux/0.1.2dev/1028055/60264/raw_metadata.hdf5'\n",
      "\u001b[0;34m[INFO]: \u001b[0mnumber of frames after filtering 7\n",
      "\u001b[0;34m[INFO]: \u001b[0mfound 63 frames in store '/home/mejia/Research/lvm/lvmdata/sas/sdsswork/lvm/spectro/redux/0.1.2dev/1028007/60264/raw_metadata.hdf5'\n",
      "\u001b[0;34m[INFO]: \u001b[0mnumber of frames after filtering 63\n",
      "\u001b[0;34m[INFO]: \u001b[0mfound 26 frames in store '/home/mejia/Research/lvm/lvmdata/sas/sdsswork/lvm/spectro/redux/0.1.2dev/1027986/60264/raw_metadata.hdf5'\n",
      "\u001b[0;34m[INFO]: \u001b[0mnumber of frames after filtering 26\n",
      "\u001b[0;34m[INFO]: \u001b[0mfound 783 frames in store '/home/mejia/Research/lvm/lvmdata/sas/sdsswork/lvm/spectro/redux/0.1.2dev/1111/60264/raw_metadata.hdf5'\n",
      "\u001b[0;34m[INFO]: \u001b[0mnumber of frames after filtering 783\n",
      "\u001b[0;34m[INFO]: \u001b[0mtotal number of frames found 879\n"
     ]
    }
   ],
   "source": [
    "MJD = 60264\n",
    "frames_table = md.get_metadata(tileid=\"*\", mjd=MJD)\n",
    "frames_table.query(\"imagetyp == 'bias' | imagetyp == 'dark' | imagetyp == 'flat' | imagetyp == 'arc'\", inplace=True)"
   ]
  },
  {
   "cell_type": "code",
   "execution_count": 3,
   "id": "67997f7f-cd1f-4c77-add9-7a109a507cc6",
   "metadata": {},
   "outputs": [
    {
     "name": "stdout",
     "output_type": "stream",
     "text": [
      "/home/mejia/Research/lvm/lvmdata/sas/sdsswork/lvm/sandbox/calib/60255\n"
     ]
    }
   ],
   "source": [
    "masters_mjd = qdrp.get_master_mjd(MJD)\n",
    "masters_path = os.path.join(ORIG_MASTER_DIR, f\"{masters_mjd}\")\n",
    "print(masters_path)"
   ]
  },
  {
   "cell_type": "code",
   "execution_count": 4,
   "id": "dfdd5e08-4b2d-49e5-a9bd-6815dd55f21d",
   "metadata": {},
   "outputs": [],
   "source": [
    "expnums = list(range(7832, 7832+12))\n",
    "\n",
    "flats_table = frames_table.query(\"expnum in @expnums\")\n",
    "flats_table = flats_table.sort_values([\"camera\", \"expnum\"])"
   ]
  },
  {
   "cell_type": "code",
   "execution_count": 5,
   "metadata": {},
   "outputs": [],
   "source": [
    "# twilight_windows = {\n",
    "#     \"b\": [(3600, 3680), (3763, 3770), (3840, 3880), (3940, 3960), (3990, 4025), (4111, 4160),\n",
    "#           (4180, 4210), (4400, 4500), (4540, 4575), (4720, 4850), (4900, 5150), (5240, 5500), (5620, 5780)],\n",
    "#     \"r\": [(5860, 5880), (6020, 6155), (6400, 6455), (6660, 6800), (7060, 7225), (7375, 7385), (7445, 7460), (7500, 7520)],\n",
    "#     \"z\": [(7450, 7550), (7728, 7745), (7762, 7770), (7797, 7805), (7813, 7819), (7825, 7839), (7892, 7908), (7935, 7943),\n",
    "#           (7995, 8009), (8033, 8047), (8065, 8075), (8109, 8135), (8150, 8215), (8245, 8269), (8320, 8335),\n",
    "#           (8435, 8448), (8570, 8610), (8700, 8745), (9056, 9086), (9110, 9144), (9180, 9210),\n",
    "#           (9570, 9584), (9635, 9663), (9762, 9781)]\n",
    "# }\n",
    "\n",
    "mask_bands = {\n",
    "    \"b\": [(3914, 4000), (4263, 4327)],\n",
    "    \"r\": [(5825, 5915), (6260, 6300), (6530, 6620), (6790, 6990), (7580, 7750)],\n",
    "    \"z\": [(7580, 7750), (8200, 8250), (8320, 8350)]\n",
    "}\n",
    "\n",
    "flat_analogs = flats_table.groupby([\"camera\"])\n",
    "lamp = \"twilight\"\n"
   ]
  },
  {
   "cell_type": "code",
   "execution_count": 6,
   "id": "1541c713-20f9-466a-8951-ed562e50a5b2",
   "metadata": {},
   "outputs": [
    {
     "name": "stderr",
     "output_type": "stream",
     "text": [
      "\u001b[0;34m[INFO]: \u001b[0mextracting fiber spectra using fiber profile fitting from lvm-dflat-b1-00007832.fits\n"
     ]
    },
    {
     "name": "stdout",
     "output_type": "stream",
     "text": [
      "    hemi  tileid    mjd   rmjd imagetyp spec camera  expnum  exptime   neon   hgne  krypton  xenon  argon   ldls  quartz    quality  qual  stage  status  drpqual                    name\n",
      "174    s    1111  60264  60264     flat  sp1     b1    7832    181.0  False  False    False  False  False  False   False  excellent     0      1       0        0  sdR-s-b1-00007832.fits\n",
      "702    s    1111  60264  60264     flat  sp1     b1    7833     57.0  False  False    False  False  False  False   False  excellent     0      1       0        0  sdR-s-b1-00007833.fits\n",
      "608    s    1111  60264  60264     flat  sp1     b1    7834     29.0  False  False    False  False  False  False   False  excellent     0      1       0        0  sdR-s-b1-00007834.fits\n",
      "710    s    1111  60264  60264     flat  sp1     b1    7835     18.0  False  False    False  False  False  False   False  excellent     0      1       0        0  sdR-s-b1-00007835.fits\n",
      "681    s    1111  60264  60264     flat  sp1     b1    7836     12.0  False  False    False  False  False  False   False  excellent     0      1       0        0  sdR-s-b1-00007836.fits\n",
      "333    s    1111  60264  60264     flat  sp1     b1    7837      8.0  False  False    False  False  False  False   False  excellent     0      1       0        0  sdR-s-b1-00007837.fits\n",
      "849    s    1111  60264  60264     flat  sp1     b1    7838      5.0  False  False    False  False  False  False   False  excellent     0      1       0        0  sdR-s-b1-00007838.fits\n",
      "464    s    1111  60264  60264     flat  sp1     b1    7839      4.0  False  False    False  False  False  False   False  excellent     0      1       0        0  sdR-s-b1-00007839.fits\n",
      "826    s    1111  60264  60264     flat  sp1     b1    7840      2.0  False  False    False  False  False  False   False  excellent     0      1       0        0  sdR-s-b1-00007840.fits\n",
      "576    s    1111  60264  60264     flat  sp1     b1    7841      1.0  False  False    False  False  False  False   False  excellent     0      1       0        0  sdR-s-b1-00007841.fits\n",
      "668    s    1111  60264  60264     flat  sp1     b1    7842      1.0  False  False    False  False  False  False   False  excellent     0      1       0        0  sdR-s-b1-00007842.fits\n",
      "620    s    1111  60264  60264     flat  sp1     b1    7843      1.0  False  False    False  False  False  False   False  excellent     0      1       0        0  sdR-s-b1-00007843.fits\n",
      "skipping /home/mejia/Research/lvm/lvmdata/sas/sdsswork/lvm/spectro/redux/0.1.2dev/0001XX/1111/60264/ancillary/lvm-dflat-b1-00007832.fits, file already exist\n"
     ]
    },
    {
     "name": "stderr",
     "output_type": "stream",
     "text": [
      "\u001b[0;34m[INFO]: \u001b[0mwriting extracted spectra to lvm-xflat-b1-00007832.fits\n"
     ]
    },
    {
     "name": "stdout",
     "output_type": "stream",
     "text": [
      "skipping /home/mejia/Research/lvm/lvmdata/sas/sdsswork/lvm/spectro/redux/0.1.2dev/0001XX/1111/60264/ancillary/lvm-hflat-b1-00007832.fits, file already exist\n"
     ]
    },
    {
     "name": "stderr",
     "output_type": "stream",
     "text": [
      "\u001b[0;34m[INFO]: \u001b[0mextracting fiber spectra using fiber profile fitting from lvm-dflat-b1-00007833.fits\n"
     ]
    },
    {
     "name": "stdout",
     "output_type": "stream",
     "text": [
      "skipping /home/mejia/Research/lvm/lvmdata/sas/sdsswork/lvm/spectro/redux/0.1.2dev/0001XX/1111/60264/ancillary/lvm-dflat-b1-00007833.fits, file already exist\n"
     ]
    },
    {
     "name": "stderr",
     "output_type": "stream",
     "text": [
      "\u001b[0;34m[INFO]: \u001b[0mwriting extracted spectra to lvm-xflat-b1-00007833.fits\n"
     ]
    },
    {
     "name": "stdout",
     "output_type": "stream",
     "text": [
      "skipping /home/mejia/Research/lvm/lvmdata/sas/sdsswork/lvm/spectro/redux/0.1.2dev/0001XX/1111/60264/ancillary/lvm-hflat-b1-00007833.fits, file already exist\n"
     ]
    },
    {
     "name": "stderr",
     "output_type": "stream",
     "text": [
      "\u001b[0;34m[INFO]: \u001b[0mextracting fiber spectra using fiber profile fitting from lvm-dflat-b1-00007834.fits\n"
     ]
    },
    {
     "name": "stdout",
     "output_type": "stream",
     "text": [
      "skipping /home/mejia/Research/lvm/lvmdata/sas/sdsswork/lvm/spectro/redux/0.1.2dev/0001XX/1111/60264/ancillary/lvm-dflat-b1-00007834.fits, file already exist\n"
     ]
    },
    {
     "name": "stderr",
     "output_type": "stream",
     "text": [
      "\u001b[0;34m[INFO]: \u001b[0mwriting extracted spectra to lvm-xflat-b1-00007834.fits\n"
     ]
    },
    {
     "name": "stdout",
     "output_type": "stream",
     "text": [
      "skipping /home/mejia/Research/lvm/lvmdata/sas/sdsswork/lvm/spectro/redux/0.1.2dev/0001XX/1111/60264/ancillary/lvm-hflat-b1-00007834.fits, file already exist\n"
     ]
    },
    {
     "name": "stderr",
     "output_type": "stream",
     "text": [
      "\u001b[0;34m[INFO]: \u001b[0mextracting fiber spectra using fiber profile fitting from lvm-dflat-b1-00007835.fits\n"
     ]
    },
    {
     "name": "stdout",
     "output_type": "stream",
     "text": [
      "skipping /home/mejia/Research/lvm/lvmdata/sas/sdsswork/lvm/spectro/redux/0.1.2dev/0001XX/1111/60264/ancillary/lvm-dflat-b1-00007835.fits, file already exist\n"
     ]
    },
    {
     "name": "stderr",
     "output_type": "stream",
     "text": [
      "\u001b[0;34m[INFO]: \u001b[0mwriting extracted spectra to lvm-xflat-b1-00007835.fits\n"
     ]
    },
    {
     "name": "stdout",
     "output_type": "stream",
     "text": [
      "skipping /home/mejia/Research/lvm/lvmdata/sas/sdsswork/lvm/spectro/redux/0.1.2dev/0001XX/1111/60264/ancillary/lvm-hflat-b1-00007835.fits, file already exist\n"
     ]
    },
    {
     "name": "stderr",
     "output_type": "stream",
     "text": [
      "\u001b[0;34m[INFO]: \u001b[0mextracting fiber spectra using fiber profile fitting from lvm-dflat-b1-00007836.fits\n"
     ]
    },
    {
     "name": "stdout",
     "output_type": "stream",
     "text": [
      "skipping /home/mejia/Research/lvm/lvmdata/sas/sdsswork/lvm/spectro/redux/0.1.2dev/0001XX/1111/60264/ancillary/lvm-dflat-b1-00007836.fits, file already exist\n"
     ]
    },
    {
     "name": "stderr",
     "output_type": "stream",
     "text": [
      "\u001b[0;34m[INFO]: \u001b[0mwriting extracted spectra to lvm-xflat-b1-00007836.fits\n"
     ]
    },
    {
     "name": "stdout",
     "output_type": "stream",
     "text": [
      "skipping /home/mejia/Research/lvm/lvmdata/sas/sdsswork/lvm/spectro/redux/0.1.2dev/0001XX/1111/60264/ancillary/lvm-hflat-b1-00007836.fits, file already exist\n"
     ]
    },
    {
     "name": "stderr",
     "output_type": "stream",
     "text": [
      "\u001b[0;34m[INFO]: \u001b[0mextracting fiber spectra using fiber profile fitting from lvm-dflat-b1-00007837.fits\n"
     ]
    },
    {
     "name": "stdout",
     "output_type": "stream",
     "text": [
      "skipping /home/mejia/Research/lvm/lvmdata/sas/sdsswork/lvm/spectro/redux/0.1.2dev/0001XX/1111/60264/ancillary/lvm-dflat-b1-00007837.fits, file already exist\n"
     ]
    },
    {
     "name": "stderr",
     "output_type": "stream",
     "text": [
      "\u001b[0;34m[INFO]: \u001b[0mwriting extracted spectra to lvm-xflat-b1-00007837.fits\n"
     ]
    },
    {
     "name": "stdout",
     "output_type": "stream",
     "text": [
      "skipping /home/mejia/Research/lvm/lvmdata/sas/sdsswork/lvm/spectro/redux/0.1.2dev/0001XX/1111/60264/ancillary/lvm-hflat-b1-00007837.fits, file already exist\n"
     ]
    },
    {
     "name": "stderr",
     "output_type": "stream",
     "text": [
      "\u001b[0;34m[INFO]: \u001b[0mextracting fiber spectra using fiber profile fitting from lvm-dflat-b1-00007838.fits\n"
     ]
    },
    {
     "name": "stdout",
     "output_type": "stream",
     "text": [
      "skipping /home/mejia/Research/lvm/lvmdata/sas/sdsswork/lvm/spectro/redux/0.1.2dev/0001XX/1111/60264/ancillary/lvm-dflat-b1-00007838.fits, file already exist\n"
     ]
    },
    {
     "name": "stderr",
     "output_type": "stream",
     "text": [
      "\u001b[0;34m[INFO]: \u001b[0mwriting extracted spectra to lvm-xflat-b1-00007838.fits\n"
     ]
    },
    {
     "name": "stdout",
     "output_type": "stream",
     "text": [
      "skipping /home/mejia/Research/lvm/lvmdata/sas/sdsswork/lvm/spectro/redux/0.1.2dev/0001XX/1111/60264/ancillary/lvm-hflat-b1-00007838.fits, file already exist\n"
     ]
    },
    {
     "name": "stderr",
     "output_type": "stream",
     "text": [
      "\u001b[0;34m[INFO]: \u001b[0mextracting fiber spectra using fiber profile fitting from lvm-dflat-b1-00007839.fits\n"
     ]
    },
    {
     "name": "stdout",
     "output_type": "stream",
     "text": [
      "skipping /home/mejia/Research/lvm/lvmdata/sas/sdsswork/lvm/spectro/redux/0.1.2dev/0001XX/1111/60264/ancillary/lvm-dflat-b1-00007839.fits, file already exist\n"
     ]
    },
    {
     "name": "stderr",
     "output_type": "stream",
     "text": [
      "\u001b[0;34m[INFO]: \u001b[0mwriting extracted spectra to lvm-xflat-b1-00007839.fits\n"
     ]
    },
    {
     "name": "stdout",
     "output_type": "stream",
     "text": [
      "skipping /home/mejia/Research/lvm/lvmdata/sas/sdsswork/lvm/spectro/redux/0.1.2dev/0001XX/1111/60264/ancillary/lvm-hflat-b1-00007839.fits, file already exist\n"
     ]
    },
    {
     "name": "stderr",
     "output_type": "stream",
     "text": [
      "\u001b[0;34m[INFO]: \u001b[0mextracting fiber spectra using fiber profile fitting from lvm-dflat-b1-00007840.fits\n"
     ]
    },
    {
     "name": "stdout",
     "output_type": "stream",
     "text": [
      "skipping /home/mejia/Research/lvm/lvmdata/sas/sdsswork/lvm/spectro/redux/0.1.2dev/0001XX/1111/60264/ancillary/lvm-dflat-b1-00007840.fits, file already exist\n"
     ]
    },
    {
     "name": "stderr",
     "output_type": "stream",
     "text": [
      "\u001b[0;34m[INFO]: \u001b[0mwriting extracted spectra to lvm-xflat-b1-00007840.fits\n"
     ]
    },
    {
     "name": "stdout",
     "output_type": "stream",
     "text": [
      "skipping /home/mejia/Research/lvm/lvmdata/sas/sdsswork/lvm/spectro/redux/0.1.2dev/0001XX/1111/60264/ancillary/lvm-hflat-b1-00007840.fits, file already exist\n"
     ]
    },
    {
     "name": "stderr",
     "output_type": "stream",
     "text": [
      "\u001b[0;34m[INFO]: \u001b[0mextracting fiber spectra using fiber profile fitting from lvm-dflat-b1-00007841.fits\n"
     ]
    },
    {
     "name": "stdout",
     "output_type": "stream",
     "text": [
      "skipping /home/mejia/Research/lvm/lvmdata/sas/sdsswork/lvm/spectro/redux/0.1.2dev/0001XX/1111/60264/ancillary/lvm-dflat-b1-00007841.fits, file already exist\n"
     ]
    },
    {
     "name": "stderr",
     "output_type": "stream",
     "text": [
      "\u001b[0;34m[INFO]: \u001b[0mwriting extracted spectra to lvm-xflat-b1-00007841.fits\n"
     ]
    },
    {
     "name": "stdout",
     "output_type": "stream",
     "text": [
      "skipping /home/mejia/Research/lvm/lvmdata/sas/sdsswork/lvm/spectro/redux/0.1.2dev/0001XX/1111/60264/ancillary/lvm-hflat-b1-00007841.fits, file already exist\n"
     ]
    },
    {
     "name": "stderr",
     "output_type": "stream",
     "text": [
      "\u001b[0;34m[INFO]: \u001b[0mextracting fiber spectra using fiber profile fitting from lvm-dflat-b1-00007842.fits\n"
     ]
    },
    {
     "name": "stdout",
     "output_type": "stream",
     "text": [
      "skipping /home/mejia/Research/lvm/lvmdata/sas/sdsswork/lvm/spectro/redux/0.1.2dev/0001XX/1111/60264/ancillary/lvm-dflat-b1-00007842.fits, file already exist\n"
     ]
    },
    {
     "name": "stderr",
     "output_type": "stream",
     "text": [
      "\u001b[0;34m[INFO]: \u001b[0mwriting extracted spectra to lvm-xflat-b1-00007842.fits\n"
     ]
    },
    {
     "name": "stdout",
     "output_type": "stream",
     "text": [
      "skipping /home/mejia/Research/lvm/lvmdata/sas/sdsswork/lvm/spectro/redux/0.1.2dev/0001XX/1111/60264/ancillary/lvm-hflat-b1-00007842.fits, file already exist\n"
     ]
    },
    {
     "name": "stderr",
     "output_type": "stream",
     "text": [
      "\u001b[0;34m[INFO]: \u001b[0mextracting fiber spectra using fiber profile fitting from lvm-dflat-b1-00007843.fits\n"
     ]
    },
    {
     "name": "stdout",
     "output_type": "stream",
     "text": [
      "skipping /home/mejia/Research/lvm/lvmdata/sas/sdsswork/lvm/spectro/redux/0.1.2dev/0001XX/1111/60264/ancillary/lvm-dflat-b1-00007843.fits, file already exist\n"
     ]
    },
    {
     "name": "stderr",
     "output_type": "stream",
     "text": [
      "\u001b[0;34m[INFO]: \u001b[0mwriting extracted spectra to lvm-xflat-b1-00007843.fits\n"
     ]
    },
    {
     "name": "stdout",
     "output_type": "stream",
     "text": [
      "skipping /home/mejia/Research/lvm/lvmdata/sas/sdsswork/lvm/spectro/redux/0.1.2dev/0001XX/1111/60264/ancillary/lvm-hflat-b1-00007843.fits, file already exist\n"
     ]
    },
    {
     "name": "stderr",
     "output_type": "stream",
     "text": [
      "\u001b[0;34m[INFO]: \u001b[0mextracting fiber spectra using fiber profile fitting from lvm-dflat-b2-00007832.fits\n"
     ]
    },
    {
     "name": "stdout",
     "output_type": "stream",
     "text": [
      "    hemi  tileid    mjd   rmjd imagetyp spec camera  expnum  exptime   neon   hgne  krypton  xenon  argon   ldls  quartz    quality  qual  stage  status  drpqual                    name\n",
      "672    s    1111  60264  60264     flat  sp2     b2    7832    181.0  False  False    False  False  False  False   False  excellent     0      1       0        0  sdR-s-b2-00007832.fits\n",
      "660    s    1111  60264  60264     flat  sp2     b2    7833     57.0  False  False    False  False  False  False   False  excellent     0      1       0        0  sdR-s-b2-00007833.fits\n",
      "670    s    1111  60264  60264     flat  sp2     b2    7834     29.0  False  False    False  False  False  False   False  excellent     0      1       0        0  sdR-s-b2-00007834.fits\n",
      "382    s    1111  60264  60264     flat  sp2     b2    7835     18.0  False  False    False  False  False  False   False  excellent     0      1       0        0  sdR-s-b2-00007835.fits\n",
      "413    s    1111  60264  60264     flat  sp2     b2    7836     12.0  False  False    False  False  False  False   False  excellent     0      1       0        0  sdR-s-b2-00007836.fits\n",
      "178    s    1111  60264  60264     flat  sp2     b2    7837      8.0  False  False    False  False  False  False   False  excellent     0      1       0        0  sdR-s-b2-00007837.fits\n",
      "766    s    1111  60264  60264     flat  sp2     b2    7838      5.0  False  False    False  False  False  False   False  excellent     0      1       0        0  sdR-s-b2-00007838.fits\n",
      "438    s    1111  60264  60264     flat  sp2     b2    7839      4.0  False  False    False  False  False  False   False  excellent     0      1       0        0  sdR-s-b2-00007839.fits\n",
      "191    s    1111  60264  60264     flat  sp2     b2    7840      2.0  False  False    False  False  False  False   False  excellent     0      1       0        0  sdR-s-b2-00007840.fits\n",
      "564    s    1111  60264  60264     flat  sp2     b2    7841      1.0  False  False    False  False  False  False   False  excellent     0      1       0        0  sdR-s-b2-00007841.fits\n",
      "648    s    1111  60264  60264     flat  sp2     b2    7842      1.0  False  False    False  False  False  False   False  excellent     0      1       0        0  sdR-s-b2-00007842.fits\n",
      "771    s    1111  60264  60264     flat  sp2     b2    7843      1.0  False  False    False  False  False  False   False  excellent     0      1       0        0  sdR-s-b2-00007843.fits\n",
      "skipping /home/mejia/Research/lvm/lvmdata/sas/sdsswork/lvm/spectro/redux/0.1.2dev/0001XX/1111/60264/ancillary/lvm-dflat-b2-00007832.fits, file already exist\n"
     ]
    },
    {
     "name": "stderr",
     "output_type": "stream",
     "text": [
      "\u001b[0;34m[INFO]: \u001b[0mwriting extracted spectra to lvm-xflat-b2-00007832.fits\n"
     ]
    },
    {
     "name": "stdout",
     "output_type": "stream",
     "text": [
      "skipping /home/mejia/Research/lvm/lvmdata/sas/sdsswork/lvm/spectro/redux/0.1.2dev/0001XX/1111/60264/ancillary/lvm-hflat-b2-00007832.fits, file already exist\n"
     ]
    },
    {
     "name": "stderr",
     "output_type": "stream",
     "text": [
      "\u001b[0;34m[INFO]: \u001b[0mextracting fiber spectra using fiber profile fitting from lvm-dflat-b2-00007833.fits\n"
     ]
    },
    {
     "name": "stdout",
     "output_type": "stream",
     "text": [
      "skipping /home/mejia/Research/lvm/lvmdata/sas/sdsswork/lvm/spectro/redux/0.1.2dev/0001XX/1111/60264/ancillary/lvm-dflat-b2-00007833.fits, file already exist\n"
     ]
    },
    {
     "name": "stderr",
     "output_type": "stream",
     "text": [
      "\u001b[0;34m[INFO]: \u001b[0mwriting extracted spectra to lvm-xflat-b2-00007833.fits\n"
     ]
    },
    {
     "name": "stdout",
     "output_type": "stream",
     "text": [
      "skipping /home/mejia/Research/lvm/lvmdata/sas/sdsswork/lvm/spectro/redux/0.1.2dev/0001XX/1111/60264/ancillary/lvm-hflat-b2-00007833.fits, file already exist\n"
     ]
    },
    {
     "name": "stderr",
     "output_type": "stream",
     "text": [
      "\u001b[0;34m[INFO]: \u001b[0mextracting fiber spectra using fiber profile fitting from lvm-dflat-b2-00007834.fits\n"
     ]
    },
    {
     "name": "stdout",
     "output_type": "stream",
     "text": [
      "skipping /home/mejia/Research/lvm/lvmdata/sas/sdsswork/lvm/spectro/redux/0.1.2dev/0001XX/1111/60264/ancillary/lvm-dflat-b2-00007834.fits, file already exist\n"
     ]
    },
    {
     "name": "stderr",
     "output_type": "stream",
     "text": [
      "\u001b[0;34m[INFO]: \u001b[0mwriting extracted spectra to lvm-xflat-b2-00007834.fits\n"
     ]
    },
    {
     "name": "stdout",
     "output_type": "stream",
     "text": [
      "skipping /home/mejia/Research/lvm/lvmdata/sas/sdsswork/lvm/spectro/redux/0.1.2dev/0001XX/1111/60264/ancillary/lvm-hflat-b2-00007834.fits, file already exist\n"
     ]
    },
    {
     "name": "stderr",
     "output_type": "stream",
     "text": [
      "\u001b[0;34m[INFO]: \u001b[0mextracting fiber spectra using fiber profile fitting from lvm-dflat-b2-00007835.fits\n"
     ]
    },
    {
     "name": "stdout",
     "output_type": "stream",
     "text": [
      "skipping /home/mejia/Research/lvm/lvmdata/sas/sdsswork/lvm/spectro/redux/0.1.2dev/0001XX/1111/60264/ancillary/lvm-dflat-b2-00007835.fits, file already exist\n"
     ]
    },
    {
     "name": "stderr",
     "output_type": "stream",
     "text": [
      "\u001b[0;34m[INFO]: \u001b[0mwriting extracted spectra to lvm-xflat-b2-00007835.fits\n"
     ]
    },
    {
     "name": "stdout",
     "output_type": "stream",
     "text": [
      "skipping /home/mejia/Research/lvm/lvmdata/sas/sdsswork/lvm/spectro/redux/0.1.2dev/0001XX/1111/60264/ancillary/lvm-hflat-b2-00007835.fits, file already exist\n"
     ]
    },
    {
     "name": "stderr",
     "output_type": "stream",
     "text": [
      "\u001b[0;34m[INFO]: \u001b[0mextracting fiber spectra using fiber profile fitting from lvm-dflat-b2-00007836.fits\n"
     ]
    },
    {
     "name": "stdout",
     "output_type": "stream",
     "text": [
      "skipping /home/mejia/Research/lvm/lvmdata/sas/sdsswork/lvm/spectro/redux/0.1.2dev/0001XX/1111/60264/ancillary/lvm-dflat-b2-00007836.fits, file already exist\n"
     ]
    },
    {
     "name": "stderr",
     "output_type": "stream",
     "text": [
      "\u001b[0;34m[INFO]: \u001b[0mwriting extracted spectra to lvm-xflat-b2-00007836.fits\n"
     ]
    },
    {
     "name": "stdout",
     "output_type": "stream",
     "text": [
      "skipping /home/mejia/Research/lvm/lvmdata/sas/sdsswork/lvm/spectro/redux/0.1.2dev/0001XX/1111/60264/ancillary/lvm-hflat-b2-00007836.fits, file already exist\n"
     ]
    },
    {
     "name": "stderr",
     "output_type": "stream",
     "text": [
      "\u001b[0;34m[INFO]: \u001b[0mextracting fiber spectra using fiber profile fitting from lvm-dflat-b2-00007837.fits\n"
     ]
    },
    {
     "name": "stdout",
     "output_type": "stream",
     "text": [
      "skipping /home/mejia/Research/lvm/lvmdata/sas/sdsswork/lvm/spectro/redux/0.1.2dev/0001XX/1111/60264/ancillary/lvm-dflat-b2-00007837.fits, file already exist\n"
     ]
    },
    {
     "name": "stderr",
     "output_type": "stream",
     "text": [
      "\u001b[0;34m[INFO]: \u001b[0mwriting extracted spectra to lvm-xflat-b2-00007837.fits\n"
     ]
    },
    {
     "name": "stdout",
     "output_type": "stream",
     "text": [
      "skipping /home/mejia/Research/lvm/lvmdata/sas/sdsswork/lvm/spectro/redux/0.1.2dev/0001XX/1111/60264/ancillary/lvm-hflat-b2-00007837.fits, file already exist\n"
     ]
    },
    {
     "name": "stderr",
     "output_type": "stream",
     "text": [
      "\u001b[0;34m[INFO]: \u001b[0mextracting fiber spectra using fiber profile fitting from lvm-dflat-b2-00007838.fits\n"
     ]
    },
    {
     "name": "stdout",
     "output_type": "stream",
     "text": [
      "skipping /home/mejia/Research/lvm/lvmdata/sas/sdsswork/lvm/spectro/redux/0.1.2dev/0001XX/1111/60264/ancillary/lvm-dflat-b2-00007838.fits, file already exist\n"
     ]
    },
    {
     "name": "stderr",
     "output_type": "stream",
     "text": [
      "\u001b[0;34m[INFO]: \u001b[0mwriting extracted spectra to lvm-xflat-b2-00007838.fits\n"
     ]
    },
    {
     "name": "stdout",
     "output_type": "stream",
     "text": [
      "skipping /home/mejia/Research/lvm/lvmdata/sas/sdsswork/lvm/spectro/redux/0.1.2dev/0001XX/1111/60264/ancillary/lvm-hflat-b2-00007838.fits, file already exist\n"
     ]
    },
    {
     "name": "stderr",
     "output_type": "stream",
     "text": [
      "\u001b[0;34m[INFO]: \u001b[0mextracting fiber spectra using fiber profile fitting from lvm-dflat-b2-00007839.fits\n"
     ]
    },
    {
     "name": "stdout",
     "output_type": "stream",
     "text": [
      "skipping /home/mejia/Research/lvm/lvmdata/sas/sdsswork/lvm/spectro/redux/0.1.2dev/0001XX/1111/60264/ancillary/lvm-dflat-b2-00007839.fits, file already exist\n"
     ]
    },
    {
     "name": "stderr",
     "output_type": "stream",
     "text": [
      "\u001b[0;34m[INFO]: \u001b[0mwriting extracted spectra to lvm-xflat-b2-00007839.fits\n"
     ]
    },
    {
     "name": "stdout",
     "output_type": "stream",
     "text": [
      "skipping /home/mejia/Research/lvm/lvmdata/sas/sdsswork/lvm/spectro/redux/0.1.2dev/0001XX/1111/60264/ancillary/lvm-hflat-b2-00007839.fits, file already exist\n"
     ]
    },
    {
     "name": "stderr",
     "output_type": "stream",
     "text": [
      "\u001b[0;34m[INFO]: \u001b[0mextracting fiber spectra using fiber profile fitting from lvm-dflat-b2-00007840.fits\n"
     ]
    },
    {
     "name": "stdout",
     "output_type": "stream",
     "text": [
      "skipping /home/mejia/Research/lvm/lvmdata/sas/sdsswork/lvm/spectro/redux/0.1.2dev/0001XX/1111/60264/ancillary/lvm-dflat-b2-00007840.fits, file already exist\n"
     ]
    },
    {
     "name": "stderr",
     "output_type": "stream",
     "text": [
      "\u001b[0;34m[INFO]: \u001b[0mwriting extracted spectra to lvm-xflat-b2-00007840.fits\n"
     ]
    },
    {
     "name": "stdout",
     "output_type": "stream",
     "text": [
      "skipping /home/mejia/Research/lvm/lvmdata/sas/sdsswork/lvm/spectro/redux/0.1.2dev/0001XX/1111/60264/ancillary/lvm-hflat-b2-00007840.fits, file already exist\n"
     ]
    },
    {
     "name": "stderr",
     "output_type": "stream",
     "text": [
      "\u001b[0;34m[INFO]: \u001b[0mextracting fiber spectra using fiber profile fitting from lvm-dflat-b2-00007841.fits\n"
     ]
    },
    {
     "name": "stdout",
     "output_type": "stream",
     "text": [
      "skipping /home/mejia/Research/lvm/lvmdata/sas/sdsswork/lvm/spectro/redux/0.1.2dev/0001XX/1111/60264/ancillary/lvm-dflat-b2-00007841.fits, file already exist\n"
     ]
    },
    {
     "name": "stderr",
     "output_type": "stream",
     "text": [
      "\u001b[0;34m[INFO]: \u001b[0mwriting extracted spectra to lvm-xflat-b2-00007841.fits\n"
     ]
    },
    {
     "name": "stdout",
     "output_type": "stream",
     "text": [
      "skipping /home/mejia/Research/lvm/lvmdata/sas/sdsswork/lvm/spectro/redux/0.1.2dev/0001XX/1111/60264/ancillary/lvm-hflat-b2-00007841.fits, file already exist\n"
     ]
    },
    {
     "name": "stderr",
     "output_type": "stream",
     "text": [
      "\u001b[0;34m[INFO]: \u001b[0mextracting fiber spectra using fiber profile fitting from lvm-dflat-b2-00007842.fits\n"
     ]
    },
    {
     "name": "stdout",
     "output_type": "stream",
     "text": [
      "skipping /home/mejia/Research/lvm/lvmdata/sas/sdsswork/lvm/spectro/redux/0.1.2dev/0001XX/1111/60264/ancillary/lvm-dflat-b2-00007842.fits, file already exist\n"
     ]
    },
    {
     "name": "stderr",
     "output_type": "stream",
     "text": [
      "\u001b[0;34m[INFO]: \u001b[0mwriting extracted spectra to lvm-xflat-b2-00007842.fits\n"
     ]
    },
    {
     "name": "stdout",
     "output_type": "stream",
     "text": [
      "skipping /home/mejia/Research/lvm/lvmdata/sas/sdsswork/lvm/spectro/redux/0.1.2dev/0001XX/1111/60264/ancillary/lvm-hflat-b2-00007842.fits, file already exist\n"
     ]
    },
    {
     "name": "stderr",
     "output_type": "stream",
     "text": [
      "\u001b[0;34m[INFO]: \u001b[0mextracting fiber spectra using fiber profile fitting from lvm-dflat-b2-00007843.fits\n"
     ]
    },
    {
     "name": "stdout",
     "output_type": "stream",
     "text": [
      "skipping /home/mejia/Research/lvm/lvmdata/sas/sdsswork/lvm/spectro/redux/0.1.2dev/0001XX/1111/60264/ancillary/lvm-dflat-b2-00007843.fits, file already exist\n"
     ]
    },
    {
     "name": "stderr",
     "output_type": "stream",
     "text": [
      "\u001b[0;34m[INFO]: \u001b[0mwriting extracted spectra to lvm-xflat-b2-00007843.fits\n"
     ]
    },
    {
     "name": "stdout",
     "output_type": "stream",
     "text": [
      "skipping /home/mejia/Research/lvm/lvmdata/sas/sdsswork/lvm/spectro/redux/0.1.2dev/0001XX/1111/60264/ancillary/lvm-hflat-b2-00007843.fits, file already exist\n"
     ]
    },
    {
     "name": "stderr",
     "output_type": "stream",
     "text": [
      "\u001b[0;34m[INFO]: \u001b[0mextracting fiber spectra using fiber profile fitting from lvm-dflat-b3-00007832.fits\n"
     ]
    },
    {
     "name": "stdout",
     "output_type": "stream",
     "text": [
      "    hemi  tileid    mjd   rmjd imagetyp spec camera  expnum  exptime   neon   hgne  krypton  xenon  argon   ldls  quartz    quality  qual  stage  status  drpqual                    name\n",
      "334    s    1111  60264  60264     flat  sp3     b3    7832    181.0  False  False    False  False  False  False   False  excellent     0      1       0        0  sdR-s-b3-00007832.fits\n",
      "168    s    1111  60264  60264     flat  sp3     b3    7833     57.0  False  False    False  False  False  False   False  excellent     0      1       0        0  sdR-s-b3-00007833.fits\n",
      "606    s    1111  60264  60264     flat  sp3     b3    7834     29.0  False  False    False  False  False  False   False  excellent     0      1       0        0  sdR-s-b3-00007834.fits\n",
      "453    s    1111  60264  60264     flat  sp3     b3    7835     18.0  False  False    False  False  False  False   False  excellent     0      1       0        0  sdR-s-b3-00007835.fits\n",
      "598    s    1111  60264  60264     flat  sp3     b3    7836     12.0  False  False    False  False  False  False   False  excellent     0      1       0        0  sdR-s-b3-00007836.fits\n",
      "420    s    1111  60264  60264     flat  sp3     b3    7837      8.0  False  False    False  False  False  False   False  excellent     0      1       0        0  sdR-s-b3-00007837.fits\n",
      "323    s    1111  60264  60264     flat  sp3     b3    7838      5.0  False  False    False  False  False  False   False  excellent     0      1       0        0  sdR-s-b3-00007838.fits\n",
      "279    s    1111  60264  60264     flat  sp3     b3    7839      4.0  False  False    False  False  False  False   False  excellent     0      1       0        0  sdR-s-b3-00007839.fits\n",
      "520    s    1111  60264  60264     flat  sp3     b3    7840      2.0  False  False    False  False  False  False   False  excellent     0      1       0        0  sdR-s-b3-00007840.fits\n",
      "823    s    1111  60264  60264     flat  sp3     b3    7841      1.0  False  False    False  False  False  False   False  excellent     0      1       0        0  sdR-s-b3-00007841.fits\n",
      "301    s    1111  60264  60264     flat  sp3     b3    7842      1.0  False  False    False  False  False  False   False  excellent     0      1       0        0  sdR-s-b3-00007842.fits\n",
      "791    s    1111  60264  60264     flat  sp3     b3    7843      1.0  False  False    False  False  False  False   False  excellent     0      1       0        0  sdR-s-b3-00007843.fits\n",
      "skipping /home/mejia/Research/lvm/lvmdata/sas/sdsswork/lvm/spectro/redux/0.1.2dev/0001XX/1111/60264/ancillary/lvm-dflat-b3-00007832.fits, file already exist\n"
     ]
    },
    {
     "name": "stderr",
     "output_type": "stream",
     "text": [
      "\u001b[0;34m[INFO]: \u001b[0mwriting extracted spectra to lvm-xflat-b3-00007832.fits\n"
     ]
    },
    {
     "name": "stdout",
     "output_type": "stream",
     "text": [
      "skipping /home/mejia/Research/lvm/lvmdata/sas/sdsswork/lvm/spectro/redux/0.1.2dev/0001XX/1111/60264/ancillary/lvm-hflat-b3-00007832.fits, file already exist\n"
     ]
    },
    {
     "name": "stderr",
     "output_type": "stream",
     "text": [
      "\u001b[0;34m[INFO]: \u001b[0mextracting fiber spectra using fiber profile fitting from lvm-dflat-b3-00007833.fits\n"
     ]
    },
    {
     "name": "stdout",
     "output_type": "stream",
     "text": [
      "skipping /home/mejia/Research/lvm/lvmdata/sas/sdsswork/lvm/spectro/redux/0.1.2dev/0001XX/1111/60264/ancillary/lvm-dflat-b3-00007833.fits, file already exist\n"
     ]
    },
    {
     "name": "stderr",
     "output_type": "stream",
     "text": [
      "\u001b[0;34m[INFO]: \u001b[0mwriting extracted spectra to lvm-xflat-b3-00007833.fits\n"
     ]
    },
    {
     "name": "stdout",
     "output_type": "stream",
     "text": [
      "skipping /home/mejia/Research/lvm/lvmdata/sas/sdsswork/lvm/spectro/redux/0.1.2dev/0001XX/1111/60264/ancillary/lvm-hflat-b3-00007833.fits, file already exist\n"
     ]
    },
    {
     "name": "stderr",
     "output_type": "stream",
     "text": [
      "\u001b[0;34m[INFO]: \u001b[0mextracting fiber spectra using fiber profile fitting from lvm-dflat-b3-00007834.fits\n"
     ]
    },
    {
     "name": "stdout",
     "output_type": "stream",
     "text": [
      "skipping /home/mejia/Research/lvm/lvmdata/sas/sdsswork/lvm/spectro/redux/0.1.2dev/0001XX/1111/60264/ancillary/lvm-dflat-b3-00007834.fits, file already exist\n"
     ]
    },
    {
     "name": "stderr",
     "output_type": "stream",
     "text": [
      "\u001b[0;34m[INFO]: \u001b[0mwriting extracted spectra to lvm-xflat-b3-00007834.fits\n"
     ]
    },
    {
     "name": "stdout",
     "output_type": "stream",
     "text": [
      "skipping /home/mejia/Research/lvm/lvmdata/sas/sdsswork/lvm/spectro/redux/0.1.2dev/0001XX/1111/60264/ancillary/lvm-hflat-b3-00007834.fits, file already exist\n"
     ]
    },
    {
     "name": "stderr",
     "output_type": "stream",
     "text": [
      "\u001b[0;34m[INFO]: \u001b[0mextracting fiber spectra using fiber profile fitting from lvm-dflat-b3-00007835.fits\n"
     ]
    },
    {
     "name": "stdout",
     "output_type": "stream",
     "text": [
      "skipping /home/mejia/Research/lvm/lvmdata/sas/sdsswork/lvm/spectro/redux/0.1.2dev/0001XX/1111/60264/ancillary/lvm-dflat-b3-00007835.fits, file already exist\n"
     ]
    },
    {
     "name": "stderr",
     "output_type": "stream",
     "text": [
      "\u001b[0;34m[INFO]: \u001b[0mwriting extracted spectra to lvm-xflat-b3-00007835.fits\n"
     ]
    },
    {
     "name": "stdout",
     "output_type": "stream",
     "text": [
      "skipping /home/mejia/Research/lvm/lvmdata/sas/sdsswork/lvm/spectro/redux/0.1.2dev/0001XX/1111/60264/ancillary/lvm-hflat-b3-00007835.fits, file already exist\n"
     ]
    },
    {
     "name": "stderr",
     "output_type": "stream",
     "text": [
      "\u001b[0;34m[INFO]: \u001b[0mextracting fiber spectra using fiber profile fitting from lvm-dflat-b3-00007836.fits\n"
     ]
    },
    {
     "name": "stdout",
     "output_type": "stream",
     "text": [
      "skipping /home/mejia/Research/lvm/lvmdata/sas/sdsswork/lvm/spectro/redux/0.1.2dev/0001XX/1111/60264/ancillary/lvm-dflat-b3-00007836.fits, file already exist\n"
     ]
    },
    {
     "name": "stderr",
     "output_type": "stream",
     "text": [
      "\u001b[0;34m[INFO]: \u001b[0mwriting extracted spectra to lvm-xflat-b3-00007836.fits\n"
     ]
    },
    {
     "name": "stdout",
     "output_type": "stream",
     "text": [
      "skipping /home/mejia/Research/lvm/lvmdata/sas/sdsswork/lvm/spectro/redux/0.1.2dev/0001XX/1111/60264/ancillary/lvm-hflat-b3-00007836.fits, file already exist\n"
     ]
    },
    {
     "name": "stderr",
     "output_type": "stream",
     "text": [
      "\u001b[0;34m[INFO]: \u001b[0mextracting fiber spectra using fiber profile fitting from lvm-dflat-b3-00007837.fits\n"
     ]
    },
    {
     "name": "stdout",
     "output_type": "stream",
     "text": [
      "skipping /home/mejia/Research/lvm/lvmdata/sas/sdsswork/lvm/spectro/redux/0.1.2dev/0001XX/1111/60264/ancillary/lvm-dflat-b3-00007837.fits, file already exist\n"
     ]
    },
    {
     "name": "stderr",
     "output_type": "stream",
     "text": [
      "\u001b[0;34m[INFO]: \u001b[0mwriting extracted spectra to lvm-xflat-b3-00007837.fits\n"
     ]
    },
    {
     "name": "stdout",
     "output_type": "stream",
     "text": [
      "skipping /home/mejia/Research/lvm/lvmdata/sas/sdsswork/lvm/spectro/redux/0.1.2dev/0001XX/1111/60264/ancillary/lvm-hflat-b3-00007837.fits, file already exist\n"
     ]
    },
    {
     "name": "stderr",
     "output_type": "stream",
     "text": [
      "\u001b[0;34m[INFO]: \u001b[0mextracting fiber spectra using fiber profile fitting from lvm-dflat-b3-00007838.fits\n"
     ]
    },
    {
     "name": "stdout",
     "output_type": "stream",
     "text": [
      "skipping /home/mejia/Research/lvm/lvmdata/sas/sdsswork/lvm/spectro/redux/0.1.2dev/0001XX/1111/60264/ancillary/lvm-dflat-b3-00007838.fits, file already exist\n"
     ]
    },
    {
     "name": "stderr",
     "output_type": "stream",
     "text": [
      "\u001b[0;34m[INFO]: \u001b[0mwriting extracted spectra to lvm-xflat-b3-00007838.fits\n"
     ]
    },
    {
     "name": "stdout",
     "output_type": "stream",
     "text": [
      "skipping /home/mejia/Research/lvm/lvmdata/sas/sdsswork/lvm/spectro/redux/0.1.2dev/0001XX/1111/60264/ancillary/lvm-hflat-b3-00007838.fits, file already exist\n"
     ]
    },
    {
     "name": "stderr",
     "output_type": "stream",
     "text": [
      "\u001b[0;34m[INFO]: \u001b[0mextracting fiber spectra using fiber profile fitting from lvm-dflat-b3-00007839.fits\n"
     ]
    },
    {
     "name": "stdout",
     "output_type": "stream",
     "text": [
      "skipping /home/mejia/Research/lvm/lvmdata/sas/sdsswork/lvm/spectro/redux/0.1.2dev/0001XX/1111/60264/ancillary/lvm-dflat-b3-00007839.fits, file already exist\n"
     ]
    },
    {
     "name": "stderr",
     "output_type": "stream",
     "text": [
      "\u001b[0;34m[INFO]: \u001b[0mwriting extracted spectra to lvm-xflat-b3-00007839.fits\n"
     ]
    },
    {
     "name": "stdout",
     "output_type": "stream",
     "text": [
      "skipping /home/mejia/Research/lvm/lvmdata/sas/sdsswork/lvm/spectro/redux/0.1.2dev/0001XX/1111/60264/ancillary/lvm-hflat-b3-00007839.fits, file already exist\n"
     ]
    },
    {
     "name": "stderr",
     "output_type": "stream",
     "text": [
      "\u001b[0;34m[INFO]: \u001b[0mextracting fiber spectra using fiber profile fitting from lvm-dflat-b3-00007840.fits\n"
     ]
    },
    {
     "name": "stdout",
     "output_type": "stream",
     "text": [
      "skipping /home/mejia/Research/lvm/lvmdata/sas/sdsswork/lvm/spectro/redux/0.1.2dev/0001XX/1111/60264/ancillary/lvm-dflat-b3-00007840.fits, file already exist\n"
     ]
    },
    {
     "name": "stderr",
     "output_type": "stream",
     "text": [
      "\u001b[0;34m[INFO]: \u001b[0mwriting extracted spectra to lvm-xflat-b3-00007840.fits\n"
     ]
    },
    {
     "name": "stdout",
     "output_type": "stream",
     "text": [
      "skipping /home/mejia/Research/lvm/lvmdata/sas/sdsswork/lvm/spectro/redux/0.1.2dev/0001XX/1111/60264/ancillary/lvm-hflat-b3-00007840.fits, file already exist\n"
     ]
    },
    {
     "name": "stderr",
     "output_type": "stream",
     "text": [
      "\u001b[0;34m[INFO]: \u001b[0mextracting fiber spectra using fiber profile fitting from lvm-dflat-b3-00007841.fits\n"
     ]
    },
    {
     "name": "stdout",
     "output_type": "stream",
     "text": [
      "skipping /home/mejia/Research/lvm/lvmdata/sas/sdsswork/lvm/spectro/redux/0.1.2dev/0001XX/1111/60264/ancillary/lvm-dflat-b3-00007841.fits, file already exist\n"
     ]
    },
    {
     "name": "stderr",
     "output_type": "stream",
     "text": [
      "\u001b[0;34m[INFO]: \u001b[0mwriting extracted spectra to lvm-xflat-b3-00007841.fits\n"
     ]
    },
    {
     "name": "stdout",
     "output_type": "stream",
     "text": [
      "skipping /home/mejia/Research/lvm/lvmdata/sas/sdsswork/lvm/spectro/redux/0.1.2dev/0001XX/1111/60264/ancillary/lvm-hflat-b3-00007841.fits, file already exist\n"
     ]
    },
    {
     "name": "stderr",
     "output_type": "stream",
     "text": [
      "\u001b[0;34m[INFO]: \u001b[0mextracting fiber spectra using fiber profile fitting from lvm-dflat-b3-00007842.fits\n"
     ]
    },
    {
     "name": "stdout",
     "output_type": "stream",
     "text": [
      "skipping /home/mejia/Research/lvm/lvmdata/sas/sdsswork/lvm/spectro/redux/0.1.2dev/0001XX/1111/60264/ancillary/lvm-dflat-b3-00007842.fits, file already exist\n"
     ]
    },
    {
     "name": "stderr",
     "output_type": "stream",
     "text": [
      "\u001b[0;34m[INFO]: \u001b[0mwriting extracted spectra to lvm-xflat-b3-00007842.fits\n"
     ]
    },
    {
     "name": "stdout",
     "output_type": "stream",
     "text": [
      "skipping /home/mejia/Research/lvm/lvmdata/sas/sdsswork/lvm/spectro/redux/0.1.2dev/0001XX/1111/60264/ancillary/lvm-hflat-b3-00007842.fits, file already exist\n"
     ]
    },
    {
     "name": "stderr",
     "output_type": "stream",
     "text": [
      "\u001b[0;34m[INFO]: \u001b[0mextracting fiber spectra using fiber profile fitting from lvm-dflat-b3-00007843.fits\n"
     ]
    },
    {
     "name": "stdout",
     "output_type": "stream",
     "text": [
      "skipping /home/mejia/Research/lvm/lvmdata/sas/sdsswork/lvm/spectro/redux/0.1.2dev/0001XX/1111/60264/ancillary/lvm-dflat-b3-00007843.fits, file already exist\n"
     ]
    },
    {
     "name": "stderr",
     "output_type": "stream",
     "text": [
      "\u001b[0;34m[INFO]: \u001b[0mwriting extracted spectra to lvm-xflat-b3-00007843.fits\n"
     ]
    },
    {
     "name": "stdout",
     "output_type": "stream",
     "text": [
      "skipping /home/mejia/Research/lvm/lvmdata/sas/sdsswork/lvm/spectro/redux/0.1.2dev/0001XX/1111/60264/ancillary/lvm-hflat-b3-00007843.fits, file already exist\n"
     ]
    },
    {
     "name": "stderr",
     "output_type": "stream",
     "text": [
      "\u001b[0;34m[INFO]: \u001b[0mextracting fiber spectra using fiber profile fitting from lvm-dflat-r1-00007832.fits\n"
     ]
    },
    {
     "name": "stdout",
     "output_type": "stream",
     "text": [
      "    hemi  tileid    mjd   rmjd imagetyp spec camera  expnum  exptime   neon   hgne  krypton  xenon  argon   ldls  quartz    quality  qual  stage  status  drpqual                    name\n",
      "238    s    1111  60264  60264     flat  sp1     r1    7832    181.0  False  False    False  False  False  False   False  excellent     0      1       0        0  sdR-s-r1-00007832.fits\n",
      "754    s    1111  60264  60264     flat  sp1     r1    7833     57.0  False  False    False  False  False  False   False  excellent     0      1       0        0  sdR-s-r1-00007833.fits\n",
      "210    s    1111  60264  60264     flat  sp1     r1    7834     29.0  False  False    False  False  False  False   False  excellent     0      1       0        0  sdR-s-r1-00007834.fits\n",
      "768    s    1111  60264  60264     flat  sp1     r1    7835     18.0  False  False    False  False  False  False   False  excellent     0      1       0        0  sdR-s-r1-00007835.fits\n",
      "199    s    1111  60264  60264     flat  sp1     r1    7836     12.0  False  False    False  False  False  False   False  excellent     0      1       0        0  sdR-s-r1-00007836.fits\n",
      "100    s    1111  60264  60264     flat  sp1     r1    7837      8.0  False  False    False  False  False  False   False  excellent     0      1       0        0  sdR-s-r1-00007837.fits\n",
      "765    s    1111  60264  60264     flat  sp1     r1    7838      5.0  False  False    False  False  False  False   False  excellent     0      1       0        0  sdR-s-r1-00007838.fits\n",
      "300    s    1111  60264  60264     flat  sp1     r1    7839      4.0  False  False    False  False  False  False   False  excellent     0      1       0        0  sdR-s-r1-00007839.fits\n",
      "820    s    1111  60264  60264     flat  sp1     r1    7840      2.0  False  False    False  False  False  False   False  excellent     0      1       0        0  sdR-s-r1-00007840.fits\n",
      "470    s    1111  60264  60264     flat  sp1     r1    7841      1.0  False  False    False  False  False  False   False  excellent     0      1       0        0  sdR-s-r1-00007841.fits\n",
      "180    s    1111  60264  60264     flat  sp1     r1    7842      1.0  False  False    False  False  False  False   False  excellent     0      1       0        0  sdR-s-r1-00007842.fits\n",
      "207    s    1111  60264  60264     flat  sp1     r1    7843      1.0  False  False    False  False  False  False   False  excellent     0      1       0        0  sdR-s-r1-00007843.fits\n",
      "skipping /home/mejia/Research/lvm/lvmdata/sas/sdsswork/lvm/spectro/redux/0.1.2dev/0001XX/1111/60264/ancillary/lvm-dflat-r1-00007832.fits, file already exist\n"
     ]
    },
    {
     "name": "stderr",
     "output_type": "stream",
     "text": [
      "\u001b[0;34m[INFO]: \u001b[0mwriting extracted spectra to lvm-xflat-r1-00007832.fits\n"
     ]
    },
    {
     "name": "stdout",
     "output_type": "stream",
     "text": [
      "skipping /home/mejia/Research/lvm/lvmdata/sas/sdsswork/lvm/spectro/redux/0.1.2dev/0001XX/1111/60264/ancillary/lvm-hflat-r1-00007832.fits, file already exist\n"
     ]
    },
    {
     "name": "stderr",
     "output_type": "stream",
     "text": [
      "\u001b[0;34m[INFO]: \u001b[0mextracting fiber spectra using fiber profile fitting from lvm-dflat-r1-00007833.fits\n"
     ]
    },
    {
     "name": "stdout",
     "output_type": "stream",
     "text": [
      "skipping /home/mejia/Research/lvm/lvmdata/sas/sdsswork/lvm/spectro/redux/0.1.2dev/0001XX/1111/60264/ancillary/lvm-dflat-r1-00007833.fits, file already exist\n"
     ]
    },
    {
     "name": "stderr",
     "output_type": "stream",
     "text": [
      "\u001b[0;34m[INFO]: \u001b[0mwriting extracted spectra to lvm-xflat-r1-00007833.fits\n"
     ]
    },
    {
     "name": "stdout",
     "output_type": "stream",
     "text": [
      "skipping /home/mejia/Research/lvm/lvmdata/sas/sdsswork/lvm/spectro/redux/0.1.2dev/0001XX/1111/60264/ancillary/lvm-hflat-r1-00007833.fits, file already exist\n"
     ]
    },
    {
     "name": "stderr",
     "output_type": "stream",
     "text": [
      "\u001b[0;34m[INFO]: \u001b[0mextracting fiber spectra using fiber profile fitting from lvm-dflat-r1-00007834.fits\n"
     ]
    },
    {
     "name": "stdout",
     "output_type": "stream",
     "text": [
      "skipping /home/mejia/Research/lvm/lvmdata/sas/sdsswork/lvm/spectro/redux/0.1.2dev/0001XX/1111/60264/ancillary/lvm-dflat-r1-00007834.fits, file already exist\n"
     ]
    },
    {
     "name": "stderr",
     "output_type": "stream",
     "text": [
      "\u001b[0;34m[INFO]: \u001b[0mwriting extracted spectra to lvm-xflat-r1-00007834.fits\n"
     ]
    },
    {
     "name": "stdout",
     "output_type": "stream",
     "text": [
      "skipping /home/mejia/Research/lvm/lvmdata/sas/sdsswork/lvm/spectro/redux/0.1.2dev/0001XX/1111/60264/ancillary/lvm-hflat-r1-00007834.fits, file already exist\n"
     ]
    },
    {
     "name": "stderr",
     "output_type": "stream",
     "text": [
      "\u001b[0;34m[INFO]: \u001b[0mextracting fiber spectra using fiber profile fitting from lvm-dflat-r1-00007835.fits\n"
     ]
    },
    {
     "name": "stdout",
     "output_type": "stream",
     "text": [
      "skipping /home/mejia/Research/lvm/lvmdata/sas/sdsswork/lvm/spectro/redux/0.1.2dev/0001XX/1111/60264/ancillary/lvm-dflat-r1-00007835.fits, file already exist\n"
     ]
    },
    {
     "name": "stderr",
     "output_type": "stream",
     "text": [
      "\u001b[0;34m[INFO]: \u001b[0mwriting extracted spectra to lvm-xflat-r1-00007835.fits\n"
     ]
    },
    {
     "name": "stdout",
     "output_type": "stream",
     "text": [
      "skipping /home/mejia/Research/lvm/lvmdata/sas/sdsswork/lvm/spectro/redux/0.1.2dev/0001XX/1111/60264/ancillary/lvm-hflat-r1-00007835.fits, file already exist\n"
     ]
    },
    {
     "name": "stderr",
     "output_type": "stream",
     "text": [
      "\u001b[0;34m[INFO]: \u001b[0mextracting fiber spectra using fiber profile fitting from lvm-dflat-r1-00007836.fits\n"
     ]
    },
    {
     "name": "stdout",
     "output_type": "stream",
     "text": [
      "skipping /home/mejia/Research/lvm/lvmdata/sas/sdsswork/lvm/spectro/redux/0.1.2dev/0001XX/1111/60264/ancillary/lvm-dflat-r1-00007836.fits, file already exist\n"
     ]
    },
    {
     "name": "stderr",
     "output_type": "stream",
     "text": [
      "\u001b[0;34m[INFO]: \u001b[0mwriting extracted spectra to lvm-xflat-r1-00007836.fits\n"
     ]
    },
    {
     "name": "stdout",
     "output_type": "stream",
     "text": [
      "skipping /home/mejia/Research/lvm/lvmdata/sas/sdsswork/lvm/spectro/redux/0.1.2dev/0001XX/1111/60264/ancillary/lvm-hflat-r1-00007836.fits, file already exist\n"
     ]
    },
    {
     "name": "stderr",
     "output_type": "stream",
     "text": [
      "\u001b[0;34m[INFO]: \u001b[0mextracting fiber spectra using fiber profile fitting from lvm-dflat-r1-00007837.fits\n"
     ]
    },
    {
     "name": "stdout",
     "output_type": "stream",
     "text": [
      "skipping /home/mejia/Research/lvm/lvmdata/sas/sdsswork/lvm/spectro/redux/0.1.2dev/0001XX/1111/60264/ancillary/lvm-dflat-r1-00007837.fits, file already exist\n"
     ]
    },
    {
     "name": "stderr",
     "output_type": "stream",
     "text": [
      "\u001b[0;34m[INFO]: \u001b[0mwriting extracted spectra to lvm-xflat-r1-00007837.fits\n"
     ]
    },
    {
     "name": "stdout",
     "output_type": "stream",
     "text": [
      "skipping /home/mejia/Research/lvm/lvmdata/sas/sdsswork/lvm/spectro/redux/0.1.2dev/0001XX/1111/60264/ancillary/lvm-hflat-r1-00007837.fits, file already exist\n"
     ]
    },
    {
     "name": "stderr",
     "output_type": "stream",
     "text": [
      "\u001b[0;34m[INFO]: \u001b[0mextracting fiber spectra using fiber profile fitting from lvm-dflat-r1-00007838.fits\n"
     ]
    },
    {
     "name": "stdout",
     "output_type": "stream",
     "text": [
      "skipping /home/mejia/Research/lvm/lvmdata/sas/sdsswork/lvm/spectro/redux/0.1.2dev/0001XX/1111/60264/ancillary/lvm-dflat-r1-00007838.fits, file already exist\n"
     ]
    },
    {
     "name": "stderr",
     "output_type": "stream",
     "text": [
      "\u001b[0;34m[INFO]: \u001b[0mwriting extracted spectra to lvm-xflat-r1-00007838.fits\n"
     ]
    },
    {
     "name": "stdout",
     "output_type": "stream",
     "text": [
      "skipping /home/mejia/Research/lvm/lvmdata/sas/sdsswork/lvm/spectro/redux/0.1.2dev/0001XX/1111/60264/ancillary/lvm-hflat-r1-00007838.fits, file already exist\n"
     ]
    },
    {
     "name": "stderr",
     "output_type": "stream",
     "text": [
      "\u001b[0;34m[INFO]: \u001b[0mextracting fiber spectra using fiber profile fitting from lvm-dflat-r1-00007839.fits\n"
     ]
    },
    {
     "name": "stdout",
     "output_type": "stream",
     "text": [
      "skipping /home/mejia/Research/lvm/lvmdata/sas/sdsswork/lvm/spectro/redux/0.1.2dev/0001XX/1111/60264/ancillary/lvm-dflat-r1-00007839.fits, file already exist\n"
     ]
    },
    {
     "name": "stderr",
     "output_type": "stream",
     "text": [
      "\u001b[0;34m[INFO]: \u001b[0mwriting extracted spectra to lvm-xflat-r1-00007839.fits\n"
     ]
    },
    {
     "name": "stdout",
     "output_type": "stream",
     "text": [
      "skipping /home/mejia/Research/lvm/lvmdata/sas/sdsswork/lvm/spectro/redux/0.1.2dev/0001XX/1111/60264/ancillary/lvm-hflat-r1-00007839.fits, file already exist\n"
     ]
    },
    {
     "name": "stderr",
     "output_type": "stream",
     "text": [
      "\u001b[0;34m[INFO]: \u001b[0mextracting fiber spectra using fiber profile fitting from lvm-dflat-r1-00007840.fits\n"
     ]
    },
    {
     "name": "stdout",
     "output_type": "stream",
     "text": [
      "skipping /home/mejia/Research/lvm/lvmdata/sas/sdsswork/lvm/spectro/redux/0.1.2dev/0001XX/1111/60264/ancillary/lvm-dflat-r1-00007840.fits, file already exist\n"
     ]
    },
    {
     "name": "stderr",
     "output_type": "stream",
     "text": [
      "\u001b[0;34m[INFO]: \u001b[0mwriting extracted spectra to lvm-xflat-r1-00007840.fits\n"
     ]
    },
    {
     "name": "stdout",
     "output_type": "stream",
     "text": [
      "skipping /home/mejia/Research/lvm/lvmdata/sas/sdsswork/lvm/spectro/redux/0.1.2dev/0001XX/1111/60264/ancillary/lvm-hflat-r1-00007840.fits, file already exist\n"
     ]
    },
    {
     "name": "stderr",
     "output_type": "stream",
     "text": [
      "\u001b[0;34m[INFO]: \u001b[0mextracting fiber spectra using fiber profile fitting from lvm-dflat-r1-00007841.fits\n"
     ]
    },
    {
     "name": "stdout",
     "output_type": "stream",
     "text": [
      "skipping /home/mejia/Research/lvm/lvmdata/sas/sdsswork/lvm/spectro/redux/0.1.2dev/0001XX/1111/60264/ancillary/lvm-dflat-r1-00007841.fits, file already exist\n"
     ]
    },
    {
     "name": "stderr",
     "output_type": "stream",
     "text": [
      "\u001b[0;34m[INFO]: \u001b[0mwriting extracted spectra to lvm-xflat-r1-00007841.fits\n"
     ]
    },
    {
     "name": "stdout",
     "output_type": "stream",
     "text": [
      "skipping /home/mejia/Research/lvm/lvmdata/sas/sdsswork/lvm/spectro/redux/0.1.2dev/0001XX/1111/60264/ancillary/lvm-hflat-r1-00007841.fits, file already exist\n"
     ]
    },
    {
     "name": "stderr",
     "output_type": "stream",
     "text": [
      "\u001b[0;34m[INFO]: \u001b[0mextracting fiber spectra using fiber profile fitting from lvm-dflat-r1-00007842.fits\n"
     ]
    },
    {
     "name": "stdout",
     "output_type": "stream",
     "text": [
      "skipping /home/mejia/Research/lvm/lvmdata/sas/sdsswork/lvm/spectro/redux/0.1.2dev/0001XX/1111/60264/ancillary/lvm-dflat-r1-00007842.fits, file already exist\n"
     ]
    },
    {
     "name": "stderr",
     "output_type": "stream",
     "text": [
      "\u001b[0;34m[INFO]: \u001b[0mwriting extracted spectra to lvm-xflat-r1-00007842.fits\n"
     ]
    },
    {
     "name": "stdout",
     "output_type": "stream",
     "text": [
      "skipping /home/mejia/Research/lvm/lvmdata/sas/sdsswork/lvm/spectro/redux/0.1.2dev/0001XX/1111/60264/ancillary/lvm-hflat-r1-00007842.fits, file already exist\n"
     ]
    },
    {
     "name": "stderr",
     "output_type": "stream",
     "text": [
      "\u001b[0;34m[INFO]: \u001b[0mextracting fiber spectra using fiber profile fitting from lvm-dflat-r1-00007843.fits\n"
     ]
    },
    {
     "name": "stdout",
     "output_type": "stream",
     "text": [
      "skipping /home/mejia/Research/lvm/lvmdata/sas/sdsswork/lvm/spectro/redux/0.1.2dev/0001XX/1111/60264/ancillary/lvm-dflat-r1-00007843.fits, file already exist\n"
     ]
    },
    {
     "name": "stderr",
     "output_type": "stream",
     "text": [
      "\u001b[0;34m[INFO]: \u001b[0mwriting extracted spectra to lvm-xflat-r1-00007843.fits\n"
     ]
    },
    {
     "name": "stdout",
     "output_type": "stream",
     "text": [
      "skipping /home/mejia/Research/lvm/lvmdata/sas/sdsswork/lvm/spectro/redux/0.1.2dev/0001XX/1111/60264/ancillary/lvm-hflat-r1-00007843.fits, file already exist\n"
     ]
    },
    {
     "name": "stderr",
     "output_type": "stream",
     "text": [
      "\u001b[0;34m[INFO]: \u001b[0mextracting fiber spectra using fiber profile fitting from lvm-dflat-r2-00007832.fits\n"
     ]
    },
    {
     "name": "stdout",
     "output_type": "stream",
     "text": [
      "    hemi  tileid    mjd   rmjd imagetyp spec camera  expnum  exptime   neon   hgne  krypton  xenon  argon   ldls  quartz    quality  qual  stage  status  drpqual                    name\n",
      "770    s    1111  60264  60264     flat  sp2     r2    7832    181.0  False  False    False  False  False  False   False  excellent     0      1       0        0  sdR-s-r2-00007832.fits\n",
      "742    s    1111  60264  60264     flat  sp2     r2    7833     57.0  False  False    False  False  False  False   False  excellent     0      1       0        0  sdR-s-r2-00007833.fits\n",
      "630    s    1111  60264  60264     flat  sp2     r2    7834     29.0  False  False    False  False  False  False   False  excellent     0      1       0        0  sdR-s-r2-00007834.fits\n",
      "155    s    1111  60264  60264     flat  sp2     r2    7835     18.0  False  False    False  False  False  False   False  excellent     0      1       0        0  sdR-s-r2-00007835.fits\n",
      "654    s    1111  60264  60264     flat  sp2     r2    7836     12.0  False  False    False  False  False  False   False  excellent     0      1       0        0  sdR-s-r2-00007836.fits\n",
      "181    s    1111  60264  60264     flat  sp2     r2    7837      8.0  False  False    False  False  False  False   False  excellent     0      1       0        0  sdR-s-r2-00007837.fits\n",
      "827    s    1111  60264  60264     flat  sp2     r2    7838      5.0  False  False    False  False  False  False   False  excellent     0      1       0        0  sdR-s-r2-00007838.fits\n",
      "536    s    1111  60264  60264     flat  sp2     r2    7839      4.0  False  False    False  False  False  False   False  excellent     0      1       0        0  sdR-s-r2-00007839.fits\n",
      "825    s    1111  60264  60264     flat  sp2     r2    7840      2.0  False  False    False  False  False  False   False  excellent     0      1       0        0  sdR-s-r2-00007840.fits\n",
      "317    s    1111  60264  60264     flat  sp2     r2    7841      1.0  False  False    False  False  False  False   False  excellent     0      1       0        0  sdR-s-r2-00007841.fits\n",
      "633    s    1111  60264  60264     flat  sp2     r2    7842      1.0  False  False    False  False  False  False   False  excellent     0      1       0        0  sdR-s-r2-00007842.fits\n",
      "215    s    1111  60264  60264     flat  sp2     r2    7843      1.0  False  False    False  False  False  False   False  excellent     0      1       0        0  sdR-s-r2-00007843.fits\n",
      "skipping /home/mejia/Research/lvm/lvmdata/sas/sdsswork/lvm/spectro/redux/0.1.2dev/0001XX/1111/60264/ancillary/lvm-dflat-r2-00007832.fits, file already exist\n"
     ]
    },
    {
     "name": "stderr",
     "output_type": "stream",
     "text": [
      "\u001b[0;34m[INFO]: \u001b[0mwriting extracted spectra to lvm-xflat-r2-00007832.fits\n"
     ]
    },
    {
     "name": "stdout",
     "output_type": "stream",
     "text": [
      "skipping /home/mejia/Research/lvm/lvmdata/sas/sdsswork/lvm/spectro/redux/0.1.2dev/0001XX/1111/60264/ancillary/lvm-hflat-r2-00007832.fits, file already exist\n"
     ]
    },
    {
     "name": "stderr",
     "output_type": "stream",
     "text": [
      "\u001b[0;34m[INFO]: \u001b[0mextracting fiber spectra using fiber profile fitting from lvm-dflat-r2-00007833.fits\n"
     ]
    },
    {
     "name": "stdout",
     "output_type": "stream",
     "text": [
      "skipping /home/mejia/Research/lvm/lvmdata/sas/sdsswork/lvm/spectro/redux/0.1.2dev/0001XX/1111/60264/ancillary/lvm-dflat-r2-00007833.fits, file already exist\n"
     ]
    },
    {
     "name": "stderr",
     "output_type": "stream",
     "text": [
      "\u001b[0;34m[INFO]: \u001b[0mwriting extracted spectra to lvm-xflat-r2-00007833.fits\n"
     ]
    },
    {
     "name": "stdout",
     "output_type": "stream",
     "text": [
      "skipping /home/mejia/Research/lvm/lvmdata/sas/sdsswork/lvm/spectro/redux/0.1.2dev/0001XX/1111/60264/ancillary/lvm-hflat-r2-00007833.fits, file already exist\n"
     ]
    },
    {
     "name": "stderr",
     "output_type": "stream",
     "text": [
      "\u001b[0;34m[INFO]: \u001b[0mextracting fiber spectra using fiber profile fitting from lvm-dflat-r2-00007834.fits\n"
     ]
    },
    {
     "name": "stdout",
     "output_type": "stream",
     "text": [
      "skipping /home/mejia/Research/lvm/lvmdata/sas/sdsswork/lvm/spectro/redux/0.1.2dev/0001XX/1111/60264/ancillary/lvm-dflat-r2-00007834.fits, file already exist\n"
     ]
    },
    {
     "name": "stderr",
     "output_type": "stream",
     "text": [
      "\u001b[0;34m[INFO]: \u001b[0mwriting extracted spectra to lvm-xflat-r2-00007834.fits\n"
     ]
    },
    {
     "name": "stdout",
     "output_type": "stream",
     "text": [
      "skipping /home/mejia/Research/lvm/lvmdata/sas/sdsswork/lvm/spectro/redux/0.1.2dev/0001XX/1111/60264/ancillary/lvm-hflat-r2-00007834.fits, file already exist\n"
     ]
    },
    {
     "name": "stderr",
     "output_type": "stream",
     "text": [
      "\u001b[0;34m[INFO]: \u001b[0mextracting fiber spectra using fiber profile fitting from lvm-dflat-r2-00007835.fits\n"
     ]
    },
    {
     "name": "stdout",
     "output_type": "stream",
     "text": [
      "skipping /home/mejia/Research/lvm/lvmdata/sas/sdsswork/lvm/spectro/redux/0.1.2dev/0001XX/1111/60264/ancillary/lvm-dflat-r2-00007835.fits, file already exist\n"
     ]
    },
    {
     "name": "stderr",
     "output_type": "stream",
     "text": [
      "\u001b[0;34m[INFO]: \u001b[0mwriting extracted spectra to lvm-xflat-r2-00007835.fits\n"
     ]
    },
    {
     "name": "stdout",
     "output_type": "stream",
     "text": [
      "skipping /home/mejia/Research/lvm/lvmdata/sas/sdsswork/lvm/spectro/redux/0.1.2dev/0001XX/1111/60264/ancillary/lvm-hflat-r2-00007835.fits, file already exist\n"
     ]
    },
    {
     "name": "stderr",
     "output_type": "stream",
     "text": [
      "\u001b[0;34m[INFO]: \u001b[0mextracting fiber spectra using fiber profile fitting from lvm-dflat-r2-00007836.fits\n"
     ]
    },
    {
     "name": "stdout",
     "output_type": "stream",
     "text": [
      "skipping /home/mejia/Research/lvm/lvmdata/sas/sdsswork/lvm/spectro/redux/0.1.2dev/0001XX/1111/60264/ancillary/lvm-dflat-r2-00007836.fits, file already exist\n"
     ]
    },
    {
     "name": "stderr",
     "output_type": "stream",
     "text": [
      "\u001b[0;34m[INFO]: \u001b[0mwriting extracted spectra to lvm-xflat-r2-00007836.fits\n"
     ]
    },
    {
     "name": "stdout",
     "output_type": "stream",
     "text": [
      "skipping /home/mejia/Research/lvm/lvmdata/sas/sdsswork/lvm/spectro/redux/0.1.2dev/0001XX/1111/60264/ancillary/lvm-hflat-r2-00007836.fits, file already exist\n"
     ]
    },
    {
     "name": "stderr",
     "output_type": "stream",
     "text": [
      "\u001b[0;34m[INFO]: \u001b[0mextracting fiber spectra using fiber profile fitting from lvm-dflat-r2-00007837.fits\n"
     ]
    },
    {
     "name": "stdout",
     "output_type": "stream",
     "text": [
      "skipping /home/mejia/Research/lvm/lvmdata/sas/sdsswork/lvm/spectro/redux/0.1.2dev/0001XX/1111/60264/ancillary/lvm-dflat-r2-00007837.fits, file already exist\n"
     ]
    },
    {
     "name": "stderr",
     "output_type": "stream",
     "text": [
      "\u001b[0;34m[INFO]: \u001b[0mwriting extracted spectra to lvm-xflat-r2-00007837.fits\n"
     ]
    },
    {
     "name": "stdout",
     "output_type": "stream",
     "text": [
      "skipping /home/mejia/Research/lvm/lvmdata/sas/sdsswork/lvm/spectro/redux/0.1.2dev/0001XX/1111/60264/ancillary/lvm-hflat-r2-00007837.fits, file already exist\n"
     ]
    },
    {
     "name": "stderr",
     "output_type": "stream",
     "text": [
      "\u001b[0;34m[INFO]: \u001b[0mextracting fiber spectra using fiber profile fitting from lvm-dflat-r2-00007838.fits\n"
     ]
    },
    {
     "name": "stdout",
     "output_type": "stream",
     "text": [
      "skipping /home/mejia/Research/lvm/lvmdata/sas/sdsswork/lvm/spectro/redux/0.1.2dev/0001XX/1111/60264/ancillary/lvm-dflat-r2-00007838.fits, file already exist\n"
     ]
    },
    {
     "name": "stderr",
     "output_type": "stream",
     "text": [
      "\u001b[0;34m[INFO]: \u001b[0mwriting extracted spectra to lvm-xflat-r2-00007838.fits\n"
     ]
    },
    {
     "name": "stdout",
     "output_type": "stream",
     "text": [
      "skipping /home/mejia/Research/lvm/lvmdata/sas/sdsswork/lvm/spectro/redux/0.1.2dev/0001XX/1111/60264/ancillary/lvm-hflat-r2-00007838.fits, file already exist\n"
     ]
    },
    {
     "name": "stderr",
     "output_type": "stream",
     "text": [
      "\u001b[0;34m[INFO]: \u001b[0mextracting fiber spectra using fiber profile fitting from lvm-dflat-r2-00007839.fits\n"
     ]
    },
    {
     "name": "stdout",
     "output_type": "stream",
     "text": [
      "skipping /home/mejia/Research/lvm/lvmdata/sas/sdsswork/lvm/spectro/redux/0.1.2dev/0001XX/1111/60264/ancillary/lvm-dflat-r2-00007839.fits, file already exist\n"
     ]
    },
    {
     "name": "stderr",
     "output_type": "stream",
     "text": [
      "\u001b[0;34m[INFO]: \u001b[0mwriting extracted spectra to lvm-xflat-r2-00007839.fits\n"
     ]
    },
    {
     "name": "stdout",
     "output_type": "stream",
     "text": [
      "skipping /home/mejia/Research/lvm/lvmdata/sas/sdsswork/lvm/spectro/redux/0.1.2dev/0001XX/1111/60264/ancillary/lvm-hflat-r2-00007839.fits, file already exist\n"
     ]
    },
    {
     "name": "stderr",
     "output_type": "stream",
     "text": [
      "\u001b[0;34m[INFO]: \u001b[0mextracting fiber spectra using fiber profile fitting from lvm-dflat-r2-00007840.fits\n"
     ]
    },
    {
     "name": "stdout",
     "output_type": "stream",
     "text": [
      "skipping /home/mejia/Research/lvm/lvmdata/sas/sdsswork/lvm/spectro/redux/0.1.2dev/0001XX/1111/60264/ancillary/lvm-dflat-r2-00007840.fits, file already exist\n"
     ]
    },
    {
     "name": "stderr",
     "output_type": "stream",
     "text": [
      "\u001b[0;34m[INFO]: \u001b[0mwriting extracted spectra to lvm-xflat-r2-00007840.fits\n"
     ]
    },
    {
     "name": "stdout",
     "output_type": "stream",
     "text": [
      "skipping /home/mejia/Research/lvm/lvmdata/sas/sdsswork/lvm/spectro/redux/0.1.2dev/0001XX/1111/60264/ancillary/lvm-hflat-r2-00007840.fits, file already exist\n"
     ]
    },
    {
     "name": "stderr",
     "output_type": "stream",
     "text": [
      "\u001b[0;34m[INFO]: \u001b[0mextracting fiber spectra using fiber profile fitting from lvm-dflat-r2-00007841.fits\n"
     ]
    },
    {
     "name": "stdout",
     "output_type": "stream",
     "text": [
      "skipping /home/mejia/Research/lvm/lvmdata/sas/sdsswork/lvm/spectro/redux/0.1.2dev/0001XX/1111/60264/ancillary/lvm-dflat-r2-00007841.fits, file already exist\n"
     ]
    },
    {
     "name": "stderr",
     "output_type": "stream",
     "text": [
      "\u001b[0;34m[INFO]: \u001b[0mwriting extracted spectra to lvm-xflat-r2-00007841.fits\n"
     ]
    },
    {
     "name": "stdout",
     "output_type": "stream",
     "text": [
      "skipping /home/mejia/Research/lvm/lvmdata/sas/sdsswork/lvm/spectro/redux/0.1.2dev/0001XX/1111/60264/ancillary/lvm-hflat-r2-00007841.fits, file already exist\n"
     ]
    },
    {
     "name": "stderr",
     "output_type": "stream",
     "text": [
      "\u001b[0;34m[INFO]: \u001b[0mextracting fiber spectra using fiber profile fitting from lvm-dflat-r2-00007842.fits\n"
     ]
    },
    {
     "name": "stdout",
     "output_type": "stream",
     "text": [
      "skipping /home/mejia/Research/lvm/lvmdata/sas/sdsswork/lvm/spectro/redux/0.1.2dev/0001XX/1111/60264/ancillary/lvm-dflat-r2-00007842.fits, file already exist\n"
     ]
    },
    {
     "name": "stderr",
     "output_type": "stream",
     "text": [
      "\u001b[0;34m[INFO]: \u001b[0mwriting extracted spectra to lvm-xflat-r2-00007842.fits\n"
     ]
    },
    {
     "name": "stdout",
     "output_type": "stream",
     "text": [
      "skipping /home/mejia/Research/lvm/lvmdata/sas/sdsswork/lvm/spectro/redux/0.1.2dev/0001XX/1111/60264/ancillary/lvm-hflat-r2-00007842.fits, file already exist\n"
     ]
    },
    {
     "name": "stderr",
     "output_type": "stream",
     "text": [
      "\u001b[0;34m[INFO]: \u001b[0mextracting fiber spectra using fiber profile fitting from lvm-dflat-r2-00007843.fits\n"
     ]
    },
    {
     "name": "stdout",
     "output_type": "stream",
     "text": [
      "skipping /home/mejia/Research/lvm/lvmdata/sas/sdsswork/lvm/spectro/redux/0.1.2dev/0001XX/1111/60264/ancillary/lvm-dflat-r2-00007843.fits, file already exist\n"
     ]
    },
    {
     "name": "stderr",
     "output_type": "stream",
     "text": [
      "\u001b[0;34m[INFO]: \u001b[0mwriting extracted spectra to lvm-xflat-r2-00007843.fits\n"
     ]
    },
    {
     "name": "stdout",
     "output_type": "stream",
     "text": [
      "skipping /home/mejia/Research/lvm/lvmdata/sas/sdsswork/lvm/spectro/redux/0.1.2dev/0001XX/1111/60264/ancillary/lvm-hflat-r2-00007843.fits, file already exist\n"
     ]
    },
    {
     "name": "stderr",
     "output_type": "stream",
     "text": [
      "\u001b[0;34m[INFO]: \u001b[0mextracting fiber spectra using fiber profile fitting from lvm-dflat-r3-00007832.fits\n"
     ]
    },
    {
     "name": "stdout",
     "output_type": "stream",
     "text": [
      "    hemi  tileid    mjd   rmjd imagetyp spec camera  expnum  exptime   neon   hgne  krypton  xenon  argon   ldls  quartz    quality  qual  stage  status  drpqual                    name\n",
      "834    s    1111  60264  60264     flat  sp3     r3    7832    181.0  False  False    False  False  False  False   False  excellent     0      1       0        0  sdR-s-r3-00007832.fits\n",
      "449    s    1111  60264  60264     flat  sp3     r3    7833     57.0  False  False    False  False  False  False   False  excellent     0      1       0        0  sdR-s-r3-00007833.fits\n",
      "707    s    1111  60264  60264     flat  sp3     r3    7834     29.0  False  False    False  False  False  False   False  excellent     0      1       0        0  sdR-s-r3-00007834.fits\n",
      "594    s    1111  60264  60264     flat  sp3     r3    7835     18.0  False  False    False  False  False  False   False  excellent     0      1       0        0  sdR-s-r3-00007835.fits\n",
      "108    s    1111  60264  60264     flat  sp3     r3    7836     12.0  False  False    False  False  False  False   False  excellent     0      1       0        0  sdR-s-r3-00007836.fits\n",
      "811    s    1111  60264  60264     flat  sp3     r3    7837      8.0  False  False    False  False  False  False   False  excellent     0      1       0        0  sdR-s-r3-00007837.fits\n",
      "270    s    1111  60264  60264     flat  sp3     r3    7838      5.0  False  False    False  False  False  False   False  excellent     0      1       0        0  sdR-s-r3-00007838.fits\n",
      "263    s    1111  60264  60264     flat  sp3     r3    7839      4.0  False  False    False  False  False  False   False  excellent     0      1       0        0  sdR-s-r3-00007839.fits\n",
      "232    s    1111  60264  60264     flat  sp3     r3    7840      2.0  False  False    False  False  False  False   False  excellent     0      1       0        0  sdR-s-r3-00007840.fits\n",
      "193    s    1111  60264  60264     flat  sp3     r3    7841      1.0  False  False    False  False  False  False   False  excellent     0      1       0        0  sdR-s-r3-00007841.fits\n",
      "336    s    1111  60264  60264     flat  sp3     r3    7842      1.0  False  False    False  False  False  False   False  excellent     0      1       0        0  sdR-s-r3-00007842.fits\n",
      "376    s    1111  60264  60264     flat  sp3     r3    7843      1.0  False  False    False  False  False  False   False  excellent     0      1       0        0  sdR-s-r3-00007843.fits\n",
      "skipping /home/mejia/Research/lvm/lvmdata/sas/sdsswork/lvm/spectro/redux/0.1.2dev/0001XX/1111/60264/ancillary/lvm-dflat-r3-00007832.fits, file already exist\n"
     ]
    },
    {
     "name": "stderr",
     "output_type": "stream",
     "text": [
      "\u001b[0;34m[INFO]: \u001b[0mwriting extracted spectra to lvm-xflat-r3-00007832.fits\n"
     ]
    },
    {
     "name": "stdout",
     "output_type": "stream",
     "text": [
      "skipping /home/mejia/Research/lvm/lvmdata/sas/sdsswork/lvm/spectro/redux/0.1.2dev/0001XX/1111/60264/ancillary/lvm-hflat-r3-00007832.fits, file already exist\n"
     ]
    },
    {
     "name": "stderr",
     "output_type": "stream",
     "text": [
      "\u001b[0;34m[INFO]: \u001b[0mextracting fiber spectra using fiber profile fitting from lvm-dflat-r3-00007833.fits\n"
     ]
    },
    {
     "name": "stdout",
     "output_type": "stream",
     "text": [
      "skipping /home/mejia/Research/lvm/lvmdata/sas/sdsswork/lvm/spectro/redux/0.1.2dev/0001XX/1111/60264/ancillary/lvm-dflat-r3-00007833.fits, file already exist\n"
     ]
    },
    {
     "name": "stderr",
     "output_type": "stream",
     "text": [
      "\u001b[0;34m[INFO]: \u001b[0mwriting extracted spectra to lvm-xflat-r3-00007833.fits\n"
     ]
    },
    {
     "name": "stdout",
     "output_type": "stream",
     "text": [
      "skipping /home/mejia/Research/lvm/lvmdata/sas/sdsswork/lvm/spectro/redux/0.1.2dev/0001XX/1111/60264/ancillary/lvm-hflat-r3-00007833.fits, file already exist\n"
     ]
    },
    {
     "name": "stderr",
     "output_type": "stream",
     "text": [
      "\u001b[0;34m[INFO]: \u001b[0mextracting fiber spectra using fiber profile fitting from lvm-dflat-r3-00007834.fits\n"
     ]
    },
    {
     "name": "stdout",
     "output_type": "stream",
     "text": [
      "skipping /home/mejia/Research/lvm/lvmdata/sas/sdsswork/lvm/spectro/redux/0.1.2dev/0001XX/1111/60264/ancillary/lvm-dflat-r3-00007834.fits, file already exist\n"
     ]
    },
    {
     "name": "stderr",
     "output_type": "stream",
     "text": [
      "\u001b[0;34m[INFO]: \u001b[0mwriting extracted spectra to lvm-xflat-r3-00007834.fits\n"
     ]
    },
    {
     "name": "stdout",
     "output_type": "stream",
     "text": [
      "skipping /home/mejia/Research/lvm/lvmdata/sas/sdsswork/lvm/spectro/redux/0.1.2dev/0001XX/1111/60264/ancillary/lvm-hflat-r3-00007834.fits, file already exist\n"
     ]
    },
    {
     "name": "stderr",
     "output_type": "stream",
     "text": [
      "\u001b[0;34m[INFO]: \u001b[0mextracting fiber spectra using fiber profile fitting from lvm-dflat-r3-00007835.fits\n"
     ]
    },
    {
     "name": "stdout",
     "output_type": "stream",
     "text": [
      "skipping /home/mejia/Research/lvm/lvmdata/sas/sdsswork/lvm/spectro/redux/0.1.2dev/0001XX/1111/60264/ancillary/lvm-dflat-r3-00007835.fits, file already exist\n"
     ]
    },
    {
     "name": "stderr",
     "output_type": "stream",
     "text": [
      "\u001b[0;34m[INFO]: \u001b[0mwriting extracted spectra to lvm-xflat-r3-00007835.fits\n"
     ]
    },
    {
     "name": "stdout",
     "output_type": "stream",
     "text": [
      "skipping /home/mejia/Research/lvm/lvmdata/sas/sdsswork/lvm/spectro/redux/0.1.2dev/0001XX/1111/60264/ancillary/lvm-hflat-r3-00007835.fits, file already exist\n"
     ]
    },
    {
     "name": "stderr",
     "output_type": "stream",
     "text": [
      "\u001b[0;34m[INFO]: \u001b[0mextracting fiber spectra using fiber profile fitting from lvm-dflat-r3-00007836.fits\n"
     ]
    },
    {
     "name": "stdout",
     "output_type": "stream",
     "text": [
      "skipping /home/mejia/Research/lvm/lvmdata/sas/sdsswork/lvm/spectro/redux/0.1.2dev/0001XX/1111/60264/ancillary/lvm-dflat-r3-00007836.fits, file already exist\n"
     ]
    },
    {
     "name": "stderr",
     "output_type": "stream",
     "text": [
      "\u001b[0;34m[INFO]: \u001b[0mwriting extracted spectra to lvm-xflat-r3-00007836.fits\n"
     ]
    },
    {
     "name": "stdout",
     "output_type": "stream",
     "text": [
      "skipping /home/mejia/Research/lvm/lvmdata/sas/sdsswork/lvm/spectro/redux/0.1.2dev/0001XX/1111/60264/ancillary/lvm-hflat-r3-00007836.fits, file already exist\n"
     ]
    },
    {
     "name": "stderr",
     "output_type": "stream",
     "text": [
      "\u001b[0;34m[INFO]: \u001b[0mextracting fiber spectra using fiber profile fitting from lvm-dflat-r3-00007837.fits\n"
     ]
    },
    {
     "name": "stdout",
     "output_type": "stream",
     "text": [
      "skipping /home/mejia/Research/lvm/lvmdata/sas/sdsswork/lvm/spectro/redux/0.1.2dev/0001XX/1111/60264/ancillary/lvm-dflat-r3-00007837.fits, file already exist\n"
     ]
    },
    {
     "name": "stderr",
     "output_type": "stream",
     "text": [
      "\u001b[0;34m[INFO]: \u001b[0mwriting extracted spectra to lvm-xflat-r3-00007837.fits\n"
     ]
    },
    {
     "name": "stdout",
     "output_type": "stream",
     "text": [
      "skipping /home/mejia/Research/lvm/lvmdata/sas/sdsswork/lvm/spectro/redux/0.1.2dev/0001XX/1111/60264/ancillary/lvm-hflat-r3-00007837.fits, file already exist\n"
     ]
    },
    {
     "name": "stderr",
     "output_type": "stream",
     "text": [
      "\u001b[0;34m[INFO]: \u001b[0mextracting fiber spectra using fiber profile fitting from lvm-dflat-r3-00007838.fits\n"
     ]
    },
    {
     "name": "stdout",
     "output_type": "stream",
     "text": [
      "skipping /home/mejia/Research/lvm/lvmdata/sas/sdsswork/lvm/spectro/redux/0.1.2dev/0001XX/1111/60264/ancillary/lvm-dflat-r3-00007838.fits, file already exist\n"
     ]
    },
    {
     "name": "stderr",
     "output_type": "stream",
     "text": [
      "\u001b[0;34m[INFO]: \u001b[0mwriting extracted spectra to lvm-xflat-r3-00007838.fits\n"
     ]
    },
    {
     "name": "stdout",
     "output_type": "stream",
     "text": [
      "skipping /home/mejia/Research/lvm/lvmdata/sas/sdsswork/lvm/spectro/redux/0.1.2dev/0001XX/1111/60264/ancillary/lvm-hflat-r3-00007838.fits, file already exist\n"
     ]
    },
    {
     "name": "stderr",
     "output_type": "stream",
     "text": [
      "\u001b[0;34m[INFO]: \u001b[0mextracting fiber spectra using fiber profile fitting from lvm-dflat-r3-00007839.fits\n"
     ]
    },
    {
     "name": "stdout",
     "output_type": "stream",
     "text": [
      "skipping /home/mejia/Research/lvm/lvmdata/sas/sdsswork/lvm/spectro/redux/0.1.2dev/0001XX/1111/60264/ancillary/lvm-dflat-r3-00007839.fits, file already exist\n"
     ]
    },
    {
     "name": "stderr",
     "output_type": "stream",
     "text": [
      "\u001b[0;34m[INFO]: \u001b[0mwriting extracted spectra to lvm-xflat-r3-00007839.fits\n"
     ]
    },
    {
     "name": "stdout",
     "output_type": "stream",
     "text": [
      "skipping /home/mejia/Research/lvm/lvmdata/sas/sdsswork/lvm/spectro/redux/0.1.2dev/0001XX/1111/60264/ancillary/lvm-hflat-r3-00007839.fits, file already exist\n"
     ]
    },
    {
     "name": "stderr",
     "output_type": "stream",
     "text": [
      "\u001b[0;34m[INFO]: \u001b[0mextracting fiber spectra using fiber profile fitting from lvm-dflat-r3-00007840.fits\n"
     ]
    },
    {
     "name": "stdout",
     "output_type": "stream",
     "text": [
      "skipping /home/mejia/Research/lvm/lvmdata/sas/sdsswork/lvm/spectro/redux/0.1.2dev/0001XX/1111/60264/ancillary/lvm-dflat-r3-00007840.fits, file already exist\n"
     ]
    },
    {
     "name": "stderr",
     "output_type": "stream",
     "text": [
      "\u001b[0;34m[INFO]: \u001b[0mwriting extracted spectra to lvm-xflat-r3-00007840.fits\n"
     ]
    },
    {
     "name": "stdout",
     "output_type": "stream",
     "text": [
      "skipping /home/mejia/Research/lvm/lvmdata/sas/sdsswork/lvm/spectro/redux/0.1.2dev/0001XX/1111/60264/ancillary/lvm-hflat-r3-00007840.fits, file already exist\n"
     ]
    },
    {
     "name": "stderr",
     "output_type": "stream",
     "text": [
      "\u001b[0;34m[INFO]: \u001b[0mextracting fiber spectra using fiber profile fitting from lvm-dflat-r3-00007841.fits\n"
     ]
    },
    {
     "name": "stdout",
     "output_type": "stream",
     "text": [
      "skipping /home/mejia/Research/lvm/lvmdata/sas/sdsswork/lvm/spectro/redux/0.1.2dev/0001XX/1111/60264/ancillary/lvm-dflat-r3-00007841.fits, file already exist\n"
     ]
    },
    {
     "name": "stderr",
     "output_type": "stream",
     "text": [
      "\u001b[0;34m[INFO]: \u001b[0mwriting extracted spectra to lvm-xflat-r3-00007841.fits\n"
     ]
    },
    {
     "name": "stdout",
     "output_type": "stream",
     "text": [
      "skipping /home/mejia/Research/lvm/lvmdata/sas/sdsswork/lvm/spectro/redux/0.1.2dev/0001XX/1111/60264/ancillary/lvm-hflat-r3-00007841.fits, file already exist\n"
     ]
    },
    {
     "name": "stderr",
     "output_type": "stream",
     "text": [
      "\u001b[0;34m[INFO]: \u001b[0mextracting fiber spectra using fiber profile fitting from lvm-dflat-r3-00007842.fits\n"
     ]
    },
    {
     "name": "stdout",
     "output_type": "stream",
     "text": [
      "skipping /home/mejia/Research/lvm/lvmdata/sas/sdsswork/lvm/spectro/redux/0.1.2dev/0001XX/1111/60264/ancillary/lvm-dflat-r3-00007842.fits, file already exist\n"
     ]
    },
    {
     "name": "stderr",
     "output_type": "stream",
     "text": [
      "\u001b[0;34m[INFO]: \u001b[0mwriting extracted spectra to lvm-xflat-r3-00007842.fits\n"
     ]
    },
    {
     "name": "stdout",
     "output_type": "stream",
     "text": [
      "skipping /home/mejia/Research/lvm/lvmdata/sas/sdsswork/lvm/spectro/redux/0.1.2dev/0001XX/1111/60264/ancillary/lvm-hflat-r3-00007842.fits, file already exist\n"
     ]
    },
    {
     "name": "stderr",
     "output_type": "stream",
     "text": [
      "\u001b[0;34m[INFO]: \u001b[0mextracting fiber spectra using fiber profile fitting from lvm-dflat-r3-00007843.fits\n"
     ]
    },
    {
     "name": "stdout",
     "output_type": "stream",
     "text": [
      "skipping /home/mejia/Research/lvm/lvmdata/sas/sdsswork/lvm/spectro/redux/0.1.2dev/0001XX/1111/60264/ancillary/lvm-dflat-r3-00007843.fits, file already exist\n"
     ]
    },
    {
     "name": "stderr",
     "output_type": "stream",
     "text": [
      "\u001b[0;34m[INFO]: \u001b[0mwriting extracted spectra to lvm-xflat-r3-00007843.fits\n"
     ]
    },
    {
     "name": "stdout",
     "output_type": "stream",
     "text": [
      "skipping /home/mejia/Research/lvm/lvmdata/sas/sdsswork/lvm/spectro/redux/0.1.2dev/0001XX/1111/60264/ancillary/lvm-hflat-r3-00007843.fits, file already exist\n"
     ]
    },
    {
     "name": "stderr",
     "output_type": "stream",
     "text": [
      "\u001b[0;34m[INFO]: \u001b[0mextracting fiber spectra using fiber profile fitting from lvm-dflat-z1-00007832.fits\n"
     ]
    },
    {
     "name": "stdout",
     "output_type": "stream",
     "text": [
      "    hemi  tileid    mjd   rmjd imagetyp spec camera  expnum  exptime   neon   hgne  krypton  xenon  argon   ldls  quartz    quality  qual  stage  status  drpqual                    name\n",
      "550    s    1111  60264  60264     flat  sp1     z1    7832    181.0  False  False    False  False  False  False   False  excellent     0      1       0        0  sdR-s-z1-00007832.fits\n",
      "579    s    1111  60264  60264     flat  sp1     z1    7833     57.0  False  False    False  False  False  False   False  excellent     0      1       0        0  sdR-s-z1-00007833.fits\n",
      "200    s    1111  60264  60264     flat  sp1     z1    7834     29.0  False  False    False  False  False  False   False  excellent     0      1       0        0  sdR-s-z1-00007834.fits\n",
      "326    s    1111  60264  60264     flat  sp1     z1    7835     18.0  False  False    False  False  False  False   False  excellent     0      1       0        0  sdR-s-z1-00007835.fits\n",
      "692    s    1111  60264  60264     flat  sp1     z1    7836     12.0  False  False    False  False  False  False   False  excellent     0      1       0        0  sdR-s-z1-00007836.fits\n",
      "406    s    1111  60264  60264     flat  sp1     z1    7837      8.0  False  False    False  False  False  False   False  excellent     0      1       0        0  sdR-s-z1-00007837.fits\n",
      "838    s    1111  60264  60264     flat  sp1     z1    7838      5.0  False  False    False  False  False  False   False  excellent     0      1       0        0  sdR-s-z1-00007838.fits\n",
      "434    s    1111  60264  60264     flat  sp1     z1    7839      4.0  False  False    False  False  False  False   False  excellent     0      1       0        0  sdR-s-z1-00007839.fits\n",
      "804    s    1111  60264  60264     flat  sp1     z1    7840      2.0  False  False    False  False  False  False   False  excellent     0      1       0        0  sdR-s-z1-00007840.fits\n",
      "391    s    1111  60264  60264     flat  sp1     z1    7841      1.0  False  False    False  False  False  False   False  excellent     0      1       0        0  sdR-s-z1-00007841.fits\n",
      "319    s    1111  60264  60264     flat  sp1     z1    7842      1.0  False  False    False  False  False  False   False  excellent     0      1       0        0  sdR-s-z1-00007842.fits\n",
      "593    s    1111  60264  60264     flat  sp1     z1    7843      1.0  False  False    False  False  False  False   False  excellent     0      1       0        0  sdR-s-z1-00007843.fits\n",
      "skipping /home/mejia/Research/lvm/lvmdata/sas/sdsswork/lvm/spectro/redux/0.1.2dev/0001XX/1111/60264/ancillary/lvm-dflat-z1-00007832.fits, file already exist\n"
     ]
    },
    {
     "name": "stderr",
     "output_type": "stream",
     "text": [
      "\u001b[0;34m[INFO]: \u001b[0mwriting extracted spectra to lvm-xflat-z1-00007832.fits\n"
     ]
    },
    {
     "name": "stdout",
     "output_type": "stream",
     "text": [
      "skipping /home/mejia/Research/lvm/lvmdata/sas/sdsswork/lvm/spectro/redux/0.1.2dev/0001XX/1111/60264/ancillary/lvm-hflat-z1-00007832.fits, file already exist\n"
     ]
    },
    {
     "name": "stderr",
     "output_type": "stream",
     "text": [
      "\u001b[0;34m[INFO]: \u001b[0mextracting fiber spectra using fiber profile fitting from lvm-dflat-z1-00007833.fits\n"
     ]
    },
    {
     "name": "stdout",
     "output_type": "stream",
     "text": [
      "skipping /home/mejia/Research/lvm/lvmdata/sas/sdsswork/lvm/spectro/redux/0.1.2dev/0001XX/1111/60264/ancillary/lvm-dflat-z1-00007833.fits, file already exist\n"
     ]
    },
    {
     "name": "stderr",
     "output_type": "stream",
     "text": [
      "\u001b[0;34m[INFO]: \u001b[0mwriting extracted spectra to lvm-xflat-z1-00007833.fits\n"
     ]
    },
    {
     "name": "stdout",
     "output_type": "stream",
     "text": [
      "skipping /home/mejia/Research/lvm/lvmdata/sas/sdsswork/lvm/spectro/redux/0.1.2dev/0001XX/1111/60264/ancillary/lvm-hflat-z1-00007833.fits, file already exist\n"
     ]
    },
    {
     "name": "stderr",
     "output_type": "stream",
     "text": [
      "\u001b[0;34m[INFO]: \u001b[0mextracting fiber spectra using fiber profile fitting from lvm-dflat-z1-00007834.fits\n"
     ]
    },
    {
     "name": "stdout",
     "output_type": "stream",
     "text": [
      "skipping /home/mejia/Research/lvm/lvmdata/sas/sdsswork/lvm/spectro/redux/0.1.2dev/0001XX/1111/60264/ancillary/lvm-dflat-z1-00007834.fits, file already exist\n"
     ]
    },
    {
     "name": "stderr",
     "output_type": "stream",
     "text": [
      "\u001b[0;34m[INFO]: \u001b[0mwriting extracted spectra to lvm-xflat-z1-00007834.fits\n"
     ]
    },
    {
     "name": "stdout",
     "output_type": "stream",
     "text": [
      "skipping /home/mejia/Research/lvm/lvmdata/sas/sdsswork/lvm/spectro/redux/0.1.2dev/0001XX/1111/60264/ancillary/lvm-hflat-z1-00007834.fits, file already exist\n"
     ]
    },
    {
     "name": "stderr",
     "output_type": "stream",
     "text": [
      "\u001b[0;34m[INFO]: \u001b[0mextracting fiber spectra using fiber profile fitting from lvm-dflat-z1-00007835.fits\n"
     ]
    },
    {
     "name": "stdout",
     "output_type": "stream",
     "text": [
      "skipping /home/mejia/Research/lvm/lvmdata/sas/sdsswork/lvm/spectro/redux/0.1.2dev/0001XX/1111/60264/ancillary/lvm-dflat-z1-00007835.fits, file already exist\n"
     ]
    },
    {
     "name": "stderr",
     "output_type": "stream",
     "text": [
      "\u001b[0;34m[INFO]: \u001b[0mwriting extracted spectra to lvm-xflat-z1-00007835.fits\n"
     ]
    },
    {
     "name": "stdout",
     "output_type": "stream",
     "text": [
      "skipping /home/mejia/Research/lvm/lvmdata/sas/sdsswork/lvm/spectro/redux/0.1.2dev/0001XX/1111/60264/ancillary/lvm-hflat-z1-00007835.fits, file already exist\n"
     ]
    },
    {
     "name": "stderr",
     "output_type": "stream",
     "text": [
      "\u001b[0;34m[INFO]: \u001b[0mextracting fiber spectra using fiber profile fitting from lvm-dflat-z1-00007836.fits\n"
     ]
    },
    {
     "name": "stdout",
     "output_type": "stream",
     "text": [
      "skipping /home/mejia/Research/lvm/lvmdata/sas/sdsswork/lvm/spectro/redux/0.1.2dev/0001XX/1111/60264/ancillary/lvm-dflat-z1-00007836.fits, file already exist\n"
     ]
    },
    {
     "name": "stderr",
     "output_type": "stream",
     "text": [
      "\u001b[0;34m[INFO]: \u001b[0mwriting extracted spectra to lvm-xflat-z1-00007836.fits\n"
     ]
    },
    {
     "name": "stdout",
     "output_type": "stream",
     "text": [
      "skipping /home/mejia/Research/lvm/lvmdata/sas/sdsswork/lvm/spectro/redux/0.1.2dev/0001XX/1111/60264/ancillary/lvm-hflat-z1-00007836.fits, file already exist\n"
     ]
    },
    {
     "name": "stderr",
     "output_type": "stream",
     "text": [
      "\u001b[0;34m[INFO]: \u001b[0mextracting fiber spectra using fiber profile fitting from lvm-dflat-z1-00007837.fits\n"
     ]
    },
    {
     "name": "stdout",
     "output_type": "stream",
     "text": [
      "skipping /home/mejia/Research/lvm/lvmdata/sas/sdsswork/lvm/spectro/redux/0.1.2dev/0001XX/1111/60264/ancillary/lvm-dflat-z1-00007837.fits, file already exist\n"
     ]
    },
    {
     "name": "stderr",
     "output_type": "stream",
     "text": [
      "\u001b[0;34m[INFO]: \u001b[0mwriting extracted spectra to lvm-xflat-z1-00007837.fits\n"
     ]
    },
    {
     "name": "stdout",
     "output_type": "stream",
     "text": [
      "skipping /home/mejia/Research/lvm/lvmdata/sas/sdsswork/lvm/spectro/redux/0.1.2dev/0001XX/1111/60264/ancillary/lvm-hflat-z1-00007837.fits, file already exist\n"
     ]
    },
    {
     "name": "stderr",
     "output_type": "stream",
     "text": [
      "\u001b[0;34m[INFO]: \u001b[0mextracting fiber spectra using fiber profile fitting from lvm-dflat-z1-00007838.fits\n"
     ]
    },
    {
     "name": "stdout",
     "output_type": "stream",
     "text": [
      "skipping /home/mejia/Research/lvm/lvmdata/sas/sdsswork/lvm/spectro/redux/0.1.2dev/0001XX/1111/60264/ancillary/lvm-dflat-z1-00007838.fits, file already exist\n"
     ]
    },
    {
     "name": "stderr",
     "output_type": "stream",
     "text": [
      "\u001b[0;34m[INFO]: \u001b[0mwriting extracted spectra to lvm-xflat-z1-00007838.fits\n"
     ]
    },
    {
     "name": "stdout",
     "output_type": "stream",
     "text": [
      "skipping /home/mejia/Research/lvm/lvmdata/sas/sdsswork/lvm/spectro/redux/0.1.2dev/0001XX/1111/60264/ancillary/lvm-hflat-z1-00007838.fits, file already exist\n"
     ]
    },
    {
     "name": "stderr",
     "output_type": "stream",
     "text": [
      "\u001b[0;34m[INFO]: \u001b[0mextracting fiber spectra using fiber profile fitting from lvm-dflat-z1-00007839.fits\n"
     ]
    },
    {
     "name": "stdout",
     "output_type": "stream",
     "text": [
      "skipping /home/mejia/Research/lvm/lvmdata/sas/sdsswork/lvm/spectro/redux/0.1.2dev/0001XX/1111/60264/ancillary/lvm-dflat-z1-00007839.fits, file already exist\n"
     ]
    },
    {
     "name": "stderr",
     "output_type": "stream",
     "text": [
      "\u001b[0;34m[INFO]: \u001b[0mwriting extracted spectra to lvm-xflat-z1-00007839.fits\n"
     ]
    },
    {
     "name": "stdout",
     "output_type": "stream",
     "text": [
      "skipping /home/mejia/Research/lvm/lvmdata/sas/sdsswork/lvm/spectro/redux/0.1.2dev/0001XX/1111/60264/ancillary/lvm-hflat-z1-00007839.fits, file already exist\n"
     ]
    },
    {
     "name": "stderr",
     "output_type": "stream",
     "text": [
      "\u001b[0;34m[INFO]: \u001b[0mextracting fiber spectra using fiber profile fitting from lvm-dflat-z1-00007840.fits\n"
     ]
    },
    {
     "name": "stdout",
     "output_type": "stream",
     "text": [
      "skipping /home/mejia/Research/lvm/lvmdata/sas/sdsswork/lvm/spectro/redux/0.1.2dev/0001XX/1111/60264/ancillary/lvm-dflat-z1-00007840.fits, file already exist\n"
     ]
    },
    {
     "name": "stderr",
     "output_type": "stream",
     "text": [
      "\u001b[0;34m[INFO]: \u001b[0mwriting extracted spectra to lvm-xflat-z1-00007840.fits\n"
     ]
    },
    {
     "name": "stdout",
     "output_type": "stream",
     "text": [
      "skipping /home/mejia/Research/lvm/lvmdata/sas/sdsswork/lvm/spectro/redux/0.1.2dev/0001XX/1111/60264/ancillary/lvm-hflat-z1-00007840.fits, file already exist\n"
     ]
    },
    {
     "name": "stderr",
     "output_type": "stream",
     "text": [
      "\u001b[0;34m[INFO]: \u001b[0mextracting fiber spectra using fiber profile fitting from lvm-dflat-z1-00007841.fits\n"
     ]
    },
    {
     "name": "stdout",
     "output_type": "stream",
     "text": [
      "skipping /home/mejia/Research/lvm/lvmdata/sas/sdsswork/lvm/spectro/redux/0.1.2dev/0001XX/1111/60264/ancillary/lvm-dflat-z1-00007841.fits, file already exist\n"
     ]
    },
    {
     "name": "stderr",
     "output_type": "stream",
     "text": [
      "\u001b[0;34m[INFO]: \u001b[0mwriting extracted spectra to lvm-xflat-z1-00007841.fits\n"
     ]
    },
    {
     "name": "stdout",
     "output_type": "stream",
     "text": [
      "skipping /home/mejia/Research/lvm/lvmdata/sas/sdsswork/lvm/spectro/redux/0.1.2dev/0001XX/1111/60264/ancillary/lvm-hflat-z1-00007841.fits, file already exist\n"
     ]
    },
    {
     "name": "stderr",
     "output_type": "stream",
     "text": [
      "\u001b[0;34m[INFO]: \u001b[0mextracting fiber spectra using fiber profile fitting from lvm-dflat-z1-00007842.fits\n"
     ]
    },
    {
     "name": "stdout",
     "output_type": "stream",
     "text": [
      "skipping /home/mejia/Research/lvm/lvmdata/sas/sdsswork/lvm/spectro/redux/0.1.2dev/0001XX/1111/60264/ancillary/lvm-dflat-z1-00007842.fits, file already exist\n"
     ]
    },
    {
     "name": "stderr",
     "output_type": "stream",
     "text": [
      "\u001b[0;34m[INFO]: \u001b[0mwriting extracted spectra to lvm-xflat-z1-00007842.fits\n"
     ]
    },
    {
     "name": "stdout",
     "output_type": "stream",
     "text": [
      "skipping /home/mejia/Research/lvm/lvmdata/sas/sdsswork/lvm/spectro/redux/0.1.2dev/0001XX/1111/60264/ancillary/lvm-hflat-z1-00007842.fits, file already exist\n"
     ]
    },
    {
     "name": "stderr",
     "output_type": "stream",
     "text": [
      "\u001b[0;34m[INFO]: \u001b[0mextracting fiber spectra using fiber profile fitting from lvm-dflat-z1-00007843.fits\n"
     ]
    },
    {
     "name": "stdout",
     "output_type": "stream",
     "text": [
      "skipping /home/mejia/Research/lvm/lvmdata/sas/sdsswork/lvm/spectro/redux/0.1.2dev/0001XX/1111/60264/ancillary/lvm-dflat-z1-00007843.fits, file already exist\n"
     ]
    },
    {
     "name": "stderr",
     "output_type": "stream",
     "text": [
      "\u001b[0;34m[INFO]: \u001b[0mwriting extracted spectra to lvm-xflat-z1-00007843.fits\n"
     ]
    },
    {
     "name": "stdout",
     "output_type": "stream",
     "text": [
      "skipping /home/mejia/Research/lvm/lvmdata/sas/sdsswork/lvm/spectro/redux/0.1.2dev/0001XX/1111/60264/ancillary/lvm-hflat-z1-00007843.fits, file already exist\n"
     ]
    },
    {
     "name": "stderr",
     "output_type": "stream",
     "text": [
      "\u001b[0;34m[INFO]: \u001b[0mextracting fiber spectra using fiber profile fitting from lvm-dflat-z2-00007832.fits\n"
     ]
    },
    {
     "name": "stdout",
     "output_type": "stream",
     "text": [
      "    hemi  tileid    mjd   rmjd imagetyp spec camera  expnum  exptime   neon   hgne  krypton  xenon  argon   ldls  quartz    quality  qual  stage  status  drpqual                    name\n",
      "719    s    1111  60264  60264     flat  sp2     z2    7832    181.0  False  False    False  False  False  False   False  excellent     0      1       0        0  sdR-s-z2-00007832.fits\n",
      "253    s    1111  60264  60264     flat  sp2     z2    7833     57.0  False  False    False  False  False  False   False  excellent     0      1       0        0  sdR-s-z2-00007833.fits\n",
      "278    s    1111  60264  60264     flat  sp2     z2    7834     29.0  False  False    False  False  False  False   False  excellent     0      1       0        0  sdR-s-z2-00007834.fits\n",
      "547    s    1111  60264  60264     flat  sp2     z2    7835     18.0  False  False    False  False  False  False   False  excellent     0      1       0        0  sdR-s-z2-00007835.fits\n",
      "396    s    1111  60264  60264     flat  sp2     z2    7836     12.0  False  False    False  False  False  False   False  excellent     0      1       0        0  sdR-s-z2-00007836.fits\n",
      "457    s    1111  60264  60264     flat  sp2     z2    7837      8.0  False  False    False  False  False  False   False  excellent     0      1       0        0  sdR-s-z2-00007837.fits\n",
      "131    s    1111  60264  60264     flat  sp2     z2    7838      5.0  False  False    False  False  False  False   False  excellent     0      1       0        0  sdR-s-z2-00007838.fits\n",
      "287    s    1111  60264  60264     flat  sp2     z2    7839      4.0  False  False    False  False  False  False   False  excellent     0      1       0        0  sdR-s-z2-00007839.fits\n",
      "354    s    1111  60264  60264     flat  sp2     z2    7840      2.0  False  False    False  False  False  False   False  excellent     0      1       0        0  sdR-s-z2-00007840.fits\n",
      "206    s    1111  60264  60264     flat  sp2     z2    7841      1.0  False  False    False  False  False  False   False  excellent     0      1       0        0  sdR-s-z2-00007841.fits\n",
      "649    s    1111  60264  60264     flat  sp2     z2    7842      1.0  False  False    False  False  False  False   False  excellent     0      1       0        0  sdR-s-z2-00007842.fits\n",
      "625    s    1111  60264  60264     flat  sp2     z2    7843      1.0  False  False    False  False  False  False   False  excellent     0      1       0        0  sdR-s-z2-00007843.fits\n",
      "skipping /home/mejia/Research/lvm/lvmdata/sas/sdsswork/lvm/spectro/redux/0.1.2dev/0001XX/1111/60264/ancillary/lvm-dflat-z2-00007832.fits, file already exist\n"
     ]
    },
    {
     "name": "stderr",
     "output_type": "stream",
     "text": [
      "\u001b[0;34m[INFO]: \u001b[0mwriting extracted spectra to lvm-xflat-z2-00007832.fits\n"
     ]
    },
    {
     "name": "stdout",
     "output_type": "stream",
     "text": [
      "skipping /home/mejia/Research/lvm/lvmdata/sas/sdsswork/lvm/spectro/redux/0.1.2dev/0001XX/1111/60264/ancillary/lvm-hflat-z2-00007832.fits, file already exist\n"
     ]
    },
    {
     "name": "stderr",
     "output_type": "stream",
     "text": [
      "\u001b[0;34m[INFO]: \u001b[0mextracting fiber spectra using fiber profile fitting from lvm-dflat-z2-00007833.fits\n"
     ]
    },
    {
     "name": "stdout",
     "output_type": "stream",
     "text": [
      "skipping /home/mejia/Research/lvm/lvmdata/sas/sdsswork/lvm/spectro/redux/0.1.2dev/0001XX/1111/60264/ancillary/lvm-dflat-z2-00007833.fits, file already exist\n"
     ]
    },
    {
     "name": "stderr",
     "output_type": "stream",
     "text": [
      "\u001b[0;34m[INFO]: \u001b[0mwriting extracted spectra to lvm-xflat-z2-00007833.fits\n"
     ]
    },
    {
     "name": "stdout",
     "output_type": "stream",
     "text": [
      "skipping /home/mejia/Research/lvm/lvmdata/sas/sdsswork/lvm/spectro/redux/0.1.2dev/0001XX/1111/60264/ancillary/lvm-hflat-z2-00007833.fits, file already exist\n"
     ]
    },
    {
     "name": "stderr",
     "output_type": "stream",
     "text": [
      "\u001b[0;34m[INFO]: \u001b[0mextracting fiber spectra using fiber profile fitting from lvm-dflat-z2-00007834.fits\n"
     ]
    },
    {
     "name": "stdout",
     "output_type": "stream",
     "text": [
      "skipping /home/mejia/Research/lvm/lvmdata/sas/sdsswork/lvm/spectro/redux/0.1.2dev/0001XX/1111/60264/ancillary/lvm-dflat-z2-00007834.fits, file already exist\n"
     ]
    },
    {
     "name": "stderr",
     "output_type": "stream",
     "text": [
      "\u001b[0;34m[INFO]: \u001b[0mwriting extracted spectra to lvm-xflat-z2-00007834.fits\n"
     ]
    },
    {
     "name": "stdout",
     "output_type": "stream",
     "text": [
      "skipping /home/mejia/Research/lvm/lvmdata/sas/sdsswork/lvm/spectro/redux/0.1.2dev/0001XX/1111/60264/ancillary/lvm-hflat-z2-00007834.fits, file already exist\n"
     ]
    },
    {
     "name": "stderr",
     "output_type": "stream",
     "text": [
      "\u001b[0;34m[INFO]: \u001b[0mextracting fiber spectra using fiber profile fitting from lvm-dflat-z2-00007835.fits\n"
     ]
    },
    {
     "name": "stdout",
     "output_type": "stream",
     "text": [
      "skipping /home/mejia/Research/lvm/lvmdata/sas/sdsswork/lvm/spectro/redux/0.1.2dev/0001XX/1111/60264/ancillary/lvm-dflat-z2-00007835.fits, file already exist\n"
     ]
    },
    {
     "name": "stderr",
     "output_type": "stream",
     "text": [
      "\u001b[0;34m[INFO]: \u001b[0mwriting extracted spectra to lvm-xflat-z2-00007835.fits\n"
     ]
    },
    {
     "name": "stdout",
     "output_type": "stream",
     "text": [
      "skipping /home/mejia/Research/lvm/lvmdata/sas/sdsswork/lvm/spectro/redux/0.1.2dev/0001XX/1111/60264/ancillary/lvm-hflat-z2-00007835.fits, file already exist\n"
     ]
    },
    {
     "name": "stderr",
     "output_type": "stream",
     "text": [
      "\u001b[0;34m[INFO]: \u001b[0mextracting fiber spectra using fiber profile fitting from lvm-dflat-z2-00007836.fits\n"
     ]
    },
    {
     "name": "stdout",
     "output_type": "stream",
     "text": [
      "skipping /home/mejia/Research/lvm/lvmdata/sas/sdsswork/lvm/spectro/redux/0.1.2dev/0001XX/1111/60264/ancillary/lvm-dflat-z2-00007836.fits, file already exist\n"
     ]
    },
    {
     "name": "stderr",
     "output_type": "stream",
     "text": [
      "\u001b[0;34m[INFO]: \u001b[0mwriting extracted spectra to lvm-xflat-z2-00007836.fits\n"
     ]
    },
    {
     "name": "stdout",
     "output_type": "stream",
     "text": [
      "skipping /home/mejia/Research/lvm/lvmdata/sas/sdsswork/lvm/spectro/redux/0.1.2dev/0001XX/1111/60264/ancillary/lvm-hflat-z2-00007836.fits, file already exist\n"
     ]
    },
    {
     "name": "stderr",
     "output_type": "stream",
     "text": [
      "\u001b[0;34m[INFO]: \u001b[0mextracting fiber spectra using fiber profile fitting from lvm-dflat-z2-00007837.fits\n"
     ]
    },
    {
     "name": "stdout",
     "output_type": "stream",
     "text": [
      "skipping /home/mejia/Research/lvm/lvmdata/sas/sdsswork/lvm/spectro/redux/0.1.2dev/0001XX/1111/60264/ancillary/lvm-dflat-z2-00007837.fits, file already exist\n"
     ]
    },
    {
     "name": "stderr",
     "output_type": "stream",
     "text": [
      "\u001b[0;34m[INFO]: \u001b[0mwriting extracted spectra to lvm-xflat-z2-00007837.fits\n"
     ]
    },
    {
     "name": "stdout",
     "output_type": "stream",
     "text": [
      "skipping /home/mejia/Research/lvm/lvmdata/sas/sdsswork/lvm/spectro/redux/0.1.2dev/0001XX/1111/60264/ancillary/lvm-hflat-z2-00007837.fits, file already exist\n"
     ]
    },
    {
     "name": "stderr",
     "output_type": "stream",
     "text": [
      "\u001b[0;34m[INFO]: \u001b[0mextracting fiber spectra using fiber profile fitting from lvm-dflat-z2-00007838.fits\n"
     ]
    },
    {
     "name": "stdout",
     "output_type": "stream",
     "text": [
      "skipping /home/mejia/Research/lvm/lvmdata/sas/sdsswork/lvm/spectro/redux/0.1.2dev/0001XX/1111/60264/ancillary/lvm-dflat-z2-00007838.fits, file already exist\n"
     ]
    },
    {
     "name": "stderr",
     "output_type": "stream",
     "text": [
      "\u001b[0;34m[INFO]: \u001b[0mwriting extracted spectra to lvm-xflat-z2-00007838.fits\n"
     ]
    },
    {
     "name": "stdout",
     "output_type": "stream",
     "text": [
      "skipping /home/mejia/Research/lvm/lvmdata/sas/sdsswork/lvm/spectro/redux/0.1.2dev/0001XX/1111/60264/ancillary/lvm-hflat-z2-00007838.fits, file already exist\n"
     ]
    },
    {
     "name": "stderr",
     "output_type": "stream",
     "text": [
      "\u001b[0;34m[INFO]: \u001b[0mextracting fiber spectra using fiber profile fitting from lvm-dflat-z2-00007839.fits\n"
     ]
    },
    {
     "name": "stdout",
     "output_type": "stream",
     "text": [
      "skipping /home/mejia/Research/lvm/lvmdata/sas/sdsswork/lvm/spectro/redux/0.1.2dev/0001XX/1111/60264/ancillary/lvm-dflat-z2-00007839.fits, file already exist\n"
     ]
    },
    {
     "name": "stderr",
     "output_type": "stream",
     "text": [
      "\u001b[0;34m[INFO]: \u001b[0mwriting extracted spectra to lvm-xflat-z2-00007839.fits\n"
     ]
    },
    {
     "name": "stdout",
     "output_type": "stream",
     "text": [
      "skipping /home/mejia/Research/lvm/lvmdata/sas/sdsswork/lvm/spectro/redux/0.1.2dev/0001XX/1111/60264/ancillary/lvm-hflat-z2-00007839.fits, file already exist\n"
     ]
    },
    {
     "name": "stderr",
     "output_type": "stream",
     "text": [
      "\u001b[0;34m[INFO]: \u001b[0mextracting fiber spectra using fiber profile fitting from lvm-dflat-z2-00007840.fits\n"
     ]
    },
    {
     "name": "stdout",
     "output_type": "stream",
     "text": [
      "skipping /home/mejia/Research/lvm/lvmdata/sas/sdsswork/lvm/spectro/redux/0.1.2dev/0001XX/1111/60264/ancillary/lvm-dflat-z2-00007840.fits, file already exist\n"
     ]
    },
    {
     "name": "stderr",
     "output_type": "stream",
     "text": [
      "\u001b[0;34m[INFO]: \u001b[0mwriting extracted spectra to lvm-xflat-z2-00007840.fits\n"
     ]
    },
    {
     "name": "stdout",
     "output_type": "stream",
     "text": [
      "skipping /home/mejia/Research/lvm/lvmdata/sas/sdsswork/lvm/spectro/redux/0.1.2dev/0001XX/1111/60264/ancillary/lvm-hflat-z2-00007840.fits, file already exist\n"
     ]
    },
    {
     "name": "stderr",
     "output_type": "stream",
     "text": [
      "\u001b[0;34m[INFO]: \u001b[0mextracting fiber spectra using fiber profile fitting from lvm-dflat-z2-00007841.fits\n"
     ]
    },
    {
     "name": "stdout",
     "output_type": "stream",
     "text": [
      "skipping /home/mejia/Research/lvm/lvmdata/sas/sdsswork/lvm/spectro/redux/0.1.2dev/0001XX/1111/60264/ancillary/lvm-dflat-z2-00007841.fits, file already exist\n"
     ]
    },
    {
     "name": "stderr",
     "output_type": "stream",
     "text": [
      "\u001b[0;34m[INFO]: \u001b[0mwriting extracted spectra to lvm-xflat-z2-00007841.fits\n"
     ]
    },
    {
     "name": "stdout",
     "output_type": "stream",
     "text": [
      "skipping /home/mejia/Research/lvm/lvmdata/sas/sdsswork/lvm/spectro/redux/0.1.2dev/0001XX/1111/60264/ancillary/lvm-hflat-z2-00007841.fits, file already exist\n"
     ]
    },
    {
     "name": "stderr",
     "output_type": "stream",
     "text": [
      "\u001b[0;34m[INFO]: \u001b[0mextracting fiber spectra using fiber profile fitting from lvm-dflat-z2-00007842.fits\n"
     ]
    },
    {
     "name": "stdout",
     "output_type": "stream",
     "text": [
      "skipping /home/mejia/Research/lvm/lvmdata/sas/sdsswork/lvm/spectro/redux/0.1.2dev/0001XX/1111/60264/ancillary/lvm-dflat-z2-00007842.fits, file already exist\n"
     ]
    },
    {
     "name": "stderr",
     "output_type": "stream",
     "text": [
      "\u001b[0;34m[INFO]: \u001b[0mwriting extracted spectra to lvm-xflat-z2-00007842.fits\n"
     ]
    },
    {
     "name": "stdout",
     "output_type": "stream",
     "text": [
      "skipping /home/mejia/Research/lvm/lvmdata/sas/sdsswork/lvm/spectro/redux/0.1.2dev/0001XX/1111/60264/ancillary/lvm-hflat-z2-00007842.fits, file already exist\n"
     ]
    },
    {
     "name": "stderr",
     "output_type": "stream",
     "text": [
      "\u001b[0;34m[INFO]: \u001b[0mextracting fiber spectra using fiber profile fitting from lvm-dflat-z2-00007843.fits\n"
     ]
    },
    {
     "name": "stdout",
     "output_type": "stream",
     "text": [
      "skipping /home/mejia/Research/lvm/lvmdata/sas/sdsswork/lvm/spectro/redux/0.1.2dev/0001XX/1111/60264/ancillary/lvm-dflat-z2-00007843.fits, file already exist\n"
     ]
    },
    {
     "name": "stderr",
     "output_type": "stream",
     "text": [
      "\u001b[0;34m[INFO]: \u001b[0mwriting extracted spectra to lvm-xflat-z2-00007843.fits\n"
     ]
    },
    {
     "name": "stdout",
     "output_type": "stream",
     "text": [
      "skipping /home/mejia/Research/lvm/lvmdata/sas/sdsswork/lvm/spectro/redux/0.1.2dev/0001XX/1111/60264/ancillary/lvm-hflat-z2-00007843.fits, file already exist\n"
     ]
    },
    {
     "name": "stderr",
     "output_type": "stream",
     "text": [
      "\u001b[0;34m[INFO]: \u001b[0mextracting fiber spectra using fiber profile fitting from lvm-dflat-z3-00007832.fits\n"
     ]
    },
    {
     "name": "stdout",
     "output_type": "stream",
     "text": [
      "    hemi  tileid    mjd   rmjd imagetyp spec camera  expnum  exptime   neon   hgne  krypton  xenon  argon   ldls  quartz    quality  qual  stage  status  drpqual                    name\n",
      "331    s    1111  60264  60264     flat  sp3     z3    7832    181.0  False  False    False  False  False  False   False  excellent     0      1       0        0  sdR-s-z3-00007832.fits\n",
      "322    s    1111  60264  60264     flat  sp3     z3    7833     57.0  False  False    False  False  False  False   False  excellent     0      1       0        0  sdR-s-z3-00007833.fits\n",
      "822    s    1111  60264  60264     flat  sp3     z3    7834     29.0  False  False    False  False  False  False   False  excellent     0      1       0        0  sdR-s-z3-00007834.fits\n",
      "558    s    1111  60264  60264     flat  sp3     z3    7835     18.0  False  False    False  False  False  False   False  excellent     0      1       0        0  sdR-s-z3-00007835.fits\n",
      "234    s    1111  60264  60264     flat  sp3     z3    7836     12.0  False  False    False  False  False  False   False  excellent     0      1       0        0  sdR-s-z3-00007836.fits\n",
      "239    s    1111  60264  60264     flat  sp3     z3    7837      8.0  False  False    False  False  False  False   False  excellent     0      1       0        0  sdR-s-z3-00007837.fits\n",
      "800    s    1111  60264  60264     flat  sp3     z3    7838      5.0  False  False    False  False  False  False   False  excellent     0      1       0        0  sdR-s-z3-00007838.fits\n",
      "693    s    1111  60264  60264     flat  sp3     z3    7839      4.0  False  False    False  False  False  False   False  excellent     0      1       0        0  sdR-s-z3-00007839.fits\n",
      "143    s    1111  60264  60264     flat  sp3     z3    7840      2.0  False  False    False  False  False  False   False  excellent     0      1       0        0  sdR-s-z3-00007840.fits\n",
      "817    s    1111  60264  60264     flat  sp3     z3    7841      1.0  False  False    False  False  False  False   False  excellent     0      1       0        0  sdR-s-z3-00007841.fits\n",
      "195    s    1111  60264  60264     flat  sp3     z3    7842      1.0  False  False    False  False  False  False   False  excellent     0      1       0        0  sdR-s-z3-00007842.fits\n",
      "201    s    1111  60264  60264     flat  sp3     z3    7843      1.0  False  False    False  False  False  False   False  excellent     0      1       0        0  sdR-s-z3-00007843.fits\n",
      "skipping /home/mejia/Research/lvm/lvmdata/sas/sdsswork/lvm/spectro/redux/0.1.2dev/0001XX/1111/60264/ancillary/lvm-dflat-z3-00007832.fits, file already exist\n"
     ]
    },
    {
     "name": "stderr",
     "output_type": "stream",
     "text": [
      "\u001b[0;34m[INFO]: \u001b[0mwriting extracted spectra to lvm-xflat-z3-00007832.fits\n"
     ]
    },
    {
     "name": "stdout",
     "output_type": "stream",
     "text": [
      "skipping /home/mejia/Research/lvm/lvmdata/sas/sdsswork/lvm/spectro/redux/0.1.2dev/0001XX/1111/60264/ancillary/lvm-hflat-z3-00007832.fits, file already exist\n"
     ]
    },
    {
     "name": "stderr",
     "output_type": "stream",
     "text": [
      "\u001b[0;34m[INFO]: \u001b[0mextracting fiber spectra using fiber profile fitting from lvm-dflat-z3-00007833.fits\n"
     ]
    },
    {
     "name": "stdout",
     "output_type": "stream",
     "text": [
      "skipping /home/mejia/Research/lvm/lvmdata/sas/sdsswork/lvm/spectro/redux/0.1.2dev/0001XX/1111/60264/ancillary/lvm-dflat-z3-00007833.fits, file already exist\n"
     ]
    },
    {
     "name": "stderr",
     "output_type": "stream",
     "text": [
      "\u001b[0;34m[INFO]: \u001b[0mwriting extracted spectra to lvm-xflat-z3-00007833.fits\n"
     ]
    },
    {
     "name": "stdout",
     "output_type": "stream",
     "text": [
      "skipping /home/mejia/Research/lvm/lvmdata/sas/sdsswork/lvm/spectro/redux/0.1.2dev/0001XX/1111/60264/ancillary/lvm-hflat-z3-00007833.fits, file already exist\n"
     ]
    },
    {
     "name": "stderr",
     "output_type": "stream",
     "text": [
      "\u001b[0;34m[INFO]: \u001b[0mextracting fiber spectra using fiber profile fitting from lvm-dflat-z3-00007834.fits\n"
     ]
    },
    {
     "name": "stdout",
     "output_type": "stream",
     "text": [
      "skipping /home/mejia/Research/lvm/lvmdata/sas/sdsswork/lvm/spectro/redux/0.1.2dev/0001XX/1111/60264/ancillary/lvm-dflat-z3-00007834.fits, file already exist\n"
     ]
    },
    {
     "name": "stderr",
     "output_type": "stream",
     "text": [
      "\u001b[0;34m[INFO]: \u001b[0mwriting extracted spectra to lvm-xflat-z3-00007834.fits\n"
     ]
    },
    {
     "name": "stdout",
     "output_type": "stream",
     "text": [
      "skipping /home/mejia/Research/lvm/lvmdata/sas/sdsswork/lvm/spectro/redux/0.1.2dev/0001XX/1111/60264/ancillary/lvm-hflat-z3-00007834.fits, file already exist\n"
     ]
    },
    {
     "name": "stderr",
     "output_type": "stream",
     "text": [
      "\u001b[0;34m[INFO]: \u001b[0mextracting fiber spectra using fiber profile fitting from lvm-dflat-z3-00007835.fits\n"
     ]
    },
    {
     "name": "stdout",
     "output_type": "stream",
     "text": [
      "skipping /home/mejia/Research/lvm/lvmdata/sas/sdsswork/lvm/spectro/redux/0.1.2dev/0001XX/1111/60264/ancillary/lvm-dflat-z3-00007835.fits, file already exist\n"
     ]
    },
    {
     "name": "stderr",
     "output_type": "stream",
     "text": [
      "\u001b[0;34m[INFO]: \u001b[0mwriting extracted spectra to lvm-xflat-z3-00007835.fits\n"
     ]
    },
    {
     "name": "stdout",
     "output_type": "stream",
     "text": [
      "skipping /home/mejia/Research/lvm/lvmdata/sas/sdsswork/lvm/spectro/redux/0.1.2dev/0001XX/1111/60264/ancillary/lvm-hflat-z3-00007835.fits, file already exist\n"
     ]
    },
    {
     "name": "stderr",
     "output_type": "stream",
     "text": [
      "\u001b[0;34m[INFO]: \u001b[0mextracting fiber spectra using fiber profile fitting from lvm-dflat-z3-00007836.fits\n"
     ]
    },
    {
     "name": "stdout",
     "output_type": "stream",
     "text": [
      "skipping /home/mejia/Research/lvm/lvmdata/sas/sdsswork/lvm/spectro/redux/0.1.2dev/0001XX/1111/60264/ancillary/lvm-dflat-z3-00007836.fits, file already exist\n"
     ]
    },
    {
     "name": "stderr",
     "output_type": "stream",
     "text": [
      "\u001b[0;34m[INFO]: \u001b[0mwriting extracted spectra to lvm-xflat-z3-00007836.fits\n"
     ]
    },
    {
     "name": "stdout",
     "output_type": "stream",
     "text": [
      "skipping /home/mejia/Research/lvm/lvmdata/sas/sdsswork/lvm/spectro/redux/0.1.2dev/0001XX/1111/60264/ancillary/lvm-hflat-z3-00007836.fits, file already exist\n"
     ]
    },
    {
     "name": "stderr",
     "output_type": "stream",
     "text": [
      "\u001b[0;34m[INFO]: \u001b[0mextracting fiber spectra using fiber profile fitting from lvm-dflat-z3-00007837.fits\n"
     ]
    },
    {
     "name": "stdout",
     "output_type": "stream",
     "text": [
      "skipping /home/mejia/Research/lvm/lvmdata/sas/sdsswork/lvm/spectro/redux/0.1.2dev/0001XX/1111/60264/ancillary/lvm-dflat-z3-00007837.fits, file already exist\n"
     ]
    },
    {
     "name": "stderr",
     "output_type": "stream",
     "text": [
      "\u001b[0;34m[INFO]: \u001b[0mwriting extracted spectra to lvm-xflat-z3-00007837.fits\n"
     ]
    },
    {
     "name": "stdout",
     "output_type": "stream",
     "text": [
      "skipping /home/mejia/Research/lvm/lvmdata/sas/sdsswork/lvm/spectro/redux/0.1.2dev/0001XX/1111/60264/ancillary/lvm-hflat-z3-00007837.fits, file already exist\n"
     ]
    },
    {
     "name": "stderr",
     "output_type": "stream",
     "text": [
      "\u001b[0;34m[INFO]: \u001b[0mextracting fiber spectra using fiber profile fitting from lvm-dflat-z3-00007838.fits\n"
     ]
    },
    {
     "name": "stdout",
     "output_type": "stream",
     "text": [
      "skipping /home/mejia/Research/lvm/lvmdata/sas/sdsswork/lvm/spectro/redux/0.1.2dev/0001XX/1111/60264/ancillary/lvm-dflat-z3-00007838.fits, file already exist\n"
     ]
    },
    {
     "name": "stderr",
     "output_type": "stream",
     "text": [
      "\u001b[0;34m[INFO]: \u001b[0mwriting extracted spectra to lvm-xflat-z3-00007838.fits\n"
     ]
    },
    {
     "name": "stdout",
     "output_type": "stream",
     "text": [
      "skipping /home/mejia/Research/lvm/lvmdata/sas/sdsswork/lvm/spectro/redux/0.1.2dev/0001XX/1111/60264/ancillary/lvm-hflat-z3-00007838.fits, file already exist\n"
     ]
    },
    {
     "name": "stderr",
     "output_type": "stream",
     "text": [
      "\u001b[0;34m[INFO]: \u001b[0mextracting fiber spectra using fiber profile fitting from lvm-dflat-z3-00007839.fits\n"
     ]
    },
    {
     "name": "stdout",
     "output_type": "stream",
     "text": [
      "skipping /home/mejia/Research/lvm/lvmdata/sas/sdsswork/lvm/spectro/redux/0.1.2dev/0001XX/1111/60264/ancillary/lvm-dflat-z3-00007839.fits, file already exist\n"
     ]
    },
    {
     "name": "stderr",
     "output_type": "stream",
     "text": [
      "\u001b[0;34m[INFO]: \u001b[0mwriting extracted spectra to lvm-xflat-z3-00007839.fits\n"
     ]
    },
    {
     "name": "stdout",
     "output_type": "stream",
     "text": [
      "skipping /home/mejia/Research/lvm/lvmdata/sas/sdsswork/lvm/spectro/redux/0.1.2dev/0001XX/1111/60264/ancillary/lvm-hflat-z3-00007839.fits, file already exist\n"
     ]
    },
    {
     "name": "stderr",
     "output_type": "stream",
     "text": [
      "\u001b[0;34m[INFO]: \u001b[0mextracting fiber spectra using fiber profile fitting from lvm-dflat-z3-00007840.fits\n"
     ]
    },
    {
     "name": "stdout",
     "output_type": "stream",
     "text": [
      "skipping /home/mejia/Research/lvm/lvmdata/sas/sdsswork/lvm/spectro/redux/0.1.2dev/0001XX/1111/60264/ancillary/lvm-dflat-z3-00007840.fits, file already exist\n"
     ]
    },
    {
     "name": "stderr",
     "output_type": "stream",
     "text": [
      "\u001b[0;34m[INFO]: \u001b[0mwriting extracted spectra to lvm-xflat-z3-00007840.fits\n"
     ]
    },
    {
     "name": "stdout",
     "output_type": "stream",
     "text": [
      "skipping /home/mejia/Research/lvm/lvmdata/sas/sdsswork/lvm/spectro/redux/0.1.2dev/0001XX/1111/60264/ancillary/lvm-hflat-z3-00007840.fits, file already exist\n"
     ]
    },
    {
     "name": "stderr",
     "output_type": "stream",
     "text": [
      "\u001b[0;34m[INFO]: \u001b[0mextracting fiber spectra using fiber profile fitting from lvm-dflat-z3-00007841.fits\n"
     ]
    },
    {
     "name": "stdout",
     "output_type": "stream",
     "text": [
      "skipping /home/mejia/Research/lvm/lvmdata/sas/sdsswork/lvm/spectro/redux/0.1.2dev/0001XX/1111/60264/ancillary/lvm-dflat-z3-00007841.fits, file already exist\n"
     ]
    },
    {
     "name": "stderr",
     "output_type": "stream",
     "text": [
      "\u001b[0;34m[INFO]: \u001b[0mwriting extracted spectra to lvm-xflat-z3-00007841.fits\n"
     ]
    },
    {
     "name": "stdout",
     "output_type": "stream",
     "text": [
      "skipping /home/mejia/Research/lvm/lvmdata/sas/sdsswork/lvm/spectro/redux/0.1.2dev/0001XX/1111/60264/ancillary/lvm-hflat-z3-00007841.fits, file already exist\n"
     ]
    },
    {
     "name": "stderr",
     "output_type": "stream",
     "text": [
      "\u001b[0;34m[INFO]: \u001b[0mextracting fiber spectra using fiber profile fitting from lvm-dflat-z3-00007842.fits\n"
     ]
    },
    {
     "name": "stdout",
     "output_type": "stream",
     "text": [
      "skipping /home/mejia/Research/lvm/lvmdata/sas/sdsswork/lvm/spectro/redux/0.1.2dev/0001XX/1111/60264/ancillary/lvm-dflat-z3-00007842.fits, file already exist\n"
     ]
    },
    {
     "name": "stderr",
     "output_type": "stream",
     "text": [
      "\u001b[0;34m[INFO]: \u001b[0mwriting extracted spectra to lvm-xflat-z3-00007842.fits\n"
     ]
    },
    {
     "name": "stdout",
     "output_type": "stream",
     "text": [
      "skipping /home/mejia/Research/lvm/lvmdata/sas/sdsswork/lvm/spectro/redux/0.1.2dev/0001XX/1111/60264/ancillary/lvm-hflat-z3-00007842.fits, file already exist\n"
     ]
    },
    {
     "name": "stderr",
     "output_type": "stream",
     "text": [
      "\u001b[0;34m[INFO]: \u001b[0mextracting fiber spectra using fiber profile fitting from lvm-dflat-z3-00007843.fits\n"
     ]
    },
    {
     "name": "stdout",
     "output_type": "stream",
     "text": [
      "skipping /home/mejia/Research/lvm/lvmdata/sas/sdsswork/lvm/spectro/redux/0.1.2dev/0001XX/1111/60264/ancillary/lvm-dflat-z3-00007843.fits, file already exist\n"
     ]
    },
    {
     "name": "stderr",
     "output_type": "stream",
     "text": [
      "\u001b[0;34m[INFO]: \u001b[0mwriting extracted spectra to lvm-xflat-z3-00007843.fits\n"
     ]
    },
    {
     "name": "stdout",
     "output_type": "stream",
     "text": [
      "skipping /home/mejia/Research/lvm/lvmdata/sas/sdsswork/lvm/spectro/redux/0.1.2dev/0001XX/1111/60264/ancillary/lvm-hflat-z3-00007843.fits, file already exist\n"
     ]
    }
   ],
   "source": [
    "mflat_paths = []\n",
    "for camera in flat_analogs.groups:\n",
    "    flats = flat_analogs.get_group(camera)\n",
    "    flat = flats.iloc[0].to_dict()\n",
    "\n",
    "    print(flats.sort_values(\"expnum\").to_string())\n",
    "\n",
    "    arc_lamp = MASTER_ARC_LAMPS[camera[0]]\n",
    "    \n",
    "    # define master paths for target frames\n",
    "    mpixmask_path = os.path.join(masters_path, f\"lvm-mpixmask-{camera}.fits\")\n",
    "    mbias_path = os.path.join(masters_path, f\"lvm-mbias-{camera}.fits\")\n",
    "    mdark_path = os.path.join(masters_path, f\"lvm-mdark-{camera}.fits\")\n",
    "    mpixflat_path = os.path.join(masters_path, f\"lvm-mpixflat-{camera}.fits\")\n",
    "    mtrace_path = os.path.join(masters_path, f\"lvm-mtrace-{camera}.fits\")\n",
    "    mwidth_path = os.path.join(masters_path, f\"lvm-mwidth-{camera}.fits\")\n",
    "    mwave_path = os.path.join(masters_path, f\"lvm-mwave_{arc_lamp}-{camera}.fits\")\n",
    "    mlsf_path = os.path.join(masters_path, f\"lvm-mlsf_{arc_lamp}-{camera}.fits\")\n",
    "    \n",
    "    # define master frame path\n",
    "    mflat_path = path.full(\"lvm_master\", drpver=drpver, tileid=1111, mjd=MJD, kind=f\"mflat_{lamp}\", camera=camera)\n",
    "    mflat_paths.append(mflat_path)\n",
    "    os.makedirs(os.path.dirname(mflat_path), exist_ok=True)\n",
    "    \n",
    "    # reduce individual exposures\n",
    "    rsss = []\n",
    "    for flat in flats.to_dict(\"records\"):\n",
    "        flat_path = path.full(\"lvm_raw\", camspec=flat[\"camera\"], **flat)\n",
    "        pflat_path = path.full(\"lvm_anc\", drpver=drpver, kind=\"p\", imagetype=flat[\"imagetyp\"], **flat)\n",
    "        dflat_path = path.full(\"lvm_anc\", drpver=drpver, kind=\"d\", imagetype=flat[\"imagetyp\"], **flat)\n",
    "        xflat_path = path.full(\"lvm_anc\", drpver=drpver, kind=\"x\", imagetype=flat[\"imagetyp\"], **flat)\n",
    "        wflat_path = path.full(\"lvm_anc\", drpver=drpver, kind=\"w\", imagetype=flat[\"imagetyp\"], **flat)\n",
    "        hflat_path = path.full(\"lvm_anc\", drpver=drpver, kind=\"h\", imagetype=flat[\"imagetyp\"], **flat)\n",
    "        os.makedirs(os.path.dirname(xflat_path), exist_ok=True)\n",
    "\n",
    "        # detrend frames\n",
    "        if os.path.isfile(dflat_path):\n",
    "            print(f\"skipping {dflat_path}, file already exist\")\n",
    "        else:\n",
    "            imageMethod.preproc_raw_frame(in_image=flat_path, out_image=pflat_path, in_mask=mpixmask_path)\n",
    "            imageMethod.detrend_frame(in_image=pflat_path, out_image=dflat_path, in_bias=mbias_path, in_dark=mdark_path, in_pixelflat=mpixflat_path, in_slitmap=SLITMAP)\n",
    "\n",
    "        # extract 1D spectra\n",
    "        if os.path.isfile(xflat_path):\n",
    "            print(f\"skipping {xflat_path}, file already exist\")\n",
    "        else:\n",
    "            imageMethod.extract_spectra(in_image=dflat_path, out_rss=xflat_path, in_trace=mtrace_path, in_fwhm=mwidth_path, method=\"optimal\", parallel=10)\n",
    "\n",
    "        # add wavelength solution\n",
    "        rssMethod.create_pixel_table(in_rss=xflat_path, out_rss=wflat_path, arc_wave=mwave_path, arc_fwhm=mlsf_path)\n",
    "\n",
    "        # wavelength resampling\n",
    "        iwave, fwave = SPEC_CHANNELS[camera[0]]\n",
    "        if os.path.isfile(hflat_path):\n",
    "            print(f\"skipping {hflat_path}, file already exist\")\n",
    "        else:\n",
    "            rssMethod.resample_wavelength(in_rss=wflat_path, out_rss=hflat_path, disp_pix=0.5, start_wave=iwave, end_wave=fwave, err_sim=5, parallel=0, extrapolate=False)\n",
    "\n",
    "        # calculate normalized continuum\n",
    "        rss = rssMethod.loadRSS(hflat_path)\n",
    "        median_fiber = np.nanmedian(rss._data, axis=0)\n",
    "        median_fiber = Spectrum1D(data=median_fiber, wave=rss._wave, mask=np.prod(rss._mask, axis=0).astype(bool))\n",
    "        _, median_fiber = fit_continuum(median_fiber, thresh=1.0001, niter=1, median_box=50, poly_deg=4, wave_range=(iwave,fwave), wave_masks=mask_bands[camera[0]])\n",
    "\n",
    "        # normalize spectra per exposure to the median fiber\n",
    "        rss._data = rss._data / median_fiber._data\n",
    "        rss._error = rss._error / median_fiber._data\n",
    "        rsss.append(rss)\n",
    "        \n",
    "    # combine RSS exposures using an average\n",
    "    mrss = RSS(data=np.zeros_like(rsss[0]._data), error=np.zeros_like(rsss[0]._error), mask=np.ones_like(rsss[0]._mask, dtype=bool),\n",
    "               header=copy(rsss[0]._header), slitmap=copy(rsss[0]._slitmap))\n",
    "    # select non-std fibers\n",
    "    fibermap =  mrss._slitmap[mrss._slitmap[\"spectrographid\"] == int(camera[1])]\n",
    "    select_allstd = fibermap[\"telescope\"] == \"Spec\"\n",
    "    select_nonstd = ~select_allstd\n",
    "    for i, rss in enumerate(rsss):\n",
    "        # coadding all non-std fibers\n",
    "        mrss._data[select_nonstd] = mrss._data[select_nonstd] + rss._data[select_nonstd]\n",
    "        mrss._error[select_nonstd] = np.sqrt(mrss._error[select_nonstd]**2 + rss._error[select_nonstd]**2)\n",
    "        mrss._mask[select_nonstd] = mrss._mask[select_nonstd] & rss._mask[select_nonstd]\n",
    "        \n",
    "        # put std fibers in the right position\n",
    "        fiber_id = f\"P1-{i+1}\"\n",
    "        idx = np.where(fibermap[\"orig_ifulabel\"].value == fiber_id)\n",
    "        mrss._data[idx] = rss._data[idx]\n",
    "        mrss._error[idx] = rss._error[idx]\n",
    "        mrss._mask[idx] = mrss._mask[idx] & rss._mask[idx]\n",
    "        mrss._header.update(rss._header[\"STD*\"])\n",
    "    \n",
    "    # compute average of non-std fibers\n",
    "    mrss._data[select_nonstd] = mrss._data[select_nonstd] / len(rsss)\n",
    "    mrss._error[select_nonstd] = mrss._error[select_nonstd] / np.sqrt(len(rsss))\n",
    "\n",
    "    # mask invalid pixels\n",
    "    mrss._mask |= np.isnan(mrss._data) | (mrss._data <= 0)\n",
    "\n",
    "    mrss.writeFitsData(mflat_path)"
   ]
  },
  {
   "cell_type": "code",
   "execution_count": 12,
   "metadata": {},
   "outputs": [
    {
     "data": {
      "text/plain": [
       "(0.0, 2.5)"
      ]
     },
     "execution_count": 12,
     "metadata": {},
     "output_type": "execute_result"
    },
    {
     "data": {
      "image/png": "[encoded data removed]",
      "text/plain": [
       "<Figure size 1500x500 with 1 Axes>"
      ]
     },
     "metadata": {},
     "output_type": "display_data"
    }
   ],
   "source": [
    "\n",
    "camera = \"b1\"\n",
    "expnum = 7832\n",
    "\n",
    "mflat_path = path.full(\"lvm_master\", drpver=drpver, tileid=1111, mjd=MJD, kind=f\"mflat_{lamp}\", camera=camera)\n",
    "\n",
    "xflat = RSS()\n",
    "xflat.loadFitsData(mflat_path)\n",
    "\n",
    "idx = 600\n",
    "plt.figure(figsize=(15, 5))\n",
    "iwave, fwave = SPEC_CHANNELS[camera[0]]\n",
    "plt.axvspan(iwave, fwave, color=\"0.7\", alpha=0.2)\n",
    "\n",
    "coeffs, cont = fit_continuum(xflat[idx], thresh=1.0001, niter=1, median_box=10, poly_deg=3, wave_range=(iwave,fwave), wave_masks=mask_bands[camera[0]], reset_mask=False)\n",
    "\n",
    "plt.step(xflat[idx]._wave, xflat[idx]._data, where=\"mid\", lw=1)\n",
    "plt.plot(xflat[idx]._wave[~cont._mask], xflat[idx]._data[~cont._mask], \".k\")\n",
    "plt.plot(cont._wave, cont._data, \"-r\", lw=1)\n",
    "plt.ylim(0, 2.5)"
   ]
  },
  {
   "cell_type": "code",
   "execution_count": 13,
   "id": "569c66ed-6ec6-4d24-bfb0-f6d8a43e9bfb",
   "metadata": {},
   "outputs": [],
   "source": [
    "\n",
    "def create_twilight_flat(in_rsss, out_rsss, in_waves=None, median_box=50, wave_range=None, wave_masks=None, clip_sigma=None, thresh=1.0001, niter=1, poly_deg=10, display_plots=True):\n",
    "\n",
    "    # stack twilight flats\n",
    "    rss = RSS()\n",
    "    rss.loadFitsData(in_rsss[0])\n",
    "    rsss = [rssMethod.loadRSS(in_rss) for in_rss in in_rsss]\n",
    "    flat = rss.stackRSS(rsss, axis=1)\n",
    "\n",
    "    # copy original twilight flat\n",
    "    orig_flat = copy(flat)\n",
    "\n",
    "    # useful metadata\n",
    "    camera = rss._header[\"CCD\"]\n",
    "    unit = rss._header[\"BUNIT\"]\n",
    "\n",
    "    # update mask for invalid values\n",
    "    flat._mask |= np.isnan(flat._data) | np.isinf(flat._data)\n",
    "\n",
    "    # interpolate bad pixels in each fiber\n",
    "    flat.interpolate_data(axis=\"X\", reset_mask=False)\n",
    "\n",
    "    # remove high-frequency features and update mask\n",
    "    if median_box is not None:\n",
    "        flat._data = median_filter(flat._data, (1, median_box))\n",
    "        flat._mask |= np.isnan(flat._data)\n",
    "\n",
    "    # sigma clipping\n",
    "    if clip_sigma is not None:\n",
    "        if isinstance(clip_sigma, (int, float)):\n",
    "            low, high = clip_sigma, clip_sigma\n",
    "        elif isinstance(clip_sigma, (list, tuple)) and len(clip_sigma) == 2:\n",
    "            low, high = clip_sigma\n",
    "        else:\n",
    "            raise ValueError(\"clip_sigma must be a number or a list/tuple of two numbers\")\n",
    "        \n",
    "        ave = biweight_location(flat._data, axis=1, ignore_nan=True)\n",
    "        std = biweight_midvariance(flat._data, axis=1, ignore_nan=True)\n",
    "        mask = ~flat._mask | (np.abs(flat._data - ave[:, None]) < low * std[:, None]) | (np.abs(flat._data - ave[:, None]) > high * std[:, None])\n",
    "        flat._data[~mask] = np.nan\n",
    "        flat._mask[~mask] = True\n",
    "        flat.interpolate_data(axis=\"X\", reset_mask=False)\n",
    "\n",
    "    # mask bad fibers\n",
    "    fibermap = flat._slitmap\n",
    "    select_bad = fibermap[\"fibstatus\"] == 1\n",
    "    flat._mask[select_bad] = True\n",
    "    flat._data[select_bad] = np.nan\n",
    "\n",
    "    # fit continuum above absorption features\n",
    "    flat._coeffs = np.zeros((flat._fibers, poly_deg+1))\n",
    "    for ifiber in range(flat._fibers):\n",
    "        flat_spec = flat[ifiber]\n",
    "        # skip if all pixels are masked\n",
    "        if flat_spec._mask.all():\n",
    "            continue\n",
    "        # fit continuum\n",
    "        coeffs, cont_spec = fit_continuum(flat_spec, thresh=thresh, niter=niter, median_box=median_box, poly_deg=poly_deg, wave_range=wave_range, wave_masks=wave_masks)\n",
    "        cont_spec._mask[:] = False\n",
    "        # update flatfielded spectrum\n",
    "        flat[ifiber] = cont_spec\n",
    "        # update coefficients\n",
    "        flat._coeffs[ifiber] = coeffs\n",
    "    \n",
    "    # interpolate bad fibers\n",
    "    flat.interpolate_coeffs()\n",
    "\n",
    "    # plot flatfielded twilight flat\n",
    "    if display_plots:\n",
    "        fig, axes = plt.subplots(3, 1, figsize=(15, 10), sharex=True, sharey=True)\n",
    "        plt.ylim(0, 1.5)\n",
    "        axes[0].set_title(f\"Twilight flat for channel = {camera[0]}\", loc=\"left\")\n",
    "        for window in wave_masks:\n",
    "            axes[0].axvspan(*window, color=\"k\", alpha=0.5)\n",
    "            axes[1].axvspan(*window, color=\"k\", alpha=0.5)\n",
    "            axes[2].axvspan(*window, color=\"k\", alpha=0.5)\n",
    "        if wave_range is not None:\n",
    "            axes[0].axvline(wave_range[0], color=\"k\", ls=\"--\", lw=1)\n",
    "            axes[0].axvline(wave_range[1], color=\"k\", ls=\"--\", lw=1)\n",
    "            axes[1].axvline(wave_range[0], color=\"k\", ls=\"--\", lw=1)\n",
    "            axes[1].axvline(wave_range[1], color=\"k\", ls=\"--\", lw=1)\n",
    "            axes[2].axvline(wave_range[0], color=\"k\", ls=\"--\", lw=1)\n",
    "            axes[2].axvline(wave_range[1], color=\"k\", ls=\"--\", lw=1)\n",
    "\n",
    "        # color by fiber status\n",
    "        # dead_fibers = fibermap[\"fibstatus\"] == 1\n",
    "        # weak_fibers = fibermap[\"fibstatus\"] == 2\n",
    "        # good_fibers = fibermap[\"fibstatus\"] == 0\n",
    "        dead_fibers = fibermap[\"spectrographid\"] == 1\n",
    "        weak_fibers = fibermap[\"spectrographid\"] == 2\n",
    "        good_fibers = fibermap[\"spectrographid\"] == 3\n",
    "        axes[0].step(orig_flat._wave[dead_fibers].T, orig_flat._data[dead_fibers].T, lw=1, color=\"0.2\", alpha=0.1)\n",
    "        axes[0].step(orig_flat._wave[weak_fibers].T, orig_flat._data[weak_fibers].T, lw=1, color=\"tab:orange\", alpha=0.1)\n",
    "        axes[0].step(orig_flat._wave[good_fibers].T, orig_flat._data[good_fibers].T, lw=1, color=\"tab:blue\", alpha=0.1)\n",
    "        axes[1].plot(flat._wave[dead_fibers].T, flat._data[dead_fibers].T, lw=1, color=\"0.2\", alpha=0.1)\n",
    "        axes[1].plot(flat._wave[weak_fibers].T, flat._data[weak_fibers].T, lw=1, color=\"tab:orange\", alpha=0.1)\n",
    "        axes[1].plot(flat._wave[good_fibers].T, flat._data[good_fibers].T, lw=1, color=\"tab:blue\", alpha=0.1)\n",
    "        axes[2].step(orig_flat._wave[dead_fibers].T, (orig_flat._data / flat._data)[dead_fibers].T, lw=1, color=\"0.2\", alpha=0.1)\n",
    "        axes[2].step(orig_flat._wave[weak_fibers].T, (orig_flat._data / flat._data)[weak_fibers].T, lw=1, color=\"tab:orange\", alpha=0.1)\n",
    "        axes[2].step(orig_flat._wave[good_fibers].T, (orig_flat._data / flat._data)[good_fibers].T, lw=1, color=\"tab:blue\", alpha=0.1)\n",
    "        axes[2].set_xlabel(\"Wavelength (Angstrom)\")\n",
    "        axes[0].set_ylabel(f\"Counts ({unit})\")\n",
    "        axes[1].set_ylabel(\"Relative counts\")\n",
    "        axes[2].set_ylabel(f\"Counts ({unit})\")\n",
    "        plt.show()\n",
    "\n",
    "    # split RSS into individual spectrographs\n",
    "    for i, new_flat in enumerate(flat.splitRSS(axis=1, parts=len(in_rsss))):\n",
    "        # resample back to the native wavelength grid\n",
    "        if in_waves is not None:\n",
    "            waves = FiberRows()\n",
    "            waves.loadFitsData(in_waves[i])\n",
    "\n",
    "            new_flats = []\n",
    "            for ifiber in range(new_flat._fibers):\n",
    "                new_flats.append(new_flat[ifiber].resampleSpec(waves[ifiber]._data[:-1], method=\"linear\", err_sim=5))\n",
    "            new_flat = RSS.from_spectra1d(new_flats)\n",
    "\n",
    "        # update header and slitmap\n",
    "        new_flat._header = rsss[i]._header\n",
    "        new_flat._slitmap = rsss[i]._slitmap\n",
    "        new_flat._good_fibers = rsss[i]._good_fibers\n",
    "        # write output to disk\n",
    "        new_flat.writeFitsData(out_rsss[i])\n",
    "\n",
    "    return new_flat, new_flats"
   ]
  },
  {
   "cell_type": "code",
   "execution_count": 14,
   "metadata": {},
   "outputs": [],
   "source": [
    "# channel = \"r\"\n",
    "# wflat_paths = []\n",
    "# mfiberflat_paths = []\n",
    "# for specid in [1,2,3]:\n",
    "\n",
    "#     iwave, fwave = SPEC_CHANNELS[channel]\n",
    "#     camera = f\"{channel}{specid}\"\n",
    "\n",
    "#     wflat_paths.append(path.full(\"lvm_master\", drpver=drpver, tileid=1111, mjd=MJD, kind=f\"wmflat_{lamp}\", camera=camera))\n",
    "#     mfiberflat_paths.append(path.full(\"lvm_master\", drpver=drpver, tileid=1111, mjd=MJD, kind=f\"mfiberflat_{lamp}\", camera=camera))\n",
    "\n",
    "# # create_twilight_flat(in_rsss=wflat_paths, out_rsss=mfiberflat_paths, wave_range=(iwave, fwave), median_box=400, poly_deg=4, continuum_windows=twilight_windows[channel], display_plots=True)\n",
    "\n",
    "\n",
    "# p = os.path.join(os.getenv('LVMCORE_DIR'), 'etc', 'UVES_sky_lines.txt')\n",
    "# txt = np.genfromtxt(p)\n",
    "# skyw, skyf = txt[:,1], txt[:,4]\n",
    "\n",
    "# camera = \"r2\"\n",
    "# wflat_path = path.full(\"lvm_master\", drpver=drpver, tileid=1111, mjd=MJD, kind=f\"wmflat_{lamp}\", camera=camera)\n",
    "# mfiberflat_path = path.full(\"lvm_master\", drpver=drpver, tileid=1111, mjd=MJD, kind=f\"mfiberflat_{lamp}\", camera=camera)\n",
    "\n",
    "# x = rssMethod.loadRSS(wflat_path)\n",
    "# f = rssMethod.loadRSS(mfiberflat_path)\n",
    "# # fibermap = f._slitmap[f._slitmap[\"spectrographid\"] == int(camera[1])]\n",
    "# # select = fibermap[\"telescope\"] == \"Spec\"\n",
    "# # colors = plt.rcParams[\"axes.prop_cycle\"].by_key()[\"color\"]\n",
    "# # plt.figure(figsize=(20,5))\n",
    "# # for i, fiberid in enumerate(fibermap[select][\"orig_ifulabel\"].value):\n",
    "# #     if fiberid.startswith(\"P2\"):\n",
    "# #         continue\n",
    "# #     idx = np.where(fibermap[\"orig_ifulabel\"].value == fiberid)\n",
    "# #     color = colors[i % len(colors)]\n",
    "# #     plt.plot(x._wave[idx].flatten(), x._data[idx].flatten(), \"-\", color=color, label=fiberid)\n",
    "# #     plt.plot(f._wave[idx].flatten(), f._data[idx].flatten(), \"--\", color=color)\n",
    "\n",
    "# idx = [0, 100, 300, 500, 600]\n",
    "# idx = [300]\n",
    "\n",
    "# plt.figure(figsize=(15,5))\n",
    "# plt.step(skyw, skyf, \"-\", color=\"0.5\", lw=1, label=\"sky lines\")\n",
    "# plt.axvspan(iwave, fwave, color=\"k\", alpha=0.1)\n",
    "# plt.plot(x._wave[idx].T, x._data[idx].T, \"-\", label=\"sci fiber\", color=\"k\")\n",
    "# plt.plot(f._wave[idx].T, f._data[idx].T, \"--\", color=\"k\")\n",
    "# plt.xlim(x._wave.min(), x._wave.max())\n",
    "# plt.ylim(0, 2.5)\n",
    "# plt.legend()\n",
    "\n",
    "# for window in twilight_windows[camera[0]]:\n",
    "#     plt.axvspan(*window, color=\"k\", alpha=0.1)\n",
    "\n",
    "# # # smooth high-frequency features\n",
    "# x._data = median_filter(x._data, (1, 400))\n",
    "# x._mask |= np.isnan(x._data)\n",
    "\n",
    "# # mask data outside twilight windows\n",
    "# mask = np.ones_like(x._data, dtype=bool)\n",
    "# for window in twilight_windows[camera[0]]:\n",
    "#     mask &= ~((window[0] <= f._wave) & (f._wave <= window[1]))\n",
    "# x._mask |= mask\n",
    "\n",
    "# # fit polynomial\n",
    "# x.fit_polynomial(deg=4)\n",
    "# # x.interpolate_coeffs()\n",
    "# plt.plot(x._wave[idx].T, x._data[idx].T, \"-\", label=\"continuum\", color=\"r\")"
   ]
  },
  {
   "cell_type": "code",
   "execution_count": 15,
   "metadata": {},
   "outputs": [
    {
     "name": "stderr",
     "output_type": "stream",
     "text": [
      "\u001b[0;31m[ERROR]: \u001b[0mTraceback (most recent call last):\n",
      "  File \u001b[36m\"/home/mejia/.local/bin/miniconda3/envs/lvmdrp/lib/python3.10/site-packages/IPython/core/interactiveshell.py\"\u001b[39;49;00m, line \u001b[34m3526\u001b[39;49;00m, in run_code\u001b[37m\u001b[39;49;00m\n",
      "\u001b[37m    \u001b[39;49;00mexec(code_obj, \u001b[36mself\u001b[39;49;00m.user_global_ns, \u001b[36mself\u001b[39;49;00m.user_ns)\u001b[37m\u001b[39;49;00m\n",
      "  File \u001b[36m\"/home/mejia/.local/tmp/ipykernel_118137/1666344397.py\"\u001b[39;49;00m, line \u001b[34m23\u001b[39;49;00m, in <module>\u001b[37m\u001b[39;49;00m\n",
      "\u001b[37m    \u001b[39;49;00mcreate_twilight_flat(in_rsss=wflat_paths, out_rsss=mfiberflat_paths, in_waves=mwave_paths, wave_range=(iwave, fwave), wave_masks=mask_bands[channel],\u001b[37m\u001b[39;49;00m\n",
      "  File \u001b[36m\"/home/mejia/.local/tmp/ipykernel_118137/2829248692.py\"\u001b[39;49;00m, line \u001b[34m5\u001b[39;49;00m, in create_twilight_flat\u001b[37m\u001b[39;49;00m\n",
      "\u001b[37m    \u001b[39;49;00mrss.loadFitsData(in_rsss[\u001b[34m0\u001b[39;49;00m])\u001b[37m\u001b[39;49;00m\n",
      "  File \u001b[36m\"/home/mejia/Research/lvm/lvmdrp/python/lvmdrp/core/rss.py\"\u001b[39;49;00m, line \u001b[34m509\u001b[39;49;00m, in loadFitsData\u001b[37m\u001b[39;49;00m\n",
      "\u001b[37m    \u001b[39;49;00mhdu = pyfits.open(file, uint=\u001b[34mTrue\u001b[39;49;00m, do_not_scale_image_data=\u001b[34mTrue\u001b[39;49;00m, memmap=\u001b[34mFalse\u001b[39;49;00m)\u001b[37m\u001b[39;49;00m\n",
      "  File \u001b[36m\"/home/mejia/.local/bin/miniconda3/envs/lvmdrp/lib/python3.10/site-packages/astropy/io/fits/hdu/hdulist.py\"\u001b[39;49;00m, line \u001b[34m213\u001b[39;49;00m, in fitsopen\u001b[37m\u001b[39;49;00m\n",
      "\u001b[37m    \u001b[39;49;00m\u001b[34mreturn\u001b[39;49;00m HDUList.fromfile(\u001b[37m\u001b[39;49;00m\n",
      "  File \u001b[36m\"/home/mejia/.local/bin/miniconda3/envs/lvmdrp/lib/python3.10/site-packages/astropy/io/fits/hdu/hdulist.py\"\u001b[39;49;00m, line \u001b[34m476\u001b[39;49;00m, in fromfile\u001b[37m\u001b[39;49;00m\n",
      "\u001b[37m    \u001b[39;49;00m\u001b[34mreturn\u001b[39;49;00m \u001b[36mcls\u001b[39;49;00m._readfrom(\u001b[37m\u001b[39;49;00m\n",
      "  File \u001b[36m\"/home/mejia/.local/bin/miniconda3/envs/lvmdrp/lib/python3.10/site-packages/astropy/io/fits/hdu/hdulist.py\"\u001b[39;49;00m, line \u001b[34m1146\u001b[39;49;00m, in _readfrom\u001b[37m\u001b[39;49;00m\n",
      "\u001b[37m    \u001b[39;49;00mfileobj = _File(\u001b[37m\u001b[39;49;00m\n",
      "  File \u001b[36m\"/home/mejia/.local/bin/miniconda3/envs/lvmdrp/lib/python3.10/site-packages/astropy/io/fits/file.py\"\u001b[39;49;00m, line \u001b[34m217\u001b[39;49;00m, in __init__\u001b[37m\u001b[39;49;00m\n",
      "\u001b[37m    \u001b[39;49;00m\u001b[36mself\u001b[39;49;00m._open_filename(fileobj, mode, overwrite)\u001b[37m\u001b[39;49;00m\n",
      "  File \u001b[36m\"/home/mejia/.local/bin/miniconda3/envs/lvmdrp/lib/python3.10/site-packages/astropy/io/fits/file.py\"\u001b[39;49;00m, line \u001b[34m626\u001b[39;49;00m, in _open_filename\u001b[37m\u001b[39;49;00m\n",
      "\u001b[37m    \u001b[39;49;00m\u001b[36mself\u001b[39;49;00m._file = \u001b[36mopen\u001b[39;49;00m(\u001b[36mself\u001b[39;49;00m.name, IO_FITS_MODES[mode])\u001b[37m\u001b[39;49;00m\n",
      "\u001b[91mFileNotFoundError\u001b[39;49;00m: [Errno 2] No such file or directory: '/home/mejia/Research/lvm/lvmdata/sas/sdsswork/lvm/spectro/redux/0.1.2dev/0001XX/1111/60264/calib/lvm-wmflat_twilight-r1.fits'\u001b[37m\u001b[39;49;00m\n",
      "\n"
     ]
    }
   ],
   "source": [
    "for channel in \"r\":\n",
    "    wflat_paths = []\n",
    "    mfiberflat_paths = []\n",
    "    mwave_paths = []\n",
    "    for specid in [1,2,3]:\n",
    "\n",
    "        iwave, fwave = SPEC_CHANNELS[channel]\n",
    "        arc_lamp = MASTER_ARC_LAMPS[channel]\n",
    "        camera = f\"{channel}{specid}\"\n",
    "\n",
    "        # set parameters for each channel\n",
    "        if channel == \"b\":\n",
    "            continuum_pars = dict(thresh=1.0001, niter=2, median_box=50, poly_deg=10)\n",
    "        elif channel == \"r\":\n",
    "            continuum_pars = dict(thresh=1.0001, niter=1, median_box=50, poly_deg=0.1)\n",
    "        else:\n",
    "            continuum_pars = dict(thresh=1.0001, niter=1, median_box=50, poly_deg=10)\n",
    "\n",
    "        wflat_paths.append(path.full(\"lvm_master\", drpver=drpver, tileid=1111, mjd=MJD, kind=f\"wmflat_{lamp}\", camera=camera))\n",
    "        mfiberflat_paths.append(path.full(\"lvm_master\", drpver=drpver, tileid=1111, mjd=MJD, kind=f\"mfiberflat_{lamp}\", camera=camera))\n",
    "        mwave_paths.append(os.path.join(masters_path, f\"lvm-mwave_{arc_lamp}-{camera}.fits\"))\n",
    "\n",
    "    create_twilight_flat(in_rsss=wflat_paths, out_rsss=mfiberflat_paths, in_waves=mwave_paths, wave_range=(iwave, fwave), wave_masks=mask_bands[channel],\n",
    "                         display_plots=True, **continuum_pars)"
   ]
  },
  {
   "cell_type": "code",
   "execution_count": 11,
   "id": "815af27e-1fb0-4ddf-9ce1-9234dc19c00c",
   "metadata": {},
   "outputs": [],
   "source": [
    "# from sdss_access  import Access\n",
    "\n",
    "\n",
    "# a = Access(release='sdsswork')\n",
    "# a.remote()\n",
    "# for expnum in expnums:\n",
    "#     a.add('lvm_raw', hemi=\"s\", mjd=MJD, tileid='*', camspec=\"*\", expnum=expnum)\n",
    "# a.set_stream()\n",
    "# a.commit()"
   ]
  }
 ],
 "metadata": {
  "kernelspec": {
   "display_name": "Python 3 (ipykernel)",
   "language": "python",
   "name": "python3"
  },
  "language_info": {
   "codemirror_mode": {
    "name": "ipython",
    "version": 3
   },
   "file_extension": ".py",
   "mimetype": "text/x-python",
   "name": "python",
   "nbconvert_exporter": "python",
   "pygments_lexer": "ipython3",
   "version": "3.10.12"
  }
 },
 "nbformat": 4,
 "nbformat_minor": 5
}
