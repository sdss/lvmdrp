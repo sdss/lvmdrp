{
 "cells": [
  {
   "cell_type": "code",
   "execution_count": 1,
   "id": "d8de6690",
   "metadata": {},
   "outputs": [],
   "source": [
    "import os\n",
    "os.environ[\"LVMCORE_DIR\"] = \"/Users/droryn/prog/lvm/lvmcore\"\n",
    "os.environ[\"LVM_MASTER_DIR\"] = \"/Users/droryn/work/LVM/data/sas/sdsswork/lvm/sandbox/calib\"\n",
    "os.environ[\"SAS_BASE_DIR\"] = \"/Users/droryn/work/LVM/data/sas\"\n",
    "#os.environ[\"LVM_DATA_S\"] = \"/Users/droryn/work/LVM/data/sas/sdsswork/data/lvm/lco\"\n",
    "os.environ[\"LVM_SPECTRO_REDUX\"] = \"/Users/droryn/work/LVM/data/redux\"\n",
    "ORIG_MASTER_DIR = os.getenv(\"LVM_MASTER_DIR\")"
   ]
  },
  {
   "cell_type": "code",
   "execution_count": 2,
   "id": "46fa8362-643b-41a5-897b-770f9f41e5d5",
   "metadata": {
    "tags": []
   },
   "outputs": [],
   "source": [
    "import numpy as np\n",
    "from astropy.table import Table\n",
    "from astropy.io import fits\n",
    "\n",
    "from lvmdrp import path\n",
    "from lvmdrp.utils import metadata as md\n",
    "from lvmdrp.functions import run_drp as drp\n",
    "from lvmdrp.functions import run_quickdrp as qdrp\n",
    "\n",
    "from lvmdrp.functions import imageMethod\n",
    "\n",
    "# define environment before importing any DRP related modules\n",
    "\n",
    "SLITMAP = Table(drp.fibermap.data)\n",
    "\n",
    "def _parse_ccd_section(section):\n",
    "    \"\"\"Parse a CCD section in the format [1:NCOL, 1:NROW] to python tuples\"\"\"\n",
    "    slice_x, slice_y = section.strip(\"[]\").split(\",\")\n",
    "    slice_x = list(map(lambda str: int(str), slice_x.split(\":\")))\n",
    "    slice_y = list(map(lambda str: int(str), slice_y.split(\":\")))\n",
    "    slice_x[0] -= 1\n",
    "    slice_y[0] -= 1\n",
    "    return slice_x, slice_y\n",
    "\n",
    "def do_for_quadrants(image_path, func, *args, **kwargs):\n",
    "    with fits.open(image_path) as hdul:\n",
    "        image = hdul['PRIMARY'].data\n",
    "        error = hdul['ERROR'].data\n",
    "        mask = hdul['BADPIX'].data\n",
    "        mask = ~mask*~np.isfinite(image)*error<=0\n",
    "        ivar = np.where(mask, 1.0/(error**2), 0.0)\n",
    "        header = hdul[0].header\n",
    "        q1x, q1y = _parse_ccd_section(header['HIERARCH AMP1 TRIMSEC'])\n",
    "        q2x, q2y = _parse_ccd_section(header['HIERARCH AMP2 TRIMSEC'])\n",
    "        q3x, q3y = _parse_ccd_section(header['HIERARCH AMP3 TRIMSEC'])\n",
    "        q4x, q4y = _parse_ccd_section(header['HIERARCH AMP4 TRIMSEC'])\n",
    "        f1 = func(image[q1y[0]:q1y[1],q1x[0]:q1x[1]], ivar[q1y[0]:q1y[1],q1x[0]:q1x[1]], *args, **kwargs)\n",
    "        f2 = func(image[q2y[0]:q2y[1],q2x[0]:q2x[1]], ivar[q2y[0]:q2y[1],q2x[0]:q2x[1]], *args, **kwargs)\n",
    "        f3 = func(image[q3y[0]:q3y[1],q3x[0]:q3x[1]], ivar[q3y[0]:q3y[1],q3x[0]:q3x[1]], *args, **kwargs)\n",
    "        f4 = func(image[q4y[0]:q4y[1],q4x[0]:q4x[1]], ivar[q4y[0]:q4y[1],q4x[0]:q4x[1]], *args, **kwargs)\n",
    "\n",
    "        filtered = image.copy()*0\n",
    "        filtered[q1y[0]:q1y[1],q1x[0]:q1x[1]] = f1\n",
    "        filtered[q2y[0]:q2y[1],q2x[0]:q2x[1]] = f2\n",
    "        filtered[q3y[0]:q3y[1],q3x[0]:q3x[1]] = f3\n",
    "        filtered[q4y[0]:q4y[1],q4x[0]:q4x[1]] = f4\n",
    "\n",
    "        return image, filtered\n"
   ]
  },
  {
   "cell_type": "markdown",
   "id": "16ef9176",
   "metadata": {},
   "source": [
    "## Guille's flats with the spectrograph enclosure open"
   ]
  },
  {
   "cell_type": "code",
   "execution_count": null,
   "id": "364d6b44",
   "metadata": {},
   "outputs": [],
   "source": [
    "MJD = 60171\n",
    "print(ORIG_MASTER_DIR)"
   ]
  },
  {
   "cell_type": "code",
   "execution_count": null,
   "id": "6471777d-b94d-4a85-bdfe-9afa89d41d08",
   "metadata": {
    "tags": []
   },
   "outputs": [],
   "source": [
    "drp.get_frames_metadata(mjd=MJD, overwrite=True)"
   ]
  },
  {
   "cell_type": "code",
   "execution_count": null,
   "id": "ac71ed36-9a24-4ed0-9455-5600588e44ee",
   "metadata": {
    "tags": []
   },
   "outputs": [],
   "source": [
    "frames_table = md.get_metadata(tileid=\"*\", mjd=MJD)\n",
    "frames_table.query(\"imagetyp == 'dark'\", inplace=True)\n",
    "frames_table.sort_values(\"camera\", inplace=True)\n",
    "frames_table = frames_table.loc[frames_table.name.str.contains(\"sdR\")]\n",
    "frames_table"
   ]
  },
  {
   "cell_type": "code",
   "execution_count": null,
   "id": "bd07e3ef-17d6-485e-8d0f-d6456cb280bc",
   "metadata": {
    "tags": []
   },
   "outputs": [],
   "source": [
    "#os.listdir(ORIG_MASTER_DIR)\n",
    "masters_mjd = qdrp.get_master_mjd(MJD)\n",
    "masters_path = os.path.join(ORIG_MASTER_DIR, f\"{masters_mjd}\")\n",
    "print(masters_path)"
   ]
  },
  {
   "cell_type": "code",
   "execution_count": 6,
   "id": "37720889-a1a9-4571-a29c-2187efeaa37b",
   "metadata": {
    "tags": []
   },
   "outputs": [],
   "source": [
    "# define target folder for detrended pixelflats\n",
    "target_dir = \"/Users/droryn/work/LVM/data/redux/pixflats\"\n",
    "os.makedirs(target_dir, exist_ok=True)\n",
    "\n",
    "dflat_paths = []\n",
    "for pixflat in frames_table.to_dict(\"records\"):\n",
    "    flat_path = path.full(\"lvm_raw\", camspec=pixflat[\"camera\"], **pixflat)\n",
    "    # print(flat_path)\n",
    "    \n",
    "    # output path\n",
    "    cam = pixflat[\"camera\"]\n",
    "    exp = pixflat[\"expnum\"]\n",
    "    dflat_path = os.path.join(target_dir, f\"lvm-dpixflat-{cam}-{exp}.fits\")\n",
    "    dflat_paths.append(dflat_path)\n",
    "    \n",
    "    # calib paths\n",
    "    mbias_path = os.path.join(masters_path, f\"lvm-mbias-{cam}.fits\")\n",
    "    \n",
    "    #imageMethod.preproc_raw_frame(in_image=flat_path, out_image=dflat_path, replace_with_nan=False)\n",
    "    #imageMethod.detrend_frame(in_image=dflat_path, out_image=dflat_path, in_bias=mbias_path, reject_cr=False, replace_with_nan=False)\n"
   ]
  },
  {
   "cell_type": "code",
   "execution_count": 7,
   "id": "6bfeb33f-0d4a-4980-8a0c-9e68dd734850",
   "metadata": {
    "tags": []
   },
   "outputs": [],
   "source": [
    "# Stack frames \n",
    "frames_table[\"dflat_path\"] = dflat_paths\n",
    "\n",
    "cam_groups = frames_table.groupby(\"camera\")\n",
    "for cam in cam_groups.groups:\n",
    "    dflat_paths_cam = cam_groups.get_group(cam)[\"dflat_path\"]\n",
    "    \n",
    "    # define output combined pixelflat path\n",
    "    mflat_path = os.path.join(target_dir, f\"lvm-mpixflat-{cam}.fits\")\n",
    "    \n",
    "    #imageMethod.create_master_frame(in_images=dflat_paths_cam, out_image=mflat_path)"
   ]
  },
  {
   "cell_type": "markdown",
   "id": "9e0cdea4",
   "metadata": {},
   "source": [
    "## Iterative smoothing"
   ]
  },
  {
   "cell_type": "code",
   "execution_count": null,
   "id": "54a2023c",
   "metadata": {},
   "outputs": [],
   "source": [
    "# Create pixel flats\n",
    "# p preproc, d detrended, m stacked, c final filtered\n",
    "#\n",
    "from scipy import ndimage as ndi\n",
    "import scipy.interpolate\n",
    "\n",
    "\n",
    "def median_nan(image, ivar, size=31):\n",
    "    image_tmp = np.where(ivar>0, image, np.NaN)\n",
    "    return scipy.ndimage.generic_filter(image_tmp, np.nanmedian, size=size)\n",
    "\n",
    "def filtering(image, ivar, debug=False):\n",
    "\n",
    "    minflat = 0.001\n",
    "    min_flat_for_fit_mask = 0.99\n",
    "    max_flat_for_fit_mask = 1.02\n",
    "\n",
    "    # initial model\n",
    "    smooth = median_nan(image, ivar, size=31)\n",
    "    if debug:\n",
    "        fits.writeto('testmodel0.fits', smooth, overwrite=True)\n",
    "\n",
    "    # initial flat by dividing by smoothed image, masking only where we have no data\n",
    "    flat  =  (ivar>0)*(smooth>minflat)*image/(smooth*(smooth>minflat)+(smooth<=minflat))\n",
    "    flat  += (smooth<=minflat)|(ivar<=0)  # set flat to 1 where masked\n",
    "    if debug:\n",
    "        fits.writeto('testflat0.fits', flat, overwrite=True)\n",
    "\n",
    "    # dilate the mask, increasing sigma until not too large\n",
    "    err = np.sqrt(1./(ivar+(ivar==0)))/(smooth*(image>0)+(image<=0))  # error image\n",
    "    for nsig in [3.,3.5,4.,5.,10.,20.]:\n",
    "        mask = (flat<(min_flat_for_fit_mask-nsig*err))|(flat>(max_flat_for_fit_mask+nsig*err))\n",
    "        mask = ndi.binary_dilation(mask)\n",
    "        frac = np.sum(mask>0)/float(np.sum(ivar>0))\n",
    "        if frac<0.05 :\n",
    "            break\n",
    "    print(\"Used nsig = {}, frac = {:4.3f}\".format(nsig,frac))\n",
    "\n",
    "    # https://github.com/desihub/desispec/blob/main/bin/desi_compute_pixel_flatfield#L619\n",
    "\n",
    "    # now start iterating smoothing and filtering the flat, ignoring newly mased pixels in the smoothing\n",
    "    mask = mask | (ivar==0)\n",
    "    smooth = median_nan(image, ~mask, size=31)\n",
    "    flat  =  (ivar>0)*(smooth>minflat)*image/(smooth*(smooth>minflat)+(smooth<=minflat))   # divide by model\n",
    "    flat  += (smooth<=minflat)|(ivar<=0)  # set flat to 1 where no data\n",
    "\n",
    "    if debug:\n",
    "        fits.writeto('testmask.fits', mask.astype(int), overwrite=True)\n",
    "        fits.writeto('testivar.fits', ivar, overwrite=True)\n",
    "        fits.writeto('testmodel.fits', smooth, overwrite=True)\n",
    "        fits.writeto('testflat.fits', flat, overwrite=True)\n",
    "\n",
    "    return flat#, model\n",
    "\n",
    "def filter_image(image_path):\n",
    "    return do_for_quadrants(image_path, filtering)\n",
    "    #return do_for_quadrants(image_path, median_nan, size=51)\n",
    "\n",
    "cam_groups = frames_table.groupby(\"camera\")\n",
    "for cam in cam_groups.groups:\n",
    "    if cam!='b1':\n",
    "        continue\n",
    "    mflat_path = os.path.join(target_dir, f\"lvm-mpixflat-{cam}.fits\")\n",
    "    pixflat_path = os.path.join(target_dir, f\"lvm-cpixflat-{cam}.fits\")\n",
    "    filt_path = os.path.join(target_dir, f\"filt-lvm-cpixflat-{cam}.fits\")\n",
    "\n",
    "    with fits.open(mflat_path) as hdul:\n",
    "        print(\"Reading :\", mflat_path)\n",
    "        \n",
    "        image, filtered = filter_image(mflat_path)\n",
    "        flat = image/filtered\n",
    "        outf = fits.HDUList(fits.PrimaryHDU(filtered))\n",
    "        print(\"Writing :\", filt_path)\n",
    "        outf.writeto(filt_path, overwrite=True)\n",
    "        outf.close()\n",
    "        out = fits.HDUList(fits.PrimaryHDU(flat))\n",
    "        print(\"Writing :\", pixflat_path)\n",
    "        out.writeto(pixflat_path, overwrite=True)\n",
    "        out.close()\n"
   ]
  },
  {
   "cell_type": "markdown",
   "id": "eb2aea4d",
   "metadata": {},
   "source": [
    "## Trivial Pixelflats"
   ]
  },
  {
   "cell_type": "code",
   "execution_count": null,
   "id": "1cc90aa7",
   "metadata": {},
   "outputs": [],
   "source": [
    "# Create pixel flats\n",
    "# p preproc, d detrended, m stacked, c final filtered\n",
    "#\n",
    "# TODO: deal with NaNs by pre-filtering -- scipy.median_filter spreads them around\n",
    "# TODO: How to generate bad pixel mask?\n",
    "#\n",
    "from scipy import ndimage as ndi\n",
    "from astropy.io import fits\n",
    "from multiprocessing.pool import ThreadPool as Pool\n",
    "\n",
    "def filter_image(image_path, size=30, mode='nearest'):\n",
    "    with fits.open(mflat_path) as hdul:\n",
    "        image = hdul[0].data\n",
    "        header = hdul[0].header\n",
    "        q1x, q1y = _parse_ccd_section(header['HIERARCH AMP1 TRIMSEC'])\n",
    "        q2x, q2y = _parse_ccd_section(header['HIERARCH AMP2 TRIMSEC'])\n",
    "        q3x, q3y = _parse_ccd_section(header['HIERARCH AMP3 TRIMSEC'])\n",
    "        q4x, q4y = _parse_ccd_section(header['HIERARCH AMP4 TRIMSEC'])\n",
    "        filtered = np.zeros(image.shape, dtype=np.float32)\n",
    "        filtered[q1y[0]:q1y[1],q1x[0]:q1x[1]] = ndi.median_filter(image[q1y[0]:q1y[1],q1x[0]:q1x[1]], size=size, mode=mode)\n",
    "        filtered[q2y[0]:q2y[1],q2x[0]:q2x[1]] = ndi.median_filter(image[q2y[0]:q2y[1],q2x[0]:q2x[1]], size=size, mode=mode) \n",
    "        filtered[q3y[0]:q3y[1],q3x[0]:q3x[1]] = ndi.median_filter(image[q3y[0]:q3y[1],q3x[0]:q3x[1]], size=size, mode=mode)\n",
    "        filtered[q4y[0]:q4y[1],q4x[0]:q4x[1]] = ndi.median_filter(image[q4y[0]:q4y[1],q4x[0]:q4x[1]], size=size, mode=mode)\n",
    "        #filtered = ndi.median_filter(image, size=30, mode='nearest')\n",
    "        return image, filtered\n",
    "\n",
    "def job(mflat_path, pixflat_path):\n",
    "    print(\"Reading :\", mflat_path)\n",
    "    image, filtered = filter_image(mflat_path, size=50, mode='nearest')\n",
    "    flat = image/filtered\n",
    "    flat = np.where((flat>0.01)*(np.isfinite(flat)), flat, 1.0)\n",
    "    # outf = fits.HDUList(fits.PrimaryHDU(filtered))\n",
    "    # print(\"Writing :\", filt_path)\n",
    "    # outf.writeto(filt_path, overwrite=True)\n",
    "    # outf.close()\n",
    "    out = fits.HDUList(fits.PrimaryHDU(flat))\n",
    "    print(\"Writing :\", pixflat_path)\n",
    "    out.writeto(pixflat_path, overwrite=True)\n",
    "    out.close()\n",
    "\n",
    "cam_groups = frames_table.groupby(\"camera\")\n",
    "with Pool(4) as p:\n",
    "    for cam in cam_groups.groups:\n",
    "        mflat_path = os.path.join(target_dir, f\"lvm-mpixflat-{cam}.fits\")\n",
    "        pixflat_path = os.path.join(target_dir, f\"lvm-cpixflat-{cam}.fits\")\n",
    "        filt_path = os.path.join(target_dir, f\"filt-lvm-cpixflat-{cam}.fits\")\n",
    "\n",
    "        r = p.apply_async(job, (mflat_path, pixflat_path))\n",
    "    p.close()\n",
    "    p.join()"
   ]
  },
  {
   "cell_type": "markdown",
   "id": "d633e73a",
   "metadata": {},
   "source": [
    "## Check by flatfielding original frames"
   ]
  },
  {
   "cell_type": "code",
   "execution_count": null,
   "id": "f7021157",
   "metadata": {},
   "outputs": [],
   "source": [
    "import scipy.ndimage as ndi\n",
    "# define target folder for detrended pixelflats\n",
    "target_dir = \"/Users/droryn/work/LVM/data/redux/pixflats\"\n",
    "\n",
    "dflat_paths = []\n",
    "for pixflat in frames_table.to_dict(\"records\"):\n",
    "    cam = pixflat[\"camera\"]\n",
    "    exp = pixflat[\"expnum\"]\n",
    "    dflat_path = os.path.join(target_dir, f\"lvm-dpixflat-{cam}-{exp}.fits\")    \n",
    "    mflat_path = os.path.join(target_dir, f\"lvm-mpixflat-{cam}.fits\")\n",
    "    with fits.open(mflat_path) as hdf:\n",
    "        f = hdf[0].data\n",
    "\n",
    "    with fits.open(dflat_path) as hdu:\n",
    "        d = hdu['PRIMARY'].data\n",
    "    \n",
    "    d /= f\n",
    "    m = ndi.median_filter(d, size=31)\n",
    "    print(dflat_path, f'test-{cam}.fits')\n",
    "    fits.writeto(f'test-{cam}.fits', d/m, overwrite=True)\n"
   ]
  },
  {
   "cell_type": "markdown",
   "id": "088abff7",
   "metadata": {},
   "source": [
    "## Nick's pixelflats taken in the lab"
   ]
  },
  {
   "cell_type": "code",
   "execution_count": null,
   "id": "91fc2db1",
   "metadata": {},
   "outputs": [],
   "source": [
    "drp.get_frames_metadata(mjd=59720, overwrite=True)\n",
    "drp.get_frames_metadata(mjd=59724, overwrite=True)"
   ]
  },
  {
   "cell_type": "code",
   "execution_count": null,
   "id": "de4eb7b8",
   "metadata": {},
   "outputs": [],
   "source": [
    "# define target folder for preprocessed pixelflats\n",
    "# leave just preprocessed frames for one low, one high count exposure\n",
    "# https://docs.google.com/spreadsheets/d/103BNxjlZ59Sob3jDO4EN1z6zp2q5YrYA6nTjGlZM6XY/edit#gid=349553156\n",
    "target_dir = \"/Users/droryn/work/LVM/data/redux/nickflats\"\n",
    "os.makedirs(target_dir, exist_ok=True)\n",
    "MJD=59720\n",
    "\n",
    "#masters_mjd = qdrp.get_master_mjd(MJD)\n",
    "masters_mjd = 60142\n",
    "masters_path = os.path.join(ORIG_MASTER_DIR, f\"{masters_mjd}\")\n",
    "print(masters_path)\n",
    "\n",
    "frames_table = md.get_metadata(tileid=\"*\", mjd=MJD)\n",
    "frames_table.query(\"expnum>=3814 & expnum<=3843\", inplace=True)\n",
    "frames_table.sort_values(\"camera\", inplace=True)\n",
    "#frames_table\n",
    "\n",
    "pflat_paths = []\n",
    "dflat_paths = []\n",
    "for pixflat in frames_table.to_dict(\"records\"):\n",
    "    flat_path = path.full(\"lvm_raw\", camspec=pixflat[\"camera\"], **pixflat)\n",
    "    # print(flat_path)\n",
    "    \n",
    "    # output path\n",
    "    cam = pixflat[\"camera\"]\n",
    "    exp = pixflat[\"expnum\"]\n",
    "    pflat_path = os.path.join(target_dir, f\"lvm-ppixflat-{cam}-{exp}.fits\")\n",
    "    pflat_paths.append(pflat_path)\n",
    "    dflat_path = os.path.join(target_dir, f\"lvm-dpixflat-{cam}-{exp}.fits\")\n",
    "    dflat_paths.append(dflat_path)\n",
    "    mbias_path = os.path.join(masters_path, f\"lvm-mbias-{cam}.fits\")\n",
    "\n",
    "    imageMethod.preproc_raw_frame(in_image=flat_path, out_image=pflat_path, assume_imagetyp=\"pixelflat\", replace_with_nan=False)\n",
    "    imageMethod.detrend_frame(in_image=pflat_path, out_image=dflat_path, in_bias=mbias_path, reject_cr=False, replace_with_nan=False)\n"
   ]
  },
  {
   "cell_type": "code",
   "execution_count": 1,
   "id": "b718553a",
   "metadata": {},
   "outputs": [],
   "source": [
    "import numpy as np\n",
    "from astropy.io import fits\n",
    "import matplotlib.pyplot as plt\n",
    "from scipy.ndimage import binary_closing\n",
    "\n",
    "d = '/Users/droryn/work/LVM/data/sas/sdsswork/lvm/sandbox/calib/pixelmasks/'\n",
    "cam = ['b', 'r', 'z']\n",
    "spec = ['1', '2', '3']\n",
    "for c in cam:\n",
    "    for s in spec:\n",
    "        with fits.open(d+f'lvm-mpixflat-{c}{s}.fits') as f:\n",
    "            d1 = f['PRIMARY'].data.astype(np.float32)\n",
    "        mask = ((d1>1.1) | (d1<0.5)).astype(np.int8)\n",
    "        # need a margin for this to work with edges\n",
    "        margin=50\n",
    "        larger_mask = np.ones((mask.shape[0]+2*margin,mask.shape[1]+2*margin),dtype=np.int8)\n",
    "        for loop in range(1):\n",
    "            larger_mask[margin:-margin,margin:-margin] = mask\n",
    "            closed_mask = binary_closing(larger_mask, iterations=10, structure=np.ones([2, 2]).astype(np.int8))\n",
    "            assert(closed_mask.shape==larger_mask.shape)\n",
    "            mask|=closed_mask[margin:-margin,margin:-margin]\n",
    "        fits.writeto(d+f'mask-{c}{s}.fits', mask, overwrite=True)"
   ]
  },
  {
   "cell_type": "code",
   "execution_count": null,
   "id": "1a9b5980",
   "metadata": {},
   "outputs": [],
   "source": []
  }
 ],
 "metadata": {
  "kernelspec": {
   "display_name": "lvmdrp",
   "language": "python",
   "name": "python3"
  },
  "language_info": {
   "codemirror_mode": {
    "name": "ipython",
    "version": 3
   },
   "file_extension": ".py",
   "mimetype": "text/x-python",
   "name": "python",
   "nbconvert_exporter": "python",
   "pygments_lexer": "ipython3",
   "version": "3.12.2"
  }
 },
 "nbformat": 4,
 "nbformat_minor": 5
}
