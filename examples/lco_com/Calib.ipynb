{
 "cells": [
  {
   "cell_type": "code",
   "execution_count": 1,
   "id": "d5299235",
   "metadata": {},
   "outputs": [],
   "source": [
    "from astropy.table import Table\n",
    "import pandas as pd\n",
    "from gaiaxpy import calibrate\n",
    "from gaiaxpy import convert\n",
    "import time\n",
    "from astropy.io import fits\n",
    "import numpy as np\n",
    "import matplotlib.pyplot as plt\n",
    "from scipy.interpolate import interp1d\n",
    "import yaml\n",
    "from astropy.time import Time\n",
    "from astropy.coordinates import SkyCoord, EarthLocation, AltAz\n",
    "from astropy import units as u\n",
    "from scipy.ndimage import gaussian_filter1d\n",
    "import sys\n",
    "import warnings\n",
    "warnings.filterwarnings(\"ignore\")"
   ]
  },
  {
   "cell_type": "code",
   "execution_count": 2,
   "id": "32c02dd2",
   "metadata": {},
   "outputs": [],
   "source": [
    "def sycall(comand):\n",
    "    import os\n",
    "    linp=comand\n",
    "    os.system(comand)\n",
    "\n",
    "def retrive_gaia_star(gaiaID,gaia_dir=''):\n",
    "    import os.path as ptt\n",
    "    import requests\n",
    "    if ptt.exists(gaia_dir+'/gaia_spec_'+str(gaiaID)+'.csv') == True:\n",
    "        # read the tables from our cache\n",
    "        gaiaflux = Table.read(gaia_dir+\"/gaia_spec_\"+str(gaiaID)+\".csv\",format=\"csv\")\n",
    "        gaiawave = Table.read(gaia_dir+\"/gaia_spec_\"+str(gaiaID)+\"_sampling.csv\",format=\"csv\")\n",
    "    else:\n",
    "        # need to download from Gaia archive\n",
    "        CSV_URL = 'https://gea.esac.esa.int/data-server/data?RETRIEVAL_TYPE=XP_CONTINUOUS&ID=Gaia+DR3+'+\\\n",
    "        str(gaiaID)+'&format=CSV&DATA_STRUCTURE=RAW'\n",
    "        FILE = gaia_dir+'/XP_'+str(gaiaID)+'_RAW.csv'\n",
    "        with open(FILE, 'w') as f, requests.get(CSV_URL, stream=True) as r:\n",
    "            f.write(r.content.decode('utf-8'))\n",
    "        # convert coefficients to sampled spectrum\n",
    "        _, _ = calibrate(FILE, output_path=gaia_dir,output_file='gaia_spec_'+str(gaiaID),output_format='csv')\n",
    "        # read the flux and wavelength tables\n",
    "        gaiaflux = Table.read(gaia_dir+\"/gaia_spec_\"+str(gaiaID)+\".csv\",format=\"csv\")\n",
    "        gaiawave = Table.read(gaia_dir+\"/gaia_spec_\"+str(gaiaID)+\"_sampling.csv\",format=\"csv\")\n",
    "    # make numpy arrays from whatever weird objects the Gaia stuff creates\n",
    "    wave = np.fromstring(gaiawave['pos'][0][1:-1],sep=',')*10# in Angstrom\n",
    "    flux = 1e7*1e-1*1e-4*np.fromstring(gaiaflux['flux'][0][1:-1],sep=',')# W/s/micron -> in erg/s/cm^2/A\n",
    "    return  flux,wave\n",
    "\n",
    "    \n",
    "    \n",
    "def retrive_gaia_star_old(gaiaID,gaia_dir=''):\n",
    "    import os.path as ptt\n",
    "    if ptt.exists(gaia_dir+'/gaia_spec_'+str(gaiaID)+'.csv') == True:\n",
    "        data1 = Table.read(gaia_dir+\"/gaia_spec_\"+str(gaiaID)+\".csv\", format=\"csv\")\n",
    "        data2 = Table.read(gaia_dir+\"/gaia_spec_\"+str(gaiaID)+\"_sampling.csv\", format=\"csv\")\n",
    "        flux = np.array(list(data1[\"flux\"][0].replace(\"(\", \"\").replace(\")\", \"\").split(\",\")), dtype=float)\n",
    "        wave = np.array(list(data2[\"pos\"][0].replace(\"(\", \"\").replace(\")\", \"\").split(\",\")), dtype=float)\n",
    "    else:\n",
    "        if ptt.exists(gaia_dir+'/XP_'+str(gaiaID)+'_RAW.csv') == True:\n",
    "            f = gaia_dir+'/XP_'+str(gaiaID)+'_RAW.csv'\n",
    "            df = pd.read_csv(f) \n",
    "            calibrated_spectra, _ = calibrate(df)\n",
    "            calibrated_spectra, _ = calibrate(f, output_path=gaia_dir, output_file='gaia_spec_'+str(gaiaID), output_format='csv')\n",
    "            data1 = Table.read(gaia_dir+\"/gaia_spec_\"+str(gaiaID)+\".csv\", format=\"csv\")\n",
    "            data2 = Table.read(gaia_dir+\"/gaia_spec_\"+str(gaiaID)+\"_sampling.csv\", format=\"csv\")\n",
    "            flux = np.array(list(data1[\"flux\"][0].replace(\"(\", \"\").replace(\")\", \"\").split(\",\")), dtype=float)\n",
    "            wave = np.array(list(data2[\"pos\"][0].replace(\"(\", \"\").replace(\")\", \"\").split(\",\")), dtype=float)\n",
    "        else:\n",
    "            call='curl -k -b cookies-datalink.txt \"https://gea.esac.esa.int/data-server/data?RETRIEVAL_TYPE=XP_CONTINUOUS&ID=Gaia+DR3+'+str(gaiaID)+'&format=CSV&DATA_STRUCTURE=RAW\" > '+gaia_dir+'/XP_'+str(gaiaID)+'_RAW.csv'\n",
    "            sycall(call)\n",
    "            time.sleep(2)\n",
    "            f = gaia_dir+'/XP_'+str(gaiaID)+'_RAW.csv'\n",
    "            df = pd.read_csv(f) \n",
    "            calibrated_spectra, _ = calibrate(df)\n",
    "            calibrated_spectra, _ = calibrate(f, output_path=gaia_dir, output_file='gaia_spec_'+str(gaiaID), output_format='csv')\n",
    "            data1 = Table.read(gaia_dir+\"/gaia_spec_\"+str(gaiaID)+\".csv\", format=\"csv\")\n",
    "            data2 = Table.read(gaia_dir+\"/gaia_spec_\"+str(gaiaID)+\"_sampling.csv\", format=\"csv\")\n",
    "            flux = np.array(list(data1[\"flux\"][0].replace(\"(\", \"\").replace(\")\", \"\").split(\",\")), dtype=float)\n",
    "            wave = np.array(list(data2[\"pos\"][0].replace(\"(\", \"\").replace(\")\", \"\").split(\",\")), dtype=float)\n",
    "    wave=wave*1e1\n",
    "    flux=flux*1e2#1e7*1e-1*1e-4        \n",
    "    return flux,wave\n",
    "\n",
    "def read_airmass(file_name,dir='./'):\n",
    "    wave=[]\n",
    "    ext=[]\n",
    "    f=open(file_name,'r')\n",
    "    for line in f:\n",
    "        data=list(line.replace('\\n','').split(' '))\n",
    "        wave.extend([float(data[0])])\n",
    "        ext.extend([float(data[1])])\n",
    "    wave=np.array(wave)\n",
    "    ext=np.array(ext)\n",
    "    nt=np.where(ext < 1)[0]\n",
    "    wave=wave[nt]\n",
    "    ext=ext[nt]\n",
    "    return wave,ext"
   ]
  },
  {
   "cell_type": "code",
   "execution_count": 3,
   "id": "5a6bd5ac",
   "metadata": {},
   "outputs": [],
   "source": [
    "def median_a(x,lw=5,lower=10000,wave=[]):\n",
    "    if len(wave) > 0:\n",
    "        index=np.where(wave < lower)[0]\n",
    "        index2=np.where(wave >= lower)[0]\n",
    "        x1=np.copy(x)\n",
    "        x=x[index]\n",
    "    x_n=np.zeros(len(x))\n",
    "    for i in range(0, len(x)):\n",
    "        if i <= lw:\n",
    "            x_d=x[0:lw]\n",
    "            #x_d=reject_outliers(x_d)\n",
    "            x_n[i]=np.nanmean(x_d)\n",
    "        if i >= len(x)-lw:\n",
    "            x_d=x[len(x)-lw:len(x)]\n",
    "            #x_d=reject_outliers(x_d)\n",
    "            x_n[i]=np.nanmean(x_d)\n",
    "        if i > lw and i < len(x)-lw:\n",
    "            x_d=x[i-lw:i+lw]\n",
    "            #x_d=reject_outliers(x_d)\n",
    "            x_n[i]=np.nanmean(x_d) \n",
    "    if len(wave) > 0:\n",
    "        x1[index]=x_n\n",
    "        x1[index2]=x_n[-1]\n",
    "        x_n=x1\n",
    "    return x_n"
   ]
  },
  {
   "cell_type": "code",
   "execution_count": 4,
   "id": "7aab7b9c",
   "metadata": {},
   "outputs": [],
   "source": [
    "def retrive_lvm_calib(expnum,redux_dir='',defCalib=False,aperdir='',aptc=False,mjd='0000',redux_ver='0.1.1.dev0/1111/',basename='lvmCFrame-NAME.fits',path_lvmcore='',spid=0,fibid=[-1],cmid='b'):\n",
    "    file=path_lvmcore+'/metrology/lvm_fiducial_fibermap.yaml'\n",
    "    f=open(file,'r')\n",
    "    fiber_map = yaml.safe_load(f)\n",
    "    fiber_map=fiber_map['fibers']\n",
    "    Std_n=[]\n",
    "    Std_id=[]\n",
    "    for i in range(0, len(fiber_map)):\n",
    "        if 'standard' in fiber_map[i][4]:\n",
    "            Std_n.extend([str(fiber_map[i][11])])\n",
    "            Std_id.extend([str(fiber_map[i][0])])\n",
    "    try:\n",
    "        file=redux_dir+'/'+redux_ver+'/'+mjd+'/'+basename.replace('NAME',str(expnum))\n",
    "        [rss, hdr0]=fits.getdata(file,'FLUX', header=True)\n",
    "        hdr1=fits.getheader(file,0)\n",
    "        crpix=hdr0[\"CRPIX1\"]\n",
    "        cdelt=hdr0[\"CDELT1\"]\n",
    "        crval=hdr0[\"CRVAL1\"]    \n",
    "        mod=1944\n",
    "    except:\n",
    "        file=redux_dir+'/'+redux_ver+'/'+mjd+'/ancillary/'+basename.replace('NAME',str(expnum)).replace('SPID',cmid+str(spid))\n",
    "        [rss, hdr1]=fits.getdata(file,0, header=True)\n",
    "        if aptc:\n",
    "            filec=aperdir+'/lvm-apercorr-SPID.fits'.replace('SPID',cmid+str(spid))\n",
    "            [rssc, hdrt]=fits.getdata(filec,0, header=True)\n",
    "            nxa,nya=rssc.shape \n",
    "        crpix=hdr1[\"CRPIX1\"]\n",
    "        cdelt=hdr1[\"CDELT1\"]\n",
    "        crval=hdr1[\"CRVAL1\"]\n",
    "        mod=648\n",
    "    nx,ny=rss.shape    \n",
    "    if mod == 648 and aptc:\n",
    "        if ny > nya:\n",
    "            rss=rss[:,0:nya]\n",
    "            ny=nya\n",
    "        if ny < nya:\n",
    "            rssc=rssc[:,0:ny]\n",
    "        print(ny,nya)\n",
    "        rss=rss*rssc\n",
    "    wave=crval+cdelt*(np.arange(ny)+1-crpix)  \n",
    "    \n",
    "    Object_ra=float(hdr1['POSCIRA'])\n",
    "    Object_dec=float(hdr1['POSCIDE'])\n",
    "    Object_T0=str(hdr1['INTSTART'])\n",
    "    Object_AM=float(hdr1['TESCIAM'])\n",
    "    Object_expT=float(hdr1['EXPTIME'])\n",
    "\n",
    "    \n",
    "    gaia_ID=[]\n",
    "    gaia_T=[]\n",
    "    gaia_N=[]\n",
    "    gaia_ra=[]\n",
    "    gaia_dec=[]\n",
    "    gaia_T0=[]\n",
    "    gaia_T1=[]\n",
    "    gaia_exp=[]\n",
    "    keys=list(hdr1.keys())\n",
    "    for i in range(0, len(keys)):\n",
    "        for j in range(1, 16):\n",
    "            if \"STD\"+str(j)+\"FIB\" in keys[i]:\n",
    "                gaia_N.extend([str(hdr1[keys[i]])])\n",
    "            if \"STD\"+str(j)+\"ACQ\" in  keys[i]:\n",
    "                gaia_T.extend([str(hdr1[keys[i]])])\n",
    "            if \"STD\"+str(j)+\"ID\" in  keys[i]:\n",
    "                gaia_ID.extend([str(hdr1[keys[i]])])\n",
    "            if \"STD\"+str(j)+\"RA\" in  keys[i]:\n",
    "                gaia_ra.extend([str(hdr1[keys[i]])])\n",
    "            if \"STD\"+str(j)+\"DE\" in  keys[i]:\n",
    "                gaia_dec.extend([str(hdr1[keys[i]])])  \n",
    "            if \"STD\"+str(j)+\"T0\" in  keys[i]:\n",
    "                gaia_T0.extend([str(hdr1[keys[i]])])\n",
    "            if \"STD\"+str(j)+\"T1\" in  keys[i]:\n",
    "                gaia_T1.extend([str(hdr1[keys[i]])])        \n",
    "            if \"STD\"+str(j)+\"EXP\" in  keys[i]:\n",
    "                gaia_exp.extend([str(hdr1[keys[i]])])  \n",
    "    gaiaF_ID=[]\n",
    "    gaia_I=[]  \n",
    "    gaia_Nf=[] \n",
    "    gaia_raf=[]\n",
    "    gaia_decf=[]\n",
    "    gaia_T0f=[]\n",
    "    gaia_T1f=[]\n",
    "    gaia_expf=[]   \n",
    "    for i in range(0, 15):\n",
    "        if \"T\" in  gaia_T[i]:\n",
    "            gaiaF_ID.extend([gaia_ID[i]])\n",
    "            gaia_I.extend([i])\n",
    "            gaia_Nf.extend([gaia_N[i]])\n",
    "            gaia_raf.extend([gaia_ra[i]])\n",
    "            gaia_decf.extend([gaia_dec[i]])\n",
    "            gaia_T0f.extend([gaia_T0[i]])\n",
    "            gaia_T1f.extend([gaia_T1[i]])\n",
    "            gaia_expf.extend([gaia_exp[i]])\n",
    "    gaiaF_IDf=[]  \n",
    "    gaia_If=[]\n",
    "    gaiaF_Nf=[]\n",
    "    gaiaF_raf=[]\n",
    "    gaiaF_decf=[]\n",
    "    gaiaF_T0f=[]\n",
    "    gaiaF_T1f=[]\n",
    "    gaiaF_expf=[]\n",
    "    for i in range(0, len(gaia_Nf)):\n",
    "        for j in range(0, len(Std_n)):\n",
    "            if gaia_Nf[i] == Std_n[j]:\n",
    "                if spid > 0:\n",
    "                    if spid == 1:\n",
    "                        if int(Std_id[j]) < 649:\n",
    "                            gaia_If.extend([(int(Std_id[j])-1) % mod])\n",
    "                            gaiaF_IDf.extend([gaiaF_ID[i]])\n",
    "                            gaiaF_Nf.extend([gaia_Nf[i]])\n",
    "                            gaiaF_raf.extend([gaia_raf[i]])\n",
    "                            gaiaF_decf.extend([gaia_decf[i]])\n",
    "                            gaiaF_T0f.extend([gaia_T0f[i]])\n",
    "                            gaiaF_T1f.extend([gaia_T1f[i]]) \n",
    "                            gaiaF_expf.extend([gaia_expf[i]]) \n",
    "                    if spid == 2:\n",
    "                        if int(Std_id[j]) > 648 and int(Std_id[j]) < 1297:\n",
    "                            gaia_If.extend([(int(Std_id[j])-1) % mod])\n",
    "                            gaiaF_IDf.extend([gaiaF_ID[i]])\n",
    "                            gaiaF_Nf.extend([gaia_Nf[i]])\n",
    "                            gaiaF_raf.extend([gaia_raf[i]])\n",
    "                            gaiaF_decf.extend([gaia_decf[i]])\n",
    "                            gaiaF_T0f.extend([gaia_T0f[i]])\n",
    "                            gaiaF_T1f.extend([gaia_T1f[i]]) \n",
    "                            gaiaF_expf.extend([gaia_expf[i]])                             \n",
    "                    if spid == 3:\n",
    "                        if int(Std_id[j]) > 1296:\n",
    "                            gaia_If.extend([(int(Std_id[j])-1) % mod])\n",
    "                            gaiaF_IDf.extend([gaiaF_ID[i]])\n",
    "                            gaiaF_Nf.extend([gaia_Nf[i]])    \n",
    "                            gaiaF_raf.extend([gaia_raf[i]])\n",
    "                            gaiaF_decf.extend([gaia_decf[i]])\n",
    "                            gaiaF_T0f.extend([gaia_T0f[i]])\n",
    "                            gaiaF_T1f.extend([gaia_T1f[i]]) \n",
    "                            gaiaF_expf.extend([gaia_expf[i]])             \n",
    "                else:\n",
    "                    gaia_If.extend([int(Std_id[j])-1])\n",
    "                    gaiaF_IDf.extend([gaiaF_ID[i]])\n",
    "                    gaiaF_Nf.extend([gaia_Nf[i]])\n",
    "                    gaiaF_raf.extend([gaia_raf[i]])\n",
    "                    gaiaF_decf.extend([gaia_decf[i]])\n",
    "                    gaiaF_T0f.extend([gaia_T0f[i]])\n",
    "                    gaiaF_T1f.extend([gaia_T1f[i]]) \n",
    "                    gaiaF_expf.extend([gaia_expf[i]]) \n",
    "    \n",
    "    \n",
    "    lco=EarthLocation(lat=-29.008999964*u.deg, lon=-70.688663912*u.deg, height=2800*u.m)   \n",
    "    airmass=np.zeros(len(gaiaF_raf))\n",
    "    wave_ext,k_ext=read_airmass('LVM_LVM160_KLAM.dat')\n",
    "    kext=interp1d(wave_ext,k_ext,kind='linear',bounds_error=False)(wave*1e10)\n",
    "    wave=wave*1e10\n",
    "    rssT=np.copy(rss)\n",
    "    for i in range(0, len(gaiaF_raf)):\n",
    "        c=SkyCoord(float(gaiaF_raf[i]), float(gaiaF_decf[i]), unit=\"deg\") \n",
    "        t=Time(gaiaF_T0f[i])\n",
    "        stdT = c.transform_to(AltAz(obstime=t,location=lco))  \n",
    "        airmass[i]=stdT.secz \n",
    "        \n",
    "        flux_g,wave_g=retrive_gaia_star_old(gaiaF_IDf[i],gaia_dir='gaia')\n",
    "        flux_g=interp1d(wave_g,flux_g,kind='linear',bounds_error=False)(wave)\n",
    "        flux_g= gaussian_filter1d(flux_g, 50)\n",
    "        raw_spec=10**(0.4*kext*airmass[i])*rss[gaia_If[i],:]/float(gaiaF_expf[i])\n",
    "        raw_spec = gaussian_filter1d(raw_spec, 5)\n",
    "        raw_spec[np.where(raw_spec < 0)]=np.nan\n",
    "        raw_spec=median_a(raw_spec,lw=15)\n",
    "        raw_spec=gaussian_filter1d(raw_spec, 100)\n",
    "        rssT[gaia_If[i],:]=flux_g/raw_spec\n",
    "    \n",
    "    calibF=rssT[gaia_If,:]\n",
    "    calibF=np.nanmean(calibF,axis=0)\n",
    "    if defCalib:\n",
    "        hdu_list = fits.open('SensF_v3.fits')\n",
    "        table_hdu = hdu_list[1]\n",
    "        table_data = table_hdu.data\n",
    "        senf=table_data.field('SENSF')\n",
    "        wavesf=table_data.field('WAVE')\n",
    "        calibF=interp1d(wavesf,senf,kind='linear',bounds_error=False)(wave)#*1e-10\n",
    "    \n",
    "    for i in range(0, len(rss[:,0])):\n",
    "        raw_spec=rss[i,:]\n",
    "        at=0\n",
    "        for j in range(0, len(gaiaF_raf)):\n",
    "            if i == gaia_If[j]:\n",
    "                at=1\n",
    "        if at == 0:\n",
    "            raw_spec=10**(0.4*kext*Object_AM)*raw_spec/Object_expT*calibF#*1e7\n",
    "            rss[i,:]=raw_spec\n",
    "            #print(raw_spec)\n",
    "                \n",
    "        \n",
    "    h2=fits.PrimaryHDU(rss)\n",
    "    h_k=h2.header\n",
    "    for i in range(0, len(keys)):\n",
    "        h_k[keys[i]]=hdr1[keys[i]]\n",
    "        h_k.comments[keys[i]]=hdr1.comments[keys[i]]\n",
    "    h_k[\"CRPIX1\"]=crpix\n",
    "    h_k[\"CDELT1\"]=cdelt\n",
    "    h_k[\"CRVAL1\"]=crval  \n",
    "    h_k.update()\n",
    "    hlist=fits.HDUList([h2])\n",
    "    hlist.update_extend()\n",
    "    file=redux_dir+'/'+redux_ver+'/'+mjd+'/'+basename.replace('CFrame-','FluxCFrame-').replace('NAME',str(expnum))\n",
    "    hlist.writeto(file, overwrite=True)\n",
    "        \n",
    "    return  rss,calibF,wave,gaia_If\n",
    "        "
   ]
  },
  {
   "cell_type": "code",
   "execution_count": 8,
   "id": "4cda1798",
   "metadata": {
    "scrolled": true
   },
   "outputs": [
    {
     "name": "stderr",
     "output_type": "stream",
     "text": [
      "  % Total    % Received % Xferd  Average Speed   Time    Time     Time  Current\n",
      "                                 Dload  Upload   Total   Spent    Left  Speed\n",
      "100 42896    0 42896    0     0   6254      0 --:--:--  0:00:06 --:--:-- 11384\n"
     ]
    },
    {
     "name": "stdout",
     "output_type": "stream",
     "text": [
      "Reading input DataFrame...\r"
     ]
    },
    {
     "name": "stderr",
     "output_type": "stream",
     "text": [
      "                                                                                00<00:00,  5.36spec/s]\u001b[0m\r"
     ]
    },
    {
     "name": "stdout",
     "output_type": "stream",
     "text": [
      "Reading input file... path: ./output_spectra.csv\r"
     ]
    },
    {
     "name": "stderr",
     "output_type": "stream",
     "text": [
      "                                                                                0/1 [00:00<?, ?spec/s]\u001b[0m\r"
     ]
    },
    {
     "name": "stdout",
     "output_type": "stream",
     "text": [
      "Saving file...\r",
      "Done! Output saved to path: gaia/gaia_spec_2925294945343456896.csv\r"
     ]
    },
    {
     "name": "stderr",
     "output_type": "stream",
     "text": [
      "  % Total    % Received % Xferd  Average Speed   Time    Time     Time  Current\n",
      "                                 Dload  Upload   Total   Spent    Left  Speed\n",
      "100 43075    0 43075    0     0  32632      0 --:--:--  0:00:01 --:--:-- 32657\n"
     ]
    },
    {
     "name": "stdout",
     "output_type": "stream",
     "text": [
      "Reading input DataFrame...\r"
     ]
    },
    {
     "name": "stderr",
     "output_type": "stream",
     "text": [
      "                                                                                0/1 [00:00<?, ?spec/s]\u001b[0m\r"
     ]
    },
    {
     "name": "stdout",
     "output_type": "stream",
     "text": [
      "Saving file...\r",
      "Done! Output saved to path: ./output_spectra.csv\r",
      "Reading input file...\r"
     ]
    },
    {
     "name": "stderr",
     "output_type": "stream",
     "text": [
      "                                                                                0/1 [00:00<?, ?spec/s]\u001b[0m\r"
     ]
    },
    {
     "name": "stdout",
     "output_type": "stream",
     "text": [
      "Saving file...\r",
      "Done! Output saved to path: gaia/gaia_spec_2921140715536434048.csv\r"
     ]
    },
    {
     "name": "stderr",
     "output_type": "stream",
     "text": [
      "  % Total    % Received % Xferd  Average Speed   Time    Time     Time  Current\n",
      "                                 Dload  Upload   Total   Spent    Left  Speed\n",
      "100 42810    0 42810    0     0  29916      0 --:--:--  0:00:01 --:--:-- 30000\n"
     ]
    },
    {
     "name": "stdout",
     "output_type": "stream",
     "text": [
      "Reading input DataFrame...\r"
     ]
    },
    {
     "name": "stderr",
     "output_type": "stream",
     "text": [
      "                                                                                00<00:00,  6.78spec/s]\u001b[0m\r"
     ]
    },
    {
     "name": "stdout",
     "output_type": "stream",
     "text": [
      "Saving file...\r",
      "Done! Output saved to path: ./output_spectra.csv\r",
      "Reading input file...\r"
     ]
    },
    {
     "name": "stderr",
     "output_type": "stream",
     "text": [
      "                                                                                0/1 [00:00<?, ?spec/s]\u001b[0m\r"
     ]
    },
    {
     "name": "stdout",
     "output_type": "stream",
     "text": [
      "Saving file...\r",
      "Done! Output saved to path: gaia/gaia_spec_2921037361441783296.csv\r"
     ]
    },
    {
     "name": "stderr",
     "output_type": "stream",
     "text": [
      "  % Total    % Received % Xferd  Average Speed   Time    Time     Time  Current\n",
      "                                 Dload  Upload   Total   Spent    Left  Speed\n",
      "100 42842    0 42842    0     0  37779      0 --:--:--  0:00:01 --:--:-- 37812\n"
     ]
    },
    {
     "name": "stdout",
     "output_type": "stream",
     "text": [
      "Reading input DataFrame...\r"
     ]
    },
    {
     "name": "stderr",
     "output_type": "stream",
     "text": [
      "                                                                                0/1 [00:00<?, ?spec/s]\u001b[0m\r"
     ]
    },
    {
     "name": "stdout",
     "output_type": "stream",
     "text": [
      "Saving file...\r",
      "Done! Output saved to path: ./output_spectra.csv\r",
      "Reading input file...\r"
     ]
    },
    {
     "name": "stderr",
     "output_type": "stream",
     "text": [
      "                                                                                0/1 [00:00<?, ?spec/s]\u001b[0m\r"
     ]
    },
    {
     "name": "stdout",
     "output_type": "stream",
     "text": [
      "Done! Output saved to path: gaia/gaia_spec_2920486987151700224.csv\r"
     ]
    },
    {
     "name": "stderr",
     "output_type": "stream",
     "text": [
      "  % Total    % Received % Xferd  Average Speed   Time    Time     Time  Current\n",
      "                                 Dload  Upload   Total   Spent    Left  Speed\n",
      "100 42983    0 42983    0     0  39218      0 --:--:--  0:00:01 --:--:-- 39253\n"
     ]
    },
    {
     "name": "stdout",
     "output_type": "stream",
     "text": [
      "Reading input DataFrame...\r"
     ]
    },
    {
     "name": "stderr",
     "output_type": "stream",
     "text": [
      "                                                                                0/1 [00:00<?, ?spec/s]\u001b[0m\r"
     ]
    },
    {
     "name": "stdout",
     "output_type": "stream",
     "text": [
      "Saving file...\r",
      "Done! Output saved to path: ./output_spectra.csv\r",
      "Reading input file...\r"
     ]
    },
    {
     "name": "stderr",
     "output_type": "stream",
     "text": [
      "                                                                                0/1 [00:00<?, ?spec/s]\u001b[0m\r"
     ]
    },
    {
     "name": "stdout",
     "output_type": "stream",
     "text": [
      "Saving file...\r",
      "Done! Output saved to path: gaia/gaia_spec_2928798848387843456.csv\r"
     ]
    },
    {
     "name": "stderr",
     "output_type": "stream",
     "text": [
      "  % Total    % Received % Xferd  Average Speed   Time    Time     Time  Current\n",
      "                                 Dload  Upload   Total   Spent    Left  Speed\n",
      "100 43002    0 43002    0     0  40567      0 --:--:--  0:00:01 --:--:-- 40567\n"
     ]
    },
    {
     "name": "stdout",
     "output_type": "stream",
     "text": [
      "Reading input DataFrame...\r"
     ]
    },
    {
     "name": "stderr",
     "output_type": "stream",
     "text": [
      "                                                                                0/1 [00:00<?, ?spec/s]\u001b[0m\r"
     ]
    },
    {
     "name": "stdout",
     "output_type": "stream",
     "text": [
      "Saving file...\r",
      "Done! Output saved to path: ./output_spectra.csv\r",
      "Reading input file...\r"
     ]
    },
    {
     "name": "stderr",
     "output_type": "stream",
     "text": [
      "                                                                                0/1 [00:00<?, ?spec/s]\u001b[0m\r"
     ]
    },
    {
     "name": "stdout",
     "output_type": "stream",
     "text": [
      "Saving file...\r",
      "Done! Output saved to path: gaia/gaia_spec_2931960700231190784.csv\r"
     ]
    },
    {
     "name": "stderr",
     "output_type": "stream",
     "text": [
      "  % Total    % Received % Xferd  Average Speed   Time    Time     Time  Current\n",
      "                                 Dload  Upload   Total   Spent    Left  Speed\n",
      "100 43123    0 43123    0     0  40226      0 --:--:--  0:00:01 --:--:-- 40226\n"
     ]
    },
    {
     "name": "stdout",
     "output_type": "stream",
     "text": [
      "Reading input DataFrame...\r"
     ]
    },
    {
     "name": "stderr",
     "output_type": "stream",
     "text": [
      "                                                                                0/1 [00:00<?, ?spec/s]\u001b[0m\r"
     ]
    },
    {
     "name": "stdout",
     "output_type": "stream",
     "text": [
      "Saving file...\r",
      "Done! Output saved to path: ./output_spectra.csv\r",
      "Reading input file...\r"
     ]
    },
    {
     "name": "stderr",
     "output_type": "stream",
     "text": [
      "                                                                                0/1 [00:00<?, ?spec/s]\u001b[0m\r"
     ]
    },
    {
     "name": "stdout",
     "output_type": "stream",
     "text": [
      "Saving file...\r",
      "Done! Output saved to path: gaia/gaia_spec_2921154528151683200.csv\r"
     ]
    },
    {
     "name": "stderr",
     "output_type": "stream",
     "text": [
      "  % Total    % Received % Xferd  Average Speed   Time    Time     Time  Current\n",
      "                                 Dload  Upload   Total   Spent    Left  Speed\n",
      "100 42862    0 42862    0     0  40057      0 --:--:--  0:00:01 --:--:-- 40057\n"
     ]
    },
    {
     "name": "stdout",
     "output_type": "stream",
     "text": [
      "Reading input DataFrame...\r"
     ]
    },
    {
     "name": "stderr",
     "output_type": "stream",
     "text": [
      "                                                                                0/1 [00:00<?, ?spec/s]\u001b[0m\r"
     ]
    },
    {
     "name": "stdout",
     "output_type": "stream",
     "text": [
      "Saving file...\r",
      "Done! Output saved to path: ./output_spectra.csv\r",
      "Reading input file...\r"
     ]
    },
    {
     "name": "stderr",
     "output_type": "stream",
     "text": [
      "                                                                                0/1 [00:00<?, ?spec/s]\u001b[0m\r"
     ]
    },
    {
     "name": "stdout",
     "output_type": "stream",
     "text": [
      "Saving file...\r",
      "Done! Output saved to path: gaia/gaia_spec_2920367999377437824.csv\r"
     ]
    },
    {
     "name": "stderr",
     "output_type": "stream",
     "text": [
      "  % Total    % Received % Xferd  Average Speed   Time    Time     Time  Current\n",
      "                                 Dload  Upload   Total   Spent    Left  Speed\n",
      "100 43075    0 43075    0     0  37456      0 --:--:--  0:00:01 --:--:-- 37456\n"
     ]
    },
    {
     "name": "stdout",
     "output_type": "stream",
     "text": [
      "Reading input DataFrame...\r"
     ]
    },
    {
     "name": "stderr",
     "output_type": "stream",
     "text": [
      "                                                                                0/1 [00:00<?, ?spec/s]\u001b[0m\r"
     ]
    },
    {
     "name": "stdout",
     "output_type": "stream",
     "text": [
      "Saving file...\r",
      "Done! Output saved to path: ./output_spectra.csv\r",
      "Reading input file...\r"
     ]
    },
    {
     "name": "stderr",
     "output_type": "stream",
     "text": [
      "                                                                                0/1 [00:00<?, ?spec/s]\u001b[0m\r"
     ]
    },
    {
     "name": "stdout",
     "output_type": "stream",
     "text": [
      "Saving file...\r",
      "Done! Output saved to path: gaia/gaia_spec_2928705458613065216.csv\r"
     ]
    },
    {
     "name": "stderr",
     "output_type": "stream",
     "text": [
      "  % Total    % Received % Xferd  Average Speed   Time    Time     Time  Current\n",
      "                                 Dload  Upload   Total   Spent    Left  Speed\n",
      "100 43010    0 43010    0     0  39350      0 --:--:--  0:00:01 --:--:-- 39350\n"
     ]
    },
    {
     "name": "stdout",
     "output_type": "stream",
     "text": [
      "Reading input DataFrame...\r"
     ]
    },
    {
     "name": "stderr",
     "output_type": "stream",
     "text": [
      "                                                                                0/1 [00:00<?, ?spec/s]\u001b[0m\r"
     ]
    },
    {
     "name": "stdout",
     "output_type": "stream",
     "text": [
      "Saving file...\r",
      "Done! Output saved to path: ./output_spectra.csv\r",
      "Reading input file...\r"
     ]
    },
    {
     "name": "stderr",
     "output_type": "stream",
     "text": [
      "                                                                                0/1 [00:00<?, ?spec/s]\u001b[0m\r"
     ]
    },
    {
     "name": "stdout",
     "output_type": "stream",
     "text": [
      "Saving file...\r",
      "Done! Output saved to path: gaia/gaia_spec_2920649439995774720.csv\r"
     ]
    },
    {
     "name": "stderr",
     "output_type": "stream",
     "text": [
      "  % Total    % Received % Xferd  Average Speed   Time    Time     Time  Current\n",
      "                                 Dload  Upload   Total   Spent    Left  Speed\n",
      "100 43087    0 43087    0     0  33297      0 --:--:--  0:00:01 --:--:-- 33374\n"
     ]
    },
    {
     "name": "stdout",
     "output_type": "stream",
     "text": [
      "Reading input DataFrame...\r"
     ]
    },
    {
     "name": "stderr",
     "output_type": "stream",
     "text": [
      "                                                                                0/1 [00:00<?, ?spec/s]\u001b[0m\r"
     ]
    },
    {
     "name": "stdout",
     "output_type": "stream",
     "text": [
      "Saving file...\r",
      "Done! Output saved to path: ./output_spectra.csv\r",
      "Reading input file...\r"
     ]
    },
    {
     "name": "stderr",
     "output_type": "stream",
     "text": [
      "                                                                                0/1 [00:00<?, ?spec/s]\u001b[0m\r"
     ]
    },
    {
     "name": "stdout",
     "output_type": "stream",
     "text": [
      "Saving file...\r",
      "Done! Output saved to path: gaia/gaia_spec_2920419367185907328.csv\r"
     ]
    },
    {
     "name": "stderr",
     "output_type": "stream",
     "text": [
      "  % Total    % Received % Xferd  Average Speed   Time    Time     Time  Current\n",
      "                                 Dload  Upload   Total   Spent    Left  Speed\n",
      "100 43230    0 43230    0     0  41647      0 --:--:--  0:00:01 --:--:-- 41647\n"
     ]
    },
    {
     "name": "stdout",
     "output_type": "stream",
     "text": [
      "Reading input DataFrame...\r"
     ]
    },
    {
     "name": "stderr",
     "output_type": "stream",
     "text": [
      "                                                                                0/1 [00:00<?, ?spec/s]\u001b[0m\r"
     ]
    },
    {
     "name": "stdout",
     "output_type": "stream",
     "text": [
      "Saving file...\r",
      "Done! Output saved to path: ./output_spectra.csv\r",
      "Reading input file...\r"
     ]
    },
    {
     "name": "stderr",
     "output_type": "stream",
     "text": [
      "                                                                                0/1 [00:00<?, ?spec/s]\u001b[0m\r"
     ]
    },
    {
     "name": "stdout",
     "output_type": "stream",
     "text": [
      "Saving file...\r",
      "Done! Output saved to path: gaia/gaia_spec_2928946625316921856.csv\r"
     ]
    },
    {
     "data": {
      "image/png": "[encoded data removed]",
      "text/plain": [
       "<Figure size 432x288 with 1 Axes>"
      ]
     },
     "metadata": {
      "needs_background": "light"
     },
     "output_type": "display_data"
    },
    {
     "data": {
      "image/png": "[encoded data removed]",
      "text/plain": [
       "<Figure size 432x288 with 1 Axes>"
      ]
     },
     "metadata": {
      "needs_background": "light"
     },
     "output_type": "display_data"
    }
   ],
   "source": [
    "import sys\n",
    "from astropy.io import fits\n",
    "\n",
    "#rss,lvm_spec,wave1,gaia_If=retrive_lvm_calib('00006573',defCalib=True, path_lvmcore='/home/hjibarram/LVM/lvmcore',redux_dir='/media/hjibarram/D8TB/LVM/sas/sdsswork/lvm/spectro/redux',mjd='60230',redux_ver='0.1.1.dev0/1111',basename='lvmCFrame-NAME.fits')\n",
    "rss,lvm_spec,wave1,gaia_If=retrive_lvm_calib('00006365',defCalib=True, path_lvmcore='/home/hjibarram/LVM/lvmcore',redux_dir='/media/hjibarram/D8TB/LVM/sas/sdsswork/lvm/spectro/redux',mjd='60226',redux_ver='0.1.1.dev0/1111',basename='lvmCFrame-NAME.fits')\n",
    "\n",
    "#for i in range(0, len(gaiaF_ID)):\n",
    "#    lvm_specF = lvm_spec[i,:]\n",
    "#    plt.plot(wave1,lvm_specF)#/flux_1)#[index,:])\n",
    "#    plt.ylabel('e-/s')\n",
    "\n",
    "hdu_list = fits.open('SensF_v2.fits')\n",
    "table_hdu = hdu_list[1]\n",
    "table_data = table_hdu.data\n",
    "senf=table_data.field('SENSF')\n",
    "wave=table_data.field('WAVE')\n",
    "plt.plot(wave1,lvm_spec)    \n",
    "plt.plot(wave,senf,lw=2,color='black')    \n",
    "    \n",
    "plt.show()\n",
    "\n",
    "#lvm_spec = gaussian_filter1d(lvm_spec, 120)#120)\n",
    "plt.plot(wave1,np.log10(rss[975,:]))#[index,:])\n",
    "plt.ylabel('log10'+'$erg/s/A/cm^2$')\n",
    "plt.show() \n"
   ]
  },
  {
   "cell_type": "code",
   "execution_count": null,
   "id": "fbd0501d",
   "metadata": {},
   "outputs": [],
   "source": []
  }
 ],
 "metadata": {
  "kernelspec": {
   "display_name": "Python 3 (ipykernel)",
   "language": "python",
   "name": "python3"
  },
  "language_info": {
   "codemirror_mode": {
    "name": "ipython",
    "version": 3
   },
   "file_extension": ".py",
   "mimetype": "text/x-python",
   "name": "python",
   "nbconvert_exporter": "python",
   "pygments_lexer": "ipython3",
   "version": "3.8.10"
  }
 },
 "nbformat": 4,
 "nbformat_minor": 5
}
