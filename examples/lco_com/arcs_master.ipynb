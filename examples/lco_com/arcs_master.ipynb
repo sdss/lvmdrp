{
 "cells": [
  {
   "cell_type": "code",
   "execution_count": 1,
   "id": "10dcda34-ea1f-46f8-91c5-306b83a5277c",
   "metadata": {
    "tags": []
   },
   "outputs": [],
   "source": [
    "import os\n",
    "import numpy as np\n",
    "import pandas as pd\n",
    "from copy import deepcopy as copy\n",
    "from astropy.table import Table\n",
    "\n",
    "from lvmdrp import path, __version__ as drpver\n",
    "from lvmdrp.core.constants import ARC_LAMPS\n",
    "from lvmdrp.utils import metadata as md\n",
    "from lvmdrp.functions import run_drp as drp\n",
    "from lvmdrp.functions import run_quickdrp as qdrp\n",
    "\n",
    "from lvmdrp.functions import imageMethod\n",
    "\n",
    "ORIG_MASTER_DIR = os.getenv(\"LVM_MASTER_DIR\")\n",
    "MASTER_CON_LAMPS = {\"b\": \"ldls\", \"r\": \"ldls\", \"z\": \"quartz\"}\n",
    "MASTER_ARC_LAMPS = {\"b\": \"hgne\", \"r\": \"neon\", \"z\": \"neon\"}\n",
    "SLITMAP = Table(drp.fibermap.data)"
   ]
  },
  {
   "cell_type": "code",
   "execution_count": 2,
   "id": "80e1f99b-f9d3-4030-a884-482f3688aac7",
   "metadata": {
    "tags": []
   },
   "outputs": [
    {
     "name": "stderr",
     "output_type": "stream",
     "text": [
      "\u001b[0;34m[INFO]: \u001b[0mloading metadata store at /home/mejia/Research/lvm/lvmdata/data.sdss5.org/sas/sdsswork/lvm/spectro/redux/0.1.1.dev0/1111/60148/raw_metadata.hdf5\n",
      "\u001b[0;34m[INFO]: \u001b[0mfound 1545 frames in store '/home/mejia/Research/lvm/lvmdata/data.sdss5.org/sas/sdsswork/lvm/spectro/redux/0.1.1.dev0/1111/60148/raw_metadata.hdf5'\n",
      "\u001b[0;34m[INFO]: \u001b[0mnumber of frames after filtering 1545\n",
      "\u001b[0;34m[INFO]: \u001b[0mtotal number of frames found 1545\n"
     ]
    }
   ],
   "source": [
    "frames_table = md.get_metadata(tileid=\"*\", mjd=60148)\n",
    "frames_table.query(\"imagetyp == 'bias' | imagetyp == 'dark' | imagetyp == 'flat' | imagetyp == 'arc'\", inplace=True)\n",
    "frames_table = frames_table.loc[frames_table.name.str.contains(\"sdR\")]"
   ]
  },
  {
   "cell_type": "code",
   "execution_count": 3,
   "id": "add1acdd-59a9-470e-b37a-16dca620c703",
   "metadata": {
    "tags": []
   },
   "outputs": [
    {
     "name": "stdout",
     "output_type": "stream",
     "text": [
      "/home/mejia/Research/lvm/lvmdata/calib/60142\n"
     ]
    }
   ],
   "source": [
    "masters_mjd = qdrp.get_master_mjd(frames_table.mjd.min())\n",
    "masters_path = os.path.join(ORIG_MASTER_DIR, str(masters_mjd))\n",
    "print(masters_path)"
   ]
  },
  {
   "cell_type": "code",
   "execution_count": 4,
   "id": "c8d5b44c-55e4-4bfc-9c0d-e50099032aec",
   "metadata": {
    "tags": []
   },
   "outputs": [
    {
     "name": "stderr",
     "output_type": "stream",
     "text": [
      "\u001b[0;34m[INFO]: \u001b[0minput frames: /home/mejia/Research/lvm/lvmdata/data.sdss5.org/sas/sdsswork/lvm/spectro/redux/0.1.1.dev0/1111/60148/ancillary/lvm-darc-b1-00001573.fits,/home/mejia/Research/lvm/lvmdata/data.sdss5.org/sas/sdsswork/lvm/spectro/redux/0.1.1.dev0/1111/60148/ancillary/lvm-darc-b1-00001572.fits,/home/mejia/Research/lvm/lvmdata/data.sdss5.org/sas/sdsswork/lvm/spectro/redux/0.1.1.dev0/1111/60148/ancillary/lvm-darc-b1-00001588.fits,/home/mejia/Research/lvm/lvmdata/data.sdss5.org/sas/sdsswork/lvm/spectro/redux/0.1.1.dev0/1111/60148/ancillary/lvm-darc-b1-00001575.fits,/home/mejia/Research/lvm/lvmdata/data.sdss5.org/sas/sdsswork/lvm/spectro/redux/0.1.1.dev0/1111/60148/ancillary/lvm-darc-b1-00001574.fits,/home/mejia/Research/lvm/lvmdata/data.sdss5.org/sas/sdsswork/lvm/spectro/redux/0.1.1.dev0/1111/60148/ancillary/lvm-darc-b1-00001589.fits\n"
     ]
    },
    {
     "name": "stdout",
     "output_type": "stream",
     "text": [
      "     hemi  tileid    mjd   rmjd imagetyp spec camera  expnum  exptime  neon   hgne  krypton  xenon  argon   ldls  quartz    quality  qual  stage  status  drpqual                    name\n",
      "21      s    1111  60148  60148      arc  sp1     b1    1573     10.0  True  False    False  False  False  False   False  excellent     0      1       0        0  sdR-s-b1-00001573.fits\n",
      "256     s    1111  60148  60148      arc  sp1     b1    1572     10.0  True  False    False  False  False  False   False  excellent     0      1       0        0  sdR-s-b1-00001572.fits\n",
      "1145    s    1111  60148  60148      arc  sp1     b1    1588     10.0  True  False    False  False  False  False   False  excellent     0      1       0        0  sdR-s-b1-00001588.fits\n",
      "1172    s    1111  60148  60148      arc  sp1     b1    1575    150.0  True  False    False  False  False  False   False  excellent     0      1       0        0  sdR-s-b1-00001575.fits\n",
      "1274    s    1111  60148  60148      arc  sp1     b1    1574    150.0  True  False    False  False  False  False   False  excellent     0      1       0        0  sdR-s-b1-00001574.fits\n",
      "1354    s    1111  60148  60148      arc  sp1     b1    1589     10.0  True  False    False  False  False  False   False  excellent     0      1       0        0  sdR-s-b1-00001589.fits\n"
     ]
    },
    {
     "name": "stderr",
     "output_type": "stream",
     "text": [
      "\u001b[0;34m[INFO]: \u001b[0mcombining 6 frames into master frame\n",
      "\u001b[0;34m[INFO]: \u001b[0mwriting master frame to 'lvm-marc_neon-b1.fits'\n",
      "\u001b[0;34m[INFO]: \u001b[0minput frames: /home/mejia/Research/lvm/lvmdata/data.sdss5.org/sas/sdsswork/lvm/spectro/redux/0.1.1.dev0/1111/60148/ancillary/lvm-darc-b2-00001575.fits,/home/mejia/Research/lvm/lvmdata/data.sdss5.org/sas/sdsswork/lvm/spectro/redux/0.1.1.dev0/1111/60148/ancillary/lvm-darc-b2-00001573.fits,/home/mejia/Research/lvm/lvmdata/data.sdss5.org/sas/sdsswork/lvm/spectro/redux/0.1.1.dev0/1111/60148/ancillary/lvm-darc-b2-00001589.fits,/home/mejia/Research/lvm/lvmdata/data.sdss5.org/sas/sdsswork/lvm/spectro/redux/0.1.1.dev0/1111/60148/ancillary/lvm-darc-b2-00001588.fits,/home/mejia/Research/lvm/lvmdata/data.sdss5.org/sas/sdsswork/lvm/spectro/redux/0.1.1.dev0/1111/60148/ancillary/lvm-darc-b2-00001574.fits,/home/mejia/Research/lvm/lvmdata/data.sdss5.org/sas/sdsswork/lvm/spectro/redux/0.1.1.dev0/1111/60148/ancillary/lvm-darc-b2-00001572.fits\n"
     ]
    },
    {
     "name": "stdout",
     "output_type": "stream",
     "text": [
      "     hemi  tileid    mjd   rmjd imagetyp spec camera  expnum  exptime  neon   hgne  krypton  xenon  argon   ldls  quartz    quality  qual  stage  status  drpqual                    name\n",
      "12      s    1111  60148  60148      arc  sp2     b2    1575    150.0  True  False    False  False  False  False   False  excellent     0      1       0        0  sdR-s-b2-00001575.fits\n",
      "248     s    1111  60148  60148      arc  sp2     b2    1573     10.0  True  False    False  False  False  False   False  excellent     0      1       0        0  sdR-s-b2-00001573.fits\n",
      "358     s    1111  60148  60148      arc  sp2     b2    1589     10.0  True  False    False  False  False  False   False  excellent     0      1       0        0  sdR-s-b2-00001589.fits\n",
      "450     s    1111  60148  60148      arc  sp2     b2    1588     10.0  True  False    False  False  False  False   False  excellent     0      1       0        0  sdR-s-b2-00001588.fits\n",
      "1009    s    1111  60148  60148      arc  sp2     b2    1574    150.0  True  False    False  False  False  False   False  excellent     0      1       0        0  sdR-s-b2-00001574.fits\n",
      "1109    s    1111  60148  60148      arc  sp2     b2    1572     10.0  True  False    False  False  False  False   False  excellent     0      1       0        0  sdR-s-b2-00001572.fits\n"
     ]
    },
    {
     "name": "stderr",
     "output_type": "stream",
     "text": [
      "\u001b[0;34m[INFO]: \u001b[0mcombining 6 frames into master frame\n",
      "\u001b[0;34m[INFO]: \u001b[0mwriting master frame to 'lvm-marc_neon-b2.fits'\n",
      "\u001b[0;34m[INFO]: \u001b[0minput frames: /home/mejia/Research/lvm/lvmdata/data.sdss5.org/sas/sdsswork/lvm/spectro/redux/0.1.1.dev0/1111/60148/ancillary/lvm-darc-b3-00001574.fits,/home/mejia/Research/lvm/lvmdata/data.sdss5.org/sas/sdsswork/lvm/spectro/redux/0.1.1.dev0/1111/60148/ancillary/lvm-darc-b3-00001573.fits,/home/mejia/Research/lvm/lvmdata/data.sdss5.org/sas/sdsswork/lvm/spectro/redux/0.1.1.dev0/1111/60148/ancillary/lvm-darc-b3-00001572.fits,/home/mejia/Research/lvm/lvmdata/data.sdss5.org/sas/sdsswork/lvm/spectro/redux/0.1.1.dev0/1111/60148/ancillary/lvm-darc-b3-00001589.fits,/home/mejia/Research/lvm/lvmdata/data.sdss5.org/sas/sdsswork/lvm/spectro/redux/0.1.1.dev0/1111/60148/ancillary/lvm-darc-b3-00001575.fits,/home/mejia/Research/lvm/lvmdata/data.sdss5.org/sas/sdsswork/lvm/spectro/redux/0.1.1.dev0/1111/60148/ancillary/lvm-darc-b3-00001588.fits\n"
     ]
    },
    {
     "name": "stdout",
     "output_type": "stream",
     "text": [
      "     hemi  tileid    mjd   rmjd imagetyp spec camera  expnum  exptime  neon   hgne  krypton  xenon  argon   ldls  quartz    quality  qual  stage  status  drpqual                    name\n",
      "94      s    1111  60148  60148      arc  sp3     b3    1574    150.0  True  False    False  False  False  False   False  excellent     0      1       0        0  sdR-s-b3-00001574.fits\n",
      "105     s    1111  60148  60148      arc  sp3     b3    1573     10.0  True  False    False  False  False  False   False  excellent     0      1       0        0  sdR-s-b3-00001573.fits\n",
      "278     s    1111  60148  60148      arc  sp3     b3    1572     10.0  True  False    False  False  False  False   False  excellent     0      1       0        0  sdR-s-b3-00001572.fits\n",
      "643     s    1111  60148  60148      arc  sp3     b3    1589     10.0  True  False    False  False  False  False   False  excellent     0      1       0        0  sdR-s-b3-00001589.fits\n",
      "1140    s    1111  60148  60148      arc  sp3     b3    1575    150.0  True  False    False  False  False  False   False  excellent     0      1       0        0  sdR-s-b3-00001575.fits\n",
      "1396    s    1111  60148  60148      arc  sp3     b3    1588     10.0  True  False    False  False  False  False   False  excellent     0      1       0        0  sdR-s-b3-00001588.fits\n"
     ]
    },
    {
     "name": "stderr",
     "output_type": "stream",
     "text": [
      "\u001b[0;34m[INFO]: \u001b[0mcombining 6 frames into master frame\n",
      "\u001b[0;34m[INFO]: \u001b[0mwriting master frame to 'lvm-marc_neon-b3.fits'\n",
      "\u001b[0;34m[INFO]: \u001b[0minput frames: /home/mejia/Research/lvm/lvmdata/data.sdss5.org/sas/sdsswork/lvm/spectro/redux/0.1.1.dev0/1111/60148/ancillary/lvm-darc-r1-00001573.fits,/home/mejia/Research/lvm/lvmdata/data.sdss5.org/sas/sdsswork/lvm/spectro/redux/0.1.1.dev0/1111/60148/ancillary/lvm-darc-r1-00001588.fits,/home/mejia/Research/lvm/lvmdata/data.sdss5.org/sas/sdsswork/lvm/spectro/redux/0.1.1.dev0/1111/60148/ancillary/lvm-darc-r1-00001574.fits,/home/mejia/Research/lvm/lvmdata/data.sdss5.org/sas/sdsswork/lvm/spectro/redux/0.1.1.dev0/1111/60148/ancillary/lvm-darc-r1-00001589.fits,/home/mejia/Research/lvm/lvmdata/data.sdss5.org/sas/sdsswork/lvm/spectro/redux/0.1.1.dev0/1111/60148/ancillary/lvm-darc-r1-00001572.fits,/home/mejia/Research/lvm/lvmdata/data.sdss5.org/sas/sdsswork/lvm/spectro/redux/0.1.1.dev0/1111/60148/ancillary/lvm-darc-r1-00001575.fits\n"
     ]
    },
    {
     "name": "stdout",
     "output_type": "stream",
     "text": [
      "     hemi  tileid    mjd   rmjd imagetyp spec camera  expnum  exptime  neon   hgne  krypton  xenon  argon   ldls  quartz    quality  qual  stage  status  drpqual                    name\n",
      "636     s    1111  60148  60148      arc  sp1     r1    1573     10.0  True  False    False  False  False  False   False  excellent     0      1       0        0  sdR-s-r1-00001573.fits\n",
      "1038    s    1111  60148  60148      arc  sp1     r1    1588     10.0  True  False    False  False  False  False   False  excellent     0      1       0        0  sdR-s-r1-00001588.fits\n",
      "1142    s    1111  60148  60148      arc  sp1     r1    1574    150.0  True  False    False  False  False  False   False  excellent     0      1       0        0  sdR-s-r1-00001574.fits\n",
      "1275    s    1111  60148  60148      arc  sp1     r1    1589     10.0  True  False    False  False  False  False   False  excellent     0      1       0        0  sdR-s-r1-00001589.fits\n",
      "1395    s    1111  60148  60148      arc  sp1     r1    1572     10.0  True  False    False  False  False  False   False  excellent     0      1       0        0  sdR-s-r1-00001572.fits\n",
      "1399    s    1111  60148  60148      arc  sp1     r1    1575    150.0  True  False    False  False  False  False   False  excellent     0      1       0        0  sdR-s-r1-00001575.fits\n"
     ]
    },
    {
     "name": "stderr",
     "output_type": "stream",
     "text": [
      "\u001b[0;34m[INFO]: \u001b[0mcombining 6 frames into master frame\n",
      "\u001b[0;34m[INFO]: \u001b[0mwriting master frame to 'lvm-marc_neon-r1.fits'\n",
      "\u001b[0;34m[INFO]: \u001b[0minput frames: /home/mejia/Research/lvm/lvmdata/data.sdss5.org/sas/sdsswork/lvm/spectro/redux/0.1.1.dev0/1111/60148/ancillary/lvm-darc-r2-00001572.fits,/home/mejia/Research/lvm/lvmdata/data.sdss5.org/sas/sdsswork/lvm/spectro/redux/0.1.1.dev0/1111/60148/ancillary/lvm-darc-r2-00001575.fits,/home/mejia/Research/lvm/lvmdata/data.sdss5.org/sas/sdsswork/lvm/spectro/redux/0.1.1.dev0/1111/60148/ancillary/lvm-darc-r2-00001574.fits,/home/mejia/Research/lvm/lvmdata/data.sdss5.org/sas/sdsswork/lvm/spectro/redux/0.1.1.dev0/1111/60148/ancillary/lvm-darc-r2-00001588.fits,/home/mejia/Research/lvm/lvmdata/data.sdss5.org/sas/sdsswork/lvm/spectro/redux/0.1.1.dev0/1111/60148/ancillary/lvm-darc-r2-00001573.fits,/home/mejia/Research/lvm/lvmdata/data.sdss5.org/sas/sdsswork/lvm/spectro/redux/0.1.1.dev0/1111/60148/ancillary/lvm-darc-r2-00001589.fits\n"
     ]
    },
    {
     "name": "stdout",
     "output_type": "stream",
     "text": [
      "     hemi  tileid    mjd   rmjd imagetyp spec camera  expnum  exptime  neon   hgne  krypton  xenon  argon   ldls  quartz    quality  qual  stage  status  drpqual                    name\n",
      "365     s    1111  60148  60148      arc  sp2     r2    1572     10.0  True  False    False  False  False  False   False  excellent     0      1       0        0  sdR-s-r2-00001572.fits\n",
      "403     s    1111  60148  60148      arc  sp2     r2    1575    150.0  True  False    False  False  False  False   False  excellent     0      1       0        0  sdR-s-r2-00001575.fits\n",
      "651     s    1111  60148  60148      arc  sp2     r2    1574    150.0  True  False    False  False  False  False   False  excellent     0      1       0        0  sdR-s-r2-00001574.fits\n",
      "898     s    1111  60148  60148      arc  sp2     r2    1588     10.0  True  False    False  False  False  False   False  excellent     0      1       0        0  sdR-s-r2-00001588.fits\n",
      "1039    s    1111  60148  60148      arc  sp2     r2    1573     10.0  True  False    False  False  False  False   False  excellent     0      1       0        0  sdR-s-r2-00001573.fits\n",
      "1129    s    1111  60148  60148      arc  sp2     r2    1589     10.0  True  False    False  False  False  False   False  excellent     0      1       0        0  sdR-s-r2-00001589.fits\n"
     ]
    },
    {
     "name": "stderr",
     "output_type": "stream",
     "text": [
      "\u001b[0;34m[INFO]: \u001b[0mcombining 6 frames into master frame\n",
      "\u001b[0;34m[INFO]: \u001b[0mwriting master frame to 'lvm-marc_neon-r2.fits'\n",
      "\u001b[0;34m[INFO]: \u001b[0minput frames: /home/mejia/Research/lvm/lvmdata/data.sdss5.org/sas/sdsswork/lvm/spectro/redux/0.1.1.dev0/1111/60148/ancillary/lvm-darc-r3-00001575.fits,/home/mejia/Research/lvm/lvmdata/data.sdss5.org/sas/sdsswork/lvm/spectro/redux/0.1.1.dev0/1111/60148/ancillary/lvm-darc-r3-00001589.fits,/home/mejia/Research/lvm/lvmdata/data.sdss5.org/sas/sdsswork/lvm/spectro/redux/0.1.1.dev0/1111/60148/ancillary/lvm-darc-r3-00001574.fits,/home/mejia/Research/lvm/lvmdata/data.sdss5.org/sas/sdsswork/lvm/spectro/redux/0.1.1.dev0/1111/60148/ancillary/lvm-darc-r3-00001573.fits,/home/mejia/Research/lvm/lvmdata/data.sdss5.org/sas/sdsswork/lvm/spectro/redux/0.1.1.dev0/1111/60148/ancillary/lvm-darc-r3-00001588.fits,/home/mejia/Research/lvm/lvmdata/data.sdss5.org/sas/sdsswork/lvm/spectro/redux/0.1.1.dev0/1111/60148/ancillary/lvm-darc-r3-00001572.fits\n"
     ]
    },
    {
     "name": "stdout",
     "output_type": "stream",
     "text": [
      "     hemi  tileid    mjd   rmjd imagetyp spec camera  expnum  exptime  neon   hgne  krypton  xenon  argon   ldls  quartz    quality  qual  stage  status  drpqual                    name\n",
      "45      s    1111  60148  60148      arc  sp3     r3    1575    150.0  True  False    False  False  False  False   False  excellent     0      1       0        0  sdR-s-r3-00001575.fits\n",
      "677     s    1111  60148  60148      arc  sp3     r3    1589     10.0  True  False    False  False  False  False   False  excellent     0      1       0        0  sdR-s-r3-00001589.fits\n",
      "747     s    1111  60148  60148      arc  sp3     r3    1574    150.0  True  False    False  False  False  False   False  excellent     0      1       0        0  sdR-s-r3-00001574.fits\n",
      "922     s    1111  60148  60148      arc  sp3     r3    1573     10.0  True  False    False  False  False  False   False  excellent     0      1       0        0  sdR-s-r3-00001573.fits\n",
      "941     s    1111  60148  60148      arc  sp3     r3    1588     10.0  True  False    False  False  False  False   False  excellent     0      1       0        0  sdR-s-r3-00001588.fits\n",
      "1388    s    1111  60148  60148      arc  sp3     r3    1572     10.0  True  False    False  False  False  False   False  excellent     0      1       0        0  sdR-s-r3-00001572.fits\n"
     ]
    },
    {
     "name": "stderr",
     "output_type": "stream",
     "text": [
      "\u001b[0;34m[INFO]: \u001b[0mcombining 6 frames into master frame\n",
      "\u001b[0;34m[INFO]: \u001b[0mwriting master frame to 'lvm-marc_neon-r3.fits'\n",
      "\u001b[0;34m[INFO]: \u001b[0minput frames: /home/mejia/Research/lvm/lvmdata/data.sdss5.org/sas/sdsswork/lvm/spectro/redux/0.1.1.dev0/1111/60148/ancillary/lvm-darc-z1-00001588.fits,/home/mejia/Research/lvm/lvmdata/data.sdss5.org/sas/sdsswork/lvm/spectro/redux/0.1.1.dev0/1111/60148/ancillary/lvm-darc-z1-00001574.fits,/home/mejia/Research/lvm/lvmdata/data.sdss5.org/sas/sdsswork/lvm/spectro/redux/0.1.1.dev0/1111/60148/ancillary/lvm-darc-z1-00001589.fits,/home/mejia/Research/lvm/lvmdata/data.sdss5.org/sas/sdsswork/lvm/spectro/redux/0.1.1.dev0/1111/60148/ancillary/lvm-darc-z1-00001572.fits,/home/mejia/Research/lvm/lvmdata/data.sdss5.org/sas/sdsswork/lvm/spectro/redux/0.1.1.dev0/1111/60148/ancillary/lvm-darc-z1-00001573.fits,/home/mejia/Research/lvm/lvmdata/data.sdss5.org/sas/sdsswork/lvm/spectro/redux/0.1.1.dev0/1111/60148/ancillary/lvm-darc-z1-00001575.fits\n"
     ]
    },
    {
     "name": "stdout",
     "output_type": "stream",
     "text": [
      "     hemi  tileid    mjd   rmjd imagetyp spec camera  expnum  exptime  neon   hgne  krypton  xenon  argon   ldls  quartz    quality  qual  stage  status  drpqual                    name\n",
      "15      s    1111  60148  60148      arc  sp1     z1    1588     10.0  True  False    False  False  False  False   False  excellent     0      1       0        0  sdR-s-z1-00001588.fits\n",
      "302     s    1111  60148  60148      arc  sp1     z1    1574    150.0  True  False    False  False  False  False   False  excellent     0      1       0        0  sdR-s-z1-00001574.fits\n",
      "566     s    1111  60148  60148      arc  sp1     z1    1589     10.0  True  False    False  False  False  False   False  excellent     0      1       0        0  sdR-s-z1-00001589.fits\n",
      "856     s    1111  60148  60148      arc  sp1     z1    1572     10.0  True  False    False  False  False  False   False  excellent     0      1       0        0  sdR-s-z1-00001572.fits\n",
      "1040    s    1111  60148  60148      arc  sp1     z1    1573     10.0  True  False    False  False  False  False   False  excellent     0      1       0        0  sdR-s-z1-00001573.fits\n",
      "1130    s    1111  60148  60148      arc  sp1     z1    1575    150.0  True  False    False  False  False  False   False  excellent     0      1       0        0  sdR-s-z1-00001575.fits\n"
     ]
    },
    {
     "name": "stderr",
     "output_type": "stream",
     "text": [
      "\u001b[0;34m[INFO]: \u001b[0mcombining 6 frames into master frame\n",
      "\u001b[0;34m[INFO]: \u001b[0mwriting master frame to 'lvm-marc_neon-z1.fits'\n",
      "\u001b[0;34m[INFO]: \u001b[0minput frames: /home/mejia/Research/lvm/lvmdata/data.sdss5.org/sas/sdsswork/lvm/spectro/redux/0.1.1.dev0/1111/60148/ancillary/lvm-darc-z2-00001574.fits,/home/mejia/Research/lvm/lvmdata/data.sdss5.org/sas/sdsswork/lvm/spectro/redux/0.1.1.dev0/1111/60148/ancillary/lvm-darc-z2-00001573.fits,/home/mejia/Research/lvm/lvmdata/data.sdss5.org/sas/sdsswork/lvm/spectro/redux/0.1.1.dev0/1111/60148/ancillary/lvm-darc-z2-00001589.fits,/home/mejia/Research/lvm/lvmdata/data.sdss5.org/sas/sdsswork/lvm/spectro/redux/0.1.1.dev0/1111/60148/ancillary/lvm-darc-z2-00001588.fits,/home/mejia/Research/lvm/lvmdata/data.sdss5.org/sas/sdsswork/lvm/spectro/redux/0.1.1.dev0/1111/60148/ancillary/lvm-darc-z2-00001572.fits,/home/mejia/Research/lvm/lvmdata/data.sdss5.org/sas/sdsswork/lvm/spectro/redux/0.1.1.dev0/1111/60148/ancillary/lvm-darc-z2-00001575.fits\n"
     ]
    },
    {
     "name": "stdout",
     "output_type": "stream",
     "text": [
      "     hemi  tileid    mjd   rmjd imagetyp spec camera  expnum  exptime  neon   hgne  krypton  xenon  argon   ldls  quartz    quality  qual  stage  status  drpqual                    name\n",
      "143     s    1111  60148  60148      arc  sp2     z2    1574    150.0  True  False    False  False  False  False   False  excellent     0      1       0        0  sdR-s-z2-00001574.fits\n",
      "360     s    1111  60148  60148      arc  sp2     z2    1573     10.0  True  False    False  False  False  False   False  excellent     0      1       0        0  sdR-s-z2-00001573.fits\n",
      "723     s    1111  60148  60148      arc  sp2     z2    1589     10.0  True  False    False  False  False  False   False  excellent     0      1       0        0  sdR-s-z2-00001589.fits\n",
      "931     s    1111  60148  60148      arc  sp2     z2    1588     10.0  True  False    False  False  False  False   False  excellent     0      1       0        0  sdR-s-z2-00001588.fits\n",
      "1143    s    1111  60148  60148      arc  sp2     z2    1572     10.0  True  False    False  False  False  False   False  excellent     0      1       0        0  sdR-s-z2-00001572.fits\n",
      "1414    s    1111  60148  60148      arc  sp2     z2    1575    150.0  True  False    False  False  False  False   False  excellent     0      1       0        0  sdR-s-z2-00001575.fits\n"
     ]
    },
    {
     "name": "stderr",
     "output_type": "stream",
     "text": [
      "\u001b[0;34m[INFO]: \u001b[0mcombining 6 frames into master frame\n",
      "\u001b[0;34m[INFO]: \u001b[0mwriting master frame to 'lvm-marc_neon-z2.fits'\n",
      "\u001b[0;34m[INFO]: \u001b[0minput frames: /home/mejia/Research/lvm/lvmdata/data.sdss5.org/sas/sdsswork/lvm/spectro/redux/0.1.1.dev0/1111/60148/ancillary/lvm-darc-z3-00001575.fits,/home/mejia/Research/lvm/lvmdata/data.sdss5.org/sas/sdsswork/lvm/spectro/redux/0.1.1.dev0/1111/60148/ancillary/lvm-darc-z3-00001574.fits,/home/mejia/Research/lvm/lvmdata/data.sdss5.org/sas/sdsswork/lvm/spectro/redux/0.1.1.dev0/1111/60148/ancillary/lvm-darc-z3-00001588.fits,/home/mejia/Research/lvm/lvmdata/data.sdss5.org/sas/sdsswork/lvm/spectro/redux/0.1.1.dev0/1111/60148/ancillary/lvm-darc-z3-00001572.fits,/home/mejia/Research/lvm/lvmdata/data.sdss5.org/sas/sdsswork/lvm/spectro/redux/0.1.1.dev0/1111/60148/ancillary/lvm-darc-z3-00001589.fits,/home/mejia/Research/lvm/lvmdata/data.sdss5.org/sas/sdsswork/lvm/spectro/redux/0.1.1.dev0/1111/60148/ancillary/lvm-darc-z3-00001573.fits\n"
     ]
    },
    {
     "name": "stdout",
     "output_type": "stream",
     "text": [
      "     hemi  tileid    mjd   rmjd imagetyp spec camera  expnum  exptime  neon   hgne  krypton  xenon  argon   ldls  quartz    quality  qual  stage  status  drpqual                    name\n",
      "241     s    1111  60148  60148      arc  sp3     z3    1575    150.0  True  False    False  False  False  False   False  excellent     0      1       0        0  sdR-s-z3-00001575.fits\n",
      "297     s    1111  60148  60148      arc  sp3     z3    1574    150.0  True  False    False  False  False  False   False  excellent     0      1       0        0  sdR-s-z3-00001574.fits\n",
      "405     s    1111  60148  60148      arc  sp3     z3    1588     10.0  True  False    False  False  False  False   False  excellent     0      1       0        0  sdR-s-z3-00001588.fits\n",
      "901     s    1111  60148  60148      arc  sp3     z3    1572     10.0  True  False    False  False  False  False   False  excellent     0      1       0        0  sdR-s-z3-00001572.fits\n",
      "1134    s    1111  60148  60148      arc  sp3     z3    1589     10.0  True  False    False  False  False  False   False  excellent     0      1       0        0  sdR-s-z3-00001589.fits\n",
      "1173    s    1111  60148  60148      arc  sp3     z3    1573     10.0  True  False    False  False  False  False   False  excellent     0      1       0        0  sdR-s-z3-00001573.fits\n"
     ]
    },
    {
     "name": "stderr",
     "output_type": "stream",
     "text": [
      "\u001b[0;34m[INFO]: \u001b[0mcombining 6 frames into master frame\n",
      "\u001b[0;34m[INFO]: \u001b[0mwriting master frame to 'lvm-marc_neon-z3.fits'\n",
      "\u001b[0;34m[INFO]: \u001b[0minput frames: /home/mejia/Research/lvm/lvmdata/data.sdss5.org/sas/sdsswork/lvm/spectro/redux/0.1.1.dev0/1111/60148/ancillary/lvm-darc-b1-00001576.fits,/home/mejia/Research/lvm/lvmdata/data.sdss5.org/sas/sdsswork/lvm/spectro/redux/0.1.1.dev0/1111/60148/ancillary/lvm-darc-b1-00001590.fits,/home/mejia/Research/lvm/lvmdata/data.sdss5.org/sas/sdsswork/lvm/spectro/redux/0.1.1.dev0/1111/60148/ancillary/lvm-darc-b1-00001577.fits,/home/mejia/Research/lvm/lvmdata/data.sdss5.org/sas/sdsswork/lvm/spectro/redux/0.1.1.dev0/1111/60148/ancillary/lvm-darc-b1-00001592.fits,/home/mejia/Research/lvm/lvmdata/data.sdss5.org/sas/sdsswork/lvm/spectro/redux/0.1.1.dev0/1111/60148/ancillary/lvm-darc-b1-00001593.fits,/home/mejia/Research/lvm/lvmdata/data.sdss5.org/sas/sdsswork/lvm/spectro/redux/0.1.1.dev0/1111/60148/ancillary/lvm-darc-b1-00001578.fits,/home/mejia/Research/lvm/lvmdata/data.sdss5.org/sas/sdsswork/lvm/spectro/redux/0.1.1.dev0/1111/60148/ancillary/lvm-darc-b1-00001579.fits,/home/mejia/Research/lvm/lvmdata/data.sdss5.org/sas/sdsswork/lvm/spectro/redux/0.1.1.dev0/1111/60148/ancillary/lvm-darc-b1-00001591.fits\n"
     ]
    },
    {
     "name": "stdout",
     "output_type": "stream",
     "text": [
      "     hemi  tileid    mjd   rmjd imagetyp spec camera  expnum  exptime   neon  hgne  krypton  xenon  argon   ldls  quartz    quality  qual  stage  status  drpqual                    name\n",
      "628     s    1111  60148  60148      arc  sp1     b1    1576     10.0  False  True    False  False  False  False   False  excellent     0      1       0        0  sdR-s-b1-00001576.fits\n",
      "649     s    1111  60148  60148      arc  sp1     b1    1590     10.0  False  True    False  False  False  False   False  excellent     0      1       0        0  sdR-s-b1-00001590.fits\n",
      "668     s    1111  60148  60148      arc  sp1     b1    1577     10.0  False  True    False  False  False  False   False  excellent     0      1       0        0  sdR-s-b1-00001577.fits\n",
      "1074    s    1111  60148  60148      arc  sp1     b1    1592     10.0  False  True    False  False  False  False   False  excellent     0      1       0        0  sdR-s-b1-00001592.fits\n",
      "1188    s    1111  60148  60148      arc  sp1     b1    1593     30.0  False  True    False  False  False  False   False  excellent     0      1       0        0  sdR-s-b1-00001593.fits\n",
      "1258    s    1111  60148  60148      arc  sp1     b1    1578    150.0  False  True    False  False  False  False   False  excellent     0      1       0        0  sdR-s-b1-00001578.fits\n",
      "1278    s    1111  60148  60148      arc  sp1     b1    1579    150.0  False  True    False  False  False  False   False  excellent     0      1       0        0  sdR-s-b1-00001579.fits\n",
      "1368    s    1111  60148  60148      arc  sp1     b1    1591     30.0  False  True    False  False  False  False   False  excellent     0      1       0        0  sdR-s-b1-00001591.fits\n"
     ]
    },
    {
     "name": "stderr",
     "output_type": "stream",
     "text": [
      "\u001b[0;34m[INFO]: \u001b[0mcombining 8 frames into master frame\n",
      "\u001b[0;34m[INFO]: \u001b[0mwriting master frame to 'lvm-marc_hgne-b1.fits'\n",
      "\u001b[0;34m[INFO]: \u001b[0minput frames: /home/mejia/Research/lvm/lvmdata/data.sdss5.org/sas/sdsswork/lvm/spectro/redux/0.1.1.dev0/1111/60148/ancillary/lvm-darc-b2-00001592.fits,/home/mejia/Research/lvm/lvmdata/data.sdss5.org/sas/sdsswork/lvm/spectro/redux/0.1.1.dev0/1111/60148/ancillary/lvm-darc-b2-00001591.fits,/home/mejia/Research/lvm/lvmdata/data.sdss5.org/sas/sdsswork/lvm/spectro/redux/0.1.1.dev0/1111/60148/ancillary/lvm-darc-b2-00001579.fits,/home/mejia/Research/lvm/lvmdata/data.sdss5.org/sas/sdsswork/lvm/spectro/redux/0.1.1.dev0/1111/60148/ancillary/lvm-darc-b2-00001576.fits,/home/mejia/Research/lvm/lvmdata/data.sdss5.org/sas/sdsswork/lvm/spectro/redux/0.1.1.dev0/1111/60148/ancillary/lvm-darc-b2-00001577.fits,/home/mejia/Research/lvm/lvmdata/data.sdss5.org/sas/sdsswork/lvm/spectro/redux/0.1.1.dev0/1111/60148/ancillary/lvm-darc-b2-00001593.fits,/home/mejia/Research/lvm/lvmdata/data.sdss5.org/sas/sdsswork/lvm/spectro/redux/0.1.1.dev0/1111/60148/ancillary/lvm-darc-b2-00001578.fits,/home/mejia/Research/lvm/lvmdata/data.sdss5.org/sas/sdsswork/lvm/spectro/redux/0.1.1.dev0/1111/60148/ancillary/lvm-darc-b2-00001590.fits\n"
     ]
    },
    {
     "name": "stdout",
     "output_type": "stream",
     "text": [
      "     hemi  tileid    mjd   rmjd imagetyp spec camera  expnum  exptime   neon  hgne  krypton  xenon  argon   ldls  quartz    quality  qual  stage  status  drpqual                    name\n",
      "147     s    1111  60148  60148      arc  sp2     b2    1592     10.0  False  True    False  False  False  False   False  excellent     0      1       0        0  sdR-s-b2-00001592.fits\n",
      "265     s    1111  60148  60148      arc  sp2     b2    1591     30.0  False  True    False  False  False  False   False  excellent     0      1       0        0  sdR-s-b2-00001591.fits\n",
      "276     s    1111  60148  60148      arc  sp2     b2    1579    150.0  False  True    False  False  False  False   False  excellent     0      1       0        0  sdR-s-b2-00001579.fits\n",
      "368     s    1111  60148  60148      arc  sp2     b2    1576     10.0  False  True    False  False  False  False   False  excellent     0      1       0        0  sdR-s-b2-00001576.fits\n",
      "470     s    1111  60148  60148      arc  sp2     b2    1577     10.0  False  True    False  False  False  False   False  excellent     0      1       0        0  sdR-s-b2-00001577.fits\n",
      "876     s    1111  60148  60148      arc  sp2     b2    1593     30.0  False  True    False  False  False  False   False  excellent     0      1       0        0  sdR-s-b2-00001593.fits\n",
      "1147    s    1111  60148  60148      arc  sp2     b2    1578    150.0  False  True    False  False  False  False   False  excellent     0      1       0        0  sdR-s-b2-00001578.fits\n",
      "1297    s    1111  60148  60148      arc  sp2     b2    1590     10.0  False  True    False  False  False  False   False  excellent     0      1       0        0  sdR-s-b2-00001590.fits\n"
     ]
    },
    {
     "name": "stderr",
     "output_type": "stream",
     "text": [
      "\u001b[0;34m[INFO]: \u001b[0mcombining 8 frames into master frame\n",
      "\u001b[0;34m[INFO]: \u001b[0mwriting master frame to 'lvm-marc_hgne-b2.fits'\n",
      "\u001b[0;34m[INFO]: \u001b[0minput frames: /home/mejia/Research/lvm/lvmdata/data.sdss5.org/sas/sdsswork/lvm/spectro/redux/0.1.1.dev0/1111/60148/ancillary/lvm-darc-b3-00001592.fits,/home/mejia/Research/lvm/lvmdata/data.sdss5.org/sas/sdsswork/lvm/spectro/redux/0.1.1.dev0/1111/60148/ancillary/lvm-darc-b3-00001590.fits,/home/mejia/Research/lvm/lvmdata/data.sdss5.org/sas/sdsswork/lvm/spectro/redux/0.1.1.dev0/1111/60148/ancillary/lvm-darc-b3-00001579.fits,/home/mejia/Research/lvm/lvmdata/data.sdss5.org/sas/sdsswork/lvm/spectro/redux/0.1.1.dev0/1111/60148/ancillary/lvm-darc-b3-00001577.fits,/home/mejia/Research/lvm/lvmdata/data.sdss5.org/sas/sdsswork/lvm/spectro/redux/0.1.1.dev0/1111/60148/ancillary/lvm-darc-b3-00001593.fits,/home/mejia/Research/lvm/lvmdata/data.sdss5.org/sas/sdsswork/lvm/spectro/redux/0.1.1.dev0/1111/60148/ancillary/lvm-darc-b3-00001591.fits,/home/mejia/Research/lvm/lvmdata/data.sdss5.org/sas/sdsswork/lvm/spectro/redux/0.1.1.dev0/1111/60148/ancillary/lvm-darc-b3-00001578.fits,/home/mejia/Research/lvm/lvmdata/data.sdss5.org/sas/sdsswork/lvm/spectro/redux/0.1.1.dev0/1111/60148/ancillary/lvm-darc-b3-00001576.fits\n"
     ]
    },
    {
     "name": "stdout",
     "output_type": "stream",
     "text": [
      "     hemi  tileid    mjd   rmjd imagetyp spec camera  expnum  exptime   neon  hgne  krypton  xenon  argon   ldls  quartz    quality  qual  stage  status  drpqual                    name\n",
      "215     s    1111  60148  60148      arc  sp3     b3    1592     10.0  False  True    False  False  False  False   False  excellent     0      1       0        0  sdR-s-b3-00001592.fits\n",
      "453     s    1111  60148  60148      arc  sp3     b3    1590     10.0  False  True    False  False  False  False   False  excellent     0      1       0        0  sdR-s-b3-00001590.fits\n",
      "571     s    1111  60148  60148      arc  sp3     b3    1579    150.0  False  True    False  False  False  False   False  excellent     0      1       0        0  sdR-s-b3-00001579.fits\n",
      "656     s    1111  60148  60148      arc  sp3     b3    1577     10.0  False  True    False  False  False  False   False  excellent     0      1       0        0  sdR-s-b3-00001577.fits\n",
      "809     s    1111  60148  60148      arc  sp3     b3    1593     30.0  False  True    False  False  False  False   False  excellent     0      1       0        0  sdR-s-b3-00001593.fits\n",
      "1002    s    1111  60148  60148      arc  sp3     b3    1591     30.0  False  True    False  False  False  False   False  excellent     0      1       0        0  sdR-s-b3-00001591.fits\n",
      "1087    s    1111  60148  60148      arc  sp3     b3    1578    150.0  False  True    False  False  False  False   False  excellent     0      1       0        0  sdR-s-b3-00001578.fits\n",
      "1261    s    1111  60148  60148      arc  sp3     b3    1576     10.0  False  True    False  False  False  False   False  excellent     0      1       0        0  sdR-s-b3-00001576.fits\n"
     ]
    },
    {
     "name": "stderr",
     "output_type": "stream",
     "text": [
      "\u001b[0;34m[INFO]: \u001b[0mcombining 8 frames into master frame\n",
      "\u001b[0;34m[INFO]: \u001b[0mwriting master frame to 'lvm-marc_hgne-b3.fits'\n",
      "\u001b[0;34m[INFO]: \u001b[0minput frames: /home/mejia/Research/lvm/lvmdata/data.sdss5.org/sas/sdsswork/lvm/spectro/redux/0.1.1.dev0/1111/60148/ancillary/lvm-darc-r1-00001579.fits,/home/mejia/Research/lvm/lvmdata/data.sdss5.org/sas/sdsswork/lvm/spectro/redux/0.1.1.dev0/1111/60148/ancillary/lvm-darc-r1-00001591.fits,/home/mejia/Research/lvm/lvmdata/data.sdss5.org/sas/sdsswork/lvm/spectro/redux/0.1.1.dev0/1111/60148/ancillary/lvm-darc-r1-00001593.fits,/home/mejia/Research/lvm/lvmdata/data.sdss5.org/sas/sdsswork/lvm/spectro/redux/0.1.1.dev0/1111/60148/ancillary/lvm-darc-r1-00001578.fits,/home/mejia/Research/lvm/lvmdata/data.sdss5.org/sas/sdsswork/lvm/spectro/redux/0.1.1.dev0/1111/60148/ancillary/lvm-darc-r1-00001592.fits,/home/mejia/Research/lvm/lvmdata/data.sdss5.org/sas/sdsswork/lvm/spectro/redux/0.1.1.dev0/1111/60148/ancillary/lvm-darc-r1-00001577.fits,/home/mejia/Research/lvm/lvmdata/data.sdss5.org/sas/sdsswork/lvm/spectro/redux/0.1.1.dev0/1111/60148/ancillary/lvm-darc-r1-00001590.fits,/home/mejia/Research/lvm/lvmdata/data.sdss5.org/sas/sdsswork/lvm/spectro/redux/0.1.1.dev0/1111/60148/ancillary/lvm-darc-r1-00001576.fits\n"
     ]
    },
    {
     "name": "stdout",
     "output_type": "stream",
     "text": [
      "     hemi  tileid    mjd   rmjd imagetyp spec camera  expnum  exptime   neon  hgne  krypton  xenon  argon   ldls  quartz    quality  qual  stage  status  drpqual                    name\n",
      "642     s    1111  60148  60148      arc  sp1     r1    1579    150.0  False  True    False  False  False  False   False  excellent     0      1       0        0  sdR-s-r1-00001579.fits\n",
      "720     s    1111  60148  60148      arc  sp1     r1    1591     30.0  False  True    False  False  False  False   False  excellent     0      1       0        0  sdR-s-r1-00001591.fits\n",
      "729     s    1111  60148  60148      arc  sp1     r1    1593     30.0  False  True    False  False  False  False   False  excellent     0      1       0        0  sdR-s-r1-00001593.fits\n",
      "763     s    1111  60148  60148      arc  sp1     r1    1578    150.0  False  True    False  False  False  False   False  excellent     0      1       0        0  sdR-s-r1-00001578.fits\n",
      "910     s    1111  60148  60148      arc  sp1     r1    1592     10.0  False  True    False  False  False  False   False  excellent     0      1       0        0  sdR-s-r1-00001592.fits\n",
      "975     s    1111  60148  60148      arc  sp1     r1    1577     10.0  False  True    False  False  False  False   False  excellent     0      1       0        0  sdR-s-r1-00001577.fits\n",
      "1107    s    1111  60148  60148      arc  sp1     r1    1590     10.0  False  True    False  False  False  False   False  excellent     0      1       0        0  sdR-s-r1-00001590.fits\n",
      "1411    s    1111  60148  60148      arc  sp1     r1    1576     10.0  False  True    False  False  False  False   False  excellent     0      1       0        0  sdR-s-r1-00001576.fits\n"
     ]
    },
    {
     "name": "stderr",
     "output_type": "stream",
     "text": [
      "\u001b[0;34m[INFO]: \u001b[0mcombining 8 frames into master frame\n",
      "\u001b[0;34m[INFO]: \u001b[0mwriting master frame to 'lvm-marc_hgne-r1.fits'\n",
      "\u001b[0;34m[INFO]: \u001b[0minput frames: /home/mejia/Research/lvm/lvmdata/data.sdss5.org/sas/sdsswork/lvm/spectro/redux/0.1.1.dev0/1111/60148/ancillary/lvm-darc-r2-00001590.fits,/home/mejia/Research/lvm/lvmdata/data.sdss5.org/sas/sdsswork/lvm/spectro/redux/0.1.1.dev0/1111/60148/ancillary/lvm-darc-r2-00001576.fits,/home/mejia/Research/lvm/lvmdata/data.sdss5.org/sas/sdsswork/lvm/spectro/redux/0.1.1.dev0/1111/60148/ancillary/lvm-darc-r2-00001593.fits,/home/mejia/Research/lvm/lvmdata/data.sdss5.org/sas/sdsswork/lvm/spectro/redux/0.1.1.dev0/1111/60148/ancillary/lvm-darc-r2-00001592.fits,/home/mejia/Research/lvm/lvmdata/data.sdss5.org/sas/sdsswork/lvm/spectro/redux/0.1.1.dev0/1111/60148/ancillary/lvm-darc-r2-00001591.fits,/home/mejia/Research/lvm/lvmdata/data.sdss5.org/sas/sdsswork/lvm/spectro/redux/0.1.1.dev0/1111/60148/ancillary/lvm-darc-r2-00001579.fits,/home/mejia/Research/lvm/lvmdata/data.sdss5.org/sas/sdsswork/lvm/spectro/redux/0.1.1.dev0/1111/60148/ancillary/lvm-darc-r2-00001578.fits,/home/mejia/Research/lvm/lvmdata/data.sdss5.org/sas/sdsswork/lvm/spectro/redux/0.1.1.dev0/1111/60148/ancillary/lvm-darc-r2-00001577.fits\n"
     ]
    },
    {
     "name": "stdout",
     "output_type": "stream",
     "text": [
      "     hemi  tileid    mjd   rmjd imagetyp spec camera  expnum  exptime   neon  hgne  krypton  xenon  argon   ldls  quartz    quality  qual  stage  status  drpqual                    name\n",
      "64      s    1111  60148  60148      arc  sp2     r2    1590     10.0  False  True    False  False  False  False   False  excellent     0      1       0        0  sdR-s-r2-00001590.fits\n",
      "348     s    1111  60148  60148      arc  sp2     r2    1576     10.0  False  True    False  False  False  False   False  excellent     0      1       0        0  sdR-s-r2-00001576.fits\n",
      "740     s    1111  60148  60148      arc  sp2     r2    1593     30.0  False  True    False  False  False  False   False  excellent     0      1       0        0  sdR-s-r2-00001593.fits\n",
      "993     s    1111  60148  60148      arc  sp2     r2    1592     10.0  False  True    False  False  False  False   False  excellent     0      1       0        0  sdR-s-r2-00001592.fits\n",
      "1008    s    1111  60148  60148      arc  sp2     r2    1591     30.0  False  True    False  False  False  False   False  excellent     0      1       0        0  sdR-s-r2-00001591.fits\n",
      "1048    s    1111  60148  60148      arc  sp2     r2    1579    150.0  False  True    False  False  False  False   False  excellent     0      1       0        0  sdR-s-r2-00001579.fits\n",
      "1291    s    1111  60148  60148      arc  sp2     r2    1578    150.0  False  True    False  False  False  False   False  excellent     0      1       0        0  sdR-s-r2-00001578.fits\n",
      "1397    s    1111  60148  60148      arc  sp2     r2    1577     10.0  False  True    False  False  False  False   False  excellent     0      1       0        0  sdR-s-r2-00001577.fits\n"
     ]
    },
    {
     "name": "stderr",
     "output_type": "stream",
     "text": [
      "\u001b[0;34m[INFO]: \u001b[0mcombining 8 frames into master frame\n",
      "\u001b[0;34m[INFO]: \u001b[0mwriting master frame to 'lvm-marc_hgne-r2.fits'\n",
      "\u001b[0;34m[INFO]: \u001b[0minput frames: /home/mejia/Research/lvm/lvmdata/data.sdss5.org/sas/sdsswork/lvm/spectro/redux/0.1.1.dev0/1111/60148/ancillary/lvm-darc-r3-00001593.fits,/home/mejia/Research/lvm/lvmdata/data.sdss5.org/sas/sdsswork/lvm/spectro/redux/0.1.1.dev0/1111/60148/ancillary/lvm-darc-r3-00001578.fits,/home/mejia/Research/lvm/lvmdata/data.sdss5.org/sas/sdsswork/lvm/spectro/redux/0.1.1.dev0/1111/60148/ancillary/lvm-darc-r3-00001592.fits,/home/mejia/Research/lvm/lvmdata/data.sdss5.org/sas/sdsswork/lvm/spectro/redux/0.1.1.dev0/1111/60148/ancillary/lvm-darc-r3-00001576.fits,/home/mejia/Research/lvm/lvmdata/data.sdss5.org/sas/sdsswork/lvm/spectro/redux/0.1.1.dev0/1111/60148/ancillary/lvm-darc-r3-00001577.fits,/home/mejia/Research/lvm/lvmdata/data.sdss5.org/sas/sdsswork/lvm/spectro/redux/0.1.1.dev0/1111/60148/ancillary/lvm-darc-r3-00001591.fits,/home/mejia/Research/lvm/lvmdata/data.sdss5.org/sas/sdsswork/lvm/spectro/redux/0.1.1.dev0/1111/60148/ancillary/lvm-darc-r3-00001590.fits,/home/mejia/Research/lvm/lvmdata/data.sdss5.org/sas/sdsswork/lvm/spectro/redux/0.1.1.dev0/1111/60148/ancillary/lvm-darc-r3-00001579.fits\n"
     ]
    },
    {
     "name": "stdout",
     "output_type": "stream",
     "text": [
      "     hemi  tileid    mjd   rmjd imagetyp spec camera  expnum  exptime   neon  hgne  krypton  xenon  argon   ldls  quartz    quality  qual  stage  status  drpqual                    name\n",
      "16      s    1111  60148  60148      arc  sp3     r3    1593     30.0  False  True    False  False  False  False   False  excellent     0      1       0        0  sdR-s-r3-00001593.fits\n",
      "259     s    1111  60148  60148      arc  sp3     r3    1578    150.0  False  True    False  False  False  False   False  excellent     0      1       0        0  sdR-s-r3-00001578.fits\n",
      "282     s    1111  60148  60148      arc  sp3     r3    1592     10.0  False  True    False  False  False  False   False  excellent     0      1       0        0  sdR-s-r3-00001592.fits\n",
      "401     s    1111  60148  60148      arc  sp3     r3    1576     10.0  False  True    False  False  False  False   False  excellent     0      1       0        0  sdR-s-r3-00001576.fits\n",
      "526     s    1111  60148  60148      arc  sp3     r3    1577     10.0  False  True    False  False  False  False   False  excellent     0      1       0        0  sdR-s-r3-00001577.fits\n",
      "1160    s    1111  60148  60148      arc  sp3     r3    1591     30.0  False  True    False  False  False  False   False  excellent     0      1       0        0  sdR-s-r3-00001591.fits\n",
      "1234    s    1111  60148  60148      arc  sp3     r3    1590     10.0  False  True    False  False  False  False   False  excellent     0      1       0        0  sdR-s-r3-00001590.fits\n",
      "1499    s    1111  60148  60148      arc  sp3     r3    1579    150.0  False  True    False  False  False  False   False  excellent     0      1       0        0  sdR-s-r3-00001579.fits\n"
     ]
    },
    {
     "name": "stderr",
     "output_type": "stream",
     "text": [
      "\u001b[0;34m[INFO]: \u001b[0mcombining 8 frames into master frame\n",
      "\u001b[0;34m[INFO]: \u001b[0mwriting master frame to 'lvm-marc_hgne-r3.fits'\n",
      "\u001b[0;34m[INFO]: \u001b[0minput frames: /home/mejia/Research/lvm/lvmdata/data.sdss5.org/sas/sdsswork/lvm/spectro/redux/0.1.1.dev0/1111/60148/ancillary/lvm-darc-z1-00001592.fits,/home/mejia/Research/lvm/lvmdata/data.sdss5.org/sas/sdsswork/lvm/spectro/redux/0.1.1.dev0/1111/60148/ancillary/lvm-darc-z1-00001576.fits,/home/mejia/Research/lvm/lvmdata/data.sdss5.org/sas/sdsswork/lvm/spectro/redux/0.1.1.dev0/1111/60148/ancillary/lvm-darc-z1-00001579.fits,/home/mejia/Research/lvm/lvmdata/data.sdss5.org/sas/sdsswork/lvm/spectro/redux/0.1.1.dev0/1111/60148/ancillary/lvm-darc-z1-00001591.fits,/home/mejia/Research/lvm/lvmdata/data.sdss5.org/sas/sdsswork/lvm/spectro/redux/0.1.1.dev0/1111/60148/ancillary/lvm-darc-z1-00001578.fits,/home/mejia/Research/lvm/lvmdata/data.sdss5.org/sas/sdsswork/lvm/spectro/redux/0.1.1.dev0/1111/60148/ancillary/lvm-darc-z1-00001593.fits,/home/mejia/Research/lvm/lvmdata/data.sdss5.org/sas/sdsswork/lvm/spectro/redux/0.1.1.dev0/1111/60148/ancillary/lvm-darc-z1-00001590.fits,/home/mejia/Research/lvm/lvmdata/data.sdss5.org/sas/sdsswork/lvm/spectro/redux/0.1.1.dev0/1111/60148/ancillary/lvm-darc-z1-00001577.fits\n"
     ]
    },
    {
     "name": "stdout",
     "output_type": "stream",
     "text": [
      "     hemi  tileid    mjd   rmjd imagetyp spec camera  expnum  exptime   neon  hgne  krypton  xenon  argon   ldls  quartz    quality  qual  stage  status  drpqual                    name\n",
      "346     s    1111  60148  60148      arc  sp1     z1    1592     10.0  False  True    False  False  False  False   False  excellent     0      1       0        0  sdR-s-z1-00001592.fits\n",
      "415     s    1111  60148  60148      arc  sp1     z1    1576     10.0  False  True    False  False  False  False   False  excellent     0      1       0        0  sdR-s-z1-00001576.fits\n",
      "502     s    1111  60148  60148      arc  sp1     z1    1579    150.0  False  True    False  False  False  False   False  excellent     0      1       0        0  sdR-s-z1-00001579.fits\n",
      "511     s    1111  60148  60148      arc  sp1     z1    1591     30.0  False  True    False  False  False  False   False  excellent     0      1       0        0  sdR-s-z1-00001591.fits\n",
      "919     s    1111  60148  60148      arc  sp1     z1    1578    150.0  False  True    False  False  False  False   False  excellent     0      1       0        0  sdR-s-z1-00001578.fits\n",
      "1051    s    1111  60148  60148      arc  sp1     z1    1593     30.0  False  True    False  False  False  False   False  excellent     0      1       0        0  sdR-s-z1-00001593.fits\n",
      "1066    s    1111  60148  60148      arc  sp1     z1    1590     10.0  False  True    False  False  False  False   False  excellent     0      1       0        0  sdR-s-z1-00001590.fits\n",
      "1269    s    1111  60148  60148      arc  sp1     z1    1577     10.0  False  True    False  False  False  False   False  excellent     0      1       0        0  sdR-s-z1-00001577.fits\n"
     ]
    },
    {
     "name": "stderr",
     "output_type": "stream",
     "text": [
      "\u001b[0;34m[INFO]: \u001b[0mcombining 8 frames into master frame\n",
      "\u001b[0;34m[INFO]: \u001b[0mwriting master frame to 'lvm-marc_hgne-z1.fits'\n",
      "\u001b[0;34m[INFO]: \u001b[0minput frames: /home/mejia/Research/lvm/lvmdata/data.sdss5.org/sas/sdsswork/lvm/spectro/redux/0.1.1.dev0/1111/60148/ancillary/lvm-darc-z2-00001577.fits,/home/mejia/Research/lvm/lvmdata/data.sdss5.org/sas/sdsswork/lvm/spectro/redux/0.1.1.dev0/1111/60148/ancillary/lvm-darc-z2-00001593.fits,/home/mejia/Research/lvm/lvmdata/data.sdss5.org/sas/sdsswork/lvm/spectro/redux/0.1.1.dev0/1111/60148/ancillary/lvm-darc-z2-00001592.fits,/home/mejia/Research/lvm/lvmdata/data.sdss5.org/sas/sdsswork/lvm/spectro/redux/0.1.1.dev0/1111/60148/ancillary/lvm-darc-z2-00001590.fits,/home/mejia/Research/lvm/lvmdata/data.sdss5.org/sas/sdsswork/lvm/spectro/redux/0.1.1.dev0/1111/60148/ancillary/lvm-darc-z2-00001576.fits,/home/mejia/Research/lvm/lvmdata/data.sdss5.org/sas/sdsswork/lvm/spectro/redux/0.1.1.dev0/1111/60148/ancillary/lvm-darc-z2-00001579.fits,/home/mejia/Research/lvm/lvmdata/data.sdss5.org/sas/sdsswork/lvm/spectro/redux/0.1.1.dev0/1111/60148/ancillary/lvm-darc-z2-00001591.fits,/home/mejia/Research/lvm/lvmdata/data.sdss5.org/sas/sdsswork/lvm/spectro/redux/0.1.1.dev0/1111/60148/ancillary/lvm-darc-z2-00001578.fits\n"
     ]
    },
    {
     "name": "stdout",
     "output_type": "stream",
     "text": [
      "     hemi  tileid    mjd   rmjd imagetyp spec camera  expnum  exptime   neon  hgne  krypton  xenon  argon   ldls  quartz    quality  qual  stage  status  drpqual                    name\n",
      "22      s    1111  60148  60148      arc  sp2     z2    1577     10.0  False  True    False  False  False  False   False  excellent     0      1       0        0  sdR-s-z2-00001577.fits\n",
      "234     s    1111  60148  60148      arc  sp2     z2    1593     30.0  False  True    False  False  False  False   False  excellent     0      1       0        0  sdR-s-z2-00001593.fits\n",
      "312     s    1111  60148  60148      arc  sp2     z2    1592     10.0  False  True    False  False  False  False   False  excellent     0      1       0        0  sdR-s-z2-00001592.fits\n",
      "404     s    1111  60148  60148      arc  sp2     z2    1590     10.0  False  True    False  False  False  False   False  excellent     0      1       0        0  sdR-s-z2-00001590.fits\n",
      "808     s    1111  60148  60148      arc  sp2     z2    1576     10.0  False  True    False  False  False  False   False  excellent     0      1       0        0  sdR-s-z2-00001576.fits\n",
      "815     s    1111  60148  60148      arc  sp2     z2    1579    150.0  False  True    False  False  False  False   False  excellent     0      1       0        0  sdR-s-z2-00001579.fits\n",
      "914     s    1111  60148  60148      arc  sp2     z2    1591     30.0  False  True    False  False  False  False   False  excellent     0      1       0        0  sdR-s-z2-00001591.fits\n",
      "1284    s    1111  60148  60148      arc  sp2     z2    1578    150.0  False  True    False  False  False  False   False  excellent     0      1       0        0  sdR-s-z2-00001578.fits\n"
     ]
    },
    {
     "name": "stderr",
     "output_type": "stream",
     "text": [
      "\u001b[0;34m[INFO]: \u001b[0mcombining 8 frames into master frame\n",
      "\u001b[0;34m[INFO]: \u001b[0mwriting master frame to 'lvm-marc_hgne-z2.fits'\n",
      "\u001b[0;34m[INFO]: \u001b[0minput frames: /home/mejia/Research/lvm/lvmdata/data.sdss5.org/sas/sdsswork/lvm/spectro/redux/0.1.1.dev0/1111/60148/ancillary/lvm-darc-z3-00001577.fits,/home/mejia/Research/lvm/lvmdata/data.sdss5.org/sas/sdsswork/lvm/spectro/redux/0.1.1.dev0/1111/60148/ancillary/lvm-darc-z3-00001590.fits,/home/mejia/Research/lvm/lvmdata/data.sdss5.org/sas/sdsswork/lvm/spectro/redux/0.1.1.dev0/1111/60148/ancillary/lvm-darc-z3-00001593.fits,/home/mejia/Research/lvm/lvmdata/data.sdss5.org/sas/sdsswork/lvm/spectro/redux/0.1.1.dev0/1111/60148/ancillary/lvm-darc-z3-00001591.fits,/home/mejia/Research/lvm/lvmdata/data.sdss5.org/sas/sdsswork/lvm/spectro/redux/0.1.1.dev0/1111/60148/ancillary/lvm-darc-z3-00001576.fits,/home/mejia/Research/lvm/lvmdata/data.sdss5.org/sas/sdsswork/lvm/spectro/redux/0.1.1.dev0/1111/60148/ancillary/lvm-darc-z3-00001592.fits,/home/mejia/Research/lvm/lvmdata/data.sdss5.org/sas/sdsswork/lvm/spectro/redux/0.1.1.dev0/1111/60148/ancillary/lvm-darc-z3-00001578.fits,/home/mejia/Research/lvm/lvmdata/data.sdss5.org/sas/sdsswork/lvm/spectro/redux/0.1.1.dev0/1111/60148/ancillary/lvm-darc-z3-00001579.fits\n"
     ]
    },
    {
     "name": "stdout",
     "output_type": "stream",
     "text": [
      "     hemi  tileid    mjd   rmjd imagetyp spec camera  expnum  exptime   neon  hgne  krypton  xenon  argon   ldls  quartz    quality  qual  stage  status  drpqual                    name\n",
      "9       s    1111  60148  60148      arc  sp3     z3    1577     10.0  False  True    False  False  False  False   False  excellent     0      1       0        0  sdR-s-z3-00001577.fits\n",
      "159     s    1111  60148  60148      arc  sp3     z3    1590     10.0  False  True    False  False  False  False   False  excellent     0      1       0        0  sdR-s-z3-00001590.fits\n",
      "484     s    1111  60148  60148      arc  sp3     z3    1593     30.0  False  True    False  False  False  False   False  excellent     0      1       0        0  sdR-s-z3-00001593.fits\n",
      "853     s    1111  60148  60148      arc  sp3     z3    1591     30.0  False  True    False  False  False  False   False  excellent     0      1       0        0  sdR-s-z3-00001591.fits\n",
      "1179    s    1111  60148  60148      arc  sp3     z3    1576     10.0  False  True    False  False  False  False   False  excellent     0      1       0        0  sdR-s-z3-00001576.fits\n",
      "1245    s    1111  60148  60148      arc  sp3     z3    1592     10.0  False  True    False  False  False  False   False  excellent     0      1       0        0  sdR-s-z3-00001592.fits\n",
      "1309    s    1111  60148  60148      arc  sp3     z3    1578    150.0  False  True    False  False  False  False   False  excellent     0      1       0        0  sdR-s-z3-00001578.fits\n",
      "1364    s    1111  60148  60148      arc  sp3     z3    1579    150.0  False  True    False  False  False  False   False  excellent     0      1       0        0  sdR-s-z3-00001579.fits\n"
     ]
    },
    {
     "name": "stderr",
     "output_type": "stream",
     "text": [
      "\u001b[0;34m[INFO]: \u001b[0mcombining 8 frames into master frame\n",
      "\u001b[0;34m[INFO]: \u001b[0mwriting master frame to 'lvm-marc_hgne-z3.fits'\n",
      "\u001b[0;34m[INFO]: \u001b[0minput frames: /home/mejia/Research/lvm/lvmdata/data.sdss5.org/sas/sdsswork/lvm/spectro/redux/0.1.1.dev0/1111/60148/ancillary/lvm-darc-b1-00001568.fits,/home/mejia/Research/lvm/lvmdata/data.sdss5.org/sas/sdsswork/lvm/spectro/redux/0.1.1.dev0/1111/60148/ancillary/lvm-darc-b1-00001571.fits,/home/mejia/Research/lvm/lvmdata/data.sdss5.org/sas/sdsswork/lvm/spectro/redux/0.1.1.dev0/1111/60148/ancillary/lvm-darc-b1-00001569.fits,/home/mejia/Research/lvm/lvmdata/data.sdss5.org/sas/sdsswork/lvm/spectro/redux/0.1.1.dev0/1111/60148/ancillary/lvm-darc-b1-00001570.fits\n"
     ]
    },
    {
     "name": "stdout",
     "output_type": "stream",
     "text": [
      "     hemi  tileid    mjd   rmjd imagetyp spec camera  expnum  exptime   neon   hgne  krypton  xenon  argon   ldls  quartz    quality  qual  stage  status  drpqual                    name\n",
      "518     s    1111  60148  60148      arc  sp1     b1    1568     10.0  False  False    False  False   True  False   False  excellent     0      1       0        0  sdR-s-b1-00001568.fits\n",
      "917     s    1111  60148  60148      arc  sp1     b1    1571     50.0  False  False    False  False   True  False   False  excellent     0      1       0        0  sdR-s-b1-00001571.fits\n",
      "1310    s    1111  60148  60148      arc  sp1     b1    1569     10.0  False  False    False  False   True  False   False  excellent     0      1       0        0  sdR-s-b1-00001569.fits\n",
      "1423    s    1111  60148  60148      arc  sp1     b1    1570     50.0  False  False    False  False   True  False   False  excellent     0      1       0        0  sdR-s-b1-00001570.fits\n"
     ]
    },
    {
     "name": "stderr",
     "output_type": "stream",
     "text": [
      "\u001b[0;34m[INFO]: \u001b[0mcombining 4 frames into master frame\n",
      "\u001b[0;34m[INFO]: \u001b[0mwriting master frame to 'lvm-marc_argon-b1.fits'\n",
      "\u001b[0;34m[INFO]: \u001b[0minput frames: /home/mejia/Research/lvm/lvmdata/data.sdss5.org/sas/sdsswork/lvm/spectro/redux/0.1.1.dev0/1111/60148/ancillary/lvm-darc-b2-00001569.fits,/home/mejia/Research/lvm/lvmdata/data.sdss5.org/sas/sdsswork/lvm/spectro/redux/0.1.1.dev0/1111/60148/ancillary/lvm-darc-b2-00001570.fits,/home/mejia/Research/lvm/lvmdata/data.sdss5.org/sas/sdsswork/lvm/spectro/redux/0.1.1.dev0/1111/60148/ancillary/lvm-darc-b2-00001568.fits,/home/mejia/Research/lvm/lvmdata/data.sdss5.org/sas/sdsswork/lvm/spectro/redux/0.1.1.dev0/1111/60148/ancillary/lvm-darc-b2-00001571.fits\n"
     ]
    },
    {
     "name": "stdout",
     "output_type": "stream",
     "text": [
      "     hemi  tileid    mjd   rmjd imagetyp spec camera  expnum  exptime   neon   hgne  krypton  xenon  argon   ldls  quartz    quality  qual  stage  status  drpqual                    name\n",
      "402     s    1111  60148  60148      arc  sp2     b2    1569     10.0  False  False    False  False   True  False   False  excellent     0      1       0        0  sdR-s-b2-00001569.fits\n",
      "779     s    1111  60148  60148      arc  sp2     b2    1570     50.0  False  False    False  False   True  False   False  excellent     0      1       0        0  sdR-s-b2-00001570.fits\n",
      "1073    s    1111  60148  60148      arc  sp2     b2    1568     10.0  False  False    False  False   True  False   False  excellent     0      1       0        0  sdR-s-b2-00001568.fits\n",
      "1405    s    1111  60148  60148      arc  sp2     b2    1571     50.0  False  False    False  False   True  False   False  excellent     0      1       0        0  sdR-s-b2-00001571.fits\n"
     ]
    },
    {
     "name": "stderr",
     "output_type": "stream",
     "text": [
      "\u001b[0;34m[INFO]: \u001b[0mcombining 4 frames into master frame\n",
      "\u001b[0;34m[INFO]: \u001b[0mwriting master frame to 'lvm-marc_argon-b2.fits'\n",
      "\u001b[0;34m[INFO]: \u001b[0minput frames: /home/mejia/Research/lvm/lvmdata/data.sdss5.org/sas/sdsswork/lvm/spectro/redux/0.1.1.dev0/1111/60148/ancillary/lvm-darc-b3-00001569.fits,/home/mejia/Research/lvm/lvmdata/data.sdss5.org/sas/sdsswork/lvm/spectro/redux/0.1.1.dev0/1111/60148/ancillary/lvm-darc-b3-00001571.fits,/home/mejia/Research/lvm/lvmdata/data.sdss5.org/sas/sdsswork/lvm/spectro/redux/0.1.1.dev0/1111/60148/ancillary/lvm-darc-b3-00001570.fits,/home/mejia/Research/lvm/lvmdata/data.sdss5.org/sas/sdsswork/lvm/spectro/redux/0.1.1.dev0/1111/60148/ancillary/lvm-darc-b3-00001568.fits\n"
     ]
    },
    {
     "name": "stdout",
     "output_type": "stream",
     "text": [
      "     hemi  tileid    mjd   rmjd imagetyp spec camera  expnum  exptime   neon   hgne  krypton  xenon  argon   ldls  quartz    quality  qual  stage  status  drpqual                    name\n",
      "347     s    1111  60148  60148      arc  sp3     b3    1569     10.0  False  False    False  False   True  False   False  excellent     0      1       0        0  sdR-s-b3-00001569.fits\n",
      "928     s    1111  60148  60148      arc  sp3     b3    1571     50.0  False  False    False  False   True  False   False  excellent     0      1       0        0  sdR-s-b3-00001571.fits\n",
      "1174    s    1111  60148  60148      arc  sp3     b3    1570     50.0  False  False    False  False   True  False   False  excellent     0      1       0        0  sdR-s-b3-00001570.fits\n",
      "1327    s    1111  60148  60148      arc  sp3     b3    1568     10.0  False  False    False  False   True  False   False  excellent     0      1       0        0  sdR-s-b3-00001568.fits\n"
     ]
    },
    {
     "name": "stderr",
     "output_type": "stream",
     "text": [
      "\u001b[0;34m[INFO]: \u001b[0mcombining 4 frames into master frame\n",
      "\u001b[0;34m[INFO]: \u001b[0mwriting master frame to 'lvm-marc_argon-b3.fits'\n",
      "\u001b[0;34m[INFO]: \u001b[0minput frames: /home/mejia/Research/lvm/lvmdata/data.sdss5.org/sas/sdsswork/lvm/spectro/redux/0.1.1.dev0/1111/60148/ancillary/lvm-darc-r1-00001570.fits,/home/mejia/Research/lvm/lvmdata/data.sdss5.org/sas/sdsswork/lvm/spectro/redux/0.1.1.dev0/1111/60148/ancillary/lvm-darc-r1-00001568.fits,/home/mejia/Research/lvm/lvmdata/data.sdss5.org/sas/sdsswork/lvm/spectro/redux/0.1.1.dev0/1111/60148/ancillary/lvm-darc-r1-00001569.fits,/home/mejia/Research/lvm/lvmdata/data.sdss5.org/sas/sdsswork/lvm/spectro/redux/0.1.1.dev0/1111/60148/ancillary/lvm-darc-r1-00001571.fits\n"
     ]
    },
    {
     "name": "stdout",
     "output_type": "stream",
     "text": [
      "    hemi  tileid    mjd   rmjd imagetyp spec camera  expnum  exptime   neon   hgne  krypton  xenon  argon   ldls  quartz    quality  qual  stage  status  drpqual                    name\n",
      "98     s    1111  60148  60148      arc  sp1     r1    1570     50.0  False  False    False  False   True  False   False  excellent     0      1       0        0  sdR-s-r1-00001570.fits\n",
      "468    s    1111  60148  60148      arc  sp1     r1    1568     10.0  False  False    False  False   True  False   False  excellent     0      1       0        0  sdR-s-r1-00001568.fits\n",
      "603    s    1111  60148  60148      arc  sp1     r1    1569     10.0  False  False    False  False   True  False   False  excellent     0      1       0        0  sdR-s-r1-00001569.fits\n",
      "924    s    1111  60148  60148      arc  sp1     r1    1571     50.0  False  False    False  False   True  False   False  excellent     0      1       0        0  sdR-s-r1-00001571.fits\n"
     ]
    },
    {
     "name": "stderr",
     "output_type": "stream",
     "text": [
      "\u001b[0;34m[INFO]: \u001b[0mcombining 4 frames into master frame\n",
      "\u001b[0;34m[INFO]: \u001b[0mwriting master frame to 'lvm-marc_argon-r1.fits'\n",
      "\u001b[0;34m[INFO]: \u001b[0minput frames: /home/mejia/Research/lvm/lvmdata/data.sdss5.org/sas/sdsswork/lvm/spectro/redux/0.1.1.dev0/1111/60148/ancillary/lvm-darc-r2-00001568.fits,/home/mejia/Research/lvm/lvmdata/data.sdss5.org/sas/sdsswork/lvm/spectro/redux/0.1.1.dev0/1111/60148/ancillary/lvm-darc-r2-00001571.fits,/home/mejia/Research/lvm/lvmdata/data.sdss5.org/sas/sdsswork/lvm/spectro/redux/0.1.1.dev0/1111/60148/ancillary/lvm-darc-r2-00001570.fits,/home/mejia/Research/lvm/lvmdata/data.sdss5.org/sas/sdsswork/lvm/spectro/redux/0.1.1.dev0/1111/60148/ancillary/lvm-darc-r2-00001569.fits\n"
     ]
    },
    {
     "name": "stdout",
     "output_type": "stream",
     "text": [
      "     hemi  tileid    mjd   rmjd imagetyp spec camera  expnum  exptime   neon   hgne  krypton  xenon  argon   ldls  quartz    quality  qual  stage  status  drpqual                    name\n",
      "30      s    1111  60148  60148      arc  sp2     r2    1568     10.0  False  False    False  False   True  False   False  excellent     0      1       0        0  sdR-s-r2-00001568.fits\n",
      "685     s    1111  60148  60148      arc  sp2     r2    1571     50.0  False  False    False  False   True  False   False  excellent     0      1       0        0  sdR-s-r2-00001571.fits\n",
      "1035    s    1111  60148  60148      arc  sp2     r2    1570     50.0  False  False    False  False   True  False   False  excellent     0      1       0        0  sdR-s-r2-00001570.fits\n",
      "1277    s    1111  60148  60148      arc  sp2     r2    1569     10.0  False  False    False  False   True  False   False  excellent     0      1       0        0  sdR-s-r2-00001569.fits\n"
     ]
    },
    {
     "name": "stderr",
     "output_type": "stream",
     "text": [
      "\u001b[0;34m[INFO]: \u001b[0mcombining 4 frames into master frame\n",
      "\u001b[0;34m[INFO]: \u001b[0mwriting master frame to 'lvm-marc_argon-r2.fits'\n",
      "\u001b[0;34m[INFO]: \u001b[0minput frames: /home/mejia/Research/lvm/lvmdata/data.sdss5.org/sas/sdsswork/lvm/spectro/redux/0.1.1.dev0/1111/60148/ancillary/lvm-darc-r3-00001570.fits,/home/mejia/Research/lvm/lvmdata/data.sdss5.org/sas/sdsswork/lvm/spectro/redux/0.1.1.dev0/1111/60148/ancillary/lvm-darc-r3-00001571.fits,/home/mejia/Research/lvm/lvmdata/data.sdss5.org/sas/sdsswork/lvm/spectro/redux/0.1.1.dev0/1111/60148/ancillary/lvm-darc-r3-00001568.fits,/home/mejia/Research/lvm/lvmdata/data.sdss5.org/sas/sdsswork/lvm/spectro/redux/0.1.1.dev0/1111/60148/ancillary/lvm-darc-r3-00001569.fits\n"
     ]
    },
    {
     "name": "stdout",
     "output_type": "stream",
     "text": [
      "     hemi  tileid    mjd   rmjd imagetyp spec camera  expnum  exptime   neon   hgne  krypton  xenon  argon   ldls  quartz    quality  qual  stage  status  drpqual                    name\n",
      "104     s    1111  60148  60148      arc  sp3     r3    1570     50.0  False  False    False  False   True  False   False  excellent     0      1       0        0  sdR-s-r3-00001570.fits\n",
      "221     s    1111  60148  60148      arc  sp3     r3    1571     50.0  False  False    False  False   True  False   False  excellent     0      1       0        0  sdR-s-r3-00001571.fits\n",
      "1012    s    1111  60148  60148      arc  sp3     r3    1568     10.0  False  False    False  False   True  False   False  excellent     0      1       0        0  sdR-s-r3-00001568.fits\n",
      "1259    s    1111  60148  60148      arc  sp3     r3    1569     10.0  False  False    False  False   True  False   False  excellent     0      1       0        0  sdR-s-r3-00001569.fits\n"
     ]
    },
    {
     "name": "stderr",
     "output_type": "stream",
     "text": [
      "\u001b[0;34m[INFO]: \u001b[0mcombining 4 frames into master frame\n",
      "\u001b[0;34m[INFO]: \u001b[0mwriting master frame to 'lvm-marc_argon-r3.fits'\n",
      "\u001b[0;34m[INFO]: \u001b[0minput frames: /home/mejia/Research/lvm/lvmdata/data.sdss5.org/sas/sdsswork/lvm/spectro/redux/0.1.1.dev0/1111/60148/ancillary/lvm-darc-z1-00001571.fits,/home/mejia/Research/lvm/lvmdata/data.sdss5.org/sas/sdsswork/lvm/spectro/redux/0.1.1.dev0/1111/60148/ancillary/lvm-darc-z1-00001568.fits,/home/mejia/Research/lvm/lvmdata/data.sdss5.org/sas/sdsswork/lvm/spectro/redux/0.1.1.dev0/1111/60148/ancillary/lvm-darc-z1-00001569.fits,/home/mejia/Research/lvm/lvmdata/data.sdss5.org/sas/sdsswork/lvm/spectro/redux/0.1.1.dev0/1111/60148/ancillary/lvm-darc-z1-00001570.fits\n"
     ]
    },
    {
     "name": "stdout",
     "output_type": "stream",
     "text": [
      "     hemi  tileid    mjd   rmjd imagetyp spec camera  expnum  exptime   neon   hgne  krypton  xenon  argon   ldls  quartz    quality  qual  stage  status  drpqual                    name\n",
      "370     s    1111  60148  60148      arc  sp1     z1    1571     50.0  False  False    False  False   True  False   False  excellent     0      1       0        0  sdR-s-z1-00001571.fits\n",
      "838     s    1111  60148  60148      arc  sp1     z1    1568     10.0  False  False    False  False   True  False   False  excellent     0      1       0        0  sdR-s-z1-00001568.fits\n",
      "1227    s    1111  60148  60148      arc  sp1     z1    1569     10.0  False  False    False  False   True  False   False  excellent     0      1       0        0  sdR-s-z1-00001569.fits\n",
      "1505    s    1111  60148  60148      arc  sp1     z1    1570     50.0  False  False    False  False   True  False   False  excellent     0      1       0        0  sdR-s-z1-00001570.fits\n"
     ]
    },
    {
     "name": "stderr",
     "output_type": "stream",
     "text": [
      "\u001b[0;34m[INFO]: \u001b[0mcombining 4 frames into master frame\n",
      "\u001b[0;34m[INFO]: \u001b[0mwriting master frame to 'lvm-marc_argon-z1.fits'\n",
      "\u001b[0;34m[INFO]: \u001b[0minput frames: /home/mejia/Research/lvm/lvmdata/data.sdss5.org/sas/sdsswork/lvm/spectro/redux/0.1.1.dev0/1111/60148/ancillary/lvm-darc-z2-00001569.fits,/home/mejia/Research/lvm/lvmdata/data.sdss5.org/sas/sdsswork/lvm/spectro/redux/0.1.1.dev0/1111/60148/ancillary/lvm-darc-z2-00001571.fits,/home/mejia/Research/lvm/lvmdata/data.sdss5.org/sas/sdsswork/lvm/spectro/redux/0.1.1.dev0/1111/60148/ancillary/lvm-darc-z2-00001570.fits,/home/mejia/Research/lvm/lvmdata/data.sdss5.org/sas/sdsswork/lvm/spectro/redux/0.1.1.dev0/1111/60148/ancillary/lvm-darc-z2-00001568.fits\n"
     ]
    },
    {
     "name": "stdout",
     "output_type": "stream",
     "text": [
      "     hemi  tileid    mjd   rmjd imagetyp spec camera  expnum  exptime   neon   hgne  krypton  xenon  argon   ldls  quartz    quality  qual  stage  status  drpqual                    name\n",
      "440     s    1111  60148  60148      arc  sp2     z2    1569     10.0  False  False    False  False   True  False   False  excellent     0      1       0        0  sdR-s-z2-00001569.fits\n",
      "902     s    1111  60148  60148      arc  sp2     z2    1571     50.0  False  False    False  False   True  False   False  excellent     0      1       0        0  sdR-s-z2-00001571.fits\n",
      "1161    s    1111  60148  60148      arc  sp2     z2    1570     50.0  False  False    False  False   True  False   False  excellent     0      1       0        0  sdR-s-z2-00001570.fits\n",
      "1478    s    1111  60148  60148      arc  sp2     z2    1568     10.0  False  False    False  False   True  False   False  excellent     0      1       0        0  sdR-s-z2-00001568.fits\n"
     ]
    },
    {
     "name": "stderr",
     "output_type": "stream",
     "text": [
      "\u001b[0;34m[INFO]: \u001b[0mcombining 4 frames into master frame\n",
      "\u001b[0;34m[INFO]: \u001b[0mwriting master frame to 'lvm-marc_argon-z2.fits'\n",
      "\u001b[0;34m[INFO]: \u001b[0minput frames: /home/mejia/Research/lvm/lvmdata/data.sdss5.org/sas/sdsswork/lvm/spectro/redux/0.1.1.dev0/1111/60148/ancillary/lvm-darc-z3-00001571.fits,/home/mejia/Research/lvm/lvmdata/data.sdss5.org/sas/sdsswork/lvm/spectro/redux/0.1.1.dev0/1111/60148/ancillary/lvm-darc-z3-00001570.fits,/home/mejia/Research/lvm/lvmdata/data.sdss5.org/sas/sdsswork/lvm/spectro/redux/0.1.1.dev0/1111/60148/ancillary/lvm-darc-z3-00001569.fits,/home/mejia/Research/lvm/lvmdata/data.sdss5.org/sas/sdsswork/lvm/spectro/redux/0.1.1.dev0/1111/60148/ancillary/lvm-darc-z3-00001568.fits\n"
     ]
    },
    {
     "name": "stdout",
     "output_type": "stream",
     "text": [
      "     hemi  tileid    mjd   rmjd imagetyp spec camera  expnum  exptime   neon   hgne  krypton  xenon  argon   ldls  quartz    quality  qual  stage  status  drpqual                    name\n",
      "8       s    1111  60148  60148      arc  sp3     z3    1571     50.0  False  False    False  False   True  False   False  excellent     0      1       0        0  sdR-s-z3-00001571.fits\n",
      "683     s    1111  60148  60148      arc  sp3     z3    1570     50.0  False  False    False  False   True  False   False  excellent     0      1       0        0  sdR-s-z3-00001570.fits\n",
      "1230    s    1111  60148  60148      arc  sp3     z3    1569     10.0  False  False    False  False   True  False   False  excellent     0      1       0        0  sdR-s-z3-00001569.fits\n",
      "1459    s    1111  60148  60148      arc  sp3     z3    1568     10.0  False  False    False  False   True  False   False  excellent     0      1       0        0  sdR-s-z3-00001568.fits\n"
     ]
    },
    {
     "name": "stderr",
     "output_type": "stream",
     "text": [
      "\u001b[0;34m[INFO]: \u001b[0mcombining 4 frames into master frame\n",
      "\u001b[0;34m[INFO]: \u001b[0mwriting master frame to 'lvm-marc_argon-z3.fits'\n",
      "\u001b[0;34m[INFO]: \u001b[0minput frames: /home/mejia/Research/lvm/lvmdata/data.sdss5.org/sas/sdsswork/lvm/spectro/redux/0.1.1.dev0/1111/60148/ancillary/lvm-darc-b1-00001581.fits,/home/mejia/Research/lvm/lvmdata/data.sdss5.org/sas/sdsswork/lvm/spectro/redux/0.1.1.dev0/1111/60148/ancillary/lvm-darc-b1-00001580.fits\n"
     ]
    },
    {
     "name": "stdout",
     "output_type": "stream",
     "text": [
      "    hemi  tileid    mjd   rmjd imagetyp spec camera  expnum  exptime   neon   hgne  krypton  xenon  argon   ldls  quartz    quality  qual  stage  status  drpqual                    name\n",
      "135    s    1111  60148  60148      arc  sp1     b1    1581    150.0  False  False    False   True  False  False   False  excellent     0      1       0        0  sdR-s-b1-00001581.fits\n",
      "605    s    1111  60148  60148      arc  sp1     b1    1580    150.0  False  False    False   True  False  False   False  excellent     0      1       0        0  sdR-s-b1-00001580.fits\n"
     ]
    },
    {
     "name": "stderr",
     "output_type": "stream",
     "text": [
      "\u001b[0;34m[INFO]: \u001b[0mcombining 2 frames into master frame\n",
      "\u001b[0;34m[INFO]: \u001b[0mwriting master frame to 'lvm-marc_xenon-b1.fits'\n",
      "\u001b[0;34m[INFO]: \u001b[0minput frames: /home/mejia/Research/lvm/lvmdata/data.sdss5.org/sas/sdsswork/lvm/spectro/redux/0.1.1.dev0/1111/60148/ancillary/lvm-darc-b2-00001580.fits,/home/mejia/Research/lvm/lvmdata/data.sdss5.org/sas/sdsswork/lvm/spectro/redux/0.1.1.dev0/1111/60148/ancillary/lvm-darc-b2-00001581.fits\n"
     ]
    },
    {
     "name": "stdout",
     "output_type": "stream",
     "text": [
      "    hemi  tileid    mjd   rmjd imagetyp spec camera  expnum  exptime   neon   hgne  krypton  xenon  argon   ldls  quartz    quality  qual  stage  status  drpqual                    name\n",
      "175    s    1111  60148  60148      arc  sp2     b2    1580    150.0  False  False    False   True  False  False   False  excellent     0      1       0        0  sdR-s-b2-00001580.fits\n",
      "634    s    1111  60148  60148      arc  sp2     b2    1581    150.0  False  False    False   True  False  False   False  excellent     0      1       0        0  sdR-s-b2-00001581.fits\n"
     ]
    },
    {
     "name": "stderr",
     "output_type": "stream",
     "text": [
      "\u001b[0;34m[INFO]: \u001b[0mcombining 2 frames into master frame\n",
      "\u001b[0;34m[INFO]: \u001b[0mwriting master frame to 'lvm-marc_xenon-b2.fits'\n",
      "\u001b[0;34m[INFO]: \u001b[0minput frames: /home/mejia/Research/lvm/lvmdata/data.sdss5.org/sas/sdsswork/lvm/spectro/redux/0.1.1.dev0/1111/60148/ancillary/lvm-darc-b3-00001581.fits,/home/mejia/Research/lvm/lvmdata/data.sdss5.org/sas/sdsswork/lvm/spectro/redux/0.1.1.dev0/1111/60148/ancillary/lvm-darc-b3-00001580.fits\n"
     ]
    },
    {
     "name": "stdout",
     "output_type": "stream",
     "text": [
      "    hemi  tileid    mjd   rmjd imagetyp spec camera  expnum  exptime   neon   hgne  krypton  xenon  argon   ldls  quartz    quality  qual  stage  status  drpqual                    name\n",
      "767    s    1111  60148  60148      arc  sp3     b3    1581    150.0  False  False    False   True  False  False   False  excellent     0      1       0        0  sdR-s-b3-00001581.fits\n",
      "795    s    1111  60148  60148      arc  sp3     b3    1580    150.0  False  False    False   True  False  False   False  excellent     0      1       0        0  sdR-s-b3-00001580.fits\n"
     ]
    },
    {
     "name": "stderr",
     "output_type": "stream",
     "text": [
      "\u001b[0;34m[INFO]: \u001b[0mcombining 2 frames into master frame\n",
      "\u001b[0;34m[INFO]: \u001b[0mwriting master frame to 'lvm-marc_xenon-b3.fits'\n",
      "\u001b[0;34m[INFO]: \u001b[0minput frames: /home/mejia/Research/lvm/lvmdata/data.sdss5.org/sas/sdsswork/lvm/spectro/redux/0.1.1.dev0/1111/60148/ancillary/lvm-darc-r1-00001581.fits,/home/mejia/Research/lvm/lvmdata/data.sdss5.org/sas/sdsswork/lvm/spectro/redux/0.1.1.dev0/1111/60148/ancillary/lvm-darc-r1-00001580.fits\n"
     ]
    },
    {
     "name": "stdout",
     "output_type": "stream",
     "text": [
      "    hemi  tileid    mjd   rmjd imagetyp spec camera  expnum  exptime   neon   hgne  krypton  xenon  argon   ldls  quartz    quality  qual  stage  status  drpqual                    name\n",
      "156    s    1111  60148  60148      arc  sp1     r1    1581    150.0  False  False    False   True  False  False   False  excellent     0      1       0        0  sdR-s-r1-00001581.fits\n",
      "527    s    1111  60148  60148      arc  sp1     r1    1580    150.0  False  False    False   True  False  False   False  excellent     0      1       0        0  sdR-s-r1-00001580.fits\n"
     ]
    },
    {
     "name": "stderr",
     "output_type": "stream",
     "text": [
      "\u001b[0;34m[INFO]: \u001b[0mcombining 2 frames into master frame\n",
      "\u001b[0;34m[INFO]: \u001b[0mwriting master frame to 'lvm-marc_xenon-r1.fits'\n",
      "\u001b[0;34m[INFO]: \u001b[0minput frames: /home/mejia/Research/lvm/lvmdata/data.sdss5.org/sas/sdsswork/lvm/spectro/redux/0.1.1.dev0/1111/60148/ancillary/lvm-darc-r2-00001581.fits,/home/mejia/Research/lvm/lvmdata/data.sdss5.org/sas/sdsswork/lvm/spectro/redux/0.1.1.dev0/1111/60148/ancillary/lvm-darc-r2-00001580.fits\n"
     ]
    },
    {
     "name": "stdout",
     "output_type": "stream",
     "text": [
      "    hemi  tileid    mjd   rmjd imagetyp spec camera  expnum  exptime   neon   hgne  krypton  xenon  argon   ldls  quartz    quality  qual  stage  status  drpqual                    name\n",
      "181    s    1111  60148  60148      arc  sp2     r2    1581    150.0  False  False    False   True  False  False   False  excellent     0      1       0        0  sdR-s-r2-00001581.fits\n",
      "306    s    1111  60148  60148      arc  sp2     r2    1580    150.0  False  False    False   True  False  False   False  excellent     0      1       0        0  sdR-s-r2-00001580.fits\n"
     ]
    },
    {
     "name": "stderr",
     "output_type": "stream",
     "text": [
      "\u001b[0;34m[INFO]: \u001b[0mcombining 2 frames into master frame\n",
      "\u001b[0;34m[INFO]: \u001b[0mwriting master frame to 'lvm-marc_xenon-r2.fits'\n",
      "\u001b[0;34m[INFO]: \u001b[0minput frames: /home/mejia/Research/lvm/lvmdata/data.sdss5.org/sas/sdsswork/lvm/spectro/redux/0.1.1.dev0/1111/60148/ancillary/lvm-darc-r3-00001580.fits,/home/mejia/Research/lvm/lvmdata/data.sdss5.org/sas/sdsswork/lvm/spectro/redux/0.1.1.dev0/1111/60148/ancillary/lvm-darc-r3-00001581.fits\n"
     ]
    },
    {
     "name": "stdout",
     "output_type": "stream",
     "text": [
      "    hemi  tileid    mjd   rmjd imagetyp spec camera  expnum  exptime   neon   hgne  krypton  xenon  argon   ldls  quartz    quality  qual  stage  status  drpqual                    name\n",
      "210    s    1111  60148  60148      arc  sp3     r3    1580    150.0  False  False    False   True  False  False   False  excellent     0      1       0        0  sdR-s-r3-00001580.fits\n",
      "535    s    1111  60148  60148      arc  sp3     r3    1581    150.0  False  False    False   True  False  False   False  excellent     0      1       0        0  sdR-s-r3-00001581.fits\n"
     ]
    },
    {
     "name": "stderr",
     "output_type": "stream",
     "text": [
      "\u001b[0;34m[INFO]: \u001b[0mcombining 2 frames into master frame\n",
      "\u001b[0;34m[INFO]: \u001b[0mwriting master frame to 'lvm-marc_xenon-r3.fits'\n",
      "\u001b[0;34m[INFO]: \u001b[0minput frames: /home/mejia/Research/lvm/lvmdata/data.sdss5.org/sas/sdsswork/lvm/spectro/redux/0.1.1.dev0/1111/60148/ancillary/lvm-darc-z1-00001580.fits,/home/mejia/Research/lvm/lvmdata/data.sdss5.org/sas/sdsswork/lvm/spectro/redux/0.1.1.dev0/1111/60148/ancillary/lvm-darc-z1-00001581.fits\n"
     ]
    },
    {
     "name": "stdout",
     "output_type": "stream",
     "text": [
      "     hemi  tileid    mjd   rmjd imagetyp spec camera  expnum  exptime   neon   hgne  krypton  xenon  argon   ldls  quartz    quality  qual  stage  status  drpqual                    name\n",
      "903     s    1111  60148  60148      arc  sp1     z1    1580    150.0  False  False    False   True  False  False   False  excellent     0      1       0        0  sdR-s-z1-00001580.fits\n",
      "1122    s    1111  60148  60148      arc  sp1     z1    1581    150.0  False  False    False   True  False  False   False  excellent     0      1       0        0  sdR-s-z1-00001581.fits\n"
     ]
    },
    {
     "name": "stderr",
     "output_type": "stream",
     "text": [
      "\u001b[0;34m[INFO]: \u001b[0mcombining 2 frames into master frame\n",
      "\u001b[0;34m[INFO]: \u001b[0mwriting master frame to 'lvm-marc_xenon-z1.fits'\n",
      "\u001b[0;34m[INFO]: \u001b[0minput frames: /home/mejia/Research/lvm/lvmdata/data.sdss5.org/sas/sdsswork/lvm/spectro/redux/0.1.1.dev0/1111/60148/ancillary/lvm-darc-z2-00001581.fits,/home/mejia/Research/lvm/lvmdata/data.sdss5.org/sas/sdsswork/lvm/spectro/redux/0.1.1.dev0/1111/60148/ancillary/lvm-darc-z2-00001580.fits\n"
     ]
    },
    {
     "name": "stdout",
     "output_type": "stream",
     "text": [
      "     hemi  tileid    mjd   rmjd imagetyp spec camera  expnum  exptime   neon   hgne  krypton  xenon  argon   ldls  quartz    quality  qual  stage  status  drpqual                    name\n",
      "1253    s    1111  60148  60148      arc  sp2     z2    1581    150.0  False  False    False   True  False  False   False  excellent     0      1       0        0  sdR-s-z2-00001581.fits\n",
      "1319    s    1111  60148  60148      arc  sp2     z2    1580    150.0  False  False    False   True  False  False   False  excellent     0      1       0        0  sdR-s-z2-00001580.fits\n"
     ]
    },
    {
     "name": "stderr",
     "output_type": "stream",
     "text": [
      "\u001b[0;34m[INFO]: \u001b[0mcombining 2 frames into master frame\n",
      "\u001b[0;34m[INFO]: \u001b[0mwriting master frame to 'lvm-marc_xenon-z2.fits'\n",
      "\u001b[0;34m[INFO]: \u001b[0minput frames: /home/mejia/Research/lvm/lvmdata/data.sdss5.org/sas/sdsswork/lvm/spectro/redux/0.1.1.dev0/1111/60148/ancillary/lvm-darc-z3-00001580.fits,/home/mejia/Research/lvm/lvmdata/data.sdss5.org/sas/sdsswork/lvm/spectro/redux/0.1.1.dev0/1111/60148/ancillary/lvm-darc-z3-00001581.fits\n"
     ]
    },
    {
     "name": "stdout",
     "output_type": "stream",
     "text": [
      "     hemi  tileid    mjd   rmjd imagetyp spec camera  expnum  exptime   neon   hgne  krypton  xenon  argon   ldls  quartz    quality  qual  stage  status  drpqual                    name\n",
      "101     s    1111  60148  60148      arc  sp3     z3    1580    150.0  False  False    False   True  False  False   False  excellent     0      1       0        0  sdR-s-z3-00001580.fits\n",
      "1465    s    1111  60148  60148      arc  sp3     z3    1581    150.0  False  False    False   True  False  False   False  excellent     0      1       0        0  sdR-s-z3-00001581.fits\n"
     ]
    },
    {
     "name": "stderr",
     "output_type": "stream",
     "text": [
      "\u001b[0;34m[INFO]: \u001b[0mcombining 2 frames into master frame\n",
      "\u001b[0;34m[INFO]: \u001b[0mwriting master frame to 'lvm-marc_xenon-z3.fits'\n"
     ]
    }
   ],
   "source": [
    "lamps = [lamp.lower() for lamp in ARC_LAMPS]\n",
    "\n",
    "arc_analogs = frames_table.query(\"imagetyp=='arc'\").groupby([\"camera\"])\n",
    "\n",
    "marc_paths = []\n",
    "for lamp in lamps:\n",
    "    rest_lamps = copy(lamps)\n",
    "    rest_lamps.remove(lamp)\n",
    "    \n",
    "    lamp_query = f\"{lamp} & not \" + \" & not \".join(rest_lamps)\n",
    "\n",
    "    for camera in arc_analogs.groups:\n",
    "        arcs = arc_analogs.get_group(camera)\n",
    "        arcs = arcs.query(lamp_query)\n",
    "        arc = arcs.iloc[0].to_dict()\n",
    "        print(arcs.to_string())\n",
    "\n",
    "        # define master paths\n",
    "        mtrace_path = os.path.join(masters_path, f\"lvm-mtrace-{camera}.fits\")\n",
    "        # define master frame path\n",
    "        marc_path = path.full(\"lvm_master\", drpver=drpver, tileid=arc[\"tileid\"], mjd=masters_mjd, kind=f\"marc_{lamp}\", camera=arc[\"camera\"])\n",
    "        warc_path = path.full(\"lvm_master\", drpver=drpver, tileid=arc[\"tileid\"], mjd=masters_mjd, kind=f\"wmarc_{lamp}\", camera=camera)\n",
    "        marc_paths.append(marc_path)\n",
    "        os.makedirs(os.path.dirname(marc_path), exist_ok=True)\n",
    "        \n",
    "        # preprocess and detrend arcs\n",
    "        darc_paths = []\n",
    "        for arc in arcs.to_dict(\"records\"):\n",
    "            darc_path = path.full(\"lvm_anc\", drpver=drpver, kind=\"d\", imagetype=arc[\"imagetyp\"], **arc)\n",
    "            darc_paths.append(darc_path)\n",
    "    \n",
    "        # create master arc (2D image)\n",
    "        imageMethod.create_master_frame(in_images=darc_paths, out_image=marc_path, master_mjd=masters_mjd)\n",
    "        \n",
    "        # extract combined (master) arc\n",
    "        mtrace_path = os.path.join(masters_path, f\"lvm-mtrace-{camera}.fits\")\n",
    "        imageMethod.extract_spectra(in_image=marc_path, out_rss=warc_path, in_trace=mtrace_path, method=\"aperture\", aperture=3)"
   ]
  }
 ],
 "metadata": {
  "kernelspec": {
   "display_name": "Python 3 (ipykernel)",
   "language": "python",
   "name": "python3"
  },
  "language_info": {
   "codemirror_mode": {
    "name": "ipython",
    "version": 3
   },
   "file_extension": ".py",
   "mimetype": "text/x-python",
   "name": "python",
   "nbconvert_exporter": "python",
   "pygments_lexer": "ipython3",
   "version": "3.10.12"
  }
 },
 "nbformat": 4,
 "nbformat_minor": 5
}
