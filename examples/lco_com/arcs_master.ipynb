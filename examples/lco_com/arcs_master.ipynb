{
 "cells": [
  {
   "cell_type": "code",
   "execution_count": 1,
   "id": "10dcda34-ea1f-46f8-91c5-306b83a5277c",
   "metadata": {
    "tags": []
   },
   "outputs": [],
   "source": [
    "import os\n",
    "import numpy as np\n",
    "import pandas as pd\n",
    "from copy import deepcopy as copy\n",
    "from astropy.table import Table\n",
    "\n",
    "from lvmdrp import path, __version__ as drpver\n",
    "from lvmdrp.core.constants import ARC_LAMPS\n",
    "from lvmdrp.utils import metadata as md\n",
    "from lvmdrp.functions import run_drp as drp\n",
    "from lvmdrp.functions import run_quickdrp as qdrp\n",
    "\n",
    "from lvmdrp.functions import imageMethod\n",
    "\n",
    "ORIG_MASTER_DIR = os.getenv(\"LVM_MASTER_DIR\")\n",
    "MASTER_CON_LAMPS = {\"b\": \"ldls\", \"r\": \"ldls\", \"z\": \"quartz\"}\n",
    "MASTER_ARC_LAMPS = {\"b\": \"hgne\", \"r\": \"neon\", \"z\": \"neon\"}\n",
    "SLITMAP = Table(drp.fibermap.data)"
   ]
  },
  {
   "cell_type": "code",
   "execution_count": 2,
   "id": "80e1f99b-f9d3-4030-a884-482f3688aac7",
   "metadata": {
    "tags": []
   },
   "outputs": [
    {
     "name": "stderr",
     "output_type": "stream",
     "text": [
      "\u001b[0;34m[INFO]: \u001b[0mloading metadata store at /home/mejia/Research/lvm/lvmdata/sas/sdsswork/lvm/spectro/redux/0.1.1.dev0/1111/60177/raw_metadata.hdf5\n",
      "\u001b[0;34m[INFO]: \u001b[0mfound 513 frames in store '/home/mejia/Research/lvm/lvmdata/sas/sdsswork/lvm/spectro/redux/0.1.1.dev0/1111/60177/raw_metadata.hdf5'\n",
      "\u001b[0;34m[INFO]: \u001b[0mnumber of frames after filtering 513\n",
      "\u001b[0;34m[INFO]: \u001b[0mtotal number of frames found 513\n"
     ]
    }
   ],
   "source": [
    "frames_table = md.get_metadata(tileid=\"*\", mjd=60177)\n",
    "frames_table.query(\"imagetyp == 'bias' | imagetyp == 'dark' | imagetyp == 'flat' | imagetyp == 'arc'\", inplace=True)\n",
    "frames_table = frames_table.loc[frames_table.name.str.contains(\"sdR\")]"
   ]
  },
  {
   "cell_type": "code",
   "execution_count": 3,
   "id": "add1acdd-59a9-470e-b37a-16dca620c703",
   "metadata": {
    "tags": []
   },
   "outputs": [
    {
     "name": "stdout",
     "output_type": "stream",
     "text": [
      "/home/mejia/Research/lvm/lvmdata/calib/60177\n"
     ]
    }
   ],
   "source": [
    "masters_mjd = qdrp.get_master_mjd(frames_table.mjd.min())\n",
    "masters_path = os.path.join(ORIG_MASTER_DIR, str(masters_mjd))\n",
    "print(masters_path)"
   ]
  },
  {
   "cell_type": "code",
   "execution_count": 4,
   "id": "c8d5b44c-55e4-4bfc-9c0d-e50099032aec",
   "metadata": {
    "tags": []
   },
   "outputs": [
    {
     "name": "stderr",
     "output_type": "stream",
     "text": [
      "\u001b[0;34m[INFO]: \u001b[0minput frames: /home/mejia/Research/lvm/lvmdata/sas/sdsswork/lvm/spectro/redux/0.1.1.dev0/1111/60177/ancillary/lvm-darc-b1-00003458.fits,/home/mejia/Research/lvm/lvmdata/sas/sdsswork/lvm/spectro/redux/0.1.1.dev0/1111/60177/ancillary/lvm-darc-b1-00003457.fits,/home/mejia/Research/lvm/lvmdata/sas/sdsswork/lvm/spectro/redux/0.1.1.dev0/1111/60177/ancillary/lvm-darc-b1-00003460.fits,/home/mejia/Research/lvm/lvmdata/sas/sdsswork/lvm/spectro/redux/0.1.1.dev0/1111/60177/ancillary/lvm-darc-b1-00003459.fits\n"
     ]
    },
    {
     "name": "stdout",
     "output_type": "stream",
     "text": [
      "    hemi  tileid    mjd   rmjd imagetyp spec camera  expnum  exptime  neon   hgne  krypton  xenon  argon   ldls  quartz    quality  qual  stage  status  drpqual                    name\n",
      "150    s    1111  60177  60177      arc  sp1     b1    3458     10.0  True  False    False  False  False  False   False  excellent     0      1       0        0  sdR-s-b1-00003458.fits\n",
      "279    s    1111  60177  60177      arc  sp1     b1    3457     10.0  True  False    False  False  False  False   False  excellent     0      1       0        0  sdR-s-b1-00003457.fits\n",
      "456    s    1111  60177  60177      arc  sp1     b1    3460    150.0  True  False    False  False  False  False   False  excellent     0      1       0        0  sdR-s-b1-00003460.fits\n",
      "485    s    1111  60177  60177      arc  sp1     b1    3459    150.0  True  False    False  False  False  False   False  excellent     0      1       0        0  sdR-s-b1-00003459.fits\n"
     ]
    },
    {
     "name": "stderr",
     "output_type": "stream",
     "text": [
      "\u001b[0;34m[INFO]: \u001b[0mcombining 4 frames into master frame\n",
      "\u001b[0;34m[INFO]: \u001b[0mwriting master frame to 'lvm-marc_neon-b1.fits'\n",
      "\u001b[0;34m[INFO]: \u001b[0minput frames: /home/mejia/Research/lvm/lvmdata/sas/sdsswork/lvm/spectro/redux/0.1.1.dev0/1111/60177/ancillary/lvm-darc-b2-00003460.fits,/home/mejia/Research/lvm/lvmdata/sas/sdsswork/lvm/spectro/redux/0.1.1.dev0/1111/60177/ancillary/lvm-darc-b2-00003458.fits,/home/mejia/Research/lvm/lvmdata/sas/sdsswork/lvm/spectro/redux/0.1.1.dev0/1111/60177/ancillary/lvm-darc-b2-00003459.fits,/home/mejia/Research/lvm/lvmdata/sas/sdsswork/lvm/spectro/redux/0.1.1.dev0/1111/60177/ancillary/lvm-darc-b2-00003457.fits\n"
     ]
    },
    {
     "name": "stdout",
     "output_type": "stream",
     "text": [
      "    hemi  tileid    mjd   rmjd imagetyp spec camera  expnum  exptime  neon   hgne  krypton  xenon  argon   ldls  quartz    quality  qual  stage  status  drpqual                    name\n",
      "147    s    1111  60177  60177      arc  sp2     b2    3460    150.0  True  False    False  False  False  False   False  excellent     0      1       0        0  sdR-s-b2-00003460.fits\n",
      "216    s    1111  60177  60177      arc  sp2     b2    3458     10.0  True  False    False  False  False  False   False  excellent     0      1       0        0  sdR-s-b2-00003458.fits\n",
      "259    s    1111  60177  60177      arc  sp2     b2    3459    150.0  True  False    False  False  False  False   False  excellent     0      1       0        0  sdR-s-b2-00003459.fits\n",
      "262    s    1111  60177  60177      arc  sp2     b2    3457     10.0  True  False    False  False  False  False   False  excellent     0      1       0        0  sdR-s-b2-00003457.fits\n"
     ]
    },
    {
     "name": "stderr",
     "output_type": "stream",
     "text": [
      "\u001b[0;34m[INFO]: \u001b[0mcombining 4 frames into master frame\n",
      "\u001b[0;34m[INFO]: \u001b[0mwriting master frame to 'lvm-marc_neon-b2.fits'\n",
      "\u001b[0;34m[INFO]: \u001b[0minput frames: /home/mejia/Research/lvm/lvmdata/sas/sdsswork/lvm/spectro/redux/0.1.1.dev0/1111/60177/ancillary/lvm-darc-b3-00003458.fits,/home/mejia/Research/lvm/lvmdata/sas/sdsswork/lvm/spectro/redux/0.1.1.dev0/1111/60177/ancillary/lvm-darc-b3-00003460.fits,/home/mejia/Research/lvm/lvmdata/sas/sdsswork/lvm/spectro/redux/0.1.1.dev0/1111/60177/ancillary/lvm-darc-b3-00003457.fits,/home/mejia/Research/lvm/lvmdata/sas/sdsswork/lvm/spectro/redux/0.1.1.dev0/1111/60177/ancillary/lvm-darc-b3-00003459.fits\n"
     ]
    },
    {
     "name": "stdout",
     "output_type": "stream",
     "text": [
      "    hemi  tileid    mjd   rmjd imagetyp spec camera  expnum  exptime  neon   hgne  krypton  xenon  argon   ldls  quartz    quality  qual  stage  status  drpqual                    name\n",
      "130    s    1111  60177  60177      arc  sp3     b3    3458     10.0  True  False    False  False  False  False   False  excellent     0      1       0        0  sdR-s-b3-00003458.fits\n",
      "204    s    1111  60177  60177      arc  sp3     b3    3460    150.0  True  False    False  False  False  False   False  excellent     0      1       0        0  sdR-s-b3-00003460.fits\n",
      "246    s    1111  60177  60177      arc  sp3     b3    3457     10.0  True  False    False  False  False  False   False  excellent     0      1       0        0  sdR-s-b3-00003457.fits\n",
      "508    s    1111  60177  60177      arc  sp3     b3    3459    150.0  True  False    False  False  False  False   False  excellent     0      1       0        0  sdR-s-b3-00003459.fits\n"
     ]
    },
    {
     "name": "stderr",
     "output_type": "stream",
     "text": [
      "\u001b[0;34m[INFO]: \u001b[0mcombining 4 frames into master frame\n",
      "\u001b[0;34m[INFO]: \u001b[0mwriting master frame to 'lvm-marc_neon-b3.fits'\n",
      "\u001b[0;34m[INFO]: \u001b[0minput frames: /home/mejia/Research/lvm/lvmdata/sas/sdsswork/lvm/spectro/redux/0.1.1.dev0/1111/60177/ancillary/lvm-darc-r1-00003458.fits,/home/mejia/Research/lvm/lvmdata/sas/sdsswork/lvm/spectro/redux/0.1.1.dev0/1111/60177/ancillary/lvm-darc-r1-00003457.fits,/home/mejia/Research/lvm/lvmdata/sas/sdsswork/lvm/spectro/redux/0.1.1.dev0/1111/60177/ancillary/lvm-darc-r1-00003459.fits,/home/mejia/Research/lvm/lvmdata/sas/sdsswork/lvm/spectro/redux/0.1.1.dev0/1111/60177/ancillary/lvm-darc-r1-00003460.fits\n"
     ]
    },
    {
     "name": "stdout",
     "output_type": "stream",
     "text": [
      "    hemi  tileid    mjd   rmjd imagetyp spec camera  expnum  exptime  neon   hgne  krypton  xenon  argon   ldls  quartz    quality  qual  stage  status  drpqual                    name\n",
      "314    s    1111  60177  60177      arc  sp1     r1    3458     10.0  True  False    False  False  False  False   False  excellent     0      1       0        0  sdR-s-r1-00003458.fits\n",
      "325    s    1111  60177  60177      arc  sp1     r1    3457     10.0  True  False    False  False  False  False   False  excellent     0      1       0        0  sdR-s-r1-00003457.fits\n",
      "344    s    1111  60177  60177      arc  sp1     r1    3459    150.0  True  False    False  False  False  False   False  excellent     0      1       0        0  sdR-s-r1-00003459.fits\n",
      "409    s    1111  60177  60177      arc  sp1     r1    3460    150.0  True  False    False  False  False  False   False  excellent     0      1       0        0  sdR-s-r1-00003460.fits\n"
     ]
    },
    {
     "name": "stderr",
     "output_type": "stream",
     "text": [
      "\u001b[0;34m[INFO]: \u001b[0mcombining 4 frames into master frame\n",
      "\u001b[0;34m[INFO]: \u001b[0mwriting master frame to 'lvm-marc_neon-r1.fits'\n",
      "\u001b[0;34m[INFO]: \u001b[0minput frames: /home/mejia/Research/lvm/lvmdata/sas/sdsswork/lvm/spectro/redux/0.1.1.dev0/1111/60177/ancillary/lvm-darc-r2-00003458.fits,/home/mejia/Research/lvm/lvmdata/sas/sdsswork/lvm/spectro/redux/0.1.1.dev0/1111/60177/ancillary/lvm-darc-r2-00003457.fits,/home/mejia/Research/lvm/lvmdata/sas/sdsswork/lvm/spectro/redux/0.1.1.dev0/1111/60177/ancillary/lvm-darc-r2-00003459.fits,/home/mejia/Research/lvm/lvmdata/sas/sdsswork/lvm/spectro/redux/0.1.1.dev0/1111/60177/ancillary/lvm-darc-r2-00003460.fits\n"
     ]
    },
    {
     "name": "stdout",
     "output_type": "stream",
     "text": [
      "    hemi  tileid    mjd   rmjd imagetyp spec camera  expnum  exptime  neon   hgne  krypton  xenon  argon   ldls  quartz    quality  qual  stage  status  drpqual                    name\n",
      "199    s    1111  60177  60177      arc  sp2     r2    3458     10.0  True  False    False  False  False  False   False  excellent     0      1       0        0  sdR-s-r2-00003458.fits\n",
      "309    s    1111  60177  60177      arc  sp2     r2    3457     10.0  True  False    False  False  False  False   False  excellent     0      1       0        0  sdR-s-r2-00003457.fits\n",
      "372    s    1111  60177  60177      arc  sp2     r2    3459    150.0  True  False    False  False  False  False   False  excellent     0      1       0        0  sdR-s-r2-00003459.fits\n",
      "377    s    1111  60177  60177      arc  sp2     r2    3460    150.0  True  False    False  False  False  False   False  excellent     0      1       0        0  sdR-s-r2-00003460.fits\n"
     ]
    },
    {
     "name": "stderr",
     "output_type": "stream",
     "text": [
      "\u001b[0;34m[INFO]: \u001b[0mcombining 4 frames into master frame\n",
      "\u001b[0;34m[INFO]: \u001b[0mwriting master frame to 'lvm-marc_neon-r2.fits'\n",
      "\u001b[1;33m[WARNING]: \u001b[0m\u001b[0;39moverflow encountered in cast\u001b[0m \u001b[0;36m(RuntimeWarning)\u001b[0m\n",
      "\u001b[1;33m[WARNING]: \u001b[0m\u001b[0;39mdivide by zero encountered in divide\u001b[0m \u001b[0;36m(RuntimeWarning)\u001b[0m\n",
      "\u001b[0;34m[INFO]: \u001b[0minput frames: /home/mejia/Research/lvm/lvmdata/sas/sdsswork/lvm/spectro/redux/0.1.1.dev0/1111/60177/ancillary/lvm-darc-r3-00003457.fits,/home/mejia/Research/lvm/lvmdata/sas/sdsswork/lvm/spectro/redux/0.1.1.dev0/1111/60177/ancillary/lvm-darc-r3-00003460.fits,/home/mejia/Research/lvm/lvmdata/sas/sdsswork/lvm/spectro/redux/0.1.1.dev0/1111/60177/ancillary/lvm-darc-r3-00003459.fits,/home/mejia/Research/lvm/lvmdata/sas/sdsswork/lvm/spectro/redux/0.1.1.dev0/1111/60177/ancillary/lvm-darc-r3-00003458.fits\n"
     ]
    },
    {
     "name": "stdout",
     "output_type": "stream",
     "text": [
      "    hemi  tileid    mjd   rmjd imagetyp spec camera  expnum  exptime  neon   hgne  krypton  xenon  argon   ldls  quartz    quality  qual  stage  status  drpqual                    name\n",
      "151    s    1111  60177  60177      arc  sp3     r3    3457     10.0  True  False    False  False  False  False   False  excellent     0      1       0        0  sdR-s-r3-00003457.fits\n",
      "337    s    1111  60177  60177      arc  sp3     r3    3460    150.0  True  False    False  False  False  False   False  excellent     0      1       0        0  sdR-s-r3-00003460.fits\n",
      "452    s    1111  60177  60177      arc  sp3     r3    3459    150.0  True  False    False  False  False  False   False  excellent     0      1       0        0  sdR-s-r3-00003459.fits\n",
      "473    s    1111  60177  60177      arc  sp3     r3    3458     10.0  True  False    False  False  False  False   False  excellent     0      1       0        0  sdR-s-r3-00003458.fits\n"
     ]
    },
    {
     "name": "stderr",
     "output_type": "stream",
     "text": [
      "\u001b[0;34m[INFO]: \u001b[0mcombining 4 frames into master frame\n",
      "\u001b[0;34m[INFO]: \u001b[0mwriting master frame to 'lvm-marc_neon-r3.fits'\n",
      "\u001b[0;34m[INFO]: \u001b[0minput frames: /home/mejia/Research/lvm/lvmdata/sas/sdsswork/lvm/spectro/redux/0.1.1.dev0/1111/60177/ancillary/lvm-darc-z1-00003459.fits,/home/mejia/Research/lvm/lvmdata/sas/sdsswork/lvm/spectro/redux/0.1.1.dev0/1111/60177/ancillary/lvm-darc-z1-00003458.fits,/home/mejia/Research/lvm/lvmdata/sas/sdsswork/lvm/spectro/redux/0.1.1.dev0/1111/60177/ancillary/lvm-darc-z1-00003460.fits,/home/mejia/Research/lvm/lvmdata/sas/sdsswork/lvm/spectro/redux/0.1.1.dev0/1111/60177/ancillary/lvm-darc-z1-00003457.fits\n"
     ]
    },
    {
     "name": "stdout",
     "output_type": "stream",
     "text": [
      "    hemi  tileid    mjd   rmjd imagetyp spec camera  expnum  exptime  neon   hgne  krypton  xenon  argon   ldls  quartz    quality  qual  stage  status  drpqual                    name\n",
      "370    s    1111  60177  60177      arc  sp1     z1    3459    150.0  True  False    False  False  False  False   False  excellent     0      1       0        0  sdR-s-z1-00003459.fits\n",
      "402    s    1111  60177  60177      arc  sp1     z1    3458     10.0  True  False    False  False  False  False   False  excellent     0      1       0        0  sdR-s-z1-00003458.fits\n",
      "442    s    1111  60177  60177      arc  sp1     z1    3460    150.0  True  False    False  False  False  False   False  excellent     0      1       0        0  sdR-s-z1-00003460.fits\n",
      "444    s    1111  60177  60177      arc  sp1     z1    3457     10.0  True  False    False  False  False  False   False  excellent     0      1       0        0  sdR-s-z1-00003457.fits\n"
     ]
    },
    {
     "name": "stderr",
     "output_type": "stream",
     "text": [
      "\u001b[0;34m[INFO]: \u001b[0mcombining 4 frames into master frame\n",
      "\u001b[0;34m[INFO]: \u001b[0mwriting master frame to 'lvm-marc_neon-z1.fits'\n",
      "\u001b[0;34m[INFO]: \u001b[0minput frames: /home/mejia/Research/lvm/lvmdata/sas/sdsswork/lvm/spectro/redux/0.1.1.dev0/1111/60177/ancillary/lvm-darc-z2-00003458.fits,/home/mejia/Research/lvm/lvmdata/sas/sdsswork/lvm/spectro/redux/0.1.1.dev0/1111/60177/ancillary/lvm-darc-z2-00003460.fits,/home/mejia/Research/lvm/lvmdata/sas/sdsswork/lvm/spectro/redux/0.1.1.dev0/1111/60177/ancillary/lvm-darc-z2-00003457.fits,/home/mejia/Research/lvm/lvmdata/sas/sdsswork/lvm/spectro/redux/0.1.1.dev0/1111/60177/ancillary/lvm-darc-z2-00003459.fits\n"
     ]
    },
    {
     "name": "stdout",
     "output_type": "stream",
     "text": [
      "    hemi  tileid    mjd   rmjd imagetyp spec camera  expnum  exptime  neon   hgne  krypton  xenon  argon   ldls  quartz    quality  qual  stage  status  drpqual                    name\n",
      "82     s    1111  60177  60177      arc  sp2     z2    3458     10.0  True  False    False  False  False  False   False  excellent     0      1       0        0  sdR-s-z2-00003458.fits\n",
      "96     s    1111  60177  60177      arc  sp2     z2    3460    150.0  True  False    False  False  False  False   False  excellent     0      1       0        0  sdR-s-z2-00003460.fits\n",
      "406    s    1111  60177  60177      arc  sp2     z2    3457     10.0  True  False    False  False  False  False   False  excellent     0      1       0        0  sdR-s-z2-00003457.fits\n",
      "430    s    1111  60177  60177      arc  sp2     z2    3459    150.0  True  False    False  False  False  False   False  excellent     0      1       0        0  sdR-s-z2-00003459.fits\n"
     ]
    },
    {
     "name": "stderr",
     "output_type": "stream",
     "text": [
      "\u001b[0;34m[INFO]: \u001b[0mcombining 4 frames into master frame\n",
      "\u001b[0;34m[INFO]: \u001b[0mwriting master frame to 'lvm-marc_neon-z2.fits'\n",
      "\u001b[0;34m[INFO]: \u001b[0minput frames: /home/mejia/Research/lvm/lvmdata/sas/sdsswork/lvm/spectro/redux/0.1.1.dev0/1111/60177/ancillary/lvm-darc-z3-00003459.fits,/home/mejia/Research/lvm/lvmdata/sas/sdsswork/lvm/spectro/redux/0.1.1.dev0/1111/60177/ancillary/lvm-darc-z3-00003458.fits,/home/mejia/Research/lvm/lvmdata/sas/sdsswork/lvm/spectro/redux/0.1.1.dev0/1111/60177/ancillary/lvm-darc-z3-00003460.fits,/home/mejia/Research/lvm/lvmdata/sas/sdsswork/lvm/spectro/redux/0.1.1.dev0/1111/60177/ancillary/lvm-darc-z3-00003457.fits\n"
     ]
    },
    {
     "name": "stdout",
     "output_type": "stream",
     "text": [
      "    hemi  tileid    mjd   rmjd imagetyp spec camera  expnum  exptime  neon   hgne  krypton  xenon  argon   ldls  quartz    quality  qual  stage  status  drpqual                    name\n",
      "38     s    1111  60177  60177      arc  sp3     z3    3459    150.0  True  False    False  False  False  False   False  excellent     0      1       0        0  sdR-s-z3-00003459.fits\n",
      "105    s    1111  60177  60177      arc  sp3     z3    3458     10.0  True  False    False  False  False  False   False  excellent     0      1       0        0  sdR-s-z3-00003458.fits\n",
      "395    s    1111  60177  60177      arc  sp3     z3    3460    150.0  True  False    False  False  False  False   False  excellent     0      1       0        0  sdR-s-z3-00003460.fits\n",
      "477    s    1111  60177  60177      arc  sp3     z3    3457     10.0  True  False    False  False  False  False   False  excellent     0      1       0        0  sdR-s-z3-00003457.fits\n"
     ]
    },
    {
     "name": "stderr",
     "output_type": "stream",
     "text": [
      "\u001b[0;34m[INFO]: \u001b[0mcombining 4 frames into master frame\n",
      "\u001b[0;34m[INFO]: \u001b[0mwriting master frame to 'lvm-marc_neon-z3.fits'\n",
      "\u001b[0;34m[INFO]: \u001b[0minput frames: /home/mejia/Research/lvm/lvmdata/sas/sdsswork/lvm/spectro/redux/0.1.1.dev0/1111/60177/ancillary/lvm-darc-b1-00003463.fits,/home/mejia/Research/lvm/lvmdata/sas/sdsswork/lvm/spectro/redux/0.1.1.dev0/1111/60177/ancillary/lvm-darc-b1-00003462.fits,/home/mejia/Research/lvm/lvmdata/sas/sdsswork/lvm/spectro/redux/0.1.1.dev0/1111/60177/ancillary/lvm-darc-b1-00003464.fits,/home/mejia/Research/lvm/lvmdata/sas/sdsswork/lvm/spectro/redux/0.1.1.dev0/1111/60177/ancillary/lvm-darc-b1-00003461.fits\n"
     ]
    },
    {
     "name": "stdout",
     "output_type": "stream",
     "text": [
      "    hemi  tileid    mjd   rmjd imagetyp spec camera  expnum  exptime   neon  hgne  krypton  xenon  argon   ldls  quartz    quality  qual  stage  status  drpqual                    name\n",
      "107    s    1111  60177  60177      arc  sp1     b1    3463    150.0  False  True    False  False  False  False   False  excellent     0      1       0        0  sdR-s-b1-00003463.fits\n",
      "252    s    1111  60177  60177      arc  sp1     b1    3462     10.0  False  True    False  False  False  False   False  excellent     0      1       0        0  sdR-s-b1-00003462.fits\n",
      "334    s    1111  60177  60177      arc  sp1     b1    3464    150.0  False  True    False  False  False  False   False  excellent     0      1       0        0  sdR-s-b1-00003464.fits\n",
      "390    s    1111  60177  60177      arc  sp1     b1    3461     10.0  False  True    False  False  False  False   False  excellent     0      1       0        0  sdR-s-b1-00003461.fits\n"
     ]
    },
    {
     "name": "stderr",
     "output_type": "stream",
     "text": [
      "\u001b[0;34m[INFO]: \u001b[0mcombining 4 frames into master frame\n",
      "\u001b[0;34m[INFO]: \u001b[0mwriting master frame to 'lvm-marc_hgne-b1.fits'\n",
      "\u001b[0;34m[INFO]: \u001b[0minput frames: /home/mejia/Research/lvm/lvmdata/sas/sdsswork/lvm/spectro/redux/0.1.1.dev0/1111/60177/ancillary/lvm-darc-b2-00003462.fits,/home/mejia/Research/lvm/lvmdata/sas/sdsswork/lvm/spectro/redux/0.1.1.dev0/1111/60177/ancillary/lvm-darc-b2-00003464.fits,/home/mejia/Research/lvm/lvmdata/sas/sdsswork/lvm/spectro/redux/0.1.1.dev0/1111/60177/ancillary/lvm-darc-b2-00003463.fits,/home/mejia/Research/lvm/lvmdata/sas/sdsswork/lvm/spectro/redux/0.1.1.dev0/1111/60177/ancillary/lvm-darc-b2-00003461.fits\n"
     ]
    },
    {
     "name": "stdout",
     "output_type": "stream",
     "text": [
      "    hemi  tileid    mjd   rmjd imagetyp spec camera  expnum  exptime   neon  hgne  krypton  xenon  argon   ldls  quartz    quality  qual  stage  status  drpqual                    name\n",
      "64     s    1111  60177  60177      arc  sp2     b2    3462     10.0  False  True    False  False  False  False   False  excellent     0      1       0        0  sdR-s-b2-00003462.fits\n",
      "178    s    1111  60177  60177      arc  sp2     b2    3464    150.0  False  True    False  False  False  False   False  excellent     0      1       0        0  sdR-s-b2-00003464.fits\n",
      "219    s    1111  60177  60177      arc  sp2     b2    3463    150.0  False  True    False  False  False  False   False  excellent     0      1       0        0  sdR-s-b2-00003463.fits\n",
      "311    s    1111  60177  60177      arc  sp2     b2    3461     10.0  False  True    False  False  False  False   False  excellent     0      1       0        0  sdR-s-b2-00003461.fits\n"
     ]
    },
    {
     "name": "stderr",
     "output_type": "stream",
     "text": [
      "\u001b[0;34m[INFO]: \u001b[0mcombining 4 frames into master frame\n",
      "\u001b[0;34m[INFO]: \u001b[0mwriting master frame to 'lvm-marc_hgne-b2.fits'\n",
      "\u001b[0;34m[INFO]: \u001b[0minput frames: /home/mejia/Research/lvm/lvmdata/sas/sdsswork/lvm/spectro/redux/0.1.1.dev0/1111/60177/ancillary/lvm-darc-b3-00003463.fits,/home/mejia/Research/lvm/lvmdata/sas/sdsswork/lvm/spectro/redux/0.1.1.dev0/1111/60177/ancillary/lvm-darc-b3-00003461.fits,/home/mejia/Research/lvm/lvmdata/sas/sdsswork/lvm/spectro/redux/0.1.1.dev0/1111/60177/ancillary/lvm-darc-b3-00003462.fits,/home/mejia/Research/lvm/lvmdata/sas/sdsswork/lvm/spectro/redux/0.1.1.dev0/1111/60177/ancillary/lvm-darc-b3-00003464.fits\n"
     ]
    },
    {
     "name": "stdout",
     "output_type": "stream",
     "text": [
      "    hemi  tileid    mjd   rmjd imagetyp spec camera  expnum  exptime   neon  hgne  krypton  xenon  argon   ldls  quartz    quality  qual  stage  status  drpqual                    name\n",
      "71     s    1111  60177  60177      arc  sp3     b3    3463    150.0  False  True    False  False  False  False   False  excellent     0      1       0        0  sdR-s-b3-00003463.fits\n",
      "184    s    1111  60177  60177      arc  sp3     b3    3461     10.0  False  True    False  False  False  False   False  excellent     0      1       0        0  sdR-s-b3-00003461.fits\n",
      "425    s    1111  60177  60177      arc  sp3     b3    3462     10.0  False  True    False  False  False  False   False  excellent     0      1       0        0  sdR-s-b3-00003462.fits\n",
      "506    s    1111  60177  60177      arc  sp3     b3    3464    150.0  False  True    False  False  False  False   False  excellent     0      1       0        0  sdR-s-b3-00003464.fits\n"
     ]
    },
    {
     "name": "stderr",
     "output_type": "stream",
     "text": [
      "\u001b[0;34m[INFO]: \u001b[0mcombining 4 frames into master frame\n",
      "\u001b[0;34m[INFO]: \u001b[0mwriting master frame to 'lvm-marc_hgne-b3.fits'\n",
      "\u001b[0;34m[INFO]: \u001b[0minput frames: /home/mejia/Research/lvm/lvmdata/sas/sdsswork/lvm/spectro/redux/0.1.1.dev0/1111/60177/ancillary/lvm-darc-r1-00003462.fits,/home/mejia/Research/lvm/lvmdata/sas/sdsswork/lvm/spectro/redux/0.1.1.dev0/1111/60177/ancillary/lvm-darc-r1-00003461.fits,/home/mejia/Research/lvm/lvmdata/sas/sdsswork/lvm/spectro/redux/0.1.1.dev0/1111/60177/ancillary/lvm-darc-r1-00003464.fits,/home/mejia/Research/lvm/lvmdata/sas/sdsswork/lvm/spectro/redux/0.1.1.dev0/1111/60177/ancillary/lvm-darc-r1-00003463.fits\n"
     ]
    },
    {
     "name": "stdout",
     "output_type": "stream",
     "text": [
      "    hemi  tileid    mjd   rmjd imagetyp spec camera  expnum  exptime   neon  hgne  krypton  xenon  argon   ldls  quartz    quality  qual  stage  status  drpqual                    name\n",
      "84     s    1111  60177  60177      arc  sp1     r1    3462     10.0  False  True    False  False  False  False   False  excellent     0      1       0        0  sdR-s-r1-00003462.fits\n",
      "195    s    1111  60177  60177      arc  sp1     r1    3461     10.0  False  True    False  False  False  False   False  excellent     0      1       0        0  sdR-s-r1-00003461.fits\n",
      "239    s    1111  60177  60177      arc  sp1     r1    3464    150.0  False  True    False  False  False  False   False  excellent     0      1       0        0  sdR-s-r1-00003464.fits\n",
      "304    s    1111  60177  60177      arc  sp1     r1    3463    150.0  False  True    False  False  False  False   False  excellent     0      1       0        0  sdR-s-r1-00003463.fits\n"
     ]
    },
    {
     "name": "stderr",
     "output_type": "stream",
     "text": [
      "\u001b[0;34m[INFO]: \u001b[0mcombining 4 frames into master frame\n",
      "\u001b[0;34m[INFO]: \u001b[0mwriting master frame to 'lvm-marc_hgne-r1.fits'\n",
      "\u001b[0;34m[INFO]: \u001b[0minput frames: /home/mejia/Research/lvm/lvmdata/sas/sdsswork/lvm/spectro/redux/0.1.1.dev0/1111/60177/ancillary/lvm-darc-r2-00003464.fits,/home/mejia/Research/lvm/lvmdata/sas/sdsswork/lvm/spectro/redux/0.1.1.dev0/1111/60177/ancillary/lvm-darc-r2-00003461.fits,/home/mejia/Research/lvm/lvmdata/sas/sdsswork/lvm/spectro/redux/0.1.1.dev0/1111/60177/ancillary/lvm-darc-r2-00003462.fits,/home/mejia/Research/lvm/lvmdata/sas/sdsswork/lvm/spectro/redux/0.1.1.dev0/1111/60177/ancillary/lvm-darc-r2-00003463.fits\n"
     ]
    },
    {
     "name": "stdout",
     "output_type": "stream",
     "text": [
      "    hemi  tileid    mjd   rmjd imagetyp spec camera  expnum  exptime   neon  hgne  krypton  xenon  argon   ldls  quartz    quality  qual  stage  status  drpqual                    name\n",
      "28     s    1111  60177  60177      arc  sp2     r2    3464    150.0  False  True    False  False  False  False   False  excellent     0      1       0        0  sdR-s-r2-00003464.fits\n",
      "221    s    1111  60177  60177      arc  sp2     r2    3461     10.0  False  True    False  False  False  False   False  excellent     0      1       0        0  sdR-s-r2-00003461.fits\n",
      "268    s    1111  60177  60177      arc  sp2     r2    3462     10.0  False  True    False  False  False  False   False  excellent     0      1       0        0  sdR-s-r2-00003462.fits\n",
      "440    s    1111  60177  60177      arc  sp2     r2    3463    150.0  False  True    False  False  False  False   False  excellent     0      1       0        0  sdR-s-r2-00003463.fits\n"
     ]
    },
    {
     "name": "stderr",
     "output_type": "stream",
     "text": [
      "\u001b[0;34m[INFO]: \u001b[0mcombining 4 frames into master frame\n",
      "\u001b[0;34m[INFO]: \u001b[0mwriting master frame to 'lvm-marc_hgne-r2.fits'\n",
      "\u001b[1;33m[WARNING]: \u001b[0m\u001b[0;39moverflow encountered in cast\u001b[0m \u001b[0;36m(RuntimeWarning)\u001b[0m\n",
      "\u001b[1;33m[WARNING]: \u001b[0m\u001b[0;39mdivide by zero encountered in divide\u001b[0m \u001b[0;36m(RuntimeWarning)\u001b[0m\n",
      "\u001b[0;34m[INFO]: \u001b[0minput frames: /home/mejia/Research/lvm/lvmdata/sas/sdsswork/lvm/spectro/redux/0.1.1.dev0/1111/60177/ancillary/lvm-darc-r3-00003461.fits,/home/mejia/Research/lvm/lvmdata/sas/sdsswork/lvm/spectro/redux/0.1.1.dev0/1111/60177/ancillary/lvm-darc-r3-00003463.fits,/home/mejia/Research/lvm/lvmdata/sas/sdsswork/lvm/spectro/redux/0.1.1.dev0/1111/60177/ancillary/lvm-darc-r3-00003464.fits,/home/mejia/Research/lvm/lvmdata/sas/sdsswork/lvm/spectro/redux/0.1.1.dev0/1111/60177/ancillary/lvm-darc-r3-00003462.fits\n"
     ]
    },
    {
     "name": "stdout",
     "output_type": "stream",
     "text": [
      "    hemi  tileid    mjd   rmjd imagetyp spec camera  expnum  exptime   neon  hgne  krypton  xenon  argon   ldls  quartz    quality  qual  stage  status  drpqual                    name\n",
      "35     s    1111  60177  60177      arc  sp3     r3    3461     10.0  False  True    False  False  False  False   False  excellent     0      1       0        0  sdR-s-r3-00003461.fits\n",
      "125    s    1111  60177  60177      arc  sp3     r3    3463    150.0  False  True    False  False  False  False   False  excellent     0      1       0        0  sdR-s-r3-00003463.fits\n",
      "160    s    1111  60177  60177      arc  sp3     r3    3464    150.0  False  True    False  False  False  False   False  excellent     0      1       0        0  sdR-s-r3-00003464.fits\n",
      "202    s    1111  60177  60177      arc  sp3     r3    3462     10.0  False  True    False  False  False  False   False  excellent     0      1       0        0  sdR-s-r3-00003462.fits\n"
     ]
    },
    {
     "name": "stderr",
     "output_type": "stream",
     "text": [
      "\u001b[0;34m[INFO]: \u001b[0mcombining 4 frames into master frame\n",
      "\u001b[0;34m[INFO]: \u001b[0mwriting master frame to 'lvm-marc_hgne-r3.fits'\n",
      "\u001b[0;34m[INFO]: \u001b[0minput frames: /home/mejia/Research/lvm/lvmdata/sas/sdsswork/lvm/spectro/redux/0.1.1.dev0/1111/60177/ancillary/lvm-darc-z1-00003463.fits,/home/mejia/Research/lvm/lvmdata/sas/sdsswork/lvm/spectro/redux/0.1.1.dev0/1111/60177/ancillary/lvm-darc-z1-00003461.fits,/home/mejia/Research/lvm/lvmdata/sas/sdsswork/lvm/spectro/redux/0.1.1.dev0/1111/60177/ancillary/lvm-darc-z1-00003462.fits,/home/mejia/Research/lvm/lvmdata/sas/sdsswork/lvm/spectro/redux/0.1.1.dev0/1111/60177/ancillary/lvm-darc-z1-00003464.fits\n"
     ]
    },
    {
     "name": "stdout",
     "output_type": "stream",
     "text": [
      "    hemi  tileid    mjd   rmjd imagetyp spec camera  expnum  exptime   neon  hgne  krypton  xenon  argon   ldls  quartz    quality  qual  stage  status  drpqual                    name\n",
      "4      s    1111  60177  60177      arc  sp1     z1    3463    150.0  False  True    False  False  False  False   False  excellent     0      1       0        0  sdR-s-z1-00003463.fits\n",
      "272    s    1111  60177  60177      arc  sp1     z1    3461     10.0  False  True    False  False  False  False   False  excellent     0      1       0        0  sdR-s-z1-00003461.fits\n",
      "301    s    1111  60177  60177      arc  sp1     z1    3462     10.0  False  True    False  False  False  False   False  excellent     0      1       0        0  sdR-s-z1-00003462.fits\n",
      "336    s    1111  60177  60177      arc  sp1     z1    3464    150.0  False  True    False  False  False  False   False  excellent     0      1       0        0  sdR-s-z1-00003464.fits\n"
     ]
    },
    {
     "name": "stderr",
     "output_type": "stream",
     "text": [
      "\u001b[0;34m[INFO]: \u001b[0mcombining 4 frames into master frame\n",
      "\u001b[0;34m[INFO]: \u001b[0mwriting master frame to 'lvm-marc_hgne-z1.fits'\n",
      "\u001b[0;34m[INFO]: \u001b[0minput frames: /home/mejia/Research/lvm/lvmdata/sas/sdsswork/lvm/spectro/redux/0.1.1.dev0/1111/60177/ancillary/lvm-darc-z2-00003464.fits,/home/mejia/Research/lvm/lvmdata/sas/sdsswork/lvm/spectro/redux/0.1.1.dev0/1111/60177/ancillary/lvm-darc-z2-00003461.fits,/home/mejia/Research/lvm/lvmdata/sas/sdsswork/lvm/spectro/redux/0.1.1.dev0/1111/60177/ancillary/lvm-darc-z2-00003463.fits,/home/mejia/Research/lvm/lvmdata/sas/sdsswork/lvm/spectro/redux/0.1.1.dev0/1111/60177/ancillary/lvm-darc-z2-00003462.fits\n"
     ]
    },
    {
     "name": "stdout",
     "output_type": "stream",
     "text": [
      "    hemi  tileid    mjd   rmjd imagetyp spec camera  expnum  exptime   neon  hgne  krypton  xenon  argon   ldls  quartz    quality  qual  stage  status  drpqual                    name\n",
      "330    s    1111  60177  60177      arc  sp2     z2    3464    150.0  False  True    False  False  False  False   False  excellent     0      1       0        0  sdR-s-z2-00003464.fits\n",
      "368    s    1111  60177  60177      arc  sp2     z2    3461     10.0  False  True    False  False  False  False   False  excellent     0      1       0        0  sdR-s-z2-00003461.fits\n",
      "396    s    1111  60177  60177      arc  sp2     z2    3463    150.0  False  True    False  False  False  False   False  excellent     0      1       0        0  sdR-s-z2-00003463.fits\n",
      "422    s    1111  60177  60177      arc  sp2     z2    3462     10.0  False  True    False  False  False  False   False  excellent     0      1       0        0  sdR-s-z2-00003462.fits\n"
     ]
    },
    {
     "name": "stderr",
     "output_type": "stream",
     "text": [
      "\u001b[0;34m[INFO]: \u001b[0mcombining 4 frames into master frame\n",
      "\u001b[0;34m[INFO]: \u001b[0mwriting master frame to 'lvm-marc_hgne-z2.fits'\n",
      "\u001b[0;34m[INFO]: \u001b[0minput frames: /home/mejia/Research/lvm/lvmdata/sas/sdsswork/lvm/spectro/redux/0.1.1.dev0/1111/60177/ancillary/lvm-darc-z3-00003463.fits,/home/mejia/Research/lvm/lvmdata/sas/sdsswork/lvm/spectro/redux/0.1.1.dev0/1111/60177/ancillary/lvm-darc-z3-00003462.fits,/home/mejia/Research/lvm/lvmdata/sas/sdsswork/lvm/spectro/redux/0.1.1.dev0/1111/60177/ancillary/lvm-darc-z3-00003461.fits,/home/mejia/Research/lvm/lvmdata/sas/sdsswork/lvm/spectro/redux/0.1.1.dev0/1111/60177/ancillary/lvm-darc-z3-00003464.fits\n"
     ]
    },
    {
     "name": "stdout",
     "output_type": "stream",
     "text": [
      "    hemi  tileid    mjd   rmjd imagetyp spec camera  expnum  exptime   neon  hgne  krypton  xenon  argon   ldls  quartz    quality  qual  stage  status  drpqual                    name\n",
      "26     s    1111  60177  60177      arc  sp3     z3    3463    150.0  False  True    False  False  False  False   False  excellent     0      1       0        0  sdR-s-z3-00003463.fits\n",
      "289    s    1111  60177  60177      arc  sp3     z3    3462     10.0  False  True    False  False  False  False   False  excellent     0      1       0        0  sdR-s-z3-00003462.fits\n",
      "428    s    1111  60177  60177      arc  sp3     z3    3461     10.0  False  True    False  False  False  False   False  excellent     0      1       0        0  sdR-s-z3-00003461.fits\n",
      "460    s    1111  60177  60177      arc  sp3     z3    3464    150.0  False  True    False  False  False  False   False  excellent     0      1       0        0  sdR-s-z3-00003464.fits\n"
     ]
    },
    {
     "name": "stderr",
     "output_type": "stream",
     "text": [
      "\u001b[0;34m[INFO]: \u001b[0mcombining 4 frames into master frame\n",
      "\u001b[0;34m[INFO]: \u001b[0mwriting master frame to 'lvm-marc_hgne-z3.fits'\n",
      "\u001b[0;34m[INFO]: \u001b[0minput frames: /home/mejia/Research/lvm/lvmdata/sas/sdsswork/lvm/spectro/redux/0.1.1.dev0/1111/60177/ancillary/lvm-darc-b1-00003456.fits,/home/mejia/Research/lvm/lvmdata/sas/sdsswork/lvm/spectro/redux/0.1.1.dev0/1111/60177/ancillary/lvm-darc-b1-00003454.fits,/home/mejia/Research/lvm/lvmdata/sas/sdsswork/lvm/spectro/redux/0.1.1.dev0/1111/60177/ancillary/lvm-darc-b1-00003453.fits,/home/mejia/Research/lvm/lvmdata/sas/sdsswork/lvm/spectro/redux/0.1.1.dev0/1111/60177/ancillary/lvm-darc-b1-00003455.fits\n"
     ]
    },
    {
     "name": "stdout",
     "output_type": "stream",
     "text": [
      "    hemi  tileid    mjd   rmjd imagetyp spec camera  expnum  exptime   neon   hgne  krypton  xenon  argon   ldls  quartz    quality  qual  stage  status  drpqual                    name\n",
      "182    s    1111  60177  60177      arc  sp1     b1    3456     50.0  False  False    False  False   True  False   False  excellent     0      1       0        0  sdR-s-b1-00003456.fits\n",
      "203    s    1111  60177  60177      arc  sp1     b1    3454     10.0  False  False    False  False   True  False   False  excellent     0      1       0        0  sdR-s-b1-00003454.fits\n",
      "281    s    1111  60177  60177      arc  sp1     b1    3453     10.0  False  False    False  False   True  False   False  excellent     0      1       0        0  sdR-s-b1-00003453.fits\n",
      "466    s    1111  60177  60177      arc  sp1     b1    3455     50.0  False  False    False  False   True  False   False  excellent     0      1       0        0  sdR-s-b1-00003455.fits\n"
     ]
    },
    {
     "name": "stderr",
     "output_type": "stream",
     "text": [
      "\u001b[0;34m[INFO]: \u001b[0mcombining 4 frames into master frame\n",
      "\u001b[0;34m[INFO]: \u001b[0mwriting master frame to 'lvm-marc_argon-b1.fits'\n",
      "\u001b[0;34m[INFO]: \u001b[0minput frames: /home/mejia/Research/lvm/lvmdata/sas/sdsswork/lvm/spectro/redux/0.1.1.dev0/1111/60177/ancillary/lvm-darc-b2-00003456.fits,/home/mejia/Research/lvm/lvmdata/sas/sdsswork/lvm/spectro/redux/0.1.1.dev0/1111/60177/ancillary/lvm-darc-b2-00003454.fits,/home/mejia/Research/lvm/lvmdata/sas/sdsswork/lvm/spectro/redux/0.1.1.dev0/1111/60177/ancillary/lvm-darc-b2-00003453.fits,/home/mejia/Research/lvm/lvmdata/sas/sdsswork/lvm/spectro/redux/0.1.1.dev0/1111/60177/ancillary/lvm-darc-b2-00003455.fits\n"
     ]
    },
    {
     "name": "stdout",
     "output_type": "stream",
     "text": [
      "    hemi  tileid    mjd   rmjd imagetyp spec camera  expnum  exptime   neon   hgne  krypton  xenon  argon   ldls  quartz    quality  qual  stage  status  drpqual                    name\n",
      "206    s    1111  60177  60177      arc  sp2     b2    3456     50.0  False  False    False  False   True  False   False  excellent     0      1       0        0  sdR-s-b2-00003456.fits\n",
      "240    s    1111  60177  60177      arc  sp2     b2    3454     10.0  False  False    False  False   True  False   False  excellent     0      1       0        0  sdR-s-b2-00003454.fits\n",
      "453    s    1111  60177  60177      arc  sp2     b2    3453     10.0  False  False    False  False   True  False   False  excellent     0      1       0        0  sdR-s-b2-00003453.fits\n",
      "455    s    1111  60177  60177      arc  sp2     b2    3455     50.0  False  False    False  False   True  False   False  excellent     0      1       0        0  sdR-s-b2-00003455.fits\n"
     ]
    },
    {
     "name": "stderr",
     "output_type": "stream",
     "text": [
      "\u001b[0;34m[INFO]: \u001b[0mcombining 4 frames into master frame\n",
      "\u001b[0;34m[INFO]: \u001b[0mwriting master frame to 'lvm-marc_argon-b2.fits'\n",
      "\u001b[0;34m[INFO]: \u001b[0minput frames: /home/mejia/Research/lvm/lvmdata/sas/sdsswork/lvm/spectro/redux/0.1.1.dev0/1111/60177/ancillary/lvm-darc-b3-00003455.fits,/home/mejia/Research/lvm/lvmdata/sas/sdsswork/lvm/spectro/redux/0.1.1.dev0/1111/60177/ancillary/lvm-darc-b3-00003453.fits,/home/mejia/Research/lvm/lvmdata/sas/sdsswork/lvm/spectro/redux/0.1.1.dev0/1111/60177/ancillary/lvm-darc-b3-00003456.fits,/home/mejia/Research/lvm/lvmdata/sas/sdsswork/lvm/spectro/redux/0.1.1.dev0/1111/60177/ancillary/lvm-darc-b3-00003454.fits\n"
     ]
    },
    {
     "name": "stdout",
     "output_type": "stream",
     "text": [
      "    hemi  tileid    mjd   rmjd imagetyp spec camera  expnum  exptime   neon   hgne  krypton  xenon  argon   ldls  quartz    quality  qual  stage  status  drpqual                    name\n",
      "14     s    1111  60177  60177      arc  sp3     b3    3455     50.0  False  False    False  False   True  False   False  excellent     0      1       0        0  sdR-s-b3-00003455.fits\n",
      "290    s    1111  60177  60177      arc  sp3     b3    3453     10.0  False  False    False  False   True  False   False  excellent     0      1       0        0  sdR-s-b3-00003453.fits\n",
      "307    s    1111  60177  60177      arc  sp3     b3    3456     50.0  False  False    False  False   True  False   False  excellent     0      1       0        0  sdR-s-b3-00003456.fits\n",
      "388    s    1111  60177  60177      arc  sp3     b3    3454     10.0  False  False    False  False   True  False   False  excellent     0      1       0        0  sdR-s-b3-00003454.fits\n"
     ]
    },
    {
     "name": "stderr",
     "output_type": "stream",
     "text": [
      "\u001b[0;34m[INFO]: \u001b[0mcombining 4 frames into master frame\n",
      "\u001b[0;34m[INFO]: \u001b[0mwriting master frame to 'lvm-marc_argon-b3.fits'\n",
      "\u001b[0;34m[INFO]: \u001b[0minput frames: /home/mejia/Research/lvm/lvmdata/sas/sdsswork/lvm/spectro/redux/0.1.1.dev0/1111/60177/ancillary/lvm-darc-r1-00003454.fits,/home/mejia/Research/lvm/lvmdata/sas/sdsswork/lvm/spectro/redux/0.1.1.dev0/1111/60177/ancillary/lvm-darc-r1-00003455.fits,/home/mejia/Research/lvm/lvmdata/sas/sdsswork/lvm/spectro/redux/0.1.1.dev0/1111/60177/ancillary/lvm-darc-r1-00003456.fits,/home/mejia/Research/lvm/lvmdata/sas/sdsswork/lvm/spectro/redux/0.1.1.dev0/1111/60177/ancillary/lvm-darc-r1-00003453.fits\n"
     ]
    },
    {
     "name": "stdout",
     "output_type": "stream",
     "text": [
      "    hemi  tileid    mjd   rmjd imagetyp spec camera  expnum  exptime   neon   hgne  krypton  xenon  argon   ldls  quartz    quality  qual  stage  status  drpqual                    name\n",
      "16     s    1111  60177  60177      arc  sp1     r1    3454     10.0  False  False    False  False   True  False   False  excellent     0      1       0        0  sdR-s-r1-00003454.fits\n",
      "136    s    1111  60177  60177      arc  sp1     r1    3455     50.0  False  False    False  False   True  False   False  excellent     0      1       0        0  sdR-s-r1-00003455.fits\n",
      "463    s    1111  60177  60177      arc  sp1     r1    3456     50.0  False  False    False  False   True  False   False  excellent     0      1       0        0  sdR-s-r1-00003456.fits\n",
      "475    s    1111  60177  60177      arc  sp1     r1    3453     10.0  False  False    False  False   True  False   False  excellent     0      1       0        0  sdR-s-r1-00003453.fits\n"
     ]
    },
    {
     "name": "stderr",
     "output_type": "stream",
     "text": [
      "\u001b[0;34m[INFO]: \u001b[0mcombining 4 frames into master frame\n",
      "\u001b[0;34m[INFO]: \u001b[0mwriting master frame to 'lvm-marc_argon-r1.fits'\n",
      "\u001b[0;34m[INFO]: \u001b[0minput frames: /home/mejia/Research/lvm/lvmdata/sas/sdsswork/lvm/spectro/redux/0.1.1.dev0/1111/60177/ancillary/lvm-darc-r2-00003455.fits,/home/mejia/Research/lvm/lvmdata/sas/sdsswork/lvm/spectro/redux/0.1.1.dev0/1111/60177/ancillary/lvm-darc-r2-00003456.fits,/home/mejia/Research/lvm/lvmdata/sas/sdsswork/lvm/spectro/redux/0.1.1.dev0/1111/60177/ancillary/lvm-darc-r2-00003453.fits,/home/mejia/Research/lvm/lvmdata/sas/sdsswork/lvm/spectro/redux/0.1.1.dev0/1111/60177/ancillary/lvm-darc-r2-00003454.fits\n"
     ]
    },
    {
     "name": "stdout",
     "output_type": "stream",
     "text": [
      "    hemi  tileid    mjd   rmjd imagetyp spec camera  expnum  exptime   neon   hgne  krypton  xenon  argon   ldls  quartz    quality  qual  stage  status  drpqual                    name\n",
      "68     s    1111  60177  60177      arc  sp2     r2    3455     50.0  False  False    False  False   True  False   False  excellent     0      1       0        0  sdR-s-r2-00003455.fits\n",
      "121    s    1111  60177  60177      arc  sp2     r2    3456     50.0  False  False    False  False   True  False   False  excellent     0      1       0        0  sdR-s-r2-00003456.fits\n",
      "152    s    1111  60177  60177      arc  sp2     r2    3453     10.0  False  False    False  False   True  False   False  excellent     0      1       0        0  sdR-s-r2-00003453.fits\n",
      "345    s    1111  60177  60177      arc  sp2     r2    3454     10.0  False  False    False  False   True  False   False  excellent     0      1       0        0  sdR-s-r2-00003454.fits\n"
     ]
    },
    {
     "name": "stderr",
     "output_type": "stream",
     "text": [
      "\u001b[0;34m[INFO]: \u001b[0mcombining 4 frames into master frame\n",
      "\u001b[0;34m[INFO]: \u001b[0mwriting master frame to 'lvm-marc_argon-r2.fits'\n",
      "\u001b[1;33m[WARNING]: \u001b[0m\u001b[0;39moverflow encountered in cast\u001b[0m \u001b[0;36m(RuntimeWarning)\u001b[0m\n",
      "\u001b[1;33m[WARNING]: \u001b[0m\u001b[0;39mdivide by zero encountered in divide\u001b[0m \u001b[0;36m(RuntimeWarning)\u001b[0m\n",
      "\u001b[0;34m[INFO]: \u001b[0minput frames: /home/mejia/Research/lvm/lvmdata/sas/sdsswork/lvm/spectro/redux/0.1.1.dev0/1111/60177/ancillary/lvm-darc-r3-00003456.fits,/home/mejia/Research/lvm/lvmdata/sas/sdsswork/lvm/spectro/redux/0.1.1.dev0/1111/60177/ancillary/lvm-darc-r3-00003453.fits,/home/mejia/Research/lvm/lvmdata/sas/sdsswork/lvm/spectro/redux/0.1.1.dev0/1111/60177/ancillary/lvm-darc-r3-00003455.fits,/home/mejia/Research/lvm/lvmdata/sas/sdsswork/lvm/spectro/redux/0.1.1.dev0/1111/60177/ancillary/lvm-darc-r3-00003454.fits\n"
     ]
    },
    {
     "name": "stdout",
     "output_type": "stream",
     "text": [
      "    hemi  tileid    mjd   rmjd imagetyp spec camera  expnum  exptime   neon   hgne  krypton  xenon  argon   ldls  quartz    quality  qual  stage  status  drpqual                    name\n",
      "94     s    1111  60177  60177      arc  sp3     r3    3456     50.0  False  False    False  False   True  False   False  excellent     0      1       0        0  sdR-s-r3-00003456.fits\n",
      "156    s    1111  60177  60177      arc  sp3     r3    3453     10.0  False  False    False  False   True  False   False  excellent     0      1       0        0  sdR-s-r3-00003453.fits\n",
      "480    s    1111  60177  60177      arc  sp3     r3    3455     50.0  False  False    False  False   True  False   False  excellent     0      1       0        0  sdR-s-r3-00003455.fits\n",
      "488    s    1111  60177  60177      arc  sp3     r3    3454     10.0  False  False    False  False   True  False   False  excellent     0      1       0        0  sdR-s-r3-00003454.fits\n"
     ]
    },
    {
     "name": "stderr",
     "output_type": "stream",
     "text": [
      "\u001b[0;34m[INFO]: \u001b[0mcombining 4 frames into master frame\n",
      "\u001b[0;34m[INFO]: \u001b[0mwriting master frame to 'lvm-marc_argon-r3.fits'\n",
      "\u001b[0;34m[INFO]: \u001b[0minput frames: /home/mejia/Research/lvm/lvmdata/sas/sdsswork/lvm/spectro/redux/0.1.1.dev0/1111/60177/ancillary/lvm-darc-z1-00003454.fits,/home/mejia/Research/lvm/lvmdata/sas/sdsswork/lvm/spectro/redux/0.1.1.dev0/1111/60177/ancillary/lvm-darc-z1-00003453.fits,/home/mejia/Research/lvm/lvmdata/sas/sdsswork/lvm/spectro/redux/0.1.1.dev0/1111/60177/ancillary/lvm-darc-z1-00003456.fits,/home/mejia/Research/lvm/lvmdata/sas/sdsswork/lvm/spectro/redux/0.1.1.dev0/1111/60177/ancillary/lvm-darc-z1-00003455.fits\n"
     ]
    },
    {
     "name": "stdout",
     "output_type": "stream",
     "text": [
      "    hemi  tileid    mjd   rmjd imagetyp spec camera  expnum  exptime   neon   hgne  krypton  xenon  argon   ldls  quartz    quality  qual  stage  status  drpqual                    name\n",
      "220    s    1111  60177  60177      arc  sp1     z1    3454     10.0  False  False    False  False   True  False   False  excellent     0      1       0        0  sdR-s-z1-00003454.fits\n",
      "316    s    1111  60177  60177      arc  sp1     z1    3453     10.0  False  False    False  False   True  False   False  excellent     0      1       0        0  sdR-s-z1-00003453.fits\n",
      "369    s    1111  60177  60177      arc  sp1     z1    3456     50.0  False  False    False  False   True  False   False  excellent     0      1       0        0  sdR-s-z1-00003456.fits\n",
      "376    s    1111  60177  60177      arc  sp1     z1    3455     50.0  False  False    False  False   True  False   False  excellent     0      1       0        0  sdR-s-z1-00003455.fits\n"
     ]
    },
    {
     "name": "stderr",
     "output_type": "stream",
     "text": [
      "\u001b[0;34m[INFO]: \u001b[0mcombining 4 frames into master frame\n",
      "\u001b[0;34m[INFO]: \u001b[0mwriting master frame to 'lvm-marc_argon-z1.fits'\n",
      "\u001b[0;34m[INFO]: \u001b[0minput frames: /home/mejia/Research/lvm/lvmdata/sas/sdsswork/lvm/spectro/redux/0.1.1.dev0/1111/60177/ancillary/lvm-darc-z2-00003455.fits,/home/mejia/Research/lvm/lvmdata/sas/sdsswork/lvm/spectro/redux/0.1.1.dev0/1111/60177/ancillary/lvm-darc-z2-00003456.fits,/home/mejia/Research/lvm/lvmdata/sas/sdsswork/lvm/spectro/redux/0.1.1.dev0/1111/60177/ancillary/lvm-darc-z2-00003453.fits,/home/mejia/Research/lvm/lvmdata/sas/sdsswork/lvm/spectro/redux/0.1.1.dev0/1111/60177/ancillary/lvm-darc-z2-00003454.fits\n"
     ]
    },
    {
     "name": "stdout",
     "output_type": "stream",
     "text": [
      "    hemi  tileid    mjd   rmjd imagetyp spec camera  expnum  exptime   neon   hgne  krypton  xenon  argon   ldls  quartz    quality  qual  stage  status  drpqual                    name\n",
      "111    s    1111  60177  60177      arc  sp2     z2    3455     50.0  False  False    False  False   True  False   False  excellent     0      1       0        0  sdR-s-z2-00003455.fits\n",
      "193    s    1111  60177  60177      arc  sp2     z2    3456     50.0  False  False    False  False   True  False   False  excellent     0      1       0        0  sdR-s-z2-00003456.fits\n",
      "260    s    1111  60177  60177      arc  sp2     z2    3453     10.0  False  False    False  False   True  False   False  excellent     0      1       0        0  sdR-s-z2-00003453.fits\n",
      "465    s    1111  60177  60177      arc  sp2     z2    3454     10.0  False  False    False  False   True  False   False  excellent     0      1       0        0  sdR-s-z2-00003454.fits\n"
     ]
    },
    {
     "name": "stderr",
     "output_type": "stream",
     "text": [
      "\u001b[0;34m[INFO]: \u001b[0mcombining 4 frames into master frame\n",
      "\u001b[0;34m[INFO]: \u001b[0mwriting master frame to 'lvm-marc_argon-z2.fits'\n",
      "\u001b[0;34m[INFO]: \u001b[0minput frames: /home/mejia/Research/lvm/lvmdata/sas/sdsswork/lvm/spectro/redux/0.1.1.dev0/1111/60177/ancillary/lvm-darc-z3-00003455.fits,/home/mejia/Research/lvm/lvmdata/sas/sdsswork/lvm/spectro/redux/0.1.1.dev0/1111/60177/ancillary/lvm-darc-z3-00003453.fits,/home/mejia/Research/lvm/lvmdata/sas/sdsswork/lvm/spectro/redux/0.1.1.dev0/1111/60177/ancillary/lvm-darc-z3-00003456.fits,/home/mejia/Research/lvm/lvmdata/sas/sdsswork/lvm/spectro/redux/0.1.1.dev0/1111/60177/ancillary/lvm-darc-z3-00003454.fits\n"
     ]
    },
    {
     "name": "stdout",
     "output_type": "stream",
     "text": [
      "    hemi  tileid    mjd   rmjd imagetyp spec camera  expnum  exptime   neon   hgne  krypton  xenon  argon   ldls  quartz    quality  qual  stage  status  drpqual                    name\n",
      "46     s    1111  60177  60177      arc  sp3     z3    3455     50.0  False  False    False  False   True  False   False  excellent     0      1       0        0  sdR-s-z3-00003455.fits\n",
      "76     s    1111  60177  60177      arc  sp3     z3    3453     10.0  False  False    False  False   True  False   False  excellent     0      1       0        0  sdR-s-z3-00003453.fits\n",
      "382    s    1111  60177  60177      arc  sp3     z3    3456     50.0  False  False    False  False   True  False   False  excellent     0      1       0        0  sdR-s-z3-00003456.fits\n",
      "392    s    1111  60177  60177      arc  sp3     z3    3454     10.0  False  False    False  False   True  False   False  excellent     0      1       0        0  sdR-s-z3-00003454.fits\n"
     ]
    },
    {
     "name": "stderr",
     "output_type": "stream",
     "text": [
      "\u001b[0;34m[INFO]: \u001b[0mcombining 4 frames into master frame\n",
      "\u001b[0;34m[INFO]: \u001b[0mwriting master frame to 'lvm-marc_argon-z3.fits'\n",
      "\u001b[0;34m[INFO]: \u001b[0minput frames: /home/mejia/Research/lvm/lvmdata/sas/sdsswork/lvm/spectro/redux/0.1.1.dev0/1111/60177/ancillary/lvm-darc-b1-00003465.fits,/home/mejia/Research/lvm/lvmdata/sas/sdsswork/lvm/spectro/redux/0.1.1.dev0/1111/60177/ancillary/lvm-darc-b1-00003466.fits\n"
     ]
    },
    {
     "name": "stdout",
     "output_type": "stream",
     "text": [
      "    hemi  tileid    mjd   rmjd imagetyp spec camera  expnum  exptime   neon   hgne  krypton  xenon  argon   ldls  quartz    quality  qual  stage  status  drpqual                    name\n",
      "77     s    1111  60177  60177      arc  sp1     b1    3465    150.0  False  False    False   True  False  False   False  excellent     0      1       0        0  sdR-s-b1-00003465.fits\n",
      "484    s    1111  60177  60177      arc  sp1     b1    3466    150.0  False  False    False   True  False  False   False  excellent     0      1       0        0  sdR-s-b1-00003466.fits\n"
     ]
    },
    {
     "name": "stderr",
     "output_type": "stream",
     "text": [
      "\u001b[0;34m[INFO]: \u001b[0mcombining 2 frames into master frame\n",
      "\u001b[0;34m[INFO]: \u001b[0mwriting master frame to 'lvm-marc_xenon-b1.fits'\n",
      "\u001b[0;34m[INFO]: \u001b[0minput frames: /home/mejia/Research/lvm/lvmdata/sas/sdsswork/lvm/spectro/redux/0.1.1.dev0/1111/60177/ancillary/lvm-darc-b2-00003466.fits,/home/mejia/Research/lvm/lvmdata/sas/sdsswork/lvm/spectro/redux/0.1.1.dev0/1111/60177/ancillary/lvm-darc-b2-00003465.fits\n"
     ]
    },
    {
     "name": "stdout",
     "output_type": "stream",
     "text": [
      "    hemi  tileid    mjd   rmjd imagetyp spec camera  expnum  exptime   neon   hgne  krypton  xenon  argon   ldls  quartz    quality  qual  stage  status  drpqual                    name\n",
      "229    s    1111  60177  60177      arc  sp2     b2    3466    150.0  False  False    False   True  False  False   False  excellent     0      1       0        0  sdR-s-b2-00003466.fits\n",
      "494    s    1111  60177  60177      arc  sp2     b2    3465    150.0  False  False    False   True  False  False   False  excellent     0      1       0        0  sdR-s-b2-00003465.fits\n"
     ]
    },
    {
     "name": "stderr",
     "output_type": "stream",
     "text": [
      "\u001b[0;34m[INFO]: \u001b[0mcombining 2 frames into master frame\n",
      "\u001b[0;34m[INFO]: \u001b[0mwriting master frame to 'lvm-marc_xenon-b2.fits'\n",
      "\u001b[0;34m[INFO]: \u001b[0minput frames: /home/mejia/Research/lvm/lvmdata/sas/sdsswork/lvm/spectro/redux/0.1.1.dev0/1111/60177/ancillary/lvm-darc-b3-00003466.fits,/home/mejia/Research/lvm/lvmdata/sas/sdsswork/lvm/spectro/redux/0.1.1.dev0/1111/60177/ancillary/lvm-darc-b3-00003465.fits\n"
     ]
    },
    {
     "name": "stdout",
     "output_type": "stream",
     "text": [
      "    hemi  tileid    mjd   rmjd imagetyp spec camera  expnum  exptime   neon   hgne  krypton  xenon  argon   ldls  quartz    quality  qual  stage  status  drpqual                    name\n",
      "295    s    1111  60177  60177      arc  sp3     b3    3466    150.0  False  False    False   True  False  False   False  excellent     0      1       0        0  sdR-s-b3-00003466.fits\n",
      "303    s    1111  60177  60177      arc  sp3     b3    3465    150.0  False  False    False   True  False  False   False  excellent     0      1       0        0  sdR-s-b3-00003465.fits\n"
     ]
    },
    {
     "name": "stderr",
     "output_type": "stream",
     "text": [
      "\u001b[0;34m[INFO]: \u001b[0mcombining 2 frames into master frame\n",
      "\u001b[0;34m[INFO]: \u001b[0mwriting master frame to 'lvm-marc_xenon-b3.fits'\n",
      "\u001b[0;34m[INFO]: \u001b[0minput frames: /home/mejia/Research/lvm/lvmdata/sas/sdsswork/lvm/spectro/redux/0.1.1.dev0/1111/60177/ancillary/lvm-darc-r1-00003466.fits,/home/mejia/Research/lvm/lvmdata/sas/sdsswork/lvm/spectro/redux/0.1.1.dev0/1111/60177/ancillary/lvm-darc-r1-00003465.fits\n"
     ]
    },
    {
     "name": "stdout",
     "output_type": "stream",
     "text": [
      "    hemi  tileid    mjd   rmjd imagetyp spec camera  expnum  exptime   neon   hgne  krypton  xenon  argon   ldls  quartz    quality  qual  stage  status  drpqual                    name\n",
      "15     s    1111  60177  60177      arc  sp1     r1    3466    150.0  False  False    False   True  False  False   False  excellent     0      1       0        0  sdR-s-r1-00003466.fits\n",
      "165    s    1111  60177  60177      arc  sp1     r1    3465    150.0  False  False    False   True  False  False   False  excellent     0      1       0        0  sdR-s-r1-00003465.fits\n"
     ]
    },
    {
     "name": "stderr",
     "output_type": "stream",
     "text": [
      "\u001b[0;34m[INFO]: \u001b[0mcombining 2 frames into master frame\n",
      "\u001b[0;34m[INFO]: \u001b[0mwriting master frame to 'lvm-marc_xenon-r1.fits'\n",
      "\u001b[0;34m[INFO]: \u001b[0minput frames: /home/mejia/Research/lvm/lvmdata/sas/sdsswork/lvm/spectro/redux/0.1.1.dev0/1111/60177/ancillary/lvm-darc-r2-00003466.fits,/home/mejia/Research/lvm/lvmdata/sas/sdsswork/lvm/spectro/redux/0.1.1.dev0/1111/60177/ancillary/lvm-darc-r2-00003465.fits\n"
     ]
    },
    {
     "name": "stdout",
     "output_type": "stream",
     "text": [
      "    hemi  tileid    mjd   rmjd imagetyp spec camera  expnum  exptime   neon   hgne  krypton  xenon  argon   ldls  quartz    quality  qual  stage  status  drpqual                    name\n",
      "44     s    1111  60177  60177      arc  sp2     r2    3466    150.0  False  False    False   True  False  False   False  excellent     0      1       0        0  sdR-s-r2-00003466.fits\n",
      "196    s    1111  60177  60177      arc  sp2     r2    3465    150.0  False  False    False   True  False  False   False  excellent     0      1       0        0  sdR-s-r2-00003465.fits\n"
     ]
    },
    {
     "name": "stderr",
     "output_type": "stream",
     "text": [
      "\u001b[0;34m[INFO]: \u001b[0mcombining 2 frames into master frame\n",
      "\u001b[0;34m[INFO]: \u001b[0mwriting master frame to 'lvm-marc_xenon-r2.fits'\n",
      "\u001b[1;33m[WARNING]: \u001b[0m\u001b[0;39moverflow encountered in cast\u001b[0m \u001b[0;36m(RuntimeWarning)\u001b[0m\n",
      "\u001b[1;33m[WARNING]: \u001b[0m\u001b[0;39mdivide by zero encountered in divide\u001b[0m \u001b[0;36m(RuntimeWarning)\u001b[0m\n",
      "\u001b[0;34m[INFO]: \u001b[0minput frames: /home/mejia/Research/lvm/lvmdata/sas/sdsswork/lvm/spectro/redux/0.1.1.dev0/1111/60177/ancillary/lvm-darc-r3-00003465.fits,/home/mejia/Research/lvm/lvmdata/sas/sdsswork/lvm/spectro/redux/0.1.1.dev0/1111/60177/ancillary/lvm-darc-r3-00003466.fits\n"
     ]
    },
    {
     "name": "stdout",
     "output_type": "stream",
     "text": [
      "    hemi  tileid    mjd   rmjd imagetyp spec camera  expnum  exptime   neon   hgne  krypton  xenon  argon   ldls  quartz    quality  qual  stage  status  drpqual                    name\n",
      "114    s    1111  60177  60177      arc  sp3     r3    3465    150.0  False  False    False   True  False  False   False  excellent     0      1       0        0  sdR-s-r3-00003465.fits\n",
      "468    s    1111  60177  60177      arc  sp3     r3    3466    150.0  False  False    False   True  False  False   False  excellent     0      1       0        0  sdR-s-r3-00003466.fits\n"
     ]
    },
    {
     "name": "stderr",
     "output_type": "stream",
     "text": [
      "\u001b[0;34m[INFO]: \u001b[0mcombining 2 frames into master frame\n",
      "\u001b[0;34m[INFO]: \u001b[0mwriting master frame to 'lvm-marc_xenon-r3.fits'\n",
      "\u001b[0;34m[INFO]: \u001b[0minput frames: /home/mejia/Research/lvm/lvmdata/sas/sdsswork/lvm/spectro/redux/0.1.1.dev0/1111/60177/ancillary/lvm-darc-z1-00003466.fits,/home/mejia/Research/lvm/lvmdata/sas/sdsswork/lvm/spectro/redux/0.1.1.dev0/1111/60177/ancillary/lvm-darc-z1-00003465.fits\n"
     ]
    },
    {
     "name": "stdout",
     "output_type": "stream",
     "text": [
      "    hemi  tileid    mjd   rmjd imagetyp spec camera  expnum  exptime   neon   hgne  krypton  xenon  argon   ldls  quartz    quality  qual  stage  status  drpqual                    name\n",
      "278    s    1111  60177  60177      arc  sp1     z1    3466    150.0  False  False    False   True  False  False   False  excellent     0      1       0        0  sdR-s-z1-00003466.fits\n",
      "356    s    1111  60177  60177      arc  sp1     z1    3465    150.0  False  False    False   True  False  False   False  excellent     0      1       0        0  sdR-s-z1-00003465.fits\n"
     ]
    },
    {
     "name": "stderr",
     "output_type": "stream",
     "text": [
      "\u001b[0;34m[INFO]: \u001b[0mcombining 2 frames into master frame\n",
      "\u001b[0;34m[INFO]: \u001b[0mwriting master frame to 'lvm-marc_xenon-z1.fits'\n",
      "\u001b[0;34m[INFO]: \u001b[0minput frames: /home/mejia/Research/lvm/lvmdata/sas/sdsswork/lvm/spectro/redux/0.1.1.dev0/1111/60177/ancillary/lvm-darc-z2-00003466.fits,/home/mejia/Research/lvm/lvmdata/sas/sdsswork/lvm/spectro/redux/0.1.1.dev0/1111/60177/ancillary/lvm-darc-z2-00003465.fits\n"
     ]
    },
    {
     "name": "stdout",
     "output_type": "stream",
     "text": [
      "    hemi  tileid    mjd   rmjd imagetyp spec camera  expnum  exptime   neon   hgne  krypton  xenon  argon   ldls  quartz    quality  qual  stage  status  drpqual                    name\n",
      "443    s    1111  60177  60177      arc  sp2     z2    3466    150.0  False  False    False   True  False  False   False  excellent     0      1       0        0  sdR-s-z2-00003466.fits\n",
      "501    s    1111  60177  60177      arc  sp2     z2    3465    150.0  False  False    False   True  False  False   False  excellent     0      1       0        0  sdR-s-z2-00003465.fits\n"
     ]
    },
    {
     "name": "stderr",
     "output_type": "stream",
     "text": [
      "\u001b[0;34m[INFO]: \u001b[0mcombining 2 frames into master frame\n",
      "\u001b[0;34m[INFO]: \u001b[0mwriting master frame to 'lvm-marc_xenon-z2.fits'\n",
      "\u001b[0;34m[INFO]: \u001b[0minput frames: /home/mejia/Research/lvm/lvmdata/sas/sdsswork/lvm/spectro/redux/0.1.1.dev0/1111/60177/ancillary/lvm-darc-z3-00003466.fits,/home/mejia/Research/lvm/lvmdata/sas/sdsswork/lvm/spectro/redux/0.1.1.dev0/1111/60177/ancillary/lvm-darc-z3-00003465.fits\n"
     ]
    },
    {
     "name": "stdout",
     "output_type": "stream",
     "text": [
      "    hemi  tileid    mjd   rmjd imagetyp spec camera  expnum  exptime   neon   hgne  krypton  xenon  argon   ldls  quartz    quality  qual  stage  status  drpqual                    name\n",
      "287    s    1111  60177  60177      arc  sp3     z3    3466    150.0  False  False    False   True  False  False   False  excellent     0      1       0        0  sdR-s-z3-00003466.fits\n",
      "352    s    1111  60177  60177      arc  sp3     z3    3465    150.0  False  False    False   True  False  False   False  excellent     0      1       0        0  sdR-s-z3-00003465.fits\n"
     ]
    },
    {
     "name": "stderr",
     "output_type": "stream",
     "text": [
      "\u001b[0;34m[INFO]: \u001b[0mcombining 2 frames into master frame\n",
      "\u001b[0;34m[INFO]: \u001b[0mwriting master frame to 'lvm-marc_xenon-z3.fits'\n"
     ]
    }
   ],
   "source": [
    "lamps = [lamp.lower() for lamp in ARC_LAMPS]\n",
    "\n",
    "arc_analogs = frames_table.query(\"imagetyp=='arc'\").groupby([\"camera\"])\n",
    "\n",
    "marc_paths = []\n",
    "for lamp in lamps:\n",
    "    rest_lamps = copy(lamps)\n",
    "    rest_lamps.remove(lamp)\n",
    "    \n",
    "    lamp_query = f\"{lamp} & not \" + \" & not \".join(rest_lamps)\n",
    "\n",
    "    for camera in arc_analogs.groups:\n",
    "        arcs = arc_analogs.get_group(camera)\n",
    "        arcs = arcs.query(lamp_query)\n",
    "        arc = arcs.iloc[0].to_dict()\n",
    "        print(arcs.to_string())\n",
    "\n",
    "        # define master paths\n",
    "        mtrace_path = os.path.join(masters_path, f\"lvm-mtrace-{camera}.fits\")\n",
    "        # define master frame path\n",
    "        marc_path = path.full(\"lvm_master\", drpver=drpver, tileid=arc[\"tileid\"], mjd=masters_mjd, kind=f\"marc_{lamp}\", camera=arc[\"camera\"])\n",
    "        warc_path = path.full(\"lvm_master\", drpver=drpver, tileid=arc[\"tileid\"], mjd=masters_mjd, kind=f\"wmarc_{lamp}\", camera=camera)\n",
    "        marc_paths.append(marc_path)\n",
    "        os.makedirs(os.path.dirname(marc_path), exist_ok=True)\n",
    "        \n",
    "        # preprocess and detrend arcs\n",
    "        darc_paths = []\n",
    "        for arc in arcs.to_dict(\"records\"):\n",
    "            darc_path = path.full(\"lvm_anc\", drpver=drpver, kind=\"d\", imagetype=arc[\"imagetyp\"], **arc)\n",
    "            darc_paths.append(darc_path)\n",
    "    \n",
    "        # create master arc (2D image)\n",
    "        imageMethod.create_master_frame(in_images=darc_paths, out_image=marc_path, master_mjd=masters_mjd)\n",
    "        \n",
    "        # extract combined (master) arc\n",
    "        mtrace_path = os.path.join(masters_path, f\"lvm-mtrace-{camera}.fits\")\n",
    "        mwidth_path = os.path.join(masters_path, f\"lvm-mwidth-{camera}.fits\")\n",
    "        imageMethod.extract_spectra(in_image=marc_path, out_rss=warc_path, in_trace=mtrace_path, in_fwhm=mwidth_path, method=\"optimal\")"
   ]
  }
 ],
 "metadata": {
  "kernelspec": {
   "display_name": "Python 3 (ipykernel)",
   "language": "python",
   "name": "python3"
  },
  "language_info": {
   "codemirror_mode": {
    "name": "ipython",
    "version": 3
   },
   "file_extension": ".py",
   "mimetype": "text/x-python",
   "name": "python",
   "nbconvert_exporter": "python",
   "pygments_lexer": "ipython3",
   "version": "3.10.12"
  }
 },
 "nbformat": 4,
 "nbformat_minor": 5
}
