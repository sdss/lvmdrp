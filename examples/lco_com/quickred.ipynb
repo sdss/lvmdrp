{
 "cells": [
  {
   "cell_type": "code",
   "execution_count": null,
   "id": "dc2402fc-2a5d-4b5d-a63a-184b75f4ad59",
   "metadata": {
    "tags": []
   },
   "outputs": [],
   "source": [
    "import os\n",
    "from itertools import product\n",
    "from astropy.io import fits\n",
    "from astropy.table import Table\n",
    "from lvmdrp.utils import metadata as md\n",
    "from lvmdrp.functions import run_drp as drp\n",
    "from lvmdrp.functions import imageMethod as image_tasks\n",
    "from lvmdrp.functions import rssMethod as rss_tasks\n",
    "from lvmdrp.core.constants import SPEC_CHANNELS"
   ]
  },
  {
   "cell_type": "markdown",
   "id": "d649037b-7316-4520-8a40-e31045191232",
   "metadata": {},
   "source": [
    "# Instructions\n",
    "\n",
    "This notebook implementes a quick reduction of the LVM data. Main asumptions are:\n",
    "\n",
    "1. There is a `data_calib` directory containing master calibration frames for:\n",
    "    - pixel mask (`lvm-mpixmask-{CAMERA}.fits`)\n",
    "    - bias (`lvm-mbias-{CAMERA}.fits`)\n",
    "    - dark (`lvm-mdark-{CAMERA}.fits`)\n",
    "    - traces (`traces_{CAMERA}_p4.fits`)\n",
    "    - wavelengths (`lvm-mwave_neon-{CAMERA}.fits`)\n",
    "    - LSF (`lvm-mlsf_neon-{CAMERA}.fits`)\n",
    "\n",
    "2. There is a `data_science` directory containing the **raw** target science exposures (`sdR-s-{CAMERA}-{EXPNUM:>08d}.fits.gz`)\n",
    "\n",
    "3. Data products from this reduction can be stored in a directory `data_products` (this directory will be created by this notebook if it does not exists).\n",
    "\n",
    "This reduction will push raw frames from preprocessing down to wavelength calibration."
   ]
  },
  {
   "cell_type": "code",
   "execution_count": null,
   "id": "01ef945d-b807-44b9-b17c-b844a3cdbb71",
   "metadata": {
    "tags": []
   },
   "outputs": [],
   "source": [
    "# define paths\n",
    "CALDIR = \"data_calib/\"\n",
    "SCIDIR = \"data_science/\"\n",
    "OUTDIR = \"data_products/\"\n",
    "os.makedirs(OUTDIR, exist_ok=True)\n",
    "\n",
    "# define cameras\n",
    "CAMERAS = [f\"{channel}{spec}\" for channel, spec in product((\"brz\"), (1,2,3))]"
   ]
  },
  {
   "cell_type": "code",
   "execution_count": null,
   "id": "95dc0512-2754-4a6d-bc5f-59548517a756",
   "metadata": {
    "tags": []
   },
   "outputs": [],
   "source": [
    "# target science directory\n",
    "sci_paths = sorted([os.path.join(SCIDIR, sci_name) for sci_name in os.listdir(SCIDIR)])\n",
    "print(sci_paths)"
   ]
  },
  {
   "cell_type": "code",
   "execution_count": null,
   "id": "58c86a83-3067-4750-a3ae-845282a3a3d2",
   "metadata": {
    "tags": []
   },
   "outputs": [],
   "source": [
    "for isci, sci_path in enumerate(sci_paths):\n",
    "    # get basic metadata\n",
    "    sci_header = fits.getheader(sci_path, ext=0)\n",
    "    sci_camera = sci_header[\"CCD\"]\n",
    "    sci_exposure = sci_header[\"EXPOSURE\"]\n",
    "    \n",
    "    # define calibration frames paths\n",
    "    mpixmask_path = os.path.join(CALDIR, f\"lvm-mpixmask-{sci_camera}.fits\")\n",
    "    mbias_path = os.path.join(CALDIR, f\"lvm-mbias-{sci_camera}.fits\")\n",
    "    mdark_path = os.path.join(CALDIR, f\"lvm-mdark-{sci_camera}.fits\")\n",
    "    mtrace_path = os.path.join(CALDIR, f\"traces_{sci_camera}_p4.fits\")\n",
    "    mwave_path = os.path.join(CALDIR, f\"lvm-mwave_neon-{sci_camera}.fits\")\n",
    "    mlsf_path = os.path.join(CALDIR, f\"lvm-mlsf_neon-{sci_camera}.fits\")\n",
    "    \n",
    "    # define products paths\n",
    "    psci_path = os.path.join(OUTDIR, f\"lvm-pobject-{sci_camera}-{sci_exposure:>08d}.fits\")\n",
    "    dsci_path = os.path.join(OUTDIR, f\"lvm-dobject-{sci_camera}-{sci_exposure:>08d}.fits\")\n",
    "    xsci_path = os.path.join(OUTDIR, f\"lvm-xobject-{sci_camera}-{sci_exposure:>08d}.fits\")\n",
    "    wsci_path = os.path.join(OUTDIR, f\"lvm-wobject-{sci_camera}-{sci_exposure:>08d}.fits\")\n",
    "    \n",
    "    if os.path.isfile(wsci_path):\n",
    "        print(f\"skipping {wsci_path}, file already exist\")\n",
    "        continue\n",
    "    \n",
    "    # preprocess frame\n",
    "    image_tasks.preproc_raw_frame(in_image=sci_path, out_image=psci_path, in_mask=mpixmask_path)\n",
    "    \n",
    "    # detrend frame\n",
    "    image_tasks.detrend_frame(in_image=psci_path, out_image=dsci_path, in_bias=mbias_path, in_dark=mdark_path, in_slitmap=Table(drp.fibermap.data))\n",
    "    \n",
    "    # extract 1d spectra\n",
    "    image_tasks.extract_spectra(in_image=dsci_path, out_rss=xsci_path, in_trace=mtrace_path, method=\"aperture\", aperture=3)\n",
    "    \n",
    "    # wavelength calibrate & resample\n",
    "    iwave, fwave = SPEC_CHANNELS[sci_camera[0]]\n",
    "    rss_tasks.create_pixel_table(in_rss=xsci_path, out_rss=wsci_path, arc_wave=mwave_path, arc_fwhm=mlsf_path)\n",
    "    rss_tasks.resample_wavelength(in_rss=wsci_path, out_rss=wsci_path, method=\"linear\", disp_pix=0.5, start_wave=iwave, end_wave=fwave, err_sim=10, parallel=0)\n"
   ]
  }
 ],
 "metadata": {
  "kernelspec": {
   "display_name": "Python 3 (ipykernel)",
   "language": "python",
   "name": "python3"
  },
  "language_info": {
   "codemirror_mode": {
    "name": "ipython",
    "version": 3
   },
   "file_extension": ".py",
   "mimetype": "text/x-python",
   "name": "python",
   "nbconvert_exporter": "python",
   "pygments_lexer": "ipython3",
   "version": "3.8.16"
  }
 },
 "nbformat": 4,
 "nbformat_minor": 5
}
