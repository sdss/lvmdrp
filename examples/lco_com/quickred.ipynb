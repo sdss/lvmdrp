{
 "cells": [
  {
   "cell_type": "code",
   "execution_count": 1,
   "id": "dc2402fc-2a5d-4b5d-a63a-184b75f4ad59",
   "metadata": {
    "tags": []
   },
   "outputs": [],
   "source": [
    "import os\n",
    "from itertools import product\n",
    "from astropy.io import fits\n",
    "from astropy.table import Table\n",
    "\n",
    "from lvmdrp import path, __version__ as drpver\n",
    "from lvmdrp.utils import metadata as md\n",
    "from lvmdrp.functions import run_drp as drp\n",
    "from lvmdrp.functions import imageMethod as image_tasks\n",
    "from lvmdrp.functions import rssMethod as rss_tasks\n",
    "from lvmdrp.core.constants import SPEC_CHANNELS"
   ]
  },
  {
   "cell_type": "markdown",
   "id": "d649037b-7316-4520-8a40-e31045191232",
   "metadata": {},
   "source": [
    "# Instructions\n",
    "\n",
    "This notebook implementes a quick reduction of the LVM data. Main asumptions are:\n",
    "\n",
    "1. There is a `data_calib` directory containing master calibration frames for:\n",
    "    - pixel mask (`lvm-mpixmask-{CAMERA}.fits`)\n",
    "    - bias (`lvm-mbias-{CAMERA}.fits`)\n",
    "    - dark (`lvm-mdark-{CAMERA}.fits`)\n",
    "    - traces (`traces_{CAMERA}_p4.fits`)\n",
    "    - wavelengths (`lvm-mwave_neon-{CAMERA}.fits`)\n",
    "    - LSF (`lvm-mlsf_neon-{CAMERA}.fits`)\n",
    "\n",
    "2. There is a `data_science` directory containing the **raw** target science exposures (`sdR-s-{CAMERA}-{EXPNUM:>08d}.fits.gz`)\n",
    "\n",
    "3. Data products from this reduction can be stored in a directory `data_products` (this directory will be created by this notebook if it does not exists).\n",
    "\n",
    "This reduction will push raw frames from preprocessing down to wavelength calibration."
   ]
  },
  {
   "cell_type": "code",
   "execution_count": null,
   "id": "01ef945d-b807-44b9-b17c-b844a3cdbb71",
   "metadata": {
    "tags": []
   },
   "outputs": [],
   "source": [
    "# # define paths\n",
    "CALDIR = \"data_calib/\"\n",
    "SCIDIR = \"data_science/\"\n",
    "OUTDIR = \"data_products/\"\n",
    "os.makedirs(OUTDIR, exist_ok=True)\n",
    "\n",
    "# # define cameras\n",
    "SPECIDS = (1,2,3)\n",
    "CHANNELS = \"brz\"\n",
    "CAMERAS = [f\"{channel}{spec}\" for channel, spec in product(CHANNELS, SPECIDS)]"
   ]
  },
  {
   "cell_type": "code",
   "execution_count": null,
   "id": "95dc0512-2754-4a6d-bc5f-59548517a756",
   "metadata": {
    "tags": []
   },
   "outputs": [],
   "source": [
    "# target science directory\n",
    "sci_paths = sorted([os.path.join(SCIDIR, sci_name) for sci_name in os.listdir(SCIDIR)])\n",
    "print(sci_paths)"
   ]
  },
  {
   "cell_type": "code",
   "execution_count": null,
   "id": "7c96b3c8-5be2-411b-8675-65ff7db656fe",
   "metadata": {
    "tags": []
   },
   "outputs": [],
   "source": [
    "mjd = 60145\n",
    "tileid = 1111\n",
    "expnum = 1361"
   ]
  },
  {
   "cell_type": "code",
   "execution_count": null,
   "id": "58c86a83-3067-4750-a3ae-845282a3a3d2",
   "metadata": {
    "tags": []
   },
   "outputs": [],
   "source": [
    "sci_metadata = md.get_metadata(tileid=tileid, mjd=mjd, expnum=expnum).sort_values([\"expnum\", \"camera\"])\n",
    "\n",
    "arc_lamps = {\"b\": \"hgne\", \"r\": \"neon\", \"z\": \"neon\"}\n",
    "\n",
    "spec_paths = []\n",
    "for sci in sci_metadata.to_dict(\"records\"):\n",
    "    \n",
    "    # define sci paths\n",
    "    sci_path = path.full(\"lvm_raw\", camspec=sci[\"camera\"], **sci)\n",
    "    psci_path = path.full(\"lvm_anc\", drpver=drpver, kind=\"p\", imagetype=sci[\"imagetyp\"], **sci)\n",
    "    dsci_path = path.full(\"lvm_anc\", drpver=drpver, kind=\"d\", imagetype=sci[\"imagetyp\"], **sci)\n",
    "    xsci_path = path.full(\"lvm_anc\", drpver=drpver, kind=\"x\", imagetype=sci[\"imagetyp\"], **sci)\n",
    "    wsci_path = path.full(\"lvm_anc\", drpver=drpver, kind=\"w\", imagetype=sci[\"imagetyp\"], **sci)\n",
    "    # lamps configuration per spectrograph channel\n",
    "    lamps = arc_lamps[sci[\"camera\"][0]]\n",
    "    \n",
    "    # define calibration frames paths\n",
    "    masters = md.match_master_metadata(target_mjd=sci[\"mjd\"], target_camera=sci[\"camera\"], target_imagetyp=sci[\"imagetyp\"])\n",
    "    mpixmask_path = path.full(\"lvm_master\", drpver=drpver, kind=\"mpixmask\", **masters[\"pixmask\"].to_dict())\n",
    "    mbias_path = path.full(\"lvm_master\", drpver=drpver, kind=\"mbias\", **masters[\"bias\"].to_dict())\n",
    "    mdark_path = path.full(\"lvm_master\", drpver=drpver, kind=\"mdark\", **masters[\"dark\"].to_dict())\n",
    "    mtrace_path = path.full(\"lvm_master\", drpver=drpver, kind=\"mtrace\", **masters[\"trace\"].to_dict())\n",
    "    mwave_path = path.full(\"lvm_master\", drpver=drpver, kind=f\"mwave_{lamps}\", **masters[\"wave\"].to_dict())\n",
    "    mlsf_path = path.full(\"lvm_master\", drpver=drpver, kind=f\"mlsf_{lamps}\", **masters[\"lsf\"].to_dict())\n",
    "    mflat_path = path.full(\"lvm_master\", drpver=drpver, kind=\"mfiberflat\", **masters[\"fiberflat\"].to_dict())\n",
    "    \n",
    "    # if os.path.isfile(wsci_path):\n",
    "    #     print(f\"skipping {wsci_path}, file already exist\")\n",
    "    #     continue\n",
    "    \n",
    "    # preprocess frame\n",
    "    image_tasks.preproc_raw_frame(in_image=sci_path, out_image=psci_path, in_mask=mpixmask_path)\n",
    "    \n",
    "    # detrend frame\n",
    "    image_tasks.detrend_frame(in_image=psci_path, out_image=dsci_path, in_bias=mbias_path, in_dark=mdark_path, in_slitmap=Table(drp.fibermap.data))\n",
    "    \n",
    "    # extract 1d spectra\n",
    "    image_tasks.extract_spectra(in_image=dsci_path, out_rss=xsci_path, in_trace=mtrace_path, method=\"aperture\", aperture=3)\n",
    "    \n",
    "    # wavelength calibrate & resample\n",
    "    iwave, fwave = SPEC_CHANNELS[sci[\"camera\"][0]]\n",
    "    rss_tasks.create_pixel_table(in_rss=xsci_path, out_rss=wsci_path, arc_wave=mwave_path, arc_fwhm=mlsf_path)\n",
    "    rss_tasks.resample_wavelength(in_rss=wsci_path, out_rss=wsci_path, method=\"linear\", disp_pix=0.5, start_wave=iwave, end_wave=fwave, err_sim=10, parallel=0)\n",
    "    \n",
    "    # apply fiberflat correction\n",
    "    rss_tasks.apply_fiberflat(in_rss=wsci_path, out_rss=wsci_path, in_flat=mflat_path)\n",
    "    \n",
    "    # list paths for spectrograph combination\n",
    "    spec_paths.append(wsci_path)"
   ]
  },
  {
   "cell_type": "code",
   "execution_count": null,
   "id": "dbe5ef72-2950-4e03-8271-1ede74dfd79a",
   "metadata": {
    "tags": []
   },
   "outputs": [],
   "source": [
    "specid = 1\n",
    "\n",
    "jsci_path = os.path.join(OUTDIR, f\"lvm-object-sp{specid}-{expnum:>08d}.fits\")\n",
    "_ = rss_tasks.join_spec_channels(spec_paths[specid-1::3], out_rss=jsci_path)"
   ]
  },
  {
   "cell_type": "code",
   "execution_count": null,
   "id": "061f51da-33b9-4809-927f-1ded712e4afa",
   "metadata": {
    "tags": []
   },
   "outputs": [],
   "source": [
    "from lvmdrp.core import rss\n",
    "import matplotlib.pyplot as plt\n",
    "\n",
    "sci = rss.RSS()\n",
    "sci.loadFitsData(jsci_path)\n",
    "sci.apply_pixelmask()\n",
    "\n",
    "plt.figure(figsize=(20,7))\n",
    "plt.step(sci._wave, sci._data[319], lw=1, color=\"tab:red\")\n",
    "# plt.gca().set_yscale(\"log\")"
   ]
  }
 ],
 "metadata": {
  "kernelspec": {
   "display_name": "Python 3 (ipykernel)",
   "language": "python",
   "name": "python3"
  },
  "language_info": {
   "codemirror_mode": {
    "name": "ipython",
    "version": 3
   },
   "file_extension": ".py",
   "mimetype": "text/x-python",
   "name": "python",
   "nbconvert_exporter": "python",
   "pygments_lexer": "ipython3",
   "version": "3.8.16"
  }
 },
 "nbformat": 4,
 "nbformat_minor": 5
}
