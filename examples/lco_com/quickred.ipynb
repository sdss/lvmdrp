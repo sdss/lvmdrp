{
 "cells": [
  {
   "cell_type": "code",
   "execution_count": 1,
   "id": "dc2402fc-2a5d-4b5d-a63a-184b75f4ad59",
   "metadata": {
    "tags": []
   },
   "outputs": [],
   "source": [
    "import os\n",
    "from itertools import product\n",
    "from astropy.io import fits\n",
    "from astropy.table import Table\n",
    "from lvmdrp.utils import metadata as md\n",
    "from lvmdrp.functions import run_drp as drp\n",
    "from lvmdrp.functions import imageMethod as image_tasks\n",
    "from lvmdrp.functions import rssMethod as rss_tasks\n",
    "from lvmdrp.core.constants import SPEC_CHANNELS"
   ]
  },
  {
   "cell_type": "markdown",
   "id": "d649037b-7316-4520-8a40-e31045191232",
   "metadata": {},
   "source": [
    "# Instructions\n",
    "\n",
    "This notebook implementes a quick reduction of the LVM data. Main asumptions are:\n",
    "\n",
    "1. There is a `data_calib` directory containing master calibration frames for:\n",
    "    - pixel mask (`lvm-mpixmask-{CAMERA}.fits`)\n",
    "    - bias (`lvm-mbias-{CAMERA}.fits`)\n",
    "    - dark (`lvm-mdark-{CAMERA}.fits`)\n",
    "    - traces (`traces_{CAMERA}_p4.fits`)\n",
    "    - wavelengths (`lvm-mwave_neon-{CAMERA}.fits`)\n",
    "    - LSF (`lvm-mlsf_neon-{CAMERA}.fits`)\n",
    "\n",
    "2. There is a `data_science` directory containing the **raw** target science exposures (`sdR-s-{CAMERA}-{EXPNUM:>08d}.fits.gz`)\n",
    "\n",
    "3. Data products from this reduction can be stored in a directory `data_products` (this directory will be created by this notebook if it does not exists).\n",
    "\n",
    "This reduction will push raw frames from preprocessing down to wavelength calibration."
   ]
  },
  {
   "cell_type": "code",
   "execution_count": 2,
   "id": "01ef945d-b807-44b9-b17c-b844a3cdbb71",
   "metadata": {
    "tags": []
   },
   "outputs": [],
   "source": [
    "# define paths\n",
    "CALDIR = \"data_calib/\"\n",
    "SCIDIR = \"data_science/\"\n",
    "OUTDIR = \"data_products/\"\n",
    "os.makedirs(OUTDIR, exist_ok=True)\n",
    "\n",
    "# define cameras\n",
    "CAMERAS = [f\"{channel}{spec}\" for channel, spec in product((\"brz\"), (1,2,3))]"
   ]
  },
  {
   "cell_type": "code",
   "execution_count": 3,
   "id": "95dc0512-2754-4a6d-bc5f-59548517a756",
   "metadata": {
    "tags": []
   },
   "outputs": [
    {
     "name": "stdout",
     "output_type": "stream",
     "text": [
      "['data_science/sdR-s-b1-00001451.fits.gz', 'data_science/sdR-s-r3-00001451.fits.gz', 'data_science/sdR-s-r2-00001451.fits.gz', 'data_science/sdR-s-b2-00001451.fits.gz', 'data_science/sdR-s-z1-00001451.fits.gz', 'data_science/sdR-s-r1-00001451.fits.gz', 'data_science/sdR-s-z3-00001451.fits.gz', 'data_science/sdR-s-z2-00001451.fits.gz', 'data_science/sdR-s-b3-00001451.fits.gz']\n"
     ]
    }
   ],
   "source": [
    "# target science directory\n",
    "sci_paths = [os.path.join(SCIDIR, sci_name) for sci_name in os.listdir(SCIDIR)]\n",
    "print(sci_paths)"
   ]
  },
  {
   "cell_type": "code",
   "execution_count": 4,
   "id": "58c86a83-3067-4750-a3ae-845282a3a3d2",
   "metadata": {
    "tags": []
   },
   "outputs": [
    {
     "name": "stderr",
     "output_type": "stream",
     "text": [
      "\u001b[0;34m[INFO]: \u001b[0mstarting preprocessing of raw image 'sdR-s-b1-00001451.fits.gz'\n",
      "\u001b[0;31m[ERROR]: \u001b[0mcannot apply header fix: invalid literal for int() with base 10: ''\n",
      "\u001b[0;34m[INFO]: \u001b[0musing header IMAGETYP = 'object'\n",
      "\u001b[0;34m[INFO]: \u001b[0mexposure time 20.0 (s)\n",
      "\u001b[0;34m[INFO]: \u001b[0musing header TRIMSEC = ['[1:2043, 2041:4080]', '[2078:4120, 2041:4080]', '[1:2043, 1:2040]', '[2078:4120, 1:2040]']\n",
      "\u001b[0;34m[INFO]: \u001b[0musing header BIASSEC = ['[2044:2060, 2041:4080]', '[2061:2077, 2041:4080]', '[2044:2060, 1:2040]', '[2061:2077, 1:2040]']\n",
      "\u001b[0;34m[INFO]: \u001b[0musing header GAIN = [2.71, 2.71, 2.68, 2.69] (e-/ADU)\n",
      "\u001b[0;34m[INFO]: \u001b[0mmedian and standard deviation in OS quadrant 1: 974.00 +/- 1.11 (ADU)\n",
      "\u001b[0;34m[INFO]: \u001b[0mmedian and standard deviation in OS quadrant 2: 982.00 +/- 1.13 (ADU)\n",
      "\u001b[0;34m[INFO]: \u001b[0mmedian and standard deviation in OS quadrant 3: 983.00 +/- 1.27 (ADU)\n",
      "\u001b[0;34m[INFO]: \u001b[0mmedian and standard deviation in OS quadrant 4: 983.00 +/- 1.29 (ADU)\n",
      "\u001b[0;34m[INFO]: \u001b[0musing header RDNOISE = [3.0, 3.0, 2.8, 2.8] (e-)\n",
      "\u001b[0;34m[INFO]: \u001b[0mflipping along X-axis\n",
      "\u001b[0;34m[INFO]: \u001b[0mupdating header with per quadrant stats\n",
      "\u001b[0;34m[INFO]: \u001b[0mloading master pixel mask from lvm-mpixmask-b1.fits\n",
      "\u001b[0;34m[INFO]: \u001b[0mbuilding pixel mask\n",
      "\u001b[0;34m[INFO]: \u001b[0m106029 (0.64 %) pixels masked\n",
      "\u001b[0;34m[INFO]: \u001b[0mreplacing 106029 masked pixels with NaNs\n",
      "\u001b[0;34m[INFO]: \u001b[0mwriting preprocessed image to lvm-pobject-b1-00001451.fits\n",
      "\u001b[0;34m[INFO]: \u001b[0mplotting results\n",
      "\u001b[0;34m[INFO]: \u001b[0mtarget frame parameters: MJD = 60145, exptime = 20.0, camera = b1\n",
      "\u001b[0;34m[INFO]: \u001b[0musing bias calibration frame 'lvm-mbias-b1.fits'\n",
      "\u001b[0;34m[INFO]: \u001b[0musing dark calibration frame 'lvm-mbias-b1.fits'\n",
      "\u001b[0;34m[INFO]: \u001b[0msubtracting master bias\n",
      "\u001b[0;34m[INFO]: \u001b[0mcalculating Poisson errors per quadrant\n",
      "\u001b[0;34m[INFO]: \u001b[0mmedian error in quadrant 1: 3.68 (e-)\n",
      "\u001b[0;34m[INFO]: \u001b[0mmedian error in quadrant 2: 6.53 (e-)\n",
      "\u001b[0;34m[INFO]: \u001b[0mmedian error in quadrant 3: 3.47 (e-)\n",
      "\u001b[0;34m[INFO]: \u001b[0mmedian error in quadrant 4: 6.49 (e-)\n",
      "\u001b[0;34m[INFO]: \u001b[0msubtracting master dark\n",
      "\u001b[0;34m[INFO]: \u001b[0mpropagating pixel mask\n",
      "\u001b[0;34m[INFO]: \u001b[0mrejecting cosmic rays\n",
      "\u001b[0;34m[INFO]: \u001b[0mfound cosmic ray 7 pixels\n",
      "\u001b[0;34m[INFO]: \u001b[0mreplacing 106036 masked pixels with NaNs\n",
      "\u001b[0;34m[INFO]: \u001b[0madding slitmap information\n",
      "\u001b[0;34m[INFO]: \u001b[0mwriting detrended image to 'lvm-dobject-b1-00001451.fits'\n",
      "\u001b[0;34m[INFO]: \u001b[0mplotting results\n"
     ]
    }
   ],
   "source": [
    "for isci, sci_path in enumerate(sci_paths):\n",
    "    # get basic metadata\n",
    "    sci_header = fits.getheader(sci_path, ext=0)\n",
    "    sci_camera = sci_header[\"CCD\"]\n",
    "    sci_exposure = sci_header[\"EXPOSURE\"]\n",
    "    \n",
    "    # define calibration frames paths\n",
    "    mpixmask_path = os.path.join(CALDIR, f\"lvm-mpixmask-{sci_camera}.fits\")\n",
    "    mbias_path = os.path.join(CALDIR, f\"lvm-mbias-{sci_camera}.fits\")\n",
    "    mdark_path = os.path.join(CALDIR, f\"lvm-mbias-{sci_camera}.fits\")\n",
    "    mtrace_path = os.path.join(CALDIR, f\"traces_{sci_camera}_p4.fits\")\n",
    "    mwave_path = os.path.join(CALDIR, f\"lvm-mwave_neon-{sci_camera}.fits\")\n",
    "    mlsf_path = os.path.join(CALDIR, f\"lvm-mlsf_neon-{sci_camera}.fits\")\n",
    "    \n",
    "    # preprocess frame\n",
    "    psci_path = os.path.join(OUTDIR, f\"lvm-pobject-{sci_camera}-{sci_exposure:>08d}.fits\")\n",
    "    image_tasks.preproc_raw_frame(in_image=sci_path, out_image=psci_path, in_mask=mpixmask_path)\n",
    "    \n",
    "    # detrend frame\n",
    "    dsci_path = os.path.join(OUTDIR, f\"lvm-dobject-{sci_camera}-{sci_exposure:>08d}.fits\")\n",
    "    image_tasks.detrend_frame(in_image=psci_path, out_image=dsci_path, in_bias=mbias_path, in_dark=mdark_path, in_slitmap=Table(drp.fibermap.data))\n",
    "    \n",
    "    # extract 1d spectra\n",
    "    xsci_path = os.path.join(OUTDIR, f\"lvm-xobject-{sci_camera}-{sci_exposure:>08d}.fits\")\n",
    "    image_tasks.extract_spectra(in_image=dsci_path, out_rss=xsci_path, in_trace=mtrace_path, method=\"aperture\", aperture=3)\n",
    "    \n",
    "    # wavelength calibrate & resample\n",
    "    iwave, fwave = SPEC_CHANNELS[sci_camera[0]]\n",
    "    wsci_path = os.path.join(OUTDIR, f\"lvm-wobject-{sci_camera}-{sci_exposure:>08d}.fits\")\n",
    "    rss_tasks.create_pixel_table(in_rss=xsci_path, out_rss=wsci_path, arc_wave=mwave_path, arc_fwhm=mlsf_path)\n",
    "    rss_tasks.resample_wavelength(in_rss=wsci_path, out_rss=wsci_path, method=\"linear\", start_wave=iwave, end_wave=fwave, err_sim=10, parallel=0)"
   ]
  }
 ],
 "metadata": {
  "kernelspec": {
   "display_name": "Python 3 (ipykernel)",
   "language": "python",
   "name": "python3"
  },
  "language_info": {
   "codemirror_mode": {
    "name": "ipython",
    "version": 3
   },
   "file_extension": ".py",
   "mimetype": "text/x-python",
   "name": "python",
   "nbconvert_exporter": "python",
   "pygments_lexer": "ipython3",
   "version": "3.8.16"
  }
 },
 "nbformat": 4,
 "nbformat_minor": 5
}
