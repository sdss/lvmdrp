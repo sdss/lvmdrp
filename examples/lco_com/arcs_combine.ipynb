{
 "cells": [
  {
   "cell_type": "code",
   "execution_count": 1,
   "id": "0d2806e0-a76a-4a65-9886-95aafebf1a6c",
   "metadata": {
    "tags": []
   },
   "outputs": [],
   "source": [
    "%matplotlib widget\n",
    "\n",
    "import os\n",
    "import numpy as np\n",
    "import pandas as pd\n",
    "from copy import deepcopy as copy\n",
    "from astropy.table import Table\n",
    "\n",
    "from lvmdrp import path, __version__ as drpver\n",
    "from lvmdrp.core.constants import ARC_LAMPS\n",
    "from lvmdrp.utils import metadata as md\n",
    "from lvmdrp.functions import run_drp as drp\n",
    "\n",
    "from lvmdrp.functions import imageMethod, rssMethod\n",
    "\n",
    "\n",
    "import matplotlib.pyplot as plt\n",
    "from lvmdrp.core.spectrum1d import Spectrum1D\n",
    "\n",
    "\n",
    "def subtract_continuum(in_rss, out_rss, median_box=30, thresh=1.2, niter=5, mask_delt=1):\n",
    "    arc = rssMethod.loadRSS(in_rss)\n",
    "    \n",
    "    cont_rss = np.zeros_like(arc._data)\n",
    "    for ifiber in range(arc._fibers):\n",
    "        if ifiber not in arc._good_fibers:\n",
    "            continue\n",
    "        spec = arc.getSpec(ifiber)\n",
    "\n",
    "        spec_s = copy(spec)\n",
    "        spec_s.smoothSpec(size=median_box, method=\"median\")\n",
    "\n",
    "        cur_mask = 0\n",
    "        for i in range(niter):\n",
    "            mask = np.divide(spec._data, spec_s._data, where=spec_s._data != 0, out=np.zeros_like(spec_s._data)) < thresh\n",
    "\n",
    "            spec_s = Spectrum1D(data=np.interp(spec._pixels, spec._pixels[mask], spec._data[mask]))\n",
    "            spec_s.smoothSpec(size=30, method=\"median\")\n",
    "\n",
    "            if np.abs(cur_mask - mask.sum()) <= mask_delt: break\n",
    "            cur_mask = mask.sum()\n",
    "\n",
    "        # define continuum with last iteration's mask\n",
    "        mask = np.divide(spec._data, spec_s._data, where=spec_s._data != 0, out=np.zeros_like(spec_s._data)) < thresh\n",
    "        cont_rss[ifiber] = np.interp(spec._pixels, spec._pixels[mask], spec._data[mask])\n",
    "    \n",
    "    out_con = copy(arc)\n",
    "    out_con.setData(data=cont_rss)\n",
    "    new_arc = copy(arc)\n",
    "    new_arc.setData(data=arc._data - cont_rss)\n",
    "    \n",
    "    new_arc.writeFitsData(out_rss)\n",
    "    \n",
    "    return new_arc, out_con\n",
    "\n",
    "\n",
    "ORIG_MASTER_DIR = os.getenv(\"LVM_MASTER_DIR\")\n",
    "MASTER_CON_LAMPS = {\"b\": \"ldls\", \"r\": \"ldls\", \"z\": \"quartz\"}\n",
    "MASTER_ARC_LAMPS = {\"b\": \"hgne\", \"r\": \"neon\", \"z\": \"neon\"}\n",
    "SLITMAP = Table(drp.fibermap.data)"
   ]
  },
  {
   "cell_type": "code",
   "execution_count": 2,
   "id": "6ae18324-ec72-4ccf-ba6a-50fc4ac28840",
   "metadata": {
    "tags": []
   },
   "outputs": [
    {
     "name": "stderr",
     "output_type": "stream",
     "text": [
      "\u001b[0;34m[INFO]: \u001b[0mloading metadata store at /home/mejia/Research/lvm/lvmdata/data.sdss5.org/sas/sdsswork/lvm/spectro/redux/0.1.1.dev0/1111/60177/raw_metadata.hdf5\n",
      "\u001b[0;34m[INFO]: \u001b[0mfound 513 frames in store '/home/mejia/Research/lvm/lvmdata/data.sdss5.org/sas/sdsswork/lvm/spectro/redux/0.1.1.dev0/1111/60177/raw_metadata.hdf5'\n",
      "\u001b[0;34m[INFO]: \u001b[0mnumber of frames after filtering 513\n",
      "\u001b[0;34m[INFO]: \u001b[0mtotal number of frames found 513\n"
     ]
    }
   ],
   "source": [
    "frames_table = md.get_metadata(tileid=\"*\", mjd=60177)\n",
    "frames_table.query(\"imagetyp == 'bias' | imagetyp == 'dark' | imagetyp == 'flat' | imagetyp == 'arc'\", inplace=True)\n",
    "frames_table = frames_table.loc[frames_table.name.str.contains(\"sdR\")]"
   ]
  },
  {
   "cell_type": "code",
   "execution_count": 3,
   "id": "1fc0d55b-f4aa-4998-a4a3-8c7fc1e8e4cd",
   "metadata": {
    "tags": []
   },
   "outputs": [],
   "source": [
    "masters_mjd = frames_table.mjd.min()\n",
    "masters_path = os.path.join(ORIG_MASTER_DIR, f\"{masters_mjd}\")\n",
    "os.makedirs(masters_path, exist_ok=True)"
   ]
  },
  {
   "cell_type": "code",
   "execution_count": 4,
   "id": "2be1fa3c-c3fc-4695-920a-ac314b2e32a3",
   "metadata": {
    "tags": []
   },
   "outputs": [
    {
     "name": "stdout",
     "output_type": "stream",
     "text": [
      "combined lamps:  /home/mejia/Research/lvm/lvmdata/data.sdss5.org/sas/sdsswork/lvm/spectro/redux/0.1.1.dev0/1111/60177/calib/lvm-wmarc_hgne_argon_xenon_neon-b1.fits\n",
      "combined lamps:  /home/mejia/Research/lvm/lvmdata/data.sdss5.org/sas/sdsswork/lvm/spectro/redux/0.1.1.dev0/1111/60177/calib/lvm-wmarc_hgne_argon_xenon_neon-b2.fits\n",
      "combined lamps:  /home/mejia/Research/lvm/lvmdata/data.sdss5.org/sas/sdsswork/lvm/spectro/redux/0.1.1.dev0/1111/60177/calib/lvm-wmarc_hgne_argon_xenon_neon-b3.fits\n",
      "combined lamps:  /home/mejia/Research/lvm/lvmdata/data.sdss5.org/sas/sdsswork/lvm/spectro/redux/0.1.1.dev0/1111/60177/calib/lvm-wmarc_hgne_argon_xenon_neon-r1.fits\n",
      "combined lamps:  /home/mejia/Research/lvm/lvmdata/data.sdss5.org/sas/sdsswork/lvm/spectro/redux/0.1.1.dev0/1111/60177/calib/lvm-wmarc_hgne_argon_xenon_neon-r2.fits\n",
      "combined lamps:  /home/mejia/Research/lvm/lvmdata/data.sdss5.org/sas/sdsswork/lvm/spectro/redux/0.1.1.dev0/1111/60177/calib/lvm-wmarc_hgne_argon_xenon_neon-r3.fits\n",
      "combined lamps:  /home/mejia/Research/lvm/lvmdata/data.sdss5.org/sas/sdsswork/lvm/spectro/redux/0.1.1.dev0/1111/60177/calib/lvm-wmarc_hgne_argon_xenon_neon-z1.fits\n",
      "combined lamps:  /home/mejia/Research/lvm/lvmdata/data.sdss5.org/sas/sdsswork/lvm/spectro/redux/0.1.1.dev0/1111/60177/calib/lvm-wmarc_hgne_argon_xenon_neon-z2.fits\n",
      "combined lamps:  /home/mejia/Research/lvm/lvmdata/data.sdss5.org/sas/sdsswork/lvm/spectro/redux/0.1.1.dev0/1111/60177/calib/lvm-wmarc_hgne_argon_xenon_neon-z3.fits\n"
     ]
    }
   ],
   "source": [
    "lamp_combs = [(\"hgne\", \"argon\", \"xenon\", \"neon\")]\n",
    "arc_analogs = frames_table.query(\"imagetyp=='arc'\").groupby([\"camera\"])\n",
    "\n",
    "tileid = frames_table.tileid.iloc[0]\n",
    "\n",
    "for combs in lamp_combs:    \n",
    "    for camera in arc_analogs.groups:\n",
    "\n",
    "        # define input/output paths\n",
    "        warc_i_path = \",\".join([path.full(\"lvm_master\", drpver=drpver, tileid=tileid, mjd=masters_mjd, kind=f\"wmarc_{lamp}\", camera=camera) for lamp in combs])\n",
    "        warc_c_path = path.full(\"lvm_master\", drpver=drpver, tileid=tileid, mjd=masters_mjd, kind=f\"wmarc_{'_'.join(combs)}\", camera=camera)\n",
    "        \n",
    "        # combine RSS files\n",
    "        rssMethod.combineRSS_drp(in_rsss=warc_i_path, out_rss=warc_c_path, method=\"sum\")\n",
    "        \n",
    "        # subtract continuum from each fiber\n",
    "        subtract_continuum(in_rss=warc_c_path, out_rss=warc_c_path, median_box=50, thresh=1.001, niter=1)\n",
    "        \n",
    "        # fix metadata and additional extensions\n",
    "        rss_c = rssMethod.loadRSS(warc_c_path)\n",
    "        rss_c.setSlitmap(Table(drp.fibermap.data))\n",
    "        for lamp in combs:\n",
    "            rss_c._header[lamp.upper()] = \"ON\"\n",
    "        rss_c._header[\"OBJECT\"] = \", \".join([lamp.capitalize() for lamp in combs])\n",
    "        rss_c.writeFitsData(warc_c_path)\n",
    "        print(\"combined lamps: \", warc_c_path)"
   ]
  },
  {
   "cell_type": "code",
   "execution_count": 5,
   "id": "3f616cde-7401-489b-83ed-e39f08384f84",
   "metadata": {
    "tags": []
   },
   "outputs": [],
   "source": [
    "# in_rss = \"/home/mejia/Research/lvm/lvmdata/data.sdss5.org/sas/sdsswork/lvm/spectro/redux/0.1.1.dev0/1111/60177/calib/lvm-wmarc_hgne_argon_xenon_neon-b1.fits\"\n",
    "# new_arc, new_con = subtract_continuum(in_rss=in_rss, out_rss=\"test_cont.fits\", median_box=50, thresh=1.001, niter=1)\n",
    "# print(new_con._data.mean())"
   ]
  }
 ],
 "metadata": {
  "kernelspec": {
   "display_name": "Python 3 (ipykernel)",
   "language": "python",
   "name": "python3"
  },
  "language_info": {
   "codemirror_mode": {
    "name": "ipython",
    "version": 3
   },
   "file_extension": ".py",
   "mimetype": "text/x-python",
   "name": "python",
   "nbconvert_exporter": "python",
   "pygments_lexer": "ipython3",
   "version": "3.10.12"
  }
 },
 "nbformat": 4,
 "nbformat_minor": 5
}
