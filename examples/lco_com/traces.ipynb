{
 "cells": [
  {
   "cell_type": "code",
   "execution_count": null,
   "id": "93b493b2-9db3-4316-a381-0bc139ccf0ee",
   "metadata": {
    "tags": []
   },
   "outputs": [],
   "source": [
    "# %matplotlib widget\n",
    "\n",
    "import os\n",
    "import numpy as np\n",
    "import pandas as pd\n",
    "import matplotlib.pyplot as plt\n",
    "from astropy.table import Table\n",
    "\n",
    "from itertools import product\n",
    "from copy import deepcopy as copy\n",
    "from tqdm import tqdm\n",
    "from lvmdrp.core.fit_profile import Gaussians\n",
    "import bottleneck as bn\n",
    "\n",
    "from lvmdrp import path, __version__ as drpver\n",
    "from lvmdrp.utils import metadata as md\n",
    "from lvmdrp.functions import run_drp as drp\n",
    "\n",
    "from lvmdrp.functions import imageMethod\n",
    "\n",
    "ORIG_MASTER_DIR = os.getenv(\"LVM_MASTER_DIR\")\n",
    "MASTER_CON_LAMPS = {\"b\": \"ldls\", \"r\": \"ldls\", \"z\": \"quartz\"}\n",
    "MASTER_ARC_LAMPS = {\"b\": \"hgne\", \"r\": \"neon\", \"z\": \"neon\"}\n",
    "\n",
    "\n",
    "f = np.sqrt(2 * np.pi)\n",
    "def gaussians(pars, x):\n",
    "    y = pars[0][:, None] * np.exp(-0.5 * ((x[None, :] - pars[1][:, None]) / pars[2][:, None]) ** 2) / (pars[2][:, None] * f)\n",
    "    return np.sum(y, axis=0)"
   ]
  },
  {
   "cell_type": "code",
   "execution_count": null,
   "id": "0c31eb08",
   "metadata": {},
   "outputs": [],
   "source": [
    "# # create region files for fiber locations at column 2000\n",
    "# _create_peaks_regions(fibermap=Table(drp.fibermap.data), column=2000)"
   ]
  },
  {
   "cell_type": "code",
   "execution_count": null,
   "id": "5eb8d9c7-be59-4d74-bd58-c3357b085184",
   "metadata": {
    "tags": []
   },
   "outputs": [],
   "source": [
    "frames_table = md.get_metadata(tileid=\"*\", mjd=60177)\n",
    "frames_table.query(\"imagetyp == 'bias' | imagetyp == 'dark' | imagetyp == 'flat' | imagetyp == 'arc'\", inplace=True)"
   ]
  },
  {
   "cell_type": "code",
   "execution_count": null,
   "id": "26be6955-2b7d-407a-b962-c96732c0fc9e",
   "metadata": {
    "tags": []
   },
   "outputs": [],
   "source": [
    "masters_mjd = frames_table.mjd.min()\n",
    "masters_path = os.path.join(ORIG_MASTER_DIR, f\"{masters_mjd}\")"
   ]
  },
  {
   "cell_type": "code",
   "execution_count": null,
   "id": "bab04223-2803-4734-b40a-fc4ed26fae03",
   "metadata": {
    "tags": []
   },
   "outputs": [],
   "source": [
    "masters_flat = md.get_metadata(kind=\"master\", imagetyp=\"flat\").query(\"mjd == @masters_mjd\").sort_values(\"camera\")\n",
    "masters_flat"
   ]
  },
  {
   "cell_type": "code",
   "execution_count": null,
   "id": "c1a86a56",
   "metadata": {},
   "outputs": [],
   "source": [
    "camera = \"z2\"\n",
    "lamp = MASTER_CON_LAMPS[camera[0]]\n",
    "if lamp == \"ldls\":\n",
    "    counts_threshold = 20\n",
    "elif lamp == \"quartz\":\n",
    "    counts_threshold = 1000\n",
    "\n",
    "mflat_path = path.full(\"lvm_master\", drpver=drpver, tileid=1111, mjd=masters_mjd, kind=f\"mflat_{lamp}\", camera=camera)\n",
    "\n",
    "centroids, trace_cent, trace_flux, trace_fwhm = imageMethod.trace_fibers(\n",
    "    in_image=mflat_path,\n",
    "    out_trace_amp=\"test_amp.fits\", out_trace_cent=\"test_cent.fits\", out_trace_fwhm=\"test_fwhm.fits\", out_trace_cent_guess=\"test_cent_guess.fits\",\n",
    "    correct_ref=False, median_box=(1,10), coadd=5,\n",
    "    counts_threshold=counts_threshold, max_diff=1.5, method=\"hyperbolic\",\n",
    "    ncolumns=(4086, 18), nblocks=18,\n",
    "    fit_poly=False, poly_deg=(4, 4, 3), display_plots=True)"
   ]
  },
  {
   "cell_type": "code",
   "execution_count": null,
   "id": "ecb657bd",
   "metadata": {},
   "outputs": [],
   "source": [
    "from lvmdrp.functions import rssMethod\n",
    "\n",
    "\n",
    "SLITMAP = Table(drp.fibermap.data)\n",
    "\n",
    "fibermap = SLITMAP[SLITMAP[\"spectrographid\"] == int(camera[1])]\n",
    "select = fibermap[\"telescope\"] == \"Spec\"\n",
    "con_lamp = MASTER_CON_LAMPS[camera[0]]\n",
    "\n",
    "trace_fwhm._mask[trace_fwhm._data <= 0] = True\n",
    "# trace_fwhm.smoothTracePoly(6)\n",
    "\n",
    "ifibers = np.where(select)[0]\n",
    "for idx in ifibers:\n",
    "    plt.figure(figsize=(15, 5))\n",
    "    plt.plot(trace_fwhm._data[idx], color=\"r\", label=fibermap[idx][\"orig_ifulabel\"])\n",
    "    plt.plot(trace_fwhm._data[idx+1], color=\"k\", label=fibermap[idx+1][\"orig_ifulabel\"])\n",
    "    plt.plot(trace_fwhm._data[idx-1], color=\"k\", label=fibermap[idx-1][\"orig_ifulabel\"])\n",
    "    plt.title(f\"{camera}\")\n",
    "    plt.legend(loc=2)\n"
   ]
  },
  {
   "cell_type": "code",
   "execution_count": null,
   "id": "71969c5f-c1a5-4f91-8c86-607f846ddace",
   "metadata": {
    "tags": []
   },
   "outputs": [],
   "source": [
    "mtrace_paths = []\n",
    "for flat in masters_flat.to_dict(\"records\"):\n",
    "    camera = flat[\"camera\"]\n",
    "    \n",
    "    lamp = MASTER_CON_LAMPS[camera[0]]\n",
    "    if lamp == \"ldls\":\n",
    "        counts_threshold = 20\n",
    "    elif lamp == \"quartz\":\n",
    "        counts_threshold = 1000\n",
    "    \n",
    "    # define master continuum exposure path\n",
    "    mflat_path = path.full(\"lvm_master\", drpver=drpver, tileid=flat[\"tileid\"], mjd=masters_mjd, kind=f\"mflat_{lamp}\", camera=camera)\n",
    "    # define master trace path\n",
    "    mtrace_path = os.path.join(masters_path, f\"lvm-mtrace-{camera}.fits\")\n",
    "    mtrace_paths.append(mtrace_path)\n",
    "\n",
    "    # if os.path.isfile(mtrace_path):\n",
    "    #     print(f\"skipping {mtrace_path}, file already exist\")\n",
    "    #     continue\n",
    "    \n",
    "    # trace peak of fibers\n",
    "    imageMethod.trace_peaks(in_image=mflat_path, out_trace=mtrace_path, steps=30, coadd=5,\n",
    "                            threshold=counts_threshold, max_diff=1.5, method=\"gauss\", median_box=10,\n",
    "                            correct_ref=True, median_cross=1, poly_disp=4, write_trace_data=False, display_plots=True)\n",
    "    break\n",
    "\n",
    "# cache new masters metadata into HDF5 files\n",
    "new_masters = md.extract_metadata(frames_paths=mtrace_paths)\n",
    "md.add_masters(new_masters)"
   ]
  },
  {
   "cell_type": "code",
   "execution_count": null,
   "id": "c104b33f",
   "metadata": {},
   "outputs": [],
   "source": [
    "from lvmdrp.core.tracemask import TraceMask\n",
    "from lvmdrp.functions import rssMethod\n",
    "\n",
    "\n",
    "SLITMAP = Table(drp.fibermap.data)\n",
    "\n",
    "for camera in np.unique(masters_flat.camera.values):\n",
    "    fibermap = SLITMAP[SLITMAP[\"spectrographid\"] == int(camera[1])]\n",
    "    select = fibermap[\"telescope\"] == \"Spec\"\n",
    "    con_lamp = MASTER_CON_LAMPS[camera[0]]\n",
    "\n",
    "    mtrace_path = os.path.join(masters_path, f\"lvm-mtrace-{camera}.fits\")\n",
    "    trace = TraceMask()\n",
    "    trace.loadFitsData(mtrace_path)\n",
    "    trace._data[select]\n",
    "\n",
    "    ifibers = np.where(select)[0]\n",
    "    for idx in ifibers:\n",
    "        plt.figure(figsize=(15, 5))\n",
    "        plt.plot(trace._data[idx], color=\"r\", label=fibermap[idx][\"orig_ifulabel\"])\n",
    "        plt.plot(trace._data[idx+1], color=\"k\", label=fibermap[idx+1][\"orig_ifulabel\"])\n",
    "        plt.plot(trace._data[idx-1], color=\"k\", label=fibermap[idx-1][\"orig_ifulabel\"])\n",
    "        plt.title(f\"{camera}\")\n",
    "        plt.legend(loc=2)\n",
    "    break"
   ]
  },
  {
   "cell_type": "code",
   "execution_count": null,
   "id": "e9f44738",
   "metadata": {},
   "outputs": [],
   "source": [
    "mwidth_paths = []\n",
    "for flat in masters_flat.to_dict(\"records\"):\n",
    "    camera = flat[\"camera\"]\n",
    "\n",
    "    lamp = MASTER_CON_LAMPS[camera[0]]\n",
    "    if lamp == \"ldls\":\n",
    "        counts_threshold = 20\n",
    "    elif lamp == \"quartz\":\n",
    "        counts_threshold = 1000\n",
    "    \n",
    "    # define master continuum exposure path\n",
    "    mflat_path = path.full(\"lvm_master\", drpver=drpver, tileid=flat[\"tileid\"], mjd=masters_mjd, kind=f\"mflat_{lamp}\", camera=camera)\n",
    "    mtrace_path = os.path.join(masters_path, f\"lvm-mtrace-{camera}.fits\")\n",
    "    # define master width path\n",
    "    mwidth_path = os.path.join(masters_path, f\"lvm-mwidth-{camera}.fits\")\n",
    "    mwidth_paths.append(mwidth_path)\n",
    "\n",
    "    if os.path.isfile(mwidth_path):\n",
    "        print(f\"skipping {mwidth_path}, file already exist\")\n",
    "        continue\n",
    "\n",
    "    gaussian_fits, trace_flux, trace_cent, trace_fwhm, trace_flux_fit, trace_cent_fit, trace_fwhm_fit = imageMethod.trace_fiber_fwhm(in_image=mflat_path,\n",
    "                                                                                                                                     in_centroid_trace=mtrace_path,\n",
    "                                                                                                                                     out_fwhm_trace=mwidth_path,\n",
    "                                                                                                                                     median_box=10, median_cross=1,\n",
    "                                                                                                                                     ref_column=2000, nslices=18, nblocks=18, guess_fwhm=3,\n",
    "                                                                                                                                     flux_threshold=None,\n",
    "                                                                                                                                     fit_poly=False,\n",
    "                                                                                                                                     display_plots=True)\n",
    "\n",
    "    # evaluate continuum exposure model\n",
    "    img = imageMethod.loadImage(mflat_path)\n",
    "    mod = copy(img)\n",
    "\n",
    "    column = np.arange(img._dim[0])\n",
    "    for icolumn in tqdm(range(img._dim[1]), desc=\"evaluating Gaussians\", unit=\"column\", ascii=True):\n",
    "        pars = (trace_flux_fit._data[:, icolumn], trace_cent_fit._data[:, icolumn], trace_fwhm_fit._data[:, icolumn] / 2.354)\n",
    "\n",
    "        mod._data[:, icolumn] = gaussians(pars=pars, x=column)\n",
    "\n",
    "    # save model and model to data ratio\n",
    "    mmod_path = os.path.join(masters_path, f\"lvm-mmod-{camera}.fits\")\n",
    "    mrat_path = os.path.join(masters_path, f\"lvm-mrat-{camera}.fits\")\n",
    "    mod.writeFitsData(mmod_path)\n",
    "    (mod / img).writeFitsData(mrat_path)\n",
    "\n",
    "# cache new masters metadata into HDF5 files\n",
    "new_masters = md.extract_metadata(frames_paths=mwidth_paths)\n",
    "md.add_masters(new_masters)"
   ]
  }
 ],
 "metadata": {
  "kernelspec": {
   "display_name": "Python 3 (ipykernel)",
   "language": "python",
   "name": "python3"
  },
  "language_info": {
   "codemirror_mode": {
    "name": "ipython",
    "version": 3
   },
   "file_extension": ".py",
   "mimetype": "text/x-python",
   "name": "python",
   "nbconvert_exporter": "python",
   "pygments_lexer": "ipython3",
   "version": "3.10.12"
  }
 },
 "nbformat": 4,
 "nbformat_minor": 5
}
