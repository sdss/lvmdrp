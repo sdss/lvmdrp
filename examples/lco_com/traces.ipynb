{
 "cells": [
  {
   "cell_type": "code",
   "execution_count": null,
   "id": "93b493b2-9db3-4316-a381-0bc139ccf0ee",
   "metadata": {
    "tags": []
   },
   "outputs": [],
   "source": [
    "%matplotlib widget\n",
    "\n",
    "import os\n",
    "import numpy as np\n",
    "import pandas as pd\n",
    "import itertools as it\n",
    "from glob import glob\n",
    "import matplotlib.pyplot as plt\n",
    "from scipy import interpolate\n",
    "from sbpy.calib import Sun\n",
    "from astropy import units as u\n",
    "from astropy.io import fits\n",
    "\n",
    "from mpl_toolkits.axes_grid1.inset_locator import inset_axes\n",
    "from mpl_toolkits.axes_grid1.axes_divider import make_axes_locatable\n",
    "from astropy.visualization import ImageNormalize, PercentileInterval, AsinhStretch\n",
    "from astropy.visualization import simple_norm\n",
    "\n",
    "from lvmdrp.core.constants import LVM_UNAM_URL\n",
    "from lvmdrp.utils.examples import fetch_example_data, get_frames_metadata, fix_lamps_metadata, get_masters_metadata\n",
    "from lvmdrp.utils import metadata as md\n",
    "from lvmdrp import config, log, path, __version__ as drpver\n",
    "\n",
    "from lvmdrp.core import rss, image, spectrum1d\n",
    "from lvmdrp.core import tracemask\n",
    "from lvmdrp.functions import imageMethod\n",
    "from lvmdrp.functions import run_drp as drp\n",
    "\n",
    "plt.style.use(\"seaborn-v0_8-talk\")"
   ]
  },
  {
   "cell_type": "code",
   "execution_count": null,
   "id": "da057a08-fd98-4c91-ad62-ceebe94b71ac",
   "metadata": {
    "tags": []
   },
   "outputs": [],
   "source": [
    "# _ = drp.get_master_metadata(overwrite=True)"
   ]
  },
  {
   "cell_type": "code",
   "execution_count": null,
   "id": "e9261282-dec6-47cd-a8f2-5a5ecde48190",
   "metadata": {
    "tags": []
   },
   "outputs": [],
   "source": [
    "masters_flat = md.get_metadata(kind=\"master\", tileid=1111, mjd=\"6014?\", imagetyp=\"flat\")\n",
    "masters_flat = masters_flat.loc[masters_flat.name.str.contains(\"mflat\")]\n",
    "masters_flat.sort_values(\"camera\", inplace=True)\n",
    "masters_flat"
   ]
  },
  {
   "cell_type": "code",
   "execution_count": null,
   "id": "71969c5f-c1a5-4f91-8c86-607f846ddace",
   "metadata": {
    "tags": []
   },
   "outputs": [],
   "source": [
    "for idx, flat in masters_flat.iterrows():\n",
    "    # if flat.camera != \"b2\": continue\n",
    "    if flat.camera[0] in {\"b\", \"r\"}:\n",
    "        lamp = \"ldls\"\n",
    "    else:\n",
    "        lamp = \"quartz\"\n",
    "    mflat = path.full(\"lvm_master\", drpver=drpver, tileid=flat.tileid, mjd=flat.mjd, camera=flat.camera, kind=f\"mflat_{lamp}\")\n",
    "    \n",
    "    # trace peak of fibers\n",
    "    mtrace = path.full(\"lvm_master\", drpver=drpver, tileid=flat.tileid, mjd=flat.mjd, camera=flat.camera, kind=\"mtrace\")\n",
    "    trace_data, trace = imageMethod.trace_peaks(in_image=mflat, out_trace=mtrace, steps=30, coadd=5, threshold=0.5, max_diff=1.5, method=\"gauss\", median_box=10, median_cross=1, poly_disp=4, write_trace_data=True, display_plots=True)"
   ]
  },
  {
   "cell_type": "code",
   "execution_count": null,
   "id": "297841fb-d146-4c5b-9a66-fe9837a6efc3",
   "metadata": {
    "tags": []
   },
   "outputs": [],
   "source": [
    "trace = fits.open(f\"data_traces/traces_{camera}.fits\")\n",
    "trace.info()\n",
    "\n",
    "traces = trace[0].data\n",
    "mask = trace[\"BADPIX\"].data\n",
    "coeffs = trace[\"COEFFS\"].data\n",
    "\n",
    "x_pixels = np.arange(traces.shape[1])\n",
    "y_pixels = np.arange(traces.shape[0])\n",
    "\n",
    "ifiber = 1\n",
    "\n",
    "plt.figure()\n",
    "plt.plot(x_pixels, np.poly1d(coeffs[ifiber-1][::-1])(x_pixels))\n",
    "plt.plot(x_pixels, np.poly1d(coeffs[ifiber][::-1])(x_pixels))\n",
    "plt.plot(x_pixels, np.poly1d(coeffs[ifiber+1][::-1])(x_pixels))"
   ]
  },
  {
   "cell_type": "code",
   "execution_count": null,
   "id": "b6949848-ee97-485d-9b47-24f047f55694",
   "metadata": {
    "tags": []
   },
   "outputs": [],
   "source": [
    "# load traces\n",
    "t = tracemask.TraceMask()\n",
    "t.loadFitsData(f\"data_traces/traces_{camera}.fits\")\n",
    "# define bad fibers\n",
    "bad_fibers = np.where(t._mask.sum(axis=1) == 4086)[0]\n",
    "\n",
    "# plot some traces\n",
    "x_pixels = np.arange(t._data.shape[1])\n",
    "y_pixels = np.arange(t._fibers)\n",
    "plt.figure()\n",
    "plt.plot(x_pixels, np.polynomial.Polynomial(t._coeffs[0])(x_pixels))\n",
    "plt.plot(x_pixels, np.polynomial.Polynomial(t._coeffs[1])(x_pixels))\n",
    "plt.plot(x_pixels, np.polynomial.Polynomial(t._coeffs[2])(x_pixels))\n",
    "\n",
    "# define spec fibermap\n",
    "spec = fibermap[fibermap[\"spectrographid\"] == int(camera[1])]\n",
    "# get fiber positions at reference column\n",
    "positions = fibermap[fibermap[\"spectrographid\"] == int(camera[1])][f\"ypix_{camera[0]}\"].value\n",
    "\n",
    "print(\"bad/missing fibers:\")\n",
    "print(spec[bad_fibers])\n",
    "\n",
    "for column in range(t._data.shape[1]):\n",
    "    \n",
    "    # linearly interpolate coefficients at masked fibers\n",
    "    mask = t._mask[:, column]\n",
    "    for order in range(t._coeffs.shape[1]):\n",
    "        t._coeffs[mask, order] = np.interp(y_pixels[mask], y_pixels[~mask], t._coeffs[~mask, order])\n",
    "\n",
    "\n",
    "# evaluate trace at interpolated fibers\n",
    "for ifiber in y_pixels[bad_fibers]:\n",
    "    poly = np.polynomial.Polynomial(t._coeffs[ifiber, :])\n",
    "    t._data[ifiber, :] = poly(x_pixels)\n",
    "\n",
    "plt.figure()\n",
    "plt.plot(x_pixels, np.polynomial.Polynomial(t._coeffs[0])(x_pixels))\n",
    "plt.plot(x_pixels, np.polynomial.Polynomial(t._coeffs[1])(x_pixels))\n",
    "plt.plot(x_pixels, np.polynomial.Polynomial(t._coeffs[2])(x_pixels))"
   ]
  },
  {
   "cell_type": "code",
   "execution_count": null,
   "id": "4faa2723-2cde-487a-85e6-9471641f8ab8",
   "metadata": {
    "tags": []
   },
   "outputs": [],
   "source": [
    "flat = image.loadImage(mflat)\n",
    "profile = flat.getSlice(2000, axis=\"y\")._data\n",
    "\n",
    "pixels = np.arange(profile.size)\n",
    "plt.figure(figsize=(20,5))\n",
    "plt.plot(pixels, profile, \"-k\")\n",
    "plt.plot(pixels[positions], profile[positions], \"or\")"
   ]
  },
  {
   "cell_type": "code",
   "execution_count": null,
   "id": "ea9fc3b0-04dd-45aa-bd5e-a7170a649c72",
   "metadata": {
    "tags": []
   },
   "outputs": [],
   "source": [
    "# from copy import deepcopy as copy\n",
    "\n",
    "# pixels = np.arange(trace_data._data.shape[1])\n",
    "# mask = (trace_data._data != 0).sum(axis=0).astype(bool)\n",
    "# x_peak = copy(1 + pixels[mask])\n",
    "# y_peak = copy(1 + trace_data._data[:, mask])\n",
    "\n",
    "# x_poly = np.tile(x_peak, trace._fibers)\n",
    "# y_poly = x_poly\n",
    "\n",
    "# x_peak.shape, y_peak.shape, trace._fibers\n",
    "# np.tile(x_peak, trace._fibers).shape\n",
    "# y_peak.flatten().shape\n",
    "# table = np.column_stack((x_poly, y_poly))"
   ]
  },
  {
   "cell_type": "code",
   "execution_count": null,
   "id": "832fea09-449b-4aef-9a32-f1bb7ab11789",
   "metadata": {
    "tags": []
   },
   "outputs": [],
   "source": [
    "# imageMethod.extract_spectra(in_image=mflat, out_rss=\"test_rss.fits\", in_trace=mtrace, fwhm=\"test_fwhm.fits\", parallel=0, plot_fig=False)"
   ]
  },
  {
   "cell_type": "code",
   "execution_count": null,
   "id": "35262494-fe43-46ad-8ffb-ab001e2ef85a",
   "metadata": {
    "tags": []
   },
   "outputs": [],
   "source": [
    "# idx = -1\n",
    "# print(masters_flat.iloc[idx].path)\n",
    "# flat = image.loadImage(masters_flat.iloc[idx].path)\n",
    "\n",
    "# yguess = flat.getSlitmap()[\"ypix\"]\n",
    "\n",
    "# profile = np.nan_to_num(flat._data[:, 2000], nan=0.0)\n",
    "# ypix = np.arange(profile.size)\n",
    "\n",
    "# # guess_heights = np.interp(yguess, ypix, profile)\n",
    "# guess_heights = np.ones_like(yguess) * np.nanmax(profile)\n",
    "# ref_profile = spectrum1d._spec_from_lines(yguess, sigma=1.2, wavelength=ypix, heights=guess_heights)\n",
    "\n",
    "# plt.figure(figsize=(20,5))\n",
    "# plt.step(ypix, ref_profile, lw=1, where=\"mid\")\n",
    "# plt.step(ypix, profile, lw=1, color=\"k\", where=\"mid\")\n",
    "# plt.plot(yguess, np.ones_like(yguess) * np.nanmax(profile), \".\", ms=5, color=\"red\")\n",
    "\n",
    "# plt.tight_layout()\n",
    "\n",
    "# cc, bhat, mhat = spectrum1d._cross_match(ref_spec=ref_profile, obs_spec=profile, stretch_factors=np.linspace(0.7,1.3,5000), shift_range=[-100, 100])\n",
    "# print(cc, bhat, mhat)\n",
    "\n",
    "# plt.figure(figsize=(20,5))\n",
    "# plt.step(ypix, spectrum1d._apply_shift_and_stretch(ref_profile, shift=bhat, stretch_factor=mhat), lw=0.5, color=\"b\", where=\"mid\")\n",
    "# plt.step(ypix, profile, lw=1, color=\"k\", where=\"mid\")\n",
    "# plt.plot(yguess*mhat + bhat, np.ones_like(yguess) * np.nanmax(profile), \".\", ms=5, color=\"red\")\n",
    "# plt.tight_layout()"
   ]
  },
  {
   "cell_type": "code",
   "execution_count": null,
   "id": "d7e211d0-95b8-4ebb-ac92-df3be9f729bd",
   "metadata": {
    "tags": []
   },
   "outputs": [],
   "source": [
    "for _, row in metadata.iterrows():\n",
    "#     masters_cal = md.match_master_metadata(target_imagetyp=row.imagetyp, target_camera=row.camera)\n",
    "#     bias, dark = masters_cal[\"bias\"], masters_cal[\"dark\"]\n",
    "#     mbias_path = path.full(\"lvm_cal_mbias\", drpver=drpver, tileid=bias.tileid, mjd=bias.mjd, camera=bias.camera)\n",
    "#     mdark_path = path.full(\"lvm_cal_time\", drpver=drpver, tileid=dark.tileid, mjd=dark.mjd, camera=dark.camera, exptime=dark.exptime, kind=\"mdark\")\n",
    "    \n",
    "#     raw_path = path.full(\"lvm_raw\", hemi=\"s\", mjd=row.mjd, camspec=row.camera, expnum=row.expnum)\n",
    "#     pre_path = path.full(\"lvm_anc\", drpver=drpver, hemi=\"s\", tileid=row.tileid, mjd=row.mjd, camera=row.camera, expnum=row.expnum, imagetype=row.imagetyp, kind=\"p\")\n",
    "    cal_path = path.full(\"lvm_master\", drpver=drpver, tileid=row.tileid, mjd=row.mjd, camera=row.camera, kind=\"mflat\")\n",
    "    pks_path = path.full(\"lvm_cal\", drpver=drpver, hemi=\"s\", tileid=row.tileid, mjd=row.mjd, camera=row.camera, expnum=row.expnum, kind=\"peaks\", ext=\"txt\")\n",
    "    \n",
    "    # imageMethod.preproc_raw_frame(raw_path, pre_path)\n",
    "    # imageMethod.detrend_frame(pre_path, cal_path)\n",
    "    imageMethod.find_peaks_auto(cal_path, \"peaks_test.fits\", slice=2000, display_plots=True)"
   ]
  },
  {
   "cell_type": "code",
   "execution_count": null,
   "id": "301713c2-b035-47f8-a40e-21fc961d14a7",
   "metadata": {
    "tags": []
   },
   "outputs": [],
   "source": [
    "cam = \"b1\"\n",
    "\n",
    "input_fiberflat_path = f\"/home/mejia/Research/UNAM/lvm-drp/lvmdrp/examples/data/lco_com/sas/sdsswork/lvm/spectro/redux/0.1.0.dev0/1111/60115/ancillary/lvm-cflat-{cam}-00000912.fits\"\n",
    "output_peaks_path = \"peaks_test.fits\"\n",
    "\n",
    "imageMethod.find_peaks_auto(\n",
    "    in_image=input_fiberflat_path, out_peaks=output_peaks_path,\n",
    "    pixel_range=[10, 4000], fibers_dmin=5, threshold=0.08, slice=2000, median_box=[1, 10],\n",
    "    display_plots=True)\n",
    "\n",
    "imageMethod.trace_peaks(input_fiberflat_path, in_peaks=output_peaks_path, out_trace=\"trace_test.fits\", poly_disp=6, threshold=20)"
   ]
  },
  {
   "cell_type": "code",
   "execution_count": null,
   "id": "9faed1ae-79a1-42cc-8f7b-dc28d1e350ee",
   "metadata": {
    "tags": []
   },
   "outputs": [],
   "source": [
    "x = fits.open(\"peaks_test.fits\", ignore_missing_simple=True)\n",
    "x[1].header"
   ]
  },
  {
   "cell_type": "code",
   "execution_count": null,
   "id": "9e88a125-2995-42bf-98fc-906a4f53a51e",
   "metadata": {
    "tags": []
   },
   "outputs": [],
   "source": [
    "_, obs_fibers, _, _ = np.genfromtxt(output_peaks_path, skip_header=1, dtype=[int, int, float, bool], unpack=True)\n",
    "\n",
    "pixels = np.arange(4080)\n",
    "obs_profile = np.zeros_like(pixels)\n",
    "obs_profile[obs_fibers] = 1\n",
    "\n",
    "plt.figure()\n",
    "plt.hist(np.diff(obs_fibers), bins=50)\n",
    "plt.gca().set_yscale(\"log\")"
   ]
  },
  {
   "cell_type": "code",
   "execution_count": null,
   "id": "2c300580-e24a-4f0e-90df-52b24658ce09",
   "metadata": {
    "tags": []
   },
   "outputs": [],
   "source": [
    "ref_sep = 5\n",
    "ref_block = np.arange(0, ref_sep*36, ref_sep)\n",
    "ref_block\n",
    "\n",
    "ref_gap = 20\n",
    "ref_dif = 125\n",
    "nblocks = 18\n",
    "\n",
    "ref_fibers = np.asarray([(ref_dif + i*(ref_block.max()+ref_gap)) + ref_block for i in range(nblocks)]).flatten()\n",
    "ref_fibers\n",
    "\n",
    "ref_profile = np.zeros_like(pixels)\n",
    "ref_profile[ref_fibers] = 1\n",
    "\n",
    "plt.figure(figsize=(15,5))\n",
    "plt.step(pixels, ref_profile, lw=0.5, color=\"k\", where=\"mid\")\n",
    "plt.step(pixels, obs_profile, lw=0.5, color=\"tab:blue\", where=\"mid\")\n"
   ]
  },
  {
   "cell_type": "code",
   "execution_count": null,
   "id": "77ad4330-d1da-4701-924d-84c502c3a01f",
   "metadata": {
    "tags": []
   },
   "outputs": [],
   "source": [
    "# obs_profile = spectrum1d._apply_shift_and_stretch(ref_profile, shift=10, stretch_factor=0.9)\n",
    "c, bhat, mhat = spectrum1d._cross_match(ref_profile, obs_profile, stretch_factors=np.linspace(0.8,1.2,2000), shift_range=[-100, 100], peak_num=648)\n",
    "print(c, mhat, bhat)\n",
    "\n",
    "plt.figure(figsize=(15,5))\n",
    "plt.step(pixels, spectrum1d._apply_shift_and_stretch(ref_profile, shift=bhat, stretch_factor=mhat), lw=0.5, color=\"k\", where=\"mid\")\n",
    "plt.step(pixels, obs_profile, lw=1, color=\"tab:red\")"
   ]
  },
  {
   "cell_type": "code",
   "execution_count": null,
   "id": "4e1dfc96-5d8e-454c-925f-adb19f6f8b5e",
   "metadata": {
    "tags": []
   },
   "outputs": [],
   "source": [
    "# extract metadata\n",
    "frames_table = get_frames_metadata(path=os.path.join(data_path, \"lco_com\"), ignore_cache=False).to_pandas()\n",
    "frames_table = frames_table.loc[~frames_table.mjd.isin([60008,60009,60037,60038])]\n",
    "# fix arc lamps metadata\n",
    "fix_lamps_metadata(metadata=frames_table, lamp_names=\"argon neon ldls hgne xenon krypton\".split())\n",
    "\n",
    "# get master calibration metadata\n",
    "masters_fiberflat = get_masters_metadata(path_pattern=out_calib_path, mjd=\"super\", kind=\"mfiberflat\").sort_values(\"camera\")"
   ]
  },
  {
   "cell_type": "code",
   "execution_count": null,
   "id": "ce76e325-894d-499f-baa5-d2dcb94ad93d",
   "metadata": {
    "tags": []
   },
   "outputs": [],
   "source": [
    "for _, mfiberflat in masters_fiberflat.iterrows():\n",
    "    print(mfiberflat)\n",
    "    \n",
    "    try:\n",
    "        imageMethod.findPeaksAuto_drp(\n",
    "            in_image=mfiberflat.path,\n",
    "            out_peaks=out_calib_path.format(mjd=mfiberflat.mjd, kind=\"mpeaks\", camera=mfiberflat.camera, exptime=mfiberflat.exptime).replace(\".fits\", \".txt\"),\n",
    "            nfibers=638, slice=3000, threshold=0, method=\"hyperbolic\", median_box=10, median_cross=1, display_plots=1\n",
    "        )\n",
    "    except ValueError:\n",
    "        imageMethod.image_logger.error(f\"error while detecting fibers in '{mfiberflat.path}'\")\n",
    "        continue"
   ]
  },
  {
   "cell_type": "code",
   "execution_count": null,
   "id": "4b8e448b-3093-44f2-9e6e-f5fef108266f",
   "metadata": {
    "tags": []
   },
   "outputs": [],
   "source": [
    "# avoid edges by one or two boxes before fitting the trace\n",
    "for _, mfiberflat in masters_fiberflat.iterrows():\n",
    "    print(mfiberflat)\n",
    "    try:\n",
    "        imageMethod.tracePeaks_drp(\n",
    "            in_image=mfiberflat.path,\n",
    "            out_trace=out_calib_path.format(mjd=mfiberflat.mjd, kind=\"mtrace\", camera=mfiberflat.camera, exptime=int(mfiberflat.exptime) if mfiberflat.exptime != \"x\" else mfiberflat.exptime),\n",
    "            in_peaks=out_calib_path.format(mjd=mfiberflat.mjd, kind=\"mpeaks\", camera=mfiberflat.camera, exptime=int(mfiberflat.exptime) if mfiberflat.exptime != \"x\" else mfiberflat.exptime).replace(\".fits\", \".txt\"),\n",
    "            steps=30, coadd=1, threshold=0, max_diff=2, method=\"hyperbolic\", median_box=10, median_cross=1, plot=1,\n",
    "            poly_disp=2\n",
    "        )\n",
    "    except np.linalg.LinAlgError:\n",
    "        imageMethod.image_logger.error(f\"error while tracing fiberflat '{mfiberflat.path}'\")\n",
    "        continue"
   ]
  },
  {
   "cell_type": "code",
   "execution_count": null,
   "id": "0af6c357-5a4b-4abe-8a38-523346402976",
   "metadata": {
    "tags": []
   },
   "outputs": [],
   "source": [
    "# from lvmdrp.core import tracemask\n",
    "# from astropy.visualization import simple_norm\n",
    "\n",
    "# trace_path = out_calib_path.format(mjd=\"super\", kind=\"mtrace\", camera=\"r2\", exptime=\"x\")\n",
    "\n",
    "# trace = tracemask.TraceMask()\n",
    "# trace.loadFitsData(trace_path)\n",
    "\n",
    "# fiberflat = image.loadImage(trace_path.replace(\"mtrace\", \"mfiberflat\"))\n",
    "\n",
    "# fiberflat_data = fiberflat._data\n",
    "# # fiberflat_data[fiberflat._mask] = np.nan\n",
    "\n",
    "# norm = simple_norm(fiberflat_data, stretch=\"log\", max_percent=95)\n",
    "# fig, ax = plt.subplots(figsize=(10,10))\n",
    "# ax.imshow(fiberflat_data, norm=norm, origin=\"lower\", cmap=\"binary_r\")\n",
    "\n",
    "# for ifiber in range(trace._fibers):\n",
    "#     fiber = trace.getSpec(ifiber)\n",
    "#     ax.plot(fiber._pixels, fiber._data, color=plt.cm.rainbow(ifiber/trace._fibers), lw=1)"
   ]
  },
  {
   "cell_type": "code",
   "execution_count": null,
   "id": "3659b8e2-3413-49a5-b152-de9d0fb92d62",
   "metadata": {
    "tags": []
   },
   "outputs": [],
   "source": [
    "# trace._pixels[[0,-1]]"
   ]
  },
  {
   "cell_type": "code",
   "execution_count": null,
   "id": "ae85061e-c064-4425-bdae-23057ff5bab1",
   "metadata": {
    "tags": []
   },
   "outputs": [],
   "source": [
    "# peaks = np.loadtxt(\"data/lvm-super-mpeaks-r2-x.txt\", skiprows=1)\n",
    "# peaks"
   ]
  },
  {
   "cell_type": "code",
   "execution_count": null,
   "id": "3ee28edd-e1c1-4f26-ba0a-d46dec3b2cd1",
   "metadata": {
    "tags": []
   },
   "outputs": [],
   "source": [
    "# plt.figure(figsize=(20,5))\n",
    "# plt.plot(peaks[:,2], np.zeros_like(peaks[:,0]), \".\")"
   ]
  },
  {
   "cell_type": "code",
   "execution_count": null,
   "id": "9f418377-6846-4192-b0cb-f489042adf70",
   "metadata": {
    "tags": []
   },
   "outputs": [],
   "source": [
    "# from np.polynomial import Polynomial\n",
    "\n",
    "# # poly = Polynomial(trace._coeffs[0], domain=trace._pixels[[0-1]].tolist())\n",
    "\n",
    "# # poly(trace._pixels), trace._data\n",
    "\n",
    "# plt.figure(figsize=(20,5))\n",
    "\n",
    "# icoef = 0\n",
    "# mlinear = Polynomial.fit(peaks[:,2], trace._coeffs[:, icoef], deg=1)\n",
    "# plt.plot(peaks[:,2], trace._coeffs[:, icoef] - peaks[:,2], \".\")\n"
   ]
  },
  {
   "cell_type": "code",
   "execution_count": null,
   "id": "f8fe0646-8564-449f-9144-f22f45c7b1db",
   "metadata": {
    "tags": []
   },
   "outputs": [],
   "source": [
    "master_traces = get_masters_metadata(path_pattern=out_calib_path, mjd=\"super\", kind=\"mtrace\", exptime=\"x\")\n",
    "print(master_traces.to_string())\n",
    "\n",
    "for _, mfiberflat in masters_fiberflat.iterrows():\n",
    "    print(mfiberflat)\n",
    "    master_trace = master_traces.query(\"camera==@mfiberflat.camera\")\n",
    "    try:\n",
    "        mtrace = master_trace.iloc[0]\n",
    "    except:\n",
    "        imageMethod.image_logger.error(f\"no master trace found for '{mfiberflat.path}'\")\n",
    "        continue\n",
    "    \n",
    "    imageMethod.extractSpec_drp(\n",
    "        in_image=mfiberflat.path,\n",
    "        out_rss=out_calib_path.format(mjd=mfiberflat.mjd, kind=\"xfiberflat\", camera=mfiberflat.camera, exptime=int(mfiberflat.exptime) if mfiberflat.exptime != \"x\" else mfiberflat.exptime),\n",
    "        in_trace=mtrace.path,\n",
    "        method=\"aperture\", aperture=4, plot=1, parallel=\"auto\"\n",
    "    )"
   ]
  }
 ],
 "metadata": {
  "kernelspec": {
   "display_name": "Python 3 (ipykernel)",
   "language": "python",
   "name": "python3"
  },
  "language_info": {
   "codemirror_mode": {
    "name": "ipython",
    "version": 3
   },
   "file_extension": ".py",
   "mimetype": "text/x-python",
   "name": "python",
   "nbconvert_exporter": "python",
   "pygments_lexer": "ipython3",
   "version": "3.8.16"
  }
 },
 "nbformat": 4,
 "nbformat_minor": 5
}
