{
 "cells": [
  {
   "cell_type": "markdown",
   "metadata": {},
   "source": [
    "notes on using the gaia astrophysical parameters:\n",
    "\n",
    "Teff is returned via:\n",
    "* astrophysical_parameters.teff_gspphot, astrophysical_parameters.teff_gspspec \n",
    "\n",
    "* gspphot is based on the low res gaia spectroscopy\n",
    "* gspspec is based on the high res RV spectroscopy\n",
    "\n",
    "RV spectroscopy is available for many of these bright sources\n",
    "\n",
    "gspspec does not seem to return Teff above ~7000 K very reliably"
   ]
  },
  {
   "cell_type": "code",
   "execution_count": 8,
   "metadata": {},
   "outputs": [],
   "source": [
    "import numpy as np\n",
    "import matplotlib.pyplot as plt\n",
    "from astropy.io import fits, ascii\n",
    "#import astropy.table as table\n",
    "from astropy.table import Table\n",
    "import time\n",
    "\n",
    "from astropy.coordinates import SkyCoord  # High-level coordinates\n",
    "from astropy.coordinates import ICRS, Galactic, FK4, FK5  # Low-level frames\n",
    "from astropy.coordinates import Angle, Latitude, Longitude  # Angles\n",
    "from astroquery.gaia import Gaia\n",
    "\n",
    "# fixed instrument parameters\n",
    "lvm_fiber_diameter = 35.3 # arcsec\n",
    "lvm_fiber_separation = 37.0 #arcsec\n",
    "lvm_nrings = 5 #for sky telescope\n",
    "\n",
    "FIBER_RADIUS_ARCSEC = lvm_fiber_separation\n",
    "SKY_IFU_RADIUS_ARCSEC = np.sqrt(np.pi*(FIBER_RADIUS_ARCSEC/2)**2*60/np.pi) \n",
    "# only approximate radius, in arcsec, given 37\" fibers and 60 in the bundle\n",
    "\n",
    "# because I am suspicious that computing separations with SkyCoord is too slow\n",
    "def deg2rad(degrees):\n",
    "    return degrees*np.pi/180.\n",
    "\n",
    "def rad2deg(radians):\n",
    "    return radians*180./np.pi\n",
    "\n",
    "def sphdist (ra1, dec1, ra2, dec2):\n",
    "# measures the spherical distance in degrees\n",
    "# The input has to be in degrees too\n",
    "    dec1_r = deg2rad(dec1)\n",
    "    dec2_r = deg2rad(dec2)\n",
    "    return 2*rad2deg(np.arcsin(np.sqrt((np.sin((dec1_r - dec2_r) / 2))**2 + np.cos(dec1_r) * np.cos(dec2_r) * (np.sin((deg2rad(ra1 - ra2)) / 2))**2)))"
   ]
  },
  {
   "cell_type": "code",
   "execution_count": null,
   "metadata": {},
   "outputs": [],
   "source": [
    "# running this search takes a minute or two\n",
    "if True:\n",
    "    search_string= \"SELECT * FROM gaiadr3.gaia_source as gaia JOIN gaiadr3.astrophysical_parameters AS gaia_ap USING (source_id) WHERE gaia.phot_g_mean_mag <= 9 and gaia.phot_g_mean_mag > 5 AND gaia.parallax_error/parallax < 0.2 AND gaia_ap.teff_gspphot > 6000 and gaia_ap.teff_gspphot < 7500 AND gaia.phot_variable_flag != 'VARIABLE'\"\n",
    "    j = Gaia.launch_job_async(search_string)\n",
    "    ftype = j.get_results()\n",
    "    ftype.write('broad_search-result.xml',format='votable',overwrite=True)\n",
    "    #ftype.write('broad_search-result.fits',format='fits',overwrite=True) # cannot get fits table to save...\n",
    "\n",
    "    # establish new columns with initial value of 40\n",
    "    ftype['BG_RP_SB']=ftype['phot_g_mean_mag']*0.+40.\n",
    "    ftype['BG_G_SB']=ftype['phot_g_mean_mag']*0.+40.\n",
    "    ftype['BG_BP_SB']=ftype['phot_g_mean_mag']*0.+40.\n",
    "else:\n",
    "    ftype = Table.read('broad_search-result.xml')\n",
    "\n"
   ]
  },
  {
   "cell_type": "code",
   "execution_count": null,
   "metadata": {},
   "outputs": [],
   "source": [
    "ftype.colnames"
   ]
  },
  {
   "cell_type": "code",
   "execution_count": null,
   "metadata": {},
   "outputs": [],
   "source": [
    "plt.scatter(ftype['teff_gspphot'],ftype['teff_gspspec'],marker='.',alpha=0.4)\n",
    "plt.xlim(5800,7700)\n",
    "plt.ylim(4000,8000)\n",
    "plt.xlabel('teff_gspphot [K]')\n",
    "plt.ylabel('teff_gspspec [K]')"
   ]
  },
  {
   "cell_type": "code",
   "execution_count": null,
   "metadata": {},
   "outputs": [],
   "source": [
    "c = SkyCoord(frame=\"icrs\", ra=ftype['ra'], dec=ftype['dec'],unit='deg')\n",
    "c_g=c.transform_to('galactic')\n",
    "\n",
    "#iis=(v3_cross['teff_gspspec'] > 0) \n",
    "#iis=(ftype['teff_gspspec'] > 6000) & (v3_cross['teff_gspspec'] < 7500)\n",
    "#iis=(ftype['BG_SB'] == 40) # all of them\n",
    "iis=(np.abs(c_g.b.deg) < 1) # all of them\n",
    "\n",
    "fig = plt.figure(figsize=(14, 6))\n",
    "#ax = plt.subplot(111, projection=\"aitoff\")\n",
    "#ugh_aitoff_plot(ax,ls,bs,intens,0,10,'Ha Intensity [R]')\n",
    "#ax.scatter(c_g.l.deg,c_g.b.deg,s=3,c='r')\n",
    "plt.scatter(c_g.l.deg,c_g.b.deg,s=1,c='b')\n",
    "plt.scatter(c_g[iis].l.deg,c_g[iis].b.deg,s=3,c='r')\n",
    "plt.xlabel('l [deg]')\n",
    "plt.ylabel('b [deg]')"
   ]
  },
  {
   "cell_type": "code",
   "execution_count": 9,
   "metadata": {},
   "outputs": [],
   "source": [
    "# double check the stellar background at sources \n",
    "def find_gaia_sb(rasdecs0):\n",
    "    gaia_limiting_mag = 21\n",
    "    \n",
    "    ra = rasdecs0.ra.deg\n",
    "    dec = rasdecs0.dec.deg\n",
    "    \n",
    "#    j = Gaia.launch_job_async(\"SELECT source_id, ra,dec,phot_g_mean_mag,phot_g_mean_mag FROM gaiadr2.gaia_source WHERE phot_g_mean_mag <= \"+str(gaia_limiting_mag)+\" AND 1=CONTAINS(POINT('ICRS',ra,dec), CIRCLE('ICRS',\"+str(ra)+\",\"+str(dec)+\", 0.05))\")\n",
    "    j = Gaia.launch_job_async(\"SELECT source_id, ra,dec,phot_g_mean_mag,phot_bp_mean_mag,phot_rp_mean_mag FROM gaiadr3.gaia_source WHERE phot_rp_mean_mag <= \"+str(gaia_limiting_mag)+\" AND 1=CONTAINS(POINT('ICRS',ra,dec), CIRCLE('ICRS',\"+str(ra)+\",\"+str(dec)+\", 0.05))\")\n",
    "    cat0 = j.get_results()\n",
    "    ddgaia=sphdist(ra,dec,cat0['ra'],cat0['dec'])    \n",
    "#    criteria = (ddgaia < SKY_IFU_RADIUS_ARCSEC/3600.) \n",
    "    criteria = (ddgaia < FIBER_RADIUS_ARCSEC/3600.) & (ddgaia > 1/3600.)\n",
    "    cat = cat0[criteria]\n",
    "\n",
    "    if len(cat) > 0:\n",
    "        mag_sum_g = -2.5*np.log10(np.sum(10**(-0.4*cat['phot_g_mean_mag'])))\n",
    "        mag_sum_bp = -2.5*np.log10(np.sum(10**(-0.4*cat['phot_bp_mean_mag'])))\n",
    "        mag_sum_rp = -2.5*np.log10(np.sum(10**(-0.4*cat['phot_rp_mean_mag'])))\n",
    "        gaia_sb_g = mag_sum_g + 2.5*np.log10(np.pi*(FIBER_RADIUS_ARCSEC/2.)**2)\n",
    "        gaia_sb_bp = mag_sum_bp + 2.5*np.log10(np.pi*(FIBER_RADIUS_ARCSEC/2.)**2)\n",
    "        gaia_sb_rp = mag_sum_rp + 2.5*np.log10(np.pi*(FIBER_RADIUS_ARCSEC/2.)**2)\n",
    "    else:\n",
    "        gaia_sb_g = 40 # some arbitrary high number?\n",
    "        gaia_sb_bp = 40 # some arbitrary high number?\n",
    "        gaia_sb_rp = 40 # some arbitrary high number?\n",
    "    \n",
    "    return gaia_sb_g,gaia_sb_bp,gaia_sb_rp\n",
    "\n"
   ]
  },
  {
   "cell_type": "code",
   "execution_count": null,
   "metadata": {},
   "outputs": [],
   "source": [
    "# compute the background surface brightness based on gaia stars within 37\" fiber size\n",
    "\n",
    "if True: # Re-run background flux calculations?\n",
    "    # this takes ~30m per ~2000 objects\n",
    "    # ~4h for the whole sample\n",
    "    \n",
    "    #iis_MW=(ftype['BG_SB']==40) & (np.abs(c_g.b.deg) < 1)\n",
    "    #print(np.sum(iis_MW))\n",
    "    #sub = ftype[iis_MW]\n",
    "\n",
    "    sub = ftype\n",
    "\n",
    "    program_starts = time.time()\n",
    "\n",
    "\n",
    "\n",
    "    #for i,coord in enumerate(c[iis_MW]):\n",
    "    for i,coord in enumerate(c):\n",
    "    #    print(i, coord)\n",
    "        gaia_sb_g,gaia_sb_bp,gaia_sb_rp = find_gaia_sb(coord)\n",
    "        sub['BG_G_SB'][i] = gaia_sb_g\n",
    "        sub['BG_RP_SB'][i] = gaia_sb_rp\n",
    "        sub['BG_BP_SB'][i] = gaia_sb_bp\n",
    "    #    print(gaia_sb_g,gaia_sb_bp,gaia_sb_rp)\n",
    "        #print(sub[i], i)\n",
    "        if (i % 10 == 0):\n",
    "            now = time.time()\n",
    "            elapsed = now - program_starts\n",
    "            print(f\"It has been {elapsed} seconds since the loop started, loop {i}\")\n",
    "\n",
    "    ftype = sub\n",
    "\n",
    "    ftype.write('broad_search-result_BG.xml',format='votable',overwrite=True)\n",
    "else:\n",
    "    ftype = Table.read('broad_search-result_BG.xml')"
   ]
  },
  {
   "cell_type": "code",
   "execution_count": null,
   "metadata": {},
   "outputs": [],
   "source": [
    "# conversion of magnitude to SB for the faintest stars\n",
    "mag =  -2.5*np.log10((10**(-0.4*9.)))\n",
    "sb =  mag + 2.5*np.log10(np.pi*(FIBER_RADIUS_ARCSEC/2.)**2)\n",
    "print(sb, mag)\n"
   ]
  },
  {
   "cell_type": "code",
   "execution_count": null,
   "metadata": {},
   "outputs": [],
   "source": [
    "measured = (ftype['BG_RP_SB'] < 40) & (ftype['BG_BP_SB'] < 40) & (ftype['BG_G_SB'] < 40)\n",
    "#plt.hist(ftype['BG_RP_SB'],label='RP')\n",
    "plt.hist(ftype['BG_G_SB'][measured],label='G',histtype='step')\n",
    "plt.hist(ftype['BG_RP_SB'][measured],label='RP',alpha=1,histtype='step')\n",
    "plt.hist(ftype['BG_BP_SB'][measured],label='BP',alpha=1,histtype='step')\n",
    "plt.xlabel('Surface brightness [mag/arcsec^2]')\n",
    "plt.ylabel('N')\n",
    "plt.axvline(18.5,linestyle='dashed',color='k',label='full moon')\n",
    "plt.legend()\n",
    "\n"
   ]
  },
  {
   "cell_type": "code",
   "execution_count": 12,
   "metadata": {},
   "outputs": [],
   "source": [
    "#mag =  -2.5*np.log10((10**(-0.4*9.)))\n",
    "#sb =  mag + 2.5*np.log10(np.pi*(FIBER_RADIUS_ARCSEC/2.)**2)\n",
    "\n",
    "flux_star = 10**(ftype['phot_rp_mean_mag']/(-2.5))\n",
    "flux_bg = 10**((ftype['BG_RP_SB'] - 2.5*np.log10(np.pi*(FIBER_RADIUS_ARCSEC/2.)**2))/(-2.5))\n",
    "\n",
    "flux_star_g = 10**(ftype['phot_g_mean_mag']/(-2.5))\n",
    "flux_bg_g = 10**((ftype['BG_G_SB'] - 2.5*np.log10(np.pi*(FIBER_RADIUS_ARCSEC/2.)**2))/(-2.5))"
   ]
  },
  {
   "cell_type": "code",
   "execution_count": null,
   "metadata": {},
   "outputs": [],
   "source": [
    "ii = (ftype['BG_RP_SB'] < 40)\n",
    "\n",
    "#plt.scatter(flux_star[ii],flux_bg[ii]/flux_star[ii],alpha=0.2,marker='.')\n",
    "plt.scatter(flux_bg_g[ii]/flux_star_g[ii],flux_bg[ii]/flux_star[ii],alpha=0.2,marker='.')\n",
    "#plt.plot([0,.2],[0,.2])\n",
    "\n",
    "plt.axhline(.01,color='red')\n",
    "plt.axhline(.05,color='red',linestyle='dashed')\n",
    "\n",
    "plt.axvline(.01,color='red')\n",
    "plt.axvline(.05,color='red',linestyle='dashed')\n",
    "\n",
    "plt.xlabel('fraction of background flux, G band')\n",
    "plt.ylabel('fraction of background flux, RP band')\n",
    "plt.yscale('log')\n",
    "plt.xscale('log')\n",
    "\n",
    "fig = plt.figure(figsize=(8, 6))\n",
    "bins=np.arange(0,.15,.005)\n",
    "plt.hist(flux_bg_g[ii]/flux_star_g[ii],histtype='step',label='G',bins=bins)\n",
    "plt.hist(flux_bg[ii]/flux_star[ii],histtype='step',label='RP',bins=bins)\n",
    "plt.axvline(0.01,linestyle='dashed',color='k',label='<1%')\n",
    "plt.yscale('log')\n",
    "plt.legend()\n",
    "plt.xlabel('fraction of background flux')\n",
    "plt.ylabel('N')\n",
    "plt.xlim(0,0.12)"
   ]
  },
  {
   "cell_type": "code",
   "execution_count": null,
   "metadata": {},
   "outputs": [],
   "source": [
    "contrast_01 = (ftype['BG_RP_SB'] == 40) | (flux_bg/flux_star < 0.01)\n",
    "\n",
    "l_wrap = c_g.l.deg\n",
    "wrappy = l_wrap > 180\n",
    "l_wrap[wrappy] = l_wrap[wrappy] - 360\n",
    "\n",
    "fig = plt.figure(figsize=(14, 6))\n",
    "plt.scatter(l_wrap,c_g.b.deg,s=1,c='b',label='all F type')\n",
    "plt.scatter(l_wrap[contrast_01],c_g[contrast_01].b.deg,s=3,c='r', label='isolated F type')\n",
    "plt.xlim(180,-180)\n",
    "plt.legend()\n",
    "plt.xlabel('l [deg]')\n",
    "plt.ylabel('b [deg]')\n",
    "\n",
    "print(np.sum(contrast_01))"
   ]
  },
  {
   "cell_type": "code",
   "execution_count": null,
   "metadata": {},
   "outputs": [],
   "source": [
    "# pick out some examples to look at in decaps\n",
    "# at the 1% level:\n",
    "# https://decaps.legacysurvey.org/viewer?ra=173.80547327081052&dec=-60.89464656421644&zoom=13\n",
    "# at the 5% level:\n",
    "# https://decaps.legacysurvey.org/viewer?ra=206.64719495036567&dec=-62.06946758588094&zoom=13\n",
    "samp = (flux_bg/flux_star < 0.0101) & (flux_bg/flux_star > 0.009) & (np.abs(ftype['b']) < 1) & (ftype['l'] < 360) & (ftype['l'] > 270)\n",
    "print(np.sum(samp))\n",
    "print(ftype['ra'][samp],ftype['dec'][samp])\n",
    "\n",
    "samp = (flux_bg/flux_star < 0.055) & (flux_bg/flux_star > 0.045) & (np.abs(ftype['b']) < 1) & (ftype['l'] < 360) & (ftype['l'] > 270)\n",
    "print(np.sum(samp))\n",
    "print(ftype['ra'][samp],ftype['dec'][samp])\n",
    "\n",
    "samp = (flux_bg/flux_star < 0.6) & (flux_bg/flux_star > 0.4) & (np.abs(ftype['b']) < 1) & (ftype['l'] < 360) & (ftype['l'] > 270)\n",
    "print(np.sum(samp))\n",
    "print(ftype['ra'][samp],ftype['dec'][samp])\n"
   ]
  },
  {
   "cell_type": "code",
   "execution_count": null,
   "metadata": {},
   "outputs": [],
   "source": [
    "ftype_v4 = ftype[contrast_01]\n",
    "\n",
    "ll_arr = []\n",
    "max_dist = []\n",
    "median_dist =[]\n",
    "\n",
    "for ll in np.arange(0,-180,-1):\n",
    "    for bb in np.arange(-5,5,1):\n",
    "        dd = sphdist(ftype_v4['l'],ftype_v4['b'],ll,bb)\n",
    "        ss=dd[np.argsort(dd)]\n",
    "        ll_arr.append(ll)\n",
    "        max_dist.append(ss[11])\n",
    "        median_dist.append(np.median(ss[0:11]))\n",
    "        \n"
   ]
  },
  {
   "cell_type": "code",
   "execution_count": null,
   "metadata": {},
   "outputs": [],
   "source": [
    "plt.scatter(ll_arr,max_dist,label='max')\n",
    "plt.scatter(ll_arr,median_dist,color='r',alpha=0.5,label='median')\n",
    "plt.xlabel('l [deg]')\n",
    "plt.ylabel('separation [deg]')\n",
    "plt.legend()\n",
    "plt.xlim(0,-180)\n",
    "plt.title('<1% contrast with background stars')"
   ]
  },
  {
   "cell_type": "code",
   "execution_count": 19,
   "metadata": {},
   "outputs": [],
   "source": [
    "# 5% contrast\n",
    "contrast_05 = (ftype['BG_RP_SB'] == 40) | (flux_bg/flux_star < 0.05)\n",
    "\n",
    "ftype_v4_05 = ftype[contrast_05]\n",
    "\n",
    "ll_arr_05 = []\n",
    "max_dist_05 = []\n",
    "median_dist_05 =[]\n",
    "\n",
    "for ll in np.arange(0,-180,-1):\n",
    "    for bb in np.arange(-5,5,1):\n",
    "        dd = sphdist(ftype_v4_05['l'],ftype_v4_05['b'],ll,bb)\n",
    "        ss=dd[np.argsort(dd)]\n",
    "        ll_arr_05.append(ll)\n",
    "        max_dist_05.append(ss[11])\n",
    "        median_dist_05.append(np.median(ss[0:11]))\n",
    "        \n"
   ]
  },
  {
   "cell_type": "code",
   "execution_count": null,
   "metadata": {},
   "outputs": [],
   "source": [
    "plt.scatter(ll_arr_05,max_dist_05,label='max')\n",
    "plt.scatter(ll_arr_05,median_dist_05,color='r',alpha=0.5,label='median')\n",
    "plt.xlabel('l [deg]')\n",
    "plt.ylabel('separation [deg]')\n",
    "plt.legend()\n",
    "plt.xlim(0,-180)\n",
    "plt.title('<5% contrast with background stars')"
   ]
  },
  {
   "cell_type": "code",
   "execution_count": null,
   "metadata": {},
   "outputs": [],
   "source": [
    "ftype_v4.write('Gaia_stars_5-9_ftype_v4.xml',format='votable',overwrite=True)\n"
   ]
  },
  {
   "cell_type": "code",
   "execution_count": null,
   "metadata": {},
   "outputs": [],
   "source": [
    "ftype_v4 = Table.read('Gaia_stars_5-9_ftype_v4.xml')"
   ]
  },
  {
   "cell_type": "code",
   "execution_count": null,
   "metadata": {},
   "outputs": [],
   "source": [
    "# keep only a few of the columns for a 'minimal' table that can be put into the ops DB\n",
    "colnames = ftype_v4.colnames\n",
    "colnames.remove('ra')\n",
    "colnames.remove('dec')\n",
    "colnames.remove('source_id')\n",
    "colnames.remove('phot_g_mean_mag')\n",
    "colnames.remove('phot_bp_mean_mag')\n",
    "colnames.remove('phot_rp_mean_mag')\n",
    "colnames.remove('BG_RP_SB')\n",
    "colnames.remove('BG_G_SB')\n",
    "colnames.remove('BG_BP_SB')\n",
    "#colnames.remove('')\n",
    "\n",
    "ftype_v4_min = ftype_v4.copy()\n",
    "\n",
    "for col in colnames:\n",
    "    del ftype_v4_min[col]\n",
    "\n",
    "print(ftype_v4_min.colnames)"
   ]
  },
  {
   "cell_type": "code",
   "execution_count": 17,
   "metadata": {},
   "outputs": [],
   "source": [
    "ftype_v4_min.write('Gaia_stars_5-9_ftype_v4_min.fits',format='fits',overwrite=True)\n",
    "ftype_v4_min.write('Gaia_stars_5-9_ftype_v4_min.csv',format='csv',overwrite=True)\n"
   ]
  },
  {
   "cell_type": "code",
   "execution_count": null,
   "metadata": {},
   "outputs": [],
   "source": []
  }
 ],
 "metadata": {
  "kernelspec": {
   "display_name": "lvmdrp",
   "language": "python",
   "name": "python3"
  },
  "language_info": {
   "codemirror_mode": {
    "name": "ipython",
    "version": 3
   },
   "file_extension": ".py",
   "mimetype": "text/x-python",
   "name": "python",
   "nbconvert_exporter": "python",
   "pygments_lexer": "ipython3",
   "version": "3.12.2"
  }
 },
 "nbformat": 4,
 "nbformat_minor": 4
}
