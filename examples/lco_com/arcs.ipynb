{
 "cells": [
  {
   "cell_type": "code",
   "execution_count": null,
   "id": "df9cba3a-29ae-45b4-825d-3d5c7abbd4f9",
   "metadata": {
    "tags": []
   },
   "outputs": [],
   "source": [
    "%matplotlib widget\n",
    "\n",
    "import os\n",
    "import numpy as np\n",
    "import pandas as pd\n",
    "import matplotlib.pyplot as plt\n",
    "from matplotlib import style\n",
    "\n",
    "from lvmdrp import log, path, __version__ as drpver\n",
    "from lvmdrp.utils import metadata as md\n",
    "\n",
    "from lvmdrp.core.constants import ARC_LAMPS, SPEC_CHANNELS\n",
    "from lvmdrp.core import rss, image, spectrum1d\n",
    "from lvmdrp.functions import imageMethod\n",
    "from lvmdrp.functions import run_drp as drp\n",
    "\n",
    "\n",
    "style.use(['dark_background', 'ggplot', 'fast'])"
   ]
  },
  {
   "cell_type": "code",
   "execution_count": null,
   "id": "20140cd0-1554-4adc-bdeb-03c058b3d1cd",
   "metadata": {
    "tags": []
   },
   "outputs": [],
   "source": [
    "raw_paths = md.locate_new_frames(hemi=\"s\", mjd=\"6014?\", camera=\"*\", expnum=\"????????\")\n",
    "metadata = md.extract_metadata(raw_paths)"
   ]
  },
  {
   "cell_type": "code",
   "execution_count": null,
   "id": "a118ec52-05d3-47c7-9ee5-0015ec393221",
   "metadata": {
    "tags": []
   },
   "outputs": [],
   "source": [
    "# adding slitmap\n",
    "slitmap = drp.read_fibermap(as_table=True)"
   ]
  },
  {
   "cell_type": "code",
   "execution_count": null,
   "id": "3158dea7-c3e5-4d57-bca8-3616422c9490",
   "metadata": {
    "tags": []
   },
   "outputs": [],
   "source": [
    "# define list of lamps\n",
    "lamps = [lamp.lower() for lamp in ARC_LAMPS]\n",
    "# initialize lamps status (OFF)\n",
    "lamps_status = dict.fromkeys(lamps, False)\n",
    "\n",
    "arcs = md.get_metadata(tileid=\"*\", mjd=\"6014?\", kind=\"raw\", imagetyp=\"arc\")\n",
    "arcs"
   ]
  },
  {
   "cell_type": "code",
   "execution_count": null,
   "id": "59b1694d-b964-4501-ab14-c4f6c88b55c3",
   "metadata": {
    "tags": []
   },
   "outputs": [],
   "source": [
    "for lamp in lamps[:-1]:\n",
    "    # set current lamp status\n",
    "    lamps_current = lamps_status.copy()\n",
    "    lamps_current[lamp] = True\n",
    "    \n",
    "    # group arcs into analogs of current lamp\n",
    "    analogs, cpaths, mpaths = md.get_analog_groups(tileid=1111, mjd=60145, imagetyp=\"arc\", **lamps_current)\n",
    "    \n",
    "    for i, (keys, analog) in enumerate(analogs.items()):\n",
    "        # unpack keys\n",
    "        tileid, mjd, imagetyp, camera = keys\n",
    "        # match masters\n",
    "        masters = md.match_master_metadata(target_imagetyp=\"arc\", target_camera=camera, target_mjd=mjd)\n",
    "        mpixmask = path.full(\"lvm_master\", drpver=drpver, kind=\"mpixmask\", **masters[\"pixmask\"])\n",
    "        mbias = path.full(\"lvm_master\", drpver=drpver, kind=\"mbias\", **masters[\"bias\"])\n",
    "        mdark = path.full(\"lvm_master\", drpver=drpver, kind=\"mdark\", **masters[\"dark\"])\n",
    "        mflat = path.full(\"lvm_master\", drpver=drpver, kind=\"mflat\", **masters[\"flat\"])\n",
    "        \n",
    "        # preproc and detrend raw arcs\n",
    "        for j, (_, arc) in enumerate(analog.iterrows()):\n",
    "            rpath = path.full(\"lvm_raw\", camspec=arc.camera, **arc.to_dict())\n",
    "            ppath = path.full(\"lvm_anc\", drpver=drpver, kind=\"p\", imagetype=arc.imagetyp, **arc.to_dict())\n",
    "            cpath = cpaths[keys][j]\n",
    "            \n",
    "            if os.path.isfile(ppath):\n",
    "                log.info(f\"skipping {ppath}, file already exist\")\n",
    "            else:\n",
    "                os.makedirs(os.path.dirname(ppath), exist_ok=True)\n",
    "                imageMethod.preproc_raw_frame(in_image=rpath, out_image=ppath, in_mask=mpixmask)\n",
    "            \n",
    "            if os.path.isfile(cpath):\n",
    "                log.info(f\"skipping {cpath}, file already exist\")\n",
    "            else:\n",
    "                imageMethod.detrend_frame(in_image=ppath, out_image=cpath, in_bias=mbias, in_dark=mdark, in_slitmap=slitmap)\n",
    "        \n",
    "        # create master arcs\n",
    "        if os.path.isfile(mpaths[i]):\n",
    "            log.info(f\"skipping {mpath}, file already exist\")\n",
    "        else:\n",
    "            os.makedirs(os.path.dirname(mpaths[i]), exist_ok=True)\n",
    "            imageMethod.create_master_frame(in_images=cpaths[keys], out_image=mpaths[i].replace(\"marc\", f\"marc_{lamp}\"))"
   ]
  },
  {
   "cell_type": "code",
   "execution_count": null,
   "id": "373d7df7-01f3-4bae-a166-ba97b59cc457",
   "metadata": {
    "tags": []
   },
   "outputs": [],
   "source": [
    "master_paths = [os.path.join(root, file) for root, _, files in os.walk(os.getenv(\"LVM_SPECTRO_REDUX\")) for file in files if file.startswith(\"lvm-marc_\") and file.endswith(\".fits\")]\n",
    "master_arcs = md.extract_metadata(kind=\"master\", frames_paths=master_paths)\n",
    "\n",
    "for _, marc in master_arcs.iterrows():\n",
    "    lamp = marc[lamps].astype(int).idxmax(0)\n",
    "    mpath = path.full(\"lvm_master\", drpver=drpver, kind=f\"marc_{lamp}\", **marc.to_dict())\n",
    "    xpath = path.full(\"lvm_master\", drpver=drpver, kind=f\"xmarc_{lamp}\", **marc.to_dict())\n",
    "    \n",
    "    mtrace = path.full(\"lvm_master\", drpver=drpver, kind=\"mtrace\", **marc.to_dict())\n",
    "    mtrace = mtrace.replace(\"60145\", \"60115\")\n",
    "\n",
    "    # if os.path.isfile(xpath):\n",
    "    #     log.info(f\"skipping {xpath}, file already exist\")\n",
    "    #     continue\n",
    "    \n",
    "    imageMethod.extract_spectra(in_image=mpath, out_rss=xpath, in_trace=mtrace, method=\"aperture\", aperture=3)"
   ]
  }
 ],
 "metadata": {
  "kernelspec": {
   "display_name": "Python 3 (ipykernel)",
   "language": "python",
   "name": "python3"
  },
  "language_info": {
   "codemirror_mode": {
    "name": "ipython",
    "version": 3
   },
   "file_extension": ".py",
   "mimetype": "text/x-python",
   "name": "python",
   "nbconvert_exporter": "python",
   "pygments_lexer": "ipython3",
   "version": "3.8.16"
  }
 },
 "nbformat": 4,
 "nbformat_minor": 5
}
