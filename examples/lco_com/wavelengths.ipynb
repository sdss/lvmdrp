{
 "cells": [
  {
   "cell_type": "code",
   "execution_count": null,
   "id": "ca287bff-3860-40a1-b422-9d8a8e7b49c7",
   "metadata": {
    "tags": []
   },
   "outputs": [],
   "source": [
    "%matplotlib widget\n",
    "\n",
    "import os\n",
    "import numpy as np\n",
    "import pandas as pd\n",
    "import matplotlib.pyplot as plt\n",
    "from matplotlib import style\n",
    "\n",
    "from lvmdrp import log, path, __version__ as drpver\n",
    "from lvmdrp.utils import metadata as md\n",
    "\n",
    "from lvmdrp.core.constants import ARC_LAMPS, SPEC_CHANNELS\n",
    "from lvmdrp.core import rss, image, spectrum1d\n",
    "from lvmdrp.functions import imageMethod, rssMethod\n",
    "\n",
    "\n",
    "# style.use(['dark_background', 'ggplot', 'fast'])"
   ]
  },
  {
   "cell_type": "code",
   "execution_count": null,
   "id": "de444a13-c0bf-4436-adcf-bae2caf322b5",
   "metadata": {
    "tags": []
   },
   "outputs": [],
   "source": [
    "# define list of lamps\n",
    "lamps = [lamp.lower() for lamp in ARC_LAMPS]\n",
    "lamps.remove(\"xenon\")\n",
    "print(f\"{lamps = }\")\n",
    "# initialize lamps status (OFF)\n",
    "lamps_status = dict.fromkeys(lamps, False)"
   ]
  },
  {
   "cell_type": "code",
   "execution_count": null,
   "id": "801fadce-0203-4f3c-8d78-cf33d26c1b85",
   "metadata": {
    "tags": []
   },
   "outputs": [],
   "source": [
    "master_paths = [os.path.join(root, file) for root, _, files in os.walk(os.getenv(\"LVM_SPECTRO_REDUX\")) for file in files if file.startswith(\"lvm-xmarc_\") and file.endswith(\".fits\")]\n",
    "master_arcs = md.extract_metadata(kind=\"master\", frames_paths=master_paths)\n",
    "master_arcs = master_arcs.loc[master_arcs.mjd == 60145]\n",
    "master_arcs.sort_values(\"camera\", inplace=True)\n"
   ]
  },
  {
   "cell_type": "code",
   "execution_count": null,
   "id": "78ba3c6c-37f4-41ef-9466-c15e3b8ae0b5",
   "metadata": {
    "tags": []
   },
   "outputs": [],
   "source": [
    "ref_fibers = {\"r2\": 330, \"r1\": 319, \"r3\": 319, \"z1\": 319, \"z2\": 319, \"z3\": 319, \"b3\": 319, \"b2\": 319, \"b1\": 319}\n",
    "\n",
    "\n",
    "mwaves = []\n",
    "for camera in sorted(ref_fibers):\n",
    "    \n",
    "    if camera[0] == \"b\":\n",
    "        lamp = \"hgne\"\n",
    "        marc = master_arcs.query(\"camera == @camera & hgne\").squeeze()\n",
    "    else:\n",
    "        lamp = \"neon\"\n",
    "        marc = master_arcs.query(\"camera == @camera & neon\").squeeze()\n",
    "    \n",
    "    xpath = path.full(\"lvm_master\", drpver=drpver, kind=f\"xmarc_{lamp}\", **marc.to_dict())\n",
    "    mwave = path.full(\"lvm_master\", drpver=drpver, kind=f\"mwave_{lamp}\", **marc.to_dict())\n",
    "    mlsf = path.full(\"lvm_master\", drpver=drpver, kind=f\"mlsf_{lamp}\", **marc.to_dict())\n",
    "    wpath = path.full(\"lvm_master\", drpver=drpver, kind=f\"wmarc_{lamp}\", **marc.to_dict())\n",
    "\n",
    "    # determine wavelength solutions\n",
    "    rssMethod.determine_wavelength_solution(in_arcs=xpath, out_wave=mwave, out_lsf=mlsf, ref_fiber=ref_fibers.get(marc.camera, 319), aperture=10, cc_correction=True,\n",
    "                                            poly_disp=5, poly_fwhm=2, poly_cros=2, flux_min=1e-12, fwhm_max=5, rel_flux_limits=[0.001, 1e12], display_plots=True)\n",
    "    \n",
    "    mwaves.append(mwave)\n",
    "    # create pixel table\n",
    "    iwave, fwave = SPEC_CHANNELS[marc.camera[0]]\n",
    "    # wpath = path.full(\"lvm_master\", drpver=drpver, kind=f\"wmarc_{lamp}\", **marc.to_dict())\n",
    "    rssMethod.create_pixel_table(in_rss=xpath, out_rss=wpath, arc_wave=mwave, arc_fwhm=mlsf)\n",
    "    # resample\n",
    "    rssMethod.resample_wavelength(in_rss=wpath, out_rss=wpath, method=\"linear\", disp_pix=0.5, start_wave=iwave, end_wave=fwave, err_sim=10, parallel=0)\n",
    "    # combine channel\n",
    "    # combine spectrograph"
   ]
  },
  {
   "cell_type": "code",
   "execution_count": null,
   "id": "9acd2023-cdbb-43e8-b5fe-92e4f134f04b",
   "metadata": {
    "tags": []
   },
   "outputs": [],
   "source": [
    "from astropy.io import fits\n",
    "\n",
    "\n",
    "# save coefficients table\n",
    "coeffs = pd.DataFrame(columns=sorted(ref_fibers))\n",
    "for mwave in mwaves:\n",
    "    wave = fits.open(mwave)\n",
    "    camera = os.path.basename(mwave).replace(\".fits\", \"\").split(\"-\")[-1]\n",
    "    coeff = wave[1].data\n",
    "\n",
    "    coeffs[camera] = coeff[coeff.shape[0]//2]\n",
    "\n",
    "coeffs.to_csv(f\"data_waves/coeffs_fib{coeff.shape[0]//2}_neon.csv\")"
   ]
  }
 ],
 "metadata": {
  "kernelspec": {
   "display_name": "Python 3 (ipykernel)",
   "language": "python",
   "name": "python3"
  },
  "language_info": {
   "codemirror_mode": {
    "name": "ipython",
    "version": 3
   },
   "file_extension": ".py",
   "mimetype": "text/x-python",
   "name": "python",
   "nbconvert_exporter": "python",
   "pygments_lexer": "ipython3",
   "version": "3.8.16"
  }
 },
 "nbformat": 4,
 "nbformat_minor": 5
}
