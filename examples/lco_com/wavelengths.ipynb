{
 "cells": [
  {
   "cell_type": "code",
   "execution_count": 1,
   "id": "ca287bff-3860-40a1-b422-9d8a8e7b49c7",
   "metadata": {
    "tags": []
   },
   "outputs": [],
   "source": [
    "# %matplotlib widget\n",
    "\n",
    "import os\n",
    "import numpy as np\n",
    "import pandas as pd\n",
    "import itertools as it\n",
    "from glob import glob\n",
    "import matplotlib.pyplot as plt\n",
    "from sbpy.calib import Sun\n",
    "from astropy import units as u\n",
    "from astropy.io import fits\n",
    "\n",
    "from mpl_toolkits.axes_grid1.inset_locator import inset_axes\n",
    "from mpl_toolkits.axes_grid1.axes_divider import make_axes_locatable\n",
    "from astropy.visualization import ImageNormalize, PercentileInterval, AsinhStretch\n",
    "\n",
    "from lvmdrp.core.constants import LVM_UNAM_URL\n",
    "from lvmdrp.utils.examples import fetch_example_data, get_frames_metadata, fix_lamps_metadata, get_masters_metadata\n",
    "\n",
    "from lvmdrp.core import rss, image, spectrum1d\n",
    "from lvmdrp.functions import imageMethod, rssMethod, fluxCalMethod\n",
    "\n",
    "plt.style.use(\"seaborn-v0_8-talk\")"
   ]
  },
  {
   "cell_type": "code",
   "execution_count": 2,
   "id": "4fa24b92-f991-4c34-8551-8fe73f527d55",
   "metadata": {},
   "outputs": [],
   "source": [
    "# define input data directory\n",
    "data_path = os.path.abspath(os.path.join(\"..\", \"data\"))\n",
    "\n",
    "# let's create the output directory\n",
    "output_path = \"./data\"\n",
    "os.makedirs(output_path, exist_ok=True)\n",
    "\n",
    "# create processed frames path template\n",
    "out_main_path = os.path.join(output_path, \"lvm-{kind}-{camera}-{expnum}.fits\")\n",
    "out_calib_path = os.path.join(output_path, \"lvm-{mjd}-{kind}-{camera}-{exptime}.fits\")\n",
    "out_arc_path = os.path.join(output_path, \"lvm-{mjd}-{kind}-{camera}-{lamps}.fits\")\n",
    "\n",
    "# overwrite or not\n",
    "OVERWRITE = True"
   ]
  },
  {
   "cell_type": "code",
   "execution_count": 3,
   "id": "0d5268fb-0b55-4fe4-8691-1460609b3a69",
   "metadata": {
    "tags": []
   },
   "outputs": [
    {
     "name": "stdout",
     "output_type": "stream",
     "text": [
      "\u001b[0;34m[INFO]: \u001b[0mloading cached metadata from '/home/mejia/Research/UNAM/lvm-drp/lvmdrp/examples/data/lco_com/frames_table.pkl'\n"
     ]
    }
   ],
   "source": [
    "# extract metadata\n",
    "frames_table = get_frames_metadata(path=os.path.join(data_path, \"lco_com\"), ignore_cache=False).to_pandas()\n",
    "frames_table = frames_table.loc[~frames_table.mjd.isin([60008,60009,60037,60038])]\n",
    "# fix arc lamps metadata\n",
    "fix_lamps_metadata(metadata=frames_table, lamp_names=\"argon neon ldls hgne xenon krypton\".split())"
   ]
  },
  {
   "cell_type": "code",
   "execution_count": 4,
   "id": "42d61b3c-1873-4591-9519-9af09f18bb2a",
   "metadata": {
    "tags": []
   },
   "outputs": [
    {
     "name": "stdout",
     "output_type": "stream",
     "text": [
      "     mjd  kind camera       lamps                                      path\n",
      "7  super  xarc     b1  neon_xenon  ./data/lvm-super-xarc-b1-neon_xenon.fits\n",
      "8  super  xarc     b2  neon_xenon  ./data/lvm-super-xarc-b2-neon_xenon.fits\n",
      "5  super  xarc     b3  neon_xenon  ./data/lvm-super-xarc-b3-neon_xenon.fits\n",
      "0  super  xarc     r1  neon_xenon  ./data/lvm-super-xarc-r1-neon_xenon.fits\n",
      "3  super  xarc     r2  neon_xenon  ./data/lvm-super-xarc-r2-neon_xenon.fits\n",
      "2  super  xarc     r3  neon_xenon  ./data/lvm-super-xarc-r3-neon_xenon.fits\n",
      "4  super  xarc     z1  neon_xenon  ./data/lvm-super-xarc-z1-neon_xenon.fits\n",
      "1  super  xarc     z2  neon_xenon  ./data/lvm-super-xarc-z2-neon_xenon.fits\n",
      "6  super  xarc     z3  neon_xenon  ./data/lvm-super-xarc-z3-neon_xenon.fits\n",
      "mjd                                          super\n",
      "kind                                          xarc\n",
      "camera                                          b1\n",
      "lamps                                   neon_xenon\n",
      "path      ./data/lvm-super-xarc-b1-neon_xenon.fits\n",
      "Name: 7, dtype: object\n",
      "\u001b[0;34m[INFO]: \u001b[0mreading guess lines from '../../python/lvmdrp/etc/lvm-neon_xenon_nist_b1.txt'\n",
      "\u001b[0;34m[INFO]: \u001b[0mgoing to use fiber 319 as reference\n",
      "\u001b[0;34m[INFO]: \u001b[0mnumber of guess lines in file 25 percentage masked  4 %\n",
      "\u001b[0;34m[INFO]: \u001b[0mgoing to use 24 guess lines\n",
      "\u001b[0;34m[INFO]: \u001b[0mreading arc from './data/lvm-super-xarc-b1-neon_xenon.fits'\n",
      "\u001b[0;34m[INFO]: \u001b[0mcalculating shift in guess lines using CC\n",
      "\u001b[0;34m[INFO]: \u001b[0mmaximum CC shift = -2 pix\n",
      "\u001b[0;34m[INFO]: \u001b[0mmeasuring arc lines for each fiber from reference fiber 319, flux_min = 10.0, fwhm_max = 5.0 and relative flux limits [0.001, 100.0]\n"
     ]
    },
    {
     "name": "stderr",
     "output_type": "stream",
     "text": [
      "measuring arc lines upwards from ref_fiber = 319:   1%|3                                               | 2/319 [00:00<00:48,  6.48fiber/s]"
     ]
    },
    {
     "name": "stdout",
     "output_type": "stream",
     "text": [
      "\u001b[1;33m[WARNING]: \u001b[0m\u001b[0;39mNumber of calls to function has reached maxfev = 9999.\u001b[0m \u001b[0;36m(RuntimeWarning)\u001b[0m\n"
     ]
    },
    {
     "name": "stderr",
     "output_type": "stream",
     "text": [
      "measuring arc lines upwards from ref_fiber = 319: 100%|##############################################| 319/319 [01:19<00:00,  4.00fiber/s]\n",
      "measuring arc lines downwards from ref_fiber = 319: 100%|############################################| 318/318 [01:21<00:00,  3.90fiber/s]\n"
     ]
    },
    {
     "name": "stdout",
     "output_type": "stream",
     "text": [
      "\u001b[0;34m[INFO]: \u001b[0msmoothing FWHM of guess lines along cross-dispersion axis using 3-deg polynomials\n",
      "\u001b[0;34m[INFO]: \u001b[0mfitting wavelength solutions using 3-deg polynomials\n",
      "\u001b[0;34m[INFO]: \u001b[0mfinished wavelength fitting with median RMS = 3.0747 AA (5.24089 pix)\n",
      "\u001b[0;34m[INFO]: \u001b[0mfitting LSF solutions using 3-deg polynomials\n",
      "\u001b[0;34m[INFO]: \u001b[0mfinished LSF fitting with median RMS = 0.404801 AA (0.698271 pix)\n",
      "\u001b[0;34m[INFO]: \u001b[0mupdating header and writing wavelength/LSF to './data/lvm-super-wave-b1-neon_xenon.fits' and './data/lvm-super-lsf-b1-neon_xenon.fits'\n",
      "mjd                                          super\n",
      "kind                                          xarc\n",
      "camera                                          b2\n",
      "lamps                                   neon_xenon\n",
      "path      ./data/lvm-super-xarc-b2-neon_xenon.fits\n",
      "Name: 8, dtype: object\n",
      "\u001b[0;34m[INFO]: \u001b[0mreading guess lines from '../../python/lvmdrp/etc/lvm-neon_xenon_nist_b1.txt'\n",
      "\u001b[0;34m[INFO]: \u001b[0mgoing to use fiber 319 as reference\n",
      "\u001b[0;34m[INFO]: \u001b[0mnumber of guess lines in file 25 percentage masked  4 %\n",
      "\u001b[0;34m[INFO]: \u001b[0mgoing to use 24 guess lines\n",
      "\u001b[0;34m[INFO]: \u001b[0mreading arc from './data/lvm-super-xarc-b2-neon_xenon.fits'\n",
      "\u001b[0;34m[INFO]: \u001b[0mcalculating shift in guess lines using CC\n",
      "\u001b[0;34m[INFO]: \u001b[0mmaximum CC shift = 36 pix\n",
      "\u001b[0;34m[INFO]: \u001b[0mmeasuring arc lines for each fiber from reference fiber 319, flux_min = 10.0, fwhm_max = 5.0 and relative flux limits [0.001, 100.0]\n"
     ]
    },
    {
     "name": "stderr",
     "output_type": "stream",
     "text": [
      "measuring arc lines upwards from ref_fiber = 319: 100%|##############################################| 319/319 [00:56<00:00,  5.61fiber/s]\n",
      "measuring arc lines downwards from ref_fiber = 319: 100%|############################################| 318/318 [00:52<00:00,  6.10fiber/s]\n"
     ]
    },
    {
     "name": "stdout",
     "output_type": "stream",
     "text": [
      "\u001b[0;34m[INFO]: \u001b[0msmoothing FWHM of guess lines along cross-dispersion axis using 3-deg polynomials\n",
      "\u001b[0;34m[INFO]: \u001b[0mfitting wavelength solutions using 3-deg polynomials\n",
      "\u001b[0;34m[INFO]: \u001b[0mfinished wavelength fitting with median RMS = 0.690922 AA (1.18513 pix)\n",
      "\u001b[0;34m[INFO]: \u001b[0mfitting LSF solutions using 3-deg polynomials\n",
      "\u001b[0;34m[INFO]: \u001b[0mfinished LSF fitting with median RMS = 0.07124 AA (0.121595 pix)\n",
      "\u001b[0;34m[INFO]: \u001b[0mupdating header and writing wavelength/LSF to './data/lvm-super-wave-b2-neon_xenon.fits' and './data/lvm-super-lsf-b2-neon_xenon.fits'\n",
      "mjd                                          super\n",
      "kind                                          xarc\n",
      "camera                                          b3\n",
      "lamps                                   neon_xenon\n",
      "path      ./data/lvm-super-xarc-b3-neon_xenon.fits\n",
      "Name: 5, dtype: object\n",
      "\u001b[0;34m[INFO]: \u001b[0mreading guess lines from '../../python/lvmdrp/etc/lvm-neon_xenon_nist_b1.txt'\n",
      "\u001b[0;34m[INFO]: \u001b[0mgoing to use fiber 319 as reference\n",
      "\u001b[0;34m[INFO]: \u001b[0mnumber of guess lines in file 25 percentage masked  4 %\n",
      "\u001b[0;34m[INFO]: \u001b[0mgoing to use 24 guess lines\n",
      "\u001b[0;34m[INFO]: \u001b[0mreading arc from './data/lvm-super-xarc-b3-neon_xenon.fits'\n",
      "\u001b[0;34m[INFO]: \u001b[0mcalculating shift in guess lines using CC\n",
      "\u001b[0;34m[INFO]: \u001b[0mmaximum CC shift = 34 pix\n",
      "\u001b[0;34m[INFO]: \u001b[0mmeasuring arc lines for each fiber from reference fiber 319, flux_min = 10.0, fwhm_max = 5.0 and relative flux limits [0.001, 100.0]\n"
     ]
    },
    {
     "name": "stderr",
     "output_type": "stream",
     "text": [
      "measuring arc lines upwards from ref_fiber = 319: 100%|##############################################| 319/319 [00:38<00:00,  8.38fiber/s]\n",
      "measuring arc lines downwards from ref_fiber = 319: 100%|############################################| 318/318 [00:41<00:00,  7.71fiber/s]\n"
     ]
    },
    {
     "name": "stdout",
     "output_type": "stream",
     "text": [
      "\u001b[0;34m[INFO]: \u001b[0msmoothing FWHM of guess lines along cross-dispersion axis using 3-deg polynomials\n",
      "\u001b[0;34m[INFO]: \u001b[0mfitting wavelength solutions using 3-deg polynomials\n",
      "\u001b[0;34m[INFO]: \u001b[0mfinished wavelength fitting with median RMS = 3.64867 AA (6.25036 pix)\n",
      "\u001b[0;34m[INFO]: \u001b[0mfitting LSF solutions using 3-deg polynomials\n",
      "\u001b[0;34m[INFO]: \u001b[0mfinished LSF fitting with median RMS = 0.333572 AA (0.56472 pix)\n",
      "\u001b[0;34m[INFO]: \u001b[0mupdating header and writing wavelength/LSF to './data/lvm-super-wave-b3-neon_xenon.fits' and './data/lvm-super-lsf-b3-neon_xenon.fits'\n",
      "mjd                                          super\n",
      "kind                                          xarc\n",
      "camera                                          r1\n",
      "lamps                                   neon_xenon\n",
      "path      ./data/lvm-super-xarc-r1-neon_xenon.fits\n",
      "Name: 0, dtype: object\n",
      "\u001b[0;34m[INFO]: \u001b[0mreading guess lines from '../../python/lvmdrp/etc/lvm-neon_xenon_nist_r1.txt'\n",
      "\u001b[0;34m[INFO]: \u001b[0mgoing to use fiber 319 as reference\n",
      "\u001b[0;34m[INFO]: \u001b[0mnumber of guess lines in file 46 percentage masked  39.1304 %\n",
      "\u001b[0;34m[INFO]: \u001b[0mgoing to use 28 guess lines\n",
      "\u001b[0;34m[INFO]: \u001b[0mreading arc from './data/lvm-super-xarc-r1-neon_xenon.fits'\n",
      "\u001b[0;34m[INFO]: \u001b[0mcalculating shift in guess lines using CC\n",
      "\u001b[0;34m[INFO]: \u001b[0mmaximum CC shift = -1 pix\n",
      "\u001b[0;34m[INFO]: \u001b[0mmeasuring arc lines for each fiber from reference fiber 319, flux_min = 10.0, fwhm_max = 5.0 and relative flux limits [0.001, 100.0]\n"
     ]
    },
    {
     "name": "stderr",
     "output_type": "stream",
     "text": [
      "measuring arc lines upwards from ref_fiber = 319: 100%|##############################################| 319/319 [01:11<00:00,  4.47fiber/s]\n",
      "measuring arc lines downwards from ref_fiber = 319: 100%|############################################| 318/318 [01:29<00:00,  3.55fiber/s]\n"
     ]
    },
    {
     "name": "stdout",
     "output_type": "stream",
     "text": [
      "\u001b[0;34m[INFO]: \u001b[0msmoothing FWHM of guess lines along cross-dispersion axis using 3-deg polynomials\n",
      "\u001b[0;34m[INFO]: \u001b[0mfitting wavelength solutions using 3-deg polynomials\n",
      "\u001b[1;33m[WARNING]: \u001b[0mfiber 246 has all lines masked\n",
      "\u001b[0;34m[INFO]: \u001b[0mfinished wavelength fitting with median RMS = 3.69866 AA (7.08131 pix)\n",
      "\u001b[0;34m[INFO]: \u001b[0mfitting LSF solutions using 3-deg polynomials\n",
      "\u001b[0;34m[INFO]: \u001b[0mfinished LSF fitting with median RMS = 0.416627 AA (0.795392 pix)\n",
      "\u001b[0;34m[INFO]: \u001b[0mupdating header and writing wavelength/LSF to './data/lvm-super-wave-r1-neon_xenon.fits' and './data/lvm-super-lsf-r1-neon_xenon.fits'\n",
      "mjd                                          super\n",
      "kind                                          xarc\n",
      "camera                                          r2\n",
      "lamps                                   neon_xenon\n",
      "path      ./data/lvm-super-xarc-r2-neon_xenon.fits\n",
      "Name: 3, dtype: object\n",
      "\u001b[0;34m[INFO]: \u001b[0mreading guess lines from '../../python/lvmdrp/etc/lvm-neon_xenon_nist_r1.txt'\n",
      "\u001b[0;34m[INFO]: \u001b[0mgoing to use fiber 319 as reference\n",
      "\u001b[0;34m[INFO]: \u001b[0mnumber of guess lines in file 46 percentage masked  39.1304 %\n",
      "\u001b[0;34m[INFO]: \u001b[0mgoing to use 28 guess lines\n",
      "\u001b[0;34m[INFO]: \u001b[0mreading arc from './data/lvm-super-xarc-r2-neon_xenon.fits'\n",
      "\u001b[0;34m[INFO]: \u001b[0mcalculating shift in guess lines using CC\n",
      "\u001b[0;34m[INFO]: \u001b[0mmaximum CC shift = 10 pix\n",
      "\u001b[0;34m[INFO]: \u001b[0mmeasuring arc lines for each fiber from reference fiber 319, flux_min = 10.0, fwhm_max = 5.0 and relative flux limits [0.001, 100.0]\n"
     ]
    },
    {
     "name": "stderr",
     "output_type": "stream",
     "text": [
      "measuring arc lines upwards from ref_fiber = 319: 100%|##############################################| 319/319 [04:00<00:00,  1.33fiber/s]\n",
      "measuring arc lines downwards from ref_fiber = 319: 100%|############################################| 318/318 [03:36<00:00,  1.47fiber/s]\n"
     ]
    },
    {
     "name": "stdout",
     "output_type": "stream",
     "text": [
      "\u001b[0;34m[INFO]: \u001b[0msmoothing FWHM of guess lines along cross-dispersion axis using 3-deg polynomials\n",
      "\u001b[0;34m[INFO]: \u001b[0mfitting wavelength solutions using 3-deg polynomials\n",
      "\u001b[1;33m[WARNING]: \u001b[0mfiber 170 has all lines masked\n",
      "\u001b[0;34m[INFO]: \u001b[0mfinished wavelength fitting with median RMS = 61.82 AA (113.846 pix)\n",
      "\u001b[0;34m[INFO]: \u001b[0mfitting LSF solutions using 3-deg polynomials\n",
      "\u001b[0;34m[INFO]: \u001b[0mfinished LSF fitting with median RMS = 0.439803 AA (0.824849 pix)\n",
      "\u001b[0;34m[INFO]: \u001b[0mupdating header and writing wavelength/LSF to './data/lvm-super-wave-r2-neon_xenon.fits' and './data/lvm-super-lsf-r2-neon_xenon.fits'\n",
      "mjd                                          super\n",
      "kind                                          xarc\n",
      "camera                                          r3\n",
      "lamps                                   neon_xenon\n",
      "path      ./data/lvm-super-xarc-r3-neon_xenon.fits\n",
      "Name: 2, dtype: object\n",
      "\u001b[0;34m[INFO]: \u001b[0mreading guess lines from '../../python/lvmdrp/etc/lvm-neon_xenon_nist_r1.txt'\n",
      "\u001b[0;34m[INFO]: \u001b[0mgoing to use fiber 319 as reference\n",
      "\u001b[0;34m[INFO]: \u001b[0mnumber of guess lines in file 46 percentage masked  39.1304 %\n",
      "\u001b[0;34m[INFO]: \u001b[0mgoing to use 28 guess lines\n",
      "\u001b[0;34m[INFO]: \u001b[0mreading arc from './data/lvm-super-xarc-r3-neon_xenon.fits'\n",
      "\u001b[0;34m[INFO]: \u001b[0mcalculating shift in guess lines using CC\n",
      "\u001b[0;34m[INFO]: \u001b[0mmaximum CC shift = -8 pix\n",
      "\u001b[0;34m[INFO]: \u001b[0mmeasuring arc lines for each fiber from reference fiber 319, flux_min = 10.0, fwhm_max = 5.0 and relative flux limits [0.001, 100.0]\n"
     ]
    },
    {
     "name": "stderr",
     "output_type": "stream",
     "text": [
      "measuring arc lines upwards from ref_fiber = 319: 100%|##############################################| 319/319 [01:36<00:00,  3.30fiber/s]\n",
      "measuring arc lines downwards from ref_fiber = 319: 100%|############################################| 318/318 [01:37<00:00,  3.25fiber/s]\n"
     ]
    },
    {
     "name": "stdout",
     "output_type": "stream",
     "text": [
      "\u001b[0;34m[INFO]: \u001b[0msmoothing FWHM of guess lines along cross-dispersion axis using 3-deg polynomials\n",
      "\u001b[0;34m[INFO]: \u001b[0mfitting wavelength solutions using 3-deg polynomials\n",
      "\u001b[1;33m[WARNING]: \u001b[0mfiber 318 has all lines masked\n",
      "\u001b[1;33m[WARNING]: \u001b[0mfiber 530 has all lines masked\n",
      "\u001b[1;33m[WARNING]: \u001b[0mfiber 637 has all lines masked\n",
      "\u001b[0;34m[INFO]: \u001b[0mfinished wavelength fitting with median RMS = 37.8236 AA (71.9795 pix)\n",
      "\u001b[0;34m[INFO]: \u001b[0mfitting LSF solutions using 3-deg polynomials\n",
      "\u001b[0;34m[INFO]: \u001b[0mfinished LSF fitting with median RMS = 0.455712 AA (0.868573 pix)\n",
      "\u001b[0;34m[INFO]: \u001b[0mupdating header and writing wavelength/LSF to './data/lvm-super-wave-r3-neon_xenon.fits' and './data/lvm-super-lsf-r3-neon_xenon.fits'\n",
      "mjd                                          super\n",
      "kind                                          xarc\n",
      "camera                                          z1\n",
      "lamps                                   neon_xenon\n",
      "path      ./data/lvm-super-xarc-z1-neon_xenon.fits\n",
      "Name: 4, dtype: object\n",
      "\u001b[0;34m[INFO]: \u001b[0mreading guess lines from '../../python/lvmdrp/etc/lvm-neon_xenon_nist_z1.txt'\n",
      "\u001b[0;34m[INFO]: \u001b[0mgoing to use fiber 319 as reference\n",
      "\u001b[0;34m[INFO]: \u001b[0mnumber of guess lines in file 47 percentage masked  10.6383 %\n",
      "\u001b[0;34m[INFO]: \u001b[0mgoing to use 42 guess lines\n",
      "\u001b[0;34m[INFO]: \u001b[0mreading arc from './data/lvm-super-xarc-z1-neon_xenon.fits'\n",
      "\u001b[0;34m[INFO]: \u001b[0mcalculating shift in guess lines using CC\n",
      "\u001b[0;34m[INFO]: \u001b[0mmaximum CC shift = 3 pix\n",
      "\u001b[0;34m[INFO]: \u001b[0mmeasuring arc lines for each fiber from reference fiber 319, flux_min = 10.0, fwhm_max = 5.0 and relative flux limits [0.001, 100.0]\n"
     ]
    },
    {
     "name": "stderr",
     "output_type": "stream",
     "text": [
      "measuring arc lines upwards from ref_fiber = 319:   1%|3                                               | 2/319 [00:00<01:20,  3.95fiber/s]"
     ]
    },
    {
     "name": "stdout",
     "output_type": "stream",
     "text": [
      "\u001b[1;33m[WARNING]: \u001b[0m\u001b[0;39mdivide by zero encountered in divide\u001b[0m \u001b[0;36m(RuntimeWarning)\u001b[0m\n",
      "\u001b[1;33m[WARNING]: \u001b[0m\u001b[0;39mdivide by zero encountered in divide\u001b[0m \u001b[0;36m(RuntimeWarning)\u001b[0m\n"
     ]
    },
    {
     "name": "stderr",
     "output_type": "stream",
     "text": [
      "measuring arc lines upwards from ref_fiber = 319: 100%|##############################################| 319/319 [01:43<00:00,  3.09fiber/s]\n",
      "measuring arc lines downwards from ref_fiber = 319:   0%|1                                             | 1/318 [00:00<01:05,  4.85fiber/s]"
     ]
    },
    {
     "name": "stdout",
     "output_type": "stream",
     "text": [
      "\u001b[1;33m[WARNING]: \u001b[0m\u001b[0;39mdivide by zero encountered in divide\u001b[0m \u001b[0;36m(RuntimeWarning)\u001b[0m\n",
      "\u001b[1;33m[WARNING]: \u001b[0m\u001b[0;39mdivide by zero encountered in divide\u001b[0m \u001b[0;36m(RuntimeWarning)\u001b[0m\n"
     ]
    },
    {
     "name": "stderr",
     "output_type": "stream",
     "text": [
      "measuring arc lines downwards from ref_fiber = 319: 100%|############################################| 318/318 [01:11<00:00,  4.44fiber/s]\n"
     ]
    },
    {
     "name": "stdout",
     "output_type": "stream",
     "text": [
      "\u001b[0;34m[INFO]: \u001b[0msmoothing FWHM of guess lines along cross-dispersion axis using 3-deg polynomials\n",
      "\u001b[0;31m[ERROR]: \u001b[0mCoefficient array is empty\n",
      "mjd                                          super\n",
      "kind                                          xarc\n",
      "camera                                          z2\n",
      "lamps                                   neon_xenon\n",
      "path      ./data/lvm-super-xarc-z2-neon_xenon.fits\n",
      "Name: 1, dtype: object\n",
      "\u001b[0;34m[INFO]: \u001b[0mreading guess lines from '../../python/lvmdrp/etc/lvm-neon_xenon_nist_z1.txt'\n",
      "\u001b[0;34m[INFO]: \u001b[0mgoing to use fiber 319 as reference\n",
      "\u001b[0;34m[INFO]: \u001b[0mnumber of guess lines in file 47 percentage masked  10.6383 %\n",
      "\u001b[0;34m[INFO]: \u001b[0mgoing to use 42 guess lines\n",
      "\u001b[0;34m[INFO]: \u001b[0mreading arc from './data/lvm-super-xarc-z2-neon_xenon.fits'\n",
      "\u001b[0;34m[INFO]: \u001b[0mcalculating shift in guess lines using CC\n",
      "\u001b[0;34m[INFO]: \u001b[0mmaximum CC shift = 9 pix\n",
      "\u001b[0;34m[INFO]: \u001b[0mmeasuring arc lines for each fiber from reference fiber 319, flux_min = 10.0, fwhm_max = 5.0 and relative flux limits [0.001, 100.0]\n"
     ]
    },
    {
     "name": "stderr",
     "output_type": "stream",
     "text": [
      "measuring arc lines upwards from ref_fiber = 319: 100%|##############################################| 319/319 [00:40<00:00,  7.96fiber/s]\n",
      "measuring arc lines downwards from ref_fiber = 319: 100%|############################################| 318/318 [00:38<00:00,  8.31fiber/s]\n"
     ]
    },
    {
     "name": "stdout",
     "output_type": "stream",
     "text": [
      "\u001b[0;34m[INFO]: \u001b[0msmoothing FWHM of guess lines along cross-dispersion axis using 3-deg polynomials\n",
      "\u001b[0;34m[INFO]: \u001b[0mfitting wavelength solutions using 3-deg polynomials\n",
      "\u001b[0;34m[INFO]: \u001b[0mfinished wavelength fitting with median RMS = 1.07099 AA (1.78765 pix)\n",
      "\u001b[0;34m[INFO]: \u001b[0mfitting LSF solutions using 3-deg polynomials\n",
      "\u001b[0;34m[INFO]: \u001b[0mfinished LSF fitting with median RMS = 0.286593 AA (0.477416 pix)\n",
      "\u001b[0;34m[INFO]: \u001b[0mupdating header and writing wavelength/LSF to './data/lvm-super-wave-z2-neon_xenon.fits' and './data/lvm-super-lsf-z2-neon_xenon.fits'\n",
      "mjd                                          super\n",
      "kind                                          xarc\n",
      "camera                                          z3\n",
      "lamps                                   neon_xenon\n",
      "path      ./data/lvm-super-xarc-z3-neon_xenon.fits\n",
      "Name: 6, dtype: object\n",
      "\u001b[0;34m[INFO]: \u001b[0mreading guess lines from '../../python/lvmdrp/etc/lvm-neon_xenon_nist_z1.txt'\n",
      "\u001b[0;34m[INFO]: \u001b[0mgoing to use fiber 319 as reference\n",
      "\u001b[0;34m[INFO]: \u001b[0mnumber of guess lines in file 47 percentage masked  10.6383 %\n",
      "\u001b[0;34m[INFO]: \u001b[0mgoing to use 42 guess lines\n",
      "\u001b[0;34m[INFO]: \u001b[0mreading arc from './data/lvm-super-xarc-z3-neon_xenon.fits'\n",
      "\u001b[0;34m[INFO]: \u001b[0mcalculating shift in guess lines using CC\n",
      "\u001b[0;34m[INFO]: \u001b[0mmaximum CC shift = -13 pix\n",
      "\u001b[0;34m[INFO]: \u001b[0mmeasuring arc lines for each fiber from reference fiber 319, flux_min = 10.0, fwhm_max = 5.0 and relative flux limits [0.001, 100.0]\n"
     ]
    },
    {
     "name": "stderr",
     "output_type": "stream",
     "text": [
      "measuring arc lines upwards from ref_fiber = 319: 100%|##############################################| 319/319 [00:37<00:00,  8.58fiber/s]\n",
      "measuring arc lines downwards from ref_fiber = 319: 100%|############################################| 318/318 [00:48<00:00,  6.57fiber/s]\n"
     ]
    },
    {
     "name": "stdout",
     "output_type": "stream",
     "text": [
      "\u001b[0;34m[INFO]: \u001b[0msmoothing FWHM of guess lines along cross-dispersion axis using 3-deg polynomials\n",
      "\u001b[0;34m[INFO]: \u001b[0mfitting wavelength solutions using 3-deg polynomials\n",
      "\u001b[0;34m[INFO]: \u001b[0mfinished wavelength fitting with median RMS = 2.42319 AA (4.06676 pix)\n",
      "\u001b[0;34m[INFO]: \u001b[0mfitting LSF solutions using 3-deg polynomials\n",
      "\u001b[0;34m[INFO]: \u001b[0mfinished LSF fitting with median RMS = 0.426792 AA (0.703787 pix)\n",
      "\u001b[0;34m[INFO]: \u001b[0mupdating header and writing wavelength/LSF to './data/lvm-super-wave-z3-neon_xenon.fits' and './data/lvm-super-lsf-z3-neon_xenon.fits'\n"
     ]
    }
   ],
   "source": [
    "CHANNEL_WL = {\"b\": (3600, 5930), \"r\": (5660, 7720), \"z\": (7470, 9800)}\n",
    "LAMPS = \"neon_xenon\"\n",
    "REF_FIBER = 319\n",
    "\n",
    "masters_arc = get_masters_metadata(path_pattern=out_arc_path, mjd=\"super\", kind=\"xarc\", lamps=LAMPS).sort_values(\"camera\")\n",
    "print(masters_arc.to_string())\n",
    "\n",
    "for _, marc in masters_arc.iterrows():\n",
    "    print(marc)\n",
    "\n",
    "    try:\n",
    "        rssMethod.detWaveSolution_drp(\n",
    "            in_arc=marc.path,\n",
    "            out_wave=out_arc_path.format(mjd=marc.mjd, kind=\"wave\", camera=marc.camera, lamps=marc.lamps),\n",
    "            out_lsf=out_arc_path.format(mjd=marc.mjd, kind=\"lsf\", camera=marc.camera, lamps=marc.lamps),\n",
    "            in_ref_lines=f\"../../python/lvmdrp/etc/lvm-{LAMPS}_nist_{marc.camera[0]}1.txt\",\n",
    "            ref_fiber=REF_FIBER, poly_disp=3, poly_fwhm=3, poly_cros=3, poly_kinds=\"poly,poly,poly\",\n",
    "            flux_min=\"10.0\", fwhm_max=\"5.0\", rel_flux_limits=\"0.001,100\", aperture=10, plot=2\n",
    "        )\n",
    "        rssMethod.createPixTable_drp(\n",
    "            in_rss=out_arc_path.format(mjd=marc.mjd, kind=\"xarc\", camera=marc.camera, lamps=marc.lamps),\n",
    "            out_rss=out_arc_path.format(mjd=marc.mjd, kind=\"warc\", camera=marc.camera, lamps=marc.lamps),\n",
    "            arc_wave=out_arc_path.format(mjd=marc.mjd, kind=\"wave\", camera=marc.camera, lamps=marc.lamps),\n",
    "            arc_fwhm=out_arc_path.format(mjd=marc.mjd, kind=\"lsf\", camera=marc.camera, lamps=marc.lamps)\n",
    "        )\n",
    "        wave_range = CHANNEL_WL[marc.camera[0]]\n",
    "        rssMethod.resampleWave_drp(\n",
    "            in_rss=out_arc_path.format(mjd=marc.mjd, kind=\"warc\", camera=marc.camera, lamps=marc.lamps),\n",
    "            out_rss=out_arc_path.format(mjd=marc.mjd, kind=\"harc\", camera=marc.camera, lamps=marc.lamps),\n",
    "            start_wave=wave_range[0], end_wave=wave_range[1], disp_pix=1.0, method=\"linear\",\n",
    "            err_sim=10, parallel=\"auto\", extrapolate=True\n",
    "        )\n",
    "    except Exception as e:\n",
    "        rssMethod.rss_logger.error(e)"
   ]
  },
  {
   "cell_type": "code",
   "execution_count": 5,
   "id": "27f0ca87-0a7b-4f86-9fe7-0559690af240",
   "metadata": {
    "tags": []
   },
   "outputs": [
    {
     "name": "stdout",
     "output_type": "stream",
     "text": [
      "mjd                                        super\n",
      "kind                                  xfiberflat\n",
      "camera                                        b1\n",
      "exptime                                        x\n",
      "path       ./data/lvm-super-xfiberflat-b1-x.fits\n",
      "Name: 3, dtype: object\n",
      "mjd                                        super\n",
      "kind                                  xfiberflat\n",
      "camera                                        b2\n",
      "exptime                                        x\n",
      "path       ./data/lvm-super-xfiberflat-b2-x.fits\n",
      "Name: 7, dtype: object\n",
      "mjd                                        super\n",
      "kind                                  xfiberflat\n",
      "camera                                        b3\n",
      "exptime                                        x\n",
      "path       ./data/lvm-super-xfiberflat-b3-x.fits\n",
      "Name: 4, dtype: object\n",
      "mjd                                        super\n",
      "kind                                  xfiberflat\n",
      "camera                                        r1\n",
      "exptime                                        x\n",
      "path       ./data/lvm-super-xfiberflat-r1-x.fits\n",
      "Name: 2, dtype: object\n",
      "mjd                                        super\n",
      "kind                                  xfiberflat\n",
      "camera                                        r2\n",
      "exptime                                        x\n",
      "path       ./data/lvm-super-xfiberflat-r2-x.fits\n",
      "Name: 8, dtype: object\n",
      "mjd                                        super\n",
      "kind                                  xfiberflat\n",
      "camera                                        r3\n",
      "exptime                                        x\n",
      "path       ./data/lvm-super-xfiberflat-r3-x.fits\n",
      "Name: 6, dtype: object\n",
      "mjd                                        super\n",
      "kind                                  xfiberflat\n",
      "camera                                        z1\n",
      "exptime                                        x\n",
      "path       ./data/lvm-super-xfiberflat-z1-x.fits\n",
      "Name: 0, dtype: object\n",
      "mjd                                        super\n",
      "kind                                  xfiberflat\n",
      "camera                                        z2\n",
      "exptime                                        x\n",
      "path       ./data/lvm-super-xfiberflat-z2-x.fits\n",
      "Name: 5, dtype: object\n",
      "mjd                                        super\n",
      "kind                                  xfiberflat\n",
      "camera                                        z3\n",
      "exptime                                        x\n",
      "path       ./data/lvm-super-xfiberflat-z3-x.fits\n",
      "Name: 1, dtype: object\n"
     ]
    }
   ],
   "source": [
    "fiberflats = get_masters_metadata(path_pattern=out_calib_path, mjd=\"super\", kind=\"xfiberflat\", exptime=\"x\").sort_values(\"camera\")\n",
    "\n",
    "for _, fiberflat in fiberflats.iterrows():\n",
    "    print(fiberflat)\n",
    "    \n",
    "    rssMethod.createPixTable_drp(\n",
    "        in_rss=fiberflat.path,\n",
    "        out_rss=out_calib_path.format(mjd=fiberflat.mjd, kind=\"wfiberflat\", camera=fiberflat.camera, exptime=fiberflat.exptime),\n",
    "        arc_wave=out_arc_path.format(mjd=fiberflat.mjd, kind=\"wave\", camera=fiberflat.camera, lamps=LAMPS),\n",
    "        arc_fwhm=out_arc_path.format(mjd=fiberflat.mjd, kind=\"lsf\", camera=fiberflat.camera, lamps=LAMPS)\n",
    "    )\n",
    "\n",
    "    wave_range = CHANNEL_WL[fiberflat.camera[0]]\n",
    "    rssMethod.resampleWave_drp(\n",
    "        in_rss=out_calib_path.format(mjd=fiberflat.mjd, kind=\"wfiberflat\", camera=fiberflat.camera, exptime=fiberflat.exptime),\n",
    "        out_rss=out_calib_path.format(mjd=fiberflat.mjd, kind=\"hfiberflat\", camera=fiberflat.camera, exptime=fiberflat.exptime),\n",
    "        start_wave=wave_range[0], end_wave=wave_range[1], disp_pix=1.0, method=\"linear\",\n",
    "        err_sim=10, parallel=\"auto\", extrapolate=True\n",
    "    )"
   ]
  },
  {
   "cell_type": "code",
   "execution_count": 6,
   "id": "ec25bc92-3f53-406f-bb26-eab41b0d323b",
   "metadata": {
    "tags": []
   },
   "outputs": [
    {
     "name": "stdout",
     "output_type": "stream",
     "text": [
      "mjd                                          super\n",
      "kind                                          xarc\n",
      "camera                                          b1\n",
      "lamps                                   neon_xenon\n",
      "path      ./data/lvm-super-xarc-b1-neon_xenon.fits\n",
      "Name: 7, dtype: object\n",
      "mjd                                          super\n",
      "kind                                          xarc\n",
      "camera                                          b2\n",
      "lamps                                   neon_xenon\n",
      "path      ./data/lvm-super-xarc-b2-neon_xenon.fits\n",
      "Name: 8, dtype: object\n",
      "mjd                                          super\n",
      "kind                                          xarc\n",
      "camera                                          b3\n",
      "lamps                                   neon_xenon\n",
      "path      ./data/lvm-super-xarc-b3-neon_xenon.fits\n",
      "Name: 5, dtype: object\n",
      "mjd                                          super\n",
      "kind                                          xarc\n",
      "camera                                          r1\n",
      "lamps                                   neon_xenon\n",
      "path      ./data/lvm-super-xarc-r1-neon_xenon.fits\n",
      "Name: 0, dtype: object\n",
      "mjd                                          super\n",
      "kind                                          xarc\n",
      "camera                                          r2\n",
      "lamps                                   neon_xenon\n",
      "path      ./data/lvm-super-xarc-r2-neon_xenon.fits\n",
      "Name: 3, dtype: object\n",
      "mjd                                          super\n",
      "kind                                          xarc\n",
      "camera                                          r3\n",
      "lamps                                   neon_xenon\n",
      "path      ./data/lvm-super-xarc-r3-neon_xenon.fits\n",
      "Name: 2, dtype: object\n",
      "mjd                                          super\n",
      "kind                                          xarc\n",
      "camera                                          z1\n",
      "lamps                                   neon_xenon\n",
      "path      ./data/lvm-super-xarc-z1-neon_xenon.fits\n",
      "Name: 4, dtype: object\n",
      "mjd                                          super\n",
      "kind                                          xarc\n",
      "camera                                          z2\n",
      "lamps                                   neon_xenon\n",
      "path      ./data/lvm-super-xarc-z2-neon_xenon.fits\n",
      "Name: 1, dtype: object\n",
      "mjd                                          super\n",
      "kind                                          xarc\n",
      "camera                                          z3\n",
      "lamps                                   neon_xenon\n",
      "path      ./data/lvm-super-xarc-z3-neon_xenon.fits\n",
      "Name: 6, dtype: object\n"
     ]
    }
   ],
   "source": [
    "arcs = get_masters_metadata(path_pattern=out_arc_path, mjd=\"super\", kind=\"xarc\", lamps=LAMPS).sort_values(\"camera\")\n",
    "\n",
    "for _, arc in arcs.iterrows():\n",
    "    print(arc)\n",
    "    \n",
    "    rssMethod.createPixTable_drp(\n",
    "        in_rss=arc.path,\n",
    "        out_rss=out_arc_path.format(mjd=arc.mjd, kind=\"warc\", camera=arc.camera, lamps=LAMPS),\n",
    "        arc_wave=out_arc_path.format(mjd=arc.mjd, kind=\"wave\", camera=arc.camera, lamps=LAMPS),\n",
    "        arc_fwhm=out_arc_path.format(mjd=arc.mjd, kind=\"lsf\", camera=arc.camera, lamps=LAMPS)\n",
    "    )\n",
    "\n",
    "    wave_range = CHANNEL_WL[arc.camera[0]]\n",
    "    rssMethod.resampleWave_drp(\n",
    "        in_rss=out_arc_path.format(mjd=arc.mjd, kind=\"warc\", camera=arc.camera, lamps=LAMPS),\n",
    "        out_rss=out_arc_path.format(mjd=arc.mjd, kind=\"harc\", camera=arc.camera, lamps=LAMPS),\n",
    "        start_wave=wave_range[0], end_wave=wave_range[1], disp_pix=1.0, method=\"linear\",\n",
    "        err_sim=10, parallel=\"auto\", extrapolate=True\n",
    "    )"
   ]
  }
 ],
 "metadata": {
  "kernelspec": {
   "display_name": "Python 3 (ipykernel)",
   "language": "python",
   "name": "python3"
  },
  "language_info": {
   "codemirror_mode": {
    "name": "ipython",
    "version": 3
   },
   "file_extension": ".py",
   "mimetype": "text/x-python",
   "name": "python",
   "nbconvert_exporter": "python",
   "pygments_lexer": "ipython3",
   "version": "3.8.16"
  }
 },
 "nbformat": 4,
 "nbformat_minor": 5
}
