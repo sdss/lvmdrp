{
 "cells": [
  {
   "cell_type": "code",
   "execution_count": null,
   "id": "ca287bff-3860-40a1-b422-9d8a8e7b49c7",
   "metadata": {
    "tags": []
   },
   "outputs": [],
   "source": [
    "%matplotlib widget\n",
    "\n",
    "import os\n",
    "import numpy as np\n",
    "import pandas as pd\n",
    "import matplotlib.pyplot as plt\n",
    "from matplotlib import style\n",
    "\n",
    "from lvmdrp import log, path, __version__ as drpver\n",
    "from lvmdrp.utils import metadata as md\n",
    "\n",
    "from lvmdrp.core.constants import ARC_LAMPS, SPEC_CHANNELS\n",
    "from lvmdrp.core import rss, image, spectrum1d\n",
    "from lvmdrp.functions import imageMethod, rssMethod\n",
    "\n",
    "\n",
    "# style.use(['dark_background', 'ggplot', 'fast'])"
   ]
  },
  {
   "cell_type": "code",
   "execution_count": null,
   "id": "de444a13-c0bf-4436-adcf-bae2caf322b5",
   "metadata": {
    "tags": []
   },
   "outputs": [],
   "source": [
    "# define list of lamps\n",
    "lamps = [lamp.lower() for lamp in ARC_LAMPS]\n",
    "lamps.remove(\"xenon\")\n",
    "print(f\"{lamps = }\")\n",
    "# initialize lamps status (OFF)\n",
    "lamps_status = dict.fromkeys(lamps, False)"
   ]
  },
  {
   "cell_type": "code",
   "execution_count": null,
   "id": "801fadce-0203-4f3c-8d78-cf33d26c1b85",
   "metadata": {
    "tags": []
   },
   "outputs": [],
   "source": [
    "master_paths = [os.path.join(root, file) for root, _, files in os.walk(os.getenv(\"LVM_SPECTRO_REDUX\")) for file in files if file.startswith(\"lvm-xmarc_\") and file.endswith(\".fits\")]\n",
    "master_arcs = md.extract_metadata(kind=\"master\", frames_paths=master_paths)\n",
    "master_arcs = master_arcs.loc[master_arcs.mjd == 60145]\n",
    "master_arcs.sort_values(\"camera\", inplace=True)"
   ]
  },
  {
   "cell_type": "code",
   "execution_count": null,
   "id": "78ba3c6c-37f4-41ef-9466-c15e3b8ae0b5",
   "metadata": {
    "tags": []
   },
   "outputs": [],
   "source": [
    "ref_fibers = {\"r2\": 330, \"r1\": 319, \"r3\": 319, \"z1\": 319, \"z2\": 319, \"z3\": 319, \"b3\": 319, \"b2\": 319, \"b1\": 319}\n",
    "\n",
    "\n",
    "mwaves = []\n",
    "for camera in sorted(ref_fibers):\n",
    "    \n",
    "    if camera[0] == \"b\":\n",
    "        lamp = \"hgne\"\n",
    "        marc = master_arcs.query(\"camera == @camera & hgne\").squeeze()\n",
    "    else:\n",
    "        lamp = \"neon\"\n",
    "        marc = master_arcs.query(\"camera == @camera & neon\").squeeze()\n",
    "    \n",
    "    xpath = path.full(\"lvm_master\", drpver=drpver, kind=f\"xmarc_{lamp}\", **marc.to_dict())\n",
    "    mwave = path.full(\"lvm_master\", drpver=drpver, kind=f\"mwave_{lamp}\", **marc.to_dict())\n",
    "    mlsf = path.full(\"lvm_master\", drpver=drpver, kind=f\"mlsf_{lamp}\", **marc.to_dict())\n",
    "    wpath = path.full(\"lvm_master\", drpver=drpver, kind=f\"wmarc_{lamp}\", **marc.to_dict())\n",
    "\n",
    "    # determine wavelength solutions\n",
    "    rssMethod.determine_wavelength_solution(in_arcs=xpath, out_wave=mwave, out_lsf=mlsf, ref_fiber=ref_fibers.get(marc.camera, 319), aperture=10, cc_correction=True,\n",
    "                                            poly_disp=3, poly_fwhm=2, poly_cros=2, flux_min=1e-12, fwhm_max=5, rel_flux_limits=[0.001, 1e12], display_plots=True)\n",
    "    \n",
    "    mwaves.append(mwave)\n",
    "    # create pixel table\n",
    "    iwave, fwave = SPEC_CHANNELS[marc.camera[0]]\n",
    "    wpath = path.full(\"lvm_master\", drpver=drpver, kind=f\"wmarc_{lamp}\", **marc.to_dict())\n",
    "    rssMethod.create_pixel_table(in_rss=xpath, out_rss=wpath, arc_wave=mwave, arc_fwhm=mlsf)\n",
    "    # resample\n",
    "    rssMethod.resample_wavelength(in_rss=wpath, out_rss=wpath, method=\"linear\", disp_pix=0.5, start_wave=iwave, end_wave=fwave, err_sim=10, parallel=0)\n",
    "    # combine channel\n",
    "    # combine spectrograph"
   ]
  },
  {
   "cell_type": "code",
   "execution_count": null,
   "id": "9acd2023-cdbb-43e8-b5fe-92e4f134f04b",
   "metadata": {
    "tags": []
   },
   "outputs": [],
   "source": [
    "from astropy.io import fits\n",
    "\n",
    "# save coefficients table\n",
    "coeffs = pd.DataFrame(columns=sorted(ref_fibers))\n",
    "for mwave in mwaves:\n",
    "    wave = fits.open(mwave)\n",
    "    camera = os.path.basename(mwave).replace(\".fits\", \"\").split(\"-\")[-1]\n",
    "    coeff = wave[1].data\n",
    "\n",
    "    coeffs[camera] = coeff[coeff.shape[0]//2]\n",
    "\n",
    "coeffs.to_csv(f\"data_waves/coeffs_fib{coeff.shape[0]//2}_neon.csv\")"
   ]
  },
  {
   "cell_type": "code",
   "execution_count": null,
   "id": "27f0ca87-0a7b-4f86-9fe7-0559690af240",
   "metadata": {
    "tags": []
   },
   "outputs": [],
   "source": [
    "fiberflats = get_masters_metadata(path_pattern=out_calib_path, mjd=\"super\", kind=\"xfiberflat\", exptime=\"x\").sort_values(\"camera\")\n",
    "\n",
    "for _, fiberflat in fiberflats.iterrows():\n",
    "    print(fiberflat)\n",
    "    \n",
    "    rssMethod.createPixTable_drp(\n",
    "        in_rss=fiberflat.path,\n",
    "        out_rss=out_calib_path.format(mjd=fiberflat.mjd, kind=\"wfiberflat\", camera=fiberflat.camera, exptime=fiberflat.exptime),\n",
    "        arc_wave=out_arc_path.format(mjd=fiberflat.mjd, kind=\"wave\", camera=fiberflat.camera, lamps=LAMPS),\n",
    "        arc_fwhm=out_arc_path.format(mjd=fiberflat.mjd, kind=\"lsf\", camera=fiberflat.camera, lamps=LAMPS)\n",
    "    )\n",
    "\n",
    "    wave_range = CHANNEL_WL[fiberflat.camera[0]]\n",
    "    rssMethod.resampleWave_drp(\n",
    "        in_rss=out_calib_path.format(mjd=fiberflat.mjd, kind=\"wfiberflat\", camera=fiberflat.camera, exptime=fiberflat.exptime),\n",
    "        out_rss=out_calib_path.format(mjd=fiberflat.mjd, kind=\"hfiberflat\", camera=fiberflat.camera, exptime=fiberflat.exptime),\n",
    "        start_wave=wave_range[0], end_wave=wave_range[1], disp_pix=1.0, method=\"linear\",\n",
    "        err_sim=10, parallel=\"auto\", extrapolate=True\n",
    "    )"
   ]
  },
  {
   "cell_type": "code",
   "execution_count": null,
   "id": "ec25bc92-3f53-406f-bb26-eab41b0d323b",
   "metadata": {
    "tags": []
   },
   "outputs": [],
   "source": [
    "arcs = get_masters_metadata(path_pattern=out_arc_path, mjd=\"super\", kind=\"xarc\", lamps=LAMPS).sort_values(\"camera\")\n",
    "\n",
    "for _, arc in arcs.iterrows():\n",
    "    print(arc)\n",
    "    \n",
    "    rssMethod.createPixTable_drp(\n",
    "        in_rss=arc.path,\n",
    "        out_rss=out_arc_path.format(mjd=arc.mjd, kind=\"warc\", camera=arc.camera, lamps=LAMPS),\n",
    "        arc_wave=out_arc_path.format(mjd=arc.mjd, kind=\"wave\", camera=arc.camera, lamps=LAMPS),\n",
    "        arc_fwhm=out_arc_path.format(mjd=arc.mjd, kind=\"lsf\", camera=arc.camera, lamps=LAMPS)\n",
    "    )\n",
    "\n",
    "    wave_range = CHANNEL_WL[arc.camera[0]]\n",
    "    rssMethod.resampleWave_drp(\n",
    "        in_rss=out_arc_path.format(mjd=arc.mjd, kind=\"warc\", camera=arc.camera, lamps=LAMPS),\n",
    "        out_rss=out_arc_path.format(mjd=arc.mjd, kind=\"harc\", camera=arc.camera, lamps=LAMPS),\n",
    "        start_wave=wave_range[0], end_wave=wave_range[1], disp_pix=1.0, method=\"linear\",\n",
    "        err_sim=10, parallel=\"auto\", extrapolate=True\n",
    "    )"
   ]
  }
 ],
 "metadata": {
  "kernelspec": {
   "display_name": "Python 3 (ipykernel)",
   "language": "python",
   "name": "python3"
  },
  "language_info": {
   "codemirror_mode": {
    "name": "ipython",
    "version": 3
   },
   "file_extension": ".py",
   "mimetype": "text/x-python",
   "name": "python",
   "nbconvert_exporter": "python",
   "pygments_lexer": "ipython3",
   "version": "3.8.16"
  }
 },
 "nbformat": 4,
 "nbformat_minor": 5
}
