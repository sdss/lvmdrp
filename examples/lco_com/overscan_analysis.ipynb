{
 "cells": [
  {
   "cell_type": "code",
   "execution_count": 1,
   "id": "947ce1dd-892d-4fc9-b560-7af48106e101",
   "metadata": {
    "tags": []
   },
   "outputs": [],
   "source": [
    "%matplotlib widget\n",
    "\n",
    "import os\n",
    "import numpy as np\n",
    "from scipy.stats import median_abs_deviation as mad\n",
    "from astropy.stats.biweight import biweight_location\n",
    "import pandas as pd\n",
    "from tqdm.notebook import tqdm\n",
    "import matplotlib.pyplot as plt\n",
    "\n",
    "from lvmdrp.utils.examples import fetch_example_data, get_frames_metadata, fix_lamps_metadata, get_masters_metadata\n",
    "\n",
    "from lvmdrp.core.plot import plot_strips\n",
    "from lvmdrp.core import rss, image, spectrum1d\n",
    "from lvmdrp.functions import imageMethod, rssMethod\n",
    "\n",
    "plt.style.use(\"seaborn-v0_8-talk\")"
   ]
  },
  {
   "cell_type": "code",
   "execution_count": 2,
   "id": "a494ee15-bd9c-45d8-8b1a-f04e75a69c3b",
   "metadata": {},
   "outputs": [],
   "source": [
    "# TODO: take a look at the bias subtracted bias"
   ]
  },
  {
   "cell_type": "code",
   "execution_count": 3,
   "id": "62e2cd3d-65aa-4b24-b127-4d55902254bd",
   "metadata": {
    "tags": []
   },
   "outputs": [],
   "source": [
    "# define input data directory\n",
    "data_path = os.path.abspath(os.path.join(\"..\", \"data\"))\n",
    "\n",
    "# let's create the output directory\n",
    "output_path = \"./data\"\n",
    "os.makedirs(output_path, exist_ok=True)\n",
    "\n",
    "# create processed frames path template\n",
    "out_main_path = os.path.join(output_path, \"lvm-{kind}-{camera}-{expnum}.fits\")\n",
    "out_calib_path = os.path.join(output_path, \"lvm-{mjd}-{kind}-{camera}-{exptime}.fits\")\n",
    "\n",
    "# overwrite or not\n",
    "OVERWRITE = False"
   ]
  },
  {
   "cell_type": "code",
   "execution_count": 4,
   "id": "94c13533-275a-41b9-bf94-16ce6868a62c",
   "metadata": {
    "tags": []
   },
   "outputs": [
    {
     "name": "stdout",
     "output_type": "stream",
     "text": [
      "\u001b[0;34m[INFO]: \u001b[0mloading cached metadata from '/home/mejia/Research/UNAM/lvm-drp/lvmdrp/examples/data/lco_com/frames_table.pkl'\n"
     ]
    }
   ],
   "source": [
    "# extract metadata\n",
    "frames_table = get_frames_metadata(path=os.path.join(data_path, \"lco_com\"), ignore_cache=False).to_pandas()\n",
    "frames_table = frames_table.loc[~frames_table.mjd.isin([60008,60009,60037,60038])]\n",
    "# fix arc lamps metadata\n",
    "fix_lamps_metadata(metadata=frames_table, lamp_names=\"argon neon ldls hgne xenon krypton\".split())"
   ]
  },
  {
   "cell_type": "code",
   "execution_count": 5,
   "id": "f64042b0-8b2b-46ec-8603-965adc13077b",
   "metadata": {
    "tags": []
   },
   "outputs": [
    {
     "data": {
      "text/html": [
       "<div>\n",
       "<style scoped>\n",
       "    .dataframe tbody tr th:only-of-type {\n",
       "        vertical-align: middle;\n",
       "    }\n",
       "\n",
       "    .dataframe tbody tr th {\n",
       "        vertical-align: top;\n",
       "    }\n",
       "\n",
       "    .dataframe thead th {\n",
       "        text-align: right;\n",
       "    }\n",
       "</style>\n",
       "<table border=\"1\" class=\"dataframe\">\n",
       "  <thead>\n",
       "    <tr style=\"text-align: right;\">\n",
       "      <th></th>\n",
       "      <th>imagetyp</th>\n",
       "      <th>spec</th>\n",
       "      <th>mjd</th>\n",
       "      <th>camera</th>\n",
       "      <th>expnum</th>\n",
       "      <th>exptime</th>\n",
       "      <th>argon</th>\n",
       "      <th>neon</th>\n",
       "      <th>ldls</th>\n",
       "      <th>hgne</th>\n",
       "      <th>xenon</th>\n",
       "      <th>krypton</th>\n",
       "      <th>path</th>\n",
       "    </tr>\n",
       "  </thead>\n",
       "  <tbody>\n",
       "    <tr>\n",
       "      <th>0</th>\n",
       "      <td>object</td>\n",
       "      <td>sp1</td>\n",
       "      <td>60041</td>\n",
       "      <td>b1</td>\n",
       "      <td>00000679</td>\n",
       "      <td>30.0</td>\n",
       "      <td>False</td>\n",
       "      <td>False</td>\n",
       "      <td>False</td>\n",
       "      <td>False</td>\n",
       "      <td>False</td>\n",
       "      <td>False</td>\n",
       "      <td>/home/mejia/Research/UNAM/lvm-drp/lvmdrp/examp...</td>\n",
       "    </tr>\n",
       "    <tr>\n",
       "      <th>1</th>\n",
       "      <td>object</td>\n",
       "      <td>sp1</td>\n",
       "      <td>60040</td>\n",
       "      <td>b1</td>\n",
       "      <td>00000607</td>\n",
       "      <td>900.0</td>\n",
       "      <td>False</td>\n",
       "      <td>False</td>\n",
       "      <td>False</td>\n",
       "      <td>False</td>\n",
       "      <td>False</td>\n",
       "      <td>False</td>\n",
       "      <td>/home/mejia/Research/UNAM/lvm-drp/lvmdrp/examp...</td>\n",
       "    </tr>\n",
       "    <tr>\n",
       "      <th>2</th>\n",
       "      <td>object</td>\n",
       "      <td>sp1</td>\n",
       "      <td>60039</td>\n",
       "      <td>b1</td>\n",
       "      <td>00000509</td>\n",
       "      <td>120.0</td>\n",
       "      <td>False</td>\n",
       "      <td>False</td>\n",
       "      <td>False</td>\n",
       "      <td>False</td>\n",
       "      <td>False</td>\n",
       "      <td>False</td>\n",
       "      <td>/home/mejia/Research/UNAM/lvm-drp/lvmdrp/examp...</td>\n",
       "    </tr>\n",
       "    <tr>\n",
       "      <th>3</th>\n",
       "      <td>object</td>\n",
       "      <td>sp1</td>\n",
       "      <td>60040</td>\n",
       "      <td>b1</td>\n",
       "      <td>00000641</td>\n",
       "      <td>60.0</td>\n",
       "      <td>False</td>\n",
       "      <td>False</td>\n",
       "      <td>False</td>\n",
       "      <td>False</td>\n",
       "      <td>False</td>\n",
       "      <td>False</td>\n",
       "      <td>/home/mejia/Research/UNAM/lvm-drp/lvmdrp/examp...</td>\n",
       "    </tr>\n",
       "    <tr>\n",
       "      <th>4</th>\n",
       "      <td>object</td>\n",
       "      <td>sp1</td>\n",
       "      <td>60010</td>\n",
       "      <td>b1</td>\n",
       "      <td>00000174</td>\n",
       "      <td>180.0</td>\n",
       "      <td>False</td>\n",
       "      <td>False</td>\n",
       "      <td>False</td>\n",
       "      <td>False</td>\n",
       "      <td>False</td>\n",
       "      <td>False</td>\n",
       "      <td>/home/mejia/Research/UNAM/lvm-drp/lvmdrp/examp...</td>\n",
       "    </tr>\n",
       "    <tr>\n",
       "      <th>...</th>\n",
       "      <td>...</td>\n",
       "      <td>...</td>\n",
       "      <td>...</td>\n",
       "      <td>...</td>\n",
       "      <td>...</td>\n",
       "      <td>...</td>\n",
       "      <td>...</td>\n",
       "      <td>...</td>\n",
       "      <td>...</td>\n",
       "      <td>...</td>\n",
       "      <td>...</td>\n",
       "      <td>...</td>\n",
       "      <td>...</td>\n",
       "    </tr>\n",
       "    <tr>\n",
       "      <th>676</th>\n",
       "      <td>object</td>\n",
       "      <td>sp3</td>\n",
       "      <td>60039</td>\n",
       "      <td>z3</td>\n",
       "      <td>00000567</td>\n",
       "      <td>15.0</td>\n",
       "      <td>False</td>\n",
       "      <td>False</td>\n",
       "      <td>True</td>\n",
       "      <td>False</td>\n",
       "      <td>False</td>\n",
       "      <td>False</td>\n",
       "      <td>/home/mejia/Research/UNAM/lvm-drp/lvmdrp/examp...</td>\n",
       "    </tr>\n",
       "    <tr>\n",
       "      <th>677</th>\n",
       "      <td>object</td>\n",
       "      <td>sp3</td>\n",
       "      <td>60039</td>\n",
       "      <td>z3</td>\n",
       "      <td>00000509</td>\n",
       "      <td>120.0</td>\n",
       "      <td>False</td>\n",
       "      <td>False</td>\n",
       "      <td>False</td>\n",
       "      <td>False</td>\n",
       "      <td>False</td>\n",
       "      <td>False</td>\n",
       "      <td>/home/mejia/Research/UNAM/lvm-drp/lvmdrp/examp...</td>\n",
       "    </tr>\n",
       "    <tr>\n",
       "      <th>678</th>\n",
       "      <td>object</td>\n",
       "      <td>sp3</td>\n",
       "      <td>60039</td>\n",
       "      <td>z3</td>\n",
       "      <td>00000590</td>\n",
       "      <td>180.0</td>\n",
       "      <td>False</td>\n",
       "      <td>False</td>\n",
       "      <td>True</td>\n",
       "      <td>False</td>\n",
       "      <td>False</td>\n",
       "      <td>False</td>\n",
       "      <td>/home/mejia/Research/UNAM/lvm-drp/lvmdrp/examp...</td>\n",
       "    </tr>\n",
       "    <tr>\n",
       "      <th>679</th>\n",
       "      <td>object</td>\n",
       "      <td>sp3</td>\n",
       "      <td>60039</td>\n",
       "      <td>z3</td>\n",
       "      <td>00000504</td>\n",
       "      <td>120.0</td>\n",
       "      <td>False</td>\n",
       "      <td>False</td>\n",
       "      <td>False</td>\n",
       "      <td>False</td>\n",
       "      <td>False</td>\n",
       "      <td>False</td>\n",
       "      <td>/home/mejia/Research/UNAM/lvm-drp/lvmdrp/examp...</td>\n",
       "    </tr>\n",
       "    <tr>\n",
       "      <th>680</th>\n",
       "      <td>object</td>\n",
       "      <td>sp3</td>\n",
       "      <td>60039</td>\n",
       "      <td>z3</td>\n",
       "      <td>00000503</td>\n",
       "      <td>5.0</td>\n",
       "      <td>False</td>\n",
       "      <td>False</td>\n",
       "      <td>False</td>\n",
       "      <td>False</td>\n",
       "      <td>False</td>\n",
       "      <td>False</td>\n",
       "      <td>/home/mejia/Research/UNAM/lvm-drp/lvmdrp/examp...</td>\n",
       "    </tr>\n",
       "  </tbody>\n",
       "</table>\n",
       "<p>681 rows × 13 columns</p>\n",
       "</div>"
      ],
      "text/plain": [
       "    imagetyp spec    mjd camera    expnum  exptime  argon   neon   ldls  \\\n",
       "0     object  sp1  60041     b1  00000679     30.0  False  False  False   \n",
       "1     object  sp1  60040     b1  00000607    900.0  False  False  False   \n",
       "2     object  sp1  60039     b1  00000509    120.0  False  False  False   \n",
       "3     object  sp1  60040     b1  00000641     60.0  False  False  False   \n",
       "4     object  sp1  60010     b1  00000174    180.0  False  False  False   \n",
       "..       ...  ...    ...    ...       ...      ...    ...    ...    ...   \n",
       "676   object  sp3  60039     z3  00000567     15.0  False  False   True   \n",
       "677   object  sp3  60039     z3  00000509    120.0  False  False  False   \n",
       "678   object  sp3  60039     z3  00000590    180.0  False  False   True   \n",
       "679   object  sp3  60039     z3  00000504    120.0  False  False  False   \n",
       "680   object  sp3  60039     z3  00000503      5.0  False  False  False   \n",
       "\n",
       "      hgne  xenon  krypton                                               path  \n",
       "0    False  False    False  /home/mejia/Research/UNAM/lvm-drp/lvmdrp/examp...  \n",
       "1    False  False    False  /home/mejia/Research/UNAM/lvm-drp/lvmdrp/examp...  \n",
       "2    False  False    False  /home/mejia/Research/UNAM/lvm-drp/lvmdrp/examp...  \n",
       "3    False  False    False  /home/mejia/Research/UNAM/lvm-drp/lvmdrp/examp...  \n",
       "4    False  False    False  /home/mejia/Research/UNAM/lvm-drp/lvmdrp/examp...  \n",
       "..     ...    ...      ...                                                ...  \n",
       "676  False  False    False  /home/mejia/Research/UNAM/lvm-drp/lvmdrp/examp...  \n",
       "677  False  False    False  /home/mejia/Research/UNAM/lvm-drp/lvmdrp/examp...  \n",
       "678  False  False    False  /home/mejia/Research/UNAM/lvm-drp/lvmdrp/examp...  \n",
       "679  False  False    False  /home/mejia/Research/UNAM/lvm-drp/lvmdrp/examp...  \n",
       "680  False  False    False  /home/mejia/Research/UNAM/lvm-drp/lvmdrp/examp...  \n",
       "\n",
       "[681 rows x 13 columns]"
      ]
     },
     "execution_count": 5,
     "metadata": {},
     "output_type": "execute_result"
    }
   ],
   "source": [
    "# filter frames with continuum emission in the fibers\n",
    "target_frames = frames_table.query(\"(imagetyp=='arc' & ldls & not (argon|neon|xenon|hgne|krypton)) | imagetyp=='object'\")\n",
    "target_frames = target_frames.sort_values(\"camera\").reset_index(drop=True)\n",
    "target_frames"
   ]
  },
  {
   "cell_type": "code",
   "execution_count": 6,
   "id": "68f79599-cb59-4b52-8289-9a0644e83370",
   "metadata": {
    "tags": []
   },
   "outputs": [
    {
     "data": {
      "application/vnd.jupyter.widget-view+json": {
       "model_id": "e91a3688f08b4305a6dba674d0315369",
       "version_major": 2,
       "version_minor": 0
      },
      "text/plain": [
       "MJD:   0%|          | 0/1 [00:00<?, ?mjd/s]"
      ]
     },
     "metadata": {},
     "output_type": "display_data"
    },
    {
     "data": {
      "application/vnd.jupyter.widget-view+json": {
       "model_id": "8d3e7dc58bb144b48ff8a1f9a4981e49",
       "version_major": 2,
       "version_minor": 0
      },
      "text/plain": [
       "camera:   0%|          | 0/6 [00:00<?, ?camera/s]"
      ]
     },
     "metadata": {},
     "output_type": "display_data"
    },
    {
     "data": {
      "application/vnd.jupyter.widget-view+json": {
       "model_id": "b637ec44a2e642b2b41e9c111260b50e",
       "version_major": 2,
       "version_minor": 0
      },
      "text/plain": [
       "frame:   0%|          | 0/28 [00:00<?, ?frame/s]"
      ]
     },
     "metadata": {},
     "output_type": "display_data"
    },
    {
     "data": {
      "application/vnd.jupyter.widget-view+json": {
       "model_id": "3db9fa7af77b4b9781bdd155ece8fbc5",
       "version_major": 2,
       "version_minor": 0
      },
      "text/plain": [
       "frame:   0%|          | 0/28 [00:00<?, ?frame/s]"
      ]
     },
     "metadata": {},
     "output_type": "display_data"
    },
    {
     "data": {
      "application/vnd.jupyter.widget-view+json": {
       "model_id": "f16d09f1763843e2892cf912005400b3",
       "version_major": 2,
       "version_minor": 0
      },
      "text/plain": [
       "frame:   0%|          | 0/28 [00:00<?, ?frame/s]"
      ]
     },
     "metadata": {},
     "output_type": "display_data"
    },
    {
     "data": {
      "application/vnd.jupyter.widget-view+json": {
       "model_id": "f96b7807ddf54d2c87f1866114af3a20",
       "version_major": 2,
       "version_minor": 0
      },
      "text/plain": [
       "frame:   0%|          | 0/28 [00:00<?, ?frame/s]"
      ]
     },
     "metadata": {},
     "output_type": "display_data"
    },
    {
     "data": {
      "application/vnd.jupyter.widget-view+json": {
       "model_id": "477f479dec2744ce89018b62d9cb8998",
       "version_major": 2,
       "version_minor": 0
      },
      "text/plain": [
       "frame:   0%|          | 0/28 [00:00<?, ?frame/s]"
      ]
     },
     "metadata": {},
     "output_type": "display_data"
    },
    {
     "data": {
      "application/vnd.jupyter.widget-view+json": {
       "model_id": "ed675ee76f5d4b4cabf49cb35ffa235a",
       "version_major": 2,
       "version_minor": 0
      },
      "text/plain": [
       "frame:   0%|          | 0/28 [00:00<?, ?frame/s]"
      ]
     },
     "metadata": {},
     "output_type": "display_data"
    }
   ],
   "source": [
    "mjds = [60041]\n",
    "\n",
    "table = pd.DataFrame(columns=[\n",
    "    \"frame\",\n",
    "    \"mjd\",\n",
    "    \"camera\",\n",
    "    \"exposure\",\n",
    "    \"obstime\",\n",
    "    \"exptime\",\n",
    "    \"cnt_med1\",\n",
    "    \"cnt_med2\",\n",
    "    \"cnt_med3\",\n",
    "    \"cnt_med4\",\n",
    "    \"cnt_std1\",\n",
    "    \"cnt_std2\",\n",
    "    \"cnt_std3\",\n",
    "    \"cnt_std4\",\n",
    "    \"cnt_mad1\",\n",
    "    \"cnt_mad2\",\n",
    "    \"cnt_mad3\",\n",
    "    \"cnt_mad4\",\n",
    "    \"cnt_mst1\",\n",
    "    \"cnt_mst2\",\n",
    "    \"cnt_mst3\",\n",
    "    \"cnt_mst4\",\n",
    "    \"rdnoise1\",\n",
    "    \"rdnoise2\",\n",
    "    \"rdnoise3\",\n",
    "    \"rdnoise4\",\n",
    "    \"gain1\",\n",
    "    \"gain2\",\n",
    "    \"gain3\",\n",
    "    \"gain4\",\n",
    "])\n",
    "median_os = []\n",
    "biweight_os = []\n",
    "for mjd in tqdm(mjds, desc=\"MJD\", unit=\"mjd\"):\n",
    "    frame_groups = target_frames.loc[target_frames.mjd==mjd].groupby(\"camera\")\n",
    "\n",
    "    for camera in tqdm(frame_groups.groups, desc=\"camera\", unit=\"camera\"):\n",
    "        frames_camera = frame_groups.get_group(camera).sort_values(\"mjd\")\n",
    "        \n",
    "        for i, frame in tqdm(frames_camera.iterrows(), total=len(frames_camera), desc=\"frame\", unit=\"frame\"):\n",
    "            img = image.loadImage(frame.path)\n",
    "\n",
    "            # extract header metadata\n",
    "            frame_name = img._header[\"FILENAME\"].replace(\".fits.gz\", \"\")\n",
    "            table.loc[i, \"frame\"] = frame_name\n",
    "            table.loc[i, \"mjd\"] = mjd\n",
    "            table.loc[i, \"camera\"] = camera\n",
    "            table.loc[i, \"exposure\"] = img._header[\"EXPOSURE\"]\n",
    "            table.loc[i, \"obstime\"] = img._header[\"OBSTIME\"]\n",
    "            table.loc[i, \"exptime\"] = img._header[\"EXPTIME\"]\n",
    "\n",
    "            # compute statistics & plot quadrant strips\n",
    "            median_quads = []\n",
    "            bi_quads = []\n",
    "            for j in range(4):\n",
    "                quad = img.getSection(imageMethod.DEFAULT_BIASSEC[j])\n",
    "                # quad *= img._header[f\"GAIN{j+1}\"]\n",
    "                table.loc[i, f\"cnt_med{j+1}\"] = np.median(quad._data)\n",
    "                table.loc[i, f\"cnt_std{j+1}\"] = np.std(quad._data)\n",
    "                table.loc[i, f\"cnt_mad{j+1}\"] = mad(quad._data, axis=None)\n",
    "                table.loc[i, f\"cnt_mst{j+1}\"] = np.mean(np.std(quad._data, axis=1))\n",
    "                table.loc[i, f\"rdnoise{j+1}\"] = img._header[f\"RDNOISE{j+1}\"]\n",
    "                table.loc[i, f\"rdnoise{j+1}\"] = img._header[f\"GAIN{j+1}\"]\n",
    "                median_quads.append(np.median(quad._data, axis=1))\n",
    "                bi_quads.append(biweight_location(quad._data, axis=1))\n",
    "                \n",
    "\n",
    "                strip_med = np.median(quad._data, axis=1)\n",
    "                strip_mad = mad(quad._data, axis=1)\n",
    "                strip_pix = np.arange(strip_med.size)\n",
    "            median_os.append(median_quads)\n",
    "            biweight_os.append(bi_quads)\n",
    "\n",
    "# further processing of timeseries\n",
    "table.obstime = pd.to_datetime(table.obstime)\n",
    "table.set_index(\"obstime\", inplace=True)\n",
    "table.sort_index(inplace=True)\n",
    "\n",
    "biweight_os = np.array(biweight_os)\n",
    "median_os = np.array(median_os)\n",
    "os_scale = np.median(median_os, axis=2)"
   ]
  },
  {
   "cell_type": "code",
   "execution_count": 7,
   "id": "eaafbea9-2f10-450f-9576-0fea8adabdd3",
   "metadata": {
    "tags": []
   },
   "outputs": [],
   "source": [
    "plt.switch_backend(\"TkAgg\")\n",
    "camera_groups = table.reset_index().groupby([\"camera\"])\n",
    "groups = camera_groups.groups\n",
    "\n",
    "\n",
    "for cam in groups:\n",
    "    cam_idx = groups[cam]\n",
    "\n",
    "    obstime = camera_groups.get_group(cam).obstime.dt.to_pydatetime()\n",
    "    reftime = obstime.min()\n",
    "\n",
    "    # fig_h, axs_h = plt.subplots(2, 2, figsize=(10,15))\n",
    "    # axs_h = axs_h.flatten()\n",
    "    fig, axs = plt.subplots(2, 2, figsize=(15,5), sharex=True, sharey=True)\n",
    "    axs = axs.flatten()\n",
    "    for iquad in range(4):\n",
    "        x = np.tile(np.arange(biweight_os.shape[2]), cam_idx.size).reshape((cam_idx.size, biweight_os.shape[2]))\n",
    "        y = biweight_os[cam_idx, iquad, :] - os_scale[cam_idx, iquad, None]\n",
    "        z = reftime - np.tile(obstime, biweight_os.shape[2]).reshape(biweight_os.shape[2], cam_idx.size).T\n",
    "        z = np.abs(z.astype(np.timedelta64(1, \"h\")))\n",
    "\n",
    "        sigma = camera_groups.get_group(cam)[f\"rdnoise{iquad+1}\"].iloc[0] / 2.6 / np.sqrt(17)\n",
    "        xgauss = np.linspace(-5*sigma, 5*sigma, 50)\n",
    "        # axs_h[iquad].hist(y.flatten(), bins=10, range=(-5*sigma, 5*sigma), density=True)\n",
    "        # axs_h[iquad].plot(xgauss, np.exp(-0.5*(xgauss/sigma)**2))\n",
    "        # axs_h[iquad].set_xlim(-5*sigma, 5*sigma)\n",
    "        # axs_h[iquad].set_title(f\"quadrant {iquad+1}\")\n",
    "        \n",
    "        sc = axs[iquad].scatter(x, y, c=z, lw=0, s=5, cmap=plt.cm.rainbow)\n",
    "        cb = plt.colorbar(sc)\n",
    "        cb.set_label(f\"hours since\")\n",
    "        \n",
    "        axs[iquad].axhline(np.std(y, axis=None), ls=\"-\", color=\"tab:blue\")\n",
    "        axs[iquad].axhline(camera_groups.get_group(cam)[f\"rdnoise{iquad+1}\"].iloc[0]/np.sqrt(17), ls=\"-\", color=\"tab:red\")\n",
    "        axs[iquad].set_title(f\"quadrant {iquad+1}\", loc=\"left\")\n",
    "        axs[iquad].set_axisbelow(True)\n",
    "        axs[iquad].grid(color=\"0.9\", axis=\"y\")\n",
    "        \n",
    "    axs[iquad].set_ylim(-10, 10)\n",
    "    # fig_h.suptitle(f\"camera = {cam}\")\n",
    "    fig.suptitle(f\"camera = {cam}\")\n",
    "    fig.supxlabel(\"Y (pixel)\")\n",
    "    fig.supylabel(\"counts (ADU)\")\n",
    "    fig.tight_layout()\n",
    "    fig.savefig(f\"biweight_{cam}.png\", bbox_inches=\"tight\")\n",
    "plt.show()"
   ]
  }
 ],
 "metadata": {
  "kernelspec": {
   "display_name": "Python 3 (ipykernel)",
   "language": "python",
   "name": "python3"
  },
  "language_info": {
   "codemirror_mode": {
    "name": "ipython",
    "version": 3
   },
   "file_extension": ".py",
   "mimetype": "text/x-python",
   "name": "python",
   "nbconvert_exporter": "python",
   "pygments_lexer": "ipython3",
   "version": "3.8.16"
  }
 },
 "nbformat": 4,
 "nbformat_minor": 5
}
