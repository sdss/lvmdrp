{
 "cells": [
  {
   "cell_type": "code",
   "execution_count": 1,
   "metadata": {},
   "outputs": [],
   "source": [
    "\n",
    "import os\n",
    "import numpy as np\n",
    "import pandas as pd\n",
    "from copy import deepcopy as copy\n",
    "import matplotlib.pyplot as plt\n",
    "from mpl_toolkits.axes_grid1 import make_axes_locatable\n",
    "from mpl_toolkits.axes_grid1.inset_locator import inset_axes\n",
    "\n",
    "import subprocess\n",
    "import pickle\n",
    "from scipy.stats import describe\n",
    "from tqdm import tqdm\n",
    "\n",
    "from astropy.io import fits\n",
    "\n",
    "from lvmdrp.core import image\n",
    "from lvmdrp.functions import imageMethod, rssMethod\n",
    "\n",
    "import seaborn as sns\n",
    "\n",
    "sns.set(context=\"talk\", style=\"ticks\", palette=\"husl\", color_codes=True)\n",
    "\n",
    "import warnings\n",
    "warnings.filterwarnings(\"ignore\")\n",
    "\n",
    "\n",
    "def read_nist_reference(filename, wl_window):\n",
    "    wli, wlf = wl_window\n",
    "    ref_nist_or = pd.read_csv(\n",
    "        filename, sep=\"\\s+\", comment=\"#\").set_index(\"Wavelength\")\n",
    "    ref_nist_or = ref_nist_or.loc[(\n",
    "        wli <= ref_nist_or.index) & (ref_nist_or.index <= wlf)]\n",
    "\n",
    "    del_wl = np.diff(ref_nist_or.index).min()\n",
    "    new_wl = np.unique(\n",
    "        np.arange(wli, wlf+del_wl, del_wl).tolist()+ref_nist_or.index.to_list())\n",
    "    ref_nist_rs = ref_nist_or.reindex(new_wl)\n",
    "\n",
    "    return ref_nist_or, ref_nist_rs\n"
   ]
  },
  {
   "cell_type": "code",
   "execution_count": 2,
   "metadata": {},
   "outputs": [
    {
     "name": "stdout",
     "output_type": "stream",
     "text": [
      "frames matched in lab data path: 213\n"
     ]
    }
   ],
   "source": [
    "# data root path\n",
    "LVM_DEV = os.path.expandvars(\"$LVMHUB\")\n",
    "LVM_ROOT = os.path.join(LVM_DEV, \"data.sdss5.org/sas/sdsswork/data/lvm\")\n",
    "LVM_DATA_LAB = os.path.join(LVM_ROOT, \"lab\", \"59898\")\n",
    "\n",
    "# Spec 3 6.2: arcs 6413 - 6772\n",
    "# Spec 3 6.2: flats 6775 - 6845\n",
    "cont_idxs = np.arange(6775, 6845+1, 1, dtype=int)\n",
    "\n",
    "frame_paths = sorted([os.path.join(root,file) for root, _, files in os.walk(LVM_DATA_LAB) for file in files if file.endswith(\".fits.gz\") and int(file.replace(\".fits.gz\", \"\").split(\"-\")[-1]) in cont_idxs])\n",
    "print(f\"frames matched in lab data path: {len(frame_paths)}\")\n"
   ]
  },
  {
   "cell_type": "code",
   "execution_count": 3,
   "metadata": {},
   "outputs": [
    {
     "name": "stderr",
     "output_type": "stream",
     "text": [
      "processing continuum frames: 100%|##########| 213/213 [3:24:54<00:00, 57.72s/frame]    \n"
     ]
    }
   ],
   "source": [
    "fiberflat_path = \"_data-lvm/fiberflats-spec3\"\n",
    "if not os.path.isdir(fiberflat_path):\n",
    "    os.makedirs(fiberflat_path, exist_ok=True)\n",
    "\n",
    "ccds = [\"b3\", \"r3\", \"z3\"]\n",
    "\n",
    "cont_paths = list(reversed(frame_paths))\n",
    "\n",
    "for cont_path in tqdm(cont_paths, total=len(cont_paths), desc=\"processing continuum frames\", ascii=True, unit=\"frame\"):\n",
    "\n",
    "    hdr = fits.getheader(cont_path)\n",
    "    if hdr[\"IMAGETYP\"] != \"object\": continue\n",
    "\n",
    "    cont_name = os.path.basename(cont_path).replace(\".fits.gz\", \"\")\n",
    "\n",
    "    if os.path.isfile(f\"{fiberflat_path}/{cont_name}.ms.fits\"): continue\n",
    "\n",
    "    try:    \n",
    "        imageMethod.preprocRawFrame_drp(\n",
    "            in_image=cont_path,\n",
    "            out_image=f\"{fiberflat_path}/{cont_name}.pre.fits\",\n",
    "            boundary_x=\"1,2040\",\n",
    "            boundary_y=\"1,2040\",\n",
    "            positions=\"00,10,01,11\",\n",
    "            orientation=\"S,S,S,S\"\n",
    "        )\n",
    "\n",
    "        # imageMethod.LACosmic_drp(\n",
    "        #     image=f\"{fiberflat_path}/{cont_name}.pre.fits\",\n",
    "        #     out_image=f\"{fiberflat_path}/{cont_name}.cosmic.fits\",\n",
    "        #     increase_radius=1, flim=\"1.3\", parallel='5'\n",
    "        # )\n",
    "\n",
    "        imageMethod.findPeaksAuto_drp(\n",
    "            image=f\"{fiberflat_path}/{cont_name}.pre.fits\",\n",
    "            out_peaks_file=f\"{fiberflat_path}/{cont_name}.trace.peaks\",\n",
    "            disp_axis=\"X\", threshold=\"5000\", slice=\"3696\", nfibers=\"41\", median_box=\"1\", median_cross=\"1\", method=\"hyperbolic\", init_sigma=\"0.5\", verbose=0\n",
    "        )\n",
    "\n",
    "        imageMethod.tracePeaks_drp(\n",
    "            image=f\"{fiberflat_path}/{cont_name}.pre.fits\",\n",
    "            peaks_file=f\"{fiberflat_path}/{cont_name}.trace.peaks\", trace_out=f\"{fiberflat_path}/{cont_name}.trc.fits\",\n",
    "            steps=30, method=\"hyperbolic\", threshold_peak=50, poly_disp=5, coadd=30, verbose=0\n",
    "        )\n",
    "\n",
    "        imageMethod.subtractStraylight_drp(\n",
    "            image=f\"{fiberflat_path}/{cont_name}.pre.fits\",\n",
    "            trace=f\"{fiberflat_path}/{cont_name}.trc.fits\",\n",
    "            stray_image=f\"{fiberflat_path}/{cont_name}.back.fits\",\n",
    "            clean_image=f\"{fiberflat_path}/{cont_name}.stray.fits\",\n",
    "            aperture=40, poly_cross=2, smooth_gauss=30\n",
    "        )\n",
    "\n",
    "        imageMethod.traceFWHM_drp(\n",
    "            image=f\"{fiberflat_path}/{cont_name}.stray.fits\",\n",
    "            trace=f\"{fiberflat_path}/{cont_name}.trc.fits\",\n",
    "            fwhm_out=f\"{fiberflat_path}/{cont_name}.fwhm.fits\",\n",
    "            blocks=32, steps=30, coadd=20, threshold_flux=50.0, poly_disp=5, clip=\"1.5,4.0\"\n",
    "        )\n",
    "\n",
    "        imageMethod.extractSpec_drp(\n",
    "            image=f\"{fiberflat_path}/{cont_name}.stray.fits\",\n",
    "            trace=f\"{fiberflat_path}/{cont_name}.trc.fits\",\n",
    "            out_rss=f\"{fiberflat_path}/{cont_name}.ms.fits\",\n",
    "            fwhm=f\"{fiberflat_path}/{cont_name}.fwhm.fits\",\n",
    "            parallel=5, method=\"optimal\"\n",
    "        )\n",
    "    except:\n",
    "        continue"
   ]
  }
 ],
 "metadata": {
  "kernelspec": {
   "display_name": "Python 3.8.12 ('lvmdrp')",
   "language": "python",
   "name": "python3"
  },
  "language_info": {
   "codemirror_mode": {
    "name": "ipython",
    "version": 3
   },
   "file_extension": ".py",
   "mimetype": "text/x-python",
   "name": "python",
   "nbconvert_exporter": "python",
   "pygments_lexer": "ipython3",
   "version": "3.8.12"
  },
  "orig_nbformat": 4,
  "vscode": {
   "interpreter": {
    "hash": "75b7dc73e2cd5987d39e44d45f1d2594b18b07dc05e2cece7d250df00c95241b"
   }
  }
 },
 "nbformat": 4,
 "nbformat_minor": 2
}
