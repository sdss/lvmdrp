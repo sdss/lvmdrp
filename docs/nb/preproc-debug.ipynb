{
 "cells": [
  {
   "cell_type": "code",
   "execution_count": 1,
   "id": "838a0a43-5028-46a1-8716-765f6f359616",
   "metadata": {},
   "outputs": [],
   "source": [
    "import os\n",
    "\n",
    "import numpy as np\n",
    "import matplotlib.pyplot as plt\n",
    "from astropy.io import fits\n",
    "\n",
    "from lvmdrp.scripts import preproc\n",
    "\n",
    "OBS_NAME = \"dummy-desi-obs.fits.gz\"\n",
    "\n",
    "# SPEC_CONFIG_PATH = os.path.join(os.environ[\"DESI_SPECTRO_CALIB\"], \"spec/sp0\")\n",
    "\n",
    "# from distutils.dir_util import copy_tree\n",
    "\n",
    "# copy_tree(\"/disk-a/mejia/Research/UNAM/lvm-drp/lvmdrp/desihub/desispec/py/desispec/test/data/ql\", SPEC_CONFIG_PATH)"
   ]
  },
  {
   "cell_type": "code",
   "execution_count": 2,
   "id": "62829979-1bb4-4858-8611-ca5c7b99bb10",
   "metadata": {},
   "outputs": [],
   "source": [
    "# write routine to keep track of changes in a FITS file (log file), store per night\n",
    "# write yaml file to configure cards to be added"
   ]
  },
  {
   "cell_type": "code",
   "execution_count": 3,
   "id": "47789060-ac23-4aa2-8b00-755222c78cfa",
   "metadata": {},
   "outputs": [
    {
     "name": "stdout",
     "output_type": "stream",
     "text": [
      "WARNING:preproc.py:147:main: --outdir not specified; using /disk-a/mejia/Research/UNAM/lvm-drp/lvmdrp/docs/nb\n",
      "INFO:preproc.py:204:main: Not using multiprocessing for 1 cameras\n",
      "INFO:raw.py:84:read_raw: will add header keywords from hdus [0]\n",
      "ERROR:calibfinder.py:294:__init__: Didn't find matching calibration data in /disk-a/mejia/Research/UNAM/lvm-drp/data/data.sdss5.org/sas/sdsswork/data/lvm/lco/test/spec/sp0/z0.yaml\n"
     ]
    },
    {
     "ename": "KeyError",
     "evalue": "\"Didn't find matching calibration data in /disk-a/mejia/Research/UNAM/lvm-drp/data/data.sdss5.org/sas/sdsswork/data/lvm/lco/test/spec/sp0/z0.yaml\"",
     "output_type": "error",
     "traceback": [
      "\u001b[1;31m---------------------------------------------------------------------------\u001b[0m",
      "\u001b[1;31mKeyError\u001b[0m                                  Traceback (most recent call last)",
      "\u001b[1;32m<ipython-input-3-d00405129cda>\u001b[0m in \u001b[0;36m<module>\u001b[1;34m\u001b[0m\n\u001b[0;32m      1\u001b[0m \u001b[0mcmdline\u001b[0m \u001b[1;33m=\u001b[0m \u001b[1;34mf\"--infile {OBS_NAME} --cameras z0 --ncpu 1 --nobias --nodark --nopixflat\"\u001b[0m\u001b[1;33m.\u001b[0m\u001b[0msplit\u001b[0m\u001b[1;33m(\u001b[0m\u001b[1;33m)\u001b[0m\u001b[1;33m\u001b[0m\u001b[1;33m\u001b[0m\u001b[0m\n\u001b[0;32m      2\u001b[0m \u001b[1;33m\u001b[0m\u001b[0m\n\u001b[1;32m----> 3\u001b[1;33m \u001b[0mpreproc\u001b[0m\u001b[1;33m.\u001b[0m\u001b[0mmain\u001b[0m\u001b[1;33m(\u001b[0m\u001b[0mcmdline\u001b[0m\u001b[1;33m)\u001b[0m\u001b[1;33m\u001b[0m\u001b[1;33m\u001b[0m\u001b[0m\n\u001b[0m",
      "\u001b[1;32m/disk-a/mejia/Research/UNAM/lvm-drp/lvmdrp/python/lvmdrp/scripts/preproc.py\u001b[0m in \u001b[0;36mmain\u001b[1;34m(args)\u001b[0m\n\u001b[0;32m    205\u001b[0m         \u001b[0mnum_failed\u001b[0m \u001b[1;33m=\u001b[0m \u001b[1;36m0\u001b[0m\u001b[1;33m\u001b[0m\u001b[1;33m\u001b[0m\u001b[0m\n\u001b[0;32m    206\u001b[0m         \u001b[1;32mfor\u001b[0m \u001b[0mopts\u001b[0m \u001b[1;32min\u001b[0m \u001b[0mopts_array\u001b[0m\u001b[1;33m:\u001b[0m\u001b[1;33m\u001b[0m\u001b[1;33m\u001b[0m\u001b[0m\n\u001b[1;32m--> 207\u001b[1;33m             \u001b[0mnum_failed\u001b[0m \u001b[1;33m+=\u001b[0m \u001b[0m_preproc_file_kwargs_wrapper\u001b[0m\u001b[1;33m(\u001b[0m\u001b[0mopts\u001b[0m\u001b[1;33m)\u001b[0m\u001b[1;33m\u001b[0m\u001b[1;33m\u001b[0m\u001b[0m\n\u001b[0m\u001b[0;32m    208\u001b[0m \u001b[1;33m\u001b[0m\u001b[0m\n\u001b[0;32m    209\u001b[0m     \u001b[1;32mif\u001b[0m \u001b[0mnum_failed\u001b[0m \u001b[1;33m>\u001b[0m \u001b[1;36m0\u001b[0m\u001b[1;33m:\u001b[0m\u001b[1;33m\u001b[0m\u001b[1;33m\u001b[0m\u001b[0m\n",
      "\u001b[1;32m/disk-a/mejia/Research/UNAM/lvm-drp/lvmdrp/python/lvmdrp/scripts/preproc.py\u001b[0m in \u001b[0;36m_preproc_file_kwargs_wrapper\u001b[1;34m(opts)\u001b[0m\n\u001b[0;32m    219\u001b[0m     \u001b[0mused\u001b[0m \u001b[1;32mwith\u001b[0m \u001b[0mmultiprocessing\u001b[0m\u001b[1;33m.\u001b[0m\u001b[0mPool\u001b[0m\u001b[1;33m.\u001b[0m\u001b[0mmap\u001b[0m\u001b[1;33m\u001b[0m\u001b[1;33m\u001b[0m\u001b[0m\n\u001b[0;32m    220\u001b[0m     \"\"\"\n\u001b[1;32m--> 221\u001b[1;33m     \u001b[1;32mreturn\u001b[0m \u001b[0mpreproc_file\u001b[0m\u001b[1;33m(\u001b[0m\u001b[1;33m**\u001b[0m\u001b[0mopts\u001b[0m\u001b[1;33m)\u001b[0m\u001b[1;33m\u001b[0m\u001b[1;33m\u001b[0m\u001b[0m\n\u001b[0m\u001b[0;32m    222\u001b[0m \u001b[1;33m\u001b[0m\u001b[0m\n\u001b[0;32m    223\u001b[0m def preproc_file(infile, camera, outfile=None, outdir=None, fibermap=None,\n",
      "\u001b[1;32m/disk-a/mejia/Research/UNAM/lvm-drp/lvmdrp/python/lvmdrp/scripts/preproc.py\u001b[0m in \u001b[0;36mpreproc_file\u001b[1;34m(infile, camera, outfile, outdir, fibermap, zero_masked, **preproc_opts)\u001b[0m\n\u001b[0;32m    244\u001b[0m     \"\"\"\n\u001b[0;32m    245\u001b[0m     \u001b[1;32mtry\u001b[0m\u001b[1;33m:\u001b[0m\u001b[1;33m\u001b[0m\u001b[1;33m\u001b[0m\u001b[0m\n\u001b[1;32m--> 246\u001b[1;33m         img = io.read_raw(infile, camera,\n\u001b[0m\u001b[0;32m    247\u001b[0m                           \u001b[0mfibermapfile\u001b[0m\u001b[1;33m=\u001b[0m\u001b[0mfibermap\u001b[0m\u001b[1;33m,\u001b[0m\u001b[1;33m\u001b[0m\u001b[1;33m\u001b[0m\u001b[0m\n\u001b[0;32m    248\u001b[0m                           **preproc_opts)\n",
      "\u001b[1;32m~/.local/bin/miniconda3/envs/lvmdrp/lib/python3.8/site-packages/desispec/io/raw.py\u001b[0m in \u001b[0;36mread_raw\u001b[1;34m(filename, camera, fibermapfile, **kwargs)\u001b[0m\n\u001b[0;32m    104\u001b[0m     \u001b[0mfx\u001b[0m\u001b[1;33m.\u001b[0m\u001b[0mclose\u001b[0m\u001b[1;33m(\u001b[0m\u001b[1;33m)\u001b[0m\u001b[1;33m\u001b[0m\u001b[1;33m\u001b[0m\u001b[0m\n\u001b[0;32m    105\u001b[0m \u001b[1;33m\u001b[0m\u001b[0m\n\u001b[1;32m--> 106\u001b[1;33m     \u001b[0mimg\u001b[0m \u001b[1;33m=\u001b[0m \u001b[0mdesispec\u001b[0m\u001b[1;33m.\u001b[0m\u001b[0mpreproc\u001b[0m\u001b[1;33m.\u001b[0m\u001b[0mpreproc\u001b[0m\u001b[1;33m(\u001b[0m\u001b[0mrawimage\u001b[0m\u001b[1;33m,\u001b[0m \u001b[0mheader\u001b[0m\u001b[1;33m,\u001b[0m \u001b[0mprimary_header\u001b[0m\u001b[1;33m,\u001b[0m \u001b[1;33m**\u001b[0m\u001b[0mkwargs\u001b[0m\u001b[1;33m)\u001b[0m\u001b[1;33m\u001b[0m\u001b[1;33m\u001b[0m\u001b[0m\n\u001b[0m\u001b[0;32m    107\u001b[0m \u001b[1;33m\u001b[0m\u001b[0m\n\u001b[0;32m    108\u001b[0m     \u001b[1;32mif\u001b[0m \u001b[0mfibermapfile\u001b[0m \u001b[1;32mis\u001b[0m \u001b[1;32mnot\u001b[0m \u001b[1;32mNone\u001b[0m \u001b[1;32mand\u001b[0m \u001b[0mos\u001b[0m\u001b[1;33m.\u001b[0m\u001b[0mpath\u001b[0m\u001b[1;33m.\u001b[0m\u001b[0mexists\u001b[0m\u001b[1;33m(\u001b[0m\u001b[0mfibermapfile\u001b[0m\u001b[1;33m)\u001b[0m\u001b[1;33m:\u001b[0m\u001b[1;33m\u001b[0m\u001b[1;33m\u001b[0m\u001b[0m\n",
      "\u001b[1;32m~/.local/bin/miniconda3/envs/lvmdrp/lib/python3.8/site-packages/desispec/preproc.py\u001b[0m in \u001b[0;36mpreproc\u001b[1;34m(rawimage, header, primary_header, bias, dark, pixflat, mask, bkgsub, nocosmic, cosmics_nsig, cosmics_cfudge, cosmics_c2fudge, ccd_calibration_filename, nocrosstalk, nogain, overscan_per_row, use_overscan_row, use_savgol, nodarktrail, remove_scattered_light, psf_filename, bias_img, model_variance)\u001b[0m\n\u001b[0;32m    442\u001b[0m \u001b[1;33m\u001b[0m\u001b[0m\n\u001b[0;32m    443\u001b[0m     \u001b[1;32mif\u001b[0m \u001b[0mccd_calibration_filename\u001b[0m \u001b[1;32mis\u001b[0m \u001b[1;32mnot\u001b[0m \u001b[1;32mFalse\u001b[0m\u001b[1;33m:\u001b[0m\u001b[1;33m\u001b[0m\u001b[1;33m\u001b[0m\u001b[0m\n\u001b[1;32m--> 444\u001b[1;33m         \u001b[0mcfinder\u001b[0m \u001b[1;33m=\u001b[0m \u001b[0mCalibFinder\u001b[0m\u001b[1;33m(\u001b[0m\u001b[1;33m[\u001b[0m\u001b[0mheader\u001b[0m\u001b[1;33m,\u001b[0m \u001b[0mprimary_header\u001b[0m\u001b[1;33m]\u001b[0m\u001b[1;33m,\u001b[0m \u001b[0myaml_file\u001b[0m\u001b[1;33m=\u001b[0m\u001b[0mccd_calibration_filename\u001b[0m\u001b[1;33m)\u001b[0m\u001b[1;33m\u001b[0m\u001b[1;33m\u001b[0m\u001b[0m\n\u001b[0m\u001b[0;32m    445\u001b[0m \u001b[1;33m\u001b[0m\u001b[0m\n\u001b[0;32m    446\u001b[0m     \u001b[1;31m#- TODO: Check for required keywords first\u001b[0m\u001b[1;33m\u001b[0m\u001b[1;33m\u001b[0m\u001b[1;33m\u001b[0m\u001b[0m\n",
      "\u001b[1;32m~/.local/bin/miniconda3/envs/lvmdrp/lib/python3.8/site-packages/desispec/calibfinder.py\u001b[0m in \u001b[0;36m__init__\u001b[1;34m(self, headers, yaml_file)\u001b[0m\n\u001b[0;32m    293\u001b[0m         \u001b[1;32mif\u001b[0m \u001b[1;32mnot\u001b[0m \u001b[0mfound\u001b[0m \u001b[1;33m:\u001b[0m\u001b[1;33m\u001b[0m\u001b[1;33m\u001b[0m\u001b[0m\n\u001b[0;32m    294\u001b[0m             \u001b[0mlog\u001b[0m\u001b[1;33m.\u001b[0m\u001b[0merror\u001b[0m\u001b[1;33m(\u001b[0m\u001b[1;34m\"Didn't find matching calibration data in %s\"\u001b[0m\u001b[1;33m%\u001b[0m\u001b[1;33m(\u001b[0m\u001b[0myaml_file\u001b[0m\u001b[1;33m)\u001b[0m\u001b[1;33m)\u001b[0m\u001b[1;33m\u001b[0m\u001b[1;33m\u001b[0m\u001b[0m\n\u001b[1;32m--> 295\u001b[1;33m             \u001b[1;32mraise\u001b[0m \u001b[0mKeyError\u001b[0m\u001b[1;33m(\u001b[0m\u001b[1;34m\"Didn't find matching calibration data in %s\"\u001b[0m\u001b[1;33m%\u001b[0m\u001b[1;33m(\u001b[0m\u001b[0myaml_file\u001b[0m\u001b[1;33m)\u001b[0m\u001b[1;33m)\u001b[0m\u001b[1;33m\u001b[0m\u001b[1;33m\u001b[0m\u001b[0m\n\u001b[0m\u001b[0;32m    296\u001b[0m \u001b[1;33m\u001b[0m\u001b[0m\n\u001b[0;32m    297\u001b[0m \u001b[1;33m\u001b[0m\u001b[0m\n",
      "\u001b[1;31mKeyError\u001b[0m: \"Didn't find matching calibration data in /disk-a/mejia/Research/UNAM/lvm-drp/data/data.sdss5.org/sas/sdsswork/data/lvm/lco/test/spec/sp0/z0.yaml\""
     ]
    }
   ],
   "source": [
    "cmdline = f\"--infile {OBS_NAME} --cameras z0 --ncpu 1 --nobias --nodark --nopixflat\".split()\n",
    "\n",
    "preproc.main(cmdline)"
   ]
  }
 ],
 "metadata": {
  "kernelspec": {
   "display_name": "Python 3",
   "language": "python",
   "name": "python3"
  },
  "language_info": {
   "codemirror_mode": {
    "name": "ipython",
    "version": 3
   },
   "file_extension": ".py",
   "mimetype": "text/x-python",
   "name": "python",
   "nbconvert_exporter": "python",
   "pygments_lexer": "ipython3",
   "version": "3.8.8"
  },
  "widgets": {
   "application/vnd.jupyter.widget-state+json": {
    "state": {},
    "version_major": 2,
    "version_minor": 0
   }
  }
 },
 "nbformat": 4,
 "nbformat_minor": 5
}
