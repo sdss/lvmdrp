{
 "cells": [
  {
   "cell_type": "code",
   "execution_count": 1,
   "id": "d689cd6a-fd77-4121-8116-2df86dd32bef",
   "metadata": {},
   "outputs": [],
   "source": [
    "import os\n",
    "\n",
    "import numpy as np\n",
    "import matplotlib.pyplot as plt\n",
    "from astropy.io import fits\n",
    "\n",
    "from lvmdrp.scripts import preproc\n",
    "\n",
    "\n",
    "OBS_NAME = \"dummy-lvm-obs.fits.gz\"\n",
    "\n",
    "import re\n",
    "\n",
    "\n",
    "type2fmt = {\n",
    "    \"bool\": \"L\",\n",
    "    \"binary\": \"L\",\n",
    "    \"logical\": \"L\",\n",
    "    \"byte\": \"X\",\n",
    "    \"char\": \"A\",\n",
    "    \"int16\": \"I\",\n",
    "    \"int32\": \"J\",\n",
    "    \"int64\": \"K\",\n",
    "    \"float32\": \"E\",\n",
    "    \"float64\": \"D\"\n",
    "}\n",
    "type2dmy = dict(zip(type2fmt.keys(),[True, True, True, 0, \"x\", -9999, -9999, -9999, -9999.9, -9999.9]))\n",
    "\n",
    "pattern = re.compile(r\"\\[(\\d+)\\]\")"
   ]
  },
  {
   "cell_type": "code",
   "execution_count": 2,
   "id": "d2071694-237e-42ef-9da7-bfc7251fd7bc",
   "metadata": {},
   "outputs": [],
   "source": [
    "import pandas as pd\n",
    "\n",
    "\n",
    "raw_data_url = \"_dummy_data/Header_ metadata model from the LVM lab data - LVM - SDSS.html\"\n",
    "\n",
    "desimodel_raw_tables = []\n",
    "for table in pd.read_html(raw_data_url):\n",
    "    clean_table = table.fillna(-9999)\n",
    "    clean_table = clean_table.applymap(lambda s: s.replace(\"’\",\"\").replace(\"‘\",\"\").replace(\"…\",\"\") if type(s)==str else s)\n",
    "    clean_table = clean_table.applymap(lambda s: pd.to_numeric(s, errors=\"ignore\", downcast=\"integer\"))\n",
    "    desimodel_raw_tables.append(clean_table)\n",
    "\n",
    "clean_table.columns = clean_table.loc[0]\n",
    "clean_table = clean_table.drop(labels=0).rename(columns={\"Value(Examples)\":\"Example Value\", \"Information\":\"Comment\", \"Comment\":\"Type\"})"
   ]
  },
  {
   "cell_type": "code",
   "execution_count": 3,
   "id": "ddb59d32-dc70-471b-95b3-45aea0e599b5",
   "metadata": {},
   "outputs": [
    {
     "name": "stdout",
     "output_type": "stream",
     "text": [
      "Filename: (No file associated with this HDUList)\n",
      "No.    Name      Ver    Type      Cards   Dimensions   Format\n",
      "  0  PRIMARY       1 PrimaryHDU      39   ()      \n"
     ]
    }
   ],
   "source": [
    "# generate dummy observations\n",
    "\n",
    "import itertools as it\n",
    "\n",
    "dummy = fits.HDUList()\n",
    "\n",
    "hdu = fits.PrimaryHDU(header=fits.Header(cards=map(tuple, clean_table.drop(columns=\"Type\").values.tolist())))\n",
    "\n",
    "dummy.append(hdu)\n",
    "dummy.writeto(os.path.join(\"_dummy_data/\",OBS_NAME), overwrite=True)\n",
    "dummy.info()"
   ]
  }
 ],
 "metadata": {
  "kernelspec": {
   "display_name": "Python 3",
   "language": "python",
   "name": "python3"
  },
  "language_info": {
   "codemirror_mode": {
    "name": "ipython",
    "version": 3
   },
   "file_extension": ".py",
   "mimetype": "text/x-python",
   "name": "python",
   "nbconvert_exporter": "python",
   "pygments_lexer": "ipython3",
   "version": "3.8.8"
  },
  "widgets": {
   "application/vnd.jupyter.widget-state+json": {
    "state": {},
    "version_major": 2,
    "version_minor": 0
   }
  }
 },
 "nbformat": 4,
 "nbformat_minor": 5
}
