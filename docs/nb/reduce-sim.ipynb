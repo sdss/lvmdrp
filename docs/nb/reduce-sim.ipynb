{
 "cells": [
  {
   "cell_type": "code",
   "execution_count": 1,
   "metadata": {},
   "outputs": [],
   "source": [
    "import os\n",
    "import numpy as np\n",
    "\n",
    "import matplotlib.pyplot as plt\n",
    "\n",
    "from lvmdrp.functions import imageMethod, rssMethod"
   ]
  },
  {
   "cell_type": "code",
   "execution_count": 2,
   "metadata": {},
   "outputs": [],
   "source": [
    "# define path to calibration frames:\n",
    "data_path = \"_data-lvm\"\n",
    "CHANNEL = \"z1\"\n",
    "cont_name = f\"sdR-s-{CHANNEL}-00001614\"\n",
    "arc_name = f\"sdR-s-{CHANNEL}-00001563\"\n",
    "# continuum frame\n",
    "# bias\n",
    "# dark\n",
    "# flat\n",
    "# fiberflat\n",
    "# target frame\n",
    "sim_path = \"_sim\"\n",
    "sim_name = \"LVM_Field_large_linear_full_9000_realization_2d\"\n",
    "cal_name = \"LVM_Field_large_linear_full_9000_realization_rss\"\n",
    "\n",
    "\n",
    "# wavelength range\n",
    "CHANNEL_WL = {\"b1\": (3600, 5930), \"r1\": (5660, 7720), \"z1\": (7470, 9800)}\n",
    "wli, wlf = CHANNEL_WL[\"z1\"]"
   ]
  },
  {
   "cell_type": "code",
   "execution_count": 3,
   "metadata": {},
   "outputs": [
    {
     "name": "stdout",
     "output_type": "stream",
     "text": [
      "LACosmic_drp: 1\n",
      "subtractStraylight_drp: 1\n"
     ]
    },
    {
     "name": "stderr",
     "output_type": "stream",
     "text": [
      "/home/mejia/.local/bin/miniconda3/envs/lvmdrp/lib/python3.8/site-packages/numpy/core/fromnumeric.py:3440: RuntimeWarning: Mean of empty slice.\n",
      "  return _methods._mean(a, axis=axis, dtype=dtype,\n",
      "/home/mejia/.local/bin/miniconda3/envs/lvmdrp/lib/python3.8/site-packages/numpy/core/_methods.py:189: RuntimeWarning: invalid value encountered in double_scalars\n",
      "  ret = ret.dtype.type(ret / rcount)\n"
     ]
    },
    {
     "ename": "ValueError",
     "evalue": "Floating point nan values are not allowed in FITS headers.",
     "output_type": "error",
     "traceback": [
      "\u001b[1;31m---------------------------------------------------------------------------\u001b[0m",
      "\u001b[1;31mValueError\u001b[0m                                Traceback (most recent call last)",
      "\u001b[1;32m/disk-a/mejia/Research/UNAM/lvm-drp/lvmdrp/docs/nb/reduce-sim.ipynb Cell 4'\u001b[0m in \u001b[0;36m<cell line: 15>\u001b[1;34m()\u001b[0m\n\u001b[0;32m      <a href='vscode-notebook-cell:/disk-a/mejia/Research/UNAM/lvm-drp/lvmdrp/docs/nb/reduce-sim.ipynb#ch0000003?line=6'>7</a>\u001b[0m _, flags \u001b[39m=\u001b[39m imageMethod\u001b[39m.\u001b[39msubtractStraylight_drp(\n\u001b[0;32m      <a href='vscode-notebook-cell:/disk-a/mejia/Research/UNAM/lvm-drp/lvmdrp/docs/nb/reduce-sim.ipynb#ch0000003?line=7'>8</a>\u001b[0m     image\u001b[39m=\u001b[39m\u001b[39mf\u001b[39m\u001b[39m\"\u001b[39m\u001b[39m{\u001b[39;00msim_path\u001b[39m}\u001b[39;00m\u001b[39m/\u001b[39m\u001b[39m{\u001b[39;00msim_name\u001b[39m}\u001b[39;00m\u001b[39m.cosmic.fits\u001b[39m\u001b[39m\"\u001b[39m,\n\u001b[0;32m      <a href='vscode-notebook-cell:/disk-a/mejia/Research/UNAM/lvm-drp/lvmdrp/docs/nb/reduce-sim.ipynb#ch0000003?line=8'>9</a>\u001b[0m     trace\u001b[39m=\u001b[39m\u001b[39mf\u001b[39m\u001b[39m\"\u001b[39m\u001b[39m{\u001b[39;00msim_path\u001b[39m}\u001b[39;00m\u001b[39m/\u001b[39m\u001b[39m{\u001b[39;00mcal_name\u001b[39m}\u001b[39;00m\u001b[39m.trc.fits\u001b[39m\u001b[39m\"\u001b[39m,\n\u001b[1;32m   (...)\u001b[0m\n\u001b[0;32m     <a href='vscode-notebook-cell:/disk-a/mejia/Research/UNAM/lvm-drp/lvmdrp/docs/nb/reduce-sim.ipynb#ch0000003?line=11'>12</a>\u001b[0m     aperture\u001b[39m=\u001b[39m\u001b[39m40\u001b[39m, poly_cross\u001b[39m=\u001b[39m\u001b[39m2\u001b[39m, smooth_gauss\u001b[39m=\u001b[39m\u001b[39m30\u001b[39m\n\u001b[0;32m     <a href='vscode-notebook-cell:/disk-a/mejia/Research/UNAM/lvm-drp/lvmdrp/docs/nb/reduce-sim.ipynb#ch0000003?line=12'>13</a>\u001b[0m )\n\u001b[0;32m     <a href='vscode-notebook-cell:/disk-a/mejia/Research/UNAM/lvm-drp/lvmdrp/docs/nb/reduce-sim.ipynb#ch0000003?line=13'>14</a>\u001b[0m \u001b[39mprint\u001b[39m(\u001b[39mf\u001b[39m\u001b[39m\"\u001b[39m\u001b[39msubtractStraylight_drp: \u001b[39m\u001b[39m{\u001b[39;00mflags\u001b[39m}\u001b[39;00m\u001b[39m\"\u001b[39m)\n\u001b[1;32m---> <a href='vscode-notebook-cell:/disk-a/mejia/Research/UNAM/lvm-drp/lvmdrp/docs/nb/reduce-sim.ipynb#ch0000003?line=14'>15</a>\u001b[0m _, flags \u001b[39m=\u001b[39m imageMethod\u001b[39m.\u001b[39;49mextractSpec_drp(\n\u001b[0;32m     <a href='vscode-notebook-cell:/disk-a/mejia/Research/UNAM/lvm-drp/lvmdrp/docs/nb/reduce-sim.ipynb#ch0000003?line=15'>16</a>\u001b[0m     image\u001b[39m=\u001b[39;49m\u001b[39mf\u001b[39;49m\u001b[39m\"\u001b[39;49m\u001b[39m{\u001b[39;49;00msim_path\u001b[39m}\u001b[39;49;00m\u001b[39m/\u001b[39;49m\u001b[39m{\u001b[39;49;00msim_name\u001b[39m}\u001b[39;49;00m\u001b[39m.stray.fits\u001b[39;49m\u001b[39m\"\u001b[39;49m,\n\u001b[0;32m     <a href='vscode-notebook-cell:/disk-a/mejia/Research/UNAM/lvm-drp/lvmdrp/docs/nb/reduce-sim.ipynb#ch0000003?line=16'>17</a>\u001b[0m     trace\u001b[39m=\u001b[39;49m\u001b[39mf\u001b[39;49m\u001b[39m\"\u001b[39;49m\u001b[39m{\u001b[39;49;00msim_path\u001b[39m}\u001b[39;49;00m\u001b[39m/\u001b[39;49m\u001b[39m{\u001b[39;49;00mcal_name\u001b[39m}\u001b[39;49;00m\u001b[39m.trc.fits\u001b[39;49m\u001b[39m\"\u001b[39;49m,\n\u001b[0;32m     <a href='vscode-notebook-cell:/disk-a/mejia/Research/UNAM/lvm-drp/lvmdrp/docs/nb/reduce-sim.ipynb#ch0000003?line=17'>18</a>\u001b[0m     out_rss\u001b[39m=\u001b[39;49m\u001b[39mf\u001b[39;49m\u001b[39m\"\u001b[39;49m\u001b[39m{\u001b[39;49;00msim_path\u001b[39m}\u001b[39;49;00m\u001b[39m/\u001b[39;49m\u001b[39m{\u001b[39;49;00msim_name\u001b[39m}\u001b[39;49;00m\u001b[39m.ms.fits\u001b[39;49m\u001b[39m\"\u001b[39;49m,\n\u001b[0;32m     <a href='vscode-notebook-cell:/disk-a/mejia/Research/UNAM/lvm-drp/lvmdrp/docs/nb/reduce-sim.ipynb#ch0000003?line=18'>19</a>\u001b[0m     fwhm\u001b[39m=\u001b[39;49m\u001b[39mf\u001b[39;49m\u001b[39m\"\u001b[39;49m\u001b[39m{\u001b[39;49;00msim_path\u001b[39m}\u001b[39;49;00m\u001b[39m/\u001b[39;49m\u001b[39m{\u001b[39;49;00mcal_name\u001b[39m}\u001b[39;49;00m\u001b[39m.fwhm.fits\u001b[39;49m\u001b[39m\"\u001b[39;49m,\n\u001b[0;32m     <a href='vscode-notebook-cell:/disk-a/mejia/Research/UNAM/lvm-drp/lvmdrp/docs/nb/reduce-sim.ipynb#ch0000003?line=19'>20</a>\u001b[0m     method\u001b[39m=\u001b[39;49m\u001b[39m\"\u001b[39;49m\u001b[39moptimal\u001b[39;49m\u001b[39m\"\u001b[39;49m, parallel\u001b[39m=\u001b[39;49m\u001b[39m\"\u001b[39;49m\u001b[39m5\u001b[39;49m\u001b[39m\"\u001b[39;49m\n\u001b[0;32m     <a href='vscode-notebook-cell:/disk-a/mejia/Research/UNAM/lvm-drp/lvmdrp/docs/nb/reduce-sim.ipynb#ch0000003?line=20'>21</a>\u001b[0m )\n\u001b[0;32m     <a href='vscode-notebook-cell:/disk-a/mejia/Research/UNAM/lvm-drp/lvmdrp/docs/nb/reduce-sim.ipynb#ch0000003?line=21'>22</a>\u001b[0m \u001b[39mprint\u001b[39m(\u001b[39mf\u001b[39m\u001b[39m\"\u001b[39m\u001b[39mextractSpec_drp: \u001b[39m\u001b[39m{\u001b[39;00mflags\u001b[39m}\u001b[39;00m\u001b[39m\"\u001b[39m)\n",
      "File \u001b[1;32m/disk-a/mejia/Research/UNAM/lvm-drp/lvmdrp/python/lvmdrp/utils/decorators.py:55\u001b[0m, in \u001b[0;36mmissing_files.<locals>.decorator.<locals>.inner\u001b[1;34m(*args, **kwargs)\u001b[0m\n\u001b[0;32m     <a href='file:///disk-a/mejia/Research/UNAM/lvm-drp/lvmdrp/python/lvmdrp/utils/decorators.py?line=52'>53</a>\u001b[0m flags \u001b[39m=\u001b[39m QualityFlag[\u001b[39m\"\u001b[39m\u001b[39mOK\u001b[39m\u001b[39m\"\u001b[39m]\n\u001b[0;32m     <a href='file:///disk-a/mejia/Research/UNAM/lvm-drp/lvmdrp/python/lvmdrp/utils/decorators.py?line=53'>54</a>\u001b[0m \u001b[39mif\u001b[39;00m \u001b[39mall\u001b[39m(files_exist\u001b[39m.\u001b[39mvalues()):\n\u001b[1;32m---> <a href='file:///disk-a/mejia/Research/UNAM/lvm-drp/lvmdrp/python/lvmdrp/utils/decorators.py?line=54'>55</a>\u001b[0m     result \u001b[39m=\u001b[39m f(\u001b[39m*\u001b[39;49margs, \u001b[39m*\u001b[39;49m\u001b[39m*\u001b[39;49mkwargs)\n\u001b[0;32m     <a href='file:///disk-a/mejia/Research/UNAM/lvm-drp/lvmdrp/python/lvmdrp/utils/decorators.py?line=55'>56</a>\u001b[0m     \u001b[39mreturn\u001b[39;00m (\u001b[39m*\u001b[39mresult, flags) \u001b[39mif\u001b[39;00m \u001b[39misinstance\u001b[39m(result, \u001b[39mtuple\u001b[39m) \u001b[39melse\u001b[39;00m (result, flags)\n\u001b[0;32m     <a href='file:///disk-a/mejia/Research/UNAM/lvm-drp/lvmdrp/python/lvmdrp/utils/decorators.py?line=56'>57</a>\u001b[0m \u001b[39melse\u001b[39;00m:\n",
      "File \u001b[1;32m/disk-a/mejia/Research/UNAM/lvm-drp/lvmdrp/python/lvmdrp/functions/imageMethod.py:1585\u001b[0m, in \u001b[0;36mextractSpec_drp\u001b[1;34m(image, trace, out_rss, method, aperture, fwhm, disp_axis, replace_error, plot, parallel)\u001b[0m\n\u001b[0;32m   <a href='file:///disk-a/mejia/Research/UNAM/lvm-drp/lvmdrp/python/lvmdrp/functions/imageMethod.py?line=1582'>1583</a>\u001b[0m rss\u001b[39m.\u001b[39msetHdrValue(\u001b[39m'\u001b[39m\u001b[39mhierarch PIPE CDISP FWHM MIN\u001b[39m\u001b[39m'\u001b[39m,numpy\u001b[39m.\u001b[39mmin(trace_fwhm\u001b[39m.\u001b[39m_data[trace_mask\u001b[39m.\u001b[39m_mask\u001b[39m==\u001b[39m\u001b[39mFalse\u001b[39;00m], initial\u001b[39m=\u001b[39m\u001b[39m0\u001b[39m))\n\u001b[0;32m   <a href='file:///disk-a/mejia/Research/UNAM/lvm-drp/lvmdrp/python/lvmdrp/functions/imageMethod.py?line=1583'>1584</a>\u001b[0m rss\u001b[39m.\u001b[39msetHdrValue(\u001b[39m'\u001b[39m\u001b[39mhierarch PIPE CDISP FWHM MAX\u001b[39m\u001b[39m'\u001b[39m,numpy\u001b[39m.\u001b[39mmax(trace_fwhm\u001b[39m.\u001b[39m_data[trace_mask\u001b[39m.\u001b[39m_mask\u001b[39m==\u001b[39m\u001b[39mFalse\u001b[39;00m], initial\u001b[39m=\u001b[39m\u001b[39m0\u001b[39m))\n\u001b[1;32m-> <a href='file:///disk-a/mejia/Research/UNAM/lvm-drp/lvmdrp/python/lvmdrp/functions/imageMethod.py?line=1584'>1585</a>\u001b[0m rss\u001b[39m.\u001b[39;49msetHdrValue(\u001b[39m'\u001b[39;49m\u001b[39mhierarch PIPE CDISP FWHM AVG\u001b[39;49m\u001b[39m'\u001b[39;49m,numpy\u001b[39m.\u001b[39;49mmean(trace_fwhm\u001b[39m.\u001b[39;49m_data[trace_mask\u001b[39m.\u001b[39;49m_mask\u001b[39m==\u001b[39;49m\u001b[39mFalse\u001b[39;49;00m]) \u001b[39mif\u001b[39;49;00m data\u001b[39m.\u001b[39;49msize \u001b[39m!=\u001b[39;49m \u001b[39m0\u001b[39;49m \u001b[39melse\u001b[39;49;00m \u001b[39m0\u001b[39;49m)\n\u001b[0;32m   <a href='file:///disk-a/mejia/Research/UNAM/lvm-drp/lvmdrp/python/lvmdrp/functions/imageMethod.py?line=1585'>1586</a>\u001b[0m rss\u001b[39m.\u001b[39msetHdrValue(\u001b[39m'\u001b[39m\u001b[39mhierarch PIPE CDISP FWHM MED\u001b[39m\u001b[39m'\u001b[39m,numpy\u001b[39m.\u001b[39mmedian(trace_fwhm\u001b[39m.\u001b[39m_data[trace_mask\u001b[39m.\u001b[39m_mask\u001b[39m==\u001b[39m\u001b[39mFalse\u001b[39;00m]) \u001b[39mif\u001b[39;00m data\u001b[39m.\u001b[39msize \u001b[39m!=\u001b[39m \u001b[39m0\u001b[39m \u001b[39melse\u001b[39;00m \u001b[39m0\u001b[39m)\n\u001b[0;32m   <a href='file:///disk-a/mejia/Research/UNAM/lvm-drp/lvmdrp/python/lvmdrp/functions/imageMethod.py?line=1586'>1587</a>\u001b[0m rss\u001b[39m.\u001b[39msetHdrValue(\u001b[39m'\u001b[39m\u001b[39mhierarch PIPE CDISP FWHM SIG\u001b[39m\u001b[39m'\u001b[39m,numpy\u001b[39m.\u001b[39mstd(trace_fwhm\u001b[39m.\u001b[39m_data[trace_mask\u001b[39m.\u001b[39m_mask\u001b[39m==\u001b[39m\u001b[39mFalse\u001b[39;00m]) \u001b[39mif\u001b[39;00m data\u001b[39m.\u001b[39msize \u001b[39m!=\u001b[39m \u001b[39m0\u001b[39m \u001b[39melse\u001b[39;00m \u001b[39m0\u001b[39m)\n",
      "File \u001b[1;32m/disk-a/mejia/Research/UNAM/lvm-drp/lvmdrp/python/lvmdrp/core/header.py:136\u001b[0m, in \u001b[0;36mHeader.setHdrValue\u001b[1;34m(self, keyword, value, comment)\u001b[0m\n\u001b[0;32m    <a href='file:///disk-a/mejia/Research/UNAM/lvm-drp/lvmdrp/python/lvmdrp/core/header.py?line=133'>134</a>\u001b[0m \t\u001b[39mself\u001b[39m\u001b[39m.\u001b[39m_header\u001b[39m=\u001b[39mpyfits\u001b[39m.\u001b[39mHeader()\n\u001b[0;32m    <a href='file:///disk-a/mejia/Research/UNAM/lvm-drp/lvmdrp/python/lvmdrp/core/header.py?line=134'>135</a>\u001b[0m \u001b[39mif\u001b[39;00m comment \u001b[39mis\u001b[39;00m \u001b[39mNone\u001b[39;00m:\n\u001b[1;32m--> <a href='file:///disk-a/mejia/Research/UNAM/lvm-drp/lvmdrp/python/lvmdrp/core/header.py?line=135'>136</a>\u001b[0m \t\u001b[39mself\u001b[39m\u001b[39m.\u001b[39m_header[keyword] \u001b[39m=\u001b[39m (value)\n\u001b[0;32m    <a href='file:///disk-a/mejia/Research/UNAM/lvm-drp/lvmdrp/python/lvmdrp/core/header.py?line=136'>137</a>\u001b[0m \u001b[39melse\u001b[39;00m:\n\u001b[0;32m    <a href='file:///disk-a/mejia/Research/UNAM/lvm-drp/lvmdrp/python/lvmdrp/core/header.py?line=137'>138</a>\u001b[0m \t\u001b[39mself\u001b[39m\u001b[39m.\u001b[39m_header[keyword] \u001b[39m=\u001b[39m (value, comment)\n",
      "File \u001b[1;32m~/.local/bin/miniconda3/envs/lvmdrp/lib/python3.8/site-packages/astropy/io/fits/header.py:208\u001b[0m, in \u001b[0;36mHeader.__setitem__\u001b[1;34m(self, key, value)\u001b[0m\n\u001b[0;32m    <a href='file:///home/mejia/.local/bin/miniconda3/envs/lvmdrp/lib/python3.8/site-packages/astropy/io/fits/header.py?line=203'>204</a>\u001b[0m         \u001b[39mself\u001b[39m\u001b[39m.\u001b[39m_modified \u001b[39m=\u001b[39m \u001b[39mTrue\u001b[39;00m\n\u001b[0;32m    <a href='file:///home/mejia/.local/bin/miniconda3/envs/lvmdrp/lib/python3.8/site-packages/astropy/io/fits/header.py?line=204'>205</a>\u001b[0m \u001b[39melse\u001b[39;00m:\n\u001b[0;32m    <a href='file:///home/mejia/.local/bin/miniconda3/envs/lvmdrp/lib/python3.8/site-packages/astropy/io/fits/header.py?line=205'>206</a>\u001b[0m     \u001b[39m# If we get an IndexError that should be raised; we don't allow\u001b[39;00m\n\u001b[0;32m    <a href='file:///home/mejia/.local/bin/miniconda3/envs/lvmdrp/lib/python3.8/site-packages/astropy/io/fits/header.py?line=206'>207</a>\u001b[0m     \u001b[39m# assignment to non-existing indices\u001b[39;00m\n\u001b[1;32m--> <a href='file:///home/mejia/.local/bin/miniconda3/envs/lvmdrp/lib/python3.8/site-packages/astropy/io/fits/header.py?line=207'>208</a>\u001b[0m     \u001b[39mself\u001b[39;49m\u001b[39m.\u001b[39;49m_update((key, value, comment))\n",
      "File \u001b[1;32m~/.local/bin/miniconda3/envs/lvmdrp/lib/python3.8/site-packages/astropy/io/fits/header.py:1701\u001b[0m, in \u001b[0;36mHeader._update\u001b[1;34m(self, card)\u001b[0m\n\u001b[0;32m   <a href='file:///home/mejia/.local/bin/miniconda3/envs/lvmdrp/lib/python3.8/site-packages/astropy/io/fits/header.py?line=1697'>1698</a>\u001b[0m             \u001b[39mself\u001b[39m\u001b[39m.\u001b[39mappend(c, bottom\u001b[39m=\u001b[39m\u001b[39mTrue\u001b[39;00m)\n\u001b[0;32m   <a href='file:///home/mejia/.local/bin/miniconda3/envs/lvmdrp/lib/python3.8/site-packages/astropy/io/fits/header.py?line=1698'>1699</a>\u001b[0m \u001b[39melse\u001b[39;00m:\n\u001b[0;32m   <a href='file:///home/mejia/.local/bin/miniconda3/envs/lvmdrp/lib/python3.8/site-packages/astropy/io/fits/header.py?line=1699'>1700</a>\u001b[0m     \u001b[39m# A new keyword! self.append() will handle updating _modified\u001b[39;00m\n\u001b[1;32m-> <a href='file:///home/mejia/.local/bin/miniconda3/envs/lvmdrp/lib/python3.8/site-packages/astropy/io/fits/header.py?line=1700'>1701</a>\u001b[0m     \u001b[39mself\u001b[39;49m\u001b[39m.\u001b[39;49mappend(card)\n",
      "File \u001b[1;32m~/.local/bin/miniconda3/envs/lvmdrp/lib/python3.8/site-packages/astropy/io/fits/header.py:1203\u001b[0m, in \u001b[0;36mHeader.append\u001b[1;34m(self, card, useblanks, bottom, end)\u001b[0m\n\u001b[0;32m   <a href='file:///home/mejia/.local/bin/miniconda3/envs/lvmdrp/lib/python3.8/site-packages/astropy/io/fits/header.py?line=1200'>1201</a>\u001b[0m     card \u001b[39m=\u001b[39m Card(card)\n\u001b[0;32m   <a href='file:///home/mejia/.local/bin/miniconda3/envs/lvmdrp/lib/python3.8/site-packages/astropy/io/fits/header.py?line=1201'>1202</a>\u001b[0m \u001b[39melif\u001b[39;00m \u001b[39misinstance\u001b[39m(card, \u001b[39mtuple\u001b[39m):\n\u001b[1;32m-> <a href='file:///home/mejia/.local/bin/miniconda3/envs/lvmdrp/lib/python3.8/site-packages/astropy/io/fits/header.py?line=1202'>1203</a>\u001b[0m     card \u001b[39m=\u001b[39m Card(\u001b[39m*\u001b[39;49mcard)\n\u001b[0;32m   <a href='file:///home/mejia/.local/bin/miniconda3/envs/lvmdrp/lib/python3.8/site-packages/astropy/io/fits/header.py?line=1203'>1204</a>\u001b[0m \u001b[39melif\u001b[39;00m card \u001b[39mis\u001b[39;00m \u001b[39mNone\u001b[39;00m:\n\u001b[0;32m   <a href='file:///home/mejia/.local/bin/miniconda3/envs/lvmdrp/lib/python3.8/site-packages/astropy/io/fits/header.py?line=1204'>1205</a>\u001b[0m     card \u001b[39m=\u001b[39m Card()\n",
      "File \u001b[1;32m~/.local/bin/miniconda3/envs/lvmdrp/lib/python3.8/site-packages/astropy/io/fits/card.py:194\u001b[0m, in \u001b[0;36mCard.__init__\u001b[1;34m(self, keyword, value, comment, **kwargs)\u001b[0m\n\u001b[0;32m    <a href='file:///home/mejia/.local/bin/miniconda3/envs/lvmdrp/lib/python3.8/site-packages/astropy/io/fits/card.py?line=191'>192</a>\u001b[0m         \u001b[39mself\u001b[39m\u001b[39m.\u001b[39mkeyword \u001b[39m=\u001b[39m keyword\n\u001b[0;32m    <a href='file:///home/mejia/.local/bin/miniconda3/envs/lvmdrp/lib/python3.8/site-packages/astropy/io/fits/card.py?line=192'>193</a>\u001b[0m     \u001b[39mif\u001b[39;00m value \u001b[39mis\u001b[39;00m \u001b[39mnot\u001b[39;00m \u001b[39mNone\u001b[39;00m:\n\u001b[1;32m--> <a href='file:///home/mejia/.local/bin/miniconda3/envs/lvmdrp/lib/python3.8/site-packages/astropy/io/fits/card.py?line=193'>194</a>\u001b[0m         \u001b[39mself\u001b[39m\u001b[39m.\u001b[39mvalue \u001b[39m=\u001b[39m value\n\u001b[0;32m    <a href='file:///home/mejia/.local/bin/miniconda3/envs/lvmdrp/lib/python3.8/site-packages/astropy/io/fits/card.py?line=195'>196</a>\u001b[0m \u001b[39mif\u001b[39;00m comment \u001b[39mis\u001b[39;00m \u001b[39mnot\u001b[39;00m \u001b[39mNone\u001b[39;00m:\n\u001b[0;32m    <a href='file:///home/mejia/.local/bin/miniconda3/envs/lvmdrp/lib/python3.8/site-packages/astropy/io/fits/card.py?line=196'>197</a>\u001b[0m     \u001b[39mself\u001b[39m\u001b[39m.\u001b[39mcomment \u001b[39m=\u001b[39m comment\n",
      "File \u001b[1;32m~/.local/bin/miniconda3/envs/lvmdrp/lib/python3.8/site-packages/astropy/io/fits/card.py:328\u001b[0m, in \u001b[0;36mCard.value\u001b[1;34m(self, value)\u001b[0m\n\u001b[0;32m    <a href='file:///home/mejia/.local/bin/miniconda3/envs/lvmdrp/lib/python3.8/site-packages/astropy/io/fits/card.py?line=321'>322</a>\u001b[0m     \u001b[39mraise\u001b[39;00m \u001b[39mValueError\u001b[39;00m(\u001b[39mf\u001b[39m\u001b[39m'\u001b[39m\u001b[39mIllegal value: \u001b[39m\u001b[39m{\u001b[39;00mvalue\u001b[39m!r}\u001b[39;00m\u001b[39m.\u001b[39m\u001b[39m'\u001b[39m)\n\u001b[0;32m    <a href='file:///home/mejia/.local/bin/miniconda3/envs/lvmdrp/lib/python3.8/site-packages/astropy/io/fits/card.py?line=323'>324</a>\u001b[0m \u001b[39mif\u001b[39;00m \u001b[39misinstance\u001b[39m(value, (\u001b[39mfloat\u001b[39m, np\u001b[39m.\u001b[39mfloat32)) \u001b[39mand\u001b[39;00m (np\u001b[39m.\u001b[39misnan(value) \u001b[39mor\u001b[39;00m\n\u001b[0;32m    <a href='file:///home/mejia/.local/bin/miniconda3/envs/lvmdrp/lib/python3.8/site-packages/astropy/io/fits/card.py?line=324'>325</a>\u001b[0m                                                np\u001b[39m.\u001b[39misinf(value)):\n\u001b[0;32m    <a href='file:///home/mejia/.local/bin/miniconda3/envs/lvmdrp/lib/python3.8/site-packages/astropy/io/fits/card.py?line=325'>326</a>\u001b[0m     \u001b[39m# value is checked for both float and np.float32 instances\u001b[39;00m\n\u001b[0;32m    <a href='file:///home/mejia/.local/bin/miniconda3/envs/lvmdrp/lib/python3.8/site-packages/astropy/io/fits/card.py?line=326'>327</a>\u001b[0m     \u001b[39m# since np.float32 is not considered a Python float.\u001b[39;00m\n\u001b[1;32m--> <a href='file:///home/mejia/.local/bin/miniconda3/envs/lvmdrp/lib/python3.8/site-packages/astropy/io/fits/card.py?line=327'>328</a>\u001b[0m     \u001b[39mraise\u001b[39;00m \u001b[39mValueError\u001b[39;00m(\u001b[39m\"\u001b[39m\u001b[39mFloating point \u001b[39m\u001b[39m{!r}\u001b[39;00m\u001b[39m values are not allowed \u001b[39m\u001b[39m\"\u001b[39m\n\u001b[0;32m    <a href='file:///home/mejia/.local/bin/miniconda3/envs/lvmdrp/lib/python3.8/site-packages/astropy/io/fits/card.py?line=328'>329</a>\u001b[0m                      \u001b[39m\"\u001b[39m\u001b[39min FITS headers.\u001b[39m\u001b[39m\"\u001b[39m\u001b[39m.\u001b[39mformat(value))\n\u001b[0;32m    <a href='file:///home/mejia/.local/bin/miniconda3/envs/lvmdrp/lib/python3.8/site-packages/astropy/io/fits/card.py?line=330'>331</a>\u001b[0m \u001b[39melif\u001b[39;00m \u001b[39misinstance\u001b[39m(value, \u001b[39mstr\u001b[39m):\n\u001b[0;32m    <a href='file:///home/mejia/.local/bin/miniconda3/envs/lvmdrp/lib/python3.8/site-packages/astropy/io/fits/card.py?line=331'>332</a>\u001b[0m     m \u001b[39m=\u001b[39m \u001b[39mself\u001b[39m\u001b[39m.\u001b[39m_ascii_text_re\u001b[39m.\u001b[39mmatch(value)\n",
      "\u001b[1;31mValueError\u001b[0m: Floating point nan values are not allowed in FITS headers."
     ]
    }
   ],
   "source": [
    "_, flags = imageMethod.LACosmic_drp(\n",
    "    image=f\"{sim_path}/{sim_name}.fits\",\n",
    "    out_image=f\"{sim_path}/{sim_name}.cosmic.fits\",\n",
    "    increase_radius=1, flim=\"1.3\", parallel='5'\n",
    ")\n",
    "print(f\"LACosmic_drp: {flags}\")\n",
    "_, flags = imageMethod.subtractStraylight_drp(\n",
    "    image=f\"{sim_path}/{sim_name}.cosmic.fits\",\n",
    "    trace=f\"{sim_path}/{cal_name}.trc.fits\",\n",
    "    stray_image=f\"{sim_path}/{sim_name}.back.fits\",\n",
    "    clean_image=f\"{sim_path}/{sim_name}.stray.fits\",\n",
    "    aperture=40, poly_cross=2, smooth_gauss=30\n",
    ")\n",
    "print(f\"subtractStraylight_drp: {flags}\")\n",
    "_, flags = imageMethod.extractSpec_drp(\n",
    "    image=f\"{sim_path}/{sim_name}.stray.fits\",\n",
    "    trace=f\"{sim_path}/{cal_name}.trc.fits\",\n",
    "    out_rss=f\"{sim_path}/{sim_name}.ms.fits\",\n",
    "    fwhm=f\"{sim_path}/{cal_name}.fwhm.fits\",\n",
    "    method=\"aperture\", aperture=3, parallel=\"5\"\n",
    ")\n",
    "print(f\"extractSpec_drp: {flags}\")\n"
   ]
  },
  {
   "cell_type": "code",
   "execution_count": null,
   "metadata": {},
   "outputs": [
    {
     "name": "stderr",
     "output_type": "stream",
     "text": [
      "/home/mejia/.local/bin/miniconda3/envs/lvmdrp/lib/python3.8/site-packages/scipy/optimize/minpack.py:476: RuntimeWarning: Number of calls to function has reached maxfev = 9999.\n",
      "  warnings.warn(errors[info][0], RuntimeWarning)\n"
     ]
    },
    {
     "name": "stdout",
     "output_type": "stream",
     "text": [
      "Start measuring arc lines...\n",
      "detWaveSolution_drp: 1\n",
      "createPixTable_drp: 1\n",
      "resampleWave_drp: 1\n"
     ]
    }
   ],
   "source": [
    "wave, fwhm, flags = rssMethod.detWaveSolution_drp(\n",
    "    arc_rss=f\"{sim_path}/{sim_name}.ms.fits\",\n",
    "    disp_rss=f\"{sim_path}/{sim_name}.disp.fits\",\n",
    "    res_rss=f\"{sim_path}/{sim_name}.res.fits\",\n",
    "    ref_line_file=f\"{data_path}/lvm-neon_nist_{CHANNEL}.txt\",\n",
    "    aperture=\"7\", poly_fwhm=\"-1,-1\", poly_dispersion=\"-4\", rel_flux_limits=\"0.2,2\", flux_min=\"100.0\", verbose=\"-1\"\n",
    ")\n",
    "print(f\"detWaveSolution_drp: {flags}\")\n",
    "_, flags = rssMethod.createPixTable_drp(\n",
    "    rss_in=f\"{sim_path}/{sim_name}.ms.fits\",\n",
    "    rss_out=f\"{sim_path}/{sim_name}.rss.fits\",\n",
    "    arc_wave=f\"{sim_path}/{sim_name}.disp.fits\",\n",
    "    arc_fwhm=f\"{sim_path}/{sim_name}.res.fits\",\n",
    "    cropping=''\n",
    ")\n",
    "print(f\"createPixTable_drp: {flags}\")\n",
    "_, flags = rssMethod.resampleWave_drp(\n",
    "    rss_in=f\"{sim_path}/{sim_name}.rss.fits\",\n",
    "    rss_out=f\"{sim_path}/{sim_name}.disp_cor.fits\",\n",
    "    start_wave=wli, end_wave=wlf, disp_pix=\"1.0\", err_sim=\"0\"\n",
    ")\n",
    "print(f\"resampleWave_drp: {flags}\")\n"
   ]
  }
 ],
 "metadata": {
  "interpreter": {
   "hash": "a6bf2e0662be2ac55e11c9d7356f9ec932aa8bf68d7ac679d8b2b9944db99383"
  },
  "kernelspec": {
   "display_name": "Python 3.8.8 ('lvmdrp')",
   "language": "python",
   "name": "python3"
  },
  "language_info": {
   "codemirror_mode": {
    "name": "ipython",
    "version": 3
   },
   "file_extension": ".py",
   "mimetype": "text/x-python",
   "name": "python",
   "nbconvert_exporter": "python",
   "pygments_lexer": "ipython3",
   "version": "3.8.8"
  },
  "orig_nbformat": 4
 },
 "nbformat": 4,
 "nbformat_minor": 2
}
