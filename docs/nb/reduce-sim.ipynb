{
 "cells": [
  {
   "cell_type": "code",
   "execution_count": 1,
   "metadata": {},
   "outputs": [],
   "source": [
    "import os\n",
    "import numpy as np\n",
    "\n",
    "import matplotlib.pyplot as plt\n",
    "\n",
    "from lvmdrp.functions import imageMethod, rssMethod"
   ]
  },
  {
   "cell_type": "code",
   "execution_count": 2,
   "metadata": {},
   "outputs": [],
   "source": [
    "# define path to calibration frames:\n",
    "data_path = \"_data-lvm\"\n",
    "CHANNEL = \"z1\"\n",
    "cont_name = f\"sdR-s-{CHANNEL}-00001614\"\n",
    "arc_name = f\"sdR-s-{CHANNEL}-00001563\"\n",
    "# continuum frame\n",
    "# bias\n",
    "# dark\n",
    "# flat\n",
    "# fiberflat\n",
    "# target frame\n",
    "sim_path = \"_sim\"\n",
    "sim_name = \"LVM_Field_large_linear_full_9000_realization_2d\"\n",
    "cal_name = \"LVM_Field_large_linear_full_9000_realization_rss\"\n",
    "\n",
    "\n",
    "# wavelength range\n",
    "CHANNEL_WL = {\"b1\": (3600, 5930), \"r1\": (5660, 7720), \"z1\": (7470, 9800)}\n",
    "wli, wlf = CHANNEL_WL[\"z1\"]"
   ]
  },
  {
   "cell_type": "code",
   "execution_count": null,
   "metadata": {},
   "outputs": [],
   "source": []
  },
  {
   "cell_type": "code",
   "execution_count": 3,
   "metadata": {},
   "outputs": [
    {
     "name": "stdout",
     "output_type": "stream",
     "text": [
      "LACosmic_drp: 1\n",
      "subtractStraylight_drp: 1\n"
     ]
    }
   ],
   "source": [
    "_, flags = imageMethod.LACosmic_drp(\n",
    "    image=f\"{sim_path}/{sim_name}.fits\",\n",
    "    out_image=f\"{sim_path}/{sim_name}.cosmic.fits\",\n",
    "    increase_radius=1, flim=\"1.3\", parallel='5'\n",
    ")\n",
    "print(f\"LACosmic_drp: {flags}\")\n",
    "_, flags = imageMethod.subtractStraylight_drp(\n",
    "    image=f\"{sim_path}/{sim_name}.cosmic.fits\",\n",
    "    trace=f\"{sim_path}/{cal_name}.trc.fits\",\n",
    "    stray_image=f\"{sim_path}/{sim_name}.back.fits\",\n",
    "    clean_image=f\"{sim_path}/{sim_name}.stray.fits\",\n",
    "    aperture=40, poly_cross=2, smooth_gauss=30\n",
    ")\n",
    "print(f\"subtractStraylight_drp: {flags}\")\n",
    "_, flags = imageMethod.extractSpec_drp(\n",
    "    image=f\"{sim_path}/{sim_name}.stray.fits\",\n",
    "    trace=f\"{sim_path}/{cal_name}.trc.fits\",\n",
    "    out_rss=f\"{sim_path}/{sim_name}.ms.fits\",\n",
    "    fwhm=f\"{sim_path}/{cal_name}.fwhm.fits\",\n",
    "    method=\"optimal\", parallel=\"5\"\n",
    ")\n",
    "print(f\"extractSpec_drp: {flags}\")\n"
   ]
  },
  {
   "cell_type": "code",
   "execution_count": null,
   "metadata": {},
   "outputs": [
    {
     "name": "stderr",
     "output_type": "stream",
     "text": [
      "/home/mejia/.local/bin/miniconda3/envs/lvmdrp/lib/python3.8/site-packages/scipy/optimize/minpack.py:476: RuntimeWarning: Number of calls to function has reached maxfev = 9999.\n",
      "  warnings.warn(errors[info][0], RuntimeWarning)\n"
     ]
    },
    {
     "name": "stdout",
     "output_type": "stream",
     "text": [
      "Start measuring arc lines...\n",
      "detWaveSolution_drp: 1\n",
      "createPixTable_drp: 1\n",
      "resampleWave_drp: 1\n"
     ]
    }
   ],
   "source": [
    "wave, fwhm, flags = rssMethod.detWaveSolution_drp(\n",
    "    arc_rss=f\"{sim_path}/{sim_name}.ms.fits\",\n",
    "    disp_rss=f\"{sim_path}/{sim_name}.disp.fits\",\n",
    "    res_rss=f\"{sim_path}/{sim_name}.res.fits\",\n",
    "    ref_line_file=f\"{data_path}/lvm-neon_nist_{CHANNEL}.txt\",\n",
    "    aperture=\"7\", poly_fwhm=\"-1,-1\", poly_dispersion=\"-4\", rel_flux_limits=\"0.2,2\", flux_min=\"100.0\", verbose=\"-1\"\n",
    ")\n",
    "print(f\"detWaveSolution_drp: {flags}\")\n",
    "_, flags = rssMethod.createPixTable_drp(\n",
    "    rss_in=f\"{sim_path}/{sim_name}.ms.fits\",\n",
    "    rss_out=f\"{sim_path}/{sim_name}.rss.fits\",\n",
    "    arc_wave=f\"{sim_path}/{sim_name}.disp.fits\",\n",
    "    arc_fwhm=f\"{sim_path}/{sim_name}.res.fits\",\n",
    "    cropping=''\n",
    ")\n",
    "print(f\"createPixTable_drp: {flags}\")\n",
    "_, flags = rssMethod.resampleWave_drp(\n",
    "    rss_in=f\"{sim_path}/{sim_name}.rss.fits\",\n",
    "    rss_out=f\"{sim_path}/{sim_name}.disp_cor.fits\",\n",
    "    start_wave=wli, end_wave=wlf, disp_pix=\"1.0\", err_sim=\"0\"\n",
    ")\n",
    "print(f\"resampleWave_drp: {flags}\")\n"
   ]
  }
 ],
 "metadata": {
  "interpreter": {
   "hash": "a6bf2e0662be2ac55e11c9d7356f9ec932aa8bf68d7ac679d8b2b9944db99383"
  },
  "kernelspec": {
   "display_name": "Python 3.8.8 ('lvmdrp')",
   "language": "python",
   "name": "python3"
  },
  "language_info": {
   "codemirror_mode": {
    "name": "ipython",
    "version": 3
   },
   "file_extension": ".py",
   "mimetype": "text/x-python",
   "name": "python",
   "nbconvert_exporter": "python",
   "pygments_lexer": "ipython3",
   "version": "3.8.8"
  },
  "orig_nbformat": 4
 },
 "nbformat": 4,
 "nbformat_minor": 2
}
