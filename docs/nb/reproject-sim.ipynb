{
 "cells": [
  {
   "cell_type": "code",
   "execution_count": 1,
   "metadata": {},
   "outputs": [],
   "source": [
    "from lvmdrp.functions import imageMethod\n",
    "from lvmdrp.core import image"
   ]
  },
  {
   "cell_type": "code",
   "execution_count": 2,
   "metadata": {},
   "outputs": [],
   "source": [
    "data_path = \"_data-lvm\"\n",
    "# blue channel frames\n",
    "cont_name = \"sdR-s-b1-00003082\"\n",
    "arc_name = \"sdR-s-b1-00002998\"\n",
    "# red channel frames\n",
    "cont_name = \"sdR-s-r1-00001613\"\n",
    "arc_name = \"sdR-s-r1-00001563\"\n",
    "# nir channel frames\n",
    "cont_name = \"sdR-s-z1-00001614\"\n",
    "arc_name = \"sdR-s-z1-00001563\"\n",
    "\n",
    "wave_fwhm = image.loadImage(f\"{data_path}/{arc_name}.res.fits\")\n",
    "sim_fwhm = 0.5\n",
    "\n",
    "imageMethod.reprojectRSS_drp(\n",
    "    # image=f\"{data_path}/{arc_name}.cosmic.fits\",\n",
    "    stray=f\"{data_path}/{arc_name}.back.fits\",\n",
    "    trace=f\"{data_path}/{cont_name}.trc.fits\",\n",
    "    fwhm_cross=f\"{data_path}/{cont_name}.fwhm.fits\",\n",
    "    fwhm_spect=f\"{data_path}/{arc_name}.res.fits\",\n",
    "    wave=f\"{data_path}/{arc_name}.disp.fits\",\n",
    "    flux=f\"{data_path}/{arc_name}.disp_cor.fits\",\n",
    "    sim_fwhm=sim_fwhm,\n",
    "    file_out=\"fit.fits\"\n",
    ")\n",
    "\n",
    "# imageMethod.testres_drp(\n",
    "#     image=f\"{data_path}/{arc_name}.stray.fits\",\n",
    "#     trace=f\"{data_path}/{cont_name}.trc.fits\",\n",
    "#     fwhm=f\"{data_path}/{cont_name}.fwhm.fits\",\n",
    "#     flux=f\"{data_path}/{arc_name}.ms.fits\",\n",
    "# )\n"
   ]
  }
 ],
 "metadata": {
  "interpreter": {
   "hash": "a6bf2e0662be2ac55e11c9d7356f9ec932aa8bf68d7ac679d8b2b9944db99383"
  },
  "kernelspec": {
   "display_name": "Python 3.8.8 ('lvmdrp')",
   "language": "python",
   "name": "python3"
  },
  "language_info": {
   "codemirror_mode": {
    "name": "ipython",
    "version": 3
   },
   "file_extension": ".py",
   "mimetype": "text/x-python",
   "name": "python",
   "nbconvert_exporter": "python",
   "pygments_lexer": "ipython3",
   "version": "3.8.8"
  },
  "orig_nbformat": 4
 },
 "nbformat": 4,
 "nbformat_minor": 2
}
