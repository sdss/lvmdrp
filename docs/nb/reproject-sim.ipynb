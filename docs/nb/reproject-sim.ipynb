{
 "cells": [
  {
   "cell_type": "code",
   "execution_count": 1,
   "metadata": {
    "execution": {
     "iopub.execute_input": "2022-06-14T14:21:00.721276Z",
     "iopub.status.busy": "2022-06-14T14:21:00.720951Z",
     "iopub.status.idle": "2022-06-14T14:21:01.594618Z",
     "shell.execute_reply": "2022-06-14T14:21:01.594021Z",
     "shell.execute_reply.started": "2022-06-14T14:21:00.721203Z"
    }
   },
   "outputs": [],
   "source": [
    "from lvmdrp.functions import imageMethod\n",
    "from lvmdrp.core import image"
   ]
  },
  {
   "cell_type": "code",
   "execution_count": 2,
   "metadata": {
    "execution": {
     "iopub.execute_input": "2022-06-14T14:21:01.595448Z",
     "iopub.status.busy": "2022-06-14T14:21:01.595296Z",
     "iopub.status.idle": "2022-06-14T14:21:36.295430Z",
     "shell.execute_reply": "2022-06-14T14:21:36.294894Z",
     "shell.execute_reply.started": "2022-06-14T14:21:01.595429Z"
    },
    "tags": []
   },
   "outputs": [],
   "source": [
    "data_path = \"_data-lvm\"\n",
    "# blue channel frames\n",
    "cont_name = \"sdR-s-b1-00003082\"\n",
    "arc_name = \"sdR-s-b1-00002998\"\n",
    "# red channel frames\n",
    "cont_name = \"sdR-s-r1-00001613\"\n",
    "arc_name = \"sdR-s-r1-00001563\"\n",
    "# nir channel frames\n",
    "cont_name = \"sdR-s-z1-00001614\"\n",
    "arc_name = \"sdR-s-z1-00001563\"\n",
    "\n",
    "wave_fwhm = image.loadImage(f\"{data_path}/{arc_name}.res.fits\")\n",
    "sim_fwhm = 0.5\n",
    "\n",
    "imageMethod.reprojectRSS_drp(\n",
    "    stray=f\"{data_path}/{arc_name}.back.fits\",\n",
    "    trace=f\"{data_path}/{cont_name}.trc.fits\",\n",
    "    fwhm_cross=f\"{data_path}/{cont_name}.fwhm.fits\",\n",
    "    fwhm_spect=f\"{data_path}/{arc_name}.res.fits\",\n",
    "    wave=f\"{data_path}/{arc_name}.disp.fits\",\n",
    "    flux=f\"{data_path}/{arc_name}.disp_cor.fits\",\n",
    "    # flux=f\"_sim/LVM_Field_large_linear_full_9000_realization.fits\",\n",
    "    # flux_hdu=2,\n",
    "    sim_fwhm=sim_fwhm,\n",
    "    file_out=\"fit.fits\"\n",
    ")\n",
    "\n",
    "# imageMethod.testres_drp(\n",
    "#     image=f\"{data_path}/{arc_name}.stray.fits\",\n",
    "#     trace=f\"{data_path}/{cont_name}.trc.fits\",\n",
    "#     fwhm=f\"{data_path}/{cont_name}.fwhm.fits\",\n",
    "#     flux=f\"{data_path}/{arc_name}.ms.fits\",\n",
    "# )\n"
   ]
  },
  {
   "cell_type": "code",
   "execution_count": 4,
   "metadata": {
    "execution": {
     "iopub.execute_input": "2022-06-14T14:23:57.064090Z",
     "iopub.status.busy": "2022-06-14T14:23:57.063865Z",
     "iopub.status.idle": "2022-06-14T14:23:57.214032Z",
     "shell.execute_reply": "2022-06-14T14:23:57.213534Z",
     "shell.execute_reply.started": "2022-06-14T14:23:57.064065Z"
    },
    "tags": []
   },
   "outputs": [
    {
     "name": "stdout",
     "output_type": "stream",
     "text": [
      "Filename: _sim/LVM_Field_large_linear_full_9000_realization.fits\n",
      "No.    Name      Ver    Type      Cards   Dimensions   Format\n",
      "  0  PRIMARY       1 PrimaryHDU      22   ()      \n",
      "  1  TARGET        1 ImageHDU         9   (12301, 1801)   float64   \n",
      "  2  TOTAL         1 ImageHDU         9   (12301, 1801)   float64   \n",
      "  3  ERR           1 ImageHDU         9   (12301, 1801)   float64   \n",
      "  4  SNR           1 ImageHDU         9   (12301, 1801)   float64   \n",
      "  5  SKY           1 ImageHDU         9   (12301, 1801)   float64   \n",
      "  6  WAVE          1 ImageHDU         8   (12301,)   float64   \n",
      "  7  FIBERID       1 BinTableHDU     27   1801R x 7C   [K, K, K, D, D, D, D]   \n"
     ]
    }
   ],
   "source": [
    "from astropy.io import fits\n",
    "\n",
    "\n",
    "f = fits.open(f\"_sim/LVM_Field_large_linear_full_9000_realization.fits\")\n",
    "f.info()"
   ]
  }
 ],
 "metadata": {
  "kernelspec": {
   "display_name": "Python 3 (ipykernel)",
   "language": "python",
   "name": "python3"
  },
  "language_info": {
   "codemirror_mode": {
    "name": "ipython",
    "version": 3
   },
   "file_extension": ".py",
   "mimetype": "text/x-python",
   "name": "python",
   "nbconvert_exporter": "python",
   "pygments_lexer": "ipython3",
   "version": "3.8.12"
  },
  "vscode": {
   "interpreter": {
    "hash": "75b7dc73e2cd5987d39e44d45f1d2594b18b07dc05e2cece7d250df00c95241b"
   }
  }
 },
 "nbformat": 4,
 "nbformat_minor": 4
}
