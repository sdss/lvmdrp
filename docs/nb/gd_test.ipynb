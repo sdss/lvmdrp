{
 "cells": [
  {
   "cell_type": "code",
   "execution_count": 1,
   "metadata": {},
   "outputs": [],
   "source": [
    "import requests\n",
    "from html.parser import HTMLParser\n",
    "from urllib.parse import urlparse, parse_qs\n",
    "\n",
    "\n",
    "class GetForm(HTMLParser):\n",
    "    def handle_starttag(self, tag, attrs):\n",
    "        if tag == \"form\":\n",
    "            self.tag, self.attrs = tag, dict(attrs)\n",
    "        return super().handle_starttag(tag, attrs)\n",
    "\n",
    "def get_token(response):\n",
    "    gd_parser = GetForm()\n",
    "    gd_parser.feed(response.text)\n",
    "    params = parse_qs(urlparse(gd_parser.attrs[\"action\"]).query)\n",
    "    return params[\"uuid\"][0]\n",
    "\n",
    "def dump_content(response, destination):\n",
    "    CHUNK_SIZE = 32768\n",
    "\n",
    "    with open(destination, \"wb\") as f:\n",
    "        for chunk in response.iter_content(CHUNK_SIZE):\n",
    "            if chunk: # filter out keep-alive new chunks\n",
    "                f.write(chunk)\n",
    "\n",
    "def download_file_from_google_drive(id, destination):\n",
    "    URL = \"https://docs.google.com/uc?export=download\"\n",
    "\n",
    "    session = requests.Session()\n",
    "\n",
    "    response = session.get(URL, params = { 'id' : id }, stream = True)\n",
    "    token = get_token(response)\n",
    "\n",
    "    if token:\n",
    "        params = { 'id' : id, 'confirm' : token }\n",
    "        response = session.get(URL, params = params, stream = True)\n",
    "\n",
    "    dump_content(response, destination)\n"
   ]
  },
  {
   "cell_type": "code",
   "execution_count": 2,
   "metadata": {},
   "outputs": [],
   "source": [
    "id = \"17J9dfyiA8jxtZ_y4Yl7vZ2RenBK73AzC\"\n",
    "destination = \"lvmdrp_src.zip\""
   ]
  },
  {
   "cell_type": "code",
   "execution_count": 3,
   "metadata": {},
   "outputs": [],
   "source": [
    "download_file_from_google_drive(id, destination)"
   ]
  }
 ],
 "metadata": {
  "kernelspec": {
   "display_name": "lvmdrp-test",
   "language": "python",
   "name": "python3"
  },
  "language_info": {
   "codemirror_mode": {
    "name": "ipython",
    "version": 3
   },
   "file_extension": ".py",
   "mimetype": "text/x-python",
   "name": "python",
   "nbconvert_exporter": "python",
   "pygments_lexer": "ipython3",
   "version": "3.8.15"
  },
  "orig_nbformat": 4,
  "vscode": {
   "interpreter": {
    "hash": "2e1c702a57043d53258aaaeb5e49fc2667ec659ed9316a66c66db8498b287151"
   }
  }
 },
 "nbformat": 4,
 "nbformat_minor": 2
}
