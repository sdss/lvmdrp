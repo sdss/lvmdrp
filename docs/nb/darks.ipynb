{
 "cells": [
  {
   "cell_type": "markdown",
   "id": "ed94aba4-0bea-40e8-812f-2e396564eeff",
   "metadata": {},
   "source": [
    "# Darks\n",
    "\n",
    "Look at the current set of dark patches and see if I can tell how close they are to the Survey positions\n",
    "\n",
    "Note the darks is a guess at dark patches of the sky that dates back at least to 2021; this is currently under review"
   ]
  },
  {
   "cell_type": "code",
   "execution_count": 1,
   "id": "b120abdc-5418-408d-9ce5-5537f3e2d738",
   "metadata": {},
   "outputs": [
    {
     "data": {
      "text/plain": [
       "'/home/mejia/Research/UNAM/lvm-drp/lvmdrp/docs/nb'"
      ]
     },
     "execution_count": 1,
     "metadata": {},
     "output_type": "execute_result"
    }
   ],
   "source": [
    "import os\n",
    "import numpy as np\n",
    "import matplotlib.pyplot as plt\n",
    "from astropy.io import ascii\n",
    "\n",
    "\n",
    "os.getcwd()"
   ]
  },
  {
   "cell_type": "code",
   "execution_count": 2,
   "id": "9da82e13-8cef-40c7-aea7-6b98f8c4e2fb",
   "metadata": {},
   "outputs": [
    {
     "name": "stdout",
     "output_type": "stream",
     "text": [
      "<Table length=675>\n",
      " name  dtype \n",
      "----- -------\n",
      "    i   int64\n",
      "   ra float64\n",
      "  dec float64\n",
      "    l float64\n",
      "    b float64\n",
      "IMW80 float64\n",
      "IMW40 float64\n"
     ]
    }
   ],
   "source": [
    "darks=ascii.read('_data-sky/darks.txt')\n",
    "darks.info()"
   ]
  },
  {
   "cell_type": "code",
   "execution_count": 3,
   "id": "687404fd-883b-42fa-b8ba-9b9e81de7a6f",
   "metadata": {},
   "outputs": [
    {
     "name": "stdout",
     "output_type": "stream",
     "text": [
      "<Table length=41452>\n",
      "     name      dtype \n",
      "------------- -------\n",
      "           JD float64\n",
      "  observatory    str3\n",
      "       target   str12\n",
      "        group    str6\n",
      "       tileid   int64\n",
      "        index   int64\n",
      "           ra float64\n",
      "          dec float64\n",
      "           pa float64\n",
      "      airmass float64\n",
      "     lunation float64\n",
      "shadow_height float64\n",
      "    moon_dist float64\n",
      "          lst float64\n",
      "      exptime float64\n",
      "    totaltime float64\n"
     ]
    }
   ],
   "source": [
    "survey=ascii.read('_data-sky/survey.txt')\n",
    "survey.info()"
   ]
  },
  {
   "cell_type": "markdown",
   "id": "ad4da19d-db45-44f3-9265-f14ab6ff9b11",
   "metadata": {},
   "source": [
    "Remove rows in survey that do not represent real observations"
   ]
  },
  {
   "cell_type": "code",
   "execution_count": 4,
   "id": "80518393-77ae-4544-bebb-f8a386855a31",
   "metadata": {},
   "outputs": [
    {
     "name": "stdout",
     "output_type": "stream",
     "text": [
      "24758\n"
     ]
    }
   ],
   "source": [
    "survey=survey[survey['ra']!=-999.0]\n",
    "print(len(survey))"
   ]
  },
  {
   "cell_type": "code",
   "execution_count": 5,
   "id": "7d7da818-c552-462a-b1a9-d0d48691ef62",
   "metadata": {},
   "outputs": [],
   "source": [
    "from astro import distance"
   ]
  },
  {
   "cell_type": "code",
   "execution_count": 6,
   "id": "53314fe9-e178-438a-9101-13003488e05a",
   "metadata": {},
   "outputs": [],
   "source": [
    "sky=[]\n",
    "d=[]\n",
    "for obs in survey:\n",
    "    xdist=1e50\n",
    "    isky=-99\n",
    "    for dark in darks:\n",
    "        dd=distance(obs['ra'],obs['dec'],dark['ra'],dark['dec'])\n",
    "        if dd<xdist:\n",
    "            xdist=dd\n",
    "            isky=dark['i']\n",
    "    d.append(xdist)\n",
    "    sky.append(isky)\n",
    "\n",
    "survey['Sky']=sky\n",
    "survey['d2sky']=d\n",
    "                      "
   ]
  },
  {
   "cell_type": "code",
   "execution_count": 7,
   "id": "c1bfd8cf-b896-41be-bd91-0230b8080a62",
   "metadata": {},
   "outputs": [
    {
     "data": {
      "text/html": [
       "<div><i>Table length=24758</i>\n",
       "<table id=\"table140264158625312\" class=\"table-striped table-bordered table-condensed\">\n",
       "<thead><tr><th>JD</th><th>observatory</th><th>target</th><th>group</th><th>tileid</th><th>index</th><th>ra</th><th>dec</th><th>pa</th><th>airmass</th><th>lunation</th><th>shadow_height</th><th>moon_dist</th><th>lst</th><th>exptime</th><th>totaltime</th><th>Sky</th><th>d2sky</th></tr></thead>\n",
       "<thead><tr><th>float64</th><th>str3</th><th>str12</th><th>str6</th><th>int64</th><th>int64</th><th>float64</th><th>float64</th><th>float64</th><th>float64</th><th>float64</th><th>float64</th><th>float64</th><th>float64</th><th>float64</th><th>float64</th><th>int64</th><th>float64</th></tr></thead>\n",
       "<tr><td>2459945.555724437</td><td>LCO</td><td>ORION_SPARSE</td><td>ORI</td><td>1001657</td><td>186</td><td>93.77620790852316</td><td>-3.2970094148192874</td><td>421.40087324569686</td><td>1.5237373455265273</td><td>0.717759999932579</td><td>505.56835196372475</td><td>61.80145548670625</td><td>3.3203582763361434</td><td>900.0</td><td>990.0000000000001</td><td>67</td><td>53.201752450316874</td></tr>\n",
       "<tr><td>2459945.56718277</td><td>LCO</td><td>ORION_SPARSE</td><td>ORI</td><td>1001639</td><td>168</td><td>91.84157496288847</td><td>-4.346719453574324</td><td>421.52984315768333</td><td>1.3795186511662731</td><td>0.717759999932579</td><td>668.3959321371212</td><td>60.2663590405647</td><td>3.5961111961553494</td><td>900.0</td><td>990.0000000000001</td><td>67</td><td>54.712999974141255</td></tr>\n",
       "<tr><td>2459945.578641103</td><td>LCO</td><td>ORION_SPARSE</td><td>ORI</td><td>1001631</td><td>160</td><td>91.78209505427789</td><td>-6.536020238325764</td><td>421.3585403438204</td><td>1.2852699512417967</td><td>0.717759999932579</td><td>839.559812658969</td><td>60.89570737692009</td><td>3.8718641160055993</td><td>900.0</td><td>990.0000000000001</td><td>67</td><td>56.83959218439318</td></tr>\n",
       "<tr><td>2459945.590099436</td><td>LCO</td><td>ORION_SPARSE</td><td>ORI</td><td>1001610</td><td>139</td><td>89.77546548509387</td><td>-9.780658947625739</td><td>421.5392405054998</td><td>1.181422137856117</td><td>0.717759999932579</td><td>972.3517377154984</td><td>60.140607743387605</td><td>4.147617035855849</td><td>900.0</td><td>990.0000000000001</td><td>67</td><td>60.49998024127596</td></tr>\n",
       "<tr><td>2459945.6015577693</td><td>LCO</td><td>ORION_SPARSE</td><td>ORI</td><td>1001625</td><td>154</td><td>91.72970664006093</td><td>-8.728140886864505</td><td>421.2249197203671</td><td>1.1701232797084387</td><td>0.717759999932579</td><td>1209.546510488979</td><td>61.57557919448619</td><td>4.423369955675056</td><td>900.0</td><td>990.0000000000001</td><td>67</td><td>58.97003552571539</td></tr>\n",
       "<tr><td>2459945.6130161025</td><td>LCO</td><td>ORION_SPARSE</td><td>ORI</td><td>1001666</td><td>195</td><td>93.84556088921427</td><td>-1.119512478537509</td><td>421.6837941645332</td><td>1.2311778128661433</td><td>0.717759999932579</td><td>1704.9377583619412</td><td>61.26488103630935</td><td>4.699122875525306</td><td>900.0</td><td>990.0000000000001</td><td>67</td><td>51.07584758579525</td></tr>\n",
       "<tr><td>2459945.6244744356</td><td>LCO</td><td>ORION_SPARSE</td><td>ORI</td><td>1001649</td><td>178</td><td>93.71923797855645</td><td>-5.479301275813587</td><td>421.15576845139617</td><td>1.1507679698582693</td><td>0.717759999932579</td><td>1746.681864350054</td><td>62.39302272549221</td><td>4.974875795375556</td><td>900.0</td><td>990.0000000000001</td><td>67</td><td>55.332156745267305</td></tr>\n",
       "<tr><td>2459945.6359327687</td><td>LCO</td><td>ORION_SPARSE</td><td>ORI</td><td>1001674</td><td>203</td><td>93.92909391254621</td><td>1.0524558462002438</td><td>422.0053631123282</td><td>1.1975068375388596</td><td>0.717759999932579</td><td>2326.401243718953</td><td>60.786382897261845</td><td>5.2506287152258055</td><td>900.0</td><td>990.0000000000001</td><td>67</td><td>48.95487457656194</td></tr>\n",
       "<tr><td>2459945.647391102</td><td>LCO</td><td>ORION_SPARSE</td><td>ORI</td><td>1001604</td><td>133</td><td>89.71573675792988</td><td>-11.976890678668799</td><td>421.51928576536056</td><td>1.0525031651919692</td><td>0.717759999932579</td><td>1811.43054978132</td><td>60.90269439330531</td><td>5.526381635045012</td><td>900.0</td><td>990.0000000000001</td><td>51</td><td>60.7168859420428</td></tr>\n",
       "<tr><td>2459945.658849435</td><td>LCO</td><td>ORION_SPARSE</td><td>ORI</td><td>1001640</td><td>169</td><td>93.67290510992413</td><td>-7.66568260577687</td><td>420.94782912817345</td><td>1.080337474131579</td><td>0.717759999932579</td><td>2166.93780839911</td><td>63.0363572208578</td><td>5.802134554895262</td><td>900.0</td><td>990.0000000000001</td><td>67</td><td>57.466632432431304</td></tr>\n",
       "<tr><td>...</td><td>...</td><td>...</td><td>...</td><td>...</td><td>...</td><td>...</td><td>...</td><td>...</td><td>...</td><td>...</td><td>...</td><td>...</td><td>...</td><td>...</td><td>...</td><td>...</td><td>...</td></tr>\n",
       "<tr><td>2461553.5877672466</td><td>LCO</td><td>FULLSKY</td><td>ALLSKY</td><td>1025613</td><td>2842</td><td>146.8421052631579</td><td>-31.348314606741578</td><td>0.0</td><td>1.5825757107323155</td><td>0.538716806174546</td><td>1970.461528989444</td><td>138.91210966532446</td><td>13.75288890429462</td><td>900.0</td><td>990.0000000000001</td><td>70</td><td>16.344118133292135</td></tr>\n",
       "<tr><td>2461553.5992255798</td><td>LCO</td><td>FULLSKY</td><td>ALLSKY</td><td>1023825</td><td>1054</td><td>188.57142857142856</td><td>19.213483146067425</td><td>0.0</td><td>1.6476096408840497</td><td>0.538716806174546</td><td>2999.407615770469</td><td>144.56163174825676</td><td>14.02864182414487</td><td>900.0</td><td>990.0000000000001</td><td>658</td><td>4.1563139197651235</td></tr>\n",
       "<tr><td>2461553.610683913</td><td>LCO</td><td>FULLSKY</td><td>ALLSKY</td><td>1023608</td><td>837</td><td>208.88888888888889</td><td>25.2808988764045</td><td>0.0</td><td>1.7244771599540654</td><td>0.538716806174546</td><td>4282.325020516428</td><td>125.04822437876157</td><td>14.30439474399512</td><td>900.0</td><td>990.0000000000001</td><td>582</td><td>1.1125451598110105</td></tr>\n",
       "<tr><td>2461554.5188452266</td><td>LCO</td><td>FULLSKY</td><td>ALLSKY</td><td>1023901</td><td>1130</td><td>182.1176470588235</td><td>17.191011235955063</td><td>0.0</td><td>1.4446601332658728</td><td>0.44167974748524436</td><td>1062.3200923923685</td><td>158.06045841737023</td><td>12.159941394192478</td><td>900.0</td><td>990.0000000000001</td><td>655</td><td>2.8374531154309395</td></tr>\n",
       "<tr><td>2461554.5303035597</td><td>LCO</td><td>MW1</td><td>MW</td><td>1003507</td><td>1809</td><td>134.187251229911</td><td>-56.378523629064055</td><td>50.020121049517485</td><td>1.4294521954039139</td><td>0.44167974748524436</td><td>1109.9206163608048</td><td>114.93261051089806</td><td>12.435694314011682</td><td>900.0</td><td>990.0000000000001</td><td>70</td><td>42.48769128155305</td></tr>\n",
       "<tr><td>2461554.541761893</td><td>LCO</td><td>MW1</td><td>MW</td><td>1003300</td><td>1602</td><td>134.31683494281657</td><td>-56.79107309716398</td><td>49.95773407305567</td><td>1.4901668018026455</td><td>0.44167974748524436</td><td>1303.698283151096</td><td>114.62765220553204</td><td>12.711447233861934</td><td>900.0</td><td>990.0000000000001</td><td>70</td><td>42.80433656276798</td></tr>\n",
       "<tr><td>2461554.553220226</td><td>LCO</td><td>MW1</td><td>MW</td><td>1002057</td><td>359</td><td>135.1397851995735</td><td>-59.261794199887234</td><td>49.562090234503266</td><td>1.5564440619963043</td><td>0.44167974748524436</td><td>1533.5304653131673</td><td>112.78064441854039</td><td>12.987200153712184</td><td>900.0</td><td>990.0000000000001</td><td>70</td><td>44.73597479831488</td></tr>\n",
       "<tr><td>2461554.564678559</td><td>LCO</td><td>MW1</td><td>MW</td><td>1002472</td><td>774</td><td>134.85638630969157</td><td>-58.439127546282336</td><td>49.698468281804665</td><td>1.6308384319314844</td><td>0.44167974748524436</td><td>1719.1058604317468</td><td>113.39953243931852</td><td>13.262953073562434</td><td>900.0</td><td>990.0000000000001</td><td>70</td><td>44.086264908030564</td></tr>\n",
       "<tr><td>2461554.576136892</td><td>LCO</td><td>FULLSKY</td><td>ALLSKY</td><td>1025500</td><td>2729</td><td>145.8227848101266</td><td>-27.30337078651687</td><td>0.0</td><td>1.5558449928620992</td><td>0.44167974748524436</td><td>1717.1334383647165</td><td>144.07013386008956</td><td>13.538705993381638</td><td>900.0</td><td>990.0000000000001</td><td>70</td><td>13.6723968421688</td></tr>\n",
       "<tr><td>2461554.5875952253</td><td>LCO</td><td>FULLSKY</td><td>ALLSKY</td><td>1023824</td><td>1053</td><td>184.28571428571428</td><td>19.213483146067425</td><td>0.0</td><td>1.6637616467108634</td><td>0.44167974748524436</td><td>2514.405342432033</td><td>155.20861036507335</td><td>13.81445891323189</td><td>900.0</td><td>990.0000000000001</td><td>655</td><td>0.7492675644848729</td></tr>\n",
       "</table></div>"
      ],
      "text/plain": [
       "<Table length=24758>\n",
       "        JD         observatory    target    ...  Sky        d2sky       \n",
       "     float64           str3       str12     ... int64      float64      \n",
       "------------------ ----------- ------------ ... ----- ------------------\n",
       " 2459945.555724437         LCO ORION_SPARSE ...    67 53.201752450316874\n",
       "  2459945.56718277         LCO ORION_SPARSE ...    67 54.712999974141255\n",
       " 2459945.578641103         LCO ORION_SPARSE ...    67  56.83959218439318\n",
       " 2459945.590099436         LCO ORION_SPARSE ...    67  60.49998024127596\n",
       "2459945.6015577693         LCO ORION_SPARSE ...    67  58.97003552571539\n",
       "2459945.6130161025         LCO ORION_SPARSE ...    67  51.07584758579525\n",
       "2459945.6244744356         LCO ORION_SPARSE ...    67 55.332156745267305\n",
       "2459945.6359327687         LCO ORION_SPARSE ...    67  48.95487457656194\n",
       " 2459945.647391102         LCO ORION_SPARSE ...    51   60.7168859420428\n",
       " 2459945.658849435         LCO ORION_SPARSE ...    67 57.466632432431304\n",
       "               ...         ...          ... ...   ...                ...\n",
       "2461553.5877672466         LCO      FULLSKY ...    70 16.344118133292135\n",
       "2461553.5992255798         LCO      FULLSKY ...   658 4.1563139197651235\n",
       " 2461553.610683913         LCO      FULLSKY ...   582 1.1125451598110105\n",
       "2461554.5188452266         LCO      FULLSKY ...   655 2.8374531154309395\n",
       "2461554.5303035597         LCO          MW1 ...    70  42.48769128155305\n",
       " 2461554.541761893         LCO          MW1 ...    70  42.80433656276798\n",
       " 2461554.553220226         LCO          MW1 ...    70  44.73597479831488\n",
       " 2461554.564678559         LCO          MW1 ...    70 44.086264908030564\n",
       " 2461554.576136892         LCO      FULLSKY ...    70   13.6723968421688\n",
       "2461554.5875952253         LCO      FULLSKY ...   655 0.7492675644848729"
      ]
     },
     "execution_count": 7,
     "metadata": {},
     "output_type": "execute_result"
    }
   ],
   "source": [
    "survey"
   ]
  },
  {
   "cell_type": "code",
   "execution_count": 27,
   "id": "94400845",
   "metadata": {},
   "outputs": [
    {
     "data": {
      "text/plain": [
       "(<Column name='group' dtype='str6' length=4>\n",
       " ALLSKY\n",
       "    MCs\n",
       "     MW\n",
       "    ORI,\n",
       " array([ 2342,  1845, 19489,  1082]))"
      ]
     },
     "execution_count": 27,
     "metadata": {},
     "output_type": "execute_result"
    }
   ],
   "source": [
    "np.unique(survey[\"group\"], return_counts=True)"
   ]
  },
  {
   "cell_type": "code",
   "execution_count": 28,
   "id": "87dac345",
   "metadata": {},
   "outputs": [
    {
     "data": {
      "text/plain": [
       "5.204444444444444"
      ]
     },
     "execution_count": 28,
     "metadata": {},
     "output_type": "execute_result"
    }
   ],
   "source": [
    "# (survey[\"group\"] == \"ORI\").sum() * 8/3600\n",
    "2342 * 8/3600"
   ]
  },
  {
   "cell_type": "code",
   "execution_count": 8,
   "id": "3daa18c1-5054-4bf9-a760-c3029006ae97",
   "metadata": {},
   "outputs": [
    {
     "data": {
      "image/png": "[encoded data removed]",
      "text/plain": [
       "<Figure size 432x432 with 1 Axes>"
      ]
     },
     "metadata": {
      "needs_background": "light"
     },
     "output_type": "display_data"
    }
   ],
   "source": [
    "plt.figure(1,(6,6))\n",
    "z=plt.hist(survey['d2sky'],100)\n",
    "plt.xlabel('Min. dist. to Sky (deg)',size=16)\n",
    "plt.ylabel('N',size=16)\n",
    "plt.tight_layout()\n",
    "plt.savefig('science2sky.png')"
   ]
  },
  {
   "cell_type": "code",
   "execution_count": 9,
   "id": "a99e8f2f-5154-4aaa-9891-718ad0082c31",
   "metadata": {},
   "outputs": [
    {
     "name": "stdout",
     "output_type": "stream",
     "text": [
      "128 0\n"
     ]
    }
   ],
   "source": [
    "pos,counts=np.unique(survey['Sky'],return_counts=True)\n",
    "print(len(pos),np.min(pos))\n",
    "xsum=np.sort(counts)"
   ]
  },
  {
   "cell_type": "code",
   "execution_count": 10,
   "id": "391510df-4fc8-4c01-9a0a-b8b460fe3d1d",
   "metadata": {},
   "outputs": [
    {
     "name": "stdout",
     "output_type": "stream",
     "text": [
      "[4.03909847e-05 4.03909847e-05 4.03909847e-05 4.03909847e-05\n",
      " 4.03909847e-05 4.03909847e-05 4.03909847e-05 4.03909847e-05\n",
      " 4.03909847e-05 4.03909847e-05 4.03909847e-05 4.03909847e-05\n",
      " 4.03909847e-05 4.03909847e-05 4.03909847e-05 4.03909847e-05\n",
      " 4.03909847e-05 4.03909847e-05 4.03909847e-05 4.03909847e-05\n",
      " 4.03909847e-05 4.03909847e-05 4.03909847e-05 4.03909847e-05\n",
      " 4.03909847e-05 4.03909847e-05 4.03909847e-05 4.03909847e-05\n",
      " 4.03909847e-05 4.03909847e-05 4.03909847e-05 4.03909847e-05\n",
      " 4.03909847e-05 8.07819695e-05 8.07819695e-05 8.07819695e-05\n",
      " 8.07819695e-05 8.07819695e-05 8.07819695e-05 8.07819695e-05\n",
      " 8.07819695e-05 8.07819695e-05 8.07819695e-05 8.07819695e-05\n",
      " 8.07819695e-05 8.07819695e-05 8.07819695e-05 8.07819695e-05\n",
      " 8.07819695e-05 1.21172954e-04 1.21172954e-04 1.21172954e-04\n",
      " 1.21172954e-04 1.21172954e-04 1.21172954e-04 1.21172954e-04\n",
      " 1.21172954e-04 1.21172954e-04 1.21172954e-04 1.21172954e-04\n",
      " 1.21172954e-04 1.21172954e-04 1.21172954e-04 1.21172954e-04\n",
      " 1.61563939e-04 1.61563939e-04 1.61563939e-04 1.61563939e-04\n",
      " 1.61563939e-04 1.61563939e-04 1.61563939e-04 1.61563939e-04\n",
      " 1.61563939e-04 2.01954924e-04 2.01954924e-04 2.01954924e-04\n",
      " 2.01954924e-04 2.01954924e-04 2.01954924e-04 2.01954924e-04\n",
      " 2.42345908e-04 2.42345908e-04 2.82736893e-04 2.82736893e-04\n",
      " 2.82736893e-04 2.82736893e-04 2.82736893e-04 3.23127878e-04\n",
      " 3.63518863e-04 4.03909847e-04 4.84691817e-04 5.25082802e-04\n",
      " 5.25082802e-04 5.65473786e-04 5.65473786e-04 6.46255756e-04\n",
      " 6.46255756e-04 6.86646740e-04 7.67428710e-04 7.67428710e-04\n",
      " 8.07819695e-04 8.88601664e-04 9.69383634e-04 9.69383634e-04\n",
      " 1.00977462e-03 1.00977462e-03 1.13094757e-03 1.13094757e-03\n",
      " 1.41368447e-03 1.93876727e-03 2.05994022e-03 2.38306810e-03\n",
      " 2.66580499e-03 3.19088779e-03 3.27166976e-03 4.52379029e-03\n",
      " 5.73551983e-03 6.05864771e-03 6.58373051e-03 8.80523467e-03\n",
      " 1.10267388e-02 3.12626222e-02 3.95023831e-02 7.26633815e-02\n",
      " 7.83989014e-02 9.66960174e-02 2.41861217e-01 3.55561839e-01]\n"
     ]
    }
   ],
   "source": [
    "foo=xsum/np.sum(xsum)\n",
    "print(foo)"
   ]
  },
  {
   "cell_type": "code",
   "execution_count": 11,
   "id": "03892839-ab07-4dc4-8de9-137b04c79082",
   "metadata": {},
   "outputs": [
    {
     "data": {
      "image/png": "[encoded data removed]",
      "text/plain": [
       "<Figure size 432x432 with 1 Axes>"
      ]
     },
     "metadata": {
      "needs_background": "light"
     },
     "output_type": "display_data"
    }
   ],
   "source": [
    "plt.figure(2,(6,6))\n",
    "plt.plot(foo)\n",
    "plt.xlabel('Sky position (not patch number)',size=16)\n",
    "plt.ylabel('Fraction of total',size=16)\n",
    "plt.tight_layout()\n",
    "plt.savefig('SkyFrac.png')"
   ]
  },
  {
   "cell_type": "code",
   "execution_count": 12,
   "id": "3f0c1851-d107-4a67-8221-3fc8f42b363e",
   "metadata": {},
   "outputs": [
    {
     "name": "stdout",
     "output_type": "stream",
     "text": [
      "             FULLSKY 2342\n",
      "                 LMC 1521\n",
      "                 MW1 9275\n",
      "                 MW2 9831\n",
      "               ORION  855\n",
      "        ORION_SPARSE  227\n",
      "                 SMC  324\n",
      "                THOR  383\n"
     ]
    }
   ],
   "source": [
    "targets,counts=np.unique(survey['target'],return_counts=True)\n",
    "i=0\n",
    "while i<len(targets):\n",
    "    print('%20s %4d' % (targets[i],counts[i]))\n",
    "    i+=1"
   ]
  },
  {
   "cell_type": "code",
   "execution_count": 13,
   "id": "aec2fb47-0507-4b3e-9461-5fb4e477f6da",
   "metadata": {},
   "outputs": [
    {
     "data": {
      "image/png": "[encoded data removed]",
      "text/plain": [
       "<Figure size 432x432 with 1 Axes>"
      ]
     },
     "metadata": {
      "needs_background": "light"
     },
     "output_type": "display_data"
    }
   ],
   "source": [
    "lmc=survey[survey['target']=='LMC']\n",
    "plt.figure(1,(6,6))\n",
    "z=plt.hist(lmc['d2sky'],100)\n",
    "plt.xlabel('Min. dist. to Sky (deg)',size=16)\n",
    "plt.ylabel('N',size=16)\n",
    "plt.tight_layout()\n",
    "plt.savefig('lmc.png')"
   ]
  },
  {
   "cell_type": "code",
   "execution_count": 14,
   "id": "21ee69eb-280d-481d-935d-01eb12e3d352",
   "metadata": {},
   "outputs": [
    {
     "data": {
      "image/png": "[encoded data removed]",
      "text/plain": [
       "<Figure size 432x432 with 1 Axes>"
      ]
     },
     "metadata": {
      "needs_background": "light"
     },
     "output_type": "display_data"
    }
   ],
   "source": [
    "foo=survey[survey['target']=='MW2']\n",
    "plt.figure(1,(6,6))\n",
    "z=plt.hist(foo['d2sky'],100)\n",
    "plt.xlabel('Min. dist. to Sky (deg)',size=16)\n",
    "plt.ylabel('N',size=16)\n",
    "plt.tight_layout()\n",
    "plt.savefig('mw2.png')"
   ]
  },
  {
   "cell_type": "code",
   "execution_count": 15,
   "id": "6c5b5463-493b-4418-b960-6738a90f86b4",
   "metadata": {},
   "outputs": [
    {
     "data": {
      "image/png": "[encoded data removed]",
      "text/plain": [
       "<Figure size 432x432 with 1 Axes>"
      ]
     },
     "metadata": {
      "needs_background": "light"
     },
     "output_type": "display_data"
    }
   ],
   "source": [
    "foo=survey[survey['target']=='FULLSKY']\n",
    "plt.figure(1,(6,6))\n",
    "z=plt.hist(foo['d2sky'],100)\n",
    "plt.xlabel('Min. dist. to Sky (deg)',size=16)\n",
    "plt.ylabel('N',size=16)\n",
    "plt.tight_layout()"
   ]
  },
  {
   "cell_type": "code",
   "execution_count": 16,
   "id": "a97f2039-0318-49ea-aeda-b0bbf3f0f00e",
   "metadata": {},
   "outputs": [
    {
     "data": {
      "image/png": "[encoded data removed]",
      "text/plain": [
       "<Figure size 432x432 with 1 Axes>"
      ]
     },
     "metadata": {
      "needs_background": "light"
     },
     "output_type": "display_data"
    }
   ],
   "source": [
    "foo=survey[survey['target']=='ORION']\n",
    "plt.figure(1,(6,6))\n",
    "z=plt.hist(foo['d2sky'],100)\n",
    "plt.xlabel('Min. dist. to Sky (deg)',size=16)\n",
    "plt.ylabel('N',size=16)\n",
    "plt.tight_layout()\n",
    "plt.savefig('orion.png')"
   ]
  },
  {
   "cell_type": "code",
   "execution_count": 17,
   "id": "a1040074-b1ea-498e-a6e0-0c83522702f2",
   "metadata": {},
   "outputs": [
    {
     "name": "stdout",
     "output_type": "stream",
     "text": [
      "                       FULLSKY  2342 127   21.5   22.3    14.8\n",
      "                           LMC  1521   1   34.4   34.4     2.5\n",
      "                           MW1  9275   9   44.3   43.5     8.6\n",
      "                           MW2  9831   6   43.8   43.6     6.9\n",
      "                         ORION   855   5   53.6   53.8     2.3\n",
      "                  ORION_SPARSE   227  10   47.5   48.5     6.5\n",
      "                           SMC   324   2   25.9   25.9     1.4\n",
      "                          THOR   383   2   43.9   43.5     2.0\n"
     ]
    }
   ],
   "source": [
    "for one in targets:\n",
    "    xfoo=survey[survey['target']==one]\n",
    "    num=np.unique(xfoo['Sky'])\n",
    "    # print(num)\n",
    "    num=len(num)\n",
    "    print('%30s %5d %3d %6.1f %6.1f  %6.1f' % (one,len(xfoo),num,np.median(xfoo['d2sky']),np.average(xfoo['d2sky']),np.std(xfoo['d2sky'])))"
   ]
  }
 ],
 "metadata": {
  "kernelspec": {
   "display_name": "Python 3.8.12 ('lvmdrp')",
   "language": "python",
   "name": "python3"
  },
  "language_info": {
   "codemirror_mode": {
    "name": "ipython",
    "version": 3
   },
   "file_extension": ".py",
   "mimetype": "text/x-python",
   "name": "python",
   "nbconvert_exporter": "python",
   "pygments_lexer": "ipython3",
   "version": "3.8.12"
  },
  "vscode": {
   "interpreter": {
    "hash": "75b7dc73e2cd5987d39e44d45f1d2594b18b07dc05e2cece7d250df00c95241b"
   }
  }
 },
 "nbformat": 4,
 "nbformat_minor": 5
}
