{
 "cells": [
  {
   "cell_type": "code",
   "execution_count": 1,
   "metadata": {},
   "outputs": [],
   "source": [
    "import os\n",
    "import numpy as np\n",
    "from datetime import timedelta\n",
    "\n",
    "from astropy.io import fits, ascii\n",
    "from astropy.table import Table\n",
    "from astropy import units as u\n",
    "from astropy.coordinates import SkyCoord, EarthLocation\n",
    "\n",
    "from skyfield.api import wgs84, load, Star\n",
    "from skyfield.framelib import ecliptic_frame\n",
    "\n",
    "from lvmdrp.core.constants import EPHEMERIS_PATH\n",
    "from lvmdrp.main import load_master_config"
   ]
  },
  {
   "cell_type": "code",
   "execution_count": 2,
   "metadata": {},
   "outputs": [
    {
     "data": {
      "text/html": [
       "<div><i>Table length=2342</i>\n",
       "<table id=\"table139809579739024\" class=\"table-striped table-bordered table-condensed\">\n",
       "<thead><tr><th>JD</th><th>observatory</th><th>target</th><th>group</th><th>tileid</th><th>index</th><th>ra</th><th>dec</th><th>pa</th><th>airmass</th><th>lunation</th><th>shadow_height</th><th>moon_dist</th><th>lst</th><th>exptime</th><th>totaltime</th><th>i</th><th>moon_sun_sep</th></tr></thead>\n",
       "<thead><tr><th>float64</th><th>str3</th><th>str12</th><th>str6</th><th>int64</th><th>int64</th><th>float64</th><th>float64</th><th>float64</th><th>float64</th><th>float64</th><th>float64</th><th>float64</th><th>float64</th><th>float64</th><th>float64</th><th>int64</th><th>float64</th></tr></thead>\n",
       "<tr><td>2459948.805059729</td><td>LCO</td><td>FULLSKY</td><td>ALLSKY</td><td>1024739</td><td>1968</td><td>129.43820224719101</td><td>-5.056179775280882</td><td>0.0</td><td>1.1230315971337637</td><td>0.9314728552535911</td><td>1017.4520707911919</td><td>64.10752178656843</td><td>9.517918542120606</td><td>900.0</td><td>990.0000000000001</td><td>44</td><td>42.96804290613094</td></tr>\n",
       "<tr><td>2459948.8165180623</td><td>LCO</td><td>FULLSKY</td><td>ALLSKY</td><td>1023968</td><td>1197</td><td>138.13953488372093</td><td>15.1685393258427</td><td>0.0</td><td>1.4136401088976378</td><td>0.9314728552535911</td><td>1015.5793299592212</td><td>63.145910661692916</td><td>9.793671461970856</td><td>900.0</td><td>990.0000000000001</td><td>45</td><td>42.96804290613094</td></tr>\n",
       "<tr><td>2459949.8051448795</td><td>LCO</td><td>FULLSKY</td><td>ALLSKY</td><td>1024516</td><td>1745</td><td>141.57303370786516</td><td>1.011235955056186</td><td>0.0</td><td>1.1557399289659196</td><td>0.9712185433583314</td><td>1003.5608431512785</td><td>60.58636348513556</td><td>9.585677570321907</td><td>900.0</td><td>990.0000000000001</td><td>65</td><td>44.16349263765874</td></tr>\n",
       "<tr><td>2459950.804167936</td><td>LCO</td><td>FULLSKY</td><td>ALLSKY</td><td>1023974</td><td>1203</td><td>163.2558139534884</td><td>15.1685393258427</td><td>0.0</td><td>1.4880082457030084</td><td>0.9934526605258615</td><td>1005.5890040932535</td><td>61.54968812186149</td><td>9.627876558123777</td><td>900.0</td><td>990.0000000000001</td><td>84</td><td>44.81181716655173</td></tr>\n",
       "<tr><td>2459951.5979621634</td><td>LCO</td><td>FULLSKY</td><td>ALLSKY</td><td>1025556</td><td>2785</td><td>133.84615384615384</td><td>-29.325842696629206</td><td>0.0</td><td>1.7091921894514037</td><td>0.9978511724445136</td><td>1013.7359791645517</td><td>60.12595675490734</td><td>4.731098092564692</td><td>900.0</td><td>990.0000000000001</td><td>85</td><td>44.938374437469456</td></tr>\n",
       "<tr><td>2459951.8042121595</td><td>LCO</td><td>FULLSKY</td><td>ALLSKY</td><td>1025551</td><td>2780</td><td>87.6923076923077</td><td>-29.325842696629206</td><td>0.0</td><td>1.5513166262968223</td><td>0.9978511724445136</td><td>1010.4672780352439</td><td>60.39029730700139</td><td>9.694650649713973</td><td>900.0</td><td>990.0000000000001</td><td>103</td><td>44.938374437469456</td></tr>\n",
       "<tr><td>2459953.8073639222</td><td>LCO</td><td>FULLSKY</td><td>ALLSKY</td><td>1025432</td><td>2661</td><td>97.77777777777777</td><td>-25.280898876404503</td><td>0.0</td><td>1.4136020345692777</td><td>0.9541877909433125</td><td>1037.1324471653768</td><td>60.32120685084244</td><td>9.90191970669354</td><td>900.0</td><td>990.0000000000001</td><td>125</td><td>43.657055608163915</td></tr>\n",
       "<tr><td>2459962.8345956104</td><td>LCO</td><td>FULLSKY</td><td>ALLSKY</td><td>1024359</td><td>1588</td><td>133.48314606741573</td><td>5.056179775280903</td><td>0.0</td><td>1.46700213389715</td><td>0.1872842849831461</td><td>1009.0105925320827</td><td>110.86407109550203</td><td>11.148658031411468</td><td>900.0</td><td>990.0000000000001</td><td>257</td><td>10.607715008386648</td></tr>\n",
       "<tr><td>2459963.8343955865</td><td>LCO</td><td>FULLSKY</td><td>ALLSKY</td><td>1024437</td><td>1666</td><td>133.48314606741573</td><td>3.0337078651685503</td><td>0.0</td><td>1.4435899104977301</td><td>0.10535488124849113</td><td>1012.978195147929</td><td>123.56441141408772</td><td>11.20955413930739</td><td>900.0</td><td>990.0000000000001</td><td>265</td><td>6.014203675900861</td></tr>\n",
       "<tr><td>2459964.834175915</td><td>LCO</td><td>FULLSKY</td><td>ALLSKY</td><td>1024514</td><td>1743</td><td>133.48314606741573</td><td>1.011235955056186</td><td>0.0</td><td>1.422959722582409</td><td>0.04382876189927987</td><td>1018.0043620809842</td><td>135.76668323607683</td><td>11.26997741262118</td><td>900.0</td><td>990.0000000000001</td><td>273</td><td>2.509596955021423</td></tr>\n",
       "<tr><td>...</td><td>...</td><td>...</td><td>...</td><td>...</td><td>...</td><td>...</td><td>...</td><td>...</td><td>...</td><td>...</td><td>...</td><td>...</td><td>...</td><td>...</td><td>...</td><td>...</td><td>...</td></tr>\n",
       "<tr><td>2461551.6121141003</td><td>LCO</td><td>FULLSKY</td><td>ALLSKY</td><td>1023678</td><td>907</td><td>201.9512195121951</td><td>23.258426966292138</td><td>0.0</td><td>1.6754298474484248</td><td>0.7210467869991267</td><td>4104.720813561818</td><td>114.04961943733014</td><td>14.207393569499255</td><td>900.0</td><td>990.0000000000001</td><td>24740</td><td>35.793367438788266</td></tr>\n",
       "<tr><td>2461551.6235724334</td><td>LCO</td><td>FULLSKY</td><td>ALLSKY</td><td>1023609</td><td>838</td><td>213.3333333333333</td><td>25.2808988764045</td><td>0.0</td><td>1.7184483848641592</td><td>0.7210467869991267</td><td>5166.812457140926</td><td>104.35441463652465</td><td>14.483146489318461</td><td>900.0</td><td>990.0000000000001</td><td>24741</td><td>35.793367438788266</td></tr>\n",
       "<tr><td>2461553.519017248</td><td>LCO</td><td>FULLSKY</td><td>ALLSKY</td><td>1023978</td><td>1207</td><td>180.0</td><td>15.1685393258427</td><td>0.0</td><td>1.3947529431016263</td><td>0.538716806174546</td><td>1058.6374092399037</td><td>153.3569409014676</td><td>12.098371385255207</td><td>900.0</td><td>990.0000000000001</td><td>24742</td><td>28.31209287836176</td></tr>\n",
       "<tr><td>2461553.5763089135</td><td>LCO</td><td>FULLSKY</td><td>ALLSKY</td><td>1025559</td><td>2788</td><td>147.69230769230768</td><td>-29.325842696629206</td><td>0.0</td><td>1.4691893222385162</td><td>0.538716806174546</td><td>1795.2525610864006</td><td>141.0273939581534</td><td>13.47713598444437</td><td>900.0</td><td>990.0000000000001</td><td>24747</td><td>28.31209287836176</td></tr>\n",
       "<tr><td>2461553.5877672466</td><td>LCO</td><td>FULLSKY</td><td>ALLSKY</td><td>1025613</td><td>2842</td><td>146.8421052631579</td><td>-31.348314606741578</td><td>0.0</td><td>1.5825757107323155</td><td>0.538716806174546</td><td>1970.461528989444</td><td>138.91210966532446</td><td>13.75288890429462</td><td>900.0</td><td>990.0000000000001</td><td>24748</td><td>28.31209287836176</td></tr>\n",
       "<tr><td>2461553.5992255798</td><td>LCO</td><td>FULLSKY</td><td>ALLSKY</td><td>1023825</td><td>1054</td><td>188.57142857142856</td><td>19.213483146067425</td><td>0.0</td><td>1.6476096408840497</td><td>0.538716806174546</td><td>2999.407615770469</td><td>144.56163174825676</td><td>14.02864182414487</td><td>900.0</td><td>990.0000000000001</td><td>24749</td><td>28.31209287836176</td></tr>\n",
       "<tr><td>2461553.610683913</td><td>LCO</td><td>FULLSKY</td><td>ALLSKY</td><td>1023608</td><td>837</td><td>208.88888888888889</td><td>25.2808988764045</td><td>0.0</td><td>1.7244771599540654</td><td>0.538716806174546</td><td>4282.325020516428</td><td>125.04822437876157</td><td>14.30439474399512</td><td>900.0</td><td>990.0000000000001</td><td>24750</td><td>28.31209287836176</td></tr>\n",
       "<tr><td>2461554.5188452266</td><td>LCO</td><td>FULLSKY</td><td>ALLSKY</td><td>1023901</td><td>1130</td><td>182.1176470588235</td><td>17.191011235955063</td><td>0.0</td><td>1.4446601332658728</td><td>0.44167974748524436</td><td>1062.3200923923685</td><td>158.06045841737023</td><td>12.159941394192478</td><td>900.0</td><td>990.0000000000001</td><td>24751</td><td>23.830076614803897</td></tr>\n",
       "<tr><td>2461554.576136892</td><td>LCO</td><td>FULLSKY</td><td>ALLSKY</td><td>1025500</td><td>2729</td><td>145.8227848101266</td><td>-27.30337078651687</td><td>0.0</td><td>1.5558449928620992</td><td>0.44167974748524436</td><td>1717.1334383647165</td><td>144.07013386008956</td><td>13.538705993381638</td><td>900.0</td><td>990.0000000000001</td><td>24756</td><td>23.830076614803897</td></tr>\n",
       "<tr><td>2461554.5875952253</td><td>LCO</td><td>FULLSKY</td><td>ALLSKY</td><td>1023824</td><td>1053</td><td>184.28571428571428</td><td>19.213483146067425</td><td>0.0</td><td>1.6637616467108634</td><td>0.44167974748524436</td><td>2514.405342432033</td><td>155.20861036507335</td><td>13.81445891323189</td><td>900.0</td><td>990.0000000000001</td><td>24757</td><td>23.830076614803897</td></tr>\n",
       "</table></div>"
      ],
      "text/plain": [
       "<Table length=2342>\n",
       "        JD         observatory  target ...   i      moon_sun_sep   \n",
       "     float64           str3     str12  ... int64      float64      \n",
       "------------------ ----------- ------- ... ----- ------------------\n",
       " 2459948.805059729         LCO FULLSKY ...    44  42.96804290613094\n",
       "2459948.8165180623         LCO FULLSKY ...    45  42.96804290613094\n",
       "2459949.8051448795         LCO FULLSKY ...    65  44.16349263765874\n",
       " 2459950.804167936         LCO FULLSKY ...    84  44.81181716655173\n",
       "2459951.5979621634         LCO FULLSKY ...    85 44.938374437469456\n",
       "2459951.8042121595         LCO FULLSKY ...   103 44.938374437469456\n",
       "2459953.8073639222         LCO FULLSKY ...   125 43.657055608163915\n",
       "2459962.8345956104         LCO FULLSKY ...   257 10.607715008386648\n",
       "2459963.8343955865         LCO FULLSKY ...   265  6.014203675900861\n",
       " 2459964.834175915         LCO FULLSKY ...   273  2.509596955021423\n",
       "               ...         ...     ... ...   ...                ...\n",
       "2461551.6121141003         LCO FULLSKY ... 24740 35.793367438788266\n",
       "2461551.6235724334         LCO FULLSKY ... 24741 35.793367438788266\n",
       " 2461553.519017248         LCO FULLSKY ... 24742  28.31209287836176\n",
       "2461553.5763089135         LCO FULLSKY ... 24747  28.31209287836176\n",
       "2461553.5877672466         LCO FULLSKY ... 24748  28.31209287836176\n",
       "2461553.5992255798         LCO FULLSKY ... 24749  28.31209287836176\n",
       " 2461553.610683913         LCO FULLSKY ... 24750  28.31209287836176\n",
       "2461554.5188452266         LCO FULLSKY ... 24751 23.830076614803897\n",
       " 2461554.576136892         LCO FULLSKY ... 24756 23.830076614803897\n",
       "2461554.5875952253         LCO FULLSKY ... 24757 23.830076614803897"
      ]
     },
     "execution_count": 2,
     "metadata": {},
     "output_type": "execute_result"
    }
   ],
   "source": [
    "# read survey tables\n",
    "lvm = ascii.read('_data-sky/survey.txt')\n",
    "lvm = lvm[lvm['ra']!=-999.0]\n",
    "\n",
    "lvm.add_column(np.arange(len(lvm), dtype=int), name=\"i\")\n",
    "lvm.add_column(np.arctan(lvm[\"lunation\"])*180/np.pi, name=\"moon_sun_sep\")\n",
    "\n",
    "TARGET_SURVEY = \"FULLSKY\"\n",
    "survey = lvm[lvm[\"target\"] == TARGET_SURVEY]\n",
    "survey\n"
   ]
  },
  {
   "cell_type": "code",
   "execution_count": 42,
   "metadata": {},
   "outputs": [],
   "source": [
    "# define observatory\n",
    "master_config = load_master_config(fmt=\"dict\")\n",
    "obs_pars = master_config[\"LVM_OBSERVATORIES\"][\"LCO\"]\n",
    "\n",
    "astros = load(EPHEMERIS_PATH)\n",
    "ts = load.timescale()\n",
    "sun, earth, moon = astros[\"sun\"], astros[\"earth\"], astros[\"moon\"]\n",
    "obs_topos = wgs84.latlon(latitude_degrees=obs_pars[\"lat\"], longitude_degrees=obs_pars[\"lon\"], elevation_m=obs_pars[\"height\"])\n",
    "obs = earth + obs_topos"
   ]
  },
  {
   "cell_type": "code",
   "execution_count": 43,
   "metadata": {},
   "outputs": [],
   "source": [
    "# define target\n",
    "idx = 10\n",
    "ra, dec = survey[\"ra\"][idx]*u.deg, survey[\"dec\"][idx]*u.deg\n",
    "time = ts.tt_jd(survey[\"JD\"][idx])\n",
    "\n",
    "\n",
    "obs = obs.at(time)\n",
    "\n",
    "target = Star(ra_hours=ra.to(u.hourangle), dec_degrees=dec.to(u.deg))\n",
    "\n",
    "tar = obs.observe(target).apparent()\n",
    "\n",
    "tar_lat, tar_lon, _ = tar.frame_latlon(ecliptic_frame)"
   ]
  },
  {
   "cell_type": "code",
   "execution_count": 47,
   "metadata": {},
   "outputs": [
    {
     "data": {
      "text/plain": [
       "(True, array([0, 1], dtype=int8))"
      ]
     },
     "execution_count": 47,
     "metadata": {},
     "output_type": "execute_result"
    }
   ],
   "source": [
    "from skyfield import almanac\n",
    "\n",
    "t_ini, t_fin = time - timedelta(days=2), time + timedelta(days=2)\n",
    "\n",
    "risings_and_settings, _ = almanac.find_discrete(t_ini, t_fin, almanac.sunrise_sunset(ephemeris=astros, topos=obs_topos))\n",
    "# assert all(rising == [0, 1])\n",
    "\n",
    "i = np.digitize(time.tt, bins=risings_and_settings.tt, right=False)\n",
    "risings_and_settings[i-1].tt <= time.tt < risings_and_settings[i].tt, _[[i-1,i]]"
   ]
  },
  {
   "cell_type": "code",
   "execution_count": 48,
   "metadata": {},
   "outputs": [
    {
     "data": {
      "text/plain": [
       "array([2459965.49008799, 2459965.63334396, 2459965.77659992,\n",
       "       2459965.91985589])"
      ]
     },
     "execution_count": 48,
     "metadata": {},
     "output_type": "execute_result"
    }
   ],
   "source": [
    "night_thirds = np.linspace(*risings_and_settings[[i-1, i]].tt, 4)\n",
    "night_thirds"
   ]
  },
  {
   "cell_type": "code",
   "execution_count": 49,
   "metadata": {},
   "outputs": [
    {
     "data": {
      "text/plain": [
       "3"
      ]
     },
     "execution_count": 49,
     "metadata": {},
     "output_type": "execute_result"
    }
   ],
   "source": [
    "np.digitize(time.tt, bins=night_thirds)"
   ]
  }
 ],
 "metadata": {
  "kernelspec": {
   "display_name": "lvmdrp",
   "language": "python",
   "name": "python3"
  },
  "language_info": {
   "codemirror_mode": {
    "name": "ipython",
    "version": 3
   },
   "file_extension": ".py",
   "mimetype": "text/x-python",
   "name": "python",
   "nbconvert_exporter": "python",
   "pygments_lexer": "ipython3",
   "version": "3.8.12"
  },
  "orig_nbformat": 4,
  "vscode": {
   "interpreter": {
    "hash": "75b7dc73e2cd5987d39e44d45f1d2594b18b07dc05e2cece7d250df00c95241b"
   }
  }
 },
 "nbformat": 4,
 "nbformat_minor": 2
}
